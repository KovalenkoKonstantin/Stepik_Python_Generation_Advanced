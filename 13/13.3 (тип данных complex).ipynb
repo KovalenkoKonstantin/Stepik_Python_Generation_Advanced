{
 "cells": [
  {
   "cell_type": "raw",
   "source": [
    "Мнимая единица i обладает интересным свойством: каждый раз при умножении на i она \"циклически\" проходит через 4 различных значения:\n",
    "\n",
    "1⋅i=i\n",
    "i⋅i=−1\n",
    "−1⋅i=−i\n",
    "−i⋅i=1"
   ],
   "metadata": {
    "collapsed": false
   },
   "id": "88f5cdd4477bae65"
  },
  {
   "cell_type": "raw",
   "source": [
    "Число z =a−bi называется сопряженным к числу z=a+bi. Произведение двух сопряженных чисел является вещественным числом"
   ],
   "metadata": {
    "collapsed": false
   },
   "id": "cfb86dc2c0c53c0c"
  },
  {
   "cell_type": "raw",
   "source": [
    "При умножении сопряженных комплексных чисел возникает i в степени 2, значение которого равно−1"
   ],
   "metadata": {
    "collapsed": false
   },
   "id": "47ed791c19f32d31"
  },
  {
   "cell_type": "code",
   "execution_count": null,
   "outputs": [],
   "source": [],
   "metadata": {
    "collapsed": false
   },
   "id": "da91f7b05b53e134"
  }
 ],
 "metadata": {
  "kernelspec": {
   "display_name": "Python 3",
   "language": "python",
   "name": "python3"
  },
  "language_info": {
   "codemirror_mode": {
    "name": "ipython",
    "version": 2
   },
   "file_extension": ".py",
   "mimetype": "text/x-python",
   "name": "python",
   "nbconvert_exporter": "python",
   "pygments_lexer": "ipython2",
   "version": "2.7.6"
  }
 },
 "nbformat": 4,
 "nbformat_minor": 5
}
