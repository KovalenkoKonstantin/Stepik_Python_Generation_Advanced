{
 "cells": [
  {
   "cell_type": "raw",
   "source": [
    "Мнимая единица i обладает интересным свойством: каждый раз при умножении на i она \"циклически\" проходит через 4 различных значения:\n",
    "\n",
    "1⋅i=i\n",
    "i⋅i=−1\n",
    "−1⋅i=−i\n",
    "−i⋅i=1"
   ],
   "metadata": {
    "collapsed": false
   },
   "id": "88f5cdd4477bae65"
  },
  {
   "cell_type": "raw",
   "source": [
    "Число z =a−bi называется сопряженным к числу z=a+bi. Произведение двух сопряженных чисел является вещественным числом"
   ],
   "metadata": {
    "collapsed": false
   },
   "id": "cfb86dc2c0c53c0c"
  },
  {
   "cell_type": "raw",
   "source": [
    "При умножении сопряженных комплексных чисел возникает i в степени 2, значение которого равно−1"
   ],
   "metadata": {
    "collapsed": false
   },
   "id": "47ed791c19f32d31"
  },
  {
   "cell_type": "markdown",
   "source": [
    "Комплексные числа в Python"
   ],
   "metadata": {
    "collapsed": false
   },
   "id": "ffb8aca8e2c11442"
  },
  {
   "cell_type": "raw",
   "source": [
    "В языке Python есть возможность работать с комплексными числами. Общая форма представления комплексного числа следующая: real + imag j, где\n",
    "\n",
    "real – вещественная часть комплексного числа;\n",
    "imag – мнимая часть комплексного числа, которая завершается символом j или J."
   ],
   "metadata": {
    "collapsed": false
   },
   "id": "e50a437584fb4b3c"
  },
  {
   "cell_type": "raw",
   "source": [
    " Обратите внимание: в Python используется буква j, а не i."
   ],
   "metadata": {
    "collapsed": false
   },
   "id": "3d1db7f5ac2c0f07"
  },
  {
   "cell_type": "code",
   "execution_count": 1,
   "outputs": [
    {
     "name": "stdout",
     "output_type": "stream",
     "text": [
      "(5+7j)\n",
      "1j\n",
      "(-3+5j)\n",
      "(1.5+3.2j)\n",
      "<class 'complex'>\n"
     ]
    }
   ],
   "source": [
    "z1 = 5 + 7j\n",
    "z2 = 1j\n",
    "z3 = -3 + 5J\n",
    "z4 = 1.5 + 3.2j\n",
    "\n",
    "print(z1, z2, z3, z4, sep='\\n')\n",
    "print(type(z1))"
   ],
   "metadata": {
    "collapsed": false,
    "ExecuteTime": {
     "end_time": "2024-08-01T12:40:47.419562200Z",
     "start_time": "2024-08-01T12:40:47.411633700Z"
    }
   },
   "id": "45964a176ec5923a"
  },
  {
   "cell_type": "markdown",
   "source": [
    "Создание комплексных чисел"
   ],
   "metadata": {
    "collapsed": false
   },
   "id": "cca66c91720ba786"
  },
  {
   "cell_type": "raw",
   "source": [
    "Комплексные числа можно создать с помощью литерала, как выше, а можно с помощью функции complex(), которая принимает два аргумента: вещественную и мнимую часть числа, либо строковое представление числа."
   ],
   "metadata": {
    "collapsed": false
   },
   "id": "bb5ffcfd604bcf49"
  },
  {
   "cell_type": "code",
   "execution_count": 2,
   "outputs": [
    {
     "name": "stdout",
     "output_type": "stream",
     "text": [
      "(-3+2j)\n",
      "(6-8j)\n",
      "2.5j\n",
      "(5+0j)\n",
      "(3+4j)\n"
     ]
    }
   ],
   "source": [
    "z1 = -3 + 2j  # создание на основе литерала\n",
    "z2 = complex(6, -8)  # z2 = 6 - 8j\n",
    "z3 = complex(0, 2.5)  # z3 = 2.5j\n",
    "z4 = complex(5, 0)  # z4 = 5 + 0j\n",
    "z5 = complex('3+4j')  # создание на основе строки\n",
    "\n",
    "print(z1, z2, z3, z4, z5, sep='\\n')"
   ],
   "metadata": {
    "collapsed": false,
    "ExecuteTime": {
     "end_time": "2024-08-01T12:41:42.820139300Z",
     "start_time": "2024-08-01T12:41:42.810126500Z"
    }
   },
   "id": "3b94b41d1c3857ad"
  },
  {
   "cell_type": "markdown",
   "source": [
    "Арифметические операции над комплексными числами"
   ],
   "metadata": {
    "collapsed": false
   },
   "id": "6d75d8c96d054be"
  },
  {
   "cell_type": "raw",
   "source": [
    "Тип данных complex отлично интегрирован в язык Python. С complex числами работают все привычные операции: сложение, вычитание, умножение, деление, возведение в степень."
   ],
   "metadata": {
    "collapsed": false
   },
   "id": "858fa2599589361d"
  },
  {
   "cell_type": "code",
   "execution_count": 3,
   "outputs": [
    {
     "name": "stdout",
     "output_type": "stream",
     "text": [
      "z1 + z2 = (-2+5j)\n",
      "z1 - z2 = (4+1j)\n",
      "z1 * z2 = (-9-7j)\n",
      "z1 / z2 = (0.23076923076923078-0.8461538461538461j)\n",
      "z1^20 = (9884965888-1512431616j)\n"
     ]
    }
   ],
   "source": [
    "z1 = 1 + 3j\n",
    "z2 = -3 + 2j\n",
    "\n",
    "print('z1 + z2 =', z1 + z2)\n",
    "print('z1 - z2 =', z1 - z2)\n",
    "print('z1 * z2 =', z1 * z2)\n",
    "print('z1 / z2 =', z1 / z2)\n",
    "print('z1^20 =', z1 ** 20)"
   ],
   "metadata": {
    "collapsed": false,
    "ExecuteTime": {
     "end_time": "2024-08-01T12:42:57.599930500Z",
     "start_time": "2024-08-01T12:42:57.590124100Z"
    }
   },
   "id": "4f2555a4a66aadf"
  },
  {
   "cell_type": "raw",
   "source": [
    "Мы также можем совершать арифметические операции над complex и целыми числами (миксовать complex, int, float)."
   ],
   "metadata": {
    "collapsed": false
   },
   "id": "d90db242f86b45e8"
  },
  {
   "cell_type": "code",
   "execution_count": 4,
   "outputs": [
    {
     "name": "stdout",
     "output_type": "stream",
     "text": [
      "(6+3j)\n",
      "(-1+3j)\n",
      "(3+9j)\n",
      "(0.5+1.5j)\n"
     ]
    }
   ],
   "source": [
    "z = 1 + 3j\n",
    "\n",
    "print(z + 5)\n",
    "print(z - 2)\n",
    "print(3 * z)\n",
    "print(z / 2)"
   ],
   "metadata": {
    "collapsed": false,
    "ExecuteTime": {
     "end_time": "2024-08-01T12:43:46.239202100Z",
     "start_time": "2024-08-01T12:43:46.229606600Z"
    }
   },
   "id": "e873b3ef94999684"
  },
  {
   "cell_type": "markdown",
   "source": [
    "Методы и свойства комплексных чисел"
   ],
   "metadata": {
    "collapsed": false
   },
   "id": "142e6386a91f2798"
  },
  {
   "cell_type": "raw",
   "source": [
    "Методы и свойства комплексных чисел\n",
    "Для получения действительной и мнимой частей комплексного числа используются свойства real и imag"
   ],
   "metadata": {
    "collapsed": false
   },
   "id": "4d3aa43dbce099f4"
  },
  {
   "cell_type": "code",
   "execution_count": 5,
   "outputs": [
    {
     "name": "stdout",
     "output_type": "stream",
     "text": [
      "Действительная часть = 3.0\n",
      "Мнимая часть = 4.0\n"
     ]
    }
   ],
   "source": [
    "z = 3 + 4j\n",
    "\n",
    "print('Действительная часть =', z.real)\n",
    "print('Мнимая часть =', z.imag)"
   ],
   "metadata": {
    "collapsed": false,
    "ExecuteTime": {
     "end_time": "2024-08-01T12:44:17.631109600Z",
     "start_time": "2024-08-01T12:44:17.623132900Z"
    }
   },
   "id": "3e5e4de7e2a095d"
  },
  {
   "cell_type": "raw",
   "source": [
    "Python представляет комплексное число как два вещественных числа, поэтому при выводе у нас появились выражения 3.0 и 4.0 вместо 3 и 4."
   ],
   "metadata": {
    "collapsed": false
   },
   "id": "bd7155cab95a8154"
  },
  {
   "cell_type": "raw",
   "source": [
    "Для нахождения сопряженного комплексного числа, можно использовать метод conjugate()."
   ],
   "metadata": {
    "collapsed": false
   },
   "id": "3e71cef0899c7a9e"
  },
  {
   "cell_type": "code",
   "execution_count": 6,
   "outputs": [
    {
     "name": "stdout",
     "output_type": "stream",
     "text": [
      "Сопряженное число = (3-4j)\n"
     ]
    }
   ],
   "source": [
    "z = 3 + 4j\n",
    "\n",
    "print('Сопряженное число =', z.conjugate())"
   ],
   "metadata": {
    "collapsed": false,
    "ExecuteTime": {
     "end_time": "2024-08-01T12:45:06.375065300Z",
     "start_time": "2024-08-01T12:45:06.366575100Z"
    }
   },
   "id": "903ba2a5af48e27c"
  },
  {
   "cell_type": "code",
   "execution_count": 7,
   "outputs": [
    {
     "name": "stdout",
     "output_type": "stream",
     "text": [
      "Модуль числа = 5.0\n"
     ]
    }
   ],
   "source": [
    "z = 3 + 4j\n",
    "\n",
    "print('Модуль числа =', abs(z))"
   ],
   "metadata": {
    "collapsed": false,
    "ExecuteTime": {
     "end_time": "2024-08-01T12:48:42.163782700Z",
     "start_time": "2024-08-01T12:48:42.154801900Z"
    }
   },
   "id": "7cbbb499417a8080"
  },
  {
   "cell_type": "raw",
   "source": [
    "Встроенный модуль math работает с вещественными числами. Для работы с комплексными числами есть модуль cmath. Модуль cmath включает дополнительные функции для использования комплексных чисел."
   ],
   "metadata": {
    "collapsed": false
   },
   "id": "24248c15ce48db51"
  },
  {
   "cell_type": "code",
   "execution_count": 8,
   "outputs": [
    {
     "name": "stdout",
     "output_type": "stream",
     "text": [
      "0.982793723247329\n",
      "(3.605551275463989, 0.982793723247329)\n"
     ]
    }
   ],
   "source": [
    "import cmath\n",
    "\n",
    "z = 2 + 3j\n",
    "print(cmath.phase(z))  # полярный угол\n",
    "print(cmath.polar(z))  # полярные координаты"
   ],
   "metadata": {
    "collapsed": false,
    "ExecuteTime": {
     "end_time": "2024-08-01T12:49:04.806278400Z",
     "start_time": "2024-08-01T12:49:04.797410500Z"
    }
   },
   "id": "4e5a00e7ef80be13"
  },
  {
   "cell_type": "raw",
   "source": [
    "Модуль cmath содержит следующие категории функций:\n",
    "\n",
    "Экспоненциальные и логарифмические функции\n",
    "\n",
    "Квадратные корни\n",
    "\n",
    "Тригонометрические функции и их обратные\n",
    "\n",
    "Гиперболические функции и их обратные"
   ],
   "metadata": {
    "collapsed": false
   },
   "id": "209c1c3f669afc7"
  },
  {
   "cell_type": "raw",
   "source": [
    "Даны два комплексных числа. Напишите программу, которая вычисляет и выводит их сумму, разность и произведение.\n",
    "\n",
    "Формат входных данных\n",
    "На вход программе подается два комплексных числа, каждое на отдельной строке."
   ],
   "metadata": {
    "collapsed": false
   },
   "id": "9c79ed7d8f006ab1"
  },
  {
   "cell_type": "code",
   "execution_count": null,
   "outputs": [],
   "source": [
    "x = complex(input())\n",
    "y = complex(input())\n",
    "\n",
    "print(f'{x} + {y} = {x + y}')\n",
    "print(f'{x} - {y} = {x - y}')\n",
    "print(f'{x} * {y} = {x * y}')"
   ],
   "metadata": {
    "collapsed": false
   },
   "id": "6b7dcb7e39ac081"
  },
  {
   "cell_type": "raw",
   "source": [
    "Комплексные числа хранятся в списке numbers. Дополните приведенный код так, чтобы он вывел комплексное число с наибольшим модулем и сам модуль числа на отдельных строках.\n",
    "\n",
    "Примечание. Модуль комплексного числа можно вычислить с помощью встроенной функции abs()."
   ],
   "metadata": {
    "collapsed": false
   },
   "id": "4c0b7f570468bba1"
  },
  {
   "cell_type": "code",
   "execution_count": 18,
   "outputs": [
    {
     "name": "stdout",
     "output_type": "stream",
     "text": [
      "(-20+15j)\n",
      "25.0\n"
     ]
    }
   ],
   "source": [
    "numbers = [3 + 4j, 3 + 1j, -7 + 3j, 4 + 8j, -8 + 10j, -3 + 2j, 3 - 2j, -9 + 9j, -1 - 1j, -1 - 10j, -20 + 15j, -21 + 1j,\n",
    "           1j, -3 + 8j, 4 - 6j, 8 + 2j, 2 + 3j]\n",
    "\n",
    "s = {i: abs(i) for i in numbers}\n",
    "# print(s)\n",
    "x = 0\n",
    "y = 0\n",
    "for a, b in s.items():\n",
    "    if b > x:\n",
    "        x = b\n",
    "        y = a\n",
    "\n",
    "print(y)\n",
    "print(x)"
   ],
   "metadata": {
    "collapsed": false,
    "ExecuteTime": {
     "end_time": "2024-08-01T13:08:59.507678500Z",
     "start_time": "2024-08-01T13:08:59.505763100Z"
    }
   },
   "id": "d84efbc9a1935a61"
  },
  {
   "cell_type": "raw",
   "source": [
    "Дано натуральное число n и два комплексных числа z1,z2. Напишите программу, которая вычисляет и выводит значение выражения\n",
    "z1 в степени n + z2 встепени n + сопряженное z1 в степени n + сопряженное z2 в степени n+1.\n",
    "\n",
    "Формат входных данных\n",
    "На вход программе подается натуральное число n и два комплексных числа z1 и z2, каждое на отдельной строке.\n",
    "\n",
    "Формат выходных данных\n",
    "Программа должна вывести ответ на задачу.\n",
    "\n",
    "Примечание. Число сопряженное z1  является сопряженным к числу z1."
   ],
   "metadata": {
    "collapsed": false
   },
   "id": "c7c7062c7cfa1616"
  },
  {
   "cell_type": "code",
   "execution_count": 20,
   "outputs": [
    {
     "name": "stdout",
     "output_type": "stream",
     "text": [
      "(-72+60j)\n"
     ]
    }
   ],
   "source": [
    "n, z1, z2 = complex(input()), complex(input()), complex(input())\n",
    "# n, z1, z2 = 2, 2 + 3j, 1 + 4j\n",
    "\n",
    "x = pow(z1, n) + pow(z2, n) + pow(z1.conjugate(), n) + pow(z2.conjugate(), n + 1)\n",
    "print(x)"
   ],
   "metadata": {
    "collapsed": false,
    "ExecuteTime": {
     "end_time": "2024-08-01T13:19:38.583559700Z",
     "start_time": "2024-08-01T13:19:38.571076500Z"
    }
   },
   "id": "2747446cb835002e"
  }
 ],
 "metadata": {
  "kernelspec": {
   "display_name": "Python 3",
   "language": "python",
   "name": "python3"
  },
  "language_info": {
   "codemirror_mode": {
    "name": "ipython",
    "version": 2
   },
   "file_extension": ".py",
   "mimetype": "text/x-python",
   "name": "python",
   "nbconvert_exporter": "python",
   "pygments_lexer": "ipython2",
   "version": "2.7.6"
  }
 },
 "nbformat": 4,
 "nbformat_minor": 5
}
