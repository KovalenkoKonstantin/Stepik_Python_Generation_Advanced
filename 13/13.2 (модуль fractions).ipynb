{
 "cells": [
  {
   "cell_type": "markdown",
   "source": [
    "Рациональное число"
   ],
   "metadata": {
    "collapsed": false
   },
   "id": "e1b84f1bbf0465c8"
  },
  {
   "cell_type": "raw",
   "source": [
    "Рациональное число – это число, которое можно представить в виде дроби m/n, где m,n соответственно, числитель и знаменатель, которые имеют целочисленное значение, при этом знаменатель не равен нулю. "
   ],
   "metadata": {
    "collapsed": false
   },
   "id": "156766755230e5cd"
  },
  {
   "cell_type": "raw",
   "source": [
    "Знаменатель дроби показывает количество равных частей, а числитель дроби показывает, сколько из них взято."
   ],
   "metadata": {
    "collapsed": false
   },
   "id": "6afc48c258df79cf"
  },
  {
   "cell_type": "markdown",
   "source": [
    "Тип данных Fraction"
   ],
   "metadata": {
    "collapsed": false
   },
   "id": "f1bc6f4d235bc040"
  },
  {
   "cell_type": "raw",
   "source": [
    "Для работы с рациональными числами в Python используется тип данных Fraction. Тип данных Fraction как и Decimal реализован программно, поэтому он в разы медленнее встроенных числовых типов данных int и float. Тип данных Fraction неизменяемый. Операции над данными этого типа приводят к созданию новых объектов, при этом старые не меняются."
   ],
   "metadata": {
    "collapsed": false
   },
   "id": "ebbac145d44e5ce8"
  },
  {
   "cell_type": "raw",
   "source": [
    "Создать Fraction число можно несколькими способами:\n",
    "\n",
    "из целых чисел, передав значения числителя и знаменателя дроби,\n",
    "из строки на основании десятичного представления;\n",
    "из строки на основании обыкновенной дроби;\n",
    "из числа с плавающей точкой (не рекомендуется)."
   ],
   "metadata": {
    "collapsed": false
   },
   "id": "7a964875914f6a04"
  },
  {
   "cell_type": "code",
   "execution_count": 1,
   "outputs": [
    {
     "name": "stdout",
     "output_type": "stream",
     "text": [
      "3/4\n",
      "11/20\n",
      "1/9\n"
     ]
    }
   ],
   "source": [
    "from fractions import Fraction\n",
    "\n",
    "num1 = Fraction(3, 4)  # 3 - числитель, 4 - знаменатель\n",
    "num2 = Fraction('0.55')\n",
    "num3 = Fraction('1/9')\n",
    "\n",
    "print(num1, num2, num3, sep='\\n')"
   ],
   "metadata": {
    "collapsed": false,
    "ExecuteTime": {
     "end_time": "2024-07-31T09:26:33.878281800Z",
     "start_time": "2024-07-31T09:26:33.869235Z"
    }
   },
   "id": "d19dc1b4bbee8104"
  },
  {
   "cell_type": "raw",
   "source": [
    "Нужно быть очень внимательным при создании Fraction чисел из чисел с плавающей точкой (float), потому что float числа округляются внутри до ближайшего возможного, а Fraction об этом ничего не знает, поэтому копирует содержимое float"
   ],
   "metadata": {
    "collapsed": false
   },
   "id": "9e4f3556a7fde07"
  },
  {
   "cell_type": "code",
   "execution_count": 3,
   "outputs": [
    {
     "name": "stdout",
     "output_type": "stream",
     "text": [
      "6124895493223875/18014398509481984\n",
      "17/50\n"
     ]
    }
   ],
   "source": [
    "from fractions import Fraction\n",
    "\n",
    "num = Fraction(0.34)\n",
    "num1 = Fraction('0.34')\n",
    "\n",
    "print(num)\n",
    "print(num1)"
   ],
   "metadata": {
    "collapsed": false,
    "ExecuteTime": {
     "end_time": "2024-07-31T09:27:58.648688100Z",
     "start_time": "2024-07-31T09:27:58.641059100Z"
    }
   },
   "id": "ab634a23c89e25e"
  },
  {
   "cell_type": "raw",
   "source": [
    "Не рекомендуется создавать Fraction числа из float чисел. В Fraction попадет уже неправильно округленное число. Создавать Fraction числа нужно из целых чисел, либо из строк!"
   ],
   "metadata": {
    "collapsed": false
   },
   "id": "a0a92e6fb217fa3e"
  },
  {
   "cell_type": "code",
   "execution_count": 4,
   "outputs": [
    {
     "name": "stdout",
     "output_type": "stream",
     "text": [
      "1/2\n",
      "3/4\n",
      "1/4\n"
     ]
    }
   ],
   "source": [
    "from fractions import Fraction\n",
    "\n",
    "num1 = Fraction(5, 10)\n",
    "num2 = Fraction('75/100')\n",
    "num3 = Fraction('0.25')\n",
    "\n",
    "print(num1, num2, num3, sep='\\n')"
   ],
   "metadata": {
    "collapsed": false,
    "ExecuteTime": {
     "end_time": "2024-07-31T09:28:21.457231200Z",
     "start_time": "2024-07-31T09:28:21.448256800Z"
    }
   },
   "id": "7e7abb37204dd523"
  },
  {
   "cell_type": "code",
   "execution_count": 5,
   "outputs": [
    {
     "name": "stdout",
     "output_type": "stream",
     "text": [
      "5\n",
      "1\n"
     ]
    }
   ],
   "source": [
    "from fractions import Fraction\n",
    "\n",
    "num1 = Fraction(5, 1)  # 5/1 = 5\n",
    "num2 = Fraction(23, 23)  # 23/23 = 1\n",
    "\n",
    "print(num1, num2, sep='\\n')"
   ],
   "metadata": {
    "collapsed": false,
    "ExecuteTime": {
     "end_time": "2024-07-31T09:28:40.104628700Z",
     "start_time": "2024-07-31T09:28:40.095080900Z"
    }
   },
   "id": "6fb47b14b246a1b3"
  },
  {
   "cell_type": "markdown",
   "source": [
    "Сравнение Fraction чисел"
   ],
   "metadata": {
    "collapsed": false
   },
   "id": "af60bc66417e8ae8"
  },
  {
   "cell_type": "raw",
   "source": [
    "Fraction числа можно сравнивать между собой точно так же, как и любые другие числа. Доступны 6 основных операторов сравнения:\n",
    "\n",
    ">: больше;\n",
    "<: меньше;\n",
    ">=: больше либо равно;\n",
    "<=: меньше либо равно;\n",
    "==:  в точности равно;\n",
    "!=: не равно."
   ],
   "metadata": {
    "collapsed": false
   },
   "id": "52ce52732aeb3204"
  },
  {
   "cell_type": "code",
   "execution_count": 6,
   "outputs": [
    {
     "name": "stdout",
     "output_type": "stream",
     "text": [
      "True\n",
      "True\n",
      "False\n",
      "False\n",
      "True\n",
      "False\n"
     ]
    }
   ],
   "source": [
    "from fractions import Fraction\n",
    "\n",
    "num1 = Fraction(1, 2)  # 1/2\n",
    "num2 = Fraction(15, 30)  # 15/30=1/2\n",
    "num3 = Fraction(3, 5)  # 3/5\n",
    "num4 = Fraction(5, 3)  # 5/3\n",
    "num5 = 1\n",
    "num6 = 0.8\n",
    "\n",
    "print(num1 == num2)\n",
    "print(num1 != num4)\n",
    "print(num2 > num3)\n",
    "print(num4 <= num1)\n",
    "print(num1 < num5)\n",
    "print(num6 > num4)"
   ],
   "metadata": {
    "collapsed": false,
    "ExecuteTime": {
     "end_time": "2024-07-31T09:29:15.536827800Z",
     "start_time": "2024-07-31T09:29:15.528848500Z"
    }
   },
   "id": "377bea2f2eb2c22d"
  },
  {
   "cell_type": "markdown",
   "source": [
    "Арифметические операции над Fraction числами"
   ],
   "metadata": {
    "collapsed": false
   },
   "id": "2a065d7d194717d5"
  },
  {
   "cell_type": "code",
   "execution_count": 7,
   "outputs": [
    {
     "name": "stdout",
     "output_type": "stream",
     "text": [
      "23/30\n",
      "-17/30\n",
      "1/15\n",
      "3/20\n"
     ]
    }
   ],
   "source": [
    "from fractions import Fraction\n",
    "\n",
    "num1 = Fraction('1/10')\n",
    "num2 = Fraction('2/3')\n",
    "\n",
    "print(num1 + num2)\n",
    "print(num1 - num2)\n",
    "print(num1 * num2)\n",
    "print(num1 / num2)"
   ],
   "metadata": {
    "collapsed": false,
    "ExecuteTime": {
     "end_time": "2024-07-31T09:29:57.264026600Z",
     "start_time": "2024-07-31T09:29:57.254047300Z"
    }
   },
   "id": "9124aa2dc8fd9aff"
  },
  {
   "cell_type": "raw",
   "source": [
    "Мы также можем совершать арифметические операции над Fraction и целыми числами (миксовать Fraction и int), но не рекомендуется смешивать их с float."
   ],
   "metadata": {
    "collapsed": false
   },
   "id": "643af91f6723d997"
  },
  {
   "cell_type": "code",
   "execution_count": 8,
   "outputs": [
    {
     "name": "stdout",
     "output_type": "stream",
     "text": [
      "11/8\n",
      "-5/8\n",
      "3/4\n",
      "81/4096\n"
     ]
    }
   ],
   "source": [
    "from fractions import Fraction\n",
    "\n",
    "num = Fraction('3/8')\n",
    "\n",
    "print(num + 1)\n",
    "print(num - 1)\n",
    "print(num * 2)\n",
    "print(num ** 4)"
   ],
   "metadata": {
    "collapsed": false,
    "ExecuteTime": {
     "end_time": "2024-07-31T09:30:16.951153700Z",
     "start_time": "2024-07-31T09:30:16.941180200Z"
    }
   },
   "id": "a06432f15f81bad8"
  },
  {
   "cell_type": "raw",
   "source": [
    "Обратите внимание на то, что операция возведения в степень (**) для Fraction чисел может возвращать вещественный результат."
   ],
   "metadata": {
    "collapsed": false
   },
   "id": "bb02239cd00dd75d"
  },
  {
   "cell_type": "code",
   "execution_count": 9,
   "outputs": [
    {
     "name": "stdout",
     "output_type": "stream",
     "text": [
      "0.6123724356957945\n"
     ]
    }
   ],
   "source": [
    "from fractions import Fraction\n",
    "\n",
    "num1 = Fraction('3/8')\n",
    "num2 = Fraction('1/2')\n",
    "\n",
    "print(num1 ** num2)"
   ],
   "metadata": {
    "collapsed": false,
    "ExecuteTime": {
     "end_time": "2024-07-31T09:30:59.526159100Z",
     "start_time": "2024-07-31T09:30:59.516936900Z"
    }
   },
   "id": "ff422e20c8b12bd6"
  },
  {
   "cell_type": "markdown",
   "source": [
    "Математические функции"
   ],
   "metadata": {
    "collapsed": false
   },
   "id": "e218e01f53b6a7f"
  },
  {
   "cell_type": "raw",
   "source": [
    "Fraction числа можно передавать как аргументы функций, ожидающих float. Тогда они будут преобразованы во float. К примеру, модуль math, оперирующий float числами, может работать и с Fraction числами."
   ],
   "metadata": {
    "collapsed": false
   },
   "id": "1a975d061b194bc5"
  },
  {
   "cell_type": "code",
   "execution_count": 10,
   "outputs": [
    {
     "name": "stdout",
     "output_type": "stream",
     "text": [
      "1.2\n",
      "0.4994813555186418\n",
      "0.6744739152943241\n"
     ]
    }
   ],
   "source": [
    "from fractions import Fraction\n",
    "from math import *\n",
    "\n",
    "num1 = Fraction('1.44')\n",
    "num2 = Fraction('0.523')\n",
    "\n",
    "print(sqrt(num1))\n",
    "print(sin(num2))\n",
    "print(log(num1 + num2))"
   ],
   "metadata": {
    "collapsed": false,
    "ExecuteTime": {
     "end_time": "2024-07-31T09:31:49.788908400Z",
     "start_time": "2024-07-31T09:31:49.777962500Z"
    }
   },
   "id": "8348b886e6f7879a"
  },
  {
   "cell_type": "raw",
   "source": [
    "Важно понимать, что результатом работы функций модуля math являются float числа, а не Fraction."
   ],
   "metadata": {
    "collapsed": false
   },
   "id": "2dbfa40f0db52f06"
  },
  {
   "cell_type": "markdown",
   "source": [
    "Свойства numerator и denominator"
   ],
   "metadata": {
    "collapsed": false
   },
   "id": "8135819bb704f2f2"
  },
  {
   "cell_type": "raw",
   "source": [
    "Для получения числителя и знаменателя Fraction числа используются свойства numerator и denominator."
   ],
   "metadata": {
    "collapsed": false
   },
   "id": "609627db97f7cd4f"
  },
  {
   "cell_type": "code",
   "execution_count": 11,
   "outputs": [
    {
     "name": "stdout",
     "output_type": "stream",
     "text": [
      "Числитель дроби равен: 5\n",
      "Знаменатель дроби равен: 16\n"
     ]
    }
   ],
   "source": [
    "from fractions import Fraction\n",
    "\n",
    "num = Fraction('5/16')\n",
    "\n",
    "print('Числитель дроби равен:', num.numerator)\n",
    "print('Знаменатель дроби равен:', num.denominator)"
   ],
   "metadata": {
    "collapsed": false,
    "ExecuteTime": {
     "end_time": "2024-07-31T09:32:37.072004600Z",
     "start_time": "2024-07-31T09:32:37.061210Z"
    }
   },
   "id": "4c68c9750749a32"
  },
  {
   "cell_type": "raw",
   "source": [
    "В Python 3.8 появился метод as_integer_ratio(), который возвращает кортеж, состоящий из числителя и знаменателя данного Fraction числа."
   ],
   "metadata": {
    "collapsed": false
   },
   "id": "d6d3db1ff71d5607"
  },
  {
   "cell_type": "code",
   "execution_count": 12,
   "outputs": [
    {
     "name": "stdout",
     "output_type": "stream",
     "text": [
      "(-5, 16)\n"
     ]
    }
   ],
   "source": [
    "from fractions import Fraction\n",
    "\n",
    "num = Fraction('-5/16')\n",
    "\n",
    "print(num.as_integer_ratio())"
   ],
   "metadata": {
    "collapsed": false,
    "ExecuteTime": {
     "end_time": "2024-07-31T09:32:54.827012200Z",
     "start_time": "2024-07-31T09:32:54.818510700Z"
    }
   },
   "id": "2237a43d05cb8925"
  },
  {
   "cell_type": "markdown",
   "source": [
    "Метод limit_denominator()"
   ],
   "metadata": {
    "collapsed": false
   },
   "id": "40fd13cdd9047606"
  },
  {
   "cell_type": "raw",
   "source": [
    "Метод limit_denominator() возвращает самую близкую к данному числу рациональную дробь, чей знаменатель не превосходит переданного аргумента."
   ],
   "metadata": {
    "collapsed": false
   },
   "id": "c77b8de2ee5fb64d"
  },
  {
   "cell_type": "code",
   "execution_count": 13,
   "outputs": [
    {
     "name": "stdout",
     "output_type": "stream",
     "text": [
      "PI = 3.141592653589793\n",
      "No limit = 3141592653589793/1000000000000000\n",
      "3\n",
      "16/5\n",
      "22/7\n",
      "267/85\n",
      "311/99\n",
      "355/113\n",
      "3126535/995207\n"
     ]
    }
   ],
   "source": [
    "from fractions import Fraction\n",
    "import math\n",
    "\n",
    "print('PI =', math.pi)\n",
    "\n",
    "num = Fraction(str(math.pi))\n",
    "\n",
    "print('No limit =', num)\n",
    "\n",
    "for d in [1, 5, 50, 90, 100, 500, 1000000]:\n",
    "    limited = num.limit_denominator(d)\n",
    "    print(limited)"
   ],
   "metadata": {
    "collapsed": false,
    "ExecuteTime": {
     "end_time": "2024-07-31T09:33:21.146516300Z",
     "start_time": "2024-07-31T09:33:21.136227100Z"
    }
   },
   "id": "abf2e287ecad396f"
  },
  {
   "cell_type": "raw",
   "source": [
    "Метод limit_denominator() позволяет получить очень точные рациональные приближения иррациональных чисел, что очень удобно во многих математических задачах."
   ],
   "metadata": {
    "collapsed": false
   },
   "id": "a264832520251aa9"
  },
  {
   "cell_type": "code",
   "execution_count": 14,
   "outputs": [
    {
     "name": "stdout",
     "output_type": "stream",
     "text": [
      "17/10\n",
      "1/10\n"
     ]
    }
   ],
   "source": [
    "from fractions import Fraction as F\n",
    "\n",
    "num1 = F('1/5') + F('3/2')\n",
    "num2 = F('1/4') * F('2/5')\n",
    "\n",
    "print(num1)\n",
    "print(num2)"
   ],
   "metadata": {
    "collapsed": false,
    "ExecuteTime": {
     "end_time": "2024-07-31T09:34:31.180915Z",
     "start_time": "2024-07-31T09:34:31.169881300Z"
    }
   },
   "id": "6aa62f3e9bba3485"
  },
  {
   "cell_type": "raw",
   "source": [
    "В Python нельзя совершать арифметические операции (+, -, *, /) между типами Decimal и Fraction. "
   ],
   "metadata": {
    "collapsed": false
   },
   "id": "ed8026766b3971f4"
  },
  {
   "cell_type": "code",
   "execution_count": 15,
   "outputs": [
    {
     "ename": "TypeError",
     "evalue": "unsupported operand type(s) for +: 'decimal.Decimal' and 'Fraction'",
     "output_type": "error",
     "traceback": [
      "\u001B[1;31m---------------------------------------------------------------------------\u001B[0m",
      "\u001B[1;31mTypeError\u001B[0m                                 Traceback (most recent call last)",
      "Cell \u001B[1;32mIn[15], line 7\u001B[0m\n\u001B[0;32m      4\u001B[0m num1 \u001B[38;5;241m=\u001B[39m Decimal(\u001B[38;5;124m'\u001B[39m\u001B[38;5;124m12.5\u001B[39m\u001B[38;5;124m'\u001B[39m)\n\u001B[0;32m      5\u001B[0m num2 \u001B[38;5;241m=\u001B[39m Fraction(\u001B[38;5;241m19\u001B[39m, \u001B[38;5;241m3\u001B[39m)\n\u001B[1;32m----> 7\u001B[0m \u001B[38;5;28mprint\u001B[39m(\u001B[43mnum1\u001B[49m\u001B[43m \u001B[49m\u001B[38;5;241;43m+\u001B[39;49m\u001B[43m \u001B[49m\u001B[43mnum2\u001B[49m)\n",
      "\u001B[1;31mTypeError\u001B[0m: unsupported operand type(s) for +: 'decimal.Decimal' and 'Fraction'"
     ]
    }
   ],
   "source": [
    "from decimal import Decimal\n",
    "from fractions import Fraction\n",
    "\n",
    "num1 = Decimal('12.5')\n",
    "num2 = Fraction(19, 3)\n",
    "\n",
    "print(num1 + num2)"
   ],
   "metadata": {
    "collapsed": false,
    "ExecuteTime": {
     "end_time": "2024-07-31T09:34:51.621748300Z",
     "start_time": "2024-07-31T09:34:51.378796600Z"
    }
   },
   "id": "8a21b265e3926582"
  },
  {
   "cell_type": "raw",
   "source": [
    "Десятичные числа хранятся в списке numbers в виде строк. Дополните приведенный код, чтобы он для каждого десятичного числа вывел его представление в виде обыкновенной дроби в формате:\n",
    "\n",
    "десятичное число = обыкновенная дробь"
   ],
   "metadata": {
    "collapsed": false
   },
   "id": "5c5c69fddf08e513"
  },
  {
   "cell_type": "code",
   "execution_count": 23,
   "outputs": [
    {
     "name": "stdout",
     "output_type": "stream",
     "text": [
      "6.34 = 317/50\n",
      "4.08 = 102/25\n",
      "3.04 = 76/25\n",
      "7.49 = 749/100\n",
      "4.45 = 89/20\n",
      "5.39 = 539/100\n",
      "7.82 = 391/50\n",
      "2.76 = 69/25\n",
      "0.71 = 71/100\n",
      "1.97 = 197/100\n",
      "2.54 = 127/50\n",
      "3.67 = 367/100\n",
      "0.14 = 7/50\n",
      "4.29 = 429/100\n",
      "1.84 = 46/25\n",
      "4.07 = 407/100\n",
      "7.26 = 363/50\n",
      "9.37 = 937/100\n",
      "8.11 = 811/100\n",
      "4.30 = 43/10\n",
      "7.16 = 179/25\n",
      "2.46 = 123/50\n",
      "1.27 = 127/100\n",
      "0.29 = 29/100\n",
      "5.12 = 128/25\n",
      "4.02 = 201/50\n",
      "6.95 = 139/20\n",
      "1.62 = 81/50\n",
      "2.26 = 113/50\n",
      "0.45 = 9/20\n",
      "6.91 = 691/100\n",
      "7.39 = 739/100\n",
      "0.52 = 13/25\n",
      "1.88 = 47/25\n",
      "8.38 = 419/50\n",
      "0.75 = 3/4\n",
      "0.32 = 8/25\n",
      "4.81 = 481/100\n",
      "3.31 = 331/100\n",
      "4.63 = 463/100\n",
      "7.84 = 196/25\n",
      "2.25 = 9/4\n",
      "1.10 = 11/10\n",
      "3.35 = 67/20\n",
      "2.05 = 41/20\n",
      "7.87 = 787/100\n",
      "2.40 = 12/5\n",
      "1.20 = 6/5\n",
      "2.58 = 129/50\n",
      "2.46 = 123/50\n"
     ]
    }
   ],
   "source": [
    "from fractions import Fraction\n",
    "\n",
    "numbers = ['6.34', '4.08', '3.04', '7.49', '4.45', '5.39', '7.82', '2.76', '0.71', '1.97', '2.54', '3.67', '0.14',\n",
    "           '4.29', '1.84', '4.07', '7.26', '9.37', '8.11', '4.30', '7.16', '2.46', '1.27', '0.29', '5.12', '4.02',\n",
    "           '6.95', '1.62', '2.26', '0.45', '6.91', '7.39', '0.52', '1.88', '8.38', '0.75', '0.32', '4.81', '3.31',\n",
    "           '4.63', '7.84', '2.25', '1.10', '3.35', '2.05', '7.87', '2.40', '1.20', '2.58', '2.46']\n",
    "\n",
    "for i in numbers:\n",
    "    print(f'{i} = {Fraction(i)}', end='\\n')"
   ],
   "metadata": {
    "collapsed": false,
    "ExecuteTime": {
     "end_time": "2024-07-31T09:41:10.957389400Z",
     "start_time": "2024-07-31T09:41:10.954002300Z"
    }
   },
   "id": "ff054ddfcee31f7e"
  },
  {
   "cell_type": "raw",
   "source": [
    "Десятичные числа, разделенные символом пробела, хранятся в строковой переменной s. Дополните приведенный код, чтобы он вывел сумму наибольшего и наименьшего числа в виде обыкновенной дроби."
   ],
   "metadata": {
    "collapsed": false
   },
   "id": "5bc8fb3c98d6e39e"
  },
  {
   "cell_type": "code",
   "execution_count": 26,
   "outputs": [
    {
     "name": "stdout",
     "output_type": "stream",
     "text": [
      "997021/100000\n"
     ]
    }
   ],
   "source": [
    "from fractions import Fraction\n",
    "\n",
    "s = '0.78 4.3 9.6 3.88 7.08 5.88 0.23 4.65 2.79 0.90 4.23 2.15 3.24 8.57 0.10 8.57 1.49 5.64 3.63 8.36 1.56 6.67 1.46 5.26 4.83 7.13 1.22 1.02 7.82 9.97 5.40 9.79 9.82 2.78 2.96 0.07 1.72 7.24 7.84 9.23 1.71 6.24 5.78 5.37 0.03 9.60 8.86 2.73 5.83 6.50 0.123 0.00021'\n",
    "\n",
    "mx = Fraction(max(s.split()))\n",
    "mn = Fraction(min(s.split()))\n",
    "\n",
    "print(mx + mn)"
   ],
   "metadata": {
    "collapsed": false,
    "ExecuteTime": {
     "end_time": "2024-07-31T09:46:44.153519900Z",
     "start_time": "2024-07-31T09:46:44.150529200Z"
    }
   },
   "id": "c0cb369c17408793"
  },
  {
   "cell_type": "code",
   "execution_count": 27,
   "outputs": [
    {
     "name": "stdout",
     "output_type": "stream",
     "text": [
      "997021/100000\n"
     ]
    }
   ],
   "source": [
    "from fractions import Fraction\n",
    "\n",
    "s = '0.78 4.3 9.6 3.88 7.08 5.88 0.23 4.65 2.79 0.90 4.23 2.15 3.24 8.57 0.10 8.57 1.49 5.64 3.63 8.36 1.56 6.67 1.46 5.26 4.83 7.13 1.22 1.02 7.82 9.97 5.40 9.79 9.82 2.78 2.96 0.07 1.72 7.24 7.84 9.23 1.71 6.24 5.78 5.37 0.03 9.60 8.86 2.73 5.83 6.50 0.123 0.00021'\n",
    "\n",
    "numbers = [Fraction(num) for num in s.split()]\n",
    "\n",
    "print(max(numbers) + min(numbers))"
   ],
   "metadata": {
    "collapsed": false,
    "ExecuteTime": {
     "end_time": "2024-07-31T09:47:18.482092200Z",
     "start_time": "2024-07-31T09:47:18.471227600Z"
    }
   },
   "id": "91c26b0a82e39ade"
  },
  {
   "cell_type": "raw",
   "source": [
    "Даны два натуральных числа m и n. Напишите программу, которая сокращает дробь m/n   и выводит ее.\n",
    "\n",
    "Формат входных данных\n",
    "На вход программе подается два натуральных числа, числитель и знаменатель дроби, каждое на отдельной строке."
   ],
   "metadata": {
    "collapsed": false
   },
   "id": "c59247b765275e48"
  },
  {
   "cell_type": "code",
   "execution_count": null,
   "outputs": [],
   "source": [
    "from fractions import Fraction\n",
    "\n",
    "m, n = int(input()), int(input())\n",
    "\n",
    "print(Fraction(m, n))"
   ],
   "metadata": {
    "collapsed": false
   },
   "id": "9350fa9a57a7dd03"
  },
  {
   "cell_type": "raw",
   "source": [
    "Даны две дроби в формате a/b. Напишите программу, которая вычисляет и выводит их сумму, разность, произведение и частное.\n",
    "\n",
    "Формат входных данных\n",
    "На вход программе подаются две ненулевые дроби, каждая на отдельной строке.\n",
    "\n",
    "Формат выходных данных\n",
    "Программа должна вывести сумму, разность, произведение и частное двух дробей.\n",
    "\n",
    "Примечание. Обратите внимание на третий тест: исходные дроби сокращать не нужно, а результат нужно."
   ],
   "metadata": {
    "collapsed": false
   },
   "id": "fba8bb3db5916a04"
  },
  {
   "cell_type": "code",
   "execution_count": 31,
   "outputs": [
    {
     "name": "stdout",
     "output_type": "stream",
     "text": [
      "5/10 + 10/5 = 5/2\n",
      "5/10 - 10/5 = -3/2\n",
      "5/10 * 10/5 = 1\n",
      "5/10 / 10/5 = 1/4\n"
     ]
    }
   ],
   "source": [
    "from fractions import Fraction\n",
    "\n",
    "a, b = input(), input()\n",
    "print(f'{a} + {b} = {Fraction(a) + Fraction(b)}', '\\n'\n",
    "                                                  f'{a} - {b} = {Fraction(a) - Fraction(b)}', '\\n'\n",
    "                                                                                              f'{a} * {b} = {Fraction(a) * Fraction(b)}',\n",
    "      '\\n'\n",
    "      f'{a} / {b} = {Fraction(a) / Fraction(b)}', sep='')"
   ],
   "metadata": {
    "collapsed": false,
    "ExecuteTime": {
     "end_time": "2024-07-31T09:59:29.673734400Z",
     "start_time": "2024-07-31T09:59:22.509884900Z"
    }
   },
   "id": "f0b7bfb217fa1520"
  },
  {
   "cell_type": "raw",
   "source": [
    "На вход программе подается натуральное число n. Напишите программу, которая вычисляет и выводит рациональное число, равное значению выражения \n",
    "1/(1 в степени 2)+1/(2 в степени 2)+1/(3 в степени 2)+1/(4 в степени 2)+...1/(n в степени 2)\n",
    "\n",
    "Формат входных данных\n",
    "На вход программе подается натуральное число n.\n",
    "\n",
    "Формат выходных данных\n",
    "Программа должна вывести ответ на задачу.\n",
    "\n",
    "Примечание 1. Результирующая дробь должна быть несократимой."
   ],
   "metadata": {
    "collapsed": false
   },
   "id": "2a1b8b628f31ac97"
  },
  {
   "cell_type": "code",
   "execution_count": null,
   "outputs": [],
   "source": [
    "from fractions import Fraction\n",
    "\n",
    "# Чтение входного значения\n",
    "n = int(input())\n",
    "\n",
    "# Инициализация суммы в виде дроби\n",
    "sum_fraction = Fraction(0)\n",
    "\n",
    "# Вычисление суммы\n",
    "for i in range(1, n + 1):\n",
    "    sum_fraction += Fraction(1, i**2)\n",
    "\n",
    "# Вывод результата\n",
    "print(sum_fraction)"
   ],
   "metadata": {
    "collapsed": false
   },
   "id": "e29353d0f9e94ae"
  },
  {
   "cell_type": "raw",
   "source": [
    "На вход программе подается натуральное число n. Напишите программу, которая вычисляет и выводит рациональное число, равное значению выражения \n",
    "1/1!+1/2!+1/3!+1/4!+...1/n!\n",
    "\n",
    "Формат входных данных\n",
    "На вход программе подается натуральное число n.\n",
    "\n",
    "Формат выходных данных\n",
    "Программа должна вывести ответ на задачу.\n",
    "\n",
    "Примечание 1. Результирующая дробь должна быть несократимой.\n",
    "\n",
    "Примечание 2. Для вычисления факториала можно использовать функцию factorial из модуля math."
   ],
   "metadata": {
    "collapsed": false
   },
   "id": "f858de4fd0bbdc4e"
  },
  {
   "cell_type": "code",
   "execution_count": null,
   "outputs": [],
   "source": [
    "from fractions import Fraction\n",
    "from math import factorial\n",
    "\n",
    "n = int(input())\n",
    "\n",
    "sum_fraction = Fraction(0)\n",
    "\n",
    "for i in range(1, n + 1):\n",
    "    sum_fraction += Fraction(1, factorial(i))\n",
    "\n",
    "print(sum_fraction)"
   ],
   "metadata": {
    "collapsed": false
   },
   "id": "ab17e92fa5f56316"
  },
  {
   "cell_type": "raw",
   "source": [
    "Дима учится в седьмом классе и сейчас они проходят обыкновенные дроби с натуральными числителем и знаменателем. Вчера на уроке математики Дима узнал, что дробь называется правильной, если ее числитель меньше знаменателя, и несократимой, если нет равной ей дроби с меньшими натуральными числителем и знаменателем.\n",
    "\n",
    "Дима очень любит математику, поэтому дома он долго экспериментировал, придумывая и решая разные задачки с правильными несократимыми дробями. Одну из этих задач Дима предлагает решить вам с помощью компьютера.\n",
    "\n",
    "На вход программе подается натуральное число n. Напишите программу, которая находит наибольшую правильную несократимую дробь с суммой числителя и знаменателя равной n.\n",
    "\n",
    "Формат входных данных\n",
    "На вход программе подается натуральное число n.\n",
    "\n",
    "Формат выходных данных\n",
    "Программа должна вывести ответ на задачу.\n",
    "\n",
    "Примечание. Возможно вам потребуется функция gcd(), которая позволяет находить наибольший общий делитель (НОД) двух чисел. Функция реализована в модуле math."
   ],
   "metadata": {
    "collapsed": false
   },
   "id": "78993bca9cc36b08"
  },
  {
   "cell_type": "code",
   "execution_count": null,
   "outputs": [],
   "source": [
    "from math import gcd\n",
    "\n",
    "n = int(input())\n",
    "\n",
    "numerator = 0\n",
    "denominator = 1\n",
    "\n",
    "for k in range(1, n):\n",
    "    num = k\n",
    "    den = n - k\n",
    "    # Проверка, является ли дробь несократимой\n",
    "    if gcd(num, den) == 1:\n",
    "        # Проверка, является ли дробь правильной\n",
    "        if num < den:\n",
    "            # Сравнение дробей\n",
    "            if (numerator / denominator) < (num / den):\n",
    "                numerator = num\n",
    "                denominator = den\n",
    "\n",
    "print(f\"{numerator}/{denominator}\")"
   ],
   "metadata": {
    "collapsed": false
   },
   "id": "458f5b6e269068a4"
  },
  {
   "cell_type": "raw",
   "source": [
    "На вход программе подается натуральное число n. Напишите программу, которая выводит в порядке возрастания все несократимые дроби, заключённые между 0 и 1, знаменатель которых не превосходит n.\n",
    "\n",
    "Формат входных данных\n",
    "На вход программе подается натуральное число n,n>1.\n",
    "\n",
    "Формат выходных данных\n",
    "Программа должна вывести ответ на задачу.\n",
    "\n",
    "Примечание. Возможно вам потребуется функция gcd(), которая позволяет находить наибольший общий делитель (НОД) двух чисел. Функция реализована в модуле math."
   ],
   "metadata": {
    "collapsed": false
   },
   "id": "2ba63252cf2d5066"
  },
  {
   "cell_type": "code",
   "execution_count": null,
   "outputs": [],
   "source": [
    "from math import gcd\n",
    "\n",
    "n = int(input())\n",
    "\n",
    "fractions = []\n",
    "\n",
    "# Перебор знаменателей\n",
    "for d in range(2, n + 1):\n",
    "    # Перебор числителей\n",
    "    for num in range(1, d):\n",
    "        # Проверка на несократимость\n",
    "        if gcd(num, d) == 1:\n",
    "            fractions.append((num, d))\n",
    "\n",
    "# Сортировка дробей по значению (числитель/знаменатель)\n",
    "fractions.sort(key=lambda x: x[0] / x[1])\n",
    "\n",
    "for num, den in fractions:\n",
    "    print(f\"{num}/{den}\")"
   ],
   "metadata": {
    "collapsed": false
   },
   "id": "ca40384e0962b270"
  },
  {
   "cell_type": "code",
   "execution_count": null,
   "outputs": [],
   "source": [
    "from fractions import Fraction\n",
    "\n",
    "numbers = set()\n",
    "\n",
    "for i in range(2, int(input()) + 1):\n",
    "    for j in range(1, i):\n",
    "        numbers.add(Fraction(j, i))\n",
    "        \n",
    "print(*sorted(numbers), sep='\\n')"
   ],
   "metadata": {
    "collapsed": false
   },
   "id": "2910e82cdd250a27"
  }
 ],
 "metadata": {
  "kernelspec": {
   "display_name": "Python 3",
   "language": "python",
   "name": "python3"
  },
  "language_info": {
   "codemirror_mode": {
    "name": "ipython",
    "version": 2
   },
   "file_extension": ".py",
   "mimetype": "text/x-python",
   "name": "python",
   "nbconvert_exporter": "python",
   "pygments_lexer": "ipython2",
   "version": "2.7.6"
  }
 },
 "nbformat": 4,
 "nbformat_minor": 5
}
