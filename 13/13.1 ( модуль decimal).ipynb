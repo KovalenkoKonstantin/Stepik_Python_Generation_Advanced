{
 "cells": [
  {
   "cell_type": "raw",
   "source": [
    "В Python есть три дополнительных числовых типа данных:\n",
    "\n",
    "Decimal – десятичное число, для выполнения точных расчетов;\n",
    "Fraction – число, представляющее собой обыкновенную дробь, с заданным числителем и знаменателем;\n",
    "Complex – комплексное число."
   ],
   "metadata": {
    "collapsed": false
   },
   "id": "289fba1a0d846cff"
  },
  {
   "cell_type": "raw",
   "source": [
    "тип данных Decimal, аналог типа данных float на случай более точных вычислений."
   ],
   "metadata": {
    "collapsed": false
   },
   "id": "66d4a12f40ff2a25"
  },
  {
   "cell_type": "code",
   "execution_count": 1,
   "outputs": [
    {
     "name": "stdout",
     "output_type": "stream",
     "text": [
      "YES\n"
     ]
    }
   ],
   "source": [
    "if 0.3 == 0.3:\n",
    "    print('YES')\n",
    "else:\n",
    "    print('NO')"
   ],
   "metadata": {
    "collapsed": false,
    "ExecuteTime": {
     "end_time": "2024-07-30T10:12:31.575554300Z",
     "start_time": "2024-07-30T10:12:31.570094400Z"
    }
   },
   "id": "7107c55b8853758c"
  },
  {
   "cell_type": "code",
   "execution_count": 50,
   "outputs": [
    {
     "name": "stdout",
     "output_type": "stream",
     "text": [
      "NO\n"
     ]
    }
   ],
   "source": [
    "num = 0.1 + 0.1 + 0.1\n",
    "\n",
    "if num == 0.3:\n",
    "    print('YES')\n",
    "else:\n",
    "    print('NO')"
   ],
   "metadata": {
    "collapsed": false,
    "ExecuteTime": {
     "end_time": "2024-07-30T10:45:51.674425100Z",
     "start_time": "2024-07-30T10:45:51.670445400Z"
    }
   },
   "id": "4281814a748a8dc8"
  },
  {
   "cell_type": "raw",
   "source": [
    "в переменной num хранится что-то типа 0.30000000000000004."
   ],
   "metadata": {
    "collapsed": false
   },
   "id": "bc08794f18c8da86"
  },
  {
   "cell_type": "raw",
   "source": [
    "Из-за ограничений в сохранении точного значения чисел даже простейшие математические операции могут выдавать ошибочный результат. Поэтому, чтобы сравнивать два float числа, мы должны использовать такой код:"
   ],
   "metadata": {
    "collapsed": false
   },
   "id": "e85dbe3ee20b80b"
  },
  {
   "cell_type": "code",
   "execution_count": 43,
   "outputs": [
    {
     "name": "stdout",
     "output_type": "stream",
     "text": [
      "YES\n"
     ]
    }
   ],
   "source": [
    "num = 0.1 + 0.1 + 0.1\n",
    "eps = 0.000000001  # точность сравнения\n",
    "\n",
    "if abs(num - 0.3) < eps:  # число num отличается от числа 0.3 менее чем 0.000000001\n",
    "    print('YES')\n",
    "else:\n",
    "    print('NO')"
   ],
   "metadata": {
    "collapsed": false,
    "ExecuteTime": {
     "end_time": "2024-07-30T10:45:07.134084300Z",
     "start_time": "2024-07-30T10:45:07.130046Z"
    }
   },
   "id": "ae8aac5103316913"
  },
  {
   "cell_type": "raw",
   "source": [
    "Не стоит сравнивать float числа с помощью оператора ==. Для сравнения float чисел нужно использовать указанный выше код."
   ],
   "metadata": {
    "collapsed": false
   },
   "id": "bbc61aeece22670c"
  },
  {
   "cell_type": "markdown",
   "source": [
    "Тип данных Decimal"
   ],
   "metadata": {
    "collapsed": false
   },
   "id": "76144d5223f44eb9"
  },
  {
   "cell_type": "raw",
   "source": [
    "Тип данных Decimal – это класс из стандартного модуля decimal. Он представляет собой число с плавающей точкой, как и float. Однако Decimal имеет ряд существенных отличий от float.\n",
    "\n",
    "Тип Decimal создан, чтобы операции над вещественными числами в компьютере выполнялись как в математике, и равенство 0.1+0.1+0.1==0.3 было верным.\n",
    "\n",
    "Точность результатов арифметических действий очень важна для научных вычислений, в сфере финансов и бизнеса. Для таких задач тип данных float не подходит.\n",
    "\n",
    "В Python тип данных float реализован по стандарту IEEE-754 как число с плавающей точкой двойной точности (64 бита) с основанием экспоненты равным 2. Реализация таких чисел заложена прямо в железо любого современного процессора. Поэтому float в Python работает как аналогичный тип данных double в таких языках программирования как С#, С++, Java и т.д. И имеет такие же ограничения и «странности». Так как float поддерживается аппаратно, быстродействие при использовании этого типа данных сравнительно велико."
   ],
   "metadata": {
    "collapsed": false
   },
   "id": "c045b9a04156c7e8"
  },
  {
   "cell_type": "raw",
   "source": [
    "Тип данных Decimal – число с плавающей точкой с основанием экспоненты 10. Он реализован по стандарту IBM: General Decimal Arithmetic Specification, в свою очередь основанному на стандартах IEEE.\n",
    "\n",
    "Тип данных Decimal реализован программно, поэтому он в разы медленнее типа данных float, реализованного аппаратно. Сам тип данных Decimal написан на языке С.\n",
    "\n",
    "Тип данных Decimal оперирует числами с произвольной – задаваемой программистом, но конечной точностью. По умолчанию точность составляет 28 десятичных знаков."
   ],
   "metadata": {
    "collapsed": false
   },
   "id": "d62567bb601841ce"
  },
  {
   "cell_type": "raw",
   "source": [
    "Тип данных Decimal неизменяемый. Операции над ним приводят к созданию новых объектов, при этом старые не меняются."
   ],
   "metadata": {
    "collapsed": false
   },
   "id": "e0eb8cc41a37ff45"
  },
  {
   "cell_type": "raw",
   "source": [
    "Еще одно следствие того, что Decimal реализован программно – его можно на ходу настраивать как угодно программисту. Для этого есть контекст – объект, содержащий настройки для выполнения операций. Операции, выполняемые в контексте, следуют заданным в нем правилам. Для float все правила фиксированы на аппаратном уровне.\n",
    "\n",
    "Для типа данных Decimal можно настроить:\n",
    "\n",
    "точность выполнения операций в количестве десятичных знаков;\n",
    "режимы округления;\n",
    "режимы обработки исключительных ситуаций (деление на ноль, переполнение и т. д)."
   ],
   "metadata": {
    "collapsed": false
   },
   "id": "4c4bc1c045343962"
  },
  {
   "cell_type": "markdown",
   "source": [
    "Создание Decimal чисел"
   ],
   "metadata": {
    "collapsed": false
   },
   "id": "2c4fa9d29eabc5d1"
  },
  {
   "cell_type": "raw",
   "source": [
    "Создать Decimal число можно из обычного целого числа (int), из числа с плавающей точкой (float) или из строки (str).\n",
    "\n",
    "Приведенный ниже программный код создает Decimal числа на основе целого числа и строки:"
   ],
   "metadata": {
    "collapsed": false
   },
   "id": "554737bf614939df"
  },
  {
   "cell_type": "code",
   "execution_count": 4,
   "outputs": [
    {
     "name": "stdout",
     "output_type": "stream",
     "text": [
      "1\n",
      "567\n",
      "-93\n",
      "12345\n",
      "52.198\n"
     ]
    }
   ],
   "source": [
    "from decimal import *\n",
    "\n",
    "d1 = Decimal(1)\n",
    "d2 = Decimal(567)\n",
    "d3 = Decimal(-93)\n",
    "d4 = Decimal('12345')\n",
    "d5 = Decimal('52.198')\n",
    "\n",
    "print(d1, d2, d3, d4, d5, sep='\\n')"
   ],
   "metadata": {
    "collapsed": false,
    "ExecuteTime": {
     "end_time": "2024-07-30T10:17:55.413185800Z",
     "start_time": "2024-07-30T10:17:55.407075300Z"
    }
   },
   "id": "e7e9fb79b47e288d"
  },
  {
   "cell_type": "raw",
   "source": [
    "При создании Decimal чисел из чисел с плавающей точкой (float) возникают проблемы, так как float числа округляются внутри до ближайшего возможного, а Decimal об этом ничего не знает и копирует содержимое float."
   ],
   "metadata": {
    "collapsed": false
   },
   "id": "1d9b77c5c7c3be69"
  },
  {
   "cell_type": "code",
   "execution_count": 5,
   "outputs": [
    {
     "name": "stdout",
     "output_type": "stream",
     "text": [
      "0.1000000000000000055511151231257827021181583404541015625\n"
     ]
    }
   ],
   "source": [
    "from decimal import *\n",
    "\n",
    "num = Decimal(0.1)\n",
    "\n",
    "print(num)"
   ],
   "metadata": {
    "collapsed": false,
    "ExecuteTime": {
     "end_time": "2024-07-30T10:18:40.172613300Z",
     "start_time": "2024-07-30T10:18:40.165845800Z"
    }
   },
   "id": "568c3e6aba3ec0d2"
  },
  {
   "cell_type": "raw",
   "source": [
    "Не рекомендуется создавать Decimal числа из float чисел. В Decimal попадет уже неправильно округленное число. Создавать Decimal числа нужно из целых чисел, либо из строк!"
   ],
   "metadata": {
    "collapsed": false
   },
   "id": "488539dee3cc7c2b"
  },
  {
   "cell_type": "markdown",
   "source": [
    "Арифметические операции над Decimal числами"
   ],
   "metadata": {
    "collapsed": false
   },
   "id": "c9f172f1b0eaaff"
  },
  {
   "cell_type": "raw",
   "source": [
    "Тип данных Decimal отлично интегрирован в язык Python. С Decimal числами работают все привычные операции: сложение, вычитание, умножение, деление, возведение в степень."
   ],
   "metadata": {
    "collapsed": false
   },
   "id": "dc31fa323a8f1ec"
  },
  {
   "cell_type": "code",
   "execution_count": 7,
   "outputs": [
    {
     "name": "stdout",
     "output_type": "stream",
     "text": [
      "7.5\n",
      "2.9\n",
      "11.96\n",
      "2.260869565217391304347826087 <class 'decimal.Decimal'>\n",
      "2\n",
      "44.34122533787992500412791298\n"
     ]
    }
   ],
   "source": [
    "from decimal import *\n",
    "\n",
    "num1 = Decimal('5.2')\n",
    "num2 = Decimal('2.3')\n",
    "\n",
    "print(num1 + num2)\n",
    "print(num1 - num2)\n",
    "print(num1 * num2)\n",
    "print(num1 / num2, type(num1 / num2))\n",
    "print(num1 // num2)\n",
    "print(num1 ** num2)"
   ],
   "metadata": {
    "collapsed": false,
    "ExecuteTime": {
     "end_time": "2024-07-30T10:20:14.175926400Z",
     "start_time": "2024-07-30T10:20:14.169005Z"
    }
   },
   "id": "be83fcb9e96eef0c"
  },
  {
   "cell_type": "markdown",
   "source": [
    "Математические функции"
   ],
   "metadata": {
    "collapsed": false
   },
   "id": "76c9ed21a4f3db07"
  },
  {
   "cell_type": "raw",
   "source": [
    "Decimal числа можно передавать как аргументы функциям, ожидающим float. Они будут преобразованы во float. К примеру, модуль math, оперирующий float числами, может работать и с Decimal числами."
   ],
   "metadata": {
    "collapsed": false
   },
   "id": "49cad31660403ca2"
  },
  {
   "cell_type": "code",
   "execution_count": 8,
   "outputs": [
    {
     "name": "stdout",
     "output_type": "stream",
     "text": [
      "1.2\n",
      "0.4994813555186418\n",
      "0.6744739152943241\n"
     ]
    }
   ],
   "source": [
    "from decimal import *\n",
    "from math import *\n",
    "\n",
    "num1 = Decimal('1.44')\n",
    "num2 = Decimal('0.523')\n",
    "\n",
    "print(sqrt(num1))\n",
    "print(sin(num2))\n",
    "print(log(num1 + num2))"
   ],
   "metadata": {
    "collapsed": false,
    "ExecuteTime": {
     "end_time": "2024-07-30T10:22:22.035731Z",
     "start_time": "2024-07-30T10:22:22.027549200Z"
    }
   },
   "id": "45ea0015c6b7067a"
  },
  {
   "cell_type": "raw",
   "source": [
    "Важно понимать, что результатом работы функции модуля math являются float числа, а не Decimal."
   ],
   "metadata": {
    "collapsed": false
   },
   "id": "f9738dd42375dcd5"
  },
  {
   "cell_type": "raw",
   "source": [
    "Тип данных Decimal содержит некоторые встроенные математические методы, возвращающие значения Decimal."
   ],
   "metadata": {
    "collapsed": false
   },
   "id": "2b4775e35315611b"
  },
  {
   "cell_type": "code",
   "execution_count": 9,
   "outputs": [
    {
     "name": "stdout",
     "output_type": "stream",
     "text": [
      "3.162277660168379331998893544\n",
      "22026.46579480671651695790065\n",
      "2.302585092994045684017991455\n",
      "1\n"
     ]
    }
   ],
   "source": [
    "from decimal import *\n",
    "\n",
    "num = Decimal('10.0')\n",
    "\n",
    "print(num.sqrt())\n",
    "print(num.exp())\n",
    "print(num.ln())\n",
    "print(num.log10())"
   ],
   "metadata": {
    "collapsed": false,
    "ExecuteTime": {
     "end_time": "2024-07-30T10:23:16.980541600Z",
     "start_time": "2024-07-30T10:23:16.971810Z"
    }
   },
   "id": "d76990954af1a323"
  },
  {
   "cell_type": "raw",
   "source": [
    "Обратите внимание на количество знаков после запятой. Их 28, что соответствует точности десятичного числа по умолчанию."
   ],
   "metadata": {
    "collapsed": false
   },
   "id": "b1a156d96f8b40e0"
  },
  {
   "cell_type": "raw",
   "source": [
    "Тип данных Decimal также содержит полезный метод as_tuple() который возвращает кортеж из 3 элементов:\n",
    "sign – знак числа (0 для положительного числа и 1 для отрицательного числа);\n",
    "digits – цифры числа;\n",
    "exponent – значение экспоненты (количество цифр после точки, умноженное на \n",
    "−1),"
   ],
   "metadata": {
    "collapsed": false
   },
   "id": "693f9df1dbe7ef7b"
  },
  {
   "cell_type": "code",
   "execution_count": 10,
   "outputs": [
    {
     "name": "stdout",
     "output_type": "stream",
     "text": [
      "DecimalTuple(sign=1, digits=(1, 4, 5, 6, 8, 7, 6, 9, 0, 1, 7), exponent=-10)\n",
      "DecimalTuple(sign=0, digits=(5, 2, 3), exponent=-3)\n"
     ]
    }
   ],
   "source": [
    "from decimal import *\n",
    "\n",
    "num1 = Decimal('-1.4568769017')\n",
    "num2 = Decimal('0.523')\n",
    "\n",
    "print(num1.as_tuple())\n",
    "print(num2.as_tuple())"
   ],
   "metadata": {
    "collapsed": false,
    "ExecuteTime": {
     "end_time": "2024-07-30T10:24:34.986705200Z",
     "start_time": "2024-07-30T10:24:34.979545400Z"
    }
   },
   "id": "84c6c8eb7cfd4844"
  },
  {
   "cell_type": "code",
   "execution_count": 11,
   "outputs": [
    {
     "name": "stdout",
     "output_type": "stream",
     "text": [
      "1\n",
      "(1, 4, 5, 6, 8, 7, 6, 9, 0, 1, 7)\n",
      "-10\n"
     ]
    }
   ],
   "source": [
    "from decimal import *\n",
    "\n",
    "num = Decimal('-1.4568769017')\n",
    "num_tuple = num.as_tuple()\n",
    "\n",
    "print(num_tuple.sign)\n",
    "print(num_tuple.digits)\n",
    "print(num_tuple.exponent)"
   ],
   "metadata": {
    "collapsed": false,
    "ExecuteTime": {
     "end_time": "2024-07-30T10:25:17.524658600Z",
     "start_time": "2024-07-30T10:25:17.515152600Z"
    }
   },
   "id": "fe134cde1f4e20d0"
  },
  {
   "cell_type": "markdown",
   "source": [
    "Работа с контекстом Decimal чисел"
   ],
   "metadata": {
    "collapsed": false
   },
   "id": "f14bcd89855bbcef"
  },
  {
   "cell_type": "raw",
   "source": [
    "Базовые параметры Decimal можно посмотреть в его контексте, выполнив функцию getcontext()"
   ],
   "metadata": {
    "collapsed": false
   },
   "id": "55adea816cbe4fc8"
  },
  {
   "cell_type": "code",
   "execution_count": 12,
   "outputs": [
    {
     "name": "stdout",
     "output_type": "stream",
     "text": [
      "Context(prec=28, rounding=ROUND_HALF_EVEN, Emin=-999999, Emax=999999, capitals=1, clamp=0, flags=[Inexact, FloatOperation, Rounded], traps=[InvalidOperation, DivisionByZero, Overflow])\n"
     ]
    }
   ],
   "source": [
    "from decimal import *\n",
    "\n",
    "print(getcontext())"
   ],
   "metadata": {
    "collapsed": false,
    "ExecuteTime": {
     "end_time": "2024-07-30T10:26:05.251981300Z",
     "start_time": "2024-07-30T10:26:05.239740200Z"
    }
   },
   "id": "4f8f0eeb182f9f4f"
  },
  {
   "cell_type": "raw",
   "source": [
    "Мы видим здесь, что точность 28 знаков, округление к ближайшему четному, пределы по экспоненте ± 999999, capitals – это про заглавную Е при печати, включенные ловушки – неправильная операция, деление на ноль, переполнение."
   ],
   "metadata": {
    "collapsed": false
   },
   "id": "7a27795dc7cc7058"
  },
  {
   "cell_type": "markdown",
   "source": [
    "Точность чисел"
   ],
   "metadata": {
    "collapsed": false
   },
   "id": "ffd4dfc05c19dbe"
  },
  {
   "cell_type": "raw",
   "source": [
    "Контекстом в Decimal можно управлять, устанавливая свои значения. Например, чтобы управлять точностью Decimal, необходимо изменить параметр контекста prec (от англ. precision – точность). При этом точность вступает в силу только во время арифметических операций, а не при создании самих чисел."
   ],
   "metadata": {
    "collapsed": false
   },
   "id": "7ece74bdc7706caa"
  },
  {
   "cell_type": "code",
   "execution_count": 13,
   "outputs": [
    {
     "name": "stdout",
     "output_type": "stream",
     "text": [
      "3.1415\n",
      "3.14\n",
      "6.28\n",
      "1.57\n"
     ]
    }
   ],
   "source": [
    "from decimal import *\n",
    "\n",
    "getcontext().prec = 3  # устанавливаем точность в 3 знака\n",
    "\n",
    "num = Decimal('3.1415')\n",
    "\n",
    "print(num)\n",
    "print(num * 1)\n",
    "print(num * 2)\n",
    "print(num / 2)"
   ],
   "metadata": {
    "collapsed": false,
    "ExecuteTime": {
     "end_time": "2024-07-30T10:27:59.644608Z",
     "start_time": "2024-07-30T10:27:59.636057800Z"
    }
   },
   "id": "8e0e53abc4b9888"
  },
  {
   "cell_type": "raw",
   "source": [
    "Обратите внимание на то, что точность вступает в силу только во время арифметических операций, а не при создании самих чисел."
   ],
   "metadata": {
    "collapsed": false
   },
   "id": "da68d099f6fc3b02"
  },
  {
   "cell_type": "markdown",
   "source": [
    "Округление чисел"
   ],
   "metadata": {
    "collapsed": false
   },
   "id": "87c6438db0271296"
  },
  {
   "cell_type": "raw",
   "source": [
    "Округляют числа Decimal с помощью метода quantize(). Этот метод в качестве первого аргумента принимает объект Decimal, указывающий на формат округления."
   ],
   "metadata": {
    "collapsed": false
   },
   "id": "f5b1d0699f2e1a31"
  },
  {
   "cell_type": "code",
   "execution_count": 14,
   "outputs": [
    {
     "name": "stdout",
     "output_type": "stream",
     "text": [
      "3.142\n",
      "3.14\n",
      "3.1\n"
     ]
    }
   ],
   "source": [
    "from decimal import *\n",
    "\n",
    "getcontext().prec = 4  # устанавливаем точность числа\n",
    "\n",
    "num = Decimal('3.1415926535')\n",
    "\n",
    "print(num.quantize(Decimal('1.000')))  #  округление до 3 цифр в дробной части  \n",
    "print(num.quantize(Decimal('1.00')))  #  округление до 2 цифр в дробной части\n",
    "print(num.quantize(Decimal('1.0')))  #  округление до 1 цифр в дробной части"
   ],
   "metadata": {
    "collapsed": false,
    "ExecuteTime": {
     "end_time": "2024-07-30T10:29:08.848454300Z",
     "start_time": "2024-07-30T10:29:08.837395200Z"
    }
   },
   "id": "f6af14bcc87b5f11"
  },
  {
   "cell_type": "raw",
   "source": [
    "Если точность округления установлена в 2 , а формат округления Decimal('1.00'), то возникнет ошибка."
   ],
   "metadata": {
    "collapsed": false
   },
   "id": "201fd906395e4045"
  },
  {
   "cell_type": "code",
   "execution_count": 15,
   "outputs": [
    {
     "ename": "InvalidOperation",
     "evalue": "[<class 'decimal.InvalidOperation'>]",
     "output_type": "error",
     "traceback": [
      "\u001B[1;31m---------------------------------------------------------------------------\u001B[0m",
      "\u001B[1;31mInvalidOperation\u001B[0m                          Traceback (most recent call last)",
      "Cell \u001B[1;32mIn[15], line 7\u001B[0m\n\u001B[0;32m      3\u001B[0m getcontext()\u001B[38;5;241m.\u001B[39mprec \u001B[38;5;241m=\u001B[39m \u001B[38;5;241m2\u001B[39m                    \u001B[38;5;66;03m# устанавливаем точность округления\u001B[39;00m\n\u001B[0;32m      5\u001B[0m num \u001B[38;5;241m=\u001B[39m Decimal(\u001B[38;5;124m'\u001B[39m\u001B[38;5;124m3.1415926535\u001B[39m\u001B[38;5;124m'\u001B[39m)\n\u001B[1;32m----> 7\u001B[0m \u001B[38;5;28mprint\u001B[39m(\u001B[43mnum\u001B[49m\u001B[38;5;241;43m.\u001B[39;49m\u001B[43mquantize\u001B[49m\u001B[43m(\u001B[49m\u001B[43mDecimal\u001B[49m\u001B[43m(\u001B[49m\u001B[38;5;124;43m'\u001B[39;49m\u001B[38;5;124;43m1.00\u001B[39;49m\u001B[38;5;124;43m'\u001B[39;49m\u001B[43m)\u001B[49m\u001B[43m)\u001B[49m)     \u001B[38;5;66;03m#  округление до 2 цифр в дробной части\u001B[39;00m\n",
      "\u001B[1;31mInvalidOperation\u001B[0m: [<class 'decimal.InvalidOperation'>]"
     ]
    }
   ],
   "source": [
    "from decimal import *\n",
    "\n",
    "getcontext().prec = 2  # устанавливаем точность округления\n",
    "\n",
    "num = Decimal('3.1415926535')\n",
    "\n",
    "print(num.quantize(Decimal('1.00')))  #  округление до 2 цифр в дробной части"
   ],
   "metadata": {
    "collapsed": false,
    "ExecuteTime": {
     "end_time": "2024-07-30T10:30:29.272378200Z",
     "start_time": "2024-07-30T10:30:29.026039300Z"
    }
   },
   "id": "a2af1ee3c17d3a10"
  },
  {
   "cell_type": "raw",
   "source": [
    "Чтобы избежать ее, необходимо поменять точность округления на 3 и больше."
   ],
   "metadata": {
    "collapsed": false
   },
   "id": "b55c6d8e8c201e93"
  },
  {
   "cell_type": "raw",
   "source": [
    "Помимо первого параметра, метод quantize() принимает в качестве второго параметра стратегию округления:\n",
    "\n",
    "ROUND_CEILING – округление в направлении бесконечности (Infinity);\n",
    "ROUND_FLOOR – округляет в направлении минус бесконечности (- Infinity);\n",
    "ROUND_DOWN – округление в направлении нуля;\n",
    "ROUND_HALF_EVEN – округление до ближайшего четного числа, число 6.5 округлится не до\n",
    "7, а до 6;\n",
    "ROUND_HALF_DOWN – округление до ближайшего нуля;\n",
    "ROUND_UP – округление от нуля;\n",
    "ROUND_05UP – округление от нуля (если последняя цифра после округления до нуля была бы 0 или 5, в противном случае к нулю)."
   ],
   "metadata": {
    "collapsed": false
   },
   "id": "584aa61e510afc9b"
  },
  {
   "cell_type": "code",
   "execution_count": 39,
   "outputs": [
    {
     "name": "stdout",
     "output_type": "stream",
     "text": [
      "3.46\n",
      "3.45\n",
      "3.46\n"
     ]
    }
   ],
   "source": [
    "from decimal import *\n",
    "\n",
    "getcontext().prec = 28\n",
    "num = Decimal('3.455')\n",
    "\n",
    "print(num.quantize(Decimal('1.00'), ROUND_CEILING))\n",
    "print(num.quantize(Decimal('1.00'), ROUND_FLOOR))\n",
    "print(num.quantize(Decimal('1.00'), ROUND_HALF_EVEN))"
   ],
   "metadata": {
    "collapsed": false,
    "ExecuteTime": {
     "end_time": "2024-07-30T10:35:01.488237300Z",
     "start_time": "2024-07-30T10:35:01.484283Z"
    }
   },
   "id": "ed719bce5ae93376"
  },
  {
   "cell_type": "markdown",
   "source": [
    "Сравнение float и Decimal чисел"
   ],
   "metadata": {
    "collapsed": false
   },
   "id": "d2d6db93d77c28d4"
  },
  {
   "cell_type": "raw",
   "source": [
    "Выбор между типами данных Decimal и float – поиск компромисса в условиях конкретной задачи.\n",
    "\n",
    "Если нужно считать очень много (симуляции, физика, графика, игры), имеет смысл отказаться от точности Decimal в пользу скорости и компактности хранения данных float. В бизнесе и финансах считать приходится не так много, но делать это нужно предельно точно, тут имеет смысл посмотреть в сторону Decimal."
   ],
   "metadata": {
    "collapsed": false
   },
   "id": "9a4cb05c8cc59bbb"
  },
  {
   "cell_type": "raw",
   "source": [
    "Примечание 1. Decimal числа можно сравнивать между собой, как обычные числа, причем в отличие от float чисел допускается и точное равенство."
   ],
   "metadata": {
    "collapsed": false
   },
   "id": "be746c6f215daac8"
  },
  {
   "cell_type": "code",
   "execution_count": 51,
   "outputs": [
    {
     "name": "stdout",
     "output_type": "stream",
     "text": [
      "YES\n"
     ]
    }
   ],
   "source": [
    "from decimal import *\n",
    "\n",
    "num = Decimal('0.1')\n",
    "if num * 3 == Decimal('0.3'):\n",
    "    print('YES')\n",
    "else:\n",
    "    print('NO')"
   ],
   "metadata": {
    "collapsed": false,
    "ExecuteTime": {
     "end_time": "2024-07-30T10:46:37.493838100Z",
     "start_time": "2024-07-30T10:46:37.483593700Z"
    }
   },
   "id": "5a5b117c817aa569"
  },
  {
   "cell_type": "raw",
   "source": [
    "Примечание 2. Можно сортировать списки с Decimal числами и искать минимум и максимум среди них."
   ],
   "metadata": {
    "collapsed": false
   },
   "id": "d049cd6b77859db0"
  },
  {
   "cell_type": "code",
   "execution_count": 52,
   "outputs": [
    {
     "name": "stdout",
     "output_type": "stream",
     "text": [
      "9.25\n",
      "0.03\n",
      "[Decimal('0.03'), Decimal('1.00'), Decimal('1.34'), Decimal('3.45'), Decimal('9.25')]\n"
     ]
    }
   ],
   "source": [
    "from decimal import *\n",
    "\n",
    "s = '1.34 3.45 1.00 0.03 9.25'\n",
    "\n",
    "numbers = [Decimal(i) for i in s.split()]\n",
    "\n",
    "maximum = max(numbers)\n",
    "minimum = min(numbers)\n",
    "\n",
    "numbers.sort()\n",
    "\n",
    "print(maximum)\n",
    "print(minimum)\n",
    "print(numbers)"
   ],
   "metadata": {
    "collapsed": false,
    "ExecuteTime": {
     "end_time": "2024-07-30T10:47:06.215377300Z",
     "start_time": "2024-07-30T10:47:06.202852Z"
    }
   },
   "id": "993101353f32e136"
  },
  {
   "cell_type": "raw",
   "source": [
    "Примечание 6. Чтобы не писать каждый раз название типа, можно использовать следующий код:"
   ],
   "metadata": {
    "collapsed": false
   },
   "id": "44dfcb67d62297ef"
  },
  {
   "cell_type": "code",
   "execution_count": 53,
   "outputs": [
    {
     "name": "stdout",
     "output_type": "stream",
     "text": [
      "4.7\n",
      "3.612\n"
     ]
    }
   ],
   "source": [
    "from decimal import Decimal as D\n",
    "\n",
    "num1 = D('1.5') + D('3.2')\n",
    "num2 = D('1.4') * D('2.58')\n",
    "\n",
    "print(num1)\n",
    "print(num2)"
   ],
   "metadata": {
    "collapsed": false,
    "ExecuteTime": {
     "end_time": "2024-07-30T10:47:57.622781400Z",
     "start_time": "2024-07-30T10:47:57.608728800Z"
    }
   },
   "id": "985d13dd77642e88"
  },
  {
   "cell_type": "raw",
   "source": [
    "Decimal числа, разделенные символом пробела, хранятся в строковой переменной s. Дополните приведенный код, чтобы он вывел сумму наибольшего и наименьшего Decimal числа."
   ],
   "metadata": {
    "collapsed": false
   },
   "id": "1a23cb61276cda81"
  },
  {
   "cell_type": "code",
   "execution_count": 55,
   "outputs": [
    {
     "name": "stdout",
     "output_type": "stream",
     "text": [
      "10.00\n"
     ]
    }
   ],
   "source": [
    "from decimal import *\n",
    "s = '0.77 4.03 9.06 3.80 7.08 5.88 0.23 4.65 2.79 0.90 4.23 2.15 3.24 8.57 0.10 8.57 1.49 5.64 3.63 8.36 1.56 6.67 1.46 5.26 4.83 7.23 1.22 1.02 7.82 9.97 5.40 9.79 9.82 2.78 2.96 0.07 1.72 7.24 7.84 9.23 1.71 6.24 5.78 5.37 0.03 9.60 8.86 2.73 5.83 6.50'\n",
    "\n",
    "numbers = [Decimal(i) for i in s.split()]\n",
    "\n",
    "maximum = max(numbers)\n",
    "minimum = min(numbers)\n",
    "sm = maximum + minimum\n",
    "print(sm)"
   ],
   "metadata": {
    "collapsed": false,
    "ExecuteTime": {
     "end_time": "2024-07-30T12:33:35.457799100Z",
     "start_time": "2024-07-30T12:33:35.454047Z"
    }
   },
   "id": "a30e49f75d000338"
  },
  {
   "cell_type": "raw",
   "source": [
    "Decimal числа, разделенные символом пробела, хранятся в строковой переменной s. Дополните приведенный код, чтобы он вывел на первой строке сумму всех чисел, а на второй строке 5 самых больших чисел в порядке убывания, разделенных символом пробела."
   ],
   "metadata": {
    "collapsed": false
   },
   "id": "b99cc3ee9fef42c5"
  },
  {
   "cell_type": "code",
   "execution_count": 63,
   "outputs": [
    {
     "name": "stdout",
     "output_type": "stream",
     "text": [
      "279.12\n",
      "9.85 9.74 9.73 9.60 9.36\n"
     ]
    }
   ],
   "source": [
    "from decimal import *\n",
    "s = '9.73 8.84 8.92 9.60 9.32 8.97 8.53 1.26 6.62 9.85 1.85 1.80 0.83 6.75 9.74 9.11 9.14 5.03 5.03 1.34 3.52 8.09 7.89 8.24 8.23 5.22 0.30 2.59 1.25 6.24 2.14 7.54 5.72 2.75 2.32 2.69 9.32 8.11 4.53 0.80 0.08 9.36 5.22 4.08 3.86 5.56 1.43 8.36 6.29 5.13'\n",
    "\n",
    "numbers = [Decimal(i) for i in s.split()]\n",
    "\n",
    "print(sum(sorted(numbers)))\n",
    "print(*(sorted(numbers, reverse=True)[:5]))"
   ],
   "metadata": {
    "collapsed": false,
    "ExecuteTime": {
     "end_time": "2024-07-30T12:37:26.806478Z",
     "start_time": "2024-07-30T12:37:26.802394700Z"
    }
   },
   "id": "982a384016842682"
  },
  {
   "cell_type": "raw",
   "source": [
    "Дополните приведенный код, чтобы он вывел сумму наибольшей и наименьшей цифры Decimal числа."
   ],
   "metadata": {
    "collapsed": false
   },
   "id": "7d40da6050008941"
  },
  {
   "cell_type": "code",
   "execution_count": 89,
   "outputs": [
    {
     "name": "stdout",
     "output_type": "stream",
     "text": [
      "-12.1224\n",
      "<class 'decimal.Decimal'>\n",
      "4\n",
      "1\n",
      "5\n"
     ]
    }
   ],
   "source": [
    "from decimal import *\n",
    "\n",
    "# num = Decimal(input())\n",
    "num = Decimal('-12.1224')\n",
    "print(num)\n",
    "print(type(num))\n",
    "\n",
    "numb = [i for i in str(abs(num)) if i not in '.']\n",
    "mx = Decimal(max(numb))\n",
    "print(mx)\n",
    "mn = Decimal(min(numb))\n",
    "print(mn)\n",
    "print(mx + mn)"
   ],
   "metadata": {
    "collapsed": false,
    "ExecuteTime": {
     "end_time": "2024-07-30T12:47:26.555708600Z",
     "start_time": "2024-07-30T12:47:26.551114300Z"
    }
   },
   "id": "ea6411a0ecf153c4"
  },
  {
   "cell_type": "code",
   "execution_count": null,
   "outputs": [],
   "source": [
    "d = [int(i) for i in input() if i.isdigit()]\n",
    "print(max(d) + min(d))"
   ],
   "metadata": {
    "collapsed": false
   },
   "id": "865214c2100e99fa"
  },
  {
   "cell_type": "raw",
   "source": [
    "На вход программе подается Decimal число d. Напишите программу, которая вычисляет значение выражения:e в степени d +ln(d)+lg(d)+ корень из d\n",
    " \n",
    "\n",
    "Формат входных данных\n",
    "На вход программе подается положительное десятичное число d."
   ],
   "metadata": {
    "collapsed": false
   },
   "id": "6a8932247f54885f"
  },
  {
   "cell_type": "code",
   "execution_count": null,
   "outputs": [],
   "source": [
    "from decimal import Decimal, getcontext\n",
    "\n",
    "# Установка точности для Decimal\n",
    "getcontext().prec = 30  # Увеличиваем точность\n",
    "\n",
    "# Чтение входного значения\n",
    "d = Decimal(input())\n",
    "\n",
    "# Проверка, что число положительное\n",
    "if d <= 0:\n",
    "    print(\"Введите положительное число.\")\n",
    "else:\n",
    "    # Вычисление выражения\n",
    "    result = (d.exp() +  # e в степени d\n",
    "              d.ln() +   # натуральный логарифм ln(d)\n",
    "              d.log10() +  # логарифм по основанию 10 lg(d)\n",
    "              d.sqrt())   # квадратный корень из d\n",
    "\n",
    "    # Вывод результата\n",
    "    print(result)"
   ],
   "metadata": {
    "collapsed": false
   },
   "id": "4d15b25214d57549"
  }
 ],
 "metadata": {
  "kernelspec": {
   "display_name": "Python 3",
   "language": "python",
   "name": "python3"
  },
  "language_info": {
   "codemirror_mode": {
    "name": "ipython",
    "version": 2
   },
   "file_extension": ".py",
   "mimetype": "text/x-python",
   "name": "python",
   "nbconvert_exporter": "python",
   "pygments_lexer": "ipython2",
   "version": "2.7.6"
  }
 },
 "nbformat": 4,
 "nbformat_minor": 5
}
