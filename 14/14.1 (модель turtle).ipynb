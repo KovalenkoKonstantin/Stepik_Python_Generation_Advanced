{
 "cells": [
  {
   "cell_type": "code",
   "execution_count": 1,
   "id": "initial_id",
   "metadata": {
    "collapsed": true,
    "ExecuteTime": {
     "end_time": "2024-08-02T07:29:31.624222400Z",
     "start_time": "2024-08-02T07:29:26.350681400Z"
    }
   },
   "outputs": [],
   "source": [
    "import turtle\n",
    "\n",
    "def rectangle(width, height):\n",
    "  for _ in range(4):\n",
    "    turtle.forward(width)\n",
    "    turtle.left(90)\n",
    "    width, height = height, width\n",
    "\n",
    "width = int(input())\n",
    "height = int(input())\n",
    "rectangle(width, height)\n",
    "turtle.done()  # Завершить рисование"
   ]
  },
  {
   "cell_type": "code",
   "execution_count": 1,
   "outputs": [],
   "source": [
    "import turtle\n",
    "\n",
    "def triangle(side):\n",
    "  for _ in range(3):\n",
    "    turtle.forward(side)\n",
    "    turtle.left(120)    \n",
    "\n",
    "triangle(int(input()))\n",
    "turtle.done()  # Завершить рисование"
   ],
   "metadata": {
    "collapsed": false
   },
   "id": "3dda1df5f05954a0"
  },
  {
   "cell_type": "code",
   "execution_count": null,
   "outputs": [],
   "source": [
    "import turtle\n",
    "\n",
    "def square(side):\n",
    "  for _ in range(3):\n",
    "    turtle.left(30)\n",
    "    for _ in range(4):\n",
    "        turtle.forward(side)\n",
    "        turtle.left(90)\n",
    "\n",
    "square(20)\n",
    "turtle.done()  # Завершить рисование"
   ],
   "metadata": {
    "collapsed": false
   },
   "id": "8de30dcee70832b7"
  },
  {
   "cell_type": "code",
   "execution_count": null,
   "outputs": [],
   "source": [
    "import turtle\n",
    "\n",
    "def square(side):\n",
    "  for _ in range(4):\n",
    "    turtle.forward(side)\n",
    "    turtle.left(90)\n",
    "    \n",
    "for _ in range(8):\n",
    "  turtle.left(45)\n",
    "  square(120)\n",
    "  \n",
    "turtle.done()  # Завершить рисование"
   ],
   "metadata": {
    "collapsed": false
   },
   "id": "6fb73475b04d5da2"
  },
  {
   "cell_type": "code",
   "execution_count": null,
   "outputs": [],
   "source": [
    "import turtle\n",
    "\n",
    "def square(side):\n",
    "  for _ in range(4):\n",
    "    turtle.forward(side)\n",
    "    turtle.left(90)\n",
    "    \n",
    "for _ in range(8):\n",
    "  turtle.left(45)\n",
    "  square(120)\n",
    "  \n",
    "turtle.done()  # Завершить рисование"
   ],
   "metadata": {
    "collapsed": false
   },
   "id": "ef2bec37f81a94ee"
  },
  {
   "cell_type": "code",
   "execution_count": null,
   "outputs": [],
   "source": [
    "import turtle\n",
    "\n",
    "\n",
    "def hexagon(side):\n",
    "    for _ in range(6):\n",
    "        turtle.forward(side)\n",
    "        turtle.left(60)\n",
    "\n",
    "\n",
    "hexagon(100)\n",
    "turtle.done()  # Завершить рисование"
   ],
   "metadata": {
    "collapsed": false
   },
   "id": "b056528f8eea6d8f"
  },
  {
   "cell_type": "code",
   "execution_count": null,
   "outputs": [],
   "source": [
    "import turtle\n",
    "\n",
    "def hexagon(side):\n",
    "  for _ in '1' * 6:\n",
    "    turtle.forward(side)\n",
    "    turtle.right(60)\n",
    "    \n",
    "def count(size, num):\n",
    "  for _ in range(num):\n",
    "    hexagon(size)\n",
    "    turtle.right(120)\n",
    "    turtle.forward(size)\n",
    "    turtle.left(60)\n",
    "    \n",
    "count(60, 6)\n",
    "turtle.done()  # Завершить рисование"
   ],
   "metadata": {
    "collapsed": false
   },
   "id": "5e489fef44902f66"
  },
  {
   "cell_type": "code",
   "execution_count": 1,
   "outputs": [],
   "source": [
    "# Соты (цвета)\n",
    "import turtle as t\n",
    "\n",
    "t.shape('turtle')\n",
    "t.speed(0)\n",
    "t.width(5)\n",
    "colors = ['gold', 'tan', 'gold', 'burlywood', 'gold', 'goldenrod']\n",
    "\n",
    "def hexagon2(side):\n",
    "  for i in range(6):\n",
    "    t.right(60)\n",
    "    t.forward(side)\n",
    "\n",
    "n = 55\n",
    "for i in range(6):\n",
    "  t.pencolor(colors[i])\n",
    "  hexagon2(n)\n",
    "  t.backward(n)\n",
    "  t.right(60)\n",
    "  \n",
    "t.done()  # Завершить рисование"
   ],
   "metadata": {
    "collapsed": false,
    "ExecuteTime": {
     "end_time": "2024-08-02T07:43:50.779924400Z",
     "start_time": "2024-08-02T07:43:49.158231400Z"
    }
   },
   "id": "d14eb3cfb373301a"
  },
  {
   "cell_type": "code",
   "execution_count": 3,
   "outputs": [],
   "source": [
    "import turtle as t\n",
    "import time\n",
    "\n",
    "t.shape('turtle')\n",
    "t.speed(0)  # Максимальная скорость рисования\n",
    "t.width(5)\n",
    "colors = ['gold', 'tan', 'gold', 'burlywood', 'gold', 'goldenrod']\n",
    "\n",
    "def hexagon2(side):\n",
    "    for i in range(6):\n",
    "        t.forward(side)   # Изменил порядок, чтобы избежать поворотов влево\n",
    "        t.right(60)\n",
    "\n",
    "n = 55\n",
    "for i in range(6):\n",
    "    t.pencolor(colors[i])\n",
    "    hexagon2(n)\n",
    "    t.backward(n)\n",
    "    t.right(60)\n",
    "\n",
    "    # Добавляем небольшую паузу, чтобы дать время на отрисовку\n",
    "    time.sleep(0.05) \n",
    "\n",
    "t.done()  # Завершить рисование"
   ],
   "metadata": {
    "collapsed": false,
    "ExecuteTime": {
     "end_time": "2024-08-02T07:49:25.577267Z",
     "start_time": "2024-08-02T07:49:21.978062700Z"
    }
   },
   "id": "d621c76bf60ba0cd"
  },
  {
   "cell_type": "code",
   "execution_count": 8,
   "outputs": [],
   "source": [
    "import turtle\n",
    "\n",
    "for i in [120, 60, 120, 60]:\n",
    "  turtle.forward(100)\n",
    "  turtle.left(i)\n",
    "  \n",
    "turtle.done()"
   ],
   "metadata": {
    "collapsed": false,
    "ExecuteTime": {
     "end_time": "2024-08-02T08:33:15.655024100Z",
     "start_time": "2024-08-02T08:32:48.875271700Z"
    }
   },
   "id": "237945f954af0835"
  },
  {
   "cell_type": "code",
   "execution_count": 19,
   "outputs": [],
   "source": [
    "from turtle import *\n",
    "\n",
    "turtle.speed(0)  # Максимальная скорость рисования\n",
    "def diamond(side, num):\n",
    "  for _ in range(4):\n",
    "    fd(side)\n",
    "    lt(60 + 60 *(_%2))\n",
    "  lt(360/num) \n",
    "  \n",
    "def star(side, num):\n",
    "  for _ in range(num):\n",
    "    diamond(side, num)\n",
    "  \n",
    "# star(int(input('Введите длину стороны = ')), int(input('Введите количество = ')))\n",
    "star(100, 200)\n",
    "\n",
    "turtle.done()"
   ],
   "metadata": {
    "collapsed": false,
    "ExecuteTime": {
     "end_time": "2024-08-02T08:37:59.188609Z",
     "start_time": "2024-08-02T08:37:09.985684300Z"
    }
   },
   "id": "e40212266a66c9a9"
  },
  {
   "cell_type": "code",
   "execution_count": null,
   "outputs": [],
   "source": [
    "from turtle import *\n",
    "\n",
    "speed(0)\n",
    "left(90)\n",
    "hideturtle()\n",
    "change = [[0, 1, 0], [-1, 0, 0], [0, 0, 1],\n",
    "          [0, -1, 0], [1, 0, 0], [0, 0, -1]]\n",
    "n, side = 255, int(input())\n",
    "red, green, blue = 255, 0, 0\n",
    "for i in range(6):\n",
    "    r, g, b = change[i]\n",
    "    for j in range(n):\n",
    "        red += r\n",
    "        green += g\n",
    "        blue += b\n",
    "        color(red, green, blue)\n",
    "        forward(side)\n",
    "        backward(side)\n",
    "        right(60 / n)\n",
    "done()"
   ],
   "metadata": {
    "collapsed": false
   },
   "id": "b374d688e38611ff"
  },
  {
   "cell_type": "code",
   "execution_count": 21,
   "outputs": [],
   "source": [
    "import turtle\n",
    "\n",
    "def my_circle(r):\n",
    "    turtle.pendown()\n",
    "    turtle.speed(100)\n",
    "    for i in range(16, 76):\n",
    "        turtle.pensize(i // 6)\n",
    "        turtle.circle(r, 6, 6)\n",
    "    turtle.penup()\n",
    "\n",
    "def line(length, size):\n",
    "    for _ in range(length // 2):\n",
    "        turtle.pensize(size)\n",
    "        turtle.forward(2)\n",
    "        size += 0.01\n",
    "    return size\n",
    "\n",
    "turtle.hideturtle()\n",
    "turtle.shape('turtle')\n",
    "turtle.bgcolor('black')\n",
    "turtle.pencolor('white')  # Изменил цвет пера на белый\n",
    "my_circle(140)\n",
    "turtle.goto(turtle.xcor(), turtle.ycor() + 40)\n",
    "vertex = turtle.pos()\n",
    "my_circle(100)\n",
    "turtle.pendown()\n",
    "turtle.circle(100, 30, 76 // 6)\n",
    "turtle.penup()\n",
    "turtle.goto(vertex)\n",
    "size = 3\n",
    "turtle.setheading(72)\n",
    "vertex = []\n",
    "turtle.pendown()\n",
    "for _ in range(5):\n",
    "    vertex.append(turtle.pos())\n",
    "    size = line(190, size)\n",
    "    turtle.left(144)\n",
    "turtle.penup()\n",
    "turtle.setheading(270)\n",
    "for v in vertex:\n",
    "    turtle.goto(v)\n",
    "    turtle.forward(15)\n",
    "    turtle.stamp()\n",
    "    turtle.setheading(turtle.heading() + 144)\n",
    "turtle.goto(vertex[0][0], (vertex[1][1] + vertex[0][1]) / 2)\n",
    "turtle.setheading(90)\n",
    "turtle.shapesize(2, 2)\n",
    "turtle.stamp()\n",
    "turtle.done()"
   ],
   "metadata": {
    "collapsed": false,
    "ExecuteTime": {
     "end_time": "2024-08-02T08:46:05.147050900Z",
     "start_time": "2024-08-02T08:45:41.473905200Z"
    }
   },
   "id": "bc0b5e167de9a686"
  },
  {
   "cell_type": "code",
   "execution_count": null,
   "outputs": [],
   "source": [
    "import turtle\n",
    "turtle.speed(0)\n",
    "for i in range(20, 200, 10):\n",
    "    for _ in range(4):\n",
    "        turtle.left(90)\n",
    "        turtle.forward(i)\n",
    "        \n",
    "turtle.done()"
   ],
   "metadata": {
    "collapsed": false
   },
   "id": "43d178dbc5104a77"
  },
  {
   "cell_type": "code",
   "execution_count": 23,
   "outputs": [],
   "source": [
    "import turtle\n",
    "\n",
    "turtle.speed(100)\n",
    "for i in range(100):\n",
    "    turtle.left(70)\n",
    "    turtle.forward(i)\n",
    "    \n",
    "turtle.done()"
   ],
   "metadata": {
    "collapsed": false,
    "ExecuteTime": {
     "end_time": "2024-08-02T08:48:39.099111300Z",
     "start_time": "2024-08-02T08:48:34.372832Z"
    }
   },
   "id": "da291374f02ab60a"
  }
 ],
 "metadata": {
  "kernelspec": {
   "display_name": "Python 3",
   "language": "python",
   "name": "python3"
  },
  "language_info": {
   "codemirror_mode": {
    "name": "ipython",
    "version": 2
   },
   "file_extension": ".py",
   "mimetype": "text/x-python",
   "name": "python",
   "nbconvert_exporter": "python",
   "pygments_lexer": "ipython2",
   "version": "2.7.6"
  }
 },
 "nbformat": 4,
 "nbformat_minor": 5
}
