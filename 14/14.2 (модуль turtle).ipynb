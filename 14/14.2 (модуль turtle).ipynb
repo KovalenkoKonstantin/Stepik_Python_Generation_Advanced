{
 "cells": [
  {
   "cell_type": "code",
   "execution_count": 1,
   "id": "initial_id",
   "metadata": {
    "collapsed": true,
    "ExecuteTime": {
     "end_time": "2024-08-20T13:00:18.950534400Z",
     "start_time": "2024-08-20T13:00:15.015721900Z"
    }
   },
   "outputs": [],
   "source": [
    "import turtle\n",
    "\n",
    "turtle.forward(50)\n",
    "turtle.penup()\n",
    "turtle.forward(25)\n",
    "turtle.pendown()\n",
    "turtle.forward(50)\n",
    "turtle.penup()\n",
    "turtle.forward(25)\n",
    "turtle.pendown()\n",
    "turtle.forward(50)\n",
    "turtle.done()  # Завершить рисование"
   ]
  },
  {
   "cell_type": "code",
   "execution_count": 3,
   "outputs": [],
   "source": [
    "import turtle\n",
    "\n",
    "turtle.circle(80)\n",
    "turtle.done()  # Завершить рисование"
   ],
   "metadata": {
    "collapsed": false,
    "ExecuteTime": {
     "end_time": "2024-08-20T13:02:02.529326200Z",
     "start_time": "2024-08-20T13:01:56.525933200Z"
    }
   },
   "id": "471d7d472e35ee23"
  },
  {
   "cell_type": "code",
   "execution_count": 9,
   "outputs": [],
   "source": [
    "import turtle\n",
    "\n",
    "turtle.dot()\n",
    "turtle.forward(50)\n",
    "\n",
    "turtle.dot()\n",
    "turtle.forward(50)\n",
    "turtle.dot()\n",
    "turtle.forward(50)\n",
    "turtle.done()"
   ],
   "metadata": {
    "collapsed": false,
    "ExecuteTime": {
     "end_time": "2024-08-20T13:02:43.219098600Z",
     "start_time": "2024-08-20T13:02:41.164699Z"
    }
   },
   "id": "bdfbb1ff0f650bf7"
  },
  {
   "cell_type": "code",
   "execution_count": 11,
   "outputs": [],
   "source": [
    "import turtle\n",
    "\n",
    "turtle.pensize(5)\n",
    "turtle.circle(80)\n",
    "turtle.done()"
   ],
   "metadata": {
    "collapsed": false,
    "ExecuteTime": {
     "end_time": "2024-08-20T13:03:12.843407600Z",
     "start_time": "2024-08-20T13:03:08.267983500Z"
    }
   },
   "id": "c688084d852e2b96"
  },
  {
   "cell_type": "code",
   "execution_count": 13,
   "outputs": [],
   "source": [
    "import turtle\n",
    "\n",
    "turtle.pencolor('red')\n",
    "turtle.circle(80)\n",
    "turtle.done()"
   ],
   "metadata": {
    "collapsed": false,
    "ExecuteTime": {
     "end_time": "2024-08-20T13:03:38.561070900Z",
     "start_time": "2024-08-20T13:03:33.868076700Z"
    }
   },
   "id": "f4eb5a2d71b2ae4b"
  },
  {
   "cell_type": "code",
   "execution_count": 1,
   "outputs": [],
   "source": [
    "import turtle\n",
    "turtle.Screen().colormode(255)\n",
    "\n",
    "turtle.pencolor('red')           #  строковое представление цвета\n",
    "turtle.circle(90)\n",
    "# turtle.done()\n",
    "\n",
    "color = (13, 56, 240)            #  кортеж (r, g, b)\n",
    "\n",
    "turtle.pencolor(color)           #  кортеж в качестве аргумента\n",
    "turtle.circle(80)\n",
    "# turtle.done()\n",
    "\n",
    "turtle.pencolor(130, 240, 200)   #  значения r, g, b в качестве аргументов\n",
    "turtle.circle(50)\n",
    "turtle.done()"
   ],
   "metadata": {
    "collapsed": false,
    "ExecuteTime": {
     "end_time": "2024-08-20T13:07:54.036119400Z",
     "start_time": "2024-08-20T13:07:45.347396900Z"
    }
   },
   "id": "9dacf4f72966c15c"
  },
  {
   "cell_type": "raw",
   "source": [
    "В Python 3 для того, чтобы использовать цвет в формате RGB, нужно предварительно установить значение colormode в 255, для этого нужно использовать команду turtle.Screen().colormode(255)."
   ],
   "metadata": {
    "collapsed": false
   },
   "id": "3391344429d93651"
  },
  {
   "cell_type": "code",
   "execution_count": 1,
   "outputs": [],
   "source": [
    "import turtle\n",
    "\n",
    "turtle.Screen().bgcolor('gray')\n",
    "turtle.pencolor('green')\n",
    "turtle.circle(80)\n",
    "turtle.done()"
   ],
   "metadata": {
    "collapsed": false,
    "ExecuteTime": {
     "end_time": "2024-08-20T13:09:06.399123400Z",
     "start_time": "2024-08-20T13:09:03.341429Z"
    }
   },
   "id": "e1a520c0e4c7d3c1"
  },
  {
   "cell_type": "code",
   "execution_count": 1,
   "outputs": [
    {
     "ename": "TurtleGraphicsError",
     "evalue": "Bad arguments for register_shape.\nUse  help(register_shape)",
     "output_type": "error",
     "traceback": [
      "\u001B[1;31m---------------------------------------------------------------------------\u001B[0m",
      "\u001B[1;31mTurtleGraphicsError\u001B[0m                       Traceback (most recent call last)",
      "Cell \u001B[1;32mIn[1], line 4\u001B[0m\n\u001B[0;32m      1\u001B[0m \u001B[38;5;28;01mimport\u001B[39;00m \u001B[38;5;21;01mturtle\u001B[39;00m\n\u001B[0;32m      3\u001B[0m turtle\u001B[38;5;241m.\u001B[39mScreen()\u001B[38;5;241m.\u001B[39msetup(\u001B[38;5;241m400\u001B[39m, \u001B[38;5;241m400\u001B[39m)               \u001B[38;5;66;03m# устанавливаем размер граф. окна\u001B[39;00m\n\u001B[1;32m----> 4\u001B[0m \u001B[43mturtle\u001B[49m\u001B[38;5;241;43m.\u001B[39;49m\u001B[43mScreen\u001B[49m\u001B[43m(\u001B[49m\u001B[43m)\u001B[49m\u001B[38;5;241;43m.\u001B[39;49m\u001B[43maddshape\u001B[49m\u001B[43m(\u001B[49m\u001B[38;5;124;43m'\u001B[39;49m\u001B[38;5;124;43mrocketship.png\u001B[39;49m\u001B[38;5;124;43m'\u001B[39;49m\u001B[43m)\u001B[49m    \u001B[38;5;66;03m# добавляем форму черепашки\u001B[39;00m\n\u001B[0;32m      6\u001B[0m turtle\u001B[38;5;241m.\u001B[39mScreen()\u001B[38;5;241m.\u001B[39mbgpic(\u001B[38;5;124m'\u001B[39m\u001B[38;5;124mspace.jpg\u001B[39m\u001B[38;5;124m'\u001B[39m)            \u001B[38;5;66;03m# устанавливаем фоновое изображение\u001B[39;00m\n\u001B[0;32m      7\u001B[0m turtle\u001B[38;5;241m.\u001B[39mshape(\u001B[38;5;124m'\u001B[39m\u001B[38;5;124mrocketship.png\u001B[39m\u001B[38;5;124m'\u001B[39m)                \u001B[38;5;66;03m# устанавливаем форму черепашки\u001B[39;00m\n",
      "File \u001B[1;32m~\\AppData\\Local\\Programs\\Python\\Python311\\Lib\\turtle.py:1136\u001B[0m, in \u001B[0;36mTurtleScreen.register_shape\u001B[1;34m(self, name, shape)\u001B[0m\n\u001B[0;32m   1134\u001B[0m         shape \u001B[38;5;241m=\u001B[39m Shape(\u001B[38;5;124m\"\u001B[39m\u001B[38;5;124mimage\u001B[39m\u001B[38;5;124m\"\u001B[39m, \u001B[38;5;28mself\u001B[39m\u001B[38;5;241m.\u001B[39m_image(name))\n\u001B[0;32m   1135\u001B[0m     \u001B[38;5;28;01melse\u001B[39;00m:\n\u001B[1;32m-> 1136\u001B[0m         \u001B[38;5;28;01mraise\u001B[39;00m TurtleGraphicsError(\u001B[38;5;124m\"\u001B[39m\u001B[38;5;124mBad arguments for register_shape.\u001B[39m\u001B[38;5;130;01m\\n\u001B[39;00m\u001B[38;5;124m\"\u001B[39m\n\u001B[0;32m   1137\u001B[0m                                   \u001B[38;5;241m+\u001B[39m \u001B[38;5;124m\"\u001B[39m\u001B[38;5;124mUse  help(register_shape)\u001B[39m\u001B[38;5;124m\"\u001B[39m )\n\u001B[0;32m   1138\u001B[0m \u001B[38;5;28;01melif\u001B[39;00m \u001B[38;5;28misinstance\u001B[39m(shape, \u001B[38;5;28mtuple\u001B[39m):\n\u001B[0;32m   1139\u001B[0m     shape \u001B[38;5;241m=\u001B[39m Shape(\u001B[38;5;124m\"\u001B[39m\u001B[38;5;124mpolygon\u001B[39m\u001B[38;5;124m\"\u001B[39m, shape)\n",
      "\u001B[1;31mTurtleGraphicsError\u001B[0m: Bad arguments for register_shape.\nUse  help(register_shape)"
     ]
    }
   ],
   "source": [
    "import turtle\n",
    "\n",
    "turtle.Screen().setup(400, 400)               # устанавливаем размер граф. окна\n",
    "turtle.Screen().addshape('rocketship.png')    # добавляем форму черепашки\n",
    "\n",
    "turtle.Screen().bgpic('space.jpg')            # устанавливаем фоновое изображение\n",
    "turtle.shape('rocketship.png')                # устанавливаем форму черепашки\n",
    "turtle.pencolor('green')\n",
    "turtle.pensize(5)\n",
    "\n",
    "for _ in range(4):\n",
    "  turtle.forward(150)\n",
    "  turtle.left(90)\n",
    "  \n",
    "turtle.done()"
   ],
   "metadata": {
    "collapsed": false,
    "ExecuteTime": {
     "end_time": "2024-08-20T13:09:44.190642400Z",
     "start_time": "2024-08-20T13:09:43.692827900Z"
    }
   },
   "id": "64b7eeef1bee518c"
  },
  {
   "cell_type": "code",
   "execution_count": 1,
   "outputs": [],
   "source": [
    "import turtle\n",
    "\n",
    "turtle.shape('turtle')\n",
    "\n",
    "for i in range(3):\n",
    "    turtle.forward(50)\n",
    "    turtle.stamp()\n",
    "\n",
    "turtle.done()"
   ],
   "metadata": {
    "collapsed": false,
    "ExecuteTime": {
     "end_time": "2024-08-20T13:11:33.400195300Z",
     "start_time": "2024-08-20T13:11:28.438803200Z"
    }
   },
   "id": "76140c73bf0751fc"
  },
  {
   "cell_type": "raw",
   "source": [
    "Для возвращения графического окна черепашки в исходное состояние существуют три команды:\n",
    "\n",
    "turtle.clear();\n",
    "turtle.reset();\n",
    "turtle.clearscreen().\n",
    "Команда turtle.clear() стирает все рисунки в графическом окне. Но не меняет положение черепашки, цвет рисунка и цвет фона графического окна.\n",
    "\n",
    "Команда turtle.reset() стирает все рисунки, имеющиеся в графическом окне, задает черный цвет рисунка и возвращает черепашку в исходное положение в центре экрана. Эта команда не переустанавливает цвет фона графического окна.\n",
    "\n",
    "Команда turtle.clearscreen() стирает все рисунки в графическом окне, меняет цвет рисунка на черный, а цвет фона на белый, и возвращает черепашку в исходное положение в центре графического окна."
   ],
   "metadata": {
    "collapsed": false
   },
   "id": "ddcf8e21ce992763"
  },
  {
   "cell_type": "code",
   "execution_count": 3,
   "outputs": [
    {
     "ename": "Terminator",
     "evalue": "",
     "output_type": "error",
     "traceback": [
      "\u001B[1;31m---------------------------------------------------------------------------\u001B[0m",
      "\u001B[1;31mTerminator\u001B[0m                                Traceback (most recent call last)",
      "Cell \u001B[1;32mIn[3], line 23\u001B[0m\n\u001B[0;32m     21\u001B[0m \u001B[38;5;28;01melif\u001B[39;00m \u001B[38;5;241m315\u001B[39m \u001B[38;5;241m<\u001B[39m i \u001B[38;5;241m%\u001B[39m \u001B[38;5;241m379\u001B[39m \u001B[38;5;241m<\u001B[39m \u001B[38;5;241m379\u001B[39m:\n\u001B[0;32m     22\u001B[0m     g \u001B[38;5;241m-\u001B[39m\u001B[38;5;241m=\u001B[39m \u001B[38;5;241m4\u001B[39m\n\u001B[1;32m---> 23\u001B[0m \u001B[43mt\u001B[49m\u001B[38;5;241;43m.\u001B[39;49m\u001B[43mcolor\u001B[49m\u001B[43m(\u001B[49m\u001B[43m(\u001B[49m\u001B[38;5;241;43m0\u001B[39;49m\u001B[43m,\u001B[49m\u001B[43m \u001B[49m\u001B[38;5;241;43m0\u001B[39;49m\u001B[43m,\u001B[49m\u001B[43m \u001B[49m\u001B[38;5;241;43m0\u001B[39;49m\u001B[43m)\u001B[49m\u001B[43m,\u001B[49m\u001B[43m \u001B[49m\u001B[43m(\u001B[49m\u001B[43mr\u001B[49m\u001B[43m,\u001B[49m\u001B[43m \u001B[49m\u001B[43mg\u001B[49m\u001B[43m,\u001B[49m\u001B[43m \u001B[49m\u001B[43mb\u001B[49m\u001B[43m)\u001B[49m\u001B[43m)\u001B[49m \n\u001B[0;32m     24\u001B[0m t\u001B[38;5;241m.\u001B[39mstamp()\n\u001B[0;32m     25\u001B[0m t\u001B[38;5;241m.\u001B[39mleft(\u001B[38;5;241m22\u001B[39m)\n",
      "File \u001B[1;32m<string>:5\u001B[0m, in \u001B[0;36mcolor\u001B[1;34m(*args)\u001B[0m\n",
      "\u001B[1;31mTerminator\u001B[0m: "
     ]
    }
   ],
   "source": [
    "import turtle as t\n",
    "t.colormode(255)\n",
    "t.bgcolor('black')\n",
    "t.speed(10)\n",
    "t.penup()\n",
    "t.shape('turtle')\n",
    "r = 0\n",
    "g = 0 \n",
    "b = 255\n",
    "for i in range(1, 1000): \n",
    "    if 0 < i % 379 < 64: \n",
    "        r += 4\n",
    "    elif 63 < i % 379 < 127: \n",
    "        b -= 4 \n",
    "    elif 126 < i % 379 < 190: \n",
    "        g += 4\n",
    "    elif 189 < i % 379 < 253:\n",
    "        r -= 4\n",
    "    elif 252 < i % 379 < 316:\n",
    "        b += 4\n",
    "    elif 315 < i % 379 < 379:\n",
    "        g -= 4\n",
    "    t.color((0, 0, 0), (r, g, b)) \n",
    "    t.stamp()\n",
    "    t.left(22)\n",
    "    t.forward(1.01 ** i)\n",
    "  \n",
    "t.mainloop()\n",
    "t.done()"
   ],
   "metadata": {
    "collapsed": false,
    "ExecuteTime": {
     "end_time": "2024-08-20T13:25:12.604373600Z",
     "start_time": "2024-08-20T13:25:06.585302800Z"
    }
   },
   "id": "b8a1eedfa1b247f9"
  },
  {
   "cell_type": "code",
   "execution_count": 4,
   "outputs": [],
   "source": [
    "import turtle\n",
    "colors=['red', 'blue', 'yellow', 'green', 'purple', 'orange']\n",
    "s=1\n",
    "n=5\n",
    "for i in range(8):\n",
    "  for j in colors:\n",
    "    turtle.pensize(s)\n",
    "    turtle.pencolor(j)\n",
    "    turtle.forward(n)\n",
    "    turtle.left(45)\n",
    "    n+=3\n",
    "  s+=2\n",
    "turtle.done()"
   ],
   "metadata": {
    "collapsed": false,
    "ExecuteTime": {
     "end_time": "2024-08-20T13:26:12.132486600Z",
     "start_time": "2024-08-20T13:25:36.583882700Z"
    }
   },
   "id": "6f50c88b73672fcd"
  },
  {
   "cell_type": "code",
   "execution_count": 6,
   "outputs": [],
   "source": [
    "import turtle\n",
    "\n",
    "colors = ( 'blue', 'yellow', 'green', 'purple', 'orange',  'red' )\n",
    "turtle.hideturtle()\n",
    "\n",
    "for i in range(44):\n",
    "  turtle.left(45)\n",
    "  turtle.pencolor(colors[i % 6])\n",
    "  turtle.pensize(i*0.5 + 1)\n",
    "  turtle.forward(i*2.5 + 5)\n",
    "  \n",
    "turtle.done()"
   ],
   "metadata": {
    "collapsed": false,
    "ExecuteTime": {
     "end_time": "2024-08-20T13:26:34.050695300Z",
     "start_time": "2024-08-20T13:26:15.036448900Z"
    }
   },
   "id": "9c03232e349f4e8e"
  },
  {
   "cell_type": "code",
   "execution_count": 8,
   "outputs": [],
   "source": [
    "import turtle\n",
    "\n",
    "turtle.goto(0, 100)\n",
    "turtle.goto(-100, 0)\n",
    "turtle.goto(0, 0)\n",
    "turtle.done()"
   ],
   "metadata": {
    "collapsed": false,
    "ExecuteTime": {
     "end_time": "2024-08-20T13:28:34.250070700Z",
     "start_time": "2024-08-20T13:28:31.437031200Z"
    }
   },
   "id": "c119fce1376d256b"
  },
  {
   "cell_type": "raw",
   "source": [
    "Команды turtle.setposition() и turtle.setpos() аналогичны команде turtle.goto(). Все три команды перемещают черепашку в заданную позицию."
   ],
   "metadata": {
    "collapsed": false
   },
   "id": "672626198980e048"
  },
  {
   "cell_type": "raw",
   "source": [
    "Команда turtle.pos() возвращает кортеж с x и y координатами черепашки."
   ],
   "metadata": {
    "collapsed": false
   },
   "id": "4c6b9e9aa654e9ed"
  },
  {
   "cell_type": "code",
   "execution_count": 10,
   "outputs": [
    {
     "name": "stdout",
     "output_type": "stream",
     "text": [
      "(100.00,150.00)\n"
     ]
    }
   ],
   "source": [
    "import turtle\n",
    "\n",
    "turtle.goto(100, 150)\n",
    "position = turtle.pos()\n",
    "print(position)\n",
    "turtle.done()"
   ],
   "metadata": {
    "collapsed": false,
    "ExecuteTime": {
     "end_time": "2024-08-20T13:29:35.748228100Z",
     "start_time": "2024-08-20T13:29:35.364175900Z"
    }
   },
   "id": "157d95564575e4f3"
  },
  {
   "cell_type": "raw",
   "source": [
    "Для получения только координаты x черепашки служит команда turtle.xcor(), а для получения координаты y – команда turtle.ycor()."
   ],
   "metadata": {
    "collapsed": false
   },
   "id": "cfc0d08524848a59"
  },
  {
   "cell_type": "code",
   "execution_count": 1,
   "outputs": [
    {
     "name": "stdout",
     "output_type": "stream",
     "text": [
      "200\n",
      "-150\n"
     ]
    }
   ],
   "source": [
    "import turtle\n",
    "\n",
    "turtle.goto(200, -150)\n",
    "x = turtle.xcor()\n",
    "y = turtle.ycor()\n",
    "print(x)\n",
    "print(y)\n",
    "turtle.done()"
   ],
   "metadata": {
    "collapsed": false,
    "ExecuteTime": {
     "end_time": "2024-08-20T13:30:24.171595800Z",
     "start_time": "2024-08-20T13:30:21.044742900Z"
    }
   },
   "id": "890417838f053689"
  },
  {
   "cell_type": "raw",
   "source": [
    "Команда turtle.position() аналогична команде turtle.pos(). Обе эти команды возвращают кортеж с x и y координатами черепашки."
   ],
   "metadata": {
    "collapsed": false
   },
   "id": "6512293d2502be0f"
  },
  {
   "cell_type": "raw",
   "source": [
    "Когда не нужно, чтобы черепашка отображалась на экране, применяется команда turtle.hideturtle(), которая ее прячет. Эта команда не изменяет процесс создания графического изображения, она просто скрывает значок черепашки. Когда требуется снова вывести черепашку на экран, применяется команда turtle.showturtle()."
   ],
   "metadata": {
    "collapsed": false
   },
   "id": "a846160c38d0fb67"
  },
  {
   "cell_type": "code",
   "execution_count": 3,
   "outputs": [],
   "source": [
    "import turtle\n",
    "\n",
    "turtle.speed(0)\n",
    "turtle.circle(50)\n",
    "turtle.done()"
   ],
   "metadata": {
    "collapsed": false,
    "ExecuteTime": {
     "end_time": "2024-08-20T13:31:18.952354100Z",
     "start_time": "2024-08-20T13:31:16.853172500Z"
    }
   },
   "id": "56456172a6e1d792"
  },
  {
   "cell_type": "code",
   "execution_count": 5,
   "outputs": [],
   "source": [
    "import turtle\n",
    "\n",
    "for i in range(1, 11):\n",
    "    turtle.speed(i)\n",
    "    turtle.circle(100 - 10*i)\n",
    "    \n",
    "turtle.done()"
   ],
   "metadata": {
    "collapsed": false,
    "ExecuteTime": {
     "end_time": "2024-08-20T13:32:12.180102400Z",
     "start_time": "2024-08-20T13:31:53.482914300Z"
    }
   },
   "id": "de424a842ae200a3"
  },
  {
   "cell_type": "code",
   "execution_count": 7,
   "outputs": [],
   "source": [
    "import turtle\n",
    "turtle.speed(0)\n",
    "for i in range(1, 111):\n",
    "    turtle.circle(100 - 10*i)\n",
    "    \n",
    "turtle.done()"
   ],
   "metadata": {
    "collapsed": false,
    "ExecuteTime": {
     "end_time": "2024-08-20T13:44:50.207520500Z",
     "start_time": "2024-08-20T13:44:36.990468900Z"
    }
   },
   "id": "a729ca82f65637bb"
  },
  {
   "cell_type": "code",
   "execution_count": null,
   "outputs": [],
   "source": [
    "import turtle\n",
    "\n",
    "def shalom(num):\n",
    "  for _ in '123':\n",
    "    turtle.forward(num)\n",
    "    turtle.left(120)\n",
    "  turtle.forward(num / 3)\n",
    "  turtle.left(120)\n",
    "  turtle.forward(num / 3 * 2)\n",
    "  turtle.right(120)\n",
    "  for _ in '123':\n",
    "    turtle.forward(num)\n",
    "    turtle.right(120)\n",
    "  \n",
    "shalom(100)"
   ],
   "metadata": {
    "collapsed": false
   },
   "id": "42f1b945c9f53bfb"
  },
  {
   "cell_type": "code",
   "execution_count": null,
   "outputs": [],
   "source": [
    "import turtle as t\n",
    "\n",
    "t.color('green')\n",
    "\n",
    "for i in range(-200, 200, 40):\n",
    "    t.goto(i, -200)\n",
    "    t.dot(10, 'blue')\n",
    "    t.goto(0, 0)\n",
    "    \n",
    "t.color('red')\n",
    "t.dot(15)"
   ],
   "metadata": {
    "collapsed": false
   },
   "id": "41fbe8c903bb7cb2"
  },
  {
   "cell_type": "code",
   "execution_count": null,
   "outputs": [],
   "source": [
    "import turtle\n",
    "\n",
    "r = 50\n",
    "pensize = 12\n",
    "turtle.Screen().setup(600, 1000)\n",
    "turtle.pensize(pensize)\n",
    "\n",
    "points = {1: {\"pos\": (0, 0),      \"color\": \"cyan\"},\n",
    "          3: {\"pos\": (r * 2, 0),  \"color\": \"black\"},\n",
    "          4: {\"pos\": (r * 4, 0),  \"color\": \"red\"},\n",
    "          5: {\"pos\": (r, -r),     \"color\": \"yellow\"},\n",
    "          2: {\"pos\": (r * 3, -r), \"color\": \"chartreuse\"}}\n",
    "             \n",
    "for i in range(1, 6):\n",
    "  turtle.penup()\n",
    "  turtle.pencolor(points[i][\"color\"])\n",
    "  turtle.goto(points[i][\"pos\"])\n",
    "  turtle.pendown()\n",
    "  turtle.circle(r - pensize / 2)"
   ],
   "metadata": {
    "collapsed": false
   },
   "id": "56c77a21d2dbfd15"
  },
  {
   "cell_type": "code",
   "execution_count": null,
   "outputs": [],
   "source": [
    "import turtle\n",
    "import math\n",
    "\n",
    "\n",
    "def draw_teddy(radius):\n",
    "  t = turtle.Turtle()\n",
    "  t.speed(10)\n",
    "  t.hideturtle()\n",
    "  t.penup()\n",
    "  draw_snout(t, radius)\n",
    "  draw_eyes(t, radius)\n",
    "  draw_ears(t, radius)\n",
    "  \n",
    "def draw_snout(t, radius):\n",
    "  # рисуем рыльце\n",
    "  t.setpos(0, -radius)\n",
    "  draw_circle(t, radius)\n",
    "  draw_circle(t, radius * 0.55)\n",
    "  t.setpos(0, -radius * 0.75)\n",
    "  draw_line(t, radius * 0.5, 90)\n",
    "  draw_circle(t, radius * 0.1)\n",
    "\n",
    "def draw_eyes(t, radius):\n",
    "  # рисуем глазки\n",
    "  for sign in (-1, 1):\n",
    "    t.setpos(radius/2 * sign, radius * 0.1)\n",
    "    t.dot(radius * 0.2)\n",
    "    \n",
    "def draw_ears(t, radius):\n",
    "  # рисуем ушки на макушке\n",
    "  angle = 40\n",
    "  x = radius * math.sin(math.radians(angle))\n",
    "  y = radius * math.cos(math.radians(angle))\n",
    "  \n",
    "  for sign in (-1, 1):\n",
    "    t.setpos(x * sign, y)\n",
    "    t.right(angle * sign)\n",
    "    draw_circle(t, radius * 0.25)\n",
    "    t.left(angle * sign)\n",
    "  \n",
    "def draw_circle(t, radius):\n",
    "  t.pendown()\n",
    "  t.circle(radius)\n",
    "  t.penup()\n",
    "  \n",
    "def draw_line(t, distance, angle):\n",
    "  t.left(angle)\n",
    "  t.pendown()\n",
    "  t.forward(distance)\n",
    "  t.right(angle)\n",
    "  t.penup()\n",
    "  \n",
    "if __name__ == '__main__':\n",
    "  draw_teddy(150)"
   ],
   "metadata": {
    "collapsed": false
   },
   "id": "8d93d9f016f6b3f1"
  },
  {
   "cell_type": "code",
   "execution_count": 1,
   "outputs": [],
   "source": [
    "from turtle import *\n",
    "import random as r\n",
    "\n",
    "\n",
    "# начальные настройки черепашки, можно задать скрытие указателя, скорость,\n",
    "# положение пера, вид указателя, позицию старта, размер пера, цвет фона, значение параметра tracer для быстрой отрисовки\n",
    "def settings(show, sp, up, sh, pos, sz, b_col, trace):\n",
    "    # show(True\\False)|sp(int)|up(True\\False)|sh(str)|pos(tuple)|sz(int)|b_col(str)\n",
    "    if not show:\n",
    "        hideturtle()\n",
    "    if up:\n",
    "        penup()\n",
    "    Screen().colormode(255)  # нужно закомментировать для Trinket\n",
    "    params = [speed(sp), shape(sh), goto(pos), pensize(sz), Screen().bgcolor(b_col), tracer(trace)]\n",
    "\n",
    "\n",
    "# функция-алгоритм снежинки, принимает в параметры размер одного звена ветви,\n",
    "# цвет, толщину и координаты старта\n",
    "def snowflake(size, color, depth, dest):\n",
    "    snowflake_defaults = [goto(dest), pencolor(color), pensize(depth), pd()]\n",
    "\n",
    "    def branch():\n",
    "        [(fd(size), lt(45), fd(size), bk(size), rt(90), fd(size), bk(size), lt(45)) for _ in\n",
    "         range(4)]\n",
    "        end_of_branch = [fd(size), bk(size * 5), lt(45)]\n",
    "\n",
    "    [branch() for _ in range(8)]\n",
    "    pu()\n",
    "\n",
    "\n",
    "# основное тело программы реализовано в виде функции snowing()\n",
    "def snowing():  # объявляем будущий словарь для хранения граничных значений отрисованных снежинок\n",
    "    coordinates = {(0, 0): (0, 0, 0, 0)}  # назначаем точку отсчета для начала вычисления расположения снежинок\n",
    "    attempt_counter = 0  # счетчик попыток генерации допустимых снежинок\n",
    "    while attempt_counter < 10 ** 5 * 2:\n",
    "        if attempt_counter > 10 ** 3:  # если неудачных попыток больше заданного числа,\n",
    "            size_k = (3, 6)  # уменьшаем возможные размеры звеньев\n",
    "        else:\n",
    "            size_k = (5, 21)\n",
    "        size = r.randrange(*size_k)  # задаем случайный размер звена в заданном диапазоне\n",
    "        dest = (r.randint(-600, 600), r.randint(-300, 250))  # случайные координаты снежинки, диапазоны также служат\n",
    "        # ограничением поля отрисовки, в моем случае для полноэкранного отображения при разрешении экрана 1440х900.\n",
    "        math_coord = tuple([dest[i] + size * j for i in [0, 1] for j in [-5, 5]]) # вычисляем границы снежинки \n",
    "        # condition - правило для проверки корректности расположения снежинки - любую снежинку используемого типа можно\n",
    "        # вписать в квадрат, граничные значения которого не должны пересекаться с уже имеющимися \"квадратами\",\n",
    "        # занесенными в соответствующий словарь. Достаточно одного из граничных значений, но для каждой снежинки,\n",
    "        # уже находящейся в словаре\n",
    "        condition = [any([math_coord[0] > c[1], math_coord[1] < c[0], math_coord[2] > c[3],\n",
    "                          math_coord[3] < c[2]]) for c in coordinates.values()]\n",
    "        if all(condition):  # если случайная снежинка может быть размещена\n",
    "            color = r.sample([c for c in range(1, 256)], 3)\n",
    "            snowflake(size, color, size // 3, dest)  # рисуем снежинку\n",
    "            coordinates[dest] = math_coord  # заносим координаты отрисованной снежинки в словарь\n",
    "            if attempt_counter < 10 ** 4:\n",
    "                attempt_counter = 0\n",
    "            else:\n",
    "                attempt_counter = 10 ** 4  # генерируем только маленькие снежинки\n",
    "        else:\n",
    "            attempt_counter += 1\n",
    "    goto(0, 350)\n",
    "    pencolor(*r.sample([c for c in range(1, 256)], 3))\n",
    "    write('Sorry, not enough space for a new snowflake', align='center', font=('Garamond', 40, 'italic'))\n",
    "    # по завершении цикла рисуем сообщение об отсутсвии свободных мест для снежинок\n",
    "\n",
    "\n",
    "settings(False, 0, True, 'turtle', (0, 0), 2, 'lightskyblue', 2)\n",
    "snowing()\n",
    "\n",
    "# end = input('For exit enter any character\\n')\n",
    "done()"
   ],
   "metadata": {
    "collapsed": false,
    "ExecuteTime": {
     "end_time": "2024-08-21T05:19:46.364713400Z",
     "start_time": "2024-08-21T05:19:04.773251200Z"
    }
   },
   "id": "46c62272a9d1c9a9"
  }
 ],
 "metadata": {
  "kernelspec": {
   "display_name": "Python 3",
   "language": "python",
   "name": "python3"
  },
  "language_info": {
   "codemirror_mode": {
    "name": "ipython",
    "version": 2
   },
   "file_extension": ".py",
   "mimetype": "text/x-python",
   "name": "python",
   "nbconvert_exporter": "python",
   "pygments_lexer": "ipython2",
   "version": "2.7.6"
  }
 },
 "nbformat": 4,
 "nbformat_minor": 5
}
