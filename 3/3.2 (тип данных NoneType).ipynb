{
 "cells": [
  {
   "cell_type": "raw",
   "source": [
    "В языке Python, слово null заменено на None"
   ],
   "metadata": {
    "collapsed": false
   },
   "id": "a02ae6c67f8dbdd7"
  },
  {
   "cell_type": "raw",
   "source": [
    "None – это объект специального типа данных NoneType"
   ],
   "metadata": {
    "collapsed": false
   },
   "id": "cb46a6de729c21eb"
  },
  {
   "cell_type": "code",
   "execution_count": 1,
   "outputs": [
    {
     "name": "stdout",
     "output_type": "stream",
     "text": [
      "<class 'NoneType'>\n"
     ]
    }
   ],
   "source": [
    "var = None\n",
    "print(type(var))"
   ],
   "metadata": {
    "collapsed": false,
    "ExecuteTime": {
     "end_time": "2024-07-03T11:04:23.241508600Z",
     "start_time": "2024-07-03T11:04:23.234145400Z"
    }
   },
   "id": "1709e96644353ff3"
  },
  {
   "cell_type": "raw",
   "source": [
    "Все переменные, которым присвоено значение None, ссылаются на один и тот же объект типа NoneType. Создание собственных экземпляров типа NoneType недопустимо. Объекты, существующие в единственном экземпляре, называются синглтонами."
   ],
   "metadata": {
    "collapsed": false
   },
   "id": "1784e55e8c49257f"
  },
  {
   "cell_type": "raw",
   "source": [
    "Для того чтобы проверить значение переменной на None, мы используем либо оператор is, либо оператор проверки на равенство ==."
   ],
   "metadata": {
    "collapsed": false
   },
   "id": "f6aac47116b9fa94"
  },
  {
   "cell_type": "code",
   "execution_count": 2,
   "outputs": [
    {
     "name": "stdout",
     "output_type": "stream",
     "text": [
      "None\n"
     ]
    }
   ],
   "source": [
    "var = None\n",
    "if var is None:  # используем оператор is\n",
    "  print('None')\n",
    "else:\n",
    "  print('Not None')"
   ],
   "metadata": {
    "collapsed": false,
    "ExecuteTime": {
     "end_time": "2024-07-03T11:05:40.599572200Z",
     "start_time": "2024-07-03T11:05:40.592956100Z"
    }
   },
   "id": "34eff401e6351b16"
  },
  {
   "cell_type": "code",
   "execution_count": 3,
   "outputs": [
    {
     "name": "stdout",
     "output_type": "stream",
     "text": [
      "None\n"
     ]
    }
   ],
   "source": [
    "var = None\n",
    "if var == None:  # используем оператор ==\n",
    "  print('None')\n",
    "else:\n",
    "  print('Not None')"
   ],
   "metadata": {
    "collapsed": false,
    "ExecuteTime": {
     "end_time": "2024-07-03T11:06:00.376917900Z",
     "start_time": "2024-07-03T11:06:00.367872600Z"
    }
   },
   "id": "13c2f572babab6c4"
  },
  {
   "cell_type": "raw",
   "source": [
    "Для сравнения переменной с None всегда используйте оператор is. Для встроенных типов поведение is и == абсолютно одинаково, однако с пользовательскими типами могут возникнуть проблемы, так как в Python есть возможность переопределения операторов сравнения в пользовательских типах"
   ],
   "metadata": {
    "collapsed": false
   },
   "id": "88b6461a365afd33"
  },
  {
   "cell_type": "raw",
   "source": [
    "Сравнение None с любым объектом, отличным от None, дает значение False."
   ],
   "metadata": {
    "collapsed": false
   },
   "id": "c54e268552f10474"
  },
  {
   "cell_type": "code",
   "execution_count": 4,
   "outputs": [
    {
     "name": "stdout",
     "output_type": "stream",
     "text": [
      "True\n"
     ]
    }
   ],
   "source": [
    "print(None == None)"
   ],
   "metadata": {
    "collapsed": false,
    "ExecuteTime": {
     "end_time": "2024-07-03T11:07:11.215239600Z",
     "start_time": "2024-07-03T11:07:11.206670700Z"
    }
   },
   "id": "eb0be5fd492fe9b3"
  },
  {
   "cell_type": "code",
   "execution_count": 5,
   "outputs": [
    {
     "name": "stdout",
     "output_type": "stream",
     "text": [
      "False\n",
      "False\n",
      "False\n",
      "False\n",
      "False\n"
     ]
    }
   ],
   "source": [
    "print(None == 17)\n",
    "print(None == 3.14)\n",
    "print(None == True)\n",
    "print(None == [1, 2, 3])\n",
    "print(None == 'Beegeek')"
   ],
   "metadata": {
    "collapsed": false,
    "ExecuteTime": {
     "end_time": "2024-07-03T11:07:15.670788Z",
     "start_time": "2024-07-03T11:07:15.662573700Z"
    }
   },
   "id": "661b122b04cc0799"
  },
  {
   "cell_type": "code",
   "execution_count": 6,
   "outputs": [
    {
     "name": "stdout",
     "output_type": "stream",
     "text": [
      "False\n",
      "False\n",
      "False\n"
     ]
    }
   ],
   "source": [
    "print(None == 0)\n",
    "print(None == False)\n",
    "print(None == '')"
   ],
   "metadata": {
    "collapsed": false,
    "ExecuteTime": {
     "end_time": "2024-07-03T11:07:33.183409200Z",
     "start_time": "2024-07-03T11:07:33.175513400Z"
    }
   },
   "id": "f72e5e2dfd7f6295"
  },
  {
   "cell_type": "raw",
   "source": [
    "Значение None не отождествляется со значениями 0, False, ''."
   ],
   "metadata": {
    "collapsed": false
   },
   "id": "7b8f589a71e96f5a"
  },
  {
   "cell_type": "raw",
   "source": [
    "Обратите внимание, что функции, не возвращающие значений, на самом деле, в Python возвращают значение None"
   ],
   "metadata": {
    "collapsed": false
   },
   "id": "b5933695c0da3412"
  },
  {
   "cell_type": "code",
   "execution_count": 10,
   "outputs": [
    {
     "name": "stdout",
     "output_type": "stream",
     "text": [
      "Я - Тимур,\n",
      "король матана.\n",
      "Я - Тимур,\n",
      "король матана.\n"
     ]
    }
   ],
   "source": [
    "def print_message():\n",
    "    print('Я - Тимур,')\n",
    "    print('король матана.')\n",
    "    \n",
    "print_message()\n",
    "res = print_message()"
   ],
   "metadata": {
    "collapsed": false,
    "ExecuteTime": {
     "end_time": "2024-07-03T11:09:13.356811400Z",
     "start_time": "2024-07-03T11:09:13.353236900Z"
    }
   },
   "id": "f85966ec28624427"
  },
  {
   "cell_type": "raw",
   "source": [
    "В переменной res хранится значение None."
   ],
   "metadata": {
    "collapsed": false
   },
   "id": "3b18fa9c40947fb6"
  },
  {
   "cell_type": "raw",
   "source": [
    "Концепция null значений появилась при создании языка ALGOL W великим Чарльзом Хоаром, который позднее назвал собственную идею ошибкой на миллиард долларов."
   ],
   "metadata": {
    "collapsed": false
   },
   "id": "d125d4c8700ec901"
  },
  {
   "cell_type": "raw",
   "source": [
    "Чарльз Хоар - автор одного из самых быстрых алгоритмов сортировки, основанной на сравнениях: быстрая сортировка (QuickSort)."
   ],
   "metadata": {
    "collapsed": false
   },
   "id": "e0826a35641f139c"
  },
  {
   "cell_type": "code",
   "execution_count": null,
   "outputs": [],
   "source": [],
   "metadata": {
    "collapsed": false
   },
   "id": "44ab5d16f1eb08a3"
  }
 ],
 "metadata": {
  "kernelspec": {
   "display_name": "Python 3",
   "language": "python",
   "name": "python3"
  },
  "language_info": {
   "codemirror_mode": {
    "name": "ipython",
    "version": 2
   },
   "file_extension": ".py",
   "mimetype": "text/x-python",
   "name": "python",
   "nbconvert_exporter": "python",
   "pygments_lexer": "ipython2",
   "version": "2.7.6"
  }
 },
 "nbformat": 4,
 "nbformat_minor": 5
}
