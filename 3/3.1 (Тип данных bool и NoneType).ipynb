{
 "cells": [
  {
   "cell_type": "raw",
   "source": [
    "приоритет оператора not выше, чем у оператора and, приоритет которого, в свою очередь, выше, чем у оператора or."
   ],
   "metadata": {
    "collapsed": false
   },
   "id": "d11a84e15de141e7"
  },
  {
   "cell_type": "code",
   "execution_count": 1,
   "outputs": [
    {
     "name": "stdout",
     "output_type": "stream",
     "text": [
      "True\n",
      "True\n"
     ]
    }
   ],
   "source": [
    "print(True == 1)\n",
    "print(False == 0)"
   ],
   "metadata": {
    "collapsed": false,
    "ExecuteTime": {
     "end_time": "2024-07-03T08:37:55.886024900Z",
     "start_time": "2024-07-03T08:37:55.881018800Z"
    }
   },
   "id": "74014b0e7d542f1"
  },
  {
   "cell_type": "code",
   "execution_count": 2,
   "outputs": [
    {
     "name": "stdout",
     "output_type": "stream",
     "text": [
      "3\n",
      "1.0\n"
     ]
    }
   ],
   "source": [
    "print(True + True + True - False)\n",
    "print(True + (False / True))"
   ],
   "metadata": {
    "collapsed": false,
    "ExecuteTime": {
     "end_time": "2024-07-03T08:38:05.653169400Z",
     "start_time": "2024-07-03T08:38:05.648618600Z"
    }
   },
   "id": "7845b920683e1b6a"
  },
  {
   "cell_type": "raw",
   "source": [
    "Возможность трактовать булевы выражения как числа на практике используется не так часто. Однако есть один прием, который может оказаться полезным. Поскольку True равно 1, а False равно 0, сложение логических значений вместе – это быстрый способ подсчета количества значений True. Это может пригодиться, когда требуется подсчитать количество элементов, удовлетворяющих условию."
   ],
   "metadata": {
    "collapsed": false
   },
   "id": "6ef6679296395a02"
  },
  {
   "cell_type": "code",
   "execution_count": 3,
   "outputs": [
    {
     "name": "stdout",
     "output_type": "stream",
     "text": [
      "5\n"
     ]
    }
   ],
   "source": [
    "numbers = [1, 2, 3, 4, 5, 8, 10, 12, 15, 17]\n",
    "res = 0\n",
    "\n",
    "for num in numbers:\n",
    "    res += (num % 2 == 0)\n",
    "\n",
    "print(res)\n",
    "# выведет количество четных элементов списка numbers, то есть число 5"
   ],
   "metadata": {
    "collapsed": false,
    "ExecuteTime": {
     "end_time": "2024-07-03T08:39:02.875703800Z",
     "start_time": "2024-07-03T08:39:02.850260100Z"
    }
   },
   "id": "2b819ca3a15da6c6"
  },
  {
   "cell_type": "raw",
   "source": [
    "https://www.youtube.com/watch?v=Hljir_TyTEw"
   ],
   "metadata": {
    "collapsed": false
   },
   "id": "3ff20b044650b73e"
  },
  {
   "cell_type": "code",
   "execution_count": 4,
   "outputs": [
    {
     "data": {
      "text/plain": "True"
     },
     "execution_count": 4,
     "metadata": {},
     "output_type": "execute_result"
    }
   ],
   "source": [
    "False or True"
   ],
   "metadata": {
    "collapsed": false,
    "ExecuteTime": {
     "end_time": "2024-07-03T10:06:02.132088100Z",
     "start_time": "2024-07-03T10:06:02.125095800Z"
    }
   },
   "id": "2c5136d6012a9b77"
  },
  {
   "cell_type": "code",
   "execution_count": 5,
   "outputs": [
    {
     "name": "stdout",
     "output_type": "stream",
     "text": [
      "15\n"
     ]
    }
   ],
   "source": [
    "num1 = 3 * True - (True + False)\n",
    "num2 = (True + True + False) ** 3 + 5\n",
    "print(num1 + num2)"
   ],
   "metadata": {
    "collapsed": false,
    "ExecuteTime": {
     "end_time": "2024-07-03T10:10:47.831284Z",
     "start_time": "2024-07-03T10:10:47.823717800Z"
    }
   },
   "id": "ff864403dad97280"
  },
  {
   "cell_type": "code",
   "execution_count": 6,
   "outputs": [
    {
     "name": "stdout",
     "output_type": "stream",
     "text": [
      "True\n"
     ]
    }
   ],
   "source": [
    "a = 6\n",
    "b = 10\n",
    "print(not a == 10 and b == 10)"
   ],
   "metadata": {
    "collapsed": false,
    "ExecuteTime": {
     "end_time": "2024-07-03T10:10:58.451491800Z",
     "start_time": "2024-07-03T10:10:58.448992Z"
    }
   },
   "id": "cd35e7b3b271fff"
  },
  {
   "cell_type": "code",
   "execution_count": 7,
   "outputs": [
    {
     "name": "stdout",
     "output_type": "stream",
     "text": [
      "False\n"
     ]
    }
   ],
   "source": [
    "a = 6\n",
    "b = 10\n",
    "print(not (not a == 10 or not b == 10))"
   ],
   "metadata": {
    "collapsed": false,
    "ExecuteTime": {
     "end_time": "2024-07-03T10:11:06.490742Z",
     "start_time": "2024-07-03T10:11:06.488228500Z"
    }
   },
   "id": "354794c00cc99f3"
  },
  {
   "cell_type": "code",
   "execution_count": 8,
   "outputs": [
    {
     "name": "stdout",
     "output_type": "stream",
     "text": [
      "5\n"
     ]
    }
   ],
   "source": [
    "numbers = [-6, -8, 0, 1, 3, 8, -7, 12, 17, 24, 25, 3, 5, 1]\n",
    "res = 0\n",
    "for num in numbers:\n",
    "    res += (num % 2 == 1) and (num > 1)\n",
    "print(res)"
   ],
   "metadata": {
    "collapsed": false,
    "ExecuteTime": {
     "end_time": "2024-07-03T10:11:16.434679900Z",
     "start_time": "2024-07-03T10:11:16.432178100Z"
    }
   },
   "id": "498f8f87d7fd2434"
  },
  {
   "cell_type": "raw",
   "source": [
    "Для приведения других типов данных к булеву существует функция bool(), работающая по следующим соглашениям:\n",
    "\n",
    "строки: пустая строка — ложь (False), непустая строка — истина (True);\n",
    "числа: нулевое число — ложь (False), ненулевое число (в том числе и меньшее нуля) — истина (True);\n",
    "списки: пустой список — ложь (False), непустой — истина (True)."
   ],
   "metadata": {
    "collapsed": false
   },
   "id": "37f95ff677c946c3"
  },
  {
   "cell_type": "code",
   "execution_count": 9,
   "outputs": [
    {
     "name": "stdout",
     "output_type": "stream",
     "text": [
      "True\n",
      "True\n",
      "True\n",
      "False\n",
      "False\n",
      "False\n",
      "False\n"
     ]
    }
   ],
   "source": [
    "print(bool('Beegeek'))\n",
    "print(bool(17))\n",
    "print(bool(['apple', 'cherry']))\n",
    "print(bool())\n",
    "print(bool(''))\n",
    "print(bool(0))\n",
    "print(bool([]))"
   ],
   "metadata": {
    "collapsed": false,
    "ExecuteTime": {
     "end_time": "2024-07-03T10:12:29.552981600Z",
     "start_time": "2024-07-03T10:12:29.551468700Z"
    }
   },
   "id": "f1f611c34c126d8b"
  },
  {
   "cell_type": "raw",
   "source": [
    "В программировании функция, которая возвращает значение True или False, называется предикатом."
   ],
   "metadata": {
    "collapsed": false
   },
   "id": "27865d61be92c503"
  },
  {
   "cell_type": "code",
   "execution_count": null,
   "outputs": [],
   "source": [
    "def is_even(num):\n",
    "    return num % 2 == 0"
   ],
   "metadata": {
    "collapsed": false
   },
   "id": "44e1bec781a7b15b"
  },
  {
   "cell_type": "raw",
   "source": [
    "В языке Python имеется встроенная функция isinstance() для проверки соответствия типа объекта какому-либо типу данных."
   ],
   "metadata": {
    "collapsed": false
   },
   "id": "30eb724a1713ebcb"
  },
  {
   "cell_type": "code",
   "execution_count": 10,
   "outputs": [
    {
     "name": "stdout",
     "output_type": "stream",
     "text": [
      "True\n",
      "True\n",
      "True\n",
      "True\n",
      "True\n"
     ]
    }
   ],
   "source": [
    "print(isinstance(3, int))\n",
    "print(isinstance(3.5, float))\n",
    "print(isinstance('Beegeek', str))\n",
    "print(isinstance([1, 2, 3], list))\n",
    "print(isinstance(True, bool))"
   ],
   "metadata": {
    "collapsed": false,
    "ExecuteTime": {
     "end_time": "2024-07-03T10:48:53.819945800Z",
     "start_time": "2024-07-03T10:48:53.811888100Z"
    }
   },
   "id": "41c0decdd2f0938d"
  },
  {
   "cell_type": "raw",
   "source": [
    "В языке Python имеется встроенная функция type(), позволяющая получить тип указанного в качестве аргумента объекта."
   ],
   "metadata": {
    "collapsed": false
   },
   "id": "6dd16df1eebba8d"
  },
  {
   "cell_type": "code",
   "execution_count": 11,
   "outputs": [
    {
     "name": "stdout",
     "output_type": "stream",
     "text": [
      "<class 'int'>\n",
      "<class 'float'>\n",
      "<class 'str'>\n",
      "<class 'list'>\n",
      "<class 'bool'>\n"
     ]
    }
   ],
   "source": [
    "print(type(3))\n",
    "print(type(3.5))\n",
    "print(type('Beegeek'))\n",
    "print(type([1, 2, 3]))\n",
    "print(type(True))"
   ],
   "metadata": {
    "collapsed": false,
    "ExecuteTime": {
     "end_time": "2024-07-03T10:49:41.754122Z",
     "start_time": "2024-07-03T10:49:41.747607400Z"
    }
   },
   "id": "eae76412fdbad055"
  },
  {
   "cell_type": "raw",
   "source": [
    "Обратите внимание, что при проверке типов обычно вместо функции type() используется функция isinstance(), так как она принимает во внимание иерархию типов (ООП)."
   ],
   "metadata": {
    "collapsed": false
   },
   "id": "4e14c58b2ae03324"
  },
  {
   "cell_type": "raw",
   "source": [
    "Напишите функцию func(num1, num2), принимающую в качестве аргументов два натуральных числа num1 и num2 и возвращающую значение True если число num1 делится без остатка на число num2 и False в противном случае.\n",
    "\n",
    "Результатом вывода программы должно быть \"делится\" (если функция func() вернула True) и \"не делится\" (если функция func() вернула False)."
   ],
   "metadata": {
    "collapsed": false
   },
   "id": "1a7428ca47d84ad5"
  },
  {
   "cell_type": "code",
   "execution_count": null,
   "outputs": [],
   "source": [
    "# объявление функции\n",
    "def func(num1, num2):\n",
    "    return not num1 % num2\n",
    "\n",
    "\n",
    "# считываем данные\n",
    "num1, num2 = int(input()), int(input())\n",
    "\n",
    "# вызываем функцию\n",
    "if func(num1, num2):\n",
    "    print('делится')\n",
    "else:\n",
    "    print('не делится')"
   ],
   "metadata": {
    "collapsed": false
   },
   "id": "ab7c2a009455cdf7"
  },
  {
   "cell_type": "code",
   "execution_count": 13,
   "outputs": [
    {
     "data": {
      "text/plain": "1"
     },
     "execution_count": 13,
     "metadata": {},
     "output_type": "execute_result"
    }
   ],
   "source": [
    "10%3"
   ],
   "metadata": {
    "collapsed": false,
    "ExecuteTime": {
     "end_time": "2024-07-03T10:55:55.912935Z",
     "start_time": "2024-07-03T10:55:55.906099300Z"
    }
   },
   "id": "13ee34a92d158081"
  }
 ],
 "metadata": {
  "kernelspec": {
   "display_name": "Python 3",
   "language": "python",
   "name": "python3"
  },
  "language_info": {
   "codemirror_mode": {
    "name": "ipython",
    "version": 2
   },
   "file_extension": ".py",
   "mimetype": "text/x-python",
   "name": "python",
   "nbconvert_exporter": "python",
   "pygments_lexer": "ipython2",
   "version": "2.7.6"
  }
 },
 "nbformat": 4,
 "nbformat_minor": 5
}
