{
 "cells": [
  {
   "cell_type": "raw",
   "source": [
    "Все ранее написанные нами функции имели позиционные аргументы. Такие аргументы передаются без указания имен. Они называются позиционными, потому что именно по позиции, расположению аргумента, функция понимает, какому параметру он соответствует."
   ],
   "metadata": {
    "collapsed": false
   },
   "id": "30b21da657c69447"
  },
  {
   "cell_type": "code",
   "execution_count": 1,
   "outputs": [
    {
     "name": "stdout",
     "output_type": "stream",
     "text": [
      "7\n"
     ]
    }
   ],
   "source": [
    "def diff(x, y):\n",
    "    return x - y\n",
    "\n",
    "\n",
    "res = diff(10, 3)  # используем позиционные аргументы\n",
    "print(res)"
   ],
   "metadata": {
    "collapsed": false,
    "ExecuteTime": {
     "end_time": "2024-08-21T06:29:39.396317100Z",
     "start_time": "2024-08-21T06:29:39.387694500Z"
    }
   },
   "id": "afce8996de20c278"
  },
  {
   "cell_type": "raw",
   "source": [
    "Аргументы, передаваемые с именами, называются именованными. При вызове функции можно использовать имена параметров из ее определения. Исключение составляют списки аргументов неопределенной длины, где используются аргументы со звездочкой"
   ],
   "metadata": {
    "collapsed": false
   },
   "id": "59611858ef42b6e2"
  },
  {
   "cell_type": "code",
   "execution_count": 2,
   "outputs": [
    {
     "name": "stdout",
     "output_type": "stream",
     "text": [
      "7\n"
     ]
    }
   ],
   "source": [
    "def diff(x, y):\n",
    "    return x - y\n",
    "\n",
    "\n",
    "res = diff(x=10, y=3)  # используем именованные аргументы\n",
    "print(res)"
   ],
   "metadata": {
    "collapsed": false,
    "ExecuteTime": {
     "end_time": "2024-08-21T06:30:34.367059500Z",
     "start_time": "2024-08-21T06:30:34.360528700Z"
    }
   },
   "id": "5da55a7d67bb2df8"
  },
  {
   "cell_type": "raw",
   "source": [
    "Использование именованных аргументов позволяет нарушать их позиционный порядок при вызове функции. Порядок упоминания именованных аргументов не имеет значения!"
   ],
   "metadata": {
    "collapsed": false
   },
   "id": "32c778de4b713dc6"
  },
  {
   "cell_type": "code",
   "execution_count": 4,
   "outputs": [
    {
     "name": "stdout",
     "output_type": "stream",
     "text": [
      "7\n"
     ]
    }
   ],
   "source": [
    "res = diff(y=3, x=10)\n",
    "print(res)"
   ],
   "metadata": {
    "collapsed": false,
    "ExecuteTime": {
     "end_time": "2024-08-21T06:31:40.433373300Z",
     "start_time": "2024-08-21T06:31:40.428161300Z"
    }
   },
   "id": "a4aeb28a3143115f"
  },
  {
   "cell_type": "raw",
   "source": [
    "Каких-то строгих правил на этот счёт не существует. Однако широко практикуется такой подход: если функция принимает больше трёх аргументов, нужно хотя бы часть из них указать по имени. Особенно важно именовать значения аргументов, когда они относятся к одному типу, ведь без имен очень трудно понять, что делает функция с подобным вызовом."
   ],
   "metadata": {
    "collapsed": false
   },
   "id": "27bb5091170a6083"
  },
  {
   "cell_type": "raw",
   "source": [
    "В соответствии с PEP 8 при указании значений именованных аргументов при вызове функции знак равенства не окружается пробелами."
   ],
   "metadata": {
    "collapsed": false
   },
   "id": "ba02f5acb6f8dbc9"
  },
  {
   "cell_type": "raw",
   "source": [
    "Мы можем вызывать функции, используя именованные и позиционные аргументы одновременно. Но позиционные значения должны быть указаны до любых именованных!"
   ],
   "metadata": {
    "collapsed": false
   },
   "id": "877463035b145b7"
  },
  {
   "cell_type": "code",
   "execution_count": 7,
   "outputs": [
    {
     "name": "stdout",
     "output_type": "stream",
     "text": [
      "7\n"
     ]
    }
   ],
   "source": [
    "res = diff(10, y=3)  # используем позиционный и именованный аргумент\n",
    "print(res)"
   ],
   "metadata": {
    "collapsed": false,
    "ExecuteTime": {
     "end_time": "2024-08-21T06:34:38.050086600Z",
     "start_time": "2024-08-21T06:34:38.040748Z"
    }
   },
   "id": "bf2fff5177345f03"
  },
  {
   "cell_type": "raw",
   "source": [
    "Чтобы задать значение параметра по умолчанию, в списке параметров функции достаточно после имени переменной написать знак равенства и нужное значение.\n",
    "\n",
    "Параметры со значением по умолчанию идут последними, ведь иначе интерпретатор не смог бы понять, какой из аргументов указан, а какой пропущен, и для него нужно использовать значение по умолчанию."
   ],
   "metadata": {
    "collapsed": false
   },
   "id": "c5b1abb7386e0338"
  },
  {
   "cell_type": "raw",
   "source": [
    "При использовании изменяемых типов данных в качестве значения параметра по умолчанию можно столкнуться с неожиданными результатами работы функции."
   ],
   "metadata": {
    "collapsed": false
   },
   "id": "67029560d3bde233"
  },
  {
   "cell_type": "raw",
   "source": [
    "Параметр в программировании — принятый функцией аргумент. Термин «аргумент» подразумевает, что конкретно и какой конкретной функции было передано, а параметр — в каком качестве функция применила это принятое. То есть вызывающий код передает аргумент в параметр, который определен в описании (заголовке) функции.\n",
    "\n",
    "Parameter → Placeholder (заполнитель принадлежит имени функции и используется в теле функции);\n",
    "Argument → Actual value (фактическое значение, которое передается при вызове функции)."
   ],
   "metadata": {
    "collapsed": false
   },
   "id": "270e19f0ceb59097"
  },
  {
   "cell_type": "code",
   "execution_count": 8,
   "outputs": [
    {
     "name": "stdout",
     "output_type": "stream",
     "text": [
      "-*-*-*-*-*-\n"
     ]
    }
   ],
   "source": [
    "def fancy(length, char1, char2):\n",
    "    return (char1 + char2) * length + char1\n",
    "\n",
    "\n",
    "print(fancy(5, '-', '*'))"
   ],
   "metadata": {
    "collapsed": false,
    "ExecuteTime": {
     "end_time": "2024-08-21T08:04:43.852014800Z",
     "start_time": "2024-08-21T08:04:43.845589Z"
    }
   },
   "id": "f6af194c13ebafb7"
  },
  {
   "cell_type": "code",
   "execution_count": 9,
   "outputs": [
    {
     "name": "stdout",
     "output_type": "stream",
     "text": [
      "-*-*-*-\n"
     ]
    }
   ],
   "source": [
    "def fancy(length, char1='-', char2='*'):\n",
    "    return (char1 + char2) * length + char1\n",
    "\n",
    "\n",
    "print(fancy(3))"
   ],
   "metadata": {
    "collapsed": false,
    "ExecuteTime": {
     "end_time": "2024-08-21T08:04:56.878534400Z",
     "start_time": "2024-08-21T08:04:56.869593800Z"
    }
   },
   "id": "5fb8591fabd82cc5"
  },
  {
   "cell_type": "code",
   "execution_count": 10,
   "outputs": [
    {
     "name": "stdout",
     "output_type": "stream",
     "text": [
      ".*.*.*.\n"
     ]
    }
   ],
   "source": [
    "def fancy(length, char1='-', char2='*'):\n",
    "    return (char1 + char2) * length + char1\n",
    "\n",
    "\n",
    "print(fancy(3, '.'))"
   ],
   "metadata": {
    "collapsed": false,
    "ExecuteTime": {
     "end_time": "2024-08-21T08:05:10.670091400Z",
     "start_time": "2024-08-21T08:05:10.661073700Z"
    }
   },
   "id": "49284aa7f6520d81"
  },
  {
   "cell_type": "code",
   "execution_count": 11,
   "outputs": [
    {
     "name": "stdout",
     "output_type": "stream",
     "text": [
      ":|:|:\n"
     ]
    }
   ],
   "source": [
    "def fancy(length, char1='-', char2='*'):\n",
    "    return (char1 + char2) * length + char1\n",
    "\n",
    "\n",
    "print(fancy(2, ':', '|'))"
   ],
   "metadata": {
    "collapsed": false,
    "ExecuteTime": {
     "end_time": "2024-08-21T08:05:33.733027400Z",
     "start_time": "2024-08-21T08:05:33.725751200Z"
    }
   },
   "id": "589a71f8226e7937"
  },
  {
   "cell_type": "code",
   "execution_count": 12,
   "outputs": [
    {
     "name": "stdout",
     "output_type": "stream",
     "text": [
      "-#-#-#-#-\n"
     ]
    }
   ],
   "source": [
    "def fancy(length, char1='-', char2='*'):\n",
    "    return (char1 + char2) * length + char1\n",
    "\n",
    "\n",
    "print(fancy(4, char2='#'))"
   ],
   "metadata": {
    "collapsed": false,
    "ExecuteTime": {
     "end_time": "2024-08-21T08:05:50.231334700Z",
     "start_time": "2024-08-21T08:05:50.220634900Z"
    }
   },
   "id": "ba433f358297f863"
  },
  {
   "cell_type": "code",
   "execution_count": 13,
   "outputs": [
    {
     "name": "stdout",
     "output_type": "stream",
     "text": [
      "-$-$-$-\n"
     ]
    }
   ],
   "source": [
    "def fancy(length, char1='-', char2='*'):\n",
    "    return (char1 + char2) * length + char1\n",
    "\n",
    "\n",
    "print(fancy(char2='$', length=3))"
   ],
   "metadata": {
    "collapsed": false,
    "ExecuteTime": {
     "end_time": "2024-08-21T08:06:00.173234400Z",
     "start_time": "2024-08-21T08:06:00.165282900Z"
    }
   },
   "id": "2b1acde998438d29"
  },
  {
   "cell_type": "code",
   "execution_count": 14,
   "outputs": [
    {
     "ename": "TypeError",
     "evalue": "fancy() missing 1 required positional argument: 'length'",
     "output_type": "error",
     "traceback": [
      "\u001B[1;31m---------------------------------------------------------------------------\u001B[0m",
      "\u001B[1;31mTypeError\u001B[0m                                 Traceback (most recent call last)",
      "Cell \u001B[1;32mIn[14], line 5\u001B[0m\n\u001B[0;32m      1\u001B[0m \u001B[38;5;28;01mdef\u001B[39;00m \u001B[38;5;21mfancy\u001B[39m(length, char1\u001B[38;5;241m=\u001B[39m\u001B[38;5;124m'\u001B[39m\u001B[38;5;124m-\u001B[39m\u001B[38;5;124m'\u001B[39m, char2\u001B[38;5;241m=\u001B[39m\u001B[38;5;124m'\u001B[39m\u001B[38;5;124m*\u001B[39m\u001B[38;5;124m'\u001B[39m):\n\u001B[0;32m      2\u001B[0m     \u001B[38;5;28;01mreturn\u001B[39;00m (char1 \u001B[38;5;241m+\u001B[39m char2) \u001B[38;5;241m*\u001B[39m length \u001B[38;5;241m+\u001B[39m char1\n\u001B[1;32m----> 5\u001B[0m \u001B[38;5;28mprint\u001B[39m(\u001B[43mfancy\u001B[49m\u001B[43m(\u001B[49m\u001B[43mchar2\u001B[49m\u001B[38;5;241;43m=\u001B[39;49m\u001B[38;5;124;43m'\u001B[39;49m\u001B[38;5;124;43m!\u001B[39;49m\u001B[38;5;124;43m'\u001B[39;49m\u001B[43m)\u001B[49m)\n",
      "\u001B[1;31mTypeError\u001B[0m: fancy() missing 1 required positional argument: 'length'"
     ]
    }
   ],
   "source": [
    "def fancy(length, char1='-', char2='*'):\n",
    "    return (char1 + char2) * length + char1\n",
    "\n",
    "\n",
    "print(fancy(char2='!'))"
   ],
   "metadata": {
    "collapsed": false,
    "ExecuteTime": {
     "end_time": "2024-08-21T08:06:14.790356700Z",
     "start_time": "2024-08-21T08:06:14.511293500Z"
    }
   },
   "id": "fa7e3b5c36b664fa"
  },
  {
   "cell_type": "raw",
   "source": [
    "Напишите функцию matrix(), которая создает, заполняет и возвращает матрицу заданного размера. При этом (в зависимости от переданных аргументов) она должна вести себя так:\n",
    "\n",
    "matrix() — возвращает матрицу 1×1, в которой единственное число равно нулю;\n",
    "matrix(n) — возвращает матрицу n*n, заполненную нулями;\n",
    "matrix(n, m) — возвращает матрицу из n строк и m столбцов, заполненную нулями;\n",
    "matrix(n, m, value) — возвращает матрицу из n строк и m столбцов, в которой каждый элемент равен числу value.\n",
    "При создании функции пользуйтесь аргументами по умолчанию."
   ],
   "metadata": {
    "collapsed": false
   },
   "id": "9480f36c5ad3e1b6"
  },
  {
   "cell_type": "code",
   "execution_count": 45,
   "outputs": [
    {
     "name": "stdout",
     "output_type": "stream",
     "text": [
      "[[0]]\n",
      "[[0, 0, 0], [0, 0, 0], [0, 0, 0]]\n",
      "[[0, 0, 0, 0, 0], [0, 0, 0, 0, 0]]\n",
      "[[9, 9, 9, 9], [9, 9, 9, 9], [9, 9, 9, 9]]\n",
      "[[0], [0], [0]]\n"
     ]
    }
   ],
   "source": [
    "def matrix(count=1, length=None, number=0):\n",
    "    l = []\n",
    "    if length == None:\n",
    "        length = count\n",
    "        for _ in range(count):\n",
    "            l.append([number] * length)\n",
    "    else:\n",
    "        for _ in range(count):\n",
    "            l.append([number] * length)\n",
    "    return l\n",
    "\n",
    "\n",
    "print(matrix())  # матрица 1 × 1 из 0\n",
    "print(matrix(3))  # матрица 3 × 3 из 0\n",
    "print(matrix(2, 5))  # матрица 2 × 5 из 0\n",
    "print(matrix(3, 4, 9))  # матрица 3 × 4 из 9\n",
    "print(matrix(3, 1))  # матрица 3 × 4 из 9"
   ],
   "metadata": {
    "collapsed": false,
    "ExecuteTime": {
     "end_time": "2024-08-21T08:40:02.963553Z",
     "start_time": "2024-08-21T08:40:02.950964300Z"
    }
   },
   "id": "5955adba4d254004"
  },
  {
   "cell_type": "code",
   "execution_count": null,
   "outputs": [],
   "source": [
    "def matrix(n=1, m=None, value=0):\n",
    "    if m is None:\n",
    "        m = n\n",
    "    return [[value] * m for _ in range(n)]"
   ],
   "metadata": {
    "collapsed": false
   },
   "id": "9e0e54f948cbb3ec"
  }
 ],
 "metadata": {
  "kernelspec": {
   "display_name": "Python 3",
   "language": "python",
   "name": "python3"
  },
  "language_info": {
   "codemirror_mode": {
    "name": "ipython",
    "version": 2
   },
   "file_extension": ".py",
   "mimetype": "text/x-python",
   "name": "python",
   "nbconvert_exporter": "python",
   "pygments_lexer": "ipython2",
   "version": "2.7.6"
  }
 },
 "nbformat": 4,
 "nbformat_minor": 5
}
