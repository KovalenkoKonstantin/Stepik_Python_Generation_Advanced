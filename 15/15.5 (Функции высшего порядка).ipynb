{
 "cells": [
  {
   "cell_type": "raw",
   "source": [
    "Как уже сказано, функции, которые принимают или/и возвращают другие функции, называются функциями высшего порядка."
   ],
   "metadata": {
    "collapsed": false
   },
   "id": "22ee6535de8bf324"
  },
  {
   "cell_type": "code",
   "execution_count": 1,
   "outputs": [],
   "source": [
    "def high_order_function(func):  # функция высшего порядка, так как принимает функцию\n",
    "    return func(3)\n",
    "\n",
    "\n",
    "def double(x):  # обычная функция = функция первого порядка\n",
    "    return 2 * x\n",
    "\n",
    "\n",
    "def add_one(x):  # обычная функция = функция первого порядка\n",
    "    return x + 1"
   ],
   "metadata": {
    "collapsed": false,
    "ExecuteTime": {
     "end_time": "2024-08-27T05:46:50.203104900Z",
     "start_time": "2024-08-27T05:46:50.200003300Z"
    }
   },
   "id": "f47c3c78917d4a76"
  },
  {
   "cell_type": "code",
   "execution_count": 2,
   "outputs": [
    {
     "name": "stdout",
     "output_type": "stream",
     "text": [
      "6\n",
      "4\n"
     ]
    }
   ],
   "source": [
    "print(high_order_function(double))\n",
    "print(high_order_function(add_one))"
   ],
   "metadata": {
    "collapsed": false,
    "ExecuteTime": {
     "end_time": "2024-08-27T05:47:27.934585500Z",
     "start_time": "2024-08-27T05:47:27.927931800Z"
    }
   },
   "id": "c6d7383bf5296ba8"
  },
  {
   "cell_type": "raw",
   "source": [
    "Функции первого порядка принимают и возвращают \"обычные\" значения, а не функции. Функции же высшего порядка принимают и/или возвращают другие функции."
   ],
   "metadata": {
    "collapsed": false
   },
   "id": "5bf3e38abb5a52ea"
  },
  {
   "cell_type": "raw",
   "source": [
    "Часто функции высшего порядка используются для обработки наборов данных. Рассмотрим три важные функции высшего порядка:\n",
    "\n",
    "map();\n",
    "filter();\n",
    "reduce().\n",
    "\n",
    "В языке Python эти функции уже реализованы, однако для лучшего понимания их работы мы сначала напишем свои версии этих функций, и уже после этого поговорим о встроенных реализациях."
   ],
   "metadata": {
    "collapsed": false
   },
   "id": "8c53dbd0d108de0"
  },
  {
   "cell_type": "raw",
   "source": [
    "Функции высшего порядка map(), filter() и reduce() довольно широко распространены в функциональном программировании и часто применяются программистами."
   ],
   "metadata": {
    "collapsed": false
   },
   "id": "bb99fde5b2bc234c"
  },
  {
   "cell_type": "markdown",
   "source": [
    "Функция map()"
   ],
   "metadata": {
    "collapsed": false
   },
   "id": "2572ce0f5712874d"
  },
  {
   "cell_type": "raw",
   "source": [
    "При работе со списками часто требуется применить одно и то же преобразование к каждому элементу. Можно написать цикл, содержащий нужное преобразование.\n",
    "\n",
    "Например, для преобразования списка чисел в список их квадратов, код может выглядеть так:"
   ],
   "metadata": {
    "collapsed": false
   },
   "id": "a7f8440856dbe5a7"
  },
  {
   "cell_type": "code",
   "execution_count": 3,
   "outputs": [
    {
     "name": "stdout",
     "output_type": "stream",
     "text": [
      "[1, 2, 4, 9, 10, 25]\n",
      "[1, 4, 16, 81, 100, 625]\n"
     ]
    }
   ],
   "source": [
    "def f(x):\n",
    "    return x ** 2  # тело функции, которая преобразует аргумент x\n",
    "\n",
    "\n",
    "old_list = [1, 2, 4, 9, 10, 25]\n",
    "new_list = []\n",
    "for item in old_list:\n",
    "    new_item = f(item)\n",
    "    new_list.append(new_item)\n",
    "\n",
    "print(old_list)\n",
    "print(new_list)"
   ],
   "metadata": {
    "collapsed": false,
    "ExecuteTime": {
     "end_time": "2024-08-27T05:49:00.055906800Z",
     "start_time": "2024-08-27T05:49:00.048959Z"
    }
   },
   "id": "660fd95299ab8a1b"
  },
  {
   "cell_type": "raw",
   "source": [
    "Несложно понять, что цикл будет выглядеть одинаково практически во всех случаях. Меняться будет только преобразование, то есть применяемая функция f(). Так почему бы не обобщить код, чтобы функция была параметром? Так и сделаем:"
   ],
   "metadata": {
    "collapsed": false
   },
   "id": "92bdaef614697443"
  },
  {
   "cell_type": "code",
   "execution_count": 12,
   "outputs": [],
   "source": [
    "def map(function, items):\n",
    "    result = []\n",
    "    for item in items:\n",
    "        new_item = function(item)\n",
    "        result.append(new_item)\n",
    "\n",
    "    return list(result)"
   ],
   "metadata": {
    "collapsed": false,
    "ExecuteTime": {
     "end_time": "2024-08-27T06:02:55.889624Z",
     "start_time": "2024-08-27T06:02:55.887540400Z"
    }
   },
   "id": "331d5bddb3ecc5bc"
  },
  {
   "cell_type": "raw",
   "source": [
    "Теперь мы можем совершать преобразования, используя функцию высшего порядка map()."
   ],
   "metadata": {
    "collapsed": false
   },
   "id": "92e1ad039653464b"
  },
  {
   "cell_type": "code",
   "execution_count": 13,
   "outputs": [
    {
     "name": "stdout",
     "output_type": "stream",
     "text": [
      "['1', '2', '-3', '4', '-5', '6', '-9', '0']\n",
      "[1, 2, 3, 4, 5, 6, 9, 0]\n",
      "[1, 4, 9, 16, 25, 36, 81, 0]\n",
      "[1, 8, -27, 64, -125, 216, -729, 0]\n"
     ]
    }
   ],
   "source": [
    "def square(x):\n",
    "    return x ** 2\n",
    "\n",
    "\n",
    "def cube(x):\n",
    "    return x ** 3\n",
    "\n",
    "\n",
    "numbers = [1, 2, -3, 4, -5, 6, -9, 0]\n",
    "\n",
    "strings = list(map(str, numbers))  # используем в качестве преобразователя - функцию str\n",
    "abs_numbers = list(map(abs, numbers))  # используем в качестве преобразователя - функцию abs\n",
    "\n",
    "squares = list(map(square, numbers))  # используем в качестве преобразователя - функцию square\n",
    "cubes = list(map(cube, numbers))  # используем в качестве преобразователя - функцию cube\n",
    "\n",
    "print(list(strings))\n",
    "print(list(abs_numbers))\n",
    "print(list(squares))\n",
    "print(list(cubes))"
   ],
   "metadata": {
    "collapsed": false,
    "ExecuteTime": {
     "end_time": "2024-08-27T06:02:57.815051700Z",
     "start_time": "2024-08-27T06:02:57.808619500Z"
    }
   },
   "id": "615ca63d668b1810"
  },
  {
   "cell_type": "raw",
   "source": [
    "Реализованную нами функцию map() можно использовать как альтернативную возможность для преобразования типов элементов любого списка. Раньше мы решали такую задачу с помощью списочных выражений. Теперь можем использовать и функцию map().\n",
    "\n",
    "Приведенный ниже код при условии, что функция map() определена, как указано выше:"
   ],
   "metadata": {
    "collapsed": false
   },
   "id": "154032d923253425"
  },
  {
   "cell_type": "code",
   "execution_count": 15,
   "outputs": [
    {
     "name": "stdout",
     "output_type": "stream",
     "text": [
      "[10, 12, -4, -9, 0, 1, 23, 100, 99]\n",
      "[10, 12, -4, -9, 0, 1, 23, 100, 99]\n"
     ]
    }
   ],
   "source": [
    "strings = ['10', '12', '-4', '-9', '0', '1', '23', '100', '99']\n",
    "\n",
    "numbers1 = [int(c) for c in strings]  # используем списочное выражение для преобразования\n",
    "numbers2 = map(int, strings)  # используем функцию map() для преобразования\n",
    "\n",
    "print(numbers1)\n",
    "print(numbers2)"
   ],
   "metadata": {
    "collapsed": false,
    "ExecuteTime": {
     "end_time": "2024-08-27T06:03:24.611797300Z",
     "start_time": "2024-08-27T06:03:24.608809500Z"
    }
   },
   "id": "79ddbcf912cdf7a"
  },
  {
   "cell_type": "markdown",
   "source": [
    "Цепочки преобразований"
   ],
   "metadata": {
    "collapsed": false
   },
   "id": "7ac4e39747dd9152"
  },
  {
   "cell_type": "raw",
   "source": [
    "Мы также можем строить цепочки преобразований, несколько раз вызывая функцию map().\n",
    "\n",
    "Приведенный ниже код при условии, что функция map() определена, как указано выше:"
   ],
   "metadata": {
    "collapsed": false
   },
   "id": "6ad605ecef3e7263"
  },
  {
   "cell_type": "code",
   "execution_count": 16,
   "outputs": [
    {
     "name": "stdout",
     "output_type": "stream",
     "text": [
      "[1, 20, 3, 94, 65, 6, 970, 8]\n"
     ]
    }
   ],
   "source": [
    "numbers = ['-1', '20', '3', '-94', '65', '6', '-970', '8']\n",
    "\n",
    "new_numbers = map(abs, map(int, numbers))\n",
    "\n",
    "print(new_numbers)"
   ],
   "metadata": {
    "collapsed": false,
    "ExecuteTime": {
     "end_time": "2024-08-27T06:03:52.118326300Z",
     "start_time": "2024-08-27T06:03:52.111627600Z"
    }
   },
   "id": "34b079aaf57c35e1"
  },
  {
   "cell_type": "raw",
   "source": [
    "То есть, сначала мы преобразуем список строк в список чисел с помощью кода map(int, numbers), получая список [-1, 20, 3, -94, 65, 6, -970, 8]. Далее с помощью еще одного вызова функции map() трансформируем полученный список в список [1, 20, 3, 94, 65, 6, 970, 8]."
   ],
   "metadata": {
    "collapsed": false
   },
   "id": "d906a8813175ed45"
  },
  {
   "cell_type": "markdown",
   "source": [
    "Функция filter()"
   ],
   "metadata": {
    "collapsed": false
   },
   "id": "a822940803800c23"
  },
  {
   "cell_type": "raw",
   "source": [
    "Другая популярная задача при работе со списками: отобрать часть элементов списка по определенному критерию. Функция высшего порядка для решения такой задачи называется filter()."
   ],
   "metadata": {
    "collapsed": false
   },
   "id": "bc72ebe97029c1db"
  },
  {
   "cell_type": "raw",
   "source": [
    "Функция-критерий, которая возвращает значение True или False, называется предикатом."
   ],
   "metadata": {
    "collapsed": false
   },
   "id": "2743c80c19607269"
  },
  {
   "cell_type": "code",
   "execution_count": 17,
   "outputs": [],
   "source": [
    "def filter(function, items):\n",
    "    result = []\n",
    "    for item in items:\n",
    "        if function(item):\n",
    "            result.append(item)  # добавляем элемент item если функция function вернула значение True\n",
    "\n",
    "    return result"
   ],
   "metadata": {
    "collapsed": false,
    "ExecuteTime": {
     "end_time": "2024-08-27T06:08:32.256843500Z",
     "start_time": "2024-08-27T06:08:32.248836800Z"
    }
   },
   "id": "db50a251eeda82e4"
  },
  {
   "cell_type": "raw",
   "source": [
    "Наша функция filter() применяет предикат function к каждому элементу и добавляет в итоговый список только те элементы, для которых предикат вернул True."
   ],
   "metadata": {
    "collapsed": false
   },
   "id": "bbba9eee01f69333"
  },
  {
   "cell_type": "raw",
   "source": [
    "Например, чтобы из исходного списка чисел получить список с элементами, большими \n",
    "10, можно написать такой код:"
   ],
   "metadata": {
    "collapsed": false
   },
   "id": "2edc1e7e4831bdd2"
  },
  {
   "cell_type": "code",
   "execution_count": 18,
   "outputs": [
    {
     "name": "stdout",
     "output_type": "stream",
     "text": [
      "[12, 48, 51, 19, 13]\n"
     ]
    }
   ],
   "source": [
    "def is_greater10(num):  # функция возвращает значение True если число больше 10 и False в противном случае\n",
    "    return num > 10\n",
    "\n",
    "\n",
    "numbers = [12, 2, -30, 48, 51, -60, 19, 10, 13]\n",
    "\n",
    "large_numbers = filter(is_greater10, numbers)  #  список large_numbers содержит элементы, большие 10\n",
    "\n",
    "print(large_numbers)"
   ],
   "metadata": {
    "collapsed": false,
    "ExecuteTime": {
     "end_time": "2024-08-27T06:09:37.436592200Z",
     "start_time": "2024-08-27T06:09:37.427231200Z"
    }
   },
   "id": "abb82e74ac89d465"
  },
  {
   "cell_type": "raw",
   "source": [
    "Приведенный ниже код при условии, что функция filter() определена как указано выше:"
   ],
   "metadata": {
    "collapsed": false
   },
   "id": "8bc0d1cb683e75f7"
  },
  {
   "cell_type": "code",
   "execution_count": 19,
   "outputs": [
    {
     "name": "stdout",
     "output_type": "stream",
     "text": [
      "[1, 3, 5, 7, 9, 11, 13]\n",
      "['останутся', 'длинные']\n"
     ]
    }
   ],
   "source": [
    "def is_odd(num):\n",
    "    return num % 2\n",
    "\n",
    "\n",
    "def is_word_long(word):\n",
    "    return len(word) > 6\n",
    "\n",
    "\n",
    "numbers = list(range(15))\n",
    "words = ['В', 'новом', 'списке', 'останутся', 'только', 'длинные', 'слова']\n",
    "\n",
    "odd_numbers = filter(is_odd, numbers)\n",
    "large_words = filter(is_word_long, words)\n",
    "\n",
    "print(odd_numbers)\n",
    "print(large_words)"
   ],
   "metadata": {
    "collapsed": false,
    "ExecuteTime": {
     "end_time": "2024-08-27T06:10:51.807808400Z",
     "start_time": "2024-08-27T06:10:51.798736600Z"
    }
   },
   "id": "ad30911dac8617db"
  },
  {
   "cell_type": "markdown",
   "source": [
    "Функция reduce()"
   ],
   "metadata": {
    "collapsed": false
   },
   "id": "1c68083b4897dd2"
  },
  {
   "cell_type": "raw",
   "source": [
    "Реализованные нами функции map() и filter() работали с отдельными элементами списка независимо. Но встречаются циклы с агрегацией результата — формированием одного результирующего значения при комбинации элементов с использованием аргумента-аккумулятора."
   ],
   "metadata": {
    "collapsed": false
   },
   "id": "843e64b0559e2270"
  },
  {
   "cell_type": "raw",
   "source": [
    "Типичные примеры агрегации — сумма всех элементов списка или их произведение."
   ],
   "metadata": {
    "collapsed": false
   },
   "id": "37347e146f23e5d8"
  },
  {
   "cell_type": "code",
   "execution_count": 21,
   "outputs": [
    {
     "name": "stdout",
     "output_type": "stream",
     "text": [
      "15\n",
      "120\n"
     ]
    }
   ],
   "source": [
    "numbers = [1, 2, 3, 4, 5]\n",
    "\n",
    "total = 0\n",
    "product = 1\n",
    "\n",
    "for num in numbers:\n",
    "    total += num\n",
    "    product *= num\n",
    "\n",
    "print(total)\n",
    "print(product)"
   ],
   "metadata": {
    "collapsed": false,
    "ExecuteTime": {
     "end_time": "2024-08-27T06:13:18.245816Z",
     "start_time": "2024-08-27T06:13:18.236269900Z"
    }
   },
   "id": "6ae21d497a9a3e2"
  },
  {
   "cell_type": "raw",
   "source": [
    "Несложно понять, что этот цикл будет выглядеть одинаково практически во всех случаях. Меняться будет только начальное значение аккумулятора (\n",
    "0 для суммы, \n",
    "1 для произведения и т.д.) и операция, которая комбинирует элемент и аккумулятор. Так почему бы не обобщить этот код? Так и сделаем:"
   ],
   "metadata": {
    "collapsed": false
   },
   "id": "3e85cb93da5d7083"
  },
  {
   "cell_type": "code",
   "execution_count": 22,
   "outputs": [],
   "source": [
    "def reduce(operation, items, initial_value):\n",
    "    acc = initial_value\n",
    "    for item in items:\n",
    "        acc = operation(acc, item)\n",
    "\n",
    "    return acc"
   ],
   "metadata": {
    "collapsed": false,
    "ExecuteTime": {
     "end_time": "2024-08-27T06:14:19.255881600Z",
     "start_time": "2024-08-27T06:14:19.246411Z"
    }
   },
   "id": "4cb2a5c4eeba64da"
  },
  {
   "cell_type": "code",
   "execution_count": 23,
   "outputs": [
    {
     "name": "stdout",
     "output_type": "stream",
     "text": [
      "15\n",
      "120\n"
     ]
    }
   ],
   "source": [
    "def add(x, y):\n",
    "    return x + y\n",
    "\n",
    "\n",
    "def mult(x, y):\n",
    "    return x * y\n",
    "\n",
    "\n",
    "numbers = [1, 2, 3, 4, 5]\n",
    "\n",
    "total = reduce(add, numbers, 0)\n",
    "product = reduce(mult, numbers, 1)\n",
    "\n",
    "print(total)\n",
    "print(product)"
   ],
   "metadata": {
    "collapsed": false,
    "ExecuteTime": {
     "end_time": "2024-08-27T06:14:34.506231800Z",
     "start_time": "2024-08-27T06:14:34.494263Z"
    }
   },
   "id": "45d6d56693880e95"
  },
  {
   "cell_type": "raw",
   "source": [
    "Каждая функция имеет меньшую мощность, чем цикл for. Цикл for позволяет гибко управлять процессом итерации, мы можем использовать даже команды break и continue. Возникает резонный вопрос: зачем нужны отдельные функции, когда можно обойтись циклом?\n",
    "\n",
    "Во-первых, такие функции — часть функционального подхода.\n",
    "\n",
    "Во-вторых, каждая такая функция делает единственную работу, что значительно упрощает рассуждение о коде, его чтение и написание. Взглянув на имя функции, можно понять, что filter() отфильтрует, а map() преобразует элементы. Более того, по построению функция filter() не меняет элементы, а лишь отбрасывает их часть. А функция map() меняет значение элементов, но не меняет их количество и позиции."
   ],
   "metadata": {
    "collapsed": false
   },
   "id": "9f764797a930cf18"
  },
  {
   "cell_type": "raw",
   "source": [
    "В математике определенная нами функция reduce() называется левая свёртка (left fold), по сути, мы сворачиваем список в одно значение, начиная слева. Существует ещё и правая свёртка (right fold). В большинстве случаев обе свёртки дают одинаковый результат, если применяемая операция ассоциативна."
   ],
   "metadata": {
    "collapsed": false
   },
   "id": "3236915b7a04d2a8"
  },
  {
   "cell_type": "code",
   "execution_count": 24,
   "outputs": [
    {
     "name": "stdout",
     "output_type": "stream",
     "text": [
      "900\n"
     ]
    }
   ],
   "source": [
    "def high_order_function(func):\n",
    "    return func(10)\n",
    "\n",
    "\n",
    "def square(x):\n",
    "    return x ** 2\n",
    "\n",
    "\n",
    "def minus_one(x):\n",
    "    return x - 1\n",
    "\n",
    "\n",
    "num1 = high_order_function(square)\n",
    "num2 = high_order_function(minus_one)\n",
    "\n",
    "print(num1 * num2)"
   ],
   "metadata": {
    "collapsed": false,
    "ExecuteTime": {
     "end_time": "2024-08-27T06:28:22.370611700Z",
     "start_time": "2024-08-27T06:28:22.360131200Z"
    }
   },
   "id": "86d3c3f1aa8e6af0"
  },
  {
   "cell_type": "code",
   "execution_count": 25,
   "outputs": [
    {
     "name": "stdout",
     "output_type": "stream",
     "text": [
      "7\n"
     ]
    }
   ],
   "source": [
    "def map(function, items):\n",
    "    result = []\n",
    "    for item in items:\n",
    "        result.append(function(item))\n",
    "    return result\n",
    "\n",
    "\n",
    "words = ['abba', 'qwerty', 'python', 'a', 'deed', 'nun', 'level', 'deified', 'bbbbb', 'mother', 'surface', 'sister']\n",
    "\n",
    "words_len = map(len, words)\n",
    "print(max(words_len))"
   ],
   "metadata": {
    "collapsed": false,
    "ExecuteTime": {
     "end_time": "2024-08-27T06:29:40.483375800Z",
     "start_time": "2024-08-27T06:29:40.473860600Z"
    }
   },
   "id": "12925274222ef9"
  },
  {
   "cell_type": "code",
   "execution_count": 26,
   "outputs": [
    {
     "name": "stdout",
     "output_type": "stream",
     "text": [
      "8\n"
     ]
    }
   ],
   "source": [
    "def filter(function, items):\n",
    "    result = []\n",
    "    for item in items:\n",
    "        if function(item):\n",
    "            result.append(item)\n",
    "    return result\n",
    "\n",
    "\n",
    "def predicate(word):\n",
    "    return word == word[::-1]\n",
    "\n",
    "\n",
    "words = ['abba', 'qwerty', 'python', 'a', 'deed', 'nun', 'level', 'language', 'deified', 'bbbbb', 'mother', 'sister',\n",
    "         'surface', '1234321']\n",
    "filtered = filter(predicate, words)\n",
    "print(len(filtered))"
   ],
   "metadata": {
    "collapsed": false,
    "ExecuteTime": {
     "end_time": "2024-08-27T06:29:57.877421500Z",
     "start_time": "2024-08-27T06:29:57.863932Z"
    }
   },
   "id": "b6cc2bffda085ee0"
  },
  {
   "cell_type": "code",
   "execution_count": 27,
   "outputs": [
    {
     "name": "stdout",
     "output_type": "stream",
     "text": [
      "-97\n"
     ]
    }
   ],
   "source": [
    "def map(function, items):\n",
    "    result = []\n",
    "    for item in items:\n",
    "        result.append(function(item))\n",
    "    return result\n",
    "\n",
    "\n",
    "numbers = [-2, 45, 45, -7, -45, 37, -42, 27, -58, -58, -12, -27, -49, -27, -56, 4, -99, -11, 86]\n",
    "\n",
    "var1 = max(numbers, key=abs)\n",
    "var2 = min(map(abs, numbers))\n",
    "\n",
    "print(var1 + var2)"
   ],
   "metadata": {
    "collapsed": false,
    "ExecuteTime": {
     "end_time": "2024-08-27T06:30:12.798612200Z",
     "start_time": "2024-08-27T06:30:12.785332500Z"
    }
   },
   "id": "d9efc63633d26ed4"
  },
  {
   "cell_type": "raw",
   "source": [
    "Напишите программу, которая с помощью функции map() округляет все элементы списка numbers до 2 десятичных знаков, а затем выводит их, каждый на отдельной строке."
   ],
   "metadata": {
    "collapsed": false
   },
   "id": "b9f855855f53f5e7"
  },
  {
   "cell_type": "code",
   "execution_count": 1,
   "outputs": [
    {
     "name": "stdout",
     "output_type": "stream",
     "text": [
      "3.57\n",
      "5.58\n",
      "4.01\n",
      "56.24\n",
      "9.01\n",
      "32.12\n",
      "23.22\n",
      "90.1\n",
      "45.45\n",
      "314.15\n",
      "2.72\n",
      "1.42\n"
     ]
    }
   ],
   "source": [
    "def map(function, items):\n",
    "    result = []\n",
    "    for item in items:\n",
    "        result.append(function(item))\n",
    "    return result\n",
    "\n",
    "\n",
    "numbers = [3.56773, 5.57668, 4.00914, 56.24241, 9.01344, 32.12013, 23.22222, 90.09873, 45.45, 314.1528, 2.71828,\n",
    "           1.41546]\n",
    "\n",
    "\n",
    "def round_my(number):\n",
    "    return round(number, 2)\n",
    "\n",
    "\n",
    "x = map(round_my, numbers)\n",
    "\n",
    "print(*x, sep='\\n')"
   ],
   "metadata": {
    "collapsed": false,
    "ExecuteTime": {
     "end_time": "2024-08-27T06:53:33.828199300Z",
     "start_time": "2024-08-27T06:53:33.821538700Z"
    }
   },
   "id": "7c357fe2cc854944"
  },
  {
   "cell_type": "raw",
   "source": [
    "Напишите программу, которая с помощью функций filter() и map() отбирает из заданного списка numbers трёхзначные числа, дающие при делении на 5 остаток 2, и выводит их кубы, каждый в отдельной строке.\n",
    "\n",
    "Примечание. Остаток 2 при делении на 5 должно давать само число, а не его куб."
   ],
   "metadata": {
    "collapsed": false
   },
   "id": "ecec86b5241e8017"
  },
  {
   "cell_type": "code",
   "execution_count": 25,
   "outputs": [
    {
     "name": "stdout",
     "output_type": "stream",
     "text": [
      "283593393\n",
      "758550528\n",
      "154854153\n",
      "8869743\n",
      "16974593\n",
      "12487168\n",
      "6028568\n",
      "849278123\n",
      "2863288\n",
      "57960603\n",
      "575930368\n"
     ]
    }
   ],
   "source": [
    "def map(function, items):\n",
    "    result = []\n",
    "    for item in items:\n",
    "        result.append(function(item))\n",
    "    return result\n",
    "\n",
    "\n",
    "def filter(function, items):\n",
    "    result = []\n",
    "    for item in items:\n",
    "        if function(item):\n",
    "            result.append(item)\n",
    "    return result\n",
    "\n",
    "\n",
    "numbers = [1014, 1321, 675, 1215, 56, 1386, 1385, 431, 1058, 486, 1434, 696, 1016, 1084, 424, 1189, 475, 95, 1434, 1462,\n",
    "           815, 776, 657, 1225, 912, 537, 1478, 1176, 544, 488, 668, 944, 207, 266, 1309, 1027, 257, 1374, 1289, 1155,\n",
    "           230, 866, 708, 144, 1434, 1163, 345, 394, 560, 338, 232, 182, 1438, 1127, 928, 1309, 98, 530, 1013, 898, 669,\n",
    "           105, 130, 1363, 947, 72, 1278, 166, 904, 349, 831, 1207, 1496, 370, 725, 926, 175, 959, 1282, 336, 1268, 351,\n",
    "           1439, 186, 273, 1008, 231, 138, 142, 433, 456, 1268, 1018, 1274, 387, 120, 340, 963, 832, 1127]\n",
    "\n",
    "\n",
    "def three_digits(number):\n",
    "    return len(str(number)) == 3\n",
    "\n",
    "\n",
    "x = filter(three_digits, numbers)\n",
    "\n",
    "\n",
    "# print(x)\n",
    "\n",
    "\n",
    "def five_divider(number):\n",
    "    return number if number % 5 == 2 else None\n",
    "\n",
    "\n",
    "def is_not_none(number):\n",
    "    return number is not None\n",
    "\n",
    "\n",
    "y = map(five_divider, filter(three_digits, numbers))\n",
    "\n",
    "y = filter(is_not_none, y)\n",
    "\n",
    "\n",
    "def kubes(number):\n",
    "    return number ** 3\n",
    "\n",
    "\n",
    "print(*map(kubes, y), sep='\\n')"
   ],
   "metadata": {
    "collapsed": false,
    "ExecuteTime": {
     "end_time": "2024-08-27T07:38:47.609717600Z",
     "start_time": "2024-08-27T07:38:47.596769300Z"
    }
   },
   "id": "44891a5e988b8cee"
  },
  {
   "cell_type": "raw",
   "source": [
    "Напишите программу для вычисления и вывода суммы квадратов элементов списка numbers.\n",
    "Примечание. Попробуйте решить задачу двумя способами: с помощью функции reduce(), и с помощью функций map() и sum()."
   ],
   "metadata": {
    "collapsed": false
   },
   "id": "c9717e2ec8995482"
  },
  {
   "cell_type": "code",
   "execution_count": 2,
   "outputs": [
    {
     "name": "stdout",
     "output_type": "stream",
     "text": [
      "[9409, 1764, 81, 1024, 9, 2025, 961, 5929, 1, 121, 4, 5625, 25, 2601, 1156, 784, 2116, 1, 64, 7056, 256, 2601, 8100, 3136, 4225, 8100, 529, 1225, 121, 100, 4900, 8100, 8100, 144, 9216, 3364, 64, 16, 8281, 5776, 8836, 3600, 5184, 1849, 16, 36, 25, 2601, 3364, 3600, 900, 1444, 4489, 3844, 1296, 5184, 1156, 6724, 3844, 1, 3600, 6724, 7569, 6561, 49, 3249, 676, 1296, 289, 1849, 6400, 1600, 5625, 8836, 8281, 4096, 1444, 5184, 841, 7056, 1444, 1225, 49, 2916, 961, 9025, 6084, 729, 6724, 1, 4096, 8836, 961, 841, 64, 9604, 576, 3721, 49, 5329]\n",
      "319563\n"
     ]
    }
   ],
   "source": [
    "def reduce(operation, items, initial_value=0):\n",
    "    acc = initial_value\n",
    "    for item in items:\n",
    "        acc = operation(acc, item)\n",
    "    return acc\n",
    "\n",
    "\n",
    "numbers = [97, 42, 9, 32, 3, 45, 31, 77, -1, 11, -2, 75, 5, 51, 34, 28, 46, 1, -8, 84, 16, 51, 90, 56, 65, 90, 23, 35,\n",
    "           11, -10, 70, 90, 90, 12, 96, 58, -8, -4, 91, 76, 94, 60, 72, 43, 4, -6, -5, 51, 58, 60, 30, 38, 67, 62, 36,\n",
    "           72, 34, 82, 62, -1, 60, 82, 87, 81, -7, 57, 26, 36, 17, 43, 80, 40, 75, 94, 91, 64, 38, 72, 29, 84, 38, 35,\n",
    "           7, 54, 31, 95, 78, 27, 82, 1, 64, 94, 31, 29, -8, 98, 24, 61, 7, 73]\n",
    "\n",
    "\n",
    "def map(function, items):\n",
    "    result = []\n",
    "    for item in items:\n",
    "        result.append(function(item))\n",
    "    return result\n",
    "\n",
    "\n",
    "def sqrt(number):\n",
    "    return number ** 2\n",
    "\n",
    "\n",
    "numbers = map(sqrt, numbers)\n",
    "\n",
    "print(numbers)\n",
    "\n",
    "numbers = sum(numbers)\n",
    "\n",
    "print(numbers)"
   ],
   "metadata": {
    "collapsed": false,
    "ExecuteTime": {
     "end_time": "2024-08-27T08:38:20.313630300Z",
     "start_time": "2024-08-27T08:38:20.305436600Z"
    }
   },
   "id": "ef064cba2670e96f"
  },
  {
   "cell_type": "code",
   "execution_count": null,
   "outputs": [],
   "source": [
    "def square(x):\n",
    "    return x ** 2\n",
    "\n",
    "\n",
    "numbers = [97, 42, 9, 32, 3, 45, 31, 77, -1, 11, -2, 75, 5, 51, 34, 28, 46, 1, -8, 84, 16, 51, 90, 56, 65, 90, 23, 35,\n",
    "           11, -10, 70, 90, 90, 12, 96, 58, -8, -4, 91, 76, 94, 60, 72, 43, 4, -6, -5, 51, 58, 60, 30, 38, 67, 62, 36,\n",
    "           72, 34, 82, 62, -1, 60, 82, 87, 81, -7, 57, 26, 36, 17, 43, 80, 40, 75, 94, 91, 64, 38, 72, 29, 84, 38, 35,\n",
    "           7, 54, 31, 95, 78, 27, 82, 1, 64, 94, 31, 29, -8, 98, 24, 61, 7, 73]\n",
    "print(sum(map(square, numbers)))"
   ],
   "metadata": {
    "collapsed": false
   },
   "id": "feef1dd69a1f527b"
  },
  {
   "cell_type": "code",
   "execution_count": 8,
   "outputs": [
    {
     "name": "stdout",
     "output_type": "stream",
     "text": [
      "319563\n"
     ]
    }
   ],
   "source": [
    "def reduce(operation, items, initial_value=0):\n",
    "    for item in items:\n",
    "        initial_value += item ** 2\n",
    "    return initial_value\n",
    "\n",
    "\n",
    "numbers = [97, 42, 9, 32, 3, 45, 31, 77, -1, 11, -2, 75, 5, 51, 34, 28, 46, 1, -8, 84, 16, 51, 90, 56, 65, 90, 23, 35,\n",
    "           11, -10, 70, 90, 90, 12, 96, 58, -8, -4, 91, 76, 94, 60, 72, 43, 4, -6, -5, 51, 58, 60, 30, 38, 67, 62, 36,\n",
    "           72, 34, 82, 62, -1, 60, 82, 87, 81, -7, 57, 26, 36, 17, 43, 80, 40, 75, 94, 91, 64, 38, 72, 29, 84, 38, 35,\n",
    "           7, 54, 31, 95, 78, 27, 82, 1, 64, 94, 31, 29, -8, 98, 24, 61, 7, 73]\n",
    "\n",
    "print(reduce(sum, numbers))"
   ],
   "metadata": {
    "collapsed": false,
    "ExecuteTime": {
     "end_time": "2024-08-27T08:44:26.487677500Z",
     "start_time": "2024-08-27T08:44:26.477400600Z"
    }
   },
   "id": "49cf0d2c86991b3e"
  },
  {
   "cell_type": "raw",
   "source": [
    "Напишите программу для вычисления и вывода суммы квадратов двузначных чисел из списка numbers, которые делятся на 7 без остатка.\n",
    "\n",
    "Примечание 1. При решении задачи используйте функции filter(), map() и sum().\n",
    "\n",
    "Примечание 2. На 7 должно делиться исходное двузначное число, а не его квадрат.\n",
    "\n",
    "Примечание 3. Не забывайте про отрицательные двузначные числа."
   ],
   "metadata": {
    "collapsed": false
   },
   "id": "51318a86f0559e72"
  },
  {
   "cell_type": "code",
   "execution_count": 17,
   "outputs": [
    {
     "name": "stdout",
     "output_type": "stream",
     "text": [
      "25137\n"
     ]
    }
   ],
   "source": [
    "def map(function, items):\n",
    "    result = []\n",
    "    for item in items:\n",
    "        result.append(function(item))\n",
    "    return result\n",
    "\n",
    "\n",
    "def filter(function, items):\n",
    "    result = []\n",
    "    for item in items:\n",
    "        if function(item):\n",
    "            result.append(item)\n",
    "    return result\n",
    "\n",
    "\n",
    "numbers = [77, 293, 28, 242, 213, 285, 71, 286, 144, 276, 61, 298, 280, 214, 156, 227, 228, 51, -4, 202, 58, 99, 270,\n",
    "           219, 94, 253, 53, 235, 9, 158, 49, 183, 166, 205, 183, 266, 180, 6, 279, 200, 208, 231, 178, 201, 260, -35,\n",
    "           152, 115, 79, 284, 181, 92, 286, 98, 271, 259, 258, 196, -8, 43, 2, 128, 143, 43, 297, 229, 60, 254, -9, 5,\n",
    "           187, 220, -8, 111, 285, 5, 263, 187, 192, -9, 268, -9, 23, 71, 135, 7, -161, 65, 135, 29, 148, 242, 33, 35,\n",
    "           211, 5, 161, 46, 159, 23, 169, 23, 172, 184, -7, 228, 129, 274, 73, 197, 272, 54, 278, 26, 280, 13, 171, 2,\n",
    "           79, -2, 183, 10, 236, 276, 4, 29, -10, 41, 269, 94, 279, 129, 39, 92, -63, 263, 219, 57, 18, 236, 291, 234,\n",
    "           10, 250, 0, 64, 172, 216, 30, 15, 229, 205, 123, -105]\n",
    "\n",
    "\n",
    "def seven_divider(number):\n",
    "    return number % 7 == 0\n",
    "\n",
    "\n",
    "numbers = filter(seven_divider, numbers)\n",
    "\n",
    "# print(numbers)\n",
    "\n",
    "def two_digits_number(number):\n",
    "    return len(str(abs(number)))==2\n",
    "\n",
    "numbers = filter(two_digits_number, numbers)\n",
    "\n",
    "# print(numbers)\n",
    "\n",
    "def square(number):\n",
    "    return number ** 2\n",
    "\n",
    "\n",
    "numbers = sum(map(square, numbers))\n",
    "\n",
    "print(numbers)"
   ],
   "metadata": {
    "collapsed": false,
    "ExecuteTime": {
     "end_time": "2024-08-27T08:58:59.521231700Z",
     "start_time": "2024-08-27T08:58:59.505811100Z"
    }
   },
   "id": "f97345d54db0a8a7"
  },
  {
   "cell_type": "code",
   "execution_count": null,
   "outputs": [],
   "source": [
    "numbers = [77, 293, 28, 242, 213, 285, 71, 286, 144, 276, 61, 298, 280, 214, 156, 227, 228, 51, -4, 202, 58, 99, 270, 219, 94, 253, 53, 235, 9, 158, 49, 183, 166, 205, 183, 266, 180, 6, 279, 200, 208, 231, 178, 201, 260, -35, 152, 115, 79, 284, 181, 92, 286, 98, 271, 259, 258, 196, -8, 43, 2, 128, 143, 43, 297, 229, 60, 254, -9, 5, 187, 220, -8, 111, 285, 5, 263, 187, 192, -9, 268, -9, 23, 71, 135, 7, -161, 65, 135, 29, 148, 242, 33, 35, 211, 5, 161, 46, 159, 23, 169, 23, 172, 184, -7, 228, 129, 274, 73, 197, 272, 54, 278, 26, 280, 13, 171, 2, 79, -2, 183, 10, 236, 276, 4, 29, -10, 41, 269, 94, 279, 129, 39, 92, -63, 263, 219, 57, 18, 236, 291, 234, 10, 250, 0, 64, 172, 216, 30, 15, 229, 205, 123, -105]\n",
    "\n",
    "print(sum(map(lambda x: x**2, filter(lambda x: 9 < abs(x) < 100 and x % 7 == 0, numbers))))"
   ],
   "metadata": {
    "collapsed": false
   },
   "id": "6a5ed9ff26c29205"
  },
  {
   "cell_type": "raw",
   "source": [
    "Напишите функцию func_apply(), принимающую на вход функцию и список значений и возвращающую список, в котором каждое значение будет результатом применения переданной функции к переданному списку.\n",
    "\n",
    "Примечание 1. Приведенный ниже код, при условии, что функция func_apply() написана правильно\n",
    "\n",
    "def add3(x):\n",
    "    return x + 3\n",
    "\n",
    "\n",
    "def mul7(x):\n",
    "    return x * 7\n",
    "\n",
    "\n",
    "print(func_apply(mul7, [1, 2, 3, 4, 5, 6]))\n",
    "print(func_apply(add3, [1, 2, 3, 4, 5, 6]))\n",
    "print(func_apply(str, [1, 2, 3, 4, 5, 6]))\n",
    "\n",
    "должен выводить:\n",
    "\n",
    "[7, 14, 21, 28, 35, 42]\n",
    "[4, 5, 6, 7, 8, 9]\n",
    "['1', '2', '3', '4', '5', '6']"
   ],
   "metadata": {
    "collapsed": false
   },
   "id": "a982bc2d4be225f8"
  },
  {
   "cell_type": "code",
   "execution_count": 18,
   "outputs": [
    {
     "name": "stdout",
     "output_type": "stream",
     "text": [
      "[7, 14, 21, 28, 35, 42]\n",
      "[4, 5, 6, 7, 8, 9]\n",
      "['1', '2', '3', '4', '5', '6']\n"
     ]
    }
   ],
   "source": [
    "def func_apply(function, items):\n",
    "    result = []\n",
    "    for item in items:\n",
    "        result.append(function(item))\n",
    "    return result\n",
    "\n",
    "def add3(x):\n",
    "    return x + 3\n",
    "\n",
    "\n",
    "def mul7(x):\n",
    "    return x * 7\n",
    "\n",
    "print(func_apply(mul7, [1, 2, 3, 4, 5, 6]))\n",
    "print(func_apply(add3, [1, 2, 3, 4, 5, 6]))\n",
    "print(func_apply(str, [1, 2, 3, 4, 5, 6]))"
   ],
   "metadata": {
    "collapsed": false,
    "ExecuteTime": {
     "end_time": "2024-08-27T09:03:16.382860300Z",
     "start_time": "2024-08-27T09:03:16.379157400Z"
    }
   },
   "id": "4d06522da3e7c76a"
  }
 ],
 "metadata": {
  "kernelspec": {
   "display_name": "Python 3",
   "language": "python",
   "name": "python3"
  },
  "language_info": {
   "codemirror_mode": {
    "name": "ipython",
    "version": 2
   },
   "file_extension": ".py",
   "mimetype": "text/x-python",
   "name": "python",
   "nbconvert_exporter": "python",
   "pygments_lexer": "ipython2",
   "version": "2.7.6"
  }
 },
 "nbformat": 4,
 "nbformat_minor": 5
}
