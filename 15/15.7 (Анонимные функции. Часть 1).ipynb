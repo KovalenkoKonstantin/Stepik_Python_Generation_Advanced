{
 "cells": [
  {
   "cell_type": "raw",
   "source": [
    "В языке Python можно создавать функции с уникальными именами, но иногда имя не требуется. Например, функциям, использующимся единственный раз. В таких случаях применяют анонимные функции."
   ],
   "metadata": {
    "collapsed": false
   },
   "id": "8d7acc6e95f263ab"
  },
  {
   "cell_type": "markdown",
   "source": [
    "Анонимные функции"
   ],
   "metadata": {
    "collapsed": false
   },
   "id": "4bc224cbb6208235"
  },
  {
   "cell_type": "raw",
   "source": [
    "Помимо стандартного определения функции, состоящего из ее заголовка с ключевым словом def и блока кода – тела функции, в Python можно создавать короткие однострочные функции с использованием оператора lambda. Это анонимные функции или лямбда-функции."
   ],
   "metadata": {
    "collapsed": false
   },
   "id": "d7027e7f1fa423a3"
  },
  {
   "cell_type": "raw",
   "source": [
    "Анонимные функции – функции с телом, но без имени."
   ],
   "metadata": {
    "collapsed": false
   },
   "id": "207f2a9eb77455ee"
  },
  {
   "cell_type": "raw",
   "source": [
    "Общий формат определения анонимной функции: lambda список_параметров: выражение"
   ],
   "metadata": {
    "collapsed": false
   },
   "id": "7456bb76c5ab59fb"
  },
  {
   "cell_type": "raw",
   "source": [
    "Тут список_параметров – список параметров через запятую, выражение – значение, либо код, дающий значение."
   ],
   "metadata": {
    "collapsed": false
   },
   "id": "5ddb1cde2ea081d4"
  },
  {
   "cell_type": "raw",
   "source": [
    "Параметры анонимных функций, в отличие от обычных, не нужно заключать в скобки."
   ],
   "metadata": {
    "collapsed": false
   },
   "id": "1d66bc06daa91b04"
  },
  {
   "cell_type": "code",
   "execution_count": 1,
   "outputs": [],
   "source": [
    "def standard_function(x):            #  стандартное объявление функции\n",
    "    return x*2\n",
    "\n",
    "lambda_function = lambda x: x*2      #  объявление анонимной функции"
   ],
   "metadata": {
    "collapsed": false,
    "ExecuteTime": {
     "end_time": "2024-08-28T06:51:26.855768200Z",
     "start_time": "2024-08-28T06:51:26.851435200Z"
    }
   },
   "id": "6ec660dbf47f0903"
  },
  {
   "cell_type": "code",
   "execution_count": 2,
   "outputs": [
    {
     "name": "stdout",
     "output_type": "stream",
     "text": [
      "14\n",
      "14\n"
     ]
    }
   ],
   "source": [
    "print(standard_function(7))\n",
    "print(lambda_function(7))"
   ],
   "metadata": {
    "collapsed": false,
    "ExecuteTime": {
     "end_time": "2024-08-28T06:57:50.252688700Z",
     "start_time": "2024-08-28T06:57:50.247394100Z"
    }
   },
   "id": "ecfab8fbdda850"
  },
  {
   "cell_type": "code",
   "execution_count": 3,
   "outputs": [
    {
     "name": "stdout",
     "output_type": "stream",
     "text": [
      "30\n",
      "15\n",
      "45\n"
     ]
    }
   ],
   "source": [
    "f1 = lambda: 10 + 20               # функция без параметров\n",
    "f2 = lambda х, у: х + у            # функция с двумя параметрами\n",
    "f3 = lambda х, у, z: х + у + z     # функция с тремя параметрами\n",
    "\n",
    "print(f1())\n",
    "print(f2(5, 10))\n",
    "print(f3(5, 10, 30))"
   ],
   "metadata": {
    "collapsed": false,
    "ExecuteTime": {
     "end_time": "2024-08-28T06:58:08.015290500Z",
     "start_time": "2024-08-28T06:58:08.008307800Z"
    }
   },
   "id": "ddad7c0a0b67f604"
  },
  {
   "cell_type": "raw",
   "source": [
    "Когда применение анонимных функций оправдано:\n",
    "\n",
    "однократное использование функции;\n",
    "передача функций в качестве аргументов другим функциям;\n",
    "возвращение функции в качестве результата другой функции."
   ],
   "metadata": {
    "collapsed": false
   },
   "id": "bd6a9906a6aed9e5"
  },
  {
   "cell_type": "markdown",
   "source": [
    "Однократное использование функции"
   ],
   "metadata": {
    "collapsed": false
   },
   "id": "fd17a0519ceecf6c"
  },
  {
   "cell_type": "raw",
   "source": [
    "В одном из прошлых уроков нам приходилось сортировать список кортежей. Как мы уже знаем, встроенная  функция sorted() (или списочный метод sort()) сортируют по первым значениям кортежей, а в случае их совпадения, по вторым и т.д. Для сортировки, отличной от стандартной нам приходилось создавать отдельные функции-компараторы для сравнения элементов:"
   ],
   "metadata": {
    "collapsed": false
   },
   "id": "5aa74ec684ffe36d"
  },
  {
   "cell_type": "code",
   "execution_count": 4,
   "outputs": [
    {
     "name": "stdout",
     "output_type": "stream",
     "text": [
      "[(2, -4), (1, -1), (2, 3), (1, 5), (10, 9), (-10, 15), (7, 18)]\n",
      "[(2, -4), (1, -1), (2, 3), (-10, 15), (1, 5), (10, 9), (7, 18)]\n"
     ]
    }
   ],
   "source": [
    "def compare_by_second(point):\n",
    "    return point[1]\n",
    "\n",
    "\n",
    "def compare_by_sum(point):\n",
    "    return point[0] + point[1]\n",
    "\n",
    "\n",
    "points = [(1, -1), (2, 3), (-10, 15), (10, 9), (7, 18), (1, 5), (2, -4)]\n",
    "\n",
    "print(sorted(points, key=compare_by_second))   # сортируем по второму значению кортежа\n",
    "print(sorted(points, key=compare_by_sum))      # сортируем по сумме кортежа"
   ],
   "metadata": {
    "collapsed": false,
    "ExecuteTime": {
     "end_time": "2024-08-28T07:00:39.654137800Z",
     "start_time": "2024-08-28T07:00:39.646564600Z"
    }
   },
   "id": "c78bdb066311bc45"
  },
  {
   "cell_type": "raw",
   "source": [
    "Очевидно, что такие функции как compare_by_second() и compare_by_sum() не особо нужны вне контекста сортировки, поэтому логично их заменить на анонимные функции:"
   ],
   "metadata": {
    "collapsed": false
   },
   "id": "2853af278cb88ba0"
  },
  {
   "cell_type": "code",
   "execution_count": 5,
   "outputs": [
    {
     "name": "stdout",
     "output_type": "stream",
     "text": [
      "[(2, -4), (1, -1), (2, 3), (1, 5), (10, 9), (-10, 15), (7, 18)]\n",
      "[(2, -4), (1, -1), (2, 3), (-10, 15), (1, 5), (10, 9), (7, 18)]\n"
     ]
    }
   ],
   "source": [
    "points = [(1, -1), (2, 3), (-10, 15), (10, 9), (7, 18), (1, 5), (2, -4)]\n",
    "\n",
    "print(sorted(points, key=lambda point: point[1]))                 # сортируем по второму значению кортежа\n",
    "print(sorted(points, key=lambda point: point[0] + point[1]))      # сортируем по сумме элементов кортежа"
   ],
   "metadata": {
    "collapsed": false,
    "ExecuteTime": {
     "end_time": "2024-08-28T07:01:31.998399200Z",
     "start_time": "2024-08-28T07:01:31.989502600Z"
    }
   },
   "id": "b9be4be1ce6fbdf6"
  },
  {
   "cell_type": "raw",
   "source": [
    "Название аргумента point в анонимной функции можно заменить на любое другое."
   ],
   "metadata": {
    "collapsed": false
   },
   "id": "7771340cebab478b"
  },
  {
   "cell_type": "markdown",
   "source": [
    "Передача анонимных функций в качестве аргументов другим функциям"
   ],
   "metadata": {
    "collapsed": false
   },
   "id": "9317fbbc8076f67b"
  },
  {
   "cell_type": "raw",
   "source": [
    "Функции высшего порядка map(), filter() и reduce() идеально подойдут для демонстрации удобства анонимных функций в качестве аргументов других функций.\n",
    "\n",
    "Теперь нет необходимости делать преобразующую элементы функцию отдельно определенной именованной функцией."
   ],
   "metadata": {
    "collapsed": false
   },
   "id": "8eb947a47213b1e6"
  },
  {
   "cell_type": "code",
   "execution_count": 6,
   "outputs": [
    {
     "name": "stdout",
     "output_type": "stream",
     "text": [
      "[2, 3, 4, 5, 6, 7]\n",
      "[2, 4, 6, 8, 10, 12]\n",
      "[1, 4, 9, 16, 25, 36]\n"
     ]
    }
   ],
   "source": [
    "numbers = [1, 2, 3, 4, 5, 6]\n",
    "\n",
    "new_numbers1 = list(map(lambda x: x+1, numbers))      #  увеличиваем на 1\n",
    "new_numbers2 = list(map(lambda x: x*2, numbers))      #  удваиваем\n",
    "new_numbers3 = list(map(lambda x: x**2, numbers))     #  возводим в квадрат\n",
    "\n",
    "print(new_numbers1)\n",
    "print(new_numbers2)\n",
    "print(new_numbers3)"
   ],
   "metadata": {
    "collapsed": false,
    "ExecuteTime": {
     "end_time": "2024-08-28T07:03:24.828305900Z",
     "start_time": "2024-08-28T07:03:24.821452600Z"
    }
   },
   "id": "c7bff7c9814d5e98"
  },
  {
   "cell_type": "code",
   "execution_count": 9,
   "outputs": [
    {
     "name": "stdout",
     "output_type": "stream",
     "text": [
      "['aaa', 'bb', 'c', 'dddd', 'eeeee']\n"
     ]
    }
   ],
   "source": [
    "strings = ['a', 'b', 'c', 'd', 'e']\n",
    "numbers = [3, 2, 1, 4, 5]\n",
    "\n",
    "new_strings = list(map(lambda x, y: x*y, strings, numbers))\n",
    "\n",
    "print(new_strings)"
   ],
   "metadata": {
    "collapsed": false,
    "ExecuteTime": {
     "end_time": "2024-08-28T07:06:54.658950300Z",
     "start_time": "2024-08-28T07:06:54.647834400Z"
    }
   },
   "id": "1cd1285a4067fd95"
  },
  {
   "cell_type": "raw",
   "source": [
    "Рассмотрим примеры использования анонимных функций в качестве аргумента функции filter()."
   ],
   "metadata": {
    "collapsed": false
   },
   "id": "2b429301f37d1524"
  },
  {
   "cell_type": "code",
   "execution_count": 10,
   "outputs": [
    {
     "name": "stdout",
     "output_type": "stream",
     "text": [
      "[2, 4, 10, 30, 50, 100, 90]\n",
      "[100, 90]\n",
      "[2, 4, 0, -20, 10, 30, -40, 50, 100, 90]\n"
     ]
    }
   ],
   "source": [
    "numbers = [-1, 2, -3, 4, 0, -20, 10, 30, -40, 50, 100, 90]\n",
    "\n",
    "positive_numbers = list(filter(lambda x: x > 0, numbers))      #  положительные числа\n",
    "large_numbers = list(filter(lambda x: x > 50, numbers))        #  числа, большие 50\n",
    "even_numbers = list(filter(lambda x: x % 2 == 0, numbers))     #  четные числа\n",
    "\n",
    "print(positive_numbers)\n",
    "print(large_numbers)\n",
    "print(even_numbers)"
   ],
   "metadata": {
    "collapsed": false,
    "ExecuteTime": {
     "end_time": "2024-08-28T07:07:15.999641900Z",
     "start_time": "2024-08-28T07:07:15.988665700Z"
    }
   },
   "id": "f066348153c528d8"
  },
  {
   "cell_type": "code",
   "execution_count": 11,
   "outputs": [
    {
     "name": "stdout",
     "output_type": "stream",
     "text": [
      "['beegeek', 'iq-option']\n",
      "['stepik', 'beegeek']\n"
     ]
    }
   ],
   "source": [
    "words = ['python', 'stepik', 'beegeek', 'iq-option']\n",
    "\n",
    "new_words1 = list(filter(lambda w: len(w) > 6, words))    #  слова длиною больше 6 символов\n",
    "new_words2 = list(filter(lambda w: 'e' in w, words))      #  слова содержащие букву e\n",
    "\n",
    "print(new_words1)\n",
    "print(new_words2)"
   ],
   "metadata": {
    "collapsed": false,
    "ExecuteTime": {
     "end_time": "2024-08-28T07:07:38.514533400Z",
     "start_time": "2024-08-28T07:07:38.505589400Z"
    }
   },
   "id": "a2e691529816362b"
  },
  {
   "cell_type": "raw",
   "source": [
    "Рассмотрим примеры использования анонимных функций в качестве аргументов функции reduce()."
   ],
   "metadata": {
    "collapsed": false
   },
   "id": "ea871ca1b29646ad"
  },
  {
   "cell_type": "code",
   "execution_count": 12,
   "outputs": [
    {
     "name": "stdout",
     "output_type": "stream",
     "text": [
      "21\n",
      "720\n",
      "Everyone loves python loves stepik loves beegeek loves iq-option\n"
     ]
    }
   ],
   "source": [
    "from functools import reduce\n",
    "\n",
    "words = ['python', 'stepik', 'beegeek', 'iq-option']\n",
    "numbers = [1, 2, 3, 4, 5, 6]\n",
    "\n",
    "summa = reduce(lambda x, y: x + y, numbers, 0)\n",
    "product = reduce(lambda x, y: x * y, numbers, 1)\n",
    "sentence = reduce(lambda x, y: x + ' loves ' + y, words, 'Everyone')\n",
    "\n",
    "print(summa)\n",
    "print(product)\n",
    "print(sentence)"
   ],
   "metadata": {
    "collapsed": false,
    "ExecuteTime": {
     "end_time": "2024-08-28T07:08:16.484621200Z",
     "start_time": "2024-08-28T07:08:16.474456Z"
    }
   },
   "id": "a59e57fb640b2666"
  },
  {
   "cell_type": "markdown",
   "source": [
    "Возвращение функции в качестве результата другой функции"
   ],
   "metadata": {
    "collapsed": false
   },
   "id": "35e3b236e4f703a7"
  },
  {
   "cell_type": "raw",
   "source": [
    "Анонимные функции могут быть результатом работы других функций.\n",
    "\n",
    "Приведенный ниже код по значениям a,b,c строит и возвращает квадратный трехчлен:"
   ],
   "metadata": {
    "collapsed": false
   },
   "id": "1b62c271759fc930"
  },
  {
   "cell_type": "code",
   "execution_count": 13,
   "outputs": [],
   "source": [
    "def generator_square_polynom(a, b, c):\n",
    "    def square_polynom(x):\n",
    "        return a*x**2 + b*x + c\n",
    "    return square_polynom"
   ],
   "metadata": {
    "collapsed": false,
    "ExecuteTime": {
     "end_time": "2024-08-28T07:10:15.945705300Z",
     "start_time": "2024-08-28T07:10:15.938714400Z"
    }
   },
   "id": "8a05ca7f29550"
  },
  {
   "cell_type": "raw",
   "source": [
    "Такой код можно переписать так:"
   ],
   "metadata": {
    "collapsed": false
   },
   "id": "7f009ce646456185"
  },
  {
   "cell_type": "code",
   "execution_count": 14,
   "outputs": [],
   "source": [
    "def generator_square_polynom(a, b, c):\n",
    "    return lambda x: a*x**2 + b*x + c"
   ],
   "metadata": {
    "collapsed": false,
    "ExecuteTime": {
     "end_time": "2024-08-28T07:10:42.202111600Z",
     "start_time": "2024-08-28T07:10:42.190654Z"
    }
   },
   "id": "811d81026b54593"
  },
  {
   "cell_type": "raw",
   "source": [
    "Этот пример показывает, что анонимные функции являются замыканиями: возвращаемая функция запоминает значения переменных a, b, c из внешнего окружения."
   ],
   "metadata": {
    "collapsed": false
   },
   "id": "e5d8d3ba6786c03b"
  },
  {
   "cell_type": "markdown",
   "source": [
    "Условный оператор в теле анонимной функции"
   ],
   "metadata": {
    "collapsed": false
   },
   "id": "d35c83108c5f33a4"
  },
  {
   "cell_type": "raw",
   "source": [
    "В теле анонимной функции не получится выполнить несколько действий и не получится использовать многострочные конструкции вроде циклов for и while. Однако можно использовать тернарный условный оператор."
   ],
   "metadata": {
    "collapsed": false
   },
   "id": "bc64a70944b1a3f9"
  },
  {
   "cell_type": "code",
   "execution_count": 15,
   "outputs": [
    {
     "name": "stdout",
     "output_type": "stream",
     "text": [
      "['even', 'even', 'odd', 'even', 'odd', 'even', 'odd', 'even']\n"
     ]
    }
   ],
   "source": [
    "numbers = [-2, 0, 1, 2, 17, 4, 5, 6]\n",
    "\n",
    "result = list(map(lambda x: 'even' if x % 2 == 0 else 'odd', numbers))\n",
    "\n",
    "print(result)"
   ],
   "metadata": {
    "collapsed": false,
    "ExecuteTime": {
     "end_time": "2024-08-28T07:12:14.183266700Z",
     "start_time": "2024-08-28T07:12:14.172499600Z"
    }
   },
   "id": "c3ae458363a42f9c"
  },
  {
   "cell_type": "raw",
   "source": [
    "Общий вид тернарного условного оператора в теле анонимной функции выглядит так:\n",
    "\n",
    "значение1 if условие else значение2"
   ],
   "metadata": {
    "collapsed": false
   },
   "id": "ecf2282e8930c5e3"
  },
  {
   "cell_type": "markdown",
   "source": [
    "Передача аргументов в анонимную функцию"
   ],
   "metadata": {
    "collapsed": false
   },
   "id": "f45d62293894bb61"
  },
  {
   "cell_type": "raw",
   "source": [
    "Как и обычные функции, определенные с помощью ключевого слова def , анонимные функции поддерживают все способы передачи аргументов:\n",
    "\n",
    "позиционные аргументы;\n",
    "именованные аргументы;\n",
    "переменный список позиционных аргументов (*args);\n",
    "переменный список именованных аргументов (**kwargs);\n",
    "обязательные аргументы (*)."
   ],
   "metadata": {
    "collapsed": false
   },
   "id": "808bba5211139d14"
  },
  {
   "cell_type": "code",
   "execution_count": 16,
   "outputs": [
    {
     "name": "stdout",
     "output_type": "stream",
     "text": [
      "6\n",
      "6\n",
      "6\n",
      "15\n",
      "6\n",
      "1\n",
      "6\n"
     ]
    }
   ],
   "source": [
    "f1 = lambda x, y, z: x + y + z\n",
    "f2 = lambda x, y, z=3: x + y + z\n",
    "f3 = lambda *args: sum(args)\n",
    "f4 = lambda **kwargs: sum(kwargs.values())\n",
    "f5 = lambda x, *, y=0, z=0: x + y + z\n",
    "\n",
    "\n",
    "print(f1(1, 2, 3))\n",
    "print(f2(1, 2))\n",
    "print(f2(1, y=2))\n",
    "print(f3(1, 2, 3, 4, 5))\n",
    "print(f4(one=1, two=2, three=3))\n",
    "print(f5(1))\n",
    "print(f5(1, y=2, z=3))"
   ],
   "metadata": {
    "collapsed": false,
    "ExecuteTime": {
     "end_time": "2024-08-28T07:14:02.471821200Z",
     "start_time": "2024-08-28T07:14:02.461847700Z"
    }
   },
   "id": "f7bd7ba68b0fc223"
  },
  {
   "cell_type": "markdown",
   "source": [
    "Ограничения анонимных функций"
   ],
   "metadata": {
    "collapsed": false
   },
   "id": "193c1a4982589c61"
  },
  {
   "cell_type": "raw",
   "source": [
    "Особенности и ограничения анонимных функций в Python:\n",
    "\n",
    "анонимная функция может содержать только выражение, и не может включать в свое тело операторы;\n",
    "в теле анонимной функции такие операторы, как return, pass, assert или raise, вызовут исключение SyntaxError;\n",
    "анонимная функция пишется как одна строка исполнения;\n",
    "анонимная функция может быть немедленно вызвана 🤓."
   ],
   "metadata": {
    "collapsed": false
   },
   "id": "8aa4aacdde75b02c"
  },
  {
   "cell_type": "raw",
   "source": [
    "Примечание 1. Интересная особенность анонимных функций (лямбда-функций) – они являются выражениями. После определения лямбда-функции ее можно сразу же вызвать."
   ],
   "metadata": {
    "collapsed": false
   },
   "id": "990258e2abc53389"
  },
  {
   "cell_type": "code",
   "execution_count": 17,
   "outputs": [
    {
     "name": "stdout",
     "output_type": "stream",
     "text": [
      "15\n",
      "53\n"
     ]
    }
   ],
   "source": [
    "print((lambda х, у: х + у)(5, 10))     # 5 + 10\n",
    "print(1 + (lambda x: x*5)(10) + 2)     # 1 + 50 + 2"
   ],
   "metadata": {
    "collapsed": false,
    "ExecuteTime": {
     "end_time": "2024-08-28T07:16:59.693943900Z",
     "start_time": "2024-08-28T07:16:59.685716500Z"
    }
   },
   "id": "59d6b6be8b7256e4"
  },
  {
   "cell_type": "raw",
   "source": [
    "Примечание 3. В Python анонимные функции — лишь сокращенная запись функции, поэтому приведенный ниже код:"
   ],
   "metadata": {
    "collapsed": false
   },
   "id": "1da7f29fbc7dddcb"
  },
  {
   "cell_type": "code",
   "execution_count": 18,
   "outputs": [
    {
     "name": "stdout",
     "output_type": "stream",
     "text": [
      "<class 'function'>\n"
     ]
    }
   ],
   "source": [
    "f = lambda x: x + 1\n",
    "print(type(f))"
   ],
   "metadata": {
    "collapsed": false,
    "ExecuteTime": {
     "end_time": "2024-08-28T07:18:15.686994800Z",
     "start_time": "2024-08-28T07:18:15.676263500Z"
    }
   },
   "id": "95c9611d5699c778"
  },
  {
   "cell_type": "raw",
   "source": [
    "То есть, анонимные функции имеют такой же тип, как и обычные функции."
   ],
   "metadata": {
    "collapsed": false
   },
   "id": "3d1d692f3496f829"
  },
  {
   "cell_type": "raw",
   "source": [
    "Примечание 4. Анонимные функции очень часто используются вместе со встроенными функциями map(), filter(), reduce(), sorted(), max(), min() и т.д."
   ],
   "metadata": {
    "collapsed": false
   },
   "id": "a40ab9b40a46f11a"
  },
  {
   "cell_type": "code",
   "execution_count": 21,
   "outputs": [
    {
     "name": "stdout",
     "output_type": "stream",
     "text": [
      "81\n"
     ]
    }
   ],
   "source": [
    "funcs = [lambda x: x ** 0.5, lambda x: x ** 2, lambda x: x ** 3]\n",
    "print(funcs[1](9))"
   ],
   "metadata": {
    "collapsed": false,
    "ExecuteTime": {
     "end_time": "2024-08-28T08:05:44.823068500Z",
     "start_time": "2024-08-28T08:05:44.815262800Z"
    }
   },
   "id": "4dd02cfbba9ae2e3"
  },
  {
   "cell_type": "code",
   "execution_count": 22,
   "outputs": [
    {
     "name": "stdout",
     "output_type": "stream",
     "text": [
      "25\n"
     ]
    }
   ],
   "source": [
    "from functools import reduce\n",
    "\n",
    "numbers = range(10)\n",
    "obj = map(lambda x: x + 1, numbers)\n",
    "obj = filter(lambda x: x % 2 == 1, obj)\n",
    "result = reduce(lambda x, y: x + y, obj, 0)\n",
    "\n",
    "print(result)"
   ],
   "metadata": {
    "collapsed": false,
    "ExecuteTime": {
     "end_time": "2024-08-28T08:07:32.740893300Z",
     "start_time": "2024-08-28T08:07:32.713962400Z"
    }
   },
   "id": "e312eda717f97d70"
  },
  {
   "cell_type": "code",
   "execution_count": 23,
   "outputs": [
    {
     "name": "stdout",
     "output_type": "stream",
     "text": [
      "[['a'], ['a', 'b'], ['a', 'b', 'c']]\n"
     ]
    }
   ],
   "source": [
    "result = list(map(lambda x: x.split(), ['a', 'a b', 'a b c']))\n",
    "\n",
    "print(result)"
   ],
   "metadata": {
    "collapsed": false,
    "ExecuteTime": {
     "end_time": "2024-08-28T08:08:39.872413300Z",
     "start_time": "2024-08-28T08:08:39.861927900Z"
    }
   },
   "id": "b160193e0033f58e"
  },
  {
   "cell_type": "code",
   "execution_count": 24,
   "outputs": [
    {
     "name": "stdout",
     "output_type": "stream",
     "text": [
      "19\n"
     ]
    }
   ],
   "source": [
    "high_ord_func = lambda x, func: x + func(x)\n",
    "\n",
    "result = high_ord_func(2, lambda x: x * x) + high_ord_func(5, lambda x: x + 3)\n",
    "\n",
    "print(result)"
   ],
   "metadata": {
    "collapsed": false,
    "ExecuteTime": {
     "end_time": "2024-08-28T08:09:34.681278Z",
     "start_time": "2024-08-28T08:09:34.669681400Z"
    }
   },
   "id": "e5f6ffacf1eacf34"
  },
  {
   "cell_type": "code",
   "execution_count": 25,
   "outputs": [
    {
     "name": "stdout",
     "output_type": "stream",
     "text": [
      "[{'x': 1}, {'x': 3, 'y': 4}]\n"
     ]
    }
   ],
   "source": [
    "dict1 = {'x': 1}\n",
    "dict2 = {'y': 2}\n",
    "dict3 = {'x': 3, 'y': 4}\n",
    "\n",
    "result = list(filter(lambda d: 'x' in d.keys(), [dict1, dict2, dict3]))\n",
    "\n",
    "print(result)"
   ],
   "metadata": {
    "collapsed": false,
    "ExecuteTime": {
     "end_time": "2024-08-28T08:23:20.875527400Z",
     "start_time": "2024-08-28T08:23:20.844103700Z"
    }
   },
   "id": "6c5a84691ec879bd"
  },
  {
   "cell_type": "raw",
   "source": [
    "Требовалось написать программу, которая:\n",
    "\n",
    "преобразует список floats в список чисел, возведенных в квадрат и округленных с точностью до одного десятичного знака;\n",
    "фильтрует список words  и оставляет только палиндромы длиной более 4 символов;\n",
    "находит произведение чисел из списка numbers.\n",
    "Программист торопился и написал программу неправильно. Доработайте его программу."
   ],
   "metadata": {
    "collapsed": false
   },
   "id": "1e04c2e14bc14074"
  },
  {
   "cell_type": "code",
   "execution_count": 32,
   "outputs": [
    {
     "name": "stdout",
     "output_type": "stream",
     "text": [
      "[18.9, 37.1, 10.6, 95.5, 4.7, 78.9, 21.1, 1171.7, 146.9, 21.8, 6.0, 86.9]\n",
      "['racecar', 'civic', 'TATTARRATTAT', 'malayalam']\n",
      "24840\n"
     ]
    }
   ],
   "source": [
    "from functools import reduce \n",
    "\n",
    "floats = [4.35, 6.09, 3.25, 9.77, 2.16, 8.88, 4.59, 34.23, 12.12, 4.67, 2.45, 9.32]\n",
    "words = ['racecar', 'akinremi', 'deed', 'temidayo', 'omoseun', 'civic', 'TATTARRATTAT', 'malayalam', 'nun']\n",
    "numbers = [4, 6, 9, 23, 5]\n",
    "\n",
    "# Исправьте этот код\n",
    "map_result = list(map(lambda num: round(num**2, 1), floats))\n",
    "filter_result = list(filter(lambda name: len(name) > 4 and name == name[::-1], words))\n",
    "reduce_result = reduce(lambda num1, num2: num1 * num2, numbers, 1)\n",
    "\n",
    "print(map_result)\n",
    "print(filter_result)\n",
    "print(reduce_result)"
   ],
   "metadata": {
    "collapsed": false,
    "ExecuteTime": {
     "end_time": "2024-08-28T08:28:26.678782800Z",
     "start_time": "2024-08-28T08:28:26.674794600Z"
    }
   },
   "id": "cbdec929e2cf7e3c"
  },
  {
   "cell_type": "raw",
   "source": [
    "Напишите программу, которая с помощью встроенных функций filter(), map(), sorted() и reduce() выводит в алфавитном порядке список primary городов с населением более 10_000_000 человек, в формате:\n",
    "\n",
    "Cities: Beijing, Buenos Aires, ...\n",
    "Примечание 1. Тестирующая система никак не \"покарает\" вас за неиспользование встроенных функций filter(), map(), sorted() и reduce(), однако лучше сделать это задание честно 😃.\n",
    "\n",
    "Примечание 2. Ставить запятую в конце вывода не нужно."
   ],
   "metadata": {
    "collapsed": false
   },
   "id": "e3729a3469b45735"
  },
  {
   "cell_type": "code",
   "execution_count": 59,
   "outputs": [
    {
     "name": "stdout",
     "output_type": "stream",
     "text": [
      "[['Tokyo', 35676000, 'primary'], ['Mexico City', 19028000, 'primary'], ['Dhaka', 12797394, 'primary'], ['Buenos Aires', 12795000, 'primary'], ['Cairo', 11893000, 'primary'], ['Beijing', 11106000, 'primary'], ['Manila', 11100000, 'primary'], ['Moscow', 10452000, 'primary']]\n",
      "['Tokyo', 'Mexico City', 'Dhaka', 'Buenos Aires', 'Cairo', 'Beijing', 'Manila', 'Moscow']\n",
      "['Beijing', 'Buenos Aires', 'Cairo', 'Dhaka', 'Manila', 'Mexico City', 'Moscow', 'Tokyo']\n",
      "Beijing, Buenos Aires, Cairo, Dhaka, Manila, Mexico City, Moscow, Tokyo\n",
      "Cities: Beijing, Buenos Aires, Cairo, Dhaka, Manila, Mexico City, Moscow, Tokyo\n"
     ]
    }
   ],
   "source": [
    "from functools import reduce\n",
    "\n",
    "data = [['Tokyo', 35676000, 'primary'],\n",
    "        ['New York', 19354922, 'nan'],\n",
    "        ['Mexico City', 19028000, 'primary'],\n",
    "        ['Mumbai', 18978000, 'admin'],\n",
    "        ['Sao Paulo', 18845000, 'admin'],\n",
    "        ['Delhi', 15926000, 'admin'],\n",
    "        ['Shanghai', 14987000, 'admin'],\n",
    "        ['Kolkata', 14787000, 'admin'],\n",
    "        ['Los Angeles', 12815475, 'nan'],\n",
    "        ['Dhaka', 12797394, 'primary'],\n",
    "        ['Buenos Aires', 12795000, 'primary'],\n",
    "        ['Karachi', 12130000, 'admin'],\n",
    "        ['Cairo', 11893000, 'primary'],\n",
    "        ['Rio de Janeiro', 11748000, 'admin'],\n",
    "        ['Osaka', 11294000, 'admin'],\n",
    "        ['Beijing', 11106000, 'primary'],\n",
    "        ['Manila', 11100000, 'primary'],\n",
    "        ['Moscow', 10452000, 'primary'],\n",
    "        ['Istanbul', 10061000, 'admin'],\n",
    "        ['Paris', 9904000, 'primary']]\n",
    "\n",
    "# Фильтрация по типу 'primary'\n",
    "filter_result = list(filter(lambda dat: dat[2] == 'primary', data))\n",
    "\n",
    "# Фильтрация по населению больше 10 миллионов\n",
    "filter_result = list(filter(lambda dat: dat[1] > 10_000_000, filter_result))\n",
    "\n",
    "# Извлечение имен городов из отфильтрованных данных\n",
    "city_names = list(map(lambda dat: dat[0], filter_result))\n",
    "\n",
    "# Сортировка имен городов\n",
    "sorted_cities = sorted(city_names)\n",
    "\n",
    "# Объединение имен городов в одну строку, разделенную запятыми\n",
    "reduce_result = reduce(lambda acc, city: f\"{acc}, {city}\" if acc else city, sorted_cities)\n",
    "\n",
    "print(filter_result)\n",
    "print(city_names)\n",
    "print(sorted_cities)\n",
    "print(reduce_result)\n",
    "print(f\"Cities: {reduce_result}\")"
   ],
   "metadata": {
    "collapsed": false,
    "ExecuteTime": {
     "end_time": "2024-08-28T09:34:31.063286400Z",
     "start_time": "2024-08-28T09:34:31.058483900Z"
    }
   },
   "id": "437d66f5a5640ee"
  }
 ],
 "metadata": {
  "kernelspec": {
   "display_name": "Python 3",
   "language": "python",
   "name": "python3"
  },
  "language_info": {
   "codemirror_mode": {
    "name": "ipython",
    "version": 2
   },
   "file_extension": ".py",
   "mimetype": "text/x-python",
   "name": "python",
   "nbconvert_exporter": "python",
   "pygments_lexer": "ipython2",
   "version": "2.7.6"
  }
 },
 "nbformat": 4,
 "nbformat_minor": 5
}
