{
 "cells": [
  {
   "cell_type": "raw",
   "source": [
    "В Python 3 добавили возможность пометить именованные аргументы функции так, чтобы вызвать функцию можно было, только передав эти аргументы по именам. Такие аргументы называются keyword-only и их нельзя передать в функцию в виде позиционных."
   ],
   "metadata": {
    "collapsed": false
   },
   "id": "7d122469e03cd5d0"
  },
  {
   "cell_type": "code",
   "execution_count": 2,
   "outputs": [],
   "source": [
    "def make_circle(x, y, radius, *, line_width=1, fill=True):\n",
    "    pass"
   ],
   "metadata": {
    "collapsed": false,
    "ExecuteTime": {
     "end_time": "2024-08-21T11:11:53.363726600Z",
     "start_time": "2024-08-21T11:11:53.359735600Z"
    }
   },
   "id": "a27c78dd27afba71"
  },
  {
   "cell_type": "raw",
   "source": [
    "Мы также можем объявить функцию, у которой будут только строго именованные аргументы, для этого нужно поставить звёздочку в самом начале перечня аргументов."
   ],
   "metadata": {
    "collapsed": false
   },
   "id": "aa98658fcc38450a"
  },
  {
   "cell_type": "raw",
   "source": [
    "Такой разделитель можно использовать только один раз в определении функции. Его нельзя применять в функциях с неограниченным количеством позиционных аргументов *args."
   ],
   "metadata": {
    "collapsed": false
   },
   "id": "b63863d54f3d6b58"
  },
  {
   "cell_type": "raw",
   "source": [
    "Вы можете использовать одновременно *args и **kwargs в одной строке для вызова функции. В этом случае порядок имеет значение. Как и аргументы, не являющиеся аргументами по умолчанию, *args должны предшествовать и аргументам по умолчанию, и **kwargs. Правильный порядок параметров:\n",
    "\n",
    "позиционные аргументы,\n",
    "*args аргументы, \n",
    "**kwargs аргументы."
   ],
   "metadata": {
    "collapsed": false
   },
   "id": "900ad68975c575fe"
  },
  {
   "cell_type": "code",
   "execution_count": 3,
   "outputs": [],
   "source": [
    "def my_func(a, b, *args, **kwargs):\n",
    "    pass"
   ],
   "metadata": {
    "collapsed": false,
    "ExecuteTime": {
     "end_time": "2024-08-21T11:13:15.120024800Z",
     "start_time": "2024-08-21T11:13:15.113530500Z"
    }
   },
   "id": "168147e63d3ffe7c"
  },
  {
   "cell_type": "code",
   "execution_count": null,
   "outputs": [],
   "source": [
    "def func(*args):\n",
    "    return max(args) + min(args)\n",
    "\n",
    "\n",
    "print(func(10, 15, *[31, 42, 5, 1], *(17, 28, 19, 100), 13, 12))"
   ],
   "metadata": {
    "collapsed": false
   },
   "id": "6f0c9a7f451e1783"
  },
  {
   "cell_type": "raw",
   "source": [
    "Напишите функцию count_args(), которая принимает произвольное количество аргументов и возвращает количество переданных в нее аргументов."
   ],
   "metadata": {
    "collapsed": false
   },
   "id": "a96aa9adf3a88160"
  },
  {
   "cell_type": "code",
   "execution_count": 8,
   "outputs": [
    {
     "name": "stdout",
     "output_type": "stream",
     "text": [
      "0\n",
      "1\n",
      "2\n",
      "5\n"
     ]
    }
   ],
   "source": [
    "def count_args(*args):\n",
    "    l = []\n",
    "    [l.append(args) for _ in args]\n",
    "    return len(l)\n",
    "\n",
    "def count_args(*args):\n",
    "    return len(args)\n",
    "\n",
    "print(count_args())\n",
    "print(count_args(10))\n",
    "print(count_args('stepik', 'beegeek'))\n",
    "print(count_args([], (''), 'a', 12, False))"
   ],
   "metadata": {
    "collapsed": false,
    "ExecuteTime": {
     "end_time": "2024-08-22T13:27:53.734382400Z",
     "start_time": "2024-08-22T13:27:53.730228100Z"
    }
   },
   "id": "f2d085be5e1fa9f9"
  },
  {
   "cell_type": "code",
   "execution_count": null,
   "outputs": [],
   "source": [],
   "metadata": {
    "collapsed": false
   },
   "id": "1af73522a9ff73a9"
  }
 ],
 "metadata": {
  "kernelspec": {
   "display_name": "Python 3",
   "language": "python",
   "name": "python3"
  },
  "language_info": {
   "codemirror_mode": {
    "name": "ipython",
    "version": 2
   },
   "file_extension": ".py",
   "mimetype": "text/x-python",
   "name": "python",
   "nbconvert_exporter": "python",
   "pygments_lexer": "ipython2",
   "version": "2.7.6"
  }
 },
 "nbformat": 4,
 "nbformat_minor": 5
}
