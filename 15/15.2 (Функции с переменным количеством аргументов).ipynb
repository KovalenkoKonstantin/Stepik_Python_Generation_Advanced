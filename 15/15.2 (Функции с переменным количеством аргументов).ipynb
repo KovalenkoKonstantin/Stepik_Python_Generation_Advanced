{
 "cells": [
  {
   "cell_type": "raw",
   "source": [
    "В Python 3 добавили возможность пометить именованные аргументы функции так, чтобы вызвать функцию можно было, только передав эти аргументы по именам. Такие аргументы называются keyword-only и их нельзя передать в функцию в виде позиционных."
   ],
   "metadata": {
    "collapsed": false
   },
   "id": "7d122469e03cd5d0"
  },
  {
   "cell_type": "code",
   "execution_count": 2,
   "outputs": [],
   "source": [
    "def make_circle(x, y, radius, *, line_width=1, fill=True):\n",
    "    pass"
   ],
   "metadata": {
    "collapsed": false,
    "ExecuteTime": {
     "end_time": "2024-08-21T11:11:53.363726600Z",
     "start_time": "2024-08-21T11:11:53.359735600Z"
    }
   },
   "id": "a27c78dd27afba71"
  },
  {
   "cell_type": "raw",
   "source": [
    "Мы также можем объявить функцию, у которой будут только строго именованные аргументы, для этого нужно поставить звёздочку в самом начале перечня аргументов."
   ],
   "metadata": {
    "collapsed": false
   },
   "id": "aa98658fcc38450a"
  },
  {
   "cell_type": "raw",
   "source": [
    "Такой разделитель можно использовать только один раз в определении функции. Его нельзя применять в функциях с неограниченным количеством позиционных аргументов *args."
   ],
   "metadata": {
    "collapsed": false
   },
   "id": "b63863d54f3d6b58"
  },
  {
   "cell_type": "raw",
   "source": [
    "Вы можете использовать одновременно *args и **kwargs в одной строке для вызова функции. В этом случае порядок имеет значение. Как и аргументы, не являющиеся аргументами по умолчанию, *args должны предшествовать и аргументам по умолчанию, и **kwargs. Правильный порядок параметров:\n",
    "\n",
    "позиционные аргументы,\n",
    "*args аргументы, \n",
    "**kwargs аргументы."
   ],
   "metadata": {
    "collapsed": false
   },
   "id": "900ad68975c575fe"
  },
  {
   "cell_type": "code",
   "execution_count": 3,
   "outputs": [],
   "source": [
    "def my_func(a, b, *args, **kwargs):\n",
    "    pass"
   ],
   "metadata": {
    "collapsed": false,
    "ExecuteTime": {
     "end_time": "2024-08-21T11:13:15.120024800Z",
     "start_time": "2024-08-21T11:13:15.113530500Z"
    }
   },
   "id": "168147e63d3ffe7c"
  },
  {
   "cell_type": "code",
   "execution_count": null,
   "outputs": [],
   "source": [
    "def func(*args):\n",
    "    return max(args) + min(args)\n",
    "\n",
    "\n",
    "print(func(10, 15, *[31, 42, 5, 1], *(17, 28, 19, 100), 13, 12))"
   ],
   "metadata": {
    "collapsed": false
   },
   "id": "6f0c9a7f451e1783"
  },
  {
   "cell_type": "raw",
   "source": [
    "Напишите функцию count_args(), которая принимает произвольное количество аргументов и возвращает количество переданных в нее аргументов."
   ],
   "metadata": {
    "collapsed": false
   },
   "id": "a96aa9adf3a88160"
  },
  {
   "cell_type": "code",
   "execution_count": 8,
   "outputs": [
    {
     "name": "stdout",
     "output_type": "stream",
     "text": [
      "0\n",
      "1\n",
      "2\n",
      "5\n"
     ]
    }
   ],
   "source": [
    "def count_args(*args):\n",
    "    l = []\n",
    "    [l.append(args) for _ in args]\n",
    "    return len(l)\n",
    "\n",
    "\n",
    "def count_args(*args):\n",
    "    return len(args)\n",
    "\n",
    "\n",
    "print(count_args())\n",
    "print(count_args(10))\n",
    "print(count_args('stepik', 'beegeek'))\n",
    "print(count_args([], (''), 'a', 12, False))"
   ],
   "metadata": {
    "collapsed": false,
    "ExecuteTime": {
     "end_time": "2024-08-22T13:27:53.734382400Z",
     "start_time": "2024-08-22T13:27:53.730228100Z"
    }
   },
   "id": "f2d085be5e1fa9f9"
  },
  {
   "cell_type": "raw",
   "source": [
    "Напишите функцию sq_sum(), которая принимает произвольное количество числовых аргументов и возвращает сумму их квадратов."
   ],
   "metadata": {
    "collapsed": false
   },
   "id": "270c5e14284b2ba8"
  },
  {
   "cell_type": "code",
   "execution_count": 12,
   "outputs": [
    {
     "name": "stdout",
     "output_type": "stream",
     "text": [
      "0\n",
      "4\n",
      "8.5\n",
      "14\n",
      "385\n"
     ]
    }
   ],
   "source": [
    "def sq_sum(*args):\n",
    "    s = 0\n",
    "    for i in args:\n",
    "        s += pow(i, 2)\n",
    "    return s\n",
    "\n",
    "\n",
    "def sq_sum(*args):\n",
    "    return sum(x ** 2 for x in args)\n",
    "\n",
    "\n",
    "def sq_sum(*args):\n",
    "    return sum(map(lambda x: x * x, args))\n",
    "\n",
    "\n",
    "print(sq_sum())\n",
    "print(sq_sum(2))\n",
    "print(sq_sum(1.5, 2.5))\n",
    "print(sq_sum(1, 2, 3))\n",
    "print(sq_sum(1, 2, 3, 4, 5, 6, 7, 8, 9, 10))"
   ],
   "metadata": {
    "collapsed": false,
    "ExecuteTime": {
     "end_time": "2024-08-23T05:27:08.011936300Z",
     "start_time": "2024-08-23T05:27:08.003051100Z"
    }
   },
   "id": "3d2be2a534e8f393"
  },
  {
   "cell_type": "raw",
   "source": [
    "Напишите функцию mean(), которая принимает произвольное количество аргументов и возвращает среднее арифметическое переданных в нее числовых (int или float) аргументов.\n",
    "Функция должна игнорировать аргументы всех типов, кроме int или float."
   ],
   "metadata": {
    "collapsed": false
   },
   "id": "5a6f77deb10094e"
  },
  {
   "cell_type": "code",
   "execution_count": 31,
   "outputs": [
    {
     "name": "stdout",
     "output_type": "stream",
     "text": [
      "0.0\n",
      "7.0\n",
      "2.0\n",
      "0.0\n",
      "3.5\n",
      "5.5\n"
     ]
    }
   ],
   "source": [
    "import numpy as np\n",
    "\n",
    "\n",
    "def mean(*args):\n",
    "    l = []\n",
    "    [l.append(i) for i in args if isinstance(i, (int, float)) and not (isinstance(i, bool))]\n",
    "    if not l:\n",
    "        return 0.0\n",
    "    return np.mean(l)\n",
    "\n",
    "\n",
    "def mean(*args):\n",
    "    s = [float(i) for i in args if type(i) in (int, float)]\n",
    "    if len(s) > 0:\n",
    "        return sum(s) / len(s)\n",
    "    else:\n",
    "        return 0.0\n",
    "\n",
    "\n",
    "print(mean())\n",
    "print(mean(7))\n",
    "print(mean(1.5, True, ['stepik'], 'beegeek', 2.5, (1, 2)))\n",
    "print(mean(True, ['stepik'], 'beegeek', (1, 2)))\n",
    "print(mean(-1, 2, 3, 10, ('5')))\n",
    "print(mean(1, 2, 3, 4, 5, 6, 7, 8, 9, 10))"
   ],
   "metadata": {
    "collapsed": false,
    "ExecuteTime": {
     "end_time": "2024-08-23T05:44:33.218279100Z",
     "start_time": "2024-08-23T05:44:33.210178Z"
    }
   },
   "id": "4c8e29986142609c"
  },
  {
   "cell_type": "raw",
   "source": [
    "Напишите функцию greet(), которая принимает произвольное количество аргументов строк имен (как минимум одно) и возвращает приветствие в соответствии с образцом."
   ],
   "metadata": {
    "collapsed": false
   },
   "id": "3c912442697a9731"
  },
  {
   "cell_type": "code",
   "execution_count": 77,
   "outputs": [
    {
     "name": "stdout",
     "output_type": "stream",
     "text": [
      "Hello, Timur!\n",
      "Hello, Timur and Roman!\n",
      "Hello, Timur and Roman and Ruslan!\n"
     ]
    }
   ],
   "source": [
    "def greet(a, *args):\n",
    "    if not args:  # check if args is empty\n",
    "        return f'Hello, {a}!'\n",
    "    elif len(args) == 1:  # check if there's exactly one name in args\n",
    "        return f'Hello, {a} and {args[0]}!'\n",
    "    else:  # more than one name\n",
    "        return f'Hello, {a} and ' + ' and '.join(args) + '!'\n",
    "\n",
    "\n",
    "def greet(name, *args):\n",
    "    return f'Hello, {\" and \".join((name,) + args)}!'\n",
    "\n",
    "\n",
    "print(greet('Timur'))\n",
    "print(greet('Timur', 'Roman'))\n",
    "print(greet('Timur', 'Roman', 'Ruslan'))"
   ],
   "metadata": {
    "collapsed": false,
    "ExecuteTime": {
     "end_time": "2024-08-23T06:16:57.283199400Z",
     "start_time": "2024-08-23T06:16:57.271641Z"
    }
   },
   "id": "911972be804678dd"
  },
  {
   "cell_type": "raw",
   "source": [
    "Напишите функцию print_products(), которая принимает произвольное количество аргументов и выводит список продуктов (любая непустая строка) по образцу: <номер продукта>) <название продукта> (нумерация продуктов начинается с единицы). Если среди переданных аргументов нет ни одного продукта, необходимо вывести текст Нет продуктов.\n",
    "\n",
    "Числа, списки, кортежи, словари, множества и другие нестроковые объекты продуктами не являются и их нужно игнорировать."
   ],
   "metadata": {
    "collapsed": false
   },
   "id": "46ef00f4728a2cfa"
  },
  {
   "cell_type": "code",
   "execution_count": 116,
   "outputs": [
    {
     "name": "stdout",
     "output_type": "stream",
     "text": [
      "1) Бананы\n",
      "2) Яблоки\n",
      "3) Макароны\n",
      "Нет продуктов\n"
     ]
    }
   ],
   "source": [
    "def print_products(*args):\n",
    "    l = [i for i in args if type(i) is str and i not in '']\n",
    "    if len(l) == 0:\n",
    "        return print('Нет продуктов')\n",
    "    for index, product in enumerate(l, start=1):\n",
    "        print(f\"{index}) {product}\")\n",
    "\n",
    "\n",
    "# def print_products(*args):\n",
    "#     cnt = 0\n",
    "#     for e in args:\n",
    "#         if type(e) == str and e:\n",
    "#             cnt += 1\n",
    "#             print(f'{cnt}) {e}')\n",
    "#     if cnt == 0:\n",
    "#         print('Нет продуктов')\n",
    "\n",
    "print_products('Бананы', [1, 2], ('Stepik',), 'Яблоки', '', 'Макароны', 5, True)\n",
    "print_products([4], {}, 1, 2, {'Beegeek'}, '')"
   ],
   "metadata": {
    "collapsed": false,
    "ExecuteTime": {
     "end_time": "2024-08-23T06:41:12.601800700Z",
     "start_time": "2024-08-23T06:41:12.599804900Z"
    }
   },
   "id": "a33ce1bbf7021602"
  },
  {
   "cell_type": "raw",
   "source": [
    "Для начала, фильтруем названия продуктов среди аргументов с помощью функции filter. Она создает генератор, поэтому извлечение строк из фильтра можо выполнить по одному в цикле и это будет по прежнему считатся одним проходом по данным. Но нам нужно пронумеровать продукты. Не беда, поверх фильтра мы запускаем функцию enumerate. Она как и функция filter выполнятеся \"лениво\", поэтому мы попрежнему выполняем один проход по данным. Задаем начала отсчета с числа 1. Теперь у нас есть номера и названия продуктов, пришло время их распечатать. Это можно было бы сделать с помощью следующего списочного выражения:\n",
    "\n",
    "[print(f'{c}) {e}') for c, e in enumerate(filter(lambda x: type(x) is str and x, args), 1)]\n",
    "Однако, побочным эффектом подобного выражения, будет создание списка из значений None:\n",
    "\n",
    "[None, None, None, ....]\n",
    "сколько раз была выполнена функция print, столько будет значний None в списке. С другой стороны мы могли бы воспользоваться этим списком для того чтобы определить был ли распечатан хотя бы один продукт. Если ни одного продукта распечатано не было, то этот список будет пуст и тогда можно вывести сообщение 'Нет продуктов'. Но как же сделать так, чтобы не создавать этот список в явном виде и при этом получить все необходимые нам побочные эффекты (вывод данных и возможность определить тот факт что не нашелся ни один продукт). Воспользуемся списочным генератором вместо списка и передадим его в множество. Тогда с одной стороны будут выполнены все команды print, а с другой стороны будет создано множество из одного элемента None (множество игнорирует дубликаты), а в случае когда не нашлось ни одного продука - получается пустое множество!"
   ],
   "metadata": {
    "collapsed": false
   },
   "id": "1259e8345bc36d10"
  },
  {
   "cell_type": "code",
   "execution_count": 117,
   "outputs": [],
   "source": [
    "def print_products(*args):\n",
    "    set(print(f'{c}) {e}') for c, e in enumerate(filter(lambda x: type(x) is str and x, args), 1)) \\\n",
    "    or print('Нет продуктов')"
   ],
   "metadata": {
    "collapsed": false,
    "ExecuteTime": {
     "end_time": "2024-08-23T06:43:11.299257500Z",
     "start_time": "2024-08-23T06:43:11.293761400Z"
    }
   },
   "id": "64803db62d464412"
  },
  {
   "cell_type": "raw",
   "source": [
    "Напишите функцию info_kwargs(), которая принимает произвольное количество именованных аргументов и печатает именованные аргументы в соответствии с образцом: <имя аргумента>: <значение аргумента>, при этом имена аргументов следуют в алфавитном порядке (по возрастанию)."
   ],
   "metadata": {
    "collapsed": false
   },
   "id": "a1b71cc6265aef57"
  },
  {
   "cell_type": "code",
   "execution_count": 123,
   "outputs": [
    {
     "name": "stdout",
     "output_type": "stream",
     "text": [
      "age: 28\n",
      "first_name: Timur\n",
      "job: teacher\n",
      "last_name: Guev\n"
     ]
    }
   ],
   "source": [
    "def info_kwargs(**kwargs):\n",
    "    for key, word in sorted(kwargs.items()):\n",
    "        print(f'{key}: {word}')\n",
    "\n",
    "def info_kwargs(**kwargs):\n",
    "    for key in sorted(kwargs):\n",
    "        print(f'{key}: {kwargs[key]}')\n",
    "\n",
    "info_kwargs(first_name='Timur', last_name='Guev', age=28, job='teacher') "
   ],
   "metadata": {
    "collapsed": false,
    "ExecuteTime": {
     "end_time": "2024-08-23T06:49:59.055760800Z",
     "start_time": "2024-08-23T06:49:59.054256800Z"
    }
   },
   "id": "7054834d168a69f3"
  }
 ],
 "metadata": {
  "kernelspec": {
   "display_name": "Python 3",
   "language": "python",
   "name": "python3"
  },
  "language_info": {
   "codemirror_mode": {
    "name": "ipython",
    "version": 2
   },
   "file_extension": ".py",
   "mimetype": "text/x-python",
   "name": "python",
   "nbconvert_exporter": "python",
   "pygments_lexer": "ipython2",
   "version": "2.7.6"
  }
 },
 "nbformat": 4,
 "nbformat_minor": 5
}
