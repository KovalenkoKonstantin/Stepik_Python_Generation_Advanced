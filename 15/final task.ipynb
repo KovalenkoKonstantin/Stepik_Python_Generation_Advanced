{
 "cells": [
  {
   "cell_type": "code",
   "execution_count": 1,
   "id": "initial_id",
   "metadata": {
    "collapsed": true,
    "ExecuteTime": {
     "end_time": "2024-09-03T05:14:46.397287900Z",
     "start_time": "2024-09-03T05:14:46.393981200Z"
    }
   },
   "outputs": [
    {
     "name": "stdout",
     "output_type": "stream",
     "text": [
      "(8, 7)\n"
     ]
    }
   ],
   "source": [
    "def add_five(a, b):\n",
    "    return a+5, b+5\n",
    "\n",
    "result = add_five(3, 2)\n",
    "print(result)"
   ]
  },
  {
   "cell_type": "code",
   "execution_count": 2,
   "outputs": [
    {
     "name": "stdout",
     "output_type": "stream",
     "text": [
      "Emma 25\n"
     ]
    }
   ],
   "source": [
    "def func(name, age=20):\n",
    "    print(name, age)\n",
    "\n",
    "func('Emma', 25)"
   ],
   "metadata": {
    "collapsed": false,
    "ExecuteTime": {
     "end_time": "2024-09-03T05:15:35.511477900Z",
     "start_time": "2024-09-03T05:15:35.504305100Z"
    }
   },
   "id": "c17eec6258bbcc62"
  },
  {
   "cell_type": "code",
   "execution_count": 3,
   "outputs": [
    {
     "name": "stdout",
     "output_type": "stream",
     "text": [
      "6\n"
     ]
    }
   ],
   "source": [
    "def func(x=2, y=3):\n",
    "    return x * y\n",
    "\n",
    "print(func())"
   ],
   "metadata": {
    "collapsed": false,
    "ExecuteTime": {
     "end_time": "2024-09-03T05:16:14.287785200Z",
     "start_time": "2024-09-03T05:16:14.281187100Z"
    }
   },
   "id": "b96227472faee1c9"
  },
  {
   "cell_type": "code",
   "execution_count": 4,
   "outputs": [
    {
     "name": "stdout",
     "output_type": "stream",
     "text": [
      "3\n"
     ]
    }
   ],
   "source": [
    "def func(x=2, y=3):\n",
    "    return x * y\n",
    "\n",
    "print(func(1))"
   ],
   "metadata": {
    "collapsed": false,
    "ExecuteTime": {
     "end_time": "2024-09-03T05:16:23.190709400Z",
     "start_time": "2024-09-03T05:16:23.181840500Z"
    }
   },
   "id": "9a5d53cf3bc31a3d"
  },
  {
   "cell_type": "code",
   "execution_count": 5,
   "outputs": [
    {
     "ename": "TypeError",
     "evalue": "display() got an unexpected keyword argument 'name'",
     "output_type": "error",
     "traceback": [
      "\u001B[1;31m---------------------------------------------------------------------------\u001B[0m",
      "\u001B[1;31mTypeError\u001B[0m                                 Traceback (most recent call last)",
      "Cell \u001B[1;32mIn[5], line 5\u001B[0m\n\u001B[0;32m      2\u001B[0m     \u001B[38;5;28;01mfor\u001B[39;00m i \u001B[38;5;129;01min\u001B[39;00m args:\n\u001B[0;32m      3\u001B[0m         \u001B[38;5;28mprint\u001B[39m(i, end\u001B[38;5;241m=\u001B[39m\u001B[38;5;124m'\u001B[39m\u001B[38;5;124m \u001B[39m\u001B[38;5;124m'\u001B[39m)\n\u001B[1;32m----> 5\u001B[0m \u001B[43mdisplay\u001B[49m\u001B[43m(\u001B[49m\u001B[43mname\u001B[49m\u001B[38;5;241;43m=\u001B[39;49m\u001B[38;5;124;43m'\u001B[39;49m\u001B[38;5;124;43mEmma\u001B[39;49m\u001B[38;5;124;43m'\u001B[39;49m\u001B[43m,\u001B[49m\u001B[43m \u001B[49m\u001B[43mage\u001B[49m\u001B[38;5;241;43m=\u001B[39;49m\u001B[38;5;241;43m25\u001B[39;49m\u001B[43m)\u001B[49m\n",
      "\u001B[1;31mTypeError\u001B[0m: display() got an unexpected keyword argument 'name'"
     ]
    }
   ],
   "source": [
    "def display(*args):\n",
    "    for i in args:\n",
    "        print(i, end=' ')\n",
    "\n",
    "display(name='Emma', age=25)"
   ],
   "metadata": {
    "collapsed": false,
    "ExecuteTime": {
     "end_time": "2024-09-03T05:16:51.788518600Z",
     "start_time": "2024-09-03T05:16:51.544317100Z"
    }
   },
   "id": "f465268d36f734b1"
  },
  {
   "cell_type": "code",
   "execution_count": 6,
   "outputs": [
    {
     "name": "stdout",
     "output_type": "stream",
     "text": [
      "emp salary "
     ]
    }
   ],
   "source": [
    "def display(**kwargs):\n",
    "    for i in kwargs:\n",
    "        print(i, end=' ')\n",
    "\n",
    "display(emp='Kelly', salary=9000)"
   ],
   "metadata": {
    "collapsed": false,
    "ExecuteTime": {
     "end_time": "2024-09-03T05:17:16.422314200Z",
     "start_time": "2024-09-03T05:17:16.414870100Z"
    }
   },
   "id": "bb90877dd1a3ff05"
  },
  {
   "cell_type": "code",
   "execution_count": 7,
   "outputs": [
    {
     "name": "stdout",
     "output_type": "stream",
     "text": [
      "55\n"
     ]
    }
   ],
   "source": [
    "def outer_func(a, b):\n",
    "    def inner_func(c, d):\n",
    "        return c + d + a*b\n",
    "\n",
    "    return inner_func\n",
    "\n",
    "\n",
    "res = outer_func(5, 10)(3, 2)\n",
    "\n",
    "print(res)"
   ],
   "metadata": {
    "collapsed": false,
    "ExecuteTime": {
     "end_time": "2024-09-03T05:17:29.055846800Z",
     "start_time": "2024-09-03T05:17:29.046622800Z"
    }
   },
   "id": "626fc490aabf754c"
  },
  {
   "cell_type": "code",
   "execution_count": 8,
   "outputs": [
    {
     "name": "stdout",
     "output_type": "stream",
     "text": [
      "1000001\n"
     ]
    }
   ],
   "source": [
    "num = int('1000001')\n",
    "print(num)"
   ],
   "metadata": {
    "collapsed": false,
    "ExecuteTime": {
     "end_time": "2024-09-03T05:17:39.359993200Z",
     "start_time": "2024-09-03T05:17:39.352664500Z"
    }
   },
   "id": "5ddb3dd84d75dabc"
  },
  {
   "cell_type": "code",
   "execution_count": 9,
   "outputs": [
    {
     "name": "stdout",
     "output_type": "stream",
     "text": [
      "65\n"
     ]
    }
   ],
   "source": [
    "num = int('1000001', 2)\n",
    "print(num)"
   ],
   "metadata": {
    "collapsed": false,
    "ExecuteTime": {
     "end_time": "2024-09-03T05:17:47.247476800Z",
     "start_time": "2024-09-03T05:17:47.239220400Z"
    }
   },
   "id": "7f7da3361e6ce0e3"
  },
  {
   "cell_type": "raw",
   "source": [
    "Напишите функцию generate_letter(), которая будет собирать электронное письмо в соответствии с шаблоном:\n",
    "To: <mail>\n",
    "Приветствую, <name>!\n",
    "Вам назначен экзамен, который пройдет <date>, в <time>.\n",
    "По адресу: <place>. \n",
    "Экзамен будет проводить <teacher> в кабинете <number>. \n",
    "Желаем удачи на экзамене!\n",
    "\n",
    "Функция должна получать на вход пять обязательных аргументов mail, name, date, time, place и два необязательных teacher, number и возвращать текст готового письма. При отсутствии аргумента teacher учителем будет Тимур Гуев, а если нет аргумента number, то кабинет будет 17.\n",
    "\n",
    "Примечание 1. Следующий программный код:\n",
    "\n",
    "print(generate_letter('lara@yandex.ru', 'Лариса', '10 декабря', '12:00', 'Часова 23, корпус 2'))\n",
    "print()\n",
    "print(generate_letter('lara@yandex.ru', 'Лариса', '10 декабря', '12:00', \n",
    "                      'Часова 23, корпус 2', 'Василь Ярошевич', 23))\n",
    "должен выводить:\n",
    "\n",
    "To: lara@yandex.ru\n",
    "Приветствую, Лариса!\n",
    "Вам назначен экзамен, который пройдет 10 декабря, в 12:00.\n",
    "По адресу: Часова 23, корпус 2. \n",
    "Экзамен будет проводить Тимур Гуев в кабинете 17. \n",
    "Желаем удачи на экзамене!\n",
    "\n",
    "To: lara@yandex.ru\n",
    "Приветствую, Лариса!\n",
    "Вам назначен экзамен, который пройдет 10 декабря, в 12:00.\n",
    "По адресу: Часова 23, корпус 2. \n",
    "Экзамен будет проводить Василь Ярошевич в кабинете 23. \n",
    "Желаем удачи на экзамене!\n",
    "Примечание 2. Вызывать функцию generate_letter() не нужно, требуется только реализовать."
   ],
   "metadata": {
    "collapsed": false
   },
   "id": "ce975d5d93be517b"
  },
  {
   "cell_type": "code",
   "execution_count": null,
   "outputs": [],
   "source": [
    "def generate_letter(mail, name, date, time, place, teacher=\"Тимур Гуев\", number=17):\n",
    "    letter = (\n",
    "        f\"To: {mail}\\n\"\n",
    "        f\"Приветствую, {name}!\\n\"\n",
    "        f\"Вам назначен экзамен, который пройдет {date}, в {time}.\\n\"\n",
    "        f\"По адресу: {place}. \\n\"\n",
    "        f\"Экзамен будет проводить {teacher} в кабинете {number}. \\n\"\n",
    "        f\"Желаем удачи на экзамене!\"\n",
    "    )\n",
    "    return letter"
   ],
   "metadata": {
    "collapsed": false
   },
   "id": "28b092a356cc181a"
  },
  {
   "cell_type": "raw",
   "source": [
    "Напишите функцию pretty_print(), которая выводит содержимое списка с рамкой. \n",
    "\n",
    "Функция должна получать на вход один обязательный аргумент data – список, который следует вывести и два необязательных строковых односимвольных  аргумента side и delimiter и выводить содержимое списка в соответствии с примерами.\n",
    "\n",
    "В случае если отсутствует аргумент side, то полагаем side='-', а если отсутствует аргумент delimiter, то полагаем delimiter='|'.\n",
    "\n",
    "Примечание 1. Следующий программный код:\n",
    "\n",
    "pretty_print([1, 2, 10, 23, 123, 3000])\n",
    "pretty_print(['abc', 'def', 'ghi', '12345'])\n",
    "pretty_print(['abc', 'def', 'ghi'], side='*')\n",
    "pretty_print(['abc', 'def', 'ghi'], delimiter='#')\n",
    "pretty_print(['abc', 'def', 'ghi'], side='*', delimiter='#')\n",
    "должен выводить:\n",
    "\n",
    " ------------------------------ \n",
    "| 1 | 2 | 10 | 23 | 123 | 3000 |\n",
    " ------------------------------ \n",
    " ------------------------- \n",
    "| abc | def | ghi | 12345 |\n",
    " ------------------------- \n",
    " ***************** \n",
    "| abc | def | ghi |\n",
    " ***************** \n",
    " ----------------- \n",
    "# abc # def # ghi #\n",
    " ----------------- \n",
    " ***************** \n",
    "# abc # def # ghi #\n",
    " ***************** \n",
    "Примечание 2. Вызывать функцию pretty_print() не нужно, требуется только реализовать.\n",
    "\n",
    "Примечание 3. Считайте, что side и delimiter состоят всегда из одного символа."
   ],
   "metadata": {
    "collapsed": false
   },
   "id": "335471416ee61ce4"
  },
  {
   "cell_type": "code",
   "execution_count": null,
   "outputs": [],
   "source": [
    "def pretty_print(data, side='-', delimiter='|'):\n",
    "    # Создаем строку с содержимым списка, разделяя элементы delimiter\n",
    "    content = f\" {delimiter} \".join(str(item) for item in data)\n",
    "    \n",
    "    # Длина строки с содержимым + 2 для учета границ\n",
    "    total_length = len(content) + 2  \n",
    "    \n",
    "    # Создаем верхнюю и нижнюю рамки\n",
    "    border = side * total_length  \n",
    "    \n",
    "    # Печатаем рамку и содержимое\n",
    "    print(border)\n",
    "    print(f\"{delimiter} {content} {delimiter}\")\n",
    "    print(border)"
   ],
   "metadata": {
    "collapsed": false
   },
   "id": "63d70798beee0446"
  },
  {
   "cell_type": "code",
   "execution_count": 10,
   "outputs": [
    {
     "name": "stdout",
     "output_type": "stream",
     "text": [
      "4\n"
     ]
    }
   ],
   "source": [
    "func = lambda x: x**2\n",
    "print(func(2))"
   ],
   "metadata": {
    "collapsed": false,
    "ExecuteTime": {
     "end_time": "2024-09-03T05:21:07.773981300Z",
     "start_time": "2024-09-03T05:21:07.766127200Z"
    }
   },
   "id": "e3e1d3b0567b76c1"
  },
  {
   "cell_type": "code",
   "execution_count": 11,
   "outputs": [
    {
     "name": "stdout",
     "output_type": "stream",
     "text": [
      "15.0\n"
     ]
    }
   ],
   "source": [
    "print((lambda x: (x + 3) * 5 / 2)(3))"
   ],
   "metadata": {
    "collapsed": false,
    "ExecuteTime": {
     "end_time": "2024-09-03T05:21:15.887457400Z",
     "start_time": "2024-09-03T05:21:15.880377Z"
    }
   },
   "id": "3522dba7edb22c18"
  },
  {
   "cell_type": "code",
   "execution_count": 12,
   "outputs": [
    {
     "name": "stdout",
     "output_type": "stream",
     "text": [
      "s.t.e.p.i.k\n"
     ]
    }
   ],
   "source": [
    "data = [['p', 'y', 't', 'h', 'o', 'n'], ['s', 't', 'e', 'p', 'i', 'k']]\n",
    "result = list(map(lambda x: '.'.join(x), data))\n",
    "print(result[1])"
   ],
   "metadata": {
    "collapsed": false,
    "ExecuteTime": {
     "end_time": "2024-09-03T05:22:27.909927900Z",
     "start_time": "2024-09-03T05:22:27.862615600Z"
    }
   },
   "id": "815295179feae0e5"
  },
  {
   "cell_type": "code",
   "execution_count": 13,
   "outputs": [
    {
     "name": "stdout",
     "output_type": "stream",
     "text": [
      "['a', 'b']\n"
     ]
    }
   ],
   "source": [
    "result = list(filter(str.isalpha, ['a', '1', 'b', '2']))\n",
    "\n",
    "print(result)"
   ],
   "metadata": {
    "collapsed": false,
    "ExecuteTime": {
     "end_time": "2024-09-03T05:23:02.804646800Z",
     "start_time": "2024-09-03T05:23:02.795672200Z"
    }
   },
   "id": "c9205a7efa43a340"
  },
  {
   "cell_type": "code",
   "execution_count": 14,
   "outputs": [
    {
     "name": "stdout",
     "output_type": "stream",
     "text": [
      "['a', '1', 'b', '2']\n"
     ]
    }
   ],
   "source": [
    "result = list(filter(str.swapcase, ['a', '1', '', 'b', '2']))\n",
    "\n",
    "print(result)"
   ],
   "metadata": {
    "collapsed": false,
    "ExecuteTime": {
     "end_time": "2024-09-03T05:23:14.285824100Z",
     "start_time": "2024-09-03T05:23:14.276844300Z"
    }
   },
   "id": "9ed256bb49f5c77b"
  },
  {
   "cell_type": "code",
   "execution_count": 15,
   "outputs": [
    {
     "name": "stdout",
     "output_type": "stream",
     "text": [
      "5\n"
     ]
    }
   ],
   "source": [
    "files = ['duwwouy440.py', 'crocst0sse.cs', 'j9t7ga2s6x.java', 'jk4nnes4tp.py', '2spc9uqzhu.doc', \n",
    "         'qi0ujxe0c7.png', 'z5x7l1j1d8.jpg', 'i5wtdxh366.geo', 'h53s2m2p73.py', 'ojty11f02d.sx', \n",
    "         'jyjuwlvwb3.st', 'gv4940lf8m.txt', 'op38fy9m9x.docx', 'o02ltr8vbp.xlsx', 'la97gc4js4.html', \n",
    "         'lcihrp8c6l.py', 'z66y7dgfo1.py', 'ckoks0849e.csv']\n",
    "\n",
    "result = list(filter(lambda s: s.endswith('.py'), files))\n",
    "\n",
    "print(len(result))"
   ],
   "metadata": {
    "collapsed": false,
    "ExecuteTime": {
     "end_time": "2024-09-03T05:23:33.072500100Z",
     "start_time": "2024-09-03T05:23:33.060176700Z"
    }
   },
   "id": "36529370953a3e9e"
  },
  {
   "cell_type": "code",
   "execution_count": 16,
   "outputs": [
    {
     "name": "stdout",
     "output_type": "stream",
     "text": [
      "[1, 7, 'beegeek']\n"
     ]
    }
   ],
   "source": [
    "print(list(filter(None, ['', 1, 7, 'beegeek', None, False, 0])))"
   ],
   "metadata": {
    "collapsed": false,
    "ExecuteTime": {
     "end_time": "2024-09-03T05:23:41.977785700Z",
     "start_time": "2024-09-03T05:23:41.966870900Z"
    }
   },
   "id": "919991425d298820"
  },
  {
   "cell_type": "code",
   "execution_count": 17,
   "outputs": [
    {
     "name": "stdout",
     "output_type": "stream",
     "text": [
      "6\n"
     ]
    }
   ],
   "source": [
    "from functools import reduce\n",
    "\n",
    "numbers = [1, 2, 3]\n",
    "result = reduce(lambda x, y: x + y, numbers)\n",
    "print(result)"
   ],
   "metadata": {
    "collapsed": false,
    "ExecuteTime": {
     "end_time": "2024-09-03T05:23:52.558102300Z",
     "start_time": "2024-09-03T05:23:52.549666400Z"
    }
   },
   "id": "27276660967663f5"
  },
  {
   "cell_type": "code",
   "execution_count": 18,
   "outputs": [
    {
     "name": "stdout",
     "output_type": "stream",
     "text": [
      "60\n"
     ]
    }
   ],
   "source": [
    "from functools import reduce\n",
    "\n",
    "numbers = [1, 2, 3]\n",
    "result = reduce(lambda a, b: a * b, numbers, 10)\n",
    "print(result)"
   ],
   "metadata": {
    "collapsed": false,
    "ExecuteTime": {
     "end_time": "2024-09-03T05:24:01.815802800Z",
     "start_time": "2024-09-03T05:24:01.806302500Z"
    }
   },
   "id": "7545624804b91bd2"
  },
  {
   "cell_type": "code",
   "execution_count": 19,
   "outputs": [
    {
     "name": "stdout",
     "output_type": "stream",
     "text": [
      "iq-option\n"
     ]
    }
   ],
   "source": [
    "from functools import reduce\n",
    "\n",
    "words = ['beegeek', 'stepik', 'python', 'iq-option']\n",
    "result = reduce(lambda a, b: a if len(a) > len(b) else b, words)\n",
    "print(result)"
   ],
   "metadata": {
    "collapsed": false,
    "ExecuteTime": {
     "end_time": "2024-09-03T05:24:11.927073700Z",
     "start_time": "2024-09-03T05:24:11.918580400Z"
    }
   },
   "id": "a937b91e49f53fff"
  },
  {
   "cell_type": "code",
   "execution_count": 20,
   "outputs": [
    {
     "name": "stdout",
     "output_type": "stream",
     "text": [
      "+12345\n"
     ]
    }
   ],
   "source": [
    "from functools import reduce\n",
    "\n",
    "result = reduce(lambda s, x: s + str(x), [1, 2, 3, 4, 5], '+')\n",
    "print(result)"
   ],
   "metadata": {
    "collapsed": false,
    "ExecuteTime": {
     "end_time": "2024-09-03T05:24:24.400832700Z",
     "start_time": "2024-09-03T05:24:24.390241100Z"
    }
   },
   "id": "bf634c473eb3451e"
  },
  {
   "cell_type": "code",
   "execution_count": 21,
   "outputs": [
    {
     "name": "stdout",
     "output_type": "stream",
     "text": [
      "[1, 2, 3, 4, 5]\n"
     ]
    }
   ],
   "source": [
    "from functools import reduce\n",
    "import operator\n",
    "\n",
    "def flatten(data):\n",
    "    return reduce(operator.concat, data, [])\n",
    "\n",
    "result = flatten([[1, 2], [3, 4], [], [5]])\n",
    "\n",
    "print(result)"
   ],
   "metadata": {
    "collapsed": false,
    "ExecuteTime": {
     "end_time": "2024-09-03T05:24:34.320973100Z",
     "start_time": "2024-09-03T05:24:34.309417Z"
    }
   },
   "id": "9f7e1d5f95d6bbc8"
  },
  {
   "cell_type": "raw",
   "source": [
    "Напишите функцию concat(), принимающую переменное количество аргументов и объединяющую их в одну строку через разделитель (sep). Если разделитель не задан, им служит пробел.\n",
    "\n",
    "Примечание 1. Обратите внимание, что функция concat() должна принимать не список, а именно переменное количество аргументов.\n",
    "\n",
    "Примечание 2. Приведенный ниже код, при условии, что функция concat() написана правильно\n",
    "\n",
    "print(concat('hello', 'python', 'and', 'stepik'))\n",
    "print(concat('hello', 'python', 'and', 'stepik', sep='*'))\n",
    "print(concat('hello', 'python', sep='()()()'))\n",
    "print(concat('hello', sep='()'))\n",
    "print(concat(1, 2, 3, 4, 5, 6, 7, 8, 9, sep='$$'))\n",
    "должен выводить:\n",
    "\n",
    "hello python and stepik\n",
    "hello*python*and*stepik\n",
    "hello()()()python\n",
    "hello\n",
    "1$$2$$3$$4$$5$$6$$7$$8$$9\n",
    "Примечание 3. Вызывать функцию concat() не нужно, требуется только реализовать."
   ],
   "metadata": {
    "collapsed": false
   },
   "id": "9dcbec1f886a83e5"
  },
  {
   "cell_type": "raw",
   "source": [
    "Перепишите функцию product_of_odds() в функциональном стиле с использованием встроенных функций filter() и reduce().\n",
    "\n",
    "def product_of_odds(data):   # data - список целых чисел\n",
    "    result = 1\n",
    "    for i in data:\n",
    "        if i % 2 == 1:\n",
    "            result *= i\n",
    "    return result\n",
    "Примечание 1. Тестирующая система никак не \"покарает\" вас за неиспользование встроенных функций filter() и reduce(), однако лучше сделать это задание честно 😃.\n",
    "\n",
    "Примечание 2. Вызывать функцию product_of_odds() не нужно, требуется только реализовать ее в функциональном стиле."
   ],
   "metadata": {
    "collapsed": false
   },
   "id": "eb9bb3edae1bbc2f"
  },
  {
   "cell_type": "code",
   "execution_count": 22,
   "outputs": [],
   "source": [
    "from functools import reduce\n",
    "\n",
    "def product_of_odds(data):  # data - список целых чисел\n",
    "    return reduce(lambda x, y: x * y, filter(lambda x: x % 2 == 1, data), 1)"
   ],
   "metadata": {
    "collapsed": false,
    "ExecuteTime": {
     "end_time": "2024-09-03T05:26:03.355701900Z",
     "start_time": "2024-09-03T05:26:03.345173600Z"
    }
   },
   "id": "353168e21bd3c306"
  },
  {
   "cell_type": "raw",
   "source": [
    "Дан список слов words. Допишите код после оператора распаковки (*), который оборачивает в двойные кавычки все элементы списка words, а затем печатает результат на одной строке через пробел.\n",
    "\n",
    "Примечание. Вспомните про встроенную функцию map() и анонимные функции lambda."
   ],
   "metadata": {
    "collapsed": false
   },
   "id": "6e0ed4f9b3c6ab12"
  },
  {
   "cell_type": "code",
   "execution_count": null,
   "outputs": [],
   "source": [
    "words = 'the world is mine take a look what you have started'.split()\n",
    "\n",
    "# Оборачиваем в двойные кавычки и печатаем результат через пробел\n",
    "print(*map(lambda word: f'\"{word}\"', words))"
   ],
   "metadata": {
    "collapsed": false
   },
   "id": "582475e0ea393f15"
  },
  {
   "cell_type": "raw",
   "source": [
    "Дан список целых чисел numbers. Допишите код после оператора распаковки (*), для удаления из списка всех чисел-палиндромов и печати результата на одной строке через пробел.\n",
    "\n",
    "Примечание. Вспомните про встроенную функцию filter() и анонимные функции lambda."
   ],
   "metadata": {
    "collapsed": false
   },
   "id": "e6cc2794a8a7e451"
  },
  {
   "cell_type": "code",
   "execution_count": null,
   "outputs": [],
   "source": [
    "numbers = [18, 191, 9009, 5665, 78, 77, 45, 23, 19991, 908, 8976, 6565, 5665, 10, 1000, 908, 909, 232, 45654, 786]\n",
    "# Определяем, что число является палиндромом\n",
    "is_palindrome = lambda x: str(x) == str(x)[::-1]\n",
    "\n",
    "# Отфильтровываем и печатаем результат\n",
    "print(*filter(lambda x: not is_palindrome(x), numbers))"
   ],
   "metadata": {
    "collapsed": false
   },
   "id": "d47a53545e126f06"
  },
  {
   "cell_type": "raw",
   "source": [
    "Дан список numbers, состоящий из кортежей. Допишите пропущенную часть программы, чтобы список sorted_numbers был упорядочен по убыванию среднего арифметического элементов кортежей списка numbers.\n",
    "\n",
    "Примечание. Вспомните про анонимные функции lambda."
   ],
   "metadata": {
    "collapsed": false
   },
   "id": "e2d8128222fb6568"
  },
  {
   "cell_type": "code",
   "execution_count": null,
   "outputs": [],
   "source": [
    "numbers = [(10, -2, 3, 4), (-13, 56), (1, 9, 2), (-1, -9, -45, 32), (-1, 5, 1), (17, 0, 1), (0, 1), (3,), (39, 12), (11, -23), (10, -100, 21, 32), (3, -8), (1, 1)]\n",
    "\n",
    "sorted_numbers = sorted(numbers, key=lambda tup: sum(tup) / len(tup), reverse=True)\n",
    "\n",
    "print(sorted_numbers)"
   ],
   "metadata": {
    "collapsed": false
   },
   "id": "b78620dced5ba35b"
  },
  {
   "cell_type": "raw",
   "source": [
    "Напишите функцию call(), которая принимает произвольную функцию и аргументы для неё и делает вызов переданной функции, возвращая ее значение.\n",
    "\n",
    "Примечание 1. Приведенный ниже код, при условии, что функция call() написана правильно\n",
    "\n",
    "def mul7(x):\n",
    "    return x * 7\n",
    "\n",
    "\n",
    "def add2(x, y):\n",
    "    return x + y\n",
    "\n",
    "\n",
    "def add3(x, y, z):\n",
    "    return x + y + z\n",
    "\n",
    "\n",
    "print(call(mul7, 10))\n",
    "print(call(add2, 2, 7))\n",
    "print(call(add3, 10, 30, 40))\n",
    "print(call(bool, 0))\n",
    "должен выводить:\n",
    "\n",
    "70\n",
    "9\n",
    "80\n",
    "False\n",
    "Примечание 2. Вызывать функцию call() не нужно, требуется только реализовать ее."
   ],
   "metadata": {
    "collapsed": false
   },
   "id": "ba8b94bbe7a04e49"
  },
  {
   "cell_type": "code",
   "execution_count": 23,
   "outputs": [],
   "source": [
    "def call(func, *args):\n",
    "    return func(*args)\n",
    "\n",
    "\n",
    "def mul7(x):\n",
    "    return x * 7\n",
    "\n",
    "def add2(x, y):\n",
    "    return x + y\n",
    "\n",
    "def add3(x, y, z):\n",
    "    return x + y + z"
   ],
   "metadata": {
    "collapsed": false,
    "ExecuteTime": {
     "end_time": "2024-09-03T05:29:12.541704700Z",
     "start_time": "2024-09-03T05:29:12.532047400Z"
    }
   },
   "id": "4852fc816885a69f"
  },
  {
   "cell_type": "raw",
   "source": [
    "Напишите функцию compose(), которая принимает на вход две других одноаргументных функции f и g и возвращает новую функцию. Эта новая функция также должна принимать один аргумент x и применять к нему исходные функции в нужном порядке: для функций f и g порядок применения должен выглядеть, как f(g(x)).\n",
    "\n",
    "Примечание 1. Приведенный ниже код, при условии, что функция compose() написана правильно\n",
    "\n",
    "def add3(x):\n",
    "    return x + 3\n",
    "\n",
    "\n",
    "def mul7(x):\n",
    "    return x * 7\n",
    "\n",
    "\n",
    "print(compose(mul7, add3)(1))\n",
    "print(compose(add3, mul7)(2))\n",
    "print(compose(mul7, str)(3))\n",
    "print(compose(str, mul7)(5))\n",
    "должен выводить:\n",
    "\n",
    "28\n",
    "17\n",
    "3333333\n",
    "35\n",
    "Примечание 2. Вызывать функцию compose() не нужно, требуется только реализовать ее.\n",
    "\n",
    "Примечание 3. С точки зрения математики, композиция функций f и g — это новая функция h(x) = f(g(x)), при этом порядок применения функций f и g важен! "
   ],
   "metadata": {
    "collapsed": false
   },
   "id": "3316034ea70f772c"
  },
  {
   "cell_type": "code",
   "execution_count": null,
   "outputs": [],
   "source": [
    "def compose(f, g):\n",
    "    return lambda x: f(g(x))\n",
    "\n",
    "\n",
    "def add3(x):\n",
    "    return x + 3\n",
    "\n",
    "def mul7(x):\n",
    "    return x * 7"
   ],
   "metadata": {
    "collapsed": false
   },
   "id": "89292688b28ebb50"
  },
  {
   "cell_type": "raw",
   "source": [
    "Напишите функцию arithmetic_operation(), которая принимает символ одной из четырех арифметических операций (+, -, *, /) и возвращает функцию двух аргументов для соответствующей операции.\n",
    "\n",
    "Примечание 1. Приведенный ниже код, при условии, что функция arithmetic_operation() написана правильно\n",
    "\n",
    "add = arithmetic_operation('+')\n",
    "div = arithmetic_operation('/')\n",
    "print(add(10, 20))\n",
    "print(div(20, 5))\n",
    "должен выводить:\n",
    "\n",
    "30\n",
    "4.0\n",
    "Примечание 2. Вызывать функцию arithmetic_operation() не нужно, требуется только реализовать ее."
   ],
   "metadata": {
    "collapsed": false
   },
   "id": "971ace97567845a5"
  },
  {
   "cell_type": "code",
   "execution_count": null,
   "outputs": [],
   "source": [
    "def arithmetic_operation(operation):\n",
    "    if operation == '+':\n",
    "        return lambda x, y: x + y\n",
    "    elif operation == '-':\n",
    "        return lambda x, y: x - y\n",
    "    elif operation == '*':\n",
    "        return lambda x, y: x * y\n",
    "    elif operation == '/':\n",
    "        return lambda x, y: x / y\n",
    "    else:\n",
    "        raise ValueError(\"Неверная операция\")\n",
    "    \n",
    "    \n",
    "add = arithmetic_operation('+')\n",
    "div = arithmetic_operation('/')"
   ],
   "metadata": {
    "collapsed": false
   },
   "id": "24da2e648c3ce102"
  },
  {
   "cell_type": "raw",
   "source": [
    "Дана строка из разделенных пробелами слов в разных регистрах. Напишите программу, которая отсортирует слова независимо от регистра, а затем выведет их. Отсортированные слова должны выводиться на печать в исходном регистре, в каком переданы программе на вход.\n",
    "\n",
    "Формат входных данных\n",
    "На вход программе подается строка из разделенных пробелами слов в разных регистрах.\n",
    "\n",
    "Формат выходных данных\n",
    "Программа должна вывести строку разделенных пробелом отсортированных слов в прежних регистрах.\n",
    "\n",
    "Примечание 1. Решите задачу в одну строку кода 😎.\n",
    "\n",
    "Примечание 2. Встроенная функция sorted() сортирует строки в лексикографическом порядке, но учитывает регистр буквы. Любая буква в верхнем регистре считается идущей раньше, чем буква в нижнем регистре.\n",
    "\n",
    "Тестовые данные 🟢\n",
    "Sample Input:\n",
    "\n",
    "cate Frog cat FROGs bee CATERS mouse cATwalk dolphin mOus Cats CatAlo\n",
    "Sample Output:\n",
    "\n",
    "bee cat CatAlo cate CATERS Cats cATwalk dolphin Frog FROGs mOus mouse"
   ],
   "metadata": {
    "collapsed": false
   },
   "id": "33018a48b1c86231"
  },
  {
   "cell_type": "code",
   "execution_count": null,
   "outputs": [],
   "source": [
    "print(' '.join(sorted(input().split(), key=str.lower)))"
   ],
   "metadata": {
    "collapsed": false
   },
   "id": "2ccf345325d9e5e"
  },
  {
   "cell_type": "raw",
   "source": [
    "Гематрией слова называется сумма числовых значений входящих в него букв.\n",
    "\n",
    "Для вычисления гематрии слова в этой задаче:\n",
    "\n",
    "переведём слово в верхний регистр;\n",
    "числовое значение буквы вычислим как код(буквы) - код(буквы A).\n",
    "На вход программе подается натуральное число n, а затем n строк английских слов в разных регистрах.\n",
    "\n",
    "Напишите программу, которая выводит слова в начальном регистре (каждое на отдельной строке) в порядке возрастания их гематрии. Если гематрия слов совпадает, они выводятся в алфавитном (лексикографическом) порядке.\n",
    "\n",
    "Формат входных данных\n",
    "На вход программе подается натуральное число n, а затем n строк английских слов в разных регистрах.\n",
    "\n",
    "Формат выходных данных\n",
    "Программа должна отсортировать слова в соответствии с условием задачи.\n",
    "\n",
    "Примечание 1. Для получения кода символа воспользуйтесь встроенной функцией ord().\n",
    "\n",
    "Примечание 2. Слова во входных данных могут повторяться.\n",
    "\n",
    "Примечание 3. Пусть требуется вычислить гематрию слова BaSis. Переводим его в верхний регистр BASIS. Для каждого символа в слове находим его код с помощью встроенной функции ord():\n",
    "\n",
    "ord('B') = 66\n",
    "ord('A') = 65\n",
    "ord('S') = 83\n",
    "ord('I') = 73\n",
    "ord('S') = 83\n",
    "В соответствии с условием задачи вычисляем числовое значение буквы как код(буквы) - код(буквы A). Вычитаем из кода каждой буквы значение ord('A') = 65:\n",
    "\n",
    "ord('B') - ord('A') = 66 - 65 = 1\n",
    "ord('A') - ord('A') = 65 - 65 = 0\n",
    "ord('S') - ord('A') = 83 - 65 = 18\n",
    "ord('I') - ord('A') = 73 - 65 = 8\n",
    "ord('S') - ord('A') = 83 - 65 = 18\n",
    "Гематрия слова BaSis равна \n",
    "\n",
    "1+0+18+8+18=45. \n",
    "\n",
    "Тестовые данные 🟢\n",
    "Sample Input 1:\n",
    "\n",
    "4\n",
    "basis\n",
    "after\n",
    "chief\n",
    "agenda\n",
    "Sample Output 1:\n",
    "\n",
    "agenda\n",
    "chief\n",
    "after\n",
    "basis"
   ],
   "metadata": {
    "collapsed": false
   },
   "id": "76e2281219a3d64b"
  },
  {
   "cell_type": "code",
   "execution_count": null,
   "outputs": [],
   "source": [
    "# Читаем входные данные\n",
    "n = int(input())\n",
    "words = [input().strip() for _ in range(n)]\n",
    "\n",
    "# Функция для вычисления гематрии слова\n",
    "def gematria(word):\n",
    "    return sum(ord(char.upper()) - ord('A') for char in word)\n",
    "\n",
    "# Сортируем слова: сначала по гематрии, затем по алфавиту\n",
    "sorted_words = sorted(words, key=lambda word: (gematria(word), word))\n",
    "\n",
    "# Выводим слова по одному на строку\n",
    "for word in sorted_words:\n",
    "    print(word)"
   ],
   "metadata": {
    "collapsed": false
   },
   "id": "3b2fa348fcd4da2e"
  },
  {
   "cell_type": "raw",
   "source": [
    "IP-адрес – уникальный числовой идентификатор устройства в компьютерной сети, работающий по протоколу TCP/IP.\n",
    "\n",
    "В 4-й версии IP-адрес представляет собой 32-битное число. Адрес записывается в виде четырёх десятичных чисел (октетов) со значением от 0 до 255, разделённых точками, например, \n",
    "192.168.1.2\n",
    "192.168.1.2.\n",
    "\n",
    "Напишите программу, которая считывает IP-адреса и выводит их в порядке возрастания в соответствии с десятичным представлением.\n",
    "\n",
    "Формат входных данных\n",
    "На вход программе подается число n (n≥1) – количество IP-адресов. Затем n строк с корректными IP-адресами.\n",
    "\n",
    "Формат выходных данных\n",
    "Программа должна вывести IP-адреса в порядке возрастания в соответствии с десятичным представлением.\n",
    "\n",
    "Примечание 1. Чтобы перевести IP-адрес 192.168.1.2 в десятичное число мы используем формулу:\n",
    "192⋅256 3 +168⋅256 2 +1⋅256 1 +2⋅256 0 =3232235778\n",
    "Примечание 2. Используйте необязательный аргумент key.\n",
    "\n",
    "Тестовые данные 🟢\n",
    "Sample Input:\n",
    "\n",
    "9\n",
    "128.199.44.24\n",
    "128.199.201.245\n",
    "143.198.168.95\n",
    "172.67.181.62\n",
    "172.67.222.111\n",
    "172.67.10.90\n",
    "45.8.106.59\n",
    "203.13.32.156\n",
    "172.67.181.194\n",
    "Sample Output:\n",
    "\n",
    "45.8.106.59\n",
    "128.199.44.24\n",
    "128.199.201.245\n",
    "143.198.168.95\n",
    "172.67.10.90\n",
    "172.67.181.62\n",
    "172.67.181.194\n",
    "172.67.222.111\n",
    "203.13.32.156"
   ],
   "metadata": {
    "collapsed": false
   },
   "id": "a12261e27f3cc5db"
  },
  {
   "cell_type": "code",
   "execution_count": null,
   "outputs": [],
   "source": [
    "# Читаем количество IP-адресов\n",
    "n = int(input())\n",
    "# Читаем IP-адреса в список\n",
    "ip_addresses = [input().strip() for _ in range(n)]\n",
    "\n",
    "# Функция для преобразования IP-адреса в десятичное число\n",
    "def ip_to_decimal(ip):\n",
    "    parts = map(int, ip.split('.'))\n",
    "    return sum(part * (256 ** (3 - i)) for i, part in enumerate(parts))\n",
    "\n",
    "# Сортируем список IP-адресов по десятичному представлению\n",
    "sorted_ips = sorted(ip_addresses, key=ip_to_decimal)\n",
    "\n",
    "# Выводим отсортированные IP-адреса\n",
    "for ip in sorted_ips:\n",
    "    print(ip)"
   ],
   "metadata": {
    "collapsed": false
   },
   "id": "3c2ed2bf4ac72c24"
  }
 ],
 "metadata": {
  "kernelspec": {
   "display_name": "Python 3",
   "language": "python",
   "name": "python3"
  },
  "language_info": {
   "codemirror_mode": {
    "name": "ipython",
    "version": 2
   },
   "file_extension": ".py",
   "mimetype": "text/x-python",
   "name": "python",
   "nbconvert_exporter": "python",
   "pygments_lexer": "ipython2",
   "version": "2.7.6"
  }
 },
 "nbformat": 4,
 "nbformat_minor": 5
}
