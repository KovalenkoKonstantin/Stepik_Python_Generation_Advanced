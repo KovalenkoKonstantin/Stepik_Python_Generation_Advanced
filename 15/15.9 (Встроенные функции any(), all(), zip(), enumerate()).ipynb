{
 "cells": [
  {
   "cell_type": "markdown",
   "source": [
    "Функции all() и any()"
   ],
   "metadata": {
    "collapsed": false
   },
   "id": "d9037658187e252b"
  },
  {
   "cell_type": "raw",
   "source": [
    "При работе с коллекциями часто приходится определять, выполняется ли некоторое условие одновременно для всех элементов последовательности или хотя бы для одного. Для этого существуют две встроенные функции all() и any()."
   ],
   "metadata": {
    "collapsed": false
   },
   "id": "65596d71862c794c"
  },
  {
   "cell_type": "markdown",
   "source": [
    "Функция all()"
   ],
   "metadata": {
    "collapsed": false
   },
   "id": "29ec421a9829bee4"
  },
  {
   "cell_type": "raw",
   "source": [
    "Встроенная функция all() возвращает значение True, если все элементы переданной ей последовательности (итерируемого объекта) истинны (приводятся к значению True), или False в противном случае.\n",
    "\n",
    "Сигнатура функции следующая: all(iterable). В качестве iterable может выступать любой итерируемый объект:\n",
    "\n",
    "список;\n",
    "кортеж;\n",
    "строка;\n",
    "множество;\n",
    "словарь и т.д."
   ],
   "metadata": {
    "collapsed": false
   },
   "id": "82600272317a7dda"
  },
  {
   "cell_type": "code",
   "execution_count": 1,
   "outputs": [
    {
     "name": "stdout",
     "output_type": "stream",
     "text": [
      "True\n",
      "False\n"
     ]
    }
   ],
   "source": [
    "print(all([True, True, True]))  #  возвращает True, так как все значения списка равны True\n",
    "print(all([True, True, False]))  #  возвращает False, так как не все значения списка равны True"
   ],
   "metadata": {
    "collapsed": false,
    "ExecuteTime": {
     "end_time": "2024-08-30T09:05:16.790563Z",
     "start_time": "2024-08-30T09:05:16.784173500Z"
    }
   },
   "id": "43ab69a3061b1f8d"
  },
  {
   "cell_type": "raw",
   "source": [
    "Напомним, что в Python все следующие значения приводятся к значению False:\n",
    "\n",
    "константы None и False;\n",
    "нули всех числовых типов данных: 0, 0.0, 0j, Decimal(0), Fraction(0, 1);\n",
    "пустые коллекции: '', (), [], {}, set(), range(0)."
   ],
   "metadata": {
    "collapsed": false
   },
   "id": "bc765a265138ae3b"
  },
  {
   "cell_type": "code",
   "execution_count": 2,
   "outputs": [
    {
     "name": "stdout",
     "output_type": "stream",
     "text": [
      "True\n",
      "False\n",
      "False\n",
      "False\n",
      "False\n"
     ]
    }
   ],
   "source": [
    "print(all([1, 2, 3]))\n",
    "print(all([1, 2, 3, 0, 5]))\n",
    "print(all([True, 0, 1]))\n",
    "print(all(('', 'red', 'green')))\n",
    "print(all({0j, 3 + 4j}))"
   ],
   "metadata": {
    "collapsed": false,
    "ExecuteTime": {
     "end_time": "2024-08-30T09:06:17.197741200Z",
     "start_time": "2024-08-30T09:06:17.190089Z"
    }
   },
   "id": "f58fe3b8827593e6"
  },
  {
   "cell_type": "raw",
   "source": [
    "При работе со словарями функция all() проверяет на соответствие параметрам True ключи словаря, а не их значения."
   ],
   "metadata": {
    "collapsed": false
   },
   "id": "289dfb1ad3d090a2"
  },
  {
   "cell_type": "code",
   "execution_count": 3,
   "outputs": [
    {
     "name": "stdout",
     "output_type": "stream",
     "text": [
      "False\n",
      "True\n"
     ]
    }
   ],
   "source": [
    "dict1 = {0: 'Zero', 1: 'One', 2: 'Two'}\n",
    "dict2 = {'Zero': 0, 'One': 1, 'Two': 2}\n",
    "\n",
    "print(all(dict1))\n",
    "print(all(dict2))"
   ],
   "metadata": {
    "collapsed": false,
    "ExecuteTime": {
     "end_time": "2024-08-30T09:08:23.544110800Z",
     "start_time": "2024-08-30T09:08:23.535730300Z"
    }
   },
   "id": "d489514d38c5813a"
  },
  {
   "cell_type": "raw",
   "source": [
    "Обратите внимание: если переданный итерируемый объект пустой, то функция all() возвращает значение True."
   ],
   "metadata": {
    "collapsed": false
   },
   "id": "b1c2fe3599eac9fa"
  },
  {
   "cell_type": "code",
   "execution_count": 4,
   "outputs": [
    {
     "name": "stdout",
     "output_type": "stream",
     "text": [
      "True\n",
      "True\n",
      "True\n",
      "False\n"
     ]
    }
   ],
   "source": [
    "print(all([]))  #  передаем пустой список\n",
    "print(all(()))  #  передаем пустой кортеж\n",
    "print(all(''))  #  передаем пустую строку\n",
    "print(all([[], []]))  #  передаем список, содержащий пустые списки"
   ],
   "metadata": {
    "collapsed": false,
    "ExecuteTime": {
     "end_time": "2024-08-30T09:08:56.606072500Z",
     "start_time": "2024-08-30T09:08:56.597382100Z"
    }
   },
   "id": "57792daa58e0f040"
  },
  {
   "cell_type": "markdown",
   "source": [
    "Функция any()"
   ],
   "metadata": {
    "collapsed": false
   },
   "id": "469a17caf250b0a1"
  },
  {
   "cell_type": "raw",
   "source": [
    "Встроенная функция any() возвращает значение True, если хотя бы один элемент переданной ей последовательности (итерируемого объекта) является истинным (приводится к значению True), или False в противном случае.\n",
    "\n",
    "Сигнатура функции следующая: any(iterable). В качестве iterable может выступать любой итерируемый объект:\n",
    "\n",
    "список;\n",
    "кортеж;\n",
    "строка;\n",
    "множество;\n",
    "словарь и т.д."
   ],
   "metadata": {
    "collapsed": false
   },
   "id": "ce0892500154a7e4"
  },
  {
   "cell_type": "code",
   "execution_count": 5,
   "outputs": [
    {
     "name": "stdout",
     "output_type": "stream",
     "text": [
      "True\n",
      "False\n"
     ]
    }
   ],
   "source": [
    "print(any([False, True, False]))  #  возвращает True, так как есть хотя бы один элемент, равный True\n",
    "print(any([False, False, False]))  #  возвращает False, так как нет элементов, равных True"
   ],
   "metadata": {
    "collapsed": false,
    "ExecuteTime": {
     "end_time": "2024-08-30T09:10:25.063938800Z",
     "start_time": "2024-08-30T09:10:25.055034800Z"
    }
   },
   "id": "66672a17d4b9a850"
  },
  {
   "cell_type": "code",
   "execution_count": 6,
   "outputs": [
    {
     "name": "stdout",
     "output_type": "stream",
     "text": [
      "False\n",
      "True\n",
      "True\n",
      "True\n",
      "True\n"
     ]
    }
   ],
   "source": [
    "print(any([0, 0, 0]))\n",
    "print(any([0, 1, 0]))\n",
    "print(any([False, 0, 1]))\n",
    "print(any(['', [], 'green']))\n",
    "print(any({0j, 3 + 4j, 0.0}))"
   ],
   "metadata": {
    "collapsed": false,
    "ExecuteTime": {
     "end_time": "2024-08-30T09:10:41.952127300Z",
     "start_time": "2024-08-30T09:10:41.943905600Z"
    }
   },
   "id": "311003ac9b3becf5"
  },
  {
   "cell_type": "raw",
   "source": [
    "При работе со словарями функция any() проверяет на соответствие True ключи словаря, а не их значения."
   ],
   "metadata": {
    "collapsed": false
   },
   "id": "5961dcba9e3ba797"
  },
  {
   "cell_type": "code",
   "execution_count": 7,
   "outputs": [
    {
     "name": "stdout",
     "output_type": "stream",
     "text": [
      "False\n",
      "True\n"
     ]
    }
   ],
   "source": [
    "dict1 = {0: 'Zero'}\n",
    "dict2 = {'Zero': 0, 'One': 1}\n",
    "\n",
    "print(any(dict1))\n",
    "print(any(dict2))"
   ],
   "metadata": {
    "collapsed": false,
    "ExecuteTime": {
     "end_time": "2024-08-30T09:11:22.668166800Z",
     "start_time": "2024-08-30T09:11:22.658931400Z"
    }
   },
   "id": "4c5ff7b33fbba7fe"
  },
  {
   "cell_type": "raw",
   "source": [
    "Обратите внимание: если переданный объект пуст, то функция any() возвращает значение False."
   ],
   "metadata": {
    "collapsed": false
   },
   "id": "1ba0df7eedef6554"
  },
  {
   "cell_type": "code",
   "execution_count": 8,
   "outputs": [
    {
     "name": "stdout",
     "output_type": "stream",
     "text": [
      "False\n",
      "False\n",
      "False\n",
      "False\n"
     ]
    }
   ],
   "source": [
    "print(any([]))  #  передаем пустой список\n",
    "print(any(()))  #  передаем пустой кортеж\n",
    "print(any(''))  #  передаем пустую строку\n",
    "print(any([[], []]))  #  передаем список, содержащий пустые списки"
   ],
   "metadata": {
    "collapsed": false,
    "ExecuteTime": {
     "end_time": "2024-08-30T09:12:10.771562Z",
     "start_time": "2024-08-30T09:12:10.763026900Z"
    }
   },
   "id": "59ca079a5c5570f5"
  },
  {
   "cell_type": "markdown",
   "source": [
    "Функции all() и any() в связке с функцией map()"
   ],
   "metadata": {
    "collapsed": false
   },
   "id": "f7b664bb5eb33962"
  },
  {
   "cell_type": "raw",
   "source": [
    "Функции all() и any() могут быть полезны в комбинации с функцией map(), которая может преобразовывать элементы последовательности (итерируемого объекта) к значению True/False в соответствии с неким условием."
   ],
   "metadata": {
    "collapsed": false
   },
   "id": "d45ee00298cafaf7"
  },
  {
   "cell_type": "code",
   "execution_count": 9,
   "outputs": [
    {
     "name": "stdout",
     "output_type": "stream",
     "text": [
      "Хотя бы одно число меньше или равно 10\n"
     ]
    }
   ],
   "source": [
    "numbers = [17, 90, 78, 56, 231, 45, 5, 89, 91, 11, 19]\n",
    "\n",
    "result = all(map(lambda x: True if x > 10 else False, numbers))\n",
    "\n",
    "if result:\n",
    "    print('Все числа больше 10')\n",
    "else:\n",
    "    print('Хотя бы одно число меньше или равно 10')"
   ],
   "metadata": {
    "collapsed": false,
    "ExecuteTime": {
     "end_time": "2024-08-30T09:13:09.442585300Z",
     "start_time": "2024-08-30T09:13:09.431202600Z"
    }
   },
   "id": "d194b530ba60247b"
  },
  {
   "cell_type": "code",
   "execution_count": 10,
   "outputs": [
    {
     "name": "stdout",
     "output_type": "stream",
     "text": [
      "Хотя бы одно число четное\n"
     ]
    }
   ],
   "source": [
    "numbers = [17, 91, 78, 55, 231, 45, 5, 89, 99, 11, 19]\n",
    "\n",
    "result = any(map(lambda x: x % 2 == 0, numbers))\n",
    "\n",
    "if result:\n",
    "    print('Хотя бы одно число четное')\n",
    "else:\n",
    "    print('Все числа нечетные')"
   ],
   "metadata": {
    "collapsed": false,
    "ExecuteTime": {
     "end_time": "2024-08-30T09:14:56.266736400Z",
     "start_time": "2024-08-30T09:14:56.256937300Z"
    }
   },
   "id": "912dc06c988f7182"
  },
  {
   "cell_type": "markdown",
   "source": [
    "Функция enumerate()"
   ],
   "metadata": {
    "collapsed": false
   },
   "id": "7e7a2ec557effe8a"
  },
  {
   "cell_type": "raw",
   "source": [
    "Встроенная функция enumerate() возвращает кортеж из индекса элемента и самого элемента переданной ей последовательности (итерируемого объекта).\n",
    "\n",
    "Сигнатура функции следующая: enumerate(iterable, start). В качестве iterable может выступать любой итерируемый объект:\n",
    "\n",
    "список;\n",
    "кортеж;\n",
    "строка;\n",
    "множество;\n",
    "словарь и т.д."
   ],
   "metadata": {
    "collapsed": false
   },
   "id": "c8d5a1b375bb5a1a"
  },
  {
   "cell_type": "raw",
   "source": [
    "С помощью необязательного параметра start можно задать начальное значение индекса. По умолчанию значение параметра start = 0, то есть счет начинается с нуля."
   ],
   "metadata": {
    "collapsed": false
   },
   "id": "17b8093f63d16dd1"
  },
  {
   "cell_type": "code",
   "execution_count": 11,
   "outputs": [
    {
     "name": "stdout",
     "output_type": "stream",
     "text": [
      "(0, 'red')\n",
      "(1, 'green')\n",
      "(2, 'blue')\n"
     ]
    }
   ],
   "source": [
    "colors = ['red', 'green', 'blue']\n",
    "\n",
    "for pair in enumerate(colors):\n",
    "    print(pair)"
   ],
   "metadata": {
    "collapsed": false,
    "ExecuteTime": {
     "end_time": "2024-08-30T09:16:49.464084300Z",
     "start_time": "2024-08-30T09:16:49.439700400Z"
    }
   },
   "id": "82c2419d2c52bee5"
  },
  {
   "cell_type": "raw",
   "source": [
    "Если счет нужно начать с отличного от нуля числа, то нужно передать значение аргумента start."
   ],
   "metadata": {
    "collapsed": false
   },
   "id": "e3c98028f86a9972"
  },
  {
   "cell_type": "code",
   "execution_count": 12,
   "outputs": [
    {
     "name": "stdout",
     "output_type": "stream",
     "text": [
      "(100, 'red')\n",
      "(101, 'green')\n",
      "(102, 'blue')\n"
     ]
    }
   ],
   "source": [
    "colors = ['red', 'green', 'blue']\n",
    "\n",
    "for pair in enumerate(colors, 100):\n",
    "    print(pair)"
   ],
   "metadata": {
    "collapsed": false,
    "ExecuteTime": {
     "end_time": "2024-08-30T09:17:17.825591Z",
     "start_time": "2024-08-30T09:17:17.818091800Z"
    }
   },
   "id": "ec28ceb8cacd3892"
  },
  {
   "cell_type": "raw",
   "source": [
    "Обратите внимание, функция enumerate() возвращает не список, а специальный объект, который называется итератором. Такой объект похож на список тем, что его можно перебирать циклом for, то есть итерировать. Итератор можно преобразовать в список с помощью функции list()."
   ],
   "metadata": {
    "collapsed": false
   },
   "id": "514f50162e504247"
  },
  {
   "cell_type": "code",
   "execution_count": 13,
   "outputs": [
    {
     "name": "stdout",
     "output_type": "stream",
     "text": [
      "<enumerate object at 0x000001B0E4594C20>\n",
      "[(0, 'red'), (1, 'green'), (2, 'blue')]\n"
     ]
    }
   ],
   "source": [
    "colors = ['red', 'green', 'blue']\n",
    "\n",
    "pairs = enumerate(colors)\n",
    "\n",
    "print(pairs)\n",
    "print(list(pairs))"
   ],
   "metadata": {
    "collapsed": false,
    "ExecuteTime": {
     "end_time": "2024-08-30T09:17:50.246986400Z",
     "start_time": "2024-08-30T09:17:50.240492Z"
    }
   },
   "id": "b4042fe2007d2914"
  },
  {
   "cell_type": "raw",
   "source": [
    "Мы также можем использовать распаковку кортежей при итерировании с помощью цикла for."
   ],
   "metadata": {
    "collapsed": false
   },
   "id": "bf0f148d2245fff9"
  },
  {
   "cell_type": "code",
   "execution_count": 14,
   "outputs": [
    {
     "name": "stdout",
     "output_type": "stream",
     "text": [
      "0 red\n",
      "1 green\n",
      "2 blue\n"
     ]
    }
   ],
   "source": [
    "colors = ['red', 'green', 'blue']\n",
    "for index, item in enumerate(colors):\n",
    "    print(index, item)"
   ],
   "metadata": {
    "collapsed": false,
    "ExecuteTime": {
     "end_time": "2024-08-30T09:18:27.478925700Z",
     "start_time": "2024-08-30T09:18:27.470419400Z"
    }
   },
   "id": "b2bfbacd3cc9973b"
  },
  {
   "cell_type": "raw",
   "source": [
    "Такой код является альтернативой коду:"
   ],
   "metadata": {
    "collapsed": false
   },
   "id": "efc81a408615f41c"
  },
  {
   "cell_type": "code",
   "execution_count": 15,
   "outputs": [
    {
     "name": "stdout",
     "output_type": "stream",
     "text": [
      "0 red\n",
      "1 green\n",
      "2 blue\n"
     ]
    }
   ],
   "source": [
    "colors = ['red', 'green', 'blue']\n",
    "for i in range(len(colors)):\n",
    "    print(i, colors[i])"
   ],
   "metadata": {
    "collapsed": false,
    "ExecuteTime": {
     "end_time": "2024-08-30T09:18:52.830440600Z",
     "start_time": "2024-08-30T09:18:52.821465700Z"
    }
   },
   "id": "2f00233856acb727"
  },
  {
   "cell_type": "markdown",
   "source": [
    "Функция zip()"
   ],
   "metadata": {
    "collapsed": false
   },
   "id": "f6d68a0320ed7b3e"
  },
  {
   "cell_type": "raw",
   "source": [
    "Встроенная функция zip() объединяет отдельные элементы из каждой переданной ей последовательности (итерируемого объекта) в кортежи.\n",
    "\n",
    "Сигнатура функции следующая: zip(*iterables). В качестве iterable может выступать любой итерируемый объект:\n",
    "\n",
    "список;\n",
    "кортеж;\n",
    "строка;\n",
    "множество;\n",
    "словарь и т.д."
   ],
   "metadata": {
    "collapsed": false
   },
   "id": "e03ef1084b09a9a1"
  },
  {
   "cell_type": "code",
   "execution_count": 16,
   "outputs": [
    {
     "name": "stdout",
     "output_type": "stream",
     "text": [
      "(1, 'one')\n",
      "(2, 'two')\n",
      "(3, 'three')\n"
     ]
    }
   ],
   "source": [
    "numbers = [1, 2, 3]\n",
    "words = ['one', 'two', 'three']\n",
    "\n",
    "for pair in zip(numbers, words):\n",
    "    print(pair)"
   ],
   "metadata": {
    "collapsed": false,
    "ExecuteTime": {
     "end_time": "2024-08-30T09:20:17.043416Z",
     "start_time": "2024-08-30T09:20:17.034467Z"
    }
   },
   "id": "3cc5f97b69403aa5"
  },
  {
   "cell_type": "raw",
   "source": [
    "Функция zip(), как и функция enumerate() возвращает не список, а специальный объект, который называется итератором. Такой объект похож на список тем, что его можно перебирать циклом for, то есть итерировать. Итератор можно преобразовать в список с помощью функции list()."
   ],
   "metadata": {
    "collapsed": false
   },
   "id": "50c89dd46ca6e010"
  },
  {
   "cell_type": "code",
   "execution_count": 17,
   "outputs": [
    {
     "name": "stdout",
     "output_type": "stream",
     "text": [
      "<zip object at 0x000001B0E45C8100>\n",
      "[(1, 'one'), (2, 'two'), (3, 'three')]\n"
     ]
    }
   ],
   "source": [
    "numbers = [1, 2, 3]\n",
    "words = ['one', 'two', 'three']\n",
    "\n",
    "result = zip(numbers, words)\n",
    "\n",
    "print(result)\n",
    "print(list(result))"
   ],
   "metadata": {
    "collapsed": false,
    "ExecuteTime": {
     "end_time": "2024-08-30T09:20:47.906550Z",
     "start_time": "2024-08-30T09:20:47.897067100Z"
    }
   },
   "id": "ad4cad9456cff1ec"
  },
  {
   "cell_type": "raw",
   "source": [
    "Мы можем передавать функции zip() сколько угодно итерируемых объектов."
   ],
   "metadata": {
    "collapsed": false
   },
   "id": "d74ace585a90a2c"
  },
  {
   "cell_type": "code",
   "execution_count": 18,
   "outputs": [
    {
     "name": "stdout",
     "output_type": "stream",
     "text": [
      "[(1, 'one', 'I'), (2, 'two', 'II'), (3, 'three', 'III')]\n"
     ]
    }
   ],
   "source": [
    "numbers = [1, 2, 3]\n",
    "words = ['one', 'two', 'three']\n",
    "romans = ['I', 'II', 'III']\n",
    "\n",
    "result = zip(numbers, words, romans)\n",
    "print(list(result))"
   ],
   "metadata": {
    "collapsed": false,
    "ExecuteTime": {
     "end_time": "2024-08-30T09:21:20.083534500Z",
     "start_time": "2024-08-30T09:21:20.074705600Z"
    }
   },
   "id": "3bd52b0a6400d5c3"
  },
  {
   "cell_type": "raw",
   "source": [
    "Мы можем передать функции zip() даже один итерируемый объект."
   ],
   "metadata": {
    "collapsed": false
   },
   "id": "5e34980235a22054"
  },
  {
   "cell_type": "code",
   "execution_count": 19,
   "outputs": [
    {
     "name": "stdout",
     "output_type": "stream",
     "text": [
      "[(1,), (2,), (3,)]\n"
     ]
    }
   ],
   "source": [
    "numbers = [1, 2, 3]\n",
    "result = zip(numbers)\n",
    "print(list(result))"
   ],
   "metadata": {
    "collapsed": false,
    "ExecuteTime": {
     "end_time": "2024-08-30T09:21:49.931525600Z",
     "start_time": "2024-08-30T09:21:49.913567700Z"
    }
   },
   "id": "9a9ea66b65855723"
  },
  {
   "cell_type": "raw",
   "source": [
    "Если функции zip() передать итерируемые объекты, имеющие разную длину, то объект с наименьшим количеством элементов определяет итоговую длину."
   ],
   "metadata": {
    "collapsed": false
   },
   "id": "a8ceff9d3a71ef65"
  },
  {
   "cell_type": "code",
   "execution_count": 20,
   "outputs": [
    {
     "name": "stdout",
     "output_type": "stream",
     "text": [
      "[(1, 'one', 'I'), (2, 'two', 'II')]\n"
     ]
    }
   ],
   "source": [
    "numbers = [1, 2, 3, 4]\n",
    "words = ['one', 'two']\n",
    "romans = ['I', 'II', 'III']\n",
    "\n",
    "result = zip(numbers, words, romans)\n",
    "print(list(result))"
   ],
   "metadata": {
    "collapsed": false,
    "ExecuteTime": {
     "end_time": "2024-08-30T09:22:21.555216600Z",
     "start_time": "2024-08-30T09:22:21.546731700Z"
    }
   },
   "id": "7bba31db18e42e38"
  },
  {
   "cell_type": "markdown",
   "source": [
    "Частые сценарии использования функции zip()"
   ],
   "metadata": {
    "collapsed": false
   },
   "id": "5794fc6f614d8969"
  },
  {
   "cell_type": "raw",
   "source": [
    "Сценарий 1. Функция zip() удобна для создания словарей, когда ключи и значения находятся в разных списках."
   ],
   "metadata": {
    "collapsed": false
   },
   "id": "7bf3ddb4de36402e"
  },
  {
   "cell_type": "code",
   "execution_count": 21,
   "outputs": [
    {
     "name": "stdout",
     "output_type": "stream",
     "text": [
      "{'name': 'Timur', 'age': 28, 'gender': 'male'}\n"
     ]
    }
   ],
   "source": [
    "keys = ['name', 'age', 'gender']\n",
    "values = ['Timur', 28, 'male']\n",
    "\n",
    "info = dict(zip(keys, values))\n",
    "print(info)"
   ],
   "metadata": {
    "collapsed": false,
    "ExecuteTime": {
     "end_time": "2024-08-30T09:22:52.292352900Z",
     "start_time": "2024-08-30T09:22:52.279752800Z"
    }
   },
   "id": "15d4e4df3f0b67c2"
  },
  {
   "cell_type": "raw",
   "source": [
    "Сценарий 2. Функция zip() удобна для одновременного (параллельного) итерирования сразу по нескольким коллекциям."
   ],
   "metadata": {
    "collapsed": false
   },
   "id": "dd6fab8f8b56f5fd"
  },
  {
   "cell_type": "code",
   "execution_count": 22,
   "outputs": [
    {
     "name": "stdout",
     "output_type": "stream",
     "text": [
      "Timur 28\n",
      "Ruslan 21\n",
      "Rustam 19\n"
     ]
    }
   ],
   "source": [
    "name = ['Timur', 'Ruslan', 'Rustam']\n",
    "age = [28, 21, 19]\n",
    "\n",
    "for x, y in zip(name, age):\n",
    "    print(x, y)"
   ],
   "metadata": {
    "collapsed": false,
    "ExecuteTime": {
     "end_time": "2024-08-30T09:23:10.967597200Z",
     "start_time": "2024-08-30T09:23:10.937444200Z"
    }
   },
   "id": "3fb739c3d56f62ab"
  },
  {
   "cell_type": "raw",
   "source": [
    "Примечание 1. Итераторы – важная концепция языка Python. Нужно помнить:\n",
    "\n",
    "итераторы можно обойти циклом for;\n",
    "итератор можно преобразовать в список или кортеж, с помощью функций list() и tuple();\n",
    "итератор можно распаковать с помощью *."
   ],
   "metadata": {
    "collapsed": false
   },
   "id": "ecc7ea4f96ef31bd"
  },
  {
   "cell_type": "raw",
   "source": [
    "Примечание 2. Реализация встроенных функций all() и any() выглядит примерно так:"
   ],
   "metadata": {
    "collapsed": false
   },
   "id": "93cf3c913273ff25"
  },
  {
   "cell_type": "code",
   "execution_count": 23,
   "outputs": [],
   "source": [
    "def all(iterable):\n",
    "    for item in iterable:\n",
    "        if not item:\n",
    "            return False\n",
    "    return True\n",
    "\n",
    "\n",
    "def any(iterable):\n",
    "    for item in iterable:\n",
    "        if item:\n",
    "            return True\n",
    "    return False"
   ],
   "metadata": {
    "collapsed": false,
    "ExecuteTime": {
     "end_time": "2024-08-30T09:23:58.650375300Z",
     "start_time": "2024-08-30T09:23:58.640366200Z"
    }
   },
   "id": "8e9152e9d6ef95c2"
  },
  {
   "cell_type": "raw",
   "source": [
    "Примечание 3. Мы можем использовать одновременно функции zip() и enumerate():"
   ],
   "metadata": {
    "collapsed": false
   },
   "id": "96ffb10df9766337"
  },
  {
   "cell_type": "code",
   "execution_count": 24,
   "outputs": [
    {
     "name": "stdout",
     "output_type": "stream",
     "text": [
      "0 a1 b1\n",
      "1 a2 b2\n",
      "2 a3 b3\n"
     ]
    }
   ],
   "source": [
    "list1 = ['a1', 'a2', 'a3']\n",
    "list2 = ['b1', 'b2', 'b3']\n",
    "\n",
    "for index, (item1, item2) in enumerate(zip(list1, list2)):\n",
    "    print(index, item1, item2)"
   ],
   "metadata": {
    "collapsed": false,
    "ExecuteTime": {
     "end_time": "2024-08-30T09:24:20.510357600Z",
     "start_time": "2024-08-30T09:24:20.476914800Z"
    }
   },
   "id": "4afe68c8694ec116"
  },
  {
   "cell_type": "code",
   "execution_count": 35,
   "outputs": [
    {
     "name": "stdout",
     "output_type": "stream",
     "text": [
      "220\n"
     ]
    }
   ],
   "source": [
    "numbers = [10, 30, 20, 50, 40, 60, 70, 80]\n",
    "\n",
    "total = 0\n",
    "for index, number in enumerate(numbers, 1):\n",
    "    if index % 2 == 0:\n",
    "        total += number\n",
    "print(total)"
   ],
   "metadata": {
    "collapsed": false,
    "ExecuteTime": {
     "end_time": "2024-08-30T09:28:14.069257800Z",
     "start_time": "2024-08-30T09:28:14.059054200Z"
    }
   },
   "id": "4fd6cb5f38e6cd3a"
  },
  {
   "cell_type": "code",
   "execution_count": 37,
   "outputs": [
    {
     "name": "stdout",
     "output_type": "stream",
     "text": [
      "35\n"
     ]
    }
   ],
   "source": [
    "list1 = [1, 2, 3, 4, 5]\n",
    "list2 = [5, 4, 3, 2, 1]\n",
    "\n",
    "result = 0\n",
    "for x, y in zip(list1, list2):\n",
    "    result += x * y\n",
    "print(result)"
   ],
   "metadata": {
    "collapsed": false,
    "ExecuteTime": {
     "end_time": "2024-08-30T09:28:30.942970800Z",
     "start_time": "2024-08-30T09:28:30.926503200Z"
    }
   },
   "id": "e6c32c7b9b67766e"
  },
  {
   "cell_type": "code",
   "execution_count": 38,
   "outputs": [
    {
     "name": "stdout",
     "output_type": "stream",
     "text": [
      "4\n"
     ]
    }
   ],
   "source": [
    "words1 = ['яблоко', 'ананас', 'апельсин', 'хурма', 'гранат', 'мандарин', 'айва']\n",
    "words2 = ['林檎', 'パイナップル', 'オレンジ', '柿']\n",
    "words3 = ['apple', 'pineapple', 'orange', 'persimmon', 'pomegranate']\n",
    "\n",
    "print(len(list(zip(words1, words2, words3))))"
   ],
   "metadata": {
    "collapsed": false,
    "ExecuteTime": {
     "end_time": "2024-08-30T09:28:49.836505Z",
     "start_time": "2024-08-30T09:28:49.805527200Z"
    }
   },
   "id": "130cbc8a8290d63e"
  },
  {
   "cell_type": "raw",
   "source": [
    "Функция ignore_command() принимает на вход один строковый аргумент command – команда, которую нужно проверить,\n",
    "\n",
    "и возвращает значение True, если в команде содержится подстрока из списка ignore и False – если нет.\n",
    "\n",
    "def ignore_command(command):\n",
    "    ignore = ['alias', 'configuration', 'ip', 'sql', 'select', 'update', 'exec', 'del', 'truncate']\n",
    "\n",
    "    for word in ignore:\n",
    "        if word in command:\n",
    "            return True\n",
    "    return False\n",
    "Перепишите функцию ignore_command(), чтобы она использовала встроенные функции all()/any(), сохранив при этом ее функционал.\n",
    "\n",
    "Примечание 1. Следующий программный код:\n",
    "\n",
    "print(ignore_command('get ip'))\n",
    "print(ignore_command('select all'))\n",
    "print(ignore_command('delete'))\n",
    "print(ignore_command('trancate'))\n",
    "должен выводить:\n",
    "\n",
    "True\n",
    "True\n",
    "True\n",
    "False\n",
    "Примечание 2. Вызывать функцию ignore_command() не нужно, требуется только реализовать."
   ],
   "metadata": {
    "collapsed": false
   },
   "id": "a74c03b4072e63e9"
  },
  {
   "cell_type": "code",
   "execution_count": 59,
   "outputs": [
    {
     "name": "stdout",
     "output_type": "stream",
     "text": [
      "True\n"
     ]
    }
   ],
   "source": [
    "def ignore_command(command):\n",
    "    ignore = ['alias', 'configuration', 'ip', 'sql', 'select', 'update', 'exec', 'del', 'truncate']\n",
    "\n",
    "    # for word in ignore:\n",
    "    #     if word in command:\n",
    "    #         return True\n",
    "    # return False\n",
    "    # Проверяем, содержится ли хоть одно из слов в командной строке\n",
    "    return any(word in command for word in ignore)\n",
    "\n",
    "\n",
    "print(all((\n",
    "    ignore_command('get ip') == True,\n",
    "    ignore_command('select all') == True,\n",
    "    ignore_command('delete') == True,\n",
    "    ignore_command('trancate') == False\n",
    ")))"
   ],
   "metadata": {
    "collapsed": false,
    "ExecuteTime": {
     "end_time": "2024-09-02T11:36:46.438756600Z",
     "start_time": "2024-09-02T11:36:46.435098700Z"
    }
   },
   "id": "c440f8919265b1c3"
  },
  {
   "cell_type": "raw",
   "source": [
    "Используя параллельную итерацию сразу по трем спискам countries, capitals и population выведите информацию о стране в формате:\n",
    "\n",
    "<capital> is the capital of <country>, population equal <population> people.\n",
    "\n",
    "\n",
    "Moscow is the capital of Russia, population equal 145934462 people.\n",
    "Washington is the capital of USA, population equal 331002651 people.\n",
    "...\n",
    "\n",
    "Для каждой страны информацию выводить на отдельной строке. "
   ],
   "metadata": {
    "collapsed": false
   },
   "id": "3b39b176879e0954"
  },
  {
   "cell_type": "code",
   "execution_count": 60,
   "outputs": [
    {
     "name": "stdout",
     "output_type": "stream",
     "text": [
      "Moscow is the capital of Russia, population equal 145934462 people.\n",
      "Washington is the capital of USA, population equal 331002651 people.\n",
      "London is the capital of UK, population equal 80345321 people.\n",
      "Berlin is the capital of Germany, population equal 67886011 people.\n",
      "Paris is the capital of France, population equal 65273511 people.\n",
      "Delhi is the capital of India, population equal 1380004385 people.\n"
     ]
    }
   ],
   "source": [
    "countries = ['Russia', 'USA', 'UK', 'Germany', 'France', 'India']\n",
    "capitals = ['Moscow', 'Washington', 'London', 'Berlin', 'Paris', 'Delhi']\n",
    "population = [145_934_462, 331_002_651, 80_345_321, 67_886_011, 65_273_511, 1_380_004_385]\n",
    "\n",
    "for country, capital, population in zip(countries, capitals, population):\n",
    "    print(f'{capital} is the capital of {country}, population equal {population} people.')"
   ],
   "metadata": {
    "collapsed": false,
    "ExecuteTime": {
     "end_time": "2024-09-02T11:40:15.768316400Z",
     "start_time": "2024-09-02T11:40:15.759109300Z"
    }
   },
   "id": "b0c6e9eb7180b0e8"
  },
  {
   "cell_type": "raw",
   "source": [
    "На вход программе подаются три строки текста с вещественными числами, значениями абсцисс (x), ординат (y) и аппликат (z) точек трехмерного пространства. Напишите программу для проверки расположения всех точек с введенными координатами внутри либо на поверхности шара с центром в начале координат и радиусом R =2.\n",
    "\n",
    "Формат входных данных\n",
    "На вход программе подаются три строки текста с вещественными числами, разделенными символом пробела – абсциссы, ординаты и аппликаты точек в трехмерной системе координат.\n",
    "\n",
    "Формат выходных данных\n",
    "Программа должна вывести True если все точки с введенными координатами находятся внутри или на границе шара и False, если вне.\n",
    "\n",
    "Примечание 1. Гарантируется, что количество чисел во всех трех строках одинаковое.\n",
    "Примечание 2. Уравнение поверхности шара (сферы) имеет вид \n",
    "x в степени 2 + y в степени 2 + z в степени 2 = R в степени 2.\n",
    "Примечание 3. Для решения задачи используйте встроенные функции all() и zip().\n",
    "Примечание 4. Используйте следующие названия abscissas, ordinates, applicates для соответствующих списков.\n"
   ],
   "metadata": {
    "collapsed": false
   },
   "id": "a06b325d645b4481"
  },
  {
   "cell_type": "code",
   "execution_count": 65,
   "outputs": [
    {
     "name": "stdout",
     "output_type": "stream",
     "text": [
      "False\n",
      "[0.0, 1.0, 2.0]\n",
      "[0.0, 0.0, 1.1]\n",
      "[0.0, 1.0, 1.5]\n"
     ]
    }
   ],
   "source": [
    "s1 = '0.0 1.0 2.0'\n",
    "s2 = '0.0 0.0 1.1'\n",
    "s3 = '0.0 1.0 1.5'\n",
    "\n",
    "s1 = input()\n",
    "s2 = input()\n",
    "s3 = input()\n",
    "\n",
    "abscissas = [float(i) for i in s1.split()]\n",
    "ordinates = [float(i) for i in s2.split()]\n",
    "applicates = [float(i) for i in s3.split()]\n",
    "is_within_radius = []\n",
    "\n",
    "for x, y, z in (zip(abscissas, ordinates, applicates)):\n",
    "    is_within_radius.append(x ** 2 + y ** 2 + z ** 2 <= 2 ** 2)\n",
    "print(all(is_within_radius))\n",
    "\n",
    "print(abscissas)\n",
    "print(ordinates)\n",
    "print(applicates)"
   ],
   "metadata": {
    "collapsed": false,
    "ExecuteTime": {
     "end_time": "2024-09-02T11:53:52.751453600Z",
     "start_time": "2024-09-02T11:53:52.747466800Z"
    }
   },
   "id": "be20962ae29afb82"
  },
  {
   "cell_type": "code",
   "execution_count": null,
   "outputs": [],
   "source": [
    "abscissas, ordinates, applicates = (map(float, input().split()) for _ in range(3))\n",
    "\n",
    "print(all(x ** 2 + y ** 2 + z ** 2 <= 4 for x, y, z in zip(abscissas, ordinates, applicates)))"
   ],
   "metadata": {
    "collapsed": false
   },
   "id": "37d2b5f289f139c3"
  },
  {
   "cell_type": "raw",
   "source": [
    "IP-адрес – уникальный числовой идентификатор устройства в компьютерной сети, работающей по протоколу TCP/IP.\n",
    "\n",
    "В 4-й версии IP-адрес представляет собой 32-битное число. Адрес записывается в виде четырёх десятичных чисел (октетов) со значением от 0 до 255 (включительно), разделённых точками, например, 192.168.1.2.\n",
    "\n",
    "Напишите программу с использованием встроенной функции all() для проверки корректности IP-адреса: все ли октеты в IP-адресе – числа со значением от 0 до 255.\n",
    "\n",
    "Формат входных данных\n",
    "На вход программе подается строка в формате x.x.x.x, где x – непустой набор символов 0-9, a-z.\n",
    "\n",
    "Формат выходных данных\n",
    "Программа должна вывести True если введенная строка – корректный IP-адрес и False в противном случае.\n",
    "\n",
    "Примечание. Ведущие нули следует игнорировать:\n",
    "\n",
    "0001 = 1\n",
    "006 = 6\n",
    "0213 = 213\n",
    "0000 = 0\n",
    "00345 = 345\n",
    "..."
   ],
   "metadata": {
    "collapsed": false
   },
   "id": "cc80850d26df36d0"
  },
  {
   "cell_type": "code",
   "execution_count": 81,
   "outputs": [
    {
     "name": "stdout",
     "output_type": "stream",
     "text": [
      "True\n"
     ]
    }
   ],
   "source": [
    "# s = input().split('.')\n",
    "s = '255.255.255.255'.split('.')\n",
    "\n",
    "print(all(i.isdigit() and int(i) in range(0, 256) for i in input().split('.')))"
   ],
   "metadata": {
    "collapsed": false,
    "ExecuteTime": {
     "end_time": "2024-09-02T12:11:04.058834600Z",
     "start_time": "2024-09-02T12:11:04.052568500Z"
    }
   },
   "id": "3ecf5887d9124989"
  },
  {
   "cell_type": "code",
   "execution_count": null,
   "outputs": [],
   "source": [
    "print(all(map(lambda n: n.isdigit() and 0 <= int(n) <= 255, input().split('.'))))"
   ],
   "metadata": {
    "collapsed": false
   },
   "id": "186050a4cf052f74"
  },
  {
   "cell_type": "raw",
   "source": [
    "На вход программе подаются два натуральных числа a и b. Напишите программу с использованием встроенной функции all() для обнаружения всех целых чисел в диапазоне [a;b], которые делятся на каждую содержащуюся в них цифру без остатка.\n",
    "\n",
    "Формат входных данных\n",
    "На вход программе подаются два натуральных числа a и b на отдельных строках.\n",
    "\n",
    "Формат выходных данных\n",
    "Программа должна вывести все числа из диапазона [a;b], удовлетворяющие условию задачи, на одной строке, разделяя их символом пробела.\n",
    "\n",
    "Примечание. Числа, содержащие нули, неинтересны, их выводить не нужно."
   ],
   "metadata": {
    "collapsed": false
   },
   "id": "ea91e21936e47ac4"
  },
  {
   "cell_type": "code",
   "execution_count": 83,
   "outputs": [
    {
     "name": "stdout",
     "output_type": "stream",
     "text": [
      "1 2 3 4 5 6 7 8 9 11 12 15 22 24\n"
     ]
    }
   ],
   "source": [
    "a = 1\n",
    "b = 25\n",
    "\n",
    "# Если a больше b, меняем их местами\n",
    "if a > b:\n",
    "    a, b = b, a\n",
    "\n",
    "result = []\n",
    "\n",
    "for num in range(a, b + 1):\n",
    "    digits = str(num)\n",
    "    # Проверяем каждую цифру\n",
    "    if '0' not in digits and all(num % int(digit) == 0 for digit in digits):\n",
    "        result.append(num)\n",
    "\n",
    "# Печатаем подходящие числа через пробел\n",
    "# print(\" \".join(map(str, result)))\n",
    "print(*result)"
   ],
   "metadata": {
    "collapsed": false,
    "ExecuteTime": {
     "end_time": "2024-09-02T13:20:47.182290500Z",
     "start_time": "2024-09-02T13:20:47.177123600Z"
    }
   },
   "id": "bc7a9783702b55cb"
  },
  {
   "cell_type": "raw",
   "source": [
    "Хороший пароль по условиям этой задачи состоит как минимум из 7 символов, содержит хотя бы одну цифру, заглавную и строчную букву. Напишите программу со встроенной функцией any() для определения хорош ли введенный пароль.\n",
    "\n",
    "Формат входных данных\n",
    "На вход программе подаётся одна строка текста.\n",
    "\n",
    "Формат выходных данных\n",
    "Программа должна вывести YES, если строка – хороший пароль, и NO в противном случае."
   ],
   "metadata": {
    "collapsed": false
   },
   "id": "db591b426cb4df01"
  },
  {
   "cell_type": "code",
   "execution_count": 95,
   "outputs": [
    {
     "name": "stdout",
     "output_type": "stream",
     "text": [
      "YES\n"
     ]
    }
   ],
   "source": [
    "# s = input()\n",
    "s = 'abAB34'\n",
    "\n",
    "result = all(\n",
    "    [any(map(lambda x: x.isdigit(), s)), \n",
    "     any(map(lambda x: x.islower(), s)), \n",
    "     any(map(lambda x: x.isupper(), s)),\n",
    "     len(s) > 6])\n",
    "\n",
    "print(('NO', 'YES')[result])"
   ],
   "metadata": {
    "collapsed": false,
    "ExecuteTime": {
     "end_time": "2024-09-02T13:34:37.677177800Z",
     "start_time": "2024-09-02T13:34:37.646085700Z"
    }
   },
   "id": "c310c18372f6d4a6"
  },
  {
   "cell_type": "raw",
   "source": [
    "Учитель Тимур проверял контрольные работы по математике в нескольких классах онлайн-школы BEEGEEK и решил убедиться, что в каждом классе есть хотя бы один отличник – ученик с оценкой 5 по контрольной работе. Напишите программу с использованием встроенных функций all(), any() для помощи Тимуру в проверке.\n",
    "\n",
    "Формат входных данных\n",
    "На вход программе подается натуральное число n – количество классов. Затем для каждого класса вводится блок информации вида:\n",
    "\n",
    "натуральное число k – количество учеников в классе;\n",
    "далее вводится k строк вида: фамилия оценка.\n",
    "Формат выходных данных\n",
    "Программа должна вывести YES, если в каждом классе есть хотя бы один отличник, и NO в противном случае."
   ],
   "metadata": {
    "collapsed": false
   },
   "id": "3fc34201f01f36f9"
  },
  {
   "cell_type": "code",
   "execution_count": null,
   "outputs": [],
   "source": [
    "n = int(input())  # количество классов\n",
    "results = []  # здесь будем хранить результат для каждого класса\n",
    "\n",
    "for _ in range(n):\n",
    "    k = int(input())  # количество учеников в классе\n",
    "    has_excellent_student = False  # флаг наличия отличников в классе\n",
    "    \n",
    "    for _ in range(k):\n",
    "        # Читаем фамилию и оценку через пробел\n",
    "        surname, grade = input().split()\n",
    "        # Проверяем, есть ли хотя бы один отличник\n",
    "        if grade == '5':\n",
    "            has_excellent_student = True\n",
    "    \n",
    "    # Добавляем результат для текущего класса\n",
    "    results.append(has_excellent_student)\n",
    "\n",
    "# Используем all() чтобы проверить, есть ли отличники во всех классах\n",
    "print(('NO', 'YES')[all(results)])"
   ],
   "metadata": {
    "collapsed": false
   },
   "id": "9b4c0e4c97044adf"
  }
 ],
 "metadata": {
  "kernelspec": {
   "display_name": "Python 3",
   "language": "python",
   "name": "python3"
  },
  "language_info": {
   "codemirror_mode": {
    "name": "ipython",
    "version": 2
   },
   "file_extension": ".py",
   "mimetype": "text/x-python",
   "name": "python",
   "nbconvert_exporter": "python",
   "pygments_lexer": "ipython2",
   "version": "2.7.6"
  }
 },
 "nbformat": 4,
 "nbformat_minor": 5
}
