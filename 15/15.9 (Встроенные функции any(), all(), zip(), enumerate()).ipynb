{
 "cells": [
  {
   "cell_type": "markdown",
   "source": [
    "Функции all() и any()"
   ],
   "metadata": {
    "collapsed": false
   },
   "id": "d9037658187e252b"
  },
  {
   "cell_type": "raw",
   "source": [
    "При работе с коллекциями часто приходится определять, выполняется ли некоторое условие одновременно для всех элементов последовательности или хотя бы для одного. Для этого существуют две встроенные функции all() и any()."
   ],
   "metadata": {
    "collapsed": false
   },
   "id": "65596d71862c794c"
  },
  {
   "cell_type": "markdown",
   "source": [
    "Функция all()"
   ],
   "metadata": {
    "collapsed": false
   },
   "id": "29ec421a9829bee4"
  },
  {
   "cell_type": "raw",
   "source": [
    "Встроенная функция all() возвращает значение True, если все элементы переданной ей последовательности (итерируемого объекта) истинны (приводятся к значению True), или False в противном случае.\n",
    "\n",
    "Сигнатура функции следующая: all(iterable). В качестве iterable может выступать любой итерируемый объект:\n",
    "\n",
    "список;\n",
    "кортеж;\n",
    "строка;\n",
    "множество;\n",
    "словарь и т.д."
   ],
   "metadata": {
    "collapsed": false
   },
   "id": "82600272317a7dda"
  },
  {
   "cell_type": "code",
   "execution_count": 1,
   "outputs": [
    {
     "name": "stdout",
     "output_type": "stream",
     "text": [
      "True\n",
      "False\n"
     ]
    }
   ],
   "source": [
    "print(all([True, True, True]))     #  возвращает True, так как все значения списка равны True\n",
    "print(all([True, True, False]))    #  возвращает False, так как не все значения списка равны True"
   ],
   "metadata": {
    "collapsed": false,
    "ExecuteTime": {
     "end_time": "2024-08-30T09:05:16.790563Z",
     "start_time": "2024-08-30T09:05:16.784173500Z"
    }
   },
   "id": "43ab69a3061b1f8d"
  },
  {
   "cell_type": "raw",
   "source": [
    "Напомним, что в Python все следующие значения приводятся к значению False:\n",
    "\n",
    "константы None и False;\n",
    "нули всех числовых типов данных: 0, 0.0, 0j, Decimal(0), Fraction(0, 1);\n",
    "пустые коллекции: '', (), [], {}, set(), range(0)."
   ],
   "metadata": {
    "collapsed": false
   },
   "id": "bc765a265138ae3b"
  },
  {
   "cell_type": "code",
   "execution_count": 2,
   "outputs": [
    {
     "name": "stdout",
     "output_type": "stream",
     "text": [
      "True\n",
      "False\n",
      "False\n",
      "False\n",
      "False\n"
     ]
    }
   ],
   "source": [
    "print(all([1, 2, 3]))   \n",
    "print(all([1, 2, 3, 0, 5]))\n",
    "print(all([True, 0, 1]))\n",
    "print(all(('', 'red', 'green')))\n",
    "print(all({0j, 3+4j}))"
   ],
   "metadata": {
    "collapsed": false,
    "ExecuteTime": {
     "end_time": "2024-08-30T09:06:17.197741200Z",
     "start_time": "2024-08-30T09:06:17.190089Z"
    }
   },
   "id": "f58fe3b8827593e6"
  },
  {
   "cell_type": "raw",
   "source": [
    "При работе со словарями функция all() проверяет на соответствие параметрам True ключи словаря, а не их значения."
   ],
   "metadata": {
    "collapsed": false
   },
   "id": "289dfb1ad3d090a2"
  },
  {
   "cell_type": "code",
   "execution_count": 3,
   "outputs": [
    {
     "name": "stdout",
     "output_type": "stream",
     "text": [
      "False\n",
      "True\n"
     ]
    }
   ],
   "source": [
    "dict1 = {0: 'Zero', 1: 'One', 2: 'Two'}\n",
    "dict2 = {'Zero': 0, 'One': 1, 'Two': 2}\n",
    "\n",
    "print(all(dict1))\n",
    "print(all(dict2))"
   ],
   "metadata": {
    "collapsed": false,
    "ExecuteTime": {
     "end_time": "2024-08-30T09:08:23.544110800Z",
     "start_time": "2024-08-30T09:08:23.535730300Z"
    }
   },
   "id": "d489514d38c5813a"
  },
  {
   "cell_type": "raw",
   "source": [
    "Обратите внимание: если переданный итерируемый объект пустой, то функция all() возвращает значение True."
   ],
   "metadata": {
    "collapsed": false
   },
   "id": "b1c2fe3599eac9fa"
  },
  {
   "cell_type": "code",
   "execution_count": 4,
   "outputs": [
    {
     "name": "stdout",
     "output_type": "stream",
     "text": [
      "True\n",
      "True\n",
      "True\n",
      "False\n"
     ]
    }
   ],
   "source": [
    "print(all([]))          #  передаем пустой список\n",
    "print(all(()))          #  передаем пустой кортеж\n",
    "print(all(''))          #  передаем пустую строку\n",
    "print(all([[], []]))    #  передаем список, содержащий пустые списки"
   ],
   "metadata": {
    "collapsed": false,
    "ExecuteTime": {
     "end_time": "2024-08-30T09:08:56.606072500Z",
     "start_time": "2024-08-30T09:08:56.597382100Z"
    }
   },
   "id": "57792daa58e0f040"
  },
  {
   "cell_type": "markdown",
   "source": [
    "Функция any()"
   ],
   "metadata": {
    "collapsed": false
   },
   "id": "469a17caf250b0a1"
  },
  {
   "cell_type": "raw",
   "source": [
    "Встроенная функция any() возвращает значение True, если хотя бы один элемент переданной ей последовательности (итерируемого объекта) является истинным (приводится к значению True), или False в противном случае.\n",
    "\n",
    "Сигнатура функции следующая: any(iterable). В качестве iterable может выступать любой итерируемый объект:\n",
    "\n",
    "список;\n",
    "кортеж;\n",
    "строка;\n",
    "множество;\n",
    "словарь и т.д."
   ],
   "metadata": {
    "collapsed": false
   },
   "id": "ce0892500154a7e4"
  },
  {
   "cell_type": "code",
   "execution_count": 5,
   "outputs": [
    {
     "name": "stdout",
     "output_type": "stream",
     "text": [
      "True\n",
      "False\n"
     ]
    }
   ],
   "source": [
    "print(any([False, True, False]))       #  возвращает True, так как есть хотя бы один элемент, равный True\n",
    "print(any([False, False, False]))      #  возвращает False, так как нет элементов, равных True"
   ],
   "metadata": {
    "collapsed": false,
    "ExecuteTime": {
     "end_time": "2024-08-30T09:10:25.063938800Z",
     "start_time": "2024-08-30T09:10:25.055034800Z"
    }
   },
   "id": "66672a17d4b9a850"
  },
  {
   "cell_type": "code",
   "execution_count": 6,
   "outputs": [
    {
     "name": "stdout",
     "output_type": "stream",
     "text": [
      "False\n",
      "True\n",
      "True\n",
      "True\n",
      "True\n"
     ]
    }
   ],
   "source": [
    "print(any([0, 0, 0]))\n",
    "print(any([0, 1, 0]))\n",
    "print(any([False, 0, 1]))\n",
    "print(any(['', [], 'green']))\n",
    "print(any({0j, 3+4j, 0.0}))"
   ],
   "metadata": {
    "collapsed": false,
    "ExecuteTime": {
     "end_time": "2024-08-30T09:10:41.952127300Z",
     "start_time": "2024-08-30T09:10:41.943905600Z"
    }
   },
   "id": "311003ac9b3becf5"
  },
  {
   "cell_type": "raw",
   "source": [
    "При работе со словарями функция any() проверяет на соответствие True ключи словаря, а не их значения."
   ],
   "metadata": {
    "collapsed": false
   },
   "id": "5961dcba9e3ba797"
  },
  {
   "cell_type": "code",
   "execution_count": 7,
   "outputs": [
    {
     "name": "stdout",
     "output_type": "stream",
     "text": [
      "False\n",
      "True\n"
     ]
    }
   ],
   "source": [
    "dict1 = {0: 'Zero'}\n",
    "dict2 = {'Zero': 0, 'One': 1}\n",
    "\n",
    "print(any(dict1))\n",
    "print(any(dict2))"
   ],
   "metadata": {
    "collapsed": false,
    "ExecuteTime": {
     "end_time": "2024-08-30T09:11:22.668166800Z",
     "start_time": "2024-08-30T09:11:22.658931400Z"
    }
   },
   "id": "4c5ff7b33fbba7fe"
  },
  {
   "cell_type": "raw",
   "source": [
    "Обратите внимание: если переданный объект пуст, то функция any() возвращает значение False."
   ],
   "metadata": {
    "collapsed": false
   },
   "id": "1ba0df7eedef6554"
  },
  {
   "cell_type": "code",
   "execution_count": 8,
   "outputs": [
    {
     "name": "stdout",
     "output_type": "stream",
     "text": [
      "False\n",
      "False\n",
      "False\n",
      "False\n"
     ]
    }
   ],
   "source": [
    "print(any([]))          #  передаем пустой список\n",
    "print(any(()))          #  передаем пустой кортеж\n",
    "print(any(''))          #  передаем пустую строку\n",
    "print(any([[], []]))    #  передаем список, содержащий пустые списки"
   ],
   "metadata": {
    "collapsed": false,
    "ExecuteTime": {
     "end_time": "2024-08-30T09:12:10.771562Z",
     "start_time": "2024-08-30T09:12:10.763026900Z"
    }
   },
   "id": "59ca079a5c5570f5"
  },
  {
   "cell_type": "markdown",
   "source": [
    "Функции all() и any() в связке с функцией map()"
   ],
   "metadata": {
    "collapsed": false
   },
   "id": "f7b664bb5eb33962"
  },
  {
   "cell_type": "raw",
   "source": [
    "Функции all() и any() могут быть полезны в комбинации с функцией map(), которая может преобразовывать элементы последовательности (итерируемого объекта) к значению True/False в соответствии с неким условием."
   ],
   "metadata": {
    "collapsed": false
   },
   "id": "d45ee00298cafaf7"
  },
  {
   "cell_type": "code",
   "execution_count": 9,
   "outputs": [
    {
     "name": "stdout",
     "output_type": "stream",
     "text": [
      "Хотя бы одно число меньше или равно 10\n"
     ]
    }
   ],
   "source": [
    "numbers = [17, 90, 78, 56, 231, 45, 5, 89, 91, 11, 19]\n",
    "\n",
    "result = all(map(lambda x: True if x > 10 else False, numbers))\n",
    "\n",
    "if result:\n",
    "    print('Все числа больше 10')\n",
    "else:\n",
    "    print('Хотя бы одно число меньше или равно 10')"
   ],
   "metadata": {
    "collapsed": false,
    "ExecuteTime": {
     "end_time": "2024-08-30T09:13:09.442585300Z",
     "start_time": "2024-08-30T09:13:09.431202600Z"
    }
   },
   "id": "d194b530ba60247b"
  },
  {
   "cell_type": "code",
   "execution_count": 10,
   "outputs": [
    {
     "name": "stdout",
     "output_type": "stream",
     "text": [
      "Хотя бы одно число четное\n"
     ]
    }
   ],
   "source": [
    "numbers = [17, 91, 78, 55, 231, 45, 5, 89, 99, 11, 19]\n",
    "\n",
    "result = any(map(lambda x: x % 2 == 0, numbers))\n",
    "\n",
    "if result:\n",
    "    print('Хотя бы одно число четное')\n",
    "else:\n",
    "    print('Все числа нечетные')"
   ],
   "metadata": {
    "collapsed": false,
    "ExecuteTime": {
     "end_time": "2024-08-30T09:14:56.266736400Z",
     "start_time": "2024-08-30T09:14:56.256937300Z"
    }
   },
   "id": "912dc06c988f7182"
  },
  {
   "cell_type": "markdown",
   "source": [
    "Функция enumerate()"
   ],
   "metadata": {
    "collapsed": false
   },
   "id": "7e7a2ec557effe8a"
  },
  {
   "cell_type": "raw",
   "source": [
    "Встроенная функция enumerate() возвращает кортеж из индекса элемента и самого элемента переданной ей последовательности (итерируемого объекта).\n",
    "\n",
    "Сигнатура функции следующая: enumerate(iterable, start). В качестве iterable может выступать любой итерируемый объект:\n",
    "\n",
    "список;\n",
    "кортеж;\n",
    "строка;\n",
    "множество;\n",
    "словарь и т.д."
   ],
   "metadata": {
    "collapsed": false
   },
   "id": "c8d5a1b375bb5a1a"
  },
  {
   "cell_type": "raw",
   "source": [
    "С помощью необязательного параметра start можно задать начальное значение индекса. По умолчанию значение параметра start = 0, то есть счет начинается с нуля."
   ],
   "metadata": {
    "collapsed": false
   },
   "id": "17b8093f63d16dd1"
  },
  {
   "cell_type": "code",
   "execution_count": 11,
   "outputs": [
    {
     "name": "stdout",
     "output_type": "stream",
     "text": [
      "(0, 'red')\n",
      "(1, 'green')\n",
      "(2, 'blue')\n"
     ]
    }
   ],
   "source": [
    "colors = ['red', 'green', 'blue']\n",
    "\n",
    "for pair in enumerate(colors):\n",
    "    print(pair)"
   ],
   "metadata": {
    "collapsed": false,
    "ExecuteTime": {
     "end_time": "2024-08-30T09:16:49.464084300Z",
     "start_time": "2024-08-30T09:16:49.439700400Z"
    }
   },
   "id": "82c2419d2c52bee5"
  },
  {
   "cell_type": "raw",
   "source": [
    "Если счет нужно начать с отличного от нуля числа, то нужно передать значение аргумента start."
   ],
   "metadata": {
    "collapsed": false
   },
   "id": "e3c98028f86a9972"
  },
  {
   "cell_type": "code",
   "execution_count": 12,
   "outputs": [
    {
     "name": "stdout",
     "output_type": "stream",
     "text": [
      "(100, 'red')\n",
      "(101, 'green')\n",
      "(102, 'blue')\n"
     ]
    }
   ],
   "source": [
    "colors = ['red', 'green', 'blue']\n",
    "\n",
    "for pair in enumerate(colors, 100):\n",
    "    print(pair)"
   ],
   "metadata": {
    "collapsed": false,
    "ExecuteTime": {
     "end_time": "2024-08-30T09:17:17.825591Z",
     "start_time": "2024-08-30T09:17:17.818091800Z"
    }
   },
   "id": "ec28ceb8cacd3892"
  },
  {
   "cell_type": "raw",
   "source": [
    "Обратите внимание, функция enumerate() возвращает не список, а специальный объект, который называется итератором. Такой объект похож на список тем, что его можно перебирать циклом for, то есть итерировать. Итератор можно преобразовать в список с помощью функции list()."
   ],
   "metadata": {
    "collapsed": false
   },
   "id": "514f50162e504247"
  },
  {
   "cell_type": "code",
   "execution_count": 13,
   "outputs": [
    {
     "name": "stdout",
     "output_type": "stream",
     "text": [
      "<enumerate object at 0x000001B0E4594C20>\n",
      "[(0, 'red'), (1, 'green'), (2, 'blue')]\n"
     ]
    }
   ],
   "source": [
    "colors = ['red', 'green', 'blue']\n",
    "\n",
    "pairs = enumerate(colors)\n",
    "\n",
    "print(pairs)\n",
    "print(list(pairs))"
   ],
   "metadata": {
    "collapsed": false,
    "ExecuteTime": {
     "end_time": "2024-08-30T09:17:50.246986400Z",
     "start_time": "2024-08-30T09:17:50.240492Z"
    }
   },
   "id": "b4042fe2007d2914"
  },
  {
   "cell_type": "raw",
   "source": [
    "Мы также можем использовать распаковку кортежей при итерировании с помощью цикла for."
   ],
   "metadata": {
    "collapsed": false
   },
   "id": "bf0f148d2245fff9"
  },
  {
   "cell_type": "code",
   "execution_count": 14,
   "outputs": [
    {
     "name": "stdout",
     "output_type": "stream",
     "text": [
      "0 red\n",
      "1 green\n",
      "2 blue\n"
     ]
    }
   ],
   "source": [
    "colors = ['red', 'green', 'blue']\n",
    "for index, item in enumerate(colors):\n",
    "    print(index, item)"
   ],
   "metadata": {
    "collapsed": false,
    "ExecuteTime": {
     "end_time": "2024-08-30T09:18:27.478925700Z",
     "start_time": "2024-08-30T09:18:27.470419400Z"
    }
   },
   "id": "b2bfbacd3cc9973b"
  },
  {
   "cell_type": "raw",
   "source": [
    "Такой код является альтернативой коду:"
   ],
   "metadata": {
    "collapsed": false
   },
   "id": "efc81a408615f41c"
  },
  {
   "cell_type": "code",
   "execution_count": 15,
   "outputs": [
    {
     "name": "stdout",
     "output_type": "stream",
     "text": [
      "0 red\n",
      "1 green\n",
      "2 blue\n"
     ]
    }
   ],
   "source": [
    "colors = ['red', 'green', 'blue']\n",
    "for i in range(len(colors)):\n",
    "    print(i, colors[i])"
   ],
   "metadata": {
    "collapsed": false,
    "ExecuteTime": {
     "end_time": "2024-08-30T09:18:52.830440600Z",
     "start_time": "2024-08-30T09:18:52.821465700Z"
    }
   },
   "id": "2f00233856acb727"
  },
  {
   "cell_type": "markdown",
   "source": [
    "Функция zip()"
   ],
   "metadata": {
    "collapsed": false
   },
   "id": "f6d68a0320ed7b3e"
  },
  {
   "cell_type": "raw",
   "source": [
    "Встроенная функция zip() объединяет отдельные элементы из каждой переданной ей последовательности (итерируемого объекта) в кортежи.\n",
    "\n",
    "Сигнатура функции следующая: zip(*iterables). В качестве iterable может выступать любой итерируемый объект:\n",
    "\n",
    "список;\n",
    "кортеж;\n",
    "строка;\n",
    "множество;\n",
    "словарь и т.д."
   ],
   "metadata": {
    "collapsed": false
   },
   "id": "e03ef1084b09a9a1"
  },
  {
   "cell_type": "code",
   "execution_count": 16,
   "outputs": [
    {
     "name": "stdout",
     "output_type": "stream",
     "text": [
      "(1, 'one')\n",
      "(2, 'two')\n",
      "(3, 'three')\n"
     ]
    }
   ],
   "source": [
    "numbers = [1, 2, 3]\n",
    "words = ['one', 'two', 'three']\n",
    "\n",
    "for pair in zip(numbers, words):\n",
    "    print(pair)"
   ],
   "metadata": {
    "collapsed": false,
    "ExecuteTime": {
     "end_time": "2024-08-30T09:20:17.043416Z",
     "start_time": "2024-08-30T09:20:17.034467Z"
    }
   },
   "id": "3cc5f97b69403aa5"
  },
  {
   "cell_type": "raw",
   "source": [
    "Функция zip(), как и функция enumerate() возвращает не список, а специальный объект, который называется итератором. Такой объект похож на список тем, что его можно перебирать циклом for, то есть итерировать. Итератор можно преобразовать в список с помощью функции list()."
   ],
   "metadata": {
    "collapsed": false
   },
   "id": "50c89dd46ca6e010"
  },
  {
   "cell_type": "code",
   "execution_count": 17,
   "outputs": [
    {
     "name": "stdout",
     "output_type": "stream",
     "text": [
      "<zip object at 0x000001B0E45C8100>\n",
      "[(1, 'one'), (2, 'two'), (3, 'three')]\n"
     ]
    }
   ],
   "source": [
    "numbers = [1, 2, 3]\n",
    "words = ['one', 'two', 'three']\n",
    "\n",
    "result = zip(numbers, words)\n",
    "\n",
    "print(result)\n",
    "print(list(result))"
   ],
   "metadata": {
    "collapsed": false,
    "ExecuteTime": {
     "end_time": "2024-08-30T09:20:47.906550Z",
     "start_time": "2024-08-30T09:20:47.897067100Z"
    }
   },
   "id": "ad4cad9456cff1ec"
  },
  {
   "cell_type": "raw",
   "source": [
    "Мы можем передавать функции zip() сколько угодно итерируемых объектов."
   ],
   "metadata": {
    "collapsed": false
   },
   "id": "d74ace585a90a2c"
  },
  {
   "cell_type": "code",
   "execution_count": 18,
   "outputs": [
    {
     "name": "stdout",
     "output_type": "stream",
     "text": [
      "[(1, 'one', 'I'), (2, 'two', 'II'), (3, 'three', 'III')]\n"
     ]
    }
   ],
   "source": [
    "numbers = [1, 2, 3]\n",
    "words = ['one', 'two', 'three']\n",
    "romans = ['I', 'II', 'III']\n",
    "\n",
    "result = zip(numbers, words, romans)\n",
    "print(list(result))"
   ],
   "metadata": {
    "collapsed": false,
    "ExecuteTime": {
     "end_time": "2024-08-30T09:21:20.083534500Z",
     "start_time": "2024-08-30T09:21:20.074705600Z"
    }
   },
   "id": "3bd52b0a6400d5c3"
  },
  {
   "cell_type": "raw",
   "source": [
    "Мы можем передать функции zip() даже один итерируемый объект."
   ],
   "metadata": {
    "collapsed": false
   },
   "id": "5e34980235a22054"
  },
  {
   "cell_type": "code",
   "execution_count": 19,
   "outputs": [
    {
     "name": "stdout",
     "output_type": "stream",
     "text": [
      "[(1,), (2,), (3,)]\n"
     ]
    }
   ],
   "source": [
    "numbers = [1, 2, 3]\n",
    "result = zip(numbers)\n",
    "print(list(result))"
   ],
   "metadata": {
    "collapsed": false,
    "ExecuteTime": {
     "end_time": "2024-08-30T09:21:49.931525600Z",
     "start_time": "2024-08-30T09:21:49.913567700Z"
    }
   },
   "id": "9a9ea66b65855723"
  },
  {
   "cell_type": "raw",
   "source": [
    "Если функции zip() передать итерируемые объекты, имеющие разную длину, то объект с наименьшим количеством элементов определяет итоговую длину."
   ],
   "metadata": {
    "collapsed": false
   },
   "id": "a8ceff9d3a71ef65"
  },
  {
   "cell_type": "code",
   "execution_count": 20,
   "outputs": [
    {
     "name": "stdout",
     "output_type": "stream",
     "text": [
      "[(1, 'one', 'I'), (2, 'two', 'II')]\n"
     ]
    }
   ],
   "source": [
    "numbers = [1, 2, 3, 4]\n",
    "words = ['one', 'two']\n",
    "romans = ['I', 'II', 'III']\n",
    "\n",
    "result = zip(numbers, words, romans)\n",
    "print(list(result))"
   ],
   "metadata": {
    "collapsed": false,
    "ExecuteTime": {
     "end_time": "2024-08-30T09:22:21.555216600Z",
     "start_time": "2024-08-30T09:22:21.546731700Z"
    }
   },
   "id": "7bba31db18e42e38"
  },
  {
   "cell_type": "markdown",
   "source": [
    "Частые сценарии использования функции zip()"
   ],
   "metadata": {
    "collapsed": false
   },
   "id": "5794fc6f614d8969"
  },
  {
   "cell_type": "raw",
   "source": [
    "Сценарий 1. Функция zip() удобна для создания словарей, когда ключи и значения находятся в разных списках."
   ],
   "metadata": {
    "collapsed": false
   },
   "id": "7bf3ddb4de36402e"
  },
  {
   "cell_type": "code",
   "execution_count": 21,
   "outputs": [
    {
     "name": "stdout",
     "output_type": "stream",
     "text": [
      "{'name': 'Timur', 'age': 28, 'gender': 'male'}\n"
     ]
    }
   ],
   "source": [
    "keys = ['name', 'age', 'gender']\n",
    "values = ['Timur', 28, 'male']\n",
    "\n",
    "info = dict(zip(keys, values))\n",
    "print(info)"
   ],
   "metadata": {
    "collapsed": false,
    "ExecuteTime": {
     "end_time": "2024-08-30T09:22:52.292352900Z",
     "start_time": "2024-08-30T09:22:52.279752800Z"
    }
   },
   "id": "15d4e4df3f0b67c2"
  },
  {
   "cell_type": "raw",
   "source": [
    "Сценарий 2. Функция zip() удобна для одновременного (параллельного) итерирования сразу по нескольким коллекциям."
   ],
   "metadata": {
    "collapsed": false
   },
   "id": "dd6fab8f8b56f5fd"
  },
  {
   "cell_type": "code",
   "execution_count": 22,
   "outputs": [
    {
     "name": "stdout",
     "output_type": "stream",
     "text": [
      "Timur 28\n",
      "Ruslan 21\n",
      "Rustam 19\n"
     ]
    }
   ],
   "source": [
    "name = ['Timur', 'Ruslan', 'Rustam']\n",
    "age = [28, 21, 19]\n",
    "\n",
    "for x, y in zip(name, age):\n",
    "    print(x, y)"
   ],
   "metadata": {
    "collapsed": false,
    "ExecuteTime": {
     "end_time": "2024-08-30T09:23:10.967597200Z",
     "start_time": "2024-08-30T09:23:10.937444200Z"
    }
   },
   "id": "3fb739c3d56f62ab"
  },
  {
   "cell_type": "raw",
   "source": [
    "Примечание 1. Итераторы – важная концепция языка Python. Нужно помнить:\n",
    "\n",
    "итераторы можно обойти циклом for;\n",
    "итератор можно преобразовать в список или кортеж, с помощью функций list() и tuple();\n",
    "итератор можно распаковать с помощью *."
   ],
   "metadata": {
    "collapsed": false
   },
   "id": "ecc7ea4f96ef31bd"
  },
  {
   "cell_type": "raw",
   "source": [
    "Примечание 2. Реализация встроенных функций all() и any() выглядит примерно так:"
   ],
   "metadata": {
    "collapsed": false
   },
   "id": "93cf3c913273ff25"
  },
  {
   "cell_type": "code",
   "execution_count": 23,
   "outputs": [],
   "source": [
    "def all(iterable):\n",
    "    for item in iterable:\n",
    "       if not item:\n",
    "           return False\n",
    "    return True\n",
    "\n",
    "def any(iterable):\n",
    "    for item in iterable:\n",
    "        if item:\n",
    "            return True\n",
    "    return False"
   ],
   "metadata": {
    "collapsed": false,
    "ExecuteTime": {
     "end_time": "2024-08-30T09:23:58.650375300Z",
     "start_time": "2024-08-30T09:23:58.640366200Z"
    }
   },
   "id": "8e9152e9d6ef95c2"
  },
  {
   "cell_type": "raw",
   "source": [
    "Примечание 3. Мы можем использовать одновременно функции zip() и enumerate():"
   ],
   "metadata": {
    "collapsed": false
   },
   "id": "96ffb10df9766337"
  },
  {
   "cell_type": "code",
   "execution_count": 24,
   "outputs": [
    {
     "name": "stdout",
     "output_type": "stream",
     "text": [
      "0 a1 b1\n",
      "1 a2 b2\n",
      "2 a3 b3\n"
     ]
    }
   ],
   "source": [
    "list1 = ['a1', 'a2', 'a3']\n",
    "list2 = ['b1', 'b2', 'b3']\n",
    "\n",
    "for index, (item1, item2) in enumerate(zip(list1, list2)):\n",
    "    print(index, item1, item2)"
   ],
   "metadata": {
    "collapsed": false,
    "ExecuteTime": {
     "end_time": "2024-08-30T09:24:20.510357600Z",
     "start_time": "2024-08-30T09:24:20.476914800Z"
    }
   },
   "id": "4afe68c8694ec116"
  },
  {
   "cell_type": "code",
   "execution_count": 35,
   "outputs": [
    {
     "name": "stdout",
     "output_type": "stream",
     "text": [
      "220\n"
     ]
    }
   ],
   "source": [
    "numbers = [10, 30, 20, 50, 40, 60, 70, 80]\n",
    "\n",
    "total = 0\n",
    "for index, number in enumerate(numbers, 1):\n",
    "    if index % 2 == 0:\n",
    "        total += number\n",
    "print(total)"
   ],
   "metadata": {
    "collapsed": false,
    "ExecuteTime": {
     "end_time": "2024-08-30T09:28:14.069257800Z",
     "start_time": "2024-08-30T09:28:14.059054200Z"
    }
   },
   "id": "4fd6cb5f38e6cd3a"
  },
  {
   "cell_type": "code",
   "execution_count": 37,
   "outputs": [
    {
     "name": "stdout",
     "output_type": "stream",
     "text": [
      "35\n"
     ]
    }
   ],
   "source": [
    "list1 = [1, 2, 3, 4, 5]\n",
    "list2 = [5, 4, 3, 2, 1]\n",
    "\n",
    "result = 0\n",
    "for x, y in zip(list1, list2):\n",
    "    result += x*y\n",
    "print(result)"
   ],
   "metadata": {
    "collapsed": false,
    "ExecuteTime": {
     "end_time": "2024-08-30T09:28:30.942970800Z",
     "start_time": "2024-08-30T09:28:30.926503200Z"
    }
   },
   "id": "e6c32c7b9b67766e"
  },
  {
   "cell_type": "code",
   "execution_count": 38,
   "outputs": [
    {
     "name": "stdout",
     "output_type": "stream",
     "text": [
      "4\n"
     ]
    }
   ],
   "source": [
    "words1 = ['яблоко', 'ананас', 'апельсин', 'хурма', 'гранат', 'мандарин', 'айва']\n",
    "words2 = ['林檎', 'パイナップル', 'オレンジ', '柿']\n",
    "words3 = ['apple', 'pineapple', 'orange', 'persimmon', 'pomegranate']\n",
    "\n",
    "print(len(list(zip(words1, words2, words3))))"
   ],
   "metadata": {
    "collapsed": false,
    "ExecuteTime": {
     "end_time": "2024-08-30T09:28:49.836505Z",
     "start_time": "2024-08-30T09:28:49.805527200Z"
    }
   },
   "id": "130cbc8a8290d63e"
  },
  {
   "cell_type": "raw",
   "source": [
    "Функция ignore_command() принимает на вход один строковый аргумент command – команда, которую нужно проверить,\n",
    "\n",
    "и возвращает значение True, если в команде содержится подстрока из списка ignore и False – если нет.\n",
    "\n",
    "def ignore_command(command):\n",
    "    ignore = ['alias', 'configuration', 'ip', 'sql', 'select', 'update', 'exec', 'del', 'truncate']\n",
    "\n",
    "    for word in ignore:\n",
    "        if word in command:\n",
    "            return True\n",
    "    return False\n",
    "Перепишите функцию ignore_command(), чтобы она использовала встроенные функции all()/any(), сохранив при этом ее функционал.\n",
    "\n",
    "Примечание 1. Следующий программный код:\n",
    "\n",
    "print(ignore_command('get ip'))\n",
    "print(ignore_command('select all'))\n",
    "print(ignore_command('delete'))\n",
    "print(ignore_command('trancate'))\n",
    "должен выводить:\n",
    "\n",
    "True\n",
    "True\n",
    "True\n",
    "False\n",
    "Примечание 2. Вызывать функцию ignore_command() не нужно, требуется только реализовать."
   ],
   "metadata": {
    "collapsed": false
   },
   "id": "a74c03b4072e63e9"
  },
  {
   "cell_type": "code",
   "execution_count": 44,
   "outputs": [
    {
     "name": "stdout",
     "output_type": "stream",
     "text": [
      "False\n"
     ]
    }
   ],
   "source": [
    "def ignore_command(command):\n",
    "    ignore = ['alias', 'configuration', 'ip', 'sql', 'select', 'update', 'exec', 'del', 'truncate']\n",
    "\n",
    "    # for word in ignore:\n",
    "    #     if word in command:\n",
    "    #         return True\n",
    "    # return False\n",
    "    return all(ignore)\n",
    "\n",
    "\n",
    "print(all((\n",
    "    ignore_command('get ip') == True,\n",
    "    ignore_command('select all') == True,\n",
    "    ignore_command('delete') == True,\n",
    "    ignore_command('truncate') == False\n",
    ")))"
   ],
   "metadata": {
    "collapsed": false,
    "ExecuteTime": {
     "end_time": "2024-08-30T10:31:26.826210Z",
     "start_time": "2024-08-30T10:31:26.823709400Z"
    }
   },
   "id": "c440f8919265b1c3"
  }
 ],
 "metadata": {
  "kernelspec": {
   "display_name": "Python 3",
   "language": "python",
   "name": "python3"
  },
  "language_info": {
   "codemirror_mode": {
    "name": "ipython",
    "version": 2
   },
   "file_extension": ".py",
   "mimetype": "text/x-python",
   "name": "python",
   "nbconvert_exporter": "python",
   "pygments_lexer": "ipython2",
   "version": "2.7.6"
  }
 },
 "nbformat": 4,
 "nbformat_minor": 5
}
