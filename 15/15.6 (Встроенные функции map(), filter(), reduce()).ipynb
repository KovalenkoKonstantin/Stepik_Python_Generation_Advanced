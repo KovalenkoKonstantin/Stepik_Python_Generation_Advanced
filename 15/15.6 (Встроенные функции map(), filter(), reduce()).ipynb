{
 "cells": [
  {
   "cell_type": "markdown",
   "source": [
    "Встроенная функция map()"
   ],
   "metadata": {
    "collapsed": false
   },
   "id": "7a036f60a8091d38"
  },
  {
   "cell_type": "raw",
   "source": [
    "Встроенная функция map() имеет сигнатуру map(func, *iterables). В отличие от нашей версии из прошлого урока, встроенная функция map() может принимать сразу несколько последовательностей, переменное количество аргументов.\n",
    "\n",
    "В качестве параметра func указывается функция, которой будет передаваться текущий элемент последовательности. Внутри функции func необходимо вернуть новое значение. Для примера прибавим к каждому элементу списка число 7."
   ],
   "metadata": {
    "collapsed": false
   },
   "id": "e6641b9e8d89ec59"
  },
  {
   "cell_type": "code",
   "execution_count": 1,
   "outputs": [
    {
     "name": "stdout",
     "output_type": "stream",
     "text": [
      "<map object at 0x00000115D5860820>\n"
     ]
    }
   ],
   "source": [
    "def increase(num):\n",
    "    return num + 7\n",
    "\n",
    "\n",
    "numbers = [1, 2, 3, 4, 5, 6]\n",
    "new_numbers = map(increase, numbers)     #  используем встроенную функцию map()\n",
    "\n",
    "print(new_numbers)"
   ],
   "metadata": {
    "collapsed": false,
    "ExecuteTime": {
     "end_time": "2024-08-28T05:56:12.604708800Z",
     "start_time": "2024-08-28T05:56:12.600442200Z"
    }
   },
   "id": "5a303ca5b5196377"
  },
  {
   "cell_type": "raw",
   "source": [
    "Такой объект похож на список тем, что его можно перебирать циклом for, то есть итерировать. Такие объекты в Python называют итераторами."
   ],
   "metadata": {
    "collapsed": false
   },
   "id": "9016423f8f12a0c2"
  },
  {
   "cell_type": "code",
   "execution_count": 2,
   "outputs": [
    {
     "name": "stdout",
     "output_type": "stream",
     "text": [
      "8\n",
      "9\n",
      "10\n",
      "11\n",
      "12\n",
      "13\n"
     ]
    }
   ],
   "source": [
    "def increase(num):\n",
    "    return num + 7\n",
    "\n",
    "\n",
    "numbers = [1, 2, 3, 4, 5, 6]\n",
    "new_numbers = map(increase, numbers)\n",
    "\n",
    "for num in new_numbers:    #  итерируем циклом for\n",
    "    print(num)"
   ],
   "metadata": {
    "collapsed": false,
    "ExecuteTime": {
     "end_time": "2024-08-28T05:56:48.283789500Z",
     "start_time": "2024-08-28T05:56:48.277505Z"
    }
   },
   "id": "52519a922cc3e813"
  },
  {
   "cell_type": "raw",
   "source": [
    "Чтобы получить из итератора список, нужно воспользоваться функцией list():"
   ],
   "metadata": {
    "collapsed": false
   },
   "id": "1c2b9d61eaa5491e"
  },
  {
   "cell_type": "code",
   "execution_count": 3,
   "outputs": [],
   "source": [
    "new_numbers = list(map(increase, numbers))"
   ],
   "metadata": {
    "collapsed": false,
    "ExecuteTime": {
     "end_time": "2024-08-28T05:57:10.429414600Z",
     "start_time": "2024-08-28T05:57:10.420049700Z"
    }
   },
   "id": "5b58390637873de5"
  },
  {
   "cell_type": "raw",
   "source": [
    "Функции map() можно передать несколько последовательностей. В этом случае в функцию обратного вызова func будут передаваться сразу несколько элементов, расположенных в последовательностях на одинаковых позициях."
   ],
   "metadata": {
    "collapsed": false
   },
   "id": "b96180a1a9bbe928"
  },
  {
   "cell_type": "raw",
   "source": [
    "Приведенный ниже код суммирует элементы трех списков:"
   ],
   "metadata": {
    "collapsed": false
   },
   "id": "9ffa79b5f8e1d7fb"
  },
  {
   "cell_type": "code",
   "execution_count": 4,
   "outputs": [
    {
     "name": "stdout",
     "output_type": "stream",
     "text": [
      "[111, 222, 333, 444, 555]\n"
     ]
    }
   ],
   "source": [
    "def func(elem1, elem2, elem3):\n",
    "    return elem1 + elem2 + elem3\n",
    "\n",
    "\n",
    "numbers1 = [1, 2, 3, 4, 5]\n",
    "numbers2 = [10, 20, 30, 40, 50]\n",
    "numbers3 = [100, 200, 300, 400, 500]\n",
    "\n",
    "new_numbers = list(map(func, numbers1, numbers2, numbers3))  #  преобразуем итератор в список\n",
    "\n",
    "print(new_numbers)"
   ],
   "metadata": {
    "collapsed": false,
    "ExecuteTime": {
     "end_time": "2024-08-28T05:57:54.287790200Z",
     "start_time": "2024-08-28T05:57:54.278607300Z"
    }
   },
   "id": "ea3379ac6ce66c79"
  },
  {
   "cell_type": "raw",
   "source": [
    "Если в последовательностях разное количество элементов, то последовательность с минимальным количеством элементов становится ограничителем."
   ],
   "metadata": {
    "collapsed": false
   },
   "id": "c2257dc739e3dec5"
  },
  {
   "cell_type": "code",
   "execution_count": 5,
   "outputs": [
    {
     "name": "stdout",
     "output_type": "stream",
     "text": [
      "[111, 222]\n"
     ]
    }
   ],
   "source": [
    "def func(elem1, elem2, elem3):\n",
    "    return elem1 + elem2 + elem3\n",
    "\n",
    "\n",
    "numbers1 = [1, 2, 3, 4]\n",
    "numbers2 = [10, 20]\n",
    "numbers3 = [100, 200, 300, 400, 500]\n",
    "\n",
    "new_numbers = list(map(func, numbers1, numbers2, numbers3))  #  преобразуем итератор в список\n",
    "\n",
    "print(new_numbers)"
   ],
   "metadata": {
    "collapsed": false,
    "ExecuteTime": {
     "end_time": "2024-08-28T05:58:44.590891300Z",
     "start_time": "2024-08-28T05:58:44.581649500Z"
    }
   },
   "id": "7582759888aaac30"
  },
  {
   "cell_type": "raw",
   "source": [
    "Встроенная функция map() реализована очень гибко. В качестве последовательностей мы можем использовать: списки, строки, кортежи, множества, словари."
   ],
   "metadata": {
    "collapsed": false
   },
   "id": "cd45dad03796f14d"
  },
  {
   "cell_type": "code",
   "execution_count": 8,
   "outputs": [
    {
     "name": "stdout",
     "output_type": "stream",
     "text": [
      "[3.56773, 5.57668, 4.31914, 6.20241, 91.01344, 32.01213]\n",
      "[3.6, 5.6, 4.3, 6.2, 91.0, 32.0]\n",
      "[3.6, 5.58, 4.319, 6.2024, 91.01344, 32.01213]\n"
     ]
    }
   ],
   "source": [
    "circle_areas = [3.56773, 5.57668, 4.31914, 6.20241, 91.01344, 32.01213]\n",
    "\n",
    "result1 = list(map(round, circle_areas, [1]*len(circle_areas)))         # округляем числа до 1 знака после запятой\n",
    "result2 = list(map(round, circle_areas, range(1, 7)))   # округляем числа до 1,2,...,6 знаков после запятой\n",
    "\n",
    "print(circle_areas)\n",
    "print(result1)\n",
    "print(result2)"
   ],
   "metadata": {
    "collapsed": false,
    "ExecuteTime": {
     "end_time": "2024-08-28T06:06:20.319826100Z",
     "start_time": "2024-08-28T06:06:20.314379Z"
    }
   },
   "id": "c4031e5f5e7984c8"
  },
  {
   "cell_type": "markdown",
   "source": [
    "Встроенная функция filter()"
   ],
   "metadata": {
    "collapsed": false
   },
   "id": "216a6c45b2ddd4e1"
  },
  {
   "cell_type": "raw",
   "source": [
    "Встроенная функция filter() имеет сигнатуру filter(func, iterable). Она может принимать любой итерируемый объект (список, строку, кортеж, и т.д.)."
   ],
   "metadata": {
    "collapsed": false
   },
   "id": "807b6b01ecdeb9a8"
  },
  {
   "cell_type": "raw",
   "source": [
    "В качестве параметра func указывается ссылка на функцию, которой будет передаваться текущий элемент последовательности. Внутри функции func необходимо вернуть значение True или False. Для примера, удалим все отрицательные значения из списка."
   ],
   "metadata": {
    "collapsed": false
   },
   "id": "bc49ee5b3772a956"
  },
  {
   "cell_type": "code",
   "execution_count": 9,
   "outputs": [
    {
     "name": "stdout",
     "output_type": "stream",
     "text": [
      "[2, 4, 0, 10]\n"
     ]
    }
   ],
   "source": [
    "def func(elem):\n",
    "    return elem >= 0\n",
    "\n",
    "\n",
    "numbers = [-1, 2, -3, 4, 0, -20, 10]\n",
    "positive_numbers = list(filter(func, numbers))  #  преобразуем итератор в список\n",
    "\n",
    "print(positive_numbers)"
   ],
   "metadata": {
    "collapsed": false,
    "ExecuteTime": {
     "end_time": "2024-08-28T06:08:02.878073Z",
     "start_time": "2024-08-28T06:08:02.869714500Z"
    }
   },
   "id": "8e450307ef41f92a"
  },
  {
   "cell_type": "raw",
   "source": [
    "Обратите внимание: функция filter() как и функция map() возвращает не список, а специальный объект, который называется итератором. Итераторы можно перебрать с помощью цикла for, либо преобразовать в список."
   ],
   "metadata": {
    "collapsed": false
   },
   "id": "44f191dfc84c797e"
  },
  {
   "cell_type": "raw",
   "source": [
    "Встроенной функции filter() можно в качестве первого параметра func передать значение None. В таком случае каждый элемент последовательности будет проверен на соответствие значению True. Если элемент в логическом контексте возвращает значение False, то он не будет добавлен в возвращаемый результат."
   ],
   "metadata": {
    "collapsed": false
   },
   "id": "57dcac30fbeac411"
  },
  {
   "cell_type": "code",
   "execution_count": 10,
   "outputs": [
    {
     "name": "stdout",
     "output_type": "stream",
     "text": [
      "1\n",
      "10\n",
      "[1, 2, 3]\n"
     ]
    }
   ],
   "source": [
    "true_values = filter(None, [1, 0, 10, '', None, [], [1, 2, 3], ()])\n",
    "\n",
    "for value in true_values:\n",
    "    print(value)"
   ],
   "metadata": {
    "collapsed": false,
    "ExecuteTime": {
     "end_time": "2024-08-28T06:09:02.343042800Z",
     "start_time": "2024-08-28T06:09:02.333606100Z"
    }
   },
   "id": "ba13df9ee25b0a31"
  },
  {
   "cell_type": "raw",
   "source": [
    "В данном случае, значения списка: 0, '', None, [], () позиционируется как False, а значения 1, 10, [1, 2, 3] как True."
   ],
   "metadata": {
    "collapsed": false
   },
   "id": "a7947792397609d2"
  },
  {
   "cell_type": "markdown",
   "source": [
    "Функция reduce()"
   ],
   "metadata": {
    "collapsed": false
   },
   "id": "c62042c735a0fb72"
  },
  {
   "cell_type": "raw",
   "source": [
    "Для использования функции reduce() необходимо подключить специальный модуль functools. Функция reduce() имеет сигнатуру reduce(func, iterable, initializer=None). Если начальное значение не установлено, то в его качестве используется первое значение из последовательности iterable."
   ],
   "metadata": {
    "collapsed": false
   },
   "id": "3b59decae9541197"
  },
  {
   "cell_type": "code",
   "execution_count": 11,
   "outputs": [
    {
     "name": "stdout",
     "output_type": "stream",
     "text": [
      "55\n"
     ]
    }
   ],
   "source": [
    "from functools import reduce\n",
    "\n",
    "\n",
    "def func(a, b):\n",
    "    return a + b\n",
    "\n",
    "\n",
    "numbers = [1, 2, 3, 4, 5, 6, 7, 8, 9, 10]\n",
    "total = reduce(func, numbers, 0)   # в качестве начального значения 0\n",
    "print(total)"
   ],
   "metadata": {
    "collapsed": false,
    "ExecuteTime": {
     "end_time": "2024-08-28T06:11:01.694078200Z",
     "start_time": "2024-08-28T06:11:01.685850400Z"
    }
   },
   "id": "69af79b43ccd2051"
  },
  {
   "cell_type": "raw",
   "source": [
    "Обратите внимание на то, что мы могли вызвать функцию так:"
   ],
   "metadata": {
    "collapsed": false
   },
   "id": "387b91048f6226bd"
  },
  {
   "cell_type": "code",
   "execution_count": 13,
   "outputs": [
    {
     "name": "stdout",
     "output_type": "stream",
     "text": [
      "55\n"
     ]
    }
   ],
   "source": [
    "total = reduce(func, numbers)   # в качестве начального значения первый элемент списка numbers\n",
    "print(total)"
   ],
   "metadata": {
    "collapsed": false,
    "ExecuteTime": {
     "end_time": "2024-08-28T06:12:01.879350700Z",
     "start_time": "2024-08-28T06:12:01.875447300Z"
    }
   },
   "id": "461a39247a6a2040"
  },
  {
   "cell_type": "raw",
   "source": [
    "Функция reduce() во второй версии языка Python была встроенной, но в Python 3 ее решили перенести в модуль functools. Функция reduce() как и функции map() и filter() может принимать любой итерируемый объект."
   ],
   "metadata": {
    "collapsed": false
   },
   "id": "7be630c4bb66e63a"
  },
  {
   "cell_type": "markdown",
   "source": [
    "Модуль operator"
   ],
   "metadata": {
    "collapsed": false
   },
   "id": "3914de34ecbe9480"
  },
  {
   "cell_type": "raw",
   "source": [
    "Чтобы не писать каждый раз функции, определяющие такие стандартные математические операции как сумма или произведение:"
   ],
   "metadata": {
    "collapsed": false
   },
   "id": "57425ab530e7db88"
  },
  {
   "cell_type": "code",
   "execution_count": 14,
   "outputs": [],
   "source": [
    "def sum_func(a, b):\n",
    "    return a + b\n",
    "\n",
    "\n",
    "def mult_func(a, b):\n",
    "    return a * b"
   ],
   "metadata": {
    "collapsed": false,
    "ExecuteTime": {
     "end_time": "2024-08-28T06:12:55.462937400Z",
     "start_time": "2024-08-28T06:12:55.453207300Z"
    }
   },
   "id": "ddebceae581bddae"
  },
  {
   "cell_type": "raw",
   "source": [
    "можно использовать уже реализованные функции из модуля operator."
   ],
   "metadata": {
    "collapsed": false
   },
   "id": "567eaba30eb7a099"
  },
  {
   "cell_type": "raw",
   "source": [
    "Неполный список функций из модуля operator выглядит так:"
   ],
   "metadata": {
    "collapsed": false
   },
   "id": "a4a8c0614657055d"
  },
  {
   "cell_type": "raw",
   "source": [
    "Операция\tСинтаксис\tФункция\n",
    "Addition\ta + b\tadd(a, b)\n",
    "Containment Test\tobj in seq\tcontains(seq, obj)\n",
    "Division\ta / b\ttruediv(a, b)\n",
    "Division\ta // b\tfloordiv(a, b)\n",
    "Exponentiation\ta ** b\tpow(a, b)\n",
    "Modulo\ta % b\tmod(a, b)\n",
    "Multiplication\ta * b\tmul(a, b)\n",
    "Negation (Arithmetic)\t-a\tneg(a)\n",
    "Subtraction\ta - b\tsub(a, b)\n",
    "Ordering\ta < b\tlt(a, b)\n",
    "Ordering\ta <= b\tle(a, b)\n",
    "Equality\ta == b\teq(a, b)\n",
    "Difference\ta != b\tne(a, b)\n",
    "Ordering\ta >= b\tge(a, b)\n",
    "Ordering\ta > b\tgt(a, b)"
   ],
   "metadata": {
    "collapsed": false
   },
   "id": "2cfe310eaf96b82"
  },
  {
   "cell_type": "code",
   "execution_count": 15,
   "outputs": [
    {
     "name": "stdout",
     "output_type": "stream",
     "text": [
      "30\n",
      "6\n",
      "-9\n",
      "True\n",
      "False\n",
      "True\n",
      "False\n"
     ]
    }
   ],
   "source": [
    "from operator import *     #  импортируем все функции\n",
    "\n",
    "print(add(10, 20))         #  сумма\n",
    "print(floordiv(20, 3))     #  целочисленное деление\n",
    "print(neg(9))              #  смена знака\n",
    "print(lt(2, 3))            #  проверка на неравенство <\n",
    "print(lt(10, 8))           #  проверка на неравенство <\n",
    "print(eq(5, 5))            #  проверка на равенство ==\n",
    "print(eq(5, 9))            #  проверка на равенство =="
   ],
   "metadata": {
    "collapsed": false,
    "ExecuteTime": {
     "end_time": "2024-08-28T06:14:16.742138400Z",
     "start_time": "2024-08-28T06:14:16.733731600Z"
    }
   },
   "id": "54af0b94b3a0b720"
  },
  {
   "cell_type": "code",
   "execution_count": 16,
   "outputs": [
    {
     "name": "stdout",
     "output_type": "stream",
     "text": [
      "[-1, -2, 6, 4, -3, -9, 0, 6, 1]\n",
      "Testing shows the presence, not the absence of bugs\n"
     ]
    }
   ],
   "source": [
    "from functools import reduce\n",
    "import operator\n",
    "\n",
    "words = ['Testing ', 'shows ', 'the ', 'presence', ', ', 'not ', 'the ', 'absence ', 'of ', 'bugs'] \n",
    "numbers = [1, 2, -6, -4, 3, 9, 0, -6, -1]\n",
    "\n",
    "opposite_numbers = list(map(operator.neg, numbers))    #  смена знаков элементов списка\n",
    "concat_words = reduce(operator.add, words)             #  конкатенация элементов списка\n",
    "\n",
    "print(opposite_numbers)\n",
    "print(concat_words)"
   ],
   "metadata": {
    "collapsed": false,
    "ExecuteTime": {
     "end_time": "2024-08-28T06:14:54.119668300Z",
     "start_time": "2024-08-28T06:14:54.107220300Z"
    }
   },
   "id": "b51a48e239fe4a08"
  },
  {
   "cell_type": "raw",
   "source": [
    "Модуль operator реализован на языке C, поэтому функции этого модуля работают в разы быстрее, чем самописные функции в Python."
   ],
   "metadata": {
    "collapsed": false
   },
   "id": "bcefa92837d9a661"
  },
  {
   "cell_type": "raw",
   "source": [
    "Примечание 1. Итераторы – важная концепция языка Python. Нужно помнить:\n",
    "\n",
    "итераторы можно обойти циклом for;\n",
    "итератор можно преобразовать в список или кортеж, с помощью функций list() и tuple();\n",
    "итератор можно распаковать с помощью * 😎."
   ],
   "metadata": {
    "collapsed": false
   },
   "id": "756bbd0ddd4d332f"
  },
  {
   "cell_type": "code",
   "execution_count": 17,
   "outputs": [
    {
     "name": "stdout",
     "output_type": "stream",
     "text": [
      "1 10 9 8 9 345 32 89 2\n"
     ]
    }
   ],
   "source": [
    "numbers = [1, 10, -9, 8, 9, 345, -32, -89, 2]\n",
    "\n",
    "map_obj = map(abs, numbers)\n",
    "\n",
    "print(*map_obj)              # распаковываем"
   ],
   "metadata": {
    "collapsed": false,
    "ExecuteTime": {
     "end_time": "2024-08-28T06:17:19.173190500Z",
     "start_time": "2024-08-28T06:17:19.162277Z"
    }
   },
   "id": "fe4f5bf5fc6d418c"
  },
  {
   "cell_type": "raw",
   "source": [
    "Примечание 2. Если нам нужны строковые методы в виде функций, мы можем получить их через название типа str."
   ],
   "metadata": {
    "collapsed": false
   },
   "id": "1118982fd4326f4e"
  },
  {
   "cell_type": "code",
   "execution_count": 18,
   "outputs": [
    {
     "name": "stdout",
     "output_type": "stream",
     "text": [
      "['ALFRED', 'TABITHA', 'WILLIAM', 'ARLA']\n",
      "['Alfred', 'Tabitha', 'William', 'Arla']\n",
      "['x', 'y', 'a']\n"
     ]
    }
   ],
   "source": [
    "pets = ['alfred', 'tabitha', 'william', 'arla']\n",
    "chars = ['x', 'y', '2', '3', 'a']\n",
    " \n",
    "uppered_pets = list(map(str.upper, pets))\n",
    "capitalized_pets = list(map(str.capitalize, pets))\n",
    "only_letters = list(filter(str.isalpha, chars))\n",
    "\n",
    "print(uppered_pets)\n",
    "print(capitalized_pets)\n",
    "print(only_letters)"
   ],
   "metadata": {
    "collapsed": false,
    "ExecuteTime": {
     "end_time": "2024-08-28T06:17:53.452833Z",
     "start_time": "2024-08-28T06:17:53.443185800Z"
    }
   },
   "id": "afd68ee8f8c1369d"
  },
  {
   "cell_type": "code",
   "execution_count": 19,
   "outputs": [
    {
     "name": "stdout",
     "output_type": "stream",
     "text": [
      "21\n"
     ]
    }
   ],
   "source": [
    "listA = [2, 3, 4]\n",
    "listB = [3, 2, 1]\n",
    "\n",
    "result = sum(map(pow, listA, listB))\n",
    "print(result)"
   ],
   "metadata": {
    "collapsed": false,
    "ExecuteTime": {
     "end_time": "2024-08-28T06:26:26.460752200Z",
     "start_time": "2024-08-28T06:26:26.448476300Z"
    }
   },
   "id": "65f580f14898e257"
  },
  {
   "cell_type": "code",
   "execution_count": 20,
   "outputs": [
    {
     "name": "stdout",
     "output_type": "stream",
     "text": [
      "120\n"
     ]
    }
   ],
   "source": [
    "from operator import mul\n",
    "from functools import reduce\n",
    "\n",
    "result = reduce(mul, range(1, 6))\n",
    "print(result)"
   ],
   "metadata": {
    "collapsed": false,
    "ExecuteTime": {
     "end_time": "2024-08-28T06:26:46.137156400Z",
     "start_time": "2024-08-28T06:26:46.109391400Z"
    }
   },
   "id": "d9a0d32344ab38a"
  },
  {
   "cell_type": "code",
   "execution_count": 21,
   "outputs": [
    {
     "name": "stdout",
     "output_type": "stream",
     "text": [
      "['a1', 'b2', 'c3']\n"
     ]
    }
   ],
   "source": [
    "from operator import add\n",
    "\n",
    "result = list(map(add, 'abc', '1234'))\n",
    "print(result)"
   ],
   "metadata": {
    "collapsed": false,
    "ExecuteTime": {
     "end_time": "2024-08-28T06:27:07.539050500Z",
     "start_time": "2024-08-28T06:27:07.528068300Z"
    }
   },
   "id": "3b6f577c17445216"
  },
  {
   "cell_type": "code",
   "execution_count": 22,
   "outputs": [
    {
     "name": "stdout",
     "output_type": "stream",
     "text": [
      "['a', 'bb', 'ccc']\n"
     ]
    }
   ],
   "source": [
    "from operator import mul\n",
    "\n",
    "result = list(map(mul, ['a', 'b', 'c'], [1, 2, 3]))\n",
    "print(result)"
   ],
   "metadata": {
    "collapsed": false,
    "ExecuteTime": {
     "end_time": "2024-08-28T06:27:39.653876900Z",
     "start_time": "2024-08-28T06:27:39.629739700Z"
    }
   },
   "id": "8e7a7410ed0b6b7b"
  },
  {
   "cell_type": "code",
   "execution_count": 23,
   "outputs": [
    {
     "name": "stdout",
     "output_type": "stream",
     "text": [
      "[1, 2, 3, 4, 5, 6, 7, 8, 9]\n"
     ]
    }
   ],
   "source": [
    "from operator import add\n",
    "from functools import reduce\n",
    "\n",
    "result = reduce(add, [[1, 2, 3], [4, 5, 6], [7, 8, 9]])\n",
    "print(result)"
   ],
   "metadata": {
    "collapsed": false,
    "ExecuteTime": {
     "end_time": "2024-08-28T06:28:02.108902600Z",
     "start_time": "2024-08-28T06:28:02.097199800Z"
    }
   },
   "id": "f9e3256de7d83d99"
  },
  {
   "cell_type": "code",
   "execution_count": null,
   "outputs": [],
   "source": [],
   "metadata": {
    "collapsed": false
   },
   "id": "fb6d838d59339a04"
  }
 ],
 "metadata": {
  "kernelspec": {
   "display_name": "Python 3",
   "language": "python",
   "name": "python3"
  },
  "language_info": {
   "codemirror_mode": {
    "name": "ipython",
    "version": 2
   },
   "file_extension": ".py",
   "mimetype": "text/x-python",
   "name": "python",
   "nbconvert_exporter": "python",
   "pygments_lexer": "ipython2",
   "version": "2.7.6"
  }
 },
 "nbformat": 4,
 "nbformat_minor": 5
}
