{
 "cells": [
  {
   "cell_type": "raw",
   "source": [
    "До сих пор мы рассматривали функции как совершенно отдельный элемент языка со своим синтаксисом и механизмом работы. Но, оказывается, функции также что-то вроде особого типа объектов. Бывают числа, строки, списки, кортежи, словари, множества. А бывают — функции. У каждого из этих типов есть свои операции, свой синтаксис, но все они — объекты."
   ],
   "metadata": {
    "collapsed": false
   },
   "id": "1d1011e00d6f15cf"
  },
  {
   "cell_type": "raw",
   "source": [
    "Напомним, что язык Python мультипарадигменный, он одинаково хорошо поддерживает и функциональную и объектно-ориентированную парадигмы программирования."
   ],
   "metadata": {
    "collapsed": false
   },
   "id": "dc4f17af0e504b2"
  },
  {
   "cell_type": "raw",
   "source": [
    "Любая функция в языке Python — объект типа function."
   ],
   "metadata": {
    "collapsed": false
   },
   "id": "1d5094001afd6804"
  },
  {
   "cell_type": "code",
   "execution_count": 1,
   "outputs": [
    {
     "name": "stdout",
     "output_type": "stream",
     "text": [
      "<class 'builtin_function_or_method'>\n",
      "<class 'builtin_function_or_method'>\n",
      "<class 'builtin_function_or_method'>\n"
     ]
    }
   ],
   "source": [
    "print(type(print))\n",
    "print(type(sum))\n",
    "print(type(abs))"
   ],
   "metadata": {
    "collapsed": false,
    "ExecuteTime": {
     "end_time": "2024-08-23T08:14:00.433251200Z",
     "start_time": "2024-08-23T08:14:00.430295700Z"
    }
   },
   "id": "9017e086e30ec244"
  },
  {
   "cell_type": "raw",
   "source": [
    "Обратите внимание: скобки не ставим при передаче аргумента в функцию type(), мы не вызываем функцию, а передаем ее название."
   ],
   "metadata": {
    "collapsed": false
   },
   "id": "4394e86fae5b64fa"
  },
  {
   "cell_type": "code",
   "execution_count": 2,
   "outputs": [
    {
     "name": "stdout",
     "output_type": "stream",
     "text": [
      "<class 'function'>\n"
     ]
    }
   ],
   "source": [
    "def hello():\n",
    "    print('Hello from function')\n",
    "\n",
    "\n",
    "print(type(hello))"
   ],
   "metadata": {
    "collapsed": false,
    "ExecuteTime": {
     "end_time": "2024-08-23T08:15:42.741106300Z",
     "start_time": "2024-08-23T08:15:42.734124300Z"
    }
   },
   "id": "48ac4a16fbee5166"
  },
  {
   "cell_type": "raw",
   "source": [
    "В языке Python все объект: число, строка, список, кортеж, множество, словарь, даже функция."
   ],
   "metadata": {
    "collapsed": false
   },
   "id": "23ed1af8b0a514ea"
  },
  {
   "cell_type": "raw",
   "source": [
    "Поскольку функции тоже объекты, работать с ними можно и как с объектами: записывать их в переменные, передавать в качестве аргументов другим функциям, возвращать из функций и т.д."
   ],
   "metadata": {
    "collapsed": false
   },
   "id": "361e4b1197a634ff"
  },
  {
   "cell_type": "code",
   "execution_count": 3,
   "outputs": [
    {
     "name": "stdout",
     "output_type": "stream",
     "text": [
      "Hello from function\n"
     ]
    }
   ],
   "source": [
    "def hello():\n",
    "    print('Hello from function')\n",
    "\n",
    "\n",
    "func = hello  #  присваиваем переменной func функцию hello\n",
    "func()  #  вызываем функцию"
   ],
   "metadata": {
    "collapsed": false,
    "ExecuteTime": {
     "end_time": "2024-08-23T08:16:23.371673500Z",
     "start_time": "2024-08-23T08:16:23.363864200Z"
    }
   },
   "id": "f1731086a803d0d9"
  },
  {
   "cell_type": "raw",
   "source": [
    "Таким образом, теперь переменную func можно использовать как функцию hello()"
   ],
   "metadata": {
    "collapsed": false
   },
   "id": "a299804c95c67e53"
  },
  {
   "cell_type": "code",
   "execution_count": 4,
   "outputs": [
    {
     "name": "stdout",
     "output_type": "stream",
     "text": [
      "Hello world!\n",
      "Python\n"
     ]
    }
   ],
   "source": [
    "writeln = print  # как в языке Pascal 😀\n",
    "\n",
    "writeln('Hello world!')\n",
    "writeln('Python')"
   ],
   "metadata": {
    "collapsed": false,
    "ExecuteTime": {
     "end_time": "2024-08-23T08:17:17.268888300Z",
     "start_time": "2024-08-23T08:17:17.253211500Z"
    }
   },
   "id": "1ff68f23e231e31e"
  },
  {
   "cell_type": "raw",
   "source": [
    "Возможность записать функцию в переменную позволяет гибко управлять тем, какую функциональность мы хотим использовать. В одну и ту же переменную можно записать разные варианты поведения и менять их при необходимости. При этом не только не нужно будет менять код по всей программе, но и не придется даже изменять код функций. Достаточно переменной присвоить вместо одной функции — другую."
   ],
   "metadata": {
    "collapsed": false
   },
   "id": "6927072e2233c7bc"
  },
  {
   "cell_type": "raw",
   "source": [
    "Возможность присваивать имя функции переменной позволяет, в частности, передавать имя функции аргументом другой функции. Это доступно во многих языках, но в Python проще, благодаря его гибкой типизации."
   ],
   "metadata": {
    "collapsed": false
   },
   "id": "26be950f286aab84"
  },
  {
   "cell_type": "raw",
   "source": [
    "Функции, способные в качестве аргумента принимать или/и возвращать другие функции, называются функциями высшего порядка."
   ],
   "metadata": {
    "collapsed": false
   },
   "id": "93bc0b3957be054d"
  },
  {
   "cell_type": "code",
   "execution_count": 5,
   "outputs": [
    {
     "name": "stdout",
     "output_type": "stream",
     "text": [
      "-210\n",
      "-7\n",
      "[-7, 8, 10, 32, -50, 87, -100, 117, -210]\n"
     ]
    }
   ],
   "source": [
    "numbers = [10, -7, 8, -100, -50, 32, 87, 117, -210]\n",
    "\n",
    "print(max(numbers, key=abs))  #  указываем функцию abs в качестве компаратора\n",
    "print(min(numbers, key=abs))  #  указываем функцию abs в качестве компаратора\n",
    "print(sorted(numbers, key=abs))  #  указываем функцию abs в качестве компаратора"
   ],
   "metadata": {
    "collapsed": false,
    "ExecuteTime": {
     "end_time": "2024-08-23T08:24:42.630904300Z",
     "start_time": "2024-08-23T08:24:42.620043800Z"
    }
   },
   "id": "246e4d6d1ef6a15c"
  },
  {
   "cell_type": "code",
   "execution_count": 6,
   "outputs": [
    {
     "name": "stdout",
     "output_type": "stream",
     "text": [
      "[(2, -4), (1, -1), (2, 3), (1, 5), (10, 9), (-10, 15), (7, 18)]\n",
      "[(2, -4), (1, -1), (2, 3), (-10, 15), (1, 5), (10, 9), (7, 18)]\n"
     ]
    }
   ],
   "source": [
    "def compare_by_second(point):\n",
    "    return point[1]\n",
    "\n",
    "\n",
    "def compare_by_sum(point):\n",
    "    return point[0] + point[1]\n",
    "\n",
    "\n",
    "points = [(1, -1), (2, 3), (-10, 15), (10, 9), (7, 18), (1, 5), (2, -4)]\n",
    "\n",
    "print(sorted(points, key=compare_by_second))  # сортируем по второму значению кортежа\n",
    "print(sorted(points, key=compare_by_sum))  # сортируем по сумме кортежа"
   ],
   "metadata": {
    "collapsed": false,
    "ExecuteTime": {
     "end_time": "2024-08-23T08:25:46.150204800Z",
     "start_time": "2024-08-23T08:25:46.142495900Z"
    }
   },
   "id": "16dacf22ff20b160"
  },
  {
   "cell_type": "raw",
   "source": [
    "Объектная сущность функций позволяет и передавать их в качестве аргументов в другие функции, и возвращать одни функции из других. То есть, функции могут быть результатом работы других функций, что позволяет писать генераторы функций, возвращающие функции в зависимости от передаваемых им аргументов."
   ],
   "metadata": {
    "collapsed": false
   },
   "id": "91f51c23f67c74a5"
  },
  {
   "cell_type": "code",
   "execution_count": 7,
   "outputs": [
    {
     "name": "stdout",
     "output_type": "stream",
     "text": [
      "Hello from function!\n"
     ]
    }
   ],
   "source": [
    "def generator():\n",
    "    def hello():\n",
    "        print('Hello from function!')\n",
    "\n",
    "    return hello\n",
    "\n",
    "\n",
    "func = generator()\n",
    "func()"
   ],
   "metadata": {
    "collapsed": false,
    "ExecuteTime": {
     "end_time": "2024-08-23T08:27:13.086242100Z",
     "start_time": "2024-08-23T08:27:13.076369700Z"
    }
   },
   "id": "4439b44737466b9e"
  },
  {
   "cell_type": "raw",
   "source": [
    "В Python можно определять функцию внутри функции, ведь функция это объект."
   ],
   "metadata": {
    "collapsed": false
   },
   "id": "3678af6b327c4dbe"
  },
  {
   "cell_type": "code",
   "execution_count": 9,
   "outputs": [
    {
     "name": "stdout",
     "output_type": "stream",
     "text": [
      "4\n",
      "5\n",
      "57\n"
     ]
    }
   ],
   "source": [
    "def generator_square_polynom(a, b, c):\n",
    "    def square_polynom(x):\n",
    "        return a * x ** 2 + b * x + c\n",
    "\n",
    "    return square_polynom\n",
    "\n",
    "\n",
    "f = generator_square_polynom(a=1, b=2, c=1)\n",
    "g = generator_square_polynom(a=2, b=0, c=-3)\n",
    "h = generator_square_polynom(a=-3, b=-10, c=50)\n",
    "\n",
    "print(f(1))\n",
    "print(g(2))\n",
    "print(h(-1))"
   ],
   "metadata": {
    "collapsed": false,
    "ExecuteTime": {
     "end_time": "2024-08-23T08:29:39.902474Z",
     "start_time": "2024-08-23T08:29:39.895973200Z"
    }
   },
   "id": "56734ce90cd761ad"
  },
  {
   "cell_type": "raw",
   "source": [
    "Обратите внимание на то, что внутренняя функция square_polynom() использует параметры внешней функции generator_square_polynom(). Такую вложенную функцию называют замыканием.\n",
    "\n",
    "Замыкания – вложенные функции, ссылающиеся на переменные, объявленные вне определения этой функции, и не являющиеся её параметрами."
   ],
   "metadata": {
    "collapsed": false
   },
   "id": "dc56bbca1cf273ae"
  },
  {
   "cell_type": "raw",
   "source": [
    "Сортировка при помощи функции sorted() и списочного метода sort() стабильна, то есть гарантирует неизменность взаиморасположения равных между собой элементов."
   ],
   "metadata": {
    "collapsed": false
   },
   "id": "6bac9d61082a7a30"
  },
  {
   "cell_type": "code",
   "execution_count": 10,
   "outputs": [
    {
     "name": "stdout",
     "output_type": "stream",
     "text": [
      "[('blue', 2), ('blue', 1), ('green', 5), ('red', 1)]\n"
     ]
    }
   ],
   "source": [
    "def comparator(item):\n",
    "    return item[0]\n",
    "\n",
    "\n",
    "data = [('red', 1), ('blue', 2), ('green', 5), ('blue', 1)]\n",
    "data.sort(key=comparator)  # сортируем по первому полю\n",
    "\n",
    "print(data)"
   ],
   "metadata": {
    "collapsed": false,
    "ExecuteTime": {
     "end_time": "2024-08-23T08:31:29.915685600Z",
     "start_time": "2024-08-23T08:31:29.906712700Z"
    }
   },
   "id": "9599eb9e7b835caa"
  },
  {
   "cell_type": "code",
   "execution_count": 11,
   "outputs": [
    {
     "name": "stdout",
     "output_type": "stream",
     "text": [
      "25 125\n"
     ]
    }
   ],
   "source": [
    "def f(x):\n",
    "    return x ** 2\n",
    "\n",
    "\n",
    "def g(x):\n",
    "    return x ** 3\n",
    "\n",
    "\n",
    "funcs = [f, g]\n",
    "print(funcs[0](5), funcs[1](5))"
   ],
   "metadata": {
    "collapsed": false,
    "ExecuteTime": {
     "end_time": "2024-08-23T08:36:17.272477500Z",
     "start_time": "2024-08-23T08:36:17.263375600Z"
    }
   },
   "id": "59dcaffa3ac82586"
  },
  {
   "cell_type": "code",
   "execution_count": 12,
   "outputs": [
    {
     "name": "stdout",
     "output_type": "stream",
     "text": [
      "[(3, 2), (8, 2), (5, 4), (1, 7)]\n"
     ]
    }
   ],
   "source": [
    "def comparator(pair):\n",
    "    return pair[1]\n",
    "\n",
    "\n",
    "# Задаем список кортежей\n",
    "pairs = [(5, 4), (3, 2), (1, 7), (8, 2)]\n",
    "# Сортируем список кортежей по второму элементу каждого кортежа\n",
    "pairs.sort(key=comparator)\n",
    "# Выводим отсортированный список\n",
    "print(pairs)"
   ],
   "metadata": {
    "collapsed": false,
    "ExecuteTime": {
     "end_time": "2024-08-23T08:38:40.527966500Z",
     "start_time": "2024-08-23T08:38:40.521372800Z"
    }
   },
   "id": "86f3a05a92c452d9"
  },
  {
   "cell_type": "code",
   "execution_count": 13,
   "outputs": [
    {
     "name": "stdout",
     "output_type": "stream",
     "text": [
      "[(8, 2), (5, 4), (1, 7), (3, 2)]\n"
     ]
    }
   ],
   "source": [
    "def comparator(pair):\n",
    "    # Функция-компаратор, возвращающая сумму элементов пары\n",
    "    return pair[0] + pair[1]\n",
    "\n",
    "\n",
    "# Задаем список кортежей\n",
    "pairs = [(5, 4), (3, 2), (1, 7), (8, 2)]\n",
    "\n",
    "# Сортируем список кортежей по сумме элементов в каждой паре в порядке убывания\n",
    "pairs.sort(key=comparator, reverse=True)\n",
    "\n",
    "# Выводим отсортированный список пар\n",
    "print(pairs)"
   ],
   "metadata": {
    "collapsed": false,
    "ExecuteTime": {
     "end_time": "2024-08-23T08:40:06.230867900Z",
     "start_time": "2024-08-23T08:40:06.224445900Z"
    }
   },
   "id": "aa2dce85cd191f8"
  },
  {
   "cell_type": "code",
   "execution_count": 18,
   "outputs": [
    {
     "name": "stdout",
     "output_type": "stream",
     "text": [
      "-1\n"
     ]
    }
   ],
   "source": [
    "def f1(x):\n",
    "    return 2 * x + 1\n",
    "\n",
    "\n",
    "def f2(x):\n",
    "    return x ** 2\n",
    "\n",
    "\n",
    "def f3(x):\n",
    "    return -x ** 2 + 1\n",
    "\n",
    "\n",
    "def f4(x):\n",
    "    return x - 3\n",
    "\n",
    "\n",
    "funcs = [f1, f2, f3, f4]\n",
    "i = int(input())\n",
    "print(funcs[i](2))"
   ],
   "metadata": {
    "collapsed": false,
    "ExecuteTime": {
     "end_time": "2024-08-23T08:41:39.049691800Z",
     "start_time": "2024-08-23T08:41:37.967668800Z"
    }
   },
   "id": "19ac3d3661e85a76"
  },
  {
   "cell_type": "raw",
   "source": [
    "Дан список numbers, содержащий кортежи чисел. Напишите программу, которая с помощью встроенных функций min() и max() выводит те кортежи (каждый на отдельной строке), которые имеют минимальное и максимальное среднее арифметическое значение элементов.\n",
    "\n",
    "Примечание. Используйте необязательный аргумент key."
   ],
   "metadata": {
    "collapsed": false
   },
   "id": "bfe44ca8c3797606"
  },
  {
   "cell_type": "code",
   "execution_count": 30,
   "outputs": [
    {
     "name": "stdout",
     "output_type": "stream",
     "text": [
      "(-9, 8, 4)\n",
      "(81, 39)\n"
     ]
    }
   ],
   "source": [
    "numbers = [(10, 10, 10), (30, 45, 56), (81, 39), (1, 2, 3), (12,), (-2, -4, 100), (1, 2, 99), (89, 9, 34),\n",
    "           (10, 20, 30, -2), (50, 40, 50), (34, 78, 65), (-5, 90, -1, -5), (1, 2, 3, 4, 5, 6), (-9, 8, 4),\n",
    "           (90, 1, -45, -21)]\n",
    "\n",
    "\n",
    "# Функция-компаратор, которая возвращает среднее значение элементов кортежа\n",
    "def comparator(x):\n",
    "    return sum(x) / len(x)  # Суммируем элементы и делим на их количество для получения среднего\n",
    "\n",
    "\n",
    "# Находим и выводим кортеж с минимальным средним значением\n",
    "print(min(numbers, key=comparator))\n",
    "\n",
    "# Находим и выводим кортеж с максимальным средним значением\n",
    "print(max(numbers, key=comparator))\n",
    "# Для начала надо чётко понимать, как происходит сравнение элементов последовательности. Есть функция max, она принимает список и функцию компаратор. \n",
    "# Что делает max? Она берет каждый элемент последовательности и передает его в качестве аргумента функции-компаратору. max даже не догадывается, что происходит под капотом компаратора, ей это не важно. Функция-компаратор что-то делает с аргументом и возвращает результат обратно функции высшего порядка, в нашем случае max. И вся эта карусель происходит с каждым элементом. В итоге max имеет у себя обновленную последовательность, с которой работает уже непосредственно сама и выбирает максимальный по значению элемент. \n"
   ],
   "metadata": {
    "collapsed": false,
    "ExecuteTime": {
     "end_time": "2024-08-23T08:57:16.345872600Z",
     "start_time": "2024-08-23T08:57:16.344370100Z"
    }
   },
   "id": "108cc64f10070d9f"
  },
  {
   "cell_type": "raw",
   "source": [
    "Напишите программу, которая сортирует список points координат точек плоскости в соответствии с расстоянием от начала координат (точки (0;0)). Программа должна вывести отсортированный список.\n",
    "Расстояние от начала координат \n",
    "O(0;0) до точки \n",
    "A(x;y) равно \n",
    "OA= корень квадратный из x в степени  2 + y в степени 2\n",
    "Используйте необязательный аргумент key."
   ],
   "metadata": {
    "collapsed": false
   },
   "id": "644a99e09dfa3b37"
  },
  {
   "cell_type": "code",
   "execution_count": 32,
   "outputs": [
    {
     "name": "stdout",
     "output_type": "stream",
     "text": [
      "[(0, 0), (0, 1), (-1, 1), (2, 0), (3, 0), (-1, 3), (-3, 2), (4, 3), (3, 6), (5, 6), (-9, 1), (8, 8), (12, 0)]\n"
     ]
    }
   ],
   "source": [
    "points = [(-1, 1), (5, 6), (12, 0), (4, 3), (0, 1), (-3, 2), (0, 0), (-1, 3), (2, 0), (3, 0), (-9, 1), (3, 6), (8, 8)]\n",
    "\n",
    "\n",
    "# Функция-компаратор для вычисления расстояния точки от начала координат\n",
    "def comparator(point):\n",
    "    # Используем теорему Пифагора, чтобы найти расстояние от точки до начала координат (0, 0)\n",
    "    return (point[0] ** 2 + point[1] ** 2) ** 0.5\n",
    "\n",
    "\n",
    "# Сортируем список точек по расстоянию от начала координат в порядке возрастания\n",
    "points.sort(key=comparator)\n",
    "\n",
    "# Выводим отсортированный список точек\n",
    "print(points)"
   ],
   "metadata": {
    "collapsed": false,
    "ExecuteTime": {
     "end_time": "2024-08-23T09:11:38.493584300Z",
     "start_time": "2024-08-23T09:11:38.487348800Z"
    }
   },
   "id": "890fe981ce2b7e15"
  },
  {
   "cell_type": "raw",
   "source": [
    "Дан список numbers, содержащий кортежи чисел. Напишите программу, которая сортирует и выводит список numbers в соответствии с суммой минимального и максимального элемента кортежа.\n",
    "\n",
    "В этой задаче мы считаем, что кортеж \n",
    "(2,1,3) меньше кортежа \n",
    "(6,4,5), так как \n",
    "1+3<4+6. При этом кортеж \n",
    "(1,2,9) равен кортежу \n",
    "(4,5,6), так как \n",
    "1+9 = 4+6.\n",
    "\n",
    "Используйте необязательный аргумент key"
   ],
   "metadata": {
    "collapsed": false
   },
   "id": "b359eb76888fa400"
  },
  {
   "cell_type": "code",
   "execution_count": 37,
   "outputs": [
    {
     "name": "stdout",
     "output_type": "stream",
     "text": [
      "[(1, 2, 3), (10, 10, 10), (10, 20, 30), (12, 45, 67), (-5, 90, -1), (30, 45, 56), (50, 40, 50), (-2, -4, 100), (1, 2, 99), (34, 78, 65), (81, 80, 39), (89, 90, 34)]\n"
     ]
    }
   ],
   "source": [
    "numbers = [(10, 10, 10), (30, 45, 56), (81, 80, 39), (1, 2, 3), (12, 45, 67), (-2, -4, 100), (1, 2, 99), (89, 90, 34),\n",
    "           (10, 20, 30), (50, 40, 50), (34, 78, 65), (-5, 90, -1)]\n",
    "\n",
    "\n",
    "def comparator(numbers):\n",
    "    return min(numbers) + max(numbers)\n",
    "\n",
    "\n",
    "numbers.sort(key=comparator)\n",
    "\n",
    "print(numbers)"
   ],
   "metadata": {
    "collapsed": false,
    "ExecuteTime": {
     "end_time": "2024-08-23T09:41:52.222932300Z",
     "start_time": "2024-08-23T09:41:52.215786400Z"
    }
   },
   "id": "5ae1e3bfb5e52a3b"
  },
  {
   "cell_type": "raw",
   "source": [
    "Список athletes содержит сведения о спортсменах в виде кортежей: (имя, возраст, рост, вес)\n",
    "\n",
    "Напишите программу сортировки списка спортсменов по указанному полю:\n",
    "\n",
    "1: по имени;\n",
    "2: по возрасту;\n",
    "3: по росту;\n",
    "4: по весу.\n",
    "\n",
    "На вход программе подается натуральное число от \n",
    "1 до \n",
    "4 – номер поля по которому требуется отсортировать список.\n",
    "\n",
    "Решите задачу без использования условного оператора."
   ],
   "metadata": {
    "collapsed": false
   },
   "id": "1125af9759b79db7"
  },
  {
   "cell_type": "code",
   "execution_count": 69,
   "outputs": [
    {
     "name": "stdout",
     "output_type": "stream",
     "text": [
      "Рустам 10 128 30\n",
      "Руслан 9 140 33\n",
      "Дима 10 130 35\n",
      "Тимур 11 135 39\n",
      "Матвей 17 168 68\n",
      "Амир 16 170 70\n",
      "Петя 15 190 90\n",
      "Рома 16 188 100\n"
     ]
    }
   ],
   "source": [
    "athletes = [('Дима', 10, 130, 35), ('Тимур', 11, 135, 39), ('Руслан', 9, 140, 33), ('Рустам', 10, 128, 30),\n",
    "            ('Амир', 16, 170, 70), ('Рома', 16, 188, 100), ('Матвей', 17, 168, 68), ('Петя', 15, 190, 90)]\n",
    "\n",
    "n = int(input())\n",
    "\n",
    "\n",
    "def comparator(athlete):\n",
    "    # Сортируем по различным критериям в зависимости от значения n\n",
    "    if n == 1:\n",
    "        return athlete[0]\n",
    "    elif n == 2:\n",
    "        return athlete[1]\n",
    "    elif n == 3:\n",
    "        return athlete[2]\n",
    "    elif n == 4:\n",
    "        return athlete[3]\n",
    "    else:\n",
    "        return athlete  # Возвращаем по умолчанию (не сортировать)\n",
    "\n",
    "\n",
    "# Определяем маппинг индексов для сортировки без использования условного оператора\n",
    "index_map = {1: 0, 2: 1, 3: 2, 4: 3}\n",
    "\n",
    "\n",
    "# Функция-компаратор, возвращающая значение по индексам\n",
    "def comparator(athlete):\n",
    "    return athlete[index_map[n]]\n",
    "\n",
    "\n",
    "athletes.sort(key=comparator)\n",
    "\n",
    "for i in athletes:\n",
    "    print(*i)"
   ],
   "metadata": {
    "collapsed": false,
    "ExecuteTime": {
     "end_time": "2024-08-26T05:56:31.815259300Z",
     "start_time": "2024-08-26T05:56:30.888384Z"
    }
   },
   "id": "b49e2ca1749dff7a"
  },
  {
   "cell_type": "code",
   "execution_count": 67,
   "outputs": [
    {
     "name": "stdout",
     "output_type": "stream",
     "text": [
      "Руслан 9 140 33\n",
      "Дима 10 130 35\n",
      "Рустам 10 128 30\n",
      "Тимур 11 135 39\n",
      "Петя 15 190 90\n",
      "Амир 16 170 70\n",
      "Рома 16 188 100\n",
      "Матвей 17 168 68\n"
     ]
    }
   ],
   "source": [
    "athletes = [('Дима', 10, 130, 35), ('Тимур', 11, 135, 39), ('Руслан', 9, 140, 33), ('Рустам', 10, 128, 30),\n",
    "            ('Амир', 16, 170, 70), ('Рома', 16, 188, 100), ('Матвей', 17, 168, 68), ('Петя', 15, 190, 90)]\n",
    "\n",
    "n = int(input())\n",
    "\n",
    "\n",
    "def comparator(athlete):\n",
    "    return athlete[n - 1]\n",
    "\n",
    "\n",
    "athletes.sort(key=comparator)\n",
    "for a in athletes:\n",
    "    print(*a)"
   ],
   "metadata": {
    "collapsed": false,
    "ExecuteTime": {
     "end_time": "2024-08-26T05:50:59.159918100Z",
     "start_time": "2024-08-26T05:50:57.041449200Z"
    }
   },
   "id": "939e1adc8a775727"
  },
  {
   "cell_type": "raw",
   "source": [
    "Напишите программу, которая принимает число и название функции, а выводит результат применения функции к данному числу.\n",
    "\n",
    "Список возможных функций:\n",
    "\n",
    "квадрат: функция принимает число и возвращает его квадрат;\n",
    "куб: функция принимает число и возвращает его куб;\n",
    "корень: функция принимает число и возвращает корень квадратный из этого числа;\n",
    "модуль: функция принимает число и возвращает его модуль;\n",
    "синус: функция принимает число (в радианах) и возвращает синус этого числа.\n",
    "\n",
    "Формат входных данных\n",
    "На вход программе подается целое число и название функции, записанные на отдельных строках.\n",
    "\n",
    "Формат выходных данных\n",
    "Программа должна выдать результат применения функции к числу.\n",
    "\n",
    "Примечание. Решите задачу без использования условного оператора."
   ],
   "metadata": {
    "collapsed": false
   },
   "id": "b638d3fafd1f4b9f"
  },
  {
   "cell_type": "code",
   "execution_count": 84,
   "outputs": [
    {
     "name": "stdout",
     "output_type": "stream",
     "text": [
      "3\n"
     ]
    }
   ],
   "source": [
    "from math import sin\n",
    "\n",
    "n = int(input())\n",
    "s = input()\n",
    "\n",
    "# n = -3\n",
    "# s = 'модуль'\n",
    "\n",
    "\n",
    "def square(number):\n",
    "    return number ** 2\n",
    "\n",
    "\n",
    "def cube(number):\n",
    "    return number ** 3\n",
    "\n",
    "\n",
    "def square(number):\n",
    "    return number ** 2\n",
    "\n",
    "\n",
    "def root(number):\n",
    "    return number ** 0.5\n",
    "\n",
    "\n",
    "def module(number):\n",
    "    return abs(number)\n",
    "\n",
    "\n",
    "def sinus(number):\n",
    "    return sin(number)\n",
    "\n",
    "\n",
    "index_map = {'квадрат': square, 'куб': cube, 'корень': root, 'модуль': module, 'синус': sinus}\n",
    "\n",
    "\n",
    "print(index_map[s](n))"
   ],
   "metadata": {
    "collapsed": false,
    "ExecuteTime": {
     "end_time": "2024-08-26T07:22:04.726438800Z",
     "start_time": "2024-08-26T07:22:04.722225100Z"
    }
   },
   "id": "4f2de375b6516a00"
  },
  {
   "cell_type": "raw",
   "source": [
    "На вход программе подается строка натуральных чисел. Из элементов строки формируется список чисел.\n",
    "\n",
    "Напишите программу сортировки списка чисел в порядке неубывания суммы их цифр. При этом, если два числа имеют одинаковую сумму цифр, следует сохранить их взаиморасположение в начальном списке.\n",
    "\n",
    "Формат входных данных\n",
    "На вход программе подается строка текста, содержащая натуральные числа, разделенные пробелами.\n",
    "\n",
    "Формат выходных данных\n",
    "Программа должна вывести отсортированный список чисел в соответствии с условием задачи, разделяя его элементы одним пробелом."
   ],
   "metadata": {
    "collapsed": false
   },
   "id": "23012f98f08d994d"
  },
  {
   "cell_type": "code",
   "execution_count": 100,
   "outputs": [
    {
     "name": "stdout",
     "output_type": "stream",
     "text": [
      "10 11 20 12 21 13 22 14 23 15 16 17 18 19\n"
     ]
    }
   ],
   "source": [
    "# s = input().split()\n",
    "s = '10 11 12 13 14 15 16 17 18 19 20 21 22 23'.split()\n",
    "\n",
    "def soso(x):\n",
    "    x = [int(i) for i in str(x)]\n",
    "    return  sum(x)\n",
    "\n",
    "s.sort(key=soso)\n",
    "\n",
    "print(*s)"
   ],
   "metadata": {
    "collapsed": false,
    "ExecuteTime": {
     "end_time": "2024-08-27T05:12:01.329703600Z",
     "start_time": "2024-08-27T05:12:01.326413Z"
    }
   },
   "id": "1a8068bda07e426e"
  },
  {
   "cell_type": "raw",
   "source": [
    "На вход программе подается строка натуральных чисел. Из элементов строки формируется список чисел.\n",
    "Напишите программу сортировки списка чисел в порядке неубывания суммы их цифр. При этом, если у двух чисел одинаковая сумма цифр, их следует вывести в порядке неубывания.\n",
    "На вход программе подается строка текста, содержащая натуральные числа, разделенные пробелами.\n",
    "Программа должна вывести отсортированный список чисел в соответствии с условием задачи, разделяя его элементы одним пробелом."
   ],
   "metadata": {
    "collapsed": false
   },
   "id": "c48382f801ba1504"
  },
  {
   "cell_type": "code",
   "execution_count": 115,
   "outputs": [
    {
     "name": "stdout",
     "output_type": "stream",
     "text": [
      "4 7 12 14 45 79 90 111 123 171\n",
      "12 111 4 14 123 7 45 90 171 79\n"
     ]
    }
   ],
   "source": [
    "# s = input().split()\n",
    "s = '111 14 79 7 4 123 90 45 12 171'.split()\n",
    "numbers = sorted(int(i) for i in s)\n",
    "\n",
    "# print(*numbers)\n",
    "\n",
    "def soso(x):\n",
    "    x = [int(i) for i in str(x)]\n",
    "    return  sum(x)\n",
    "\n",
    "numbers.sort(key=soso)\n",
    "\n",
    "print(*numbers)"
   ],
   "metadata": {
    "collapsed": false,
    "ExecuteTime": {
     "end_time": "2024-08-27T05:31:06.758720100Z",
     "start_time": "2024-08-27T05:31:06.747840Z"
    }
   },
   "id": "bc56fb67ad7f8eb0"
  },
  {
   "cell_type": "code",
   "execution_count": null,
   "outputs": [],
   "source": [
    "def comparator(n):\n",
    "    return sum([int(i) for i in str(n)]), n\n",
    "\n",
    "numbers = [int(i) for i in input().split()]\n",
    "\n",
    "print(*sorted(numbers, key=comparator))"
   ],
   "metadata": {
    "collapsed": false
   },
   "id": "cfdf514ec4aa88ba"
  }
 ],
 "metadata": {
  "kernelspec": {
   "display_name": "Python 3",
   "language": "python",
   "name": "python3"
  },
  "language_info": {
   "codemirror_mode": {
    "name": "ipython",
    "version": 2
   },
   "file_extension": ".py",
   "mimetype": "text/x-python",
   "name": "python",
   "nbconvert_exporter": "python",
   "pygments_lexer": "ipython2",
   "version": "2.7.6"
  }
 },
 "nbformat": 4,
 "nbformat_minor": 5
}
