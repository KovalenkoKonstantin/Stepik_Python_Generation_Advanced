{
 "cells": [
  {
   "cell_type": "raw",
   "source": [
    "Напишите функцию func, используя синтаксис анонимных функций, которая принимает целочисленный аргумент и возвращает значение True, если он делится без остатка на\n",
    "19 или на 13 и False в противном случае."
   ],
   "metadata": {
    "collapsed": false
   },
   "id": "31c7dcfb00890e2d"
  },
  {
   "cell_type": "code",
   "execution_count": 1,
   "outputs": [
    {
     "name": "stdout",
     "output_type": "stream",
     "text": [
      "True\n",
      "True\n",
      "False\n",
      "False\n",
      "True\n"
     ]
    }
   ],
   "source": [
    "func = lambda x: True if x % 19 == 0 or x % 13 == 0 else False\n",
    "\n",
    "print(func(19))\n",
    "print(func(13))\n",
    "print(func(20))\n",
    "print(func(15))\n",
    "print(func(247))"
   ],
   "metadata": {
    "collapsed": false,
    "ExecuteTime": {
     "end_time": "2024-08-29T08:28:40.661724200Z",
     "start_time": "2024-08-29T08:28:40.658689400Z"
    }
   },
   "id": "3f94bddcf117982"
  },
  {
   "cell_type": "raw",
   "source": [
    "Напишите функцию func, используя синтаксис анонимных функций, которая принимает строковый аргумент и возвращает значение True, если переданный аргумент начинается и заканчивается на английскую букву a (регистр буквы неважен) и False в противном случае."
   ],
   "metadata": {
    "collapsed": false
   },
   "id": "2a680014438b4515"
  },
  {
   "cell_type": "code",
   "execution_count": 13,
   "outputs": [
    {
     "name": "stdout",
     "output_type": "stream",
     "text": [
      "False\n",
      "False\n",
      "True\n",
      "False\n",
      "False\n",
      "True\n"
     ]
    }
   ],
   "source": [
    "func = lambda x: True if (x.startswith('a') or x.startswith('A')) and (x.endswith('a') or x.endswith('A')) else False\n",
    "func = lambda x: x.lower().startswith('a') and x.lower().endswith('a')\n",
    "func = lambda x: x[0] in 'aA' and x[-1] in 'aA'\n",
    "\n",
    "print(func('abcd'))\n",
    "print(func('bcda'))\n",
    "print(func('abcda'))\n",
    "print(func('Abcd'))\n",
    "print(func('bcdA'))\n",
    "print(func('abcdA'))"
   ],
   "metadata": {
    "collapsed": false,
    "ExecuteTime": {
     "end_time": "2024-08-29T08:46:19.216664700Z",
     "start_time": "2024-08-29T08:46:19.208817500Z"
    }
   },
   "id": "389a06184b0e9363"
  },
  {
   "cell_type": "raw",
   "source": [
    "Напишите функцию is_non_negative_num, используя синтаксис анонимных функций, которая принимает строковый аргумент и возвращает значение True, если переданный аргумент является неотрицательным числом (целым или вещественным), или False в противном случае."
   ],
   "metadata": {
    "collapsed": false
   },
   "id": "37414efbc225ddff"
  },
  {
   "cell_type": "code",
   "execution_count": 16,
   "outputs": [
    {
     "name": "stdout",
     "output_type": "stream",
     "text": [
      "False\n",
      "True\n",
      "False\n",
      "False\n",
      "True\n",
      "False\n",
      "False\n",
      "True\n"
     ]
    }
   ],
   "source": [
    "is_non_negative_num = lambda x: x.replace('.', '', 1).isdigit() and float(x) >= 0\n",
    "\n",
    "print(is_non_negative_num('10.34ab'))\n",
    "print(is_non_negative_num('10.45'))\n",
    "print(is_non_negative_num('-18'))\n",
    "print(is_non_negative_num('-34.67'))\n",
    "print(is_non_negative_num('987'))\n",
    "print(is_non_negative_num('abcd'))\n",
    "print(is_non_negative_num('123.122.12'))\n",
    "print(is_non_negative_num('123.122'))"
   ],
   "metadata": {
    "collapsed": false,
    "ExecuteTime": {
     "end_time": "2024-08-29T10:25:14.338265Z",
     "start_time": "2024-08-29T10:25:14.332585200Z"
    }
   },
   "id": "fb2caa3fc2190de4"
  },
  {
   "cell_type": "raw",
   "source": [
    "Напишите функцию is_num(), используя синтаксис анонимных функций, которая принимает строковый аргумент и возвращает значение True, если переданный аргумент является числом (целым или вещественным), или False в противном случае."
   ],
   "metadata": {
    "collapsed": false
   },
   "id": "754c7cd76af7a01f"
  },
  {
   "cell_type": "code",
   "execution_count": 45,
   "outputs": [
    {
     "name": "stdout",
     "output_type": "stream",
     "text": [
      "False\n",
      "True\n",
      "True\n",
      "True\n",
      "True\n",
      "False\n",
      "False\n",
      "True\n",
      "False\n"
     ]
    }
   ],
   "source": [
    "is_num = lambda x: x.replace('.', '', 1).replace('-', '').isdigit() and x.rfind('-') <= 0\n",
    "\n",
    "print(is_num('10.34ab'))\n",
    "print(is_num('10.45'))\n",
    "print(is_num('-18'))\n",
    "print(is_num('-34.67'))\n",
    "print(is_num('987'))\n",
    "print(is_num('abcd'))\n",
    "print(is_num('123.122.12'))\n",
    "print(is_num('-123.122'))\n",
    "print(is_num('--13.2'))"
   ],
   "metadata": {
    "collapsed": false,
    "ExecuteTime": {
     "end_time": "2024-08-29T10:41:43.295079300Z",
     "start_time": "2024-08-29T10:41:43.289989200Z"
    }
   },
   "id": "1fe576f00a0efb0a"
  },
  {
   "cell_type": "raw",
   "source": [
    "Напишите программу, которая с помощью встроенных функций filter() и sorted() выводит слова из списка words, имеющие длину ровно 6 символов. Слова следует вывести в алфавитном порядке на одной строке, разделив символом пробела.\n",
    "\n",
    "Примечание. Используйте анонимную функцию в качестве критерия фильтрации."
   ],
   "metadata": {
    "collapsed": false
   },
   "id": "4ed176beef09a01b"
  },
  {
   "cell_type": "code",
   "execution_count": 52,
   "outputs": [
    {
     "name": "stdout",
     "output_type": "stream",
     "text": [
      "abduct aboard abound abroad abrupt absent absorb accept access beside bestow betray beware beyond friday monday sunday\n",
      "abduct aboard abound abroad abrupt absent absorb accept access beside bestow betray beware beyond friday monday sunday\n"
     ]
    }
   ],
   "source": [
    "words = ['beverage', 'monday', 'abroad', 'bias', 'abuse', 'abolish', 'abuse', 'abuse', 'bid', 'wednesday', 'able',\n",
    "         'betray', 'accident', 'abduct', 'bigot', 'bet', 'abandon', 'besides', 'access', 'friday', 'bestow', 'abound',\n",
    "         'absent', 'beware', 'abundant', 'abnormal', 'aboard', 'about', 'accelerate', 'abort', 'thursday', 'tuesday',\n",
    "         'sunday', 'berth', 'beyond', 'benevolent', 'abate', 'abide', 'bicycle', 'beside', 'accept', 'berry',\n",
    "         'bewilder', 'abrupt', 'saturday', 'accessory', 'absorb']\n",
    "\n",
    "words = list(filter(lambda x: len(x) == 6, words))\n",
    "words = list(sorted(words))\n",
    "print(*words, sep=' ')\n",
    "\n",
    "print(*sorted(filter(lambda x: len(x) == 6, words)))"
   ],
   "metadata": {
    "collapsed": false,
    "ExecuteTime": {
     "end_time": "2024-08-29T10:48:08.006052500Z",
     "start_time": "2024-08-29T10:48:08.003210700Z"
    }
   },
   "id": "b14c6b2910332d35"
  },
  {
   "cell_type": "raw",
   "source": [
    "Напишите программу, которая с помощью встроенных функций map() и filter() пошагово: \n",
    "\n",
    "1) Удаляет из списка numbers все нечетные элементы, большие 47;\n",
    "\n",
    "2) Делит все четные элементы нацело на 2 (целочисленное деление – //).\n",
    "\n",
    "Полученные числа следует вывести на одной строке, разделив символом пробела и сохранив исходный порядок.\n",
    "\n",
    "Примечание. Используйте анонимную функцию в качестве критерия фильтрации."
   ],
   "metadata": {
    "collapsed": false
   },
   "id": "4483ac3f2237b247"
  },
  {
   "cell_type": "code",
   "execution_count": 63,
   "outputs": [
    {
     "name": "stdout",
     "output_type": "stream",
     "text": [
      "23 17 17 28 13 1 3 41 37 40 27 47 17 50 18 33 33 41 40 40 20 17 16 8 5 8 20 18 4 19 4 33 21 36 16 41 35 32 39 27 43 35 24 17 19 20 45 28 40 45 27 13 3 2 23 26 39 37 15 33 29 44 47 37 22 1 19 18 16 5 33 30 47 4 18 47 23 33\n",
      "23 17 17 28 13 1 3 41 37 40 27 47 17 50 18 33 33 41 40 40 20 17 16 8 5 8 20 18 4 19 4 33 21 36 16 41 35 32 39 27 43 35 24 17 19 20 45 28 40 45 27 13 3 2 23 26 39 37 15 33 29 44 47 37 22 1 19 18 16 5 33 30 47 4 18 47 23 33\n"
     ]
    }
   ],
   "source": [
    "numbers = [46, 61, 34, 17, 56, 26, 93, 1, 3, 82, 71, 37, 80, 27, 77, 94, 34, 100, 36, 81, 33, 81, 66, 83, 41, 80, 80, 93, 40, 34, 32, 16, 5, 16, 40, 93, 36, 65, 8, 19, 8, 75, 66, 21, 72, 32, 41, 59, 35, 64, 49, 78, 83, 27, 57, 53, 43, 35, 48, 17, 19, 40, 90, 57, 77, 56, 80, 95, 90, 27, 26, 6, 4, 23, 52, 39, 63, 74, 15, 66, 29, 88, 94, 37, 44, 2, 38, 36, 32, 49, 5, 33, 60, 94, 89, 8, 36, 94, 46, 33]\n",
    "\n",
    "numbers1 = list(filter(lambda x: not (x > 47 and x % 2 != 0), numbers))\n",
    "numbers2 = list(map(lambda x: x // 2 if x % 2==0 else x, numbers1))\n",
    "\n",
    "print(*numbers2, sep=' ')\n",
    "\n",
    "print(*map(lambda x: [x // 2, x][x % 2], filter(lambda x: x < 48 or not x % 2, numbers)))"
   ],
   "metadata": {
    "collapsed": false,
    "ExecuteTime": {
     "end_time": "2024-08-29T11:23:21.960088100Z",
     "start_time": "2024-08-29T11:23:21.951827300Z"
    }
   },
   "id": "7a2a8740719c1a23"
  },
  {
   "cell_type": "raw",
   "source": [
    "Список data содержит информацию о численности населения некоторых штатов США. Напишите программу сортировки по убыванию списка data на основании последнего символа в названии штата. Затем распечатайте элементы этого списка, каждый на новой строке в формате:\n",
    "\n",
    "<название штата>: <численность населения>\n",
    "\n",
    "Vermont: 626299\n",
    "Massachusetts: 7029917\n",
    "...\n",
    "Примечание 1. Сортировка производится в лексикографическом порядке (по алфавиту) по убыванию на основании последнего символа в названии штата. При этом, если два штата имеют одинаковый последний символ, следует сохранить их взаиморасположение в начальном списке.\n",
    "\n",
    "Примечание 2. Используйте анонимную функцию в качестве критерия сортировки."
   ],
   "metadata": {
    "collapsed": false
   },
   "id": "7c320f8dc054407f"
  },
  {
   "cell_type": "code",
   "execution_count": 64,
   "outputs": [
    {
     "name": "stdout",
     "output_type": "stream",
     "text": [
      "Vermont: 626299\n",
      "Massachusetts: 7029917\n",
      "Ohio: 11799448\n",
      "Michigan: 10077331\n",
      "Washington: 7705281\n",
      "New York: 19542209\n",
      "Hawaii: 1420491\n",
      "Tennessee: 6910840\n",
      "Alabama: 4887871\n",
      "West Virginia: 1805832\n",
      "California: 39865590\n",
      "Georgia: 10711908\n",
      "Virginia: 10439388\n",
      "Arizona: 7151502\n"
     ]
    }
   ],
   "source": [
    "data = [(19542209, 'New York'), (4887871, 'Alabama'), (1420491, 'Hawaii'), (626299, 'Vermont'), (1805832, 'West Virginia'), (39865590, 'California'), (11799448, 'Ohio'), (10711908, 'Georgia'), (10077331, 'Michigan'), (10439388, 'Virginia'), (7705281, 'Washington'), (7151502, 'Arizona'), (7029917, 'Massachusetts'), (6910840, 'Tennessee')]\n",
    "\n",
    "# Сортировка данных по убыванию на основании последнего символа в названии штата\n",
    "sorted_data = sorted(data, key=lambda x: x[1][-1], reverse=True)\n",
    "\n",
    "# Вывод результата в нужном формате\n",
    "for population, state in sorted_data:\n",
    "    print(f\"{state}: {population}\")"
   ],
   "metadata": {
    "collapsed": false,
    "ExecuteTime": {
     "end_time": "2024-08-29T11:25:46.082043800Z",
     "start_time": "2024-08-29T11:25:46.075069Z"
    }
   },
   "id": "32535674e61fb2f4"
  },
  {
   "cell_type": "raw",
   "source": [
    "Список data содержит слова на русском языке. Напишите программу, которая сортирует этот список по возрастанию длины слов. В случае, если длины каких-то слов совпадают, – отсортировать эти слова в лексикографическом порядке. Отсортированные слова следует вывести на одной строке, разделив символом пробела.\n",
    "\n",
    "Примечание 1. Используйте анонимную функцию в качестве критерия сортировки."
   ],
   "metadata": {
    "collapsed": false
   },
   "id": "50564045e85538ad"
  },
  {
   "cell_type": "code",
   "execution_count": 65,
   "outputs": [
    {
     "name": "stdout",
     "output_type": "stream",
     "text": [
      "вид год дом мир раз глаз дело день друг лицо рука сила время город жизнь конец место слово часть вопрос голова деньги работа случай страна женщина ребенок система сторона человек отношение\n"
     ]
    }
   ],
   "source": [
    "data = ['год', 'человек', 'время', 'дело', 'жизнь', 'день', 'рука', 'раз', 'работа', 'слово', 'место', 'лицо', 'друг', 'глаз', 'вопрос', 'дом', 'сторона', 'страна', 'мир', 'случай', 'голова', 'ребенок', 'сила', 'конец', 'вид', 'система', 'часть', 'город', 'отношение', 'женщина', 'деньги']\n",
    "\n",
    "# Сортировка данных по длине слов, затем лексикографически\n",
    "sorted_data = sorted(data, key=lambda x: (len(x), x))\n",
    "\n",
    "# Вывод результата на одной строке, разделив пробелами\n",
    "print(\" \".join(sorted_data))"
   ],
   "metadata": {
    "collapsed": false,
    "ExecuteTime": {
     "end_time": "2024-08-29T11:28:15.215476400Z",
     "start_time": "2024-08-29T11:28:15.210489500Z"
    }
   },
   "id": "2546d54082f47af9"
  },
  {
   "cell_type": "raw",
   "source": [
    "Список mixed_list содержит целочисленные и строковые значения. Напишите программу, которая с помощью встроенной функции max() находит и выводит наибольшее числовое значение в указанном списке.\n",
    "\n",
    "Примечание 1. Для решения задачи используйте анонимную функцию и необязательный аргумент key  функции max().\n",
    "\n",
    "Примечание 2. Обратите внимание, что сравнивать числа и строки нельзя."
   ],
   "metadata": {
    "collapsed": false
   },
   "id": "8c6d598826571e42"
  },
  {
   "cell_type": "code",
   "execution_count": 68,
   "outputs": [
    {
     "name": "stdout",
     "output_type": "stream",
     "text": [
      "2950603\n"
     ]
    }
   ],
   "source": [
    "mixed_list = ['tuesday', 'abroad', 'abuse', 'beside', 'monday', 'abate', 'accessory', 'absorb', 1384878, 'sunday', 'about', 454805, 'saturday', 'abort', 2121919, 2552839, 977970, 1772933, 1564063, 'abduct', 901271, 2680434, 'bicycle', 'accelerate', 1109147, 942908, 'berry', 433507, 'bias', 'bestow', 1875665, 'besides', 'bewilder', 1586517, 375290, 1503450, 2713047, 'abnormal', 2286106, 242192, 701049, 2866491, 'benevolent', 'bigot', 'abuse', 'abrupt', 343772, 'able', 2135748, 690280, 686008, 'beyond', 2415643, 'aboard', 'bet', 859105, 'accident', 2223166, 894187, 146564, 1251748, 2851543, 1619426, 2263113, 1618068, 'berth', 'abolish', 'beware', 2618492, 1555062, 'access', 'absent', 'abundant', 2950603, 'betray', 'beverage', 'abide', 'abandon', 2284251, 'wednesday', 2709698, 'thursday', 810387, 'friday', 2576799, 2213552, 1599022, 'accept', 'abuse', 'abound', 1352953, 'bid', 1805326, 1499197, 2241159, 605320, 2347441]\n",
    "\n",
    "# Используем max() с анонимной функцией в качестве ключа\n",
    "max_value = max(mixed_list, key=lambda x: x if isinstance(x, int) else float('-inf'))\n",
    "\n",
    "# Вывод максимального значения\n",
    "print(max_value)"
   ],
   "metadata": {
    "collapsed": false,
    "ExecuteTime": {
     "end_time": "2024-08-29T11:33:08.919075300Z",
     "start_time": "2024-08-29T11:33:08.909782600Z"
    }
   },
   "id": "1e5732747ba836f0"
  },
  {
   "cell_type": "raw",
   "source": [
    "Список mixed_list содержит целочисленные и строковые значения. Напишите программу его сортировки по неубыванию значений элементов, при этом числа должны следовать до строк.  Элементы отсортированного списка выведите на одной строке, разделив символом пробела.\n",
    "\n",
    "Примечание 1. Для решения задачи используйте анонимную функцию и необязательный аргумент key  функции sorted().\n",
    "\n",
    "Примечание 2. Если бы список mixed_list содержал значения:\n",
    "\n",
    "mixed_list = ['a', 'ab', 3, 5, 1, 8, 0, 'c', 'ac', 'aab']\n",
    "то результатом работы программы должно быть:\n",
    "\n",
    "0 1 3 5 8 a aab ab ac c"
   ],
   "metadata": {
    "collapsed": false
   },
   "id": "76f9a75c35fadfe5"
  },
  {
   "cell_type": "code",
   "execution_count": 73,
   "outputs": [
    {
     "name": "stdout",
     "output_type": "stream",
     "text": [
      "10 11 12 12 13 13 13 14 15 19 20 20 26 26 26 28 35 36 37 38 40 40 41 41 46 46 47 48 50 51 60 64 65 65 66 67 70 75 76 76 76 78 80 87 89 94 95 95 98 99 abandon abate abduct abide able abnormal aboard abort abound about abrupt absent absorb abundant abuse accelerate accept access accessory accident benevolent berry berth beside besides bestow bet betray beware bewilder beyond bicycle bid bigot friday saturday sunday thursday tuesday wednesday\n"
     ]
    }
   ],
   "source": [
    "mixed_list = ['beside', 48, 'accelerate', 28, 'beware', 'absorb', 'besides', 'berry', 15, 65, 'abate', 'thursday', 76, 70, 94, 35, 36, 'berth', 41, 'abnormal', 'bicycle', 'bid', 'sunday', 'saturday', 87, 'bigot', 41, 'abort', 13, 60, 'friday', 26, 13, 'accident', 'access', 40, 26, 20, 75, 13, 40, 67, 12, 'abuse', 78, 10, 80, 'accessory', 20, 'bewilder', 'benevolent', 'bet', 64, 38, 65, 51, 95, 'abduct', 37, 98, 99, 14, 'abandon', 'accept', 46, 'abide', 'beyond', 19, 'about', 76, 26, 'abound', 12, 95, 'wednesday', 'abundant', 'abrupt', 'aboard', 50, 89, 'tuesday', 66, 'bestow', 'absent', 76, 46, 'betray', 47, 'able', 11]\n",
    "\n",
    "# Сортировка и вывод\n",
    "sorted_list = sorted(mixed_list, key=lambda x: (isinstance(x, str), x))\n",
    "# Это позволяет сортировать все числовые значения перед строками (поскольку `False < True`)\n",
    "# `x` — само значение, которое следует использовать для сортировки среди тех, которые имеют одинаковый тип (либо все числа, либо все строки)\n",
    "# Вывод результата на одной строке, разделив пробелами\n",
    "# print(\" \".join(map(str, sorted_list)))\n",
    "print(*sorted_list)"
   ],
   "metadata": {
    "collapsed": false,
    "ExecuteTime": {
     "end_time": "2024-08-29T12:33:27.737864300Z",
     "start_time": "2024-08-29T12:33:27.727891200Z"
    }
   },
   "id": "c8d2d4760a03ecd1"
  },
  {
   "cell_type": "raw",
   "source": [
    "В цветовой схеме RGB цвета задаются с помощью трех компонентов:\n",
    "\n",
    "R — интенсивность красной составляющей цвета;\n",
    "G — интенсивность зеленой составляющей цвета;\n",
    "B — интенсивность синей составляющей цвета.\n",
    "Противоположные цвета задаются как RGB и (255-R)(255-G)(255-B). Считается, что такие цвета хорошо гармонируют друг с другом.\n",
    "\n",
    "Напишите программу, которая по трем компонентам заданного цвета, находит компоненты противоположного цвета. \n",
    "\n",
    "Формат входных данных\n",
    "На вход программе подается строка, содержащая три целых неотрицательных числа, компоненты R, G и B начального цвета,  разделенные символом пробела.\n",
    "\n",
    "Формат выходных данных\n",
    "Программа должна вывести три компонента R, G и B противоположного цвета, разделенные символом пробела.\n",
    "\n",
    "Примечание. Попробуйте решить задачу в одну строку с помощью встроенной функции map()."
   ],
   "metadata": {
    "collapsed": false
   },
   "id": "c2a9c14343fac962"
  },
  {
   "cell_type": "code",
   "execution_count": null,
   "outputs": [],
   "source": [
    "print(\" \".join(map(str, (255 - int(c) for c in input().split()))))"
   ],
   "metadata": {
    "collapsed": false
   },
   "id": "6c3cd15864bfe408"
  },
  {
   "cell_type": "raw",
   "source": [
    "Многочленом степени n называется выражение вида \n",
    "an*x в степени n + an-1*x в степени (n-1)+...+a2*x в степени 2 + a1*x+a0\n",
    "где  an, an-1, ..., a2, a1, a0  — коэффициенты многочлена (an!=0).\n",
    "\n",
    "На вход программе на первой строке подаются коэффициенты многочлена, разделенные символом пробела и целое число x на второй строке. Напишите программу, которая вычисляет значение указанного многочлена при заданном значении x.\n",
    "\n",
    "Формат входных данных\n",
    "На вход программе на первой строке подаются коэффициенты многочлена (целые числа), разделенные символом пробела и целое число x на второй строке.\n",
    "\n",
    "Формат выходных данных\n",
    "Программа должна вывести одно число — значение указанного многочлена при заданном значении x.\n",
    "\n",
    "Примечание 1. Первый тест задает многочлен \n",
    "2x в степени 2+4x+3, второй тест задает многочлен \n",
    "x в степени 6+2x в степени 5+3x в степени 4+4x в степени 3+5x в степени2 +6x+7.\n",
    "\n",
    "Примечание 2. Решение задачи необходимо оформить в виде функции evaluate(coefficients, x), которая принимает список коэффициентов и значение аргумента. Функция evaluate() должна быть реализована на основе встроенных функций map() и reduce().\n",
    "\n",
    "Примечание 3. Не забудьте вызвать функцию evaluate(), чтобы вывести результат 😀."
   ],
   "metadata": {
    "collapsed": false
   },
   "id": "ca381e4c94d3a6e2"
  },
  {
   "cell_type": "code",
   "execution_count": null,
   "outputs": [],
   "source": [
    "from functools import reduce\n",
    "\n",
    "def evaluate(coefficients, x):\n",
    "    # Переводим строковые коэффициенты в целые числа\n",
    "    coefficients = list(map(int, coefficients))\n",
    "    \n",
    "    # Используем reduce для вычисления значения многочлена\n",
    "    result = reduce(lambda acc, coeff: acc * x + coeff, coefficients)\n",
    "    \n",
    "    return result\n",
    "\n",
    "# Чтение входных данных\n",
    "coefficients = input().strip().split()\n",
    "x = int(input().strip())\n",
    "\n",
    "# Вычисление и вывод результата\n",
    "print(evaluate(coefficients, x))"
   ],
   "metadata": {
    "collapsed": false
   },
   "id": "4d7af14af334508a"
  }
 ],
 "metadata": {
  "kernelspec": {
   "display_name": "Python 3",
   "language": "python",
   "name": "python3"
  },
  "language_info": {
   "codemirror_mode": {
    "name": "ipython",
    "version": 2
   },
   "file_extension": ".py",
   "mimetype": "text/x-python",
   "name": "python",
   "nbconvert_exporter": "python",
   "pygments_lexer": "ipython2",
   "version": "2.7.6"
  }
 },
 "nbformat": 4,
 "nbformat_minor": 5
}
