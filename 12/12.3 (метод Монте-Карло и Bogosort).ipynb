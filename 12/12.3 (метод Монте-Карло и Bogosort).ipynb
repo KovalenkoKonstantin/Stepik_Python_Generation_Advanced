{
 "cells": [
  {
   "cell_type": "code",
   "execution_count": 8,
   "id": "initial_id",
   "metadata": {
    "collapsed": true,
    "ExecuteTime": {
     "end_time": "2024-07-30T09:15:36.192444100Z",
     "start_time": "2024-07-30T09:15:33.143747800Z"
    }
   },
   "outputs": [
    {
     "name": "stdout",
     "output_type": "stream",
     "text": [
      "Walk size =  1  / % of no transport =  100.0\n",
      "Walk size =  2  / % of no transport =  100.0\n",
      "Walk size =  3  / % of no transport =  100.0\n",
      "Walk size =  4  / % of no transport =  100.0\n",
      "Walk size =  5  / % of no transport =  87.91\n",
      "Walk size =  6  / % of no transport =  93.72500000000001\n",
      "Walk size =  7  / % of no transport =  76.315\n",
      "Walk size =  8  / % of no transport =  86.235\n",
      "Walk size =  9  / % of no transport =  66.8\n",
      "Walk size =  10  / % of no transport =  79.31\n",
      "Walk size =  11  / % of no transport =  60.14000000000001\n",
      "Walk size =  12  / % of no transport =  72.52\n",
      "Walk size =  13  / % of no transport =  54.02\n",
      "Walk size =  14  / % of no transport =  67.17\n",
      "Walk size =  15  / % of no transport =  48.745\n",
      "Walk size =  16  / % of no transport =  62.739999999999995\n",
      "Walk size =  17  / % of no transport =  44.330000000000005\n",
      "Walk size =  18  / % of no transport =  58.13\n",
      "Walk size =  19  / % of no transport =  40.505\n",
      "Walk size =  20  / % of no transport =  54.675\n",
      "Walk size =  21  / % of no transport =  37.925\n",
      "Walk size =  22  / % of no transport =  50.39\n",
      "Walk size =  23  / % of no transport =  35.365\n",
      "Walk size =  24  / % of no transport =  47.8\n",
      "Walk size =  25  / % of no transport =  33.255\n",
      "Walk size =  26  / % of no transport =  44.935\n",
      "Walk size =  27  / % of no transport =  30.72\n",
      "Walk size =  28  / % of no transport =  42.935\n",
      "Walk size =  29  / % of no transport =  29.095\n",
      "Walk size =  30  / % of no transport =  40.765\n"
     ]
    }
   ],
   "source": [
    "import random\n",
    "\n",
    "\n",
    "def random_walk_2(n):\n",
    "    \"\"\"Return coordinates after 'n' block random walk\"\"\"\n",
    "    x, y = 0, 0\n",
    "    for i in range(n):\n",
    "        (dx, dy) = random.choice([(0, 1), (0, -1), (1, 0), (-1, 0)])\n",
    "        x += dx\n",
    "        y += dy\n",
    "    return (x, y)\n",
    "\n",
    "\n",
    "number_of_walks = 20_000\n",
    "\n",
    "for walk_length in range(1, 31):\n",
    "    no_transport = 0  # Number of walks 4 or fewer blocks from home\n",
    "    for i in range(number_of_walks):\n",
    "        (x, y) = random_walk_2(walk_length)\n",
    "        distance = abs(x) + abs(y)\n",
    "        if distance <= 4:\n",
    "            no_transport += 1\n",
    "    no_transport_percentage = float(no_transport) / number_of_walks\n",
    "    print('Walk size = ', walk_length,\n",
    "          ' / % of no transport = ', 100 * no_transport_percentage)"
   ]
  },
  {
   "cell_type": "markdown",
   "source": [
    "Метод Монте-Карло"
   ],
   "metadata": {
    "collapsed": false
   },
   "id": "dbf490e8f1c7bf7"
  },
  {
   "cell_type": "raw",
   "source": [
    "Метод Монте-Карло – группа численных методов, основанных на воспроизведении и статистическом анализе большого числа реализаций случайного процесса. Проводится математическое моделирование случайных процессов и параметры их реализации оцениваются статистически. Метод лежит в основе статистического моделирования."
   ],
   "metadata": {
    "collapsed": false
   },
   "id": "f45cf41c8dd3bfb3"
  },
  {
   "cell_type": "raw",
   "source": [
    "Метод Монте-Карло часто называют методом статистических испытаний."
   ],
   "metadata": {
    "collapsed": false
   },
   "id": "cebd086f471d3153"
  },
  {
   "cell_type": "code",
   "execution_count": 16,
   "outputs": [
    {
     "name": "stdout",
     "output_type": "stream",
     "text": [
      "0.343\n"
     ]
    }
   ],
   "source": [
    "import random\n",
    "\n",
    "n = 1_000\n",
    "k = 0\n",
    "s0 = 1\n",
    "for _ in range(n):\n",
    "    x = random.uniform(0, 1)  # случайное число с плавающей точкой от 0 до 1\n",
    "    y = random.uniform(0, 1)  # случайное число с плавающей точкой от 0 до 1\n",
    "\n",
    "    if y <= x ** 2:  # если попадает в нужную область\n",
    "        k += 1\n",
    "\n",
    "print((k / n) * s0)"
   ],
   "metadata": {
    "collapsed": false,
    "ExecuteTime": {
     "end_time": "2024-07-30T09:37:39.215214900Z",
     "start_time": "2024-07-30T09:37:39.211167500Z"
    }
   },
   "id": "f1e2dbe6ccbbac70"
  },
  {
   "cell_type": "code",
   "execution_count": null,
   "outputs": [],
   "source": [
    "import random  # Импортируем модуль random для генерации случайных чисел\n",
    "\n",
    "n = 1000  # Количество случайных точек, которые мы будем генерировать\n",
    "k = 0  # Счетчик для учета точек, которые удовлетворяют данным условиям\n",
    "s0 = 16  # Константа, которая будет использована для вычисления итогового значения\n",
    "\n",
    "# Генерируем n случайных точек (x, y) в квадрате с вершинами (-2, -2) и (2, 2)\n",
    "for _ in range(n):\n",
    "    x = random.uniform(-2, 2)  # Генерируем случайное x от -2 до 2\n",
    "    y = random.uniform(-2, 2)  # Генерируем случайное y от -2 до 2\n",
    "\n",
    "    # Проверяем, удовлетворяет ли точка (x, y) двум условиям\n",
    "    if y ** 3 - 2 * x ** 2 <= -1 and 2 * y + x ** 3 <= 3:\n",
    "        k += 1  # Если точка удовлетворяет условиям, увеличиваем счетчик k\n",
    "\n",
    "# Вычисляем и выводим удельную площадь (k/n) умноженную на s0\n",
    "print((k / n) * s0)"
   ],
   "metadata": {
    "collapsed": false
   },
   "id": "221ecd9bf0517171"
  },
  {
   "cell_type": "raw",
   "source": [
    "Напишите программу, которая при помощи метода Монте-Карло вычисляет площадь фигуры, задаваемой с помощью системы неравенств:\n",
    "\n",
    "{  \n",
    "−2≤x≤2\n",
    "−2≤y≤2\n",
    "x в степени 3 +y в степени 4 +2≥0\n",
    "3x+y в степени 2  ≤2\n",
    "import random\n",
    "\n",
    "n = 10**6       # количество испытаний"
   ],
   "metadata": {
    "collapsed": false
   },
   "id": "1b84ad863a4ca4f3"
  },
  {
   "cell_type": "code",
   "execution_count": 17,
   "outputs": [
    {
     "name": "stdout",
     "output_type": "stream",
     "text": [
      "Приближенная площадь фигуры: 7.138944\n"
     ]
    }
   ],
   "source": [
    "import random\n",
    "\n",
    "# Задаем количество испытаний\n",
    "n = 10 ** 6  # Количество случайных точек для генерации\n",
    "k = 0  # Счетчик точек, попадающих внутрь фигуры\n",
    "\n",
    "# Генерируем n случайных точек (x, y) в квадрате от (-2, -2) до (2, 2)\n",
    "for _ in range(n):\n",
    "    x = random.uniform(-2, 2)  # Генерация случайного x\n",
    "    y = random.uniform(-2, 2)  # Генерация случайного y\n",
    "\n",
    "    # Проверка условий неравенств\n",
    "    if (x ** 3 + y ** 4 + 2 >= 0) and (3 * x + y ** 2 <= 2):\n",
    "        k += 1  # Увеличиваем счетчик, если точка попадает внутрь фигуры\n",
    "\n",
    "# Площадь исследуемой области (квадрат со сторонами 4)\n",
    "area_square = (4) * (4)  # Площадь квадрата 4 * 4 = 16\n",
    "\n",
    "# Приближенная площадь фигуры будет равна:\n",
    "area_figure = (k / n) * area_square\n",
    "\n",
    "print(f'Приближенная площадь фигуры: {area_figure}')"
   ],
   "metadata": {
    "collapsed": false,
    "ExecuteTime": {
     "end_time": "2024-07-30T09:54:23.888461800Z",
     "start_time": "2024-07-30T09:54:23.139118300Z"
    }
   },
   "id": "7d9a40b5ec4c26ae"
  },
  {
   "cell_type": "code",
   "execution_count": 18,
   "outputs": [
    {
     "name": "stdout",
     "output_type": "stream",
     "text": [
      "3.141592653589793\n"
     ]
    }
   ],
   "source": [
    "import math\n",
    "\n",
    "print(math.pi)"
   ],
   "metadata": {
    "collapsed": false,
    "ExecuteTime": {
     "end_time": "2024-07-30T10:02:29.057235500Z",
     "start_time": "2024-07-30T10:02:29.049735300Z"
    }
   },
   "id": "26bb267c3ad97ded"
  },
  {
   "cell_type": "raw",
   "source": [
    "Напишите программу, которая при помощи метода Монте-Карло определяет приближённое значение числа π.\n",
    "\n",
    "Уравнение единичной окружности имеет вид \n",
    "x2+y2=1\n",
    "\n",
    "import random\n",
    "\n",
    "n = 10**6       # количество испытаний"
   ],
   "metadata": {
    "collapsed": false
   },
   "id": "e4ddc97850dec06c"
  },
  {
   "cell_type": "code",
   "execution_count": null,
   "outputs": [],
   "source": [
    "import random\n",
    "\n",
    "n = 10 ** 6\n",
    "S = 4\n",
    "k = 0\n",
    "\n",
    "for _ in range(n):\n",
    "    x = random.uniform(-1, 1)\n",
    "    y = random.uniform(-1, 1)\n",
    "    if x ** 2 + y ** 2 <= 1:\n",
    "        k += 1\n",
    "\n",
    "print((k / n) * S)"
   ],
   "metadata": {
    "collapsed": false
   },
   "id": "82b7523bbb9b8013"
  },
  {
   "cell_type": "raw",
   "source": [
    "Болотная сортировка\n",
    "Болотная сортировка (Bogosort) — неэффективный алгоритм сортировки, используемый только в образовательных целях и противопоставляемый другим, более реалистичным алгоритмам.\n",
    "\n",
    "Принцип работы алгоритма прост, как плесень. Перетряхиваем список случайным образом до тех пор пока он внезапно не отсортируется. Процесс может счастливо завершиться сразу, а может длиться до тепловой смерти Вселенной. Это уж как повезёт.\n",
    "\n",
    "   Bogo sort is the fastest sort if you're very lucky."
   ],
   "metadata": {
    "collapsed": false
   },
   "id": "ec6e9f473598f6db"
  },
  {
   "cell_type": "code",
   "execution_count": null,
   "outputs": [],
   "source": [
    "import random\n",
    "\n",
    "def is_sort(nums):                   # отсортирован ли список?\n",
    "    for i in range(len(nums) - 1):\n",
    "        if nums[i] > nums[i + 1]:\n",
    "            return False\n",
    "    return True\n",
    "\n",
    "def bogosort(nums):                  # реализация алгоритма болотной сортировки\n",
    "    while not is_sort(nums):\n",
    "        random.shuffle(nums)\n",
    "    return nums\n",
    "\n",
    "numbers = list(range(10))\n",
    "random.shuffle(numbers)              # перемешиваем начальный список\n",
    "print(numbers)                       # выводим начальный список\n",
    "\n",
    "sorted_numbers = bogosort(numbers)\n",
    "\n",
    "print(sorted_numbers)                # выводим отсортированный список"
   ],
   "metadata": {
    "collapsed": false
   },
   "id": "d8b858ef1eba3cfb"
  }
 ],
 "metadata": {
  "kernelspec": {
   "display_name": "Python 3",
   "language": "python",
   "name": "python3"
  },
  "language_info": {
   "codemirror_mode": {
    "name": "ipython",
    "version": 2
   },
   "file_extension": ".py",
   "mimetype": "text/x-python",
   "name": "python",
   "nbconvert_exporter": "python",
   "pygments_lexer": "ipython2",
   "version": "2.7.6"
  }
 },
 "nbformat": 4,
 "nbformat_minor": 5
}
