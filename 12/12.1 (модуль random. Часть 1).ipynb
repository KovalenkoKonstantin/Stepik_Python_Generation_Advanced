{
 "cells": [
  {
   "cell_type": "code",
   "execution_count": 1,
   "outputs": [],
   "source": [
    "import random\n",
    "\n",
    "num1 = random.randint(0, 17)\n",
    "num2 = random.randint(-5, 5)"
   ],
   "metadata": {
    "collapsed": false,
    "ExecuteTime": {
     "end_time": "2024-07-29T08:15:35.878659600Z",
     "start_time": "2024-07-29T08:15:35.876586Z"
    }
   },
   "id": "dce6f4e53ef493a9"
  },
  {
   "cell_type": "raw",
   "source": [
    "Левая и правая граница a и b включаются в диапазон генерируемых псевдослучайных чисел. Результатом вызова функции random.randint(2, 9) может быть любое число от 2 до 9, включая 2 и 9."
   ],
   "metadata": {
    "collapsed": false
   },
   "id": "a9c70cf8db084e18"
  },
  {
   "cell_type": "code",
   "execution_count": 9,
   "outputs": [
    {
     "name": "stdout",
     "output_type": "stream",
     "text": [
      "100\n",
      "78\n",
      "9\n",
      "27\n",
      "70\n",
      "9\n",
      "86\n",
      "45\n",
      "12\n",
      "77\n"
     ]
    }
   ],
   "source": [
    "import random\n",
    "\n",
    "for _ in range(10):\n",
    "    print(random.randint(1, 100))"
   ],
   "metadata": {
    "collapsed": false,
    "ExecuteTime": {
     "end_time": "2024-07-29T08:16:21.440141300Z",
     "start_time": "2024-07-29T08:16:21.436880300Z"
    }
   },
   "id": "71128583b9278987"
  },
  {
   "cell_type": "raw",
   "source": [
    "Среди этих чисел возможны повторения."
   ],
   "metadata": {
    "collapsed": false
   },
   "id": "39f01fcd7d3fee97"
  },
  {
   "cell_type": "code",
   "execution_count": 10,
   "outputs": [
    {
     "name": "stdout",
     "output_type": "stream",
     "text": [
      "9\n"
     ]
    }
   ],
   "source": [
    "import random\n",
    "\n",
    "num = random.randrange(10)\n",
    "print(num)"
   ],
   "metadata": {
    "collapsed": false,
    "ExecuteTime": {
     "end_time": "2024-07-29T08:17:25.382255500Z",
     "start_time": "2024-07-29T08:17:25.378286800Z"
    }
   },
   "id": "68d17c4ebd151f0d"
  },
  {
   "cell_type": "raw",
   "source": [
    "Аргумент 10 задает конечный предел последовательности значений. Функция возвратит случайно выбранное число из последовательности чисел от 0 до конечного предела, исключая сам предел."
   ],
   "metadata": {
    "collapsed": false
   },
   "id": "631abe2eec5c0883"
  },
  {
   "cell_type": "code",
   "execution_count": 11,
   "outputs": [],
   "source": [
    "import random\n",
    "\n",
    "num = random.randrange(5, 10)"
   ],
   "metadata": {
    "collapsed": false,
    "ExecuteTime": {
     "end_time": "2024-07-29T08:18:06.109145100Z",
     "start_time": "2024-07-29T08:18:06.101484500Z"
    }
   },
   "id": "ac16e81323a9dc67"
  },
  {
   "cell_type": "code",
   "execution_count": 12,
   "outputs": [
    {
     "name": "stdout",
     "output_type": "stream",
     "text": [
      "0\n"
     ]
    }
   ],
   "source": [
    "import random\n",
    "\n",
    "num = random.randrange(0, 101, 10)\n",
    "print(num)"
   ],
   "metadata": {
    "collapsed": false,
    "ExecuteTime": {
     "end_time": "2024-07-29T08:18:18.085958800Z",
     "start_time": "2024-07-29T08:18:18.083452800Z"
    }
   },
   "id": "1d95bcdc48b0eb66"
  },
  {
   "cell_type": "raw",
   "source": [
    "Функции randint() и randrange() возвращают псевдослучайное целое число. А вот функция random() возвращает псевдослучайное число с плавающей точкой (вещественное число). В функцию random() никаких аргументов не передается. Функция random() возвращает случайное число с плавающей точкой в диапазоне от 0.0 до 1.0 (исключая 1.0)."
   ],
   "metadata": {
    "collapsed": false
   },
   "id": "6842d5143176ce78"
  },
  {
   "cell_type": "code",
   "execution_count": 13,
   "outputs": [
    {
     "name": "stdout",
     "output_type": "stream",
     "text": [
      "0.07685201983063283\n"
     ]
    }
   ],
   "source": [
    "import random\n",
    "\n",
    "num = random.random()\n",
    "print(num)"
   ],
   "metadata": {
    "collapsed": false,
    "ExecuteTime": {
     "end_time": "2024-07-29T08:18:38.928892400Z",
     "start_time": "2024-07-29T08:18:38.917411200Z"
    }
   },
   "id": "37111879d1dd164d"
  },
  {
   "cell_type": "raw",
   "source": [
    "Функция uniform() тоже возвращает случайное число с плавающей точкой, но при этом она позволяет задавать диапазон для отбора значений."
   ],
   "metadata": {
    "collapsed": false
   },
   "id": "5dc665d076e38de2"
  },
  {
   "cell_type": "code",
   "execution_count": 14,
   "outputs": [
    {
     "name": "stdout",
     "output_type": "stream",
     "text": [
      "11.873026672659156\n"
     ]
    }
   ],
   "source": [
    "import random\n",
    "\n",
    "num = random.uniform(1.5, 17.3)\n",
    "print(num)"
   ],
   "metadata": {
    "collapsed": false,
    "ExecuteTime": {
     "end_time": "2024-07-29T08:19:29.148547100Z",
     "start_time": "2024-07-29T08:19:29.142045200Z"
    }
   },
   "id": "edaf5eaf6021868a"
  },
  {
   "cell_type": "markdown",
   "source": [
    "Функция seed()"
   ],
   "metadata": {
    "collapsed": false
   },
   "id": "942cba10647f9b8d"
  },
  {
   "cell_type": "raw",
   "source": [
    "Как уже было сказано псевдослучайные числа вычисляются на основе некой формулы. Генерация случайных чисел инициируется начальным значением. Оно используется в вычислении, возвращающем следующее случайное число в ряду. Когда модуль random импортируется, он получает системное время из внутреннего генератора тактовых импульсов компьютера и использует его как начальное значение. Системное время – целое число, представляющее собой текущую дату и время вплоть до сотой секунды. Если бы всегда использовалось одно и то же начальное значение, функции генерации случайных чисел всегда  возвращали бы один и тот же ряд псевдослучайных чисел. Поскольку системное время меняется каждую сотую долю секунды, можно утверждать, что всякий раз, когда импортируется модуль random, будет создана отличающаяся от предыдущих последовательность случайных чисел.\n",
    "\n",
    "Вместе с тем, некоторые программы требуют генерации одной и той же последовательности случайных чисел. Для этого можно вызвать функцию seed(), задав начальное значение."
   ],
   "metadata": {
    "collapsed": false
   },
   "id": "9950500ce2e57d37"
  },
  {
   "cell_type": "code",
   "execution_count": 24,
   "outputs": [
    {
     "name": "stdout",
     "output_type": "stream",
     "text": [
      "67\n",
      "54\n",
      "39\n",
      "47\n",
      "38\n",
      "23\n",
      "99\n",
      "91\n",
      "91\n",
      "70\n",
      "\n",
      "67\n",
      "54\n",
      "39\n",
      "47\n",
      "38\n",
      "23\n",
      "99\n",
      "91\n",
      "91\n",
      "70\n"
     ]
    }
   ],
   "source": [
    "import random\n",
    "\n",
    "random.seed(17)   # явно устанавливаем начальное значение для генератора случайных чисел\n",
    "\n",
    "for _ in range(10):\n",
    "    print(random.randint(1, 100))\n",
    "    \n",
    "print()\n",
    "\n",
    "random.seed(17) \n",
    "for _ in range(10):\n",
    "    print(random.randint(1, 100))"
   ],
   "metadata": {
    "collapsed": false,
    "ExecuteTime": {
     "end_time": "2024-07-29T08:21:37.968117800Z",
     "start_time": "2024-07-29T08:21:37.958614400Z"
    }
   },
   "id": "9bbf8a2006da9e38"
  },
  {
   "cell_type": "raw",
   "source": [
    "Примечание 2. Функции модуля random на самом деле являются методами одноименного класса random."
   ],
   "metadata": {
    "collapsed": false
   },
   "id": "90d0634ffdd75fbd"
  },
  {
   "cell_type": "raw",
   "source": [
    "Примечание 3. В Python для генерации псевдослучайных чисел используется один из самых совершенных алгоритмов генерации псевдослучайных чисел – \"вихрь Мерсенна\", разработанный в 1997 году. Реализация выполнена на языке C, является быстрой и потокобезопасной."
   ],
   "metadata": {
    "collapsed": false
   },
   "id": "62506c15b50fa957"
  },
  {
   "cell_type": "raw",
   "source": [
    "Примечание 4. Настоящие случайные числа можно получить с сайта (https://www.random.org/randomness/). Данный сайт использует атмосферный шум для создания по-настоящему случайных чисел."
   ],
   "metadata": {
    "collapsed": false
   },
   "id": "55479467a27b5ee4"
  },
  {
   "cell_type": "raw",
   "source": [
    "Примечание 5. Пусть r – случайное число из интервала (0;1). Для того чтобы перевести такое число в интервал (a;b) можно воспользоваться формулой a+(b−a)⋅r."
   ],
   "metadata": {
    "collapsed": false
   },
   "id": "3ee113b4837f1397"
  },
  {
   "cell_type": "raw",
   "source": [
    "Напишите программу, которая с помощью модуля random моделирует броски монеты. Программа принимает на вход количество попыток и выводит результаты бросков: Орел или Решка (каждое на отдельной строке).\n",
    "\n",
    "Примечание. Например, при n=7 ваша программа может выводить:\n",
    "Орел\n",
    "Решка\n",
    "Решка\n",
    "Орел\n",
    "Орел\n",
    "Орел\n",
    "Решка"
   ],
   "metadata": {
    "collapsed": false
   },
   "id": "d95e546aac1fa712"
  },
  {
   "cell_type": "code",
   "execution_count": 28,
   "outputs": [
    {
     "name": "stdout",
     "output_type": "stream",
     "text": [
      "Решка\n",
      "Решка\n",
      "Орел\n",
      "Орел\n",
      "Орел\n",
      "Орел\n",
      "Орел\n"
     ]
    }
   ],
   "source": [
    "import random\n",
    "\n",
    "# n = int(input())    # количество попыток\n",
    "n = 7\n",
    "\n",
    "for _ in range(n):\n",
    "    print('Орел' if random.choice([0, 1]) == 0 else 'Решка')\n",
    "    # print(random.choice([0,1]))"
   ],
   "metadata": {
    "collapsed": false,
    "ExecuteTime": {
     "end_time": "2024-07-29T08:32:07.196363800Z",
     "start_time": "2024-07-29T08:32:07.189027400Z"
    }
   },
   "id": "ccdb02b2d1722669"
  },
  {
   "cell_type": "code",
   "execution_count": null,
   "outputs": [],
   "source": [
    "from random import randint\n",
    "\n",
    "COIN = ['Орел', 'Решка']\n",
    "\n",
    "for _ in range(int(input())):\n",
    "    print(COIN[randint(0, 1)])"
   ],
   "metadata": {
    "collapsed": false
   },
   "id": "6569df328f8f433c"
  },
  {
   "cell_type": "code",
   "execution_count": null,
   "outputs": [],
   "source": [
    "import random\n",
    "\n",
    "n = int(input())\n",
    "for _ in range(n):\n",
    "    print('Орел' if random.randrange(2) else 'Решка')"
   ],
   "metadata": {
    "collapsed": false
   },
   "id": "5591e32e8e55960d"
  },
  {
   "cell_type": "raw",
   "source": [
    "Напишите программу, которая с помощью модуля random моделирует броски игрального кубика c 6 гранями. Программа принимает на вход количество попыток и выводит результаты бросков — выпавшее число, которое написано на грани кубика (каждое на отдельной строке)."
   ],
   "metadata": {
    "collapsed": false
   },
   "id": "56ff8d978c3aa0eb"
  },
  {
   "cell_type": "code",
   "execution_count": 31,
   "outputs": [
    {
     "name": "stdout",
     "output_type": "stream",
     "text": [
      "5\n",
      "4\n",
      "6\n",
      "5\n",
      "2\n",
      "6\n",
      "4\n",
      "5\n",
      "3\n",
      "1\n",
      "4\n",
      "3\n",
      "5\n",
      "1\n",
      "6\n"
     ]
    }
   ],
   "source": [
    "import random\n",
    "\n",
    "n = int(input())    # количество попыток\n",
    "\n",
    "for _ in range(n):\n",
    "    print(random.randint(1,6))"
   ],
   "metadata": {
    "collapsed": false,
    "ExecuteTime": {
     "end_time": "2024-07-29T10:15:02.187387400Z",
     "start_time": "2024-07-29T10:15:00.025735300Z"
    }
   },
   "id": "929c2a03384f311c"
  },
  {
   "cell_type": "raw",
   "source": [
    "Напишите программу, которая с помощью модуля random генерирует случайный пароль. Программа принимает на вход длину пароля и выводит случайный пароль, содержащий только символы английского алфавита a..z, A..Z (в нижнем и верхнем регистре).\n",
    "\n",
    "Примечание 1. Символам A..Z английского языка соответствуют номера с 65 по 90 в таблице символов ASCII.\n",
    "\n",
    "Примечание 2. Символам a..z английского языка соответствуют номера с 97 по 122 в таблице символов ASCII.\n",
    "\n",
    "Примечание 3. Используйте функцию chr() для получения символа по его номеру в таблице символов ASCII.\n",
    "\n",
    " Примечание 4. Например, при длине пароля, равной 15 символам, ваша программа может выводить:\n",
    "\n",
    "peJFAmhqfaAeKDu"
   ],
   "metadata": {
    "collapsed": false
   },
   "id": "790c7956c089d12e"
  },
  {
   "cell_type": "code",
   "execution_count": null,
   "outputs": [],
   "source": [
    "import random\n",
    "\n",
    "def generate_random_password(length):\n",
    "    # Генерация символов в диапазонах ASCII\n",
    "    lowercase_letters = [chr(i) for i in range(97, 123)]  # a-z\n",
    "    uppercase_letters = [chr(i) for i in range(65, 91)]   # A-Z\n",
    "\n",
    "    # Объединяем нижний и верхний регисты\n",
    "    all_letters = lowercase_letters + uppercase_letters\n",
    "    \n",
    "    # Генерация пароля\n",
    "    password = ''.join(random.choice(all_letters) for _ in range(length))\n",
    "    return password\n",
    "\n",
    "# Ввод длины пароля\n",
    "password_length = int(input())\n",
    "random_password = generate_random_password(password_length)\n",
    "\n",
    "# Вывод сгенерированного пароля\n",
    "print(random_password)"
   ],
   "metadata": {
    "collapsed": false
   },
   "id": "fc183e39dd8ec9be"
  },
  {
   "cell_type": "raw",
   "source": [
    "Лотерейный билет содержит 7 чисел из диапазона от 1 до 49 (включительно).\n",
    "\n",
    "Напишите программу, которая с помощью модуля random генерирует 7 различных случайных чисел для лотерейного билета. Программа должна вывести числа в порядке возрастания на одной строке через один символ пробела.\n",
    "\n",
    "Примечание. Убедитесь, что сгенерированные числа не содержат дубликатов."
   ],
   "metadata": {
    "collapsed": false
   },
   "id": "4d407835764f8d88"
  },
  {
   "cell_type": "code",
   "execution_count": 44,
   "outputs": [
    {
     "name": "stdout",
     "output_type": "stream",
     "text": [
      "5 17 20 26 31 35 43\n"
     ]
    }
   ],
   "source": [
    "import random\n",
    "\n",
    "s = set()\n",
    "\n",
    "while len(s) != 7:\n",
    "    s.add(random.randrange(1, 50))\n",
    "    \n",
    "print(*sorted(s))"
   ],
   "metadata": {
    "collapsed": false,
    "ExecuteTime": {
     "end_time": "2024-07-29T10:23:13.578915900Z",
     "start_time": "2024-07-29T10:23:13.575909800Z"
    }
   },
   "id": "ea18e87ffab26d63"
  }
 ],
 "metadata": {
  "kernelspec": {
   "display_name": "Python 3",
   "language": "python",
   "name": "python3"
  },
  "language_info": {
   "codemirror_mode": {
    "name": "ipython",
    "version": 2
   },
   "file_extension": ".py",
   "mimetype": "text/x-python",
   "name": "python",
   "nbconvert_exporter": "python",
   "pygments_lexer": "ipython2",
   "version": "2.7.6"
  }
 },
 "nbformat": 4,
 "nbformat_minor": 5
}
