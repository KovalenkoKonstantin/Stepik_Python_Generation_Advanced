{
 "cells": [
  {
   "cell_type": "raw",
   "source": [
    "Метод shuffle() принимает список в качестве обязательного аргумента и перемешивает его случайным образом."
   ],
   "metadata": {
    "collapsed": false
   },
   "id": "2e25096c32527801"
  },
  {
   "cell_type": "code",
   "execution_count": 1,
   "outputs": [
    {
     "name": "stdout",
     "output_type": "stream",
     "text": [
      "[7, 3, 4, 6, 5, 1, 8, 2]\n"
     ]
    }
   ],
   "source": [
    "import random\n",
    "\n",
    "numbers = [1, 2, 3, 4, 5, 6, 7, 8]\n",
    "random.shuffle(numbers)\n",
    "print(numbers)"
   ],
   "metadata": {
    "collapsed": false,
    "ExecuteTime": {
     "end_time": "2024-07-29T11:54:08.549555300Z",
     "start_time": "2024-07-29T11:54:08.542582100Z"
    }
   },
   "id": "71bdc0fc21733245"
  },
  {
   "cell_type": "raw",
   "source": [
    "Метод choice() принимает список (строку, кортеж) в качестве обязательного аргумента и возвращает один случайный элемент."
   ],
   "metadata": {
    "collapsed": false
   },
   "id": "841112a003b2c79c"
  },
  {
   "cell_type": "code",
   "execution_count": 2,
   "outputs": [
    {
     "name": "stdout",
     "output_type": "stream",
     "text": [
      "E\n",
      "2\n",
      "a\n"
     ]
    }
   ],
   "source": [
    "import random\n",
    "\n",
    "print(random.choice('BEEGEEK'))\n",
    "print(random.choice([1, 2, 3, 4]))\n",
    "print(random.choice(('a', 'b', 'c', 'd')))"
   ],
   "metadata": {
    "collapsed": false,
    "ExecuteTime": {
     "end_time": "2024-07-29T11:54:34.292613400Z",
     "start_time": "2024-07-29T11:54:34.285307Z"
    }
   },
   "id": "209e6e46bec41447"
  },
  {
   "cell_type": "raw",
   "source": [
    "Метод sample() принимает два обязательных аргумента: первый – коллекция (последовательность), которая поддерживает индексацию (список, строка, кортеж), второй – количество случайных элементов. Возвращает список из указанного количества уникальных (имеющих разные индексы) случайных элементов."
   ],
   "metadata": {
    "collapsed": false
   },
   "id": "5daadff8df4f438f"
  },
  {
   "cell_type": "code",
   "execution_count": 3,
   "outputs": [
    {
     "name": "stdout",
     "output_type": "stream",
     "text": [
      "[5]\n",
      "[5, 9]\n",
      "[8, 9, 12]\n",
      "[5, 2, 9, 8, 12]\n"
     ]
    }
   ],
   "source": [
    "import random\n",
    "\n",
    "numbers = [2, 5, 8, 9, 12]\n",
    "\n",
    "print(random.sample(numbers, 1))\n",
    "print(random.sample(numbers, 2))\n",
    "print(random.sample(numbers, 3))\n",
    "print(random.sample(numbers, 5))"
   ],
   "metadata": {
    "collapsed": false,
    "ExecuteTime": {
     "end_time": "2024-07-29T11:55:27.933950300Z",
     "start_time": "2024-07-29T11:55:27.931147600Z"
    }
   },
   "id": "3fb5ddbab7af071a"
  },
  {
   "cell_type": "raw",
   "source": [
    "Количество случайных элементов не должно превышать длину исходного списка (строки)"
   ],
   "metadata": {
    "collapsed": false
   },
   "id": "afbc28607006787b"
  },
  {
   "cell_type": "code",
   "execution_count": 4,
   "outputs": [
    {
     "ename": "ValueError",
     "evalue": "Sample larger than population or is negative",
     "output_type": "error",
     "traceback": [
      "\u001B[1;31m---------------------------------------------------------------------------\u001B[0m",
      "\u001B[1;31mValueError\u001B[0m                                Traceback (most recent call last)",
      "Cell \u001B[1;32mIn[4], line 5\u001B[0m\n\u001B[0;32m      1\u001B[0m \u001B[38;5;28;01mimport\u001B[39;00m \u001B[38;5;21;01mrandom\u001B[39;00m\n\u001B[0;32m      3\u001B[0m numbers \u001B[38;5;241m=\u001B[39m [\u001B[38;5;241m2\u001B[39m, \u001B[38;5;241m5\u001B[39m, \u001B[38;5;241m8\u001B[39m, \u001B[38;5;241m9\u001B[39m, \u001B[38;5;241m12\u001B[39m]\n\u001B[1;32m----> 5\u001B[0m \u001B[38;5;28mprint\u001B[39m(\u001B[43mrandom\u001B[49m\u001B[38;5;241;43m.\u001B[39;49m\u001B[43msample\u001B[49m\u001B[43m(\u001B[49m\u001B[43mnumbers\u001B[49m\u001B[43m,\u001B[49m\u001B[43m \u001B[49m\u001B[38;5;241;43m6\u001B[39;49m\u001B[43m)\u001B[49m)\n",
      "File \u001B[1;32m~\\AppData\\Local\\Programs\\Python\\Python311\\Lib\\random.py:456\u001B[0m, in \u001B[0;36mRandom.sample\u001B[1;34m(self, population, k, counts)\u001B[0m\n\u001B[0;32m    454\u001B[0m randbelow \u001B[38;5;241m=\u001B[39m \u001B[38;5;28mself\u001B[39m\u001B[38;5;241m.\u001B[39m_randbelow\n\u001B[0;32m    455\u001B[0m \u001B[38;5;28;01mif\u001B[39;00m \u001B[38;5;129;01mnot\u001B[39;00m \u001B[38;5;241m0\u001B[39m \u001B[38;5;241m<\u001B[39m\u001B[38;5;241m=\u001B[39m k \u001B[38;5;241m<\u001B[39m\u001B[38;5;241m=\u001B[39m n:\n\u001B[1;32m--> 456\u001B[0m     \u001B[38;5;28;01mraise\u001B[39;00m \u001B[38;5;167;01mValueError\u001B[39;00m(\u001B[38;5;124m\"\u001B[39m\u001B[38;5;124mSample larger than population or is negative\u001B[39m\u001B[38;5;124m\"\u001B[39m)\n\u001B[0;32m    457\u001B[0m result \u001B[38;5;241m=\u001B[39m [\u001B[38;5;28;01mNone\u001B[39;00m] \u001B[38;5;241m*\u001B[39m k\n\u001B[0;32m    458\u001B[0m setsize \u001B[38;5;241m=\u001B[39m \u001B[38;5;241m21\u001B[39m        \u001B[38;5;66;03m# size of a small set minus size of an empty list\u001B[39;00m\n",
      "\u001B[1;31mValueError\u001B[0m: Sample larger than population or is negative"
     ]
    }
   ],
   "source": [
    "import random\n",
    "\n",
    "numbers = [2, 5, 8, 9, 12]\n",
    "\n",
    "print(random.sample(numbers, 6))"
   ],
   "metadata": {
    "collapsed": false,
    "ExecuteTime": {
     "end_time": "2024-07-29T11:55:53.191989900Z",
     "start_time": "2024-07-29T11:55:52.932467100Z"
    }
   },
   "id": "4b54442cfbf6fe97"
  },
  {
   "cell_type": "markdown",
   "source": [
    "Модуль string"
   ],
   "metadata": {
    "collapsed": false
   },
   "id": "5a9711ce43be208c"
  },
  {
   "cell_type": "raw",
   "source": [
    "Встроенный модуль string раньше использовался для расширения стандартных возможностей (функционала) строкового типа данных str. На текущий момент все функции из модуля string переехали в методы строкового типа данных str, однако в модуле string остались удобные константные строки, которые можно использовать при решении задач."
   ],
   "metadata": {
    "collapsed": false
   },
   "id": "968d752120bc1915"
  },
  {
   "cell_type": "code",
   "execution_count": 5,
   "outputs": [
    {
     "name": "stdout",
     "output_type": "stream",
     "text": [
      "abcdefghijklmnopqrstuvwxyzABCDEFGHIJKLMNOPQRSTUVWXYZ\n",
      "ABCDEFGHIJKLMNOPQRSTUVWXYZ\n",
      "abcdefghijklmnopqrstuvwxyz\n",
      "0123456789\n",
      "0123456789abcdefABCDEF\n",
      "01234567\n",
      "!\"#$%&'()*+,-./:;<=>?@[\\]^_`{|}~\n",
      "0123456789abcdefghijklmnopqrstuvwxyzABCDEFGHIJKLMNOPQRSTUVWXYZ!\"#$%&'()*+,-./:;<=>?@[\\]^_`{|}~ \t\n",
      "\u000B\f\n"
     ]
    }
   ],
   "source": [
    "import string\n",
    "\n",
    "print(string.ascii_letters)\n",
    "print(string.ascii_uppercase)\n",
    "print(string.ascii_lowercase)\n",
    "print(string.digits)\n",
    "print(string.hexdigits)\n",
    "print(string.octdigits)\n",
    "print(string.punctuation)\n",
    "print(string.printable)"
   ],
   "metadata": {
    "collapsed": false,
    "ExecuteTime": {
     "end_time": "2024-07-29T11:56:45.531535100Z",
     "start_time": "2024-07-29T11:56:45.524551700Z"
    }
   },
   "id": "30d7197f4ed0b5e6"
  },
  {
   "cell_type": "raw",
   "source": [
    "IP адрес состоит из четырех чисел из диапазона от 0 до 255 (включительно) разделенных точкой.\n",
    "\n",
    "Напишите функцию generate_ip(), которая с помощью модуля random  генерирует и возвращает случайный корректный IP адрес.\n",
    "\n",
    "Примечание 1. Пример правильного (неправильного) IP адреса:\n",
    "\n",
    "192.168.5.250        # правильный\n",
    "199.300.521.255      # неправильный"
   ],
   "metadata": {
    "collapsed": false
   },
   "id": "a1c790601f1dda10"
  },
  {
   "cell_type": "code",
   "execution_count": null,
   "outputs": [],
   "source": [
    "import random\n",
    "\n",
    "\n",
    "def generate_ip():\n",
    "    # Генерируем 4 случайных числа в диапазоне от 0 до 255\n",
    "    octets = [str(random.randint(0, 255)) for _ in range(4)]\n",
    "    # Собираем их в строку формата IP адреса\n",
    "    ip_address = '.'.join(octets)\n",
    "    return ip_address\n",
    "\n",
    "\n",
    "# Пример использования\n",
    "random_ip = generate_ip()\n",
    "print(random_ip)"
   ],
   "metadata": {
    "collapsed": false
   },
   "id": "cd91b243a451824"
  },
  {
   "cell_type": "code",
   "execution_count": 6,
   "outputs": [],
   "source": [
    "from random import randrange as r\n",
    "\n",
    "\n",
    "def generate_ip():\n",
    "    return f'{r(256)}.{r(256)}.{r(256)}.{r(256)}'"
   ],
   "metadata": {
    "collapsed": false,
    "ExecuteTime": {
     "end_time": "2024-07-29T12:02:02.487828100Z",
     "start_time": "2024-07-29T12:02:02.479840800Z"
    }
   },
   "id": "bd95869a3726c4fd"
  },
  {
   "cell_type": "raw",
   "source": [
    "Почтовый индекс в Латверии имеет вид: \n",
    "\n",
    "LetterLetterNumber_NumberLetterLetter\n",
    "где Letter – заглавная буква английского алфавита, Number – число от 0 до 99 (включительно).\n",
    "\n",
    "Напишите функцию generate_index(), которая с помощью модуля random генерирует и возвращает случайный корректный почтовый индекс Латверии.\n",
    "\n",
    "Примечание 1. Пример правильного (неправильного) индекса Латверии:\n",
    "\n",
    "AB23_56VG          # правильный\n",
    "V3F_231GT          # неправильный\n",
    "Примечание 2. Обратите внимание на символ _ в почтовом индексе."
   ],
   "metadata": {
    "collapsed": false
   },
   "id": "a910a88c715b69bd"
  },
  {
   "cell_type": "code",
   "execution_count": 57,
   "outputs": [
    {
     "name": "stdout",
     "output_type": "stream",
     "text": [
      "TN13_59TN\n"
     ]
    }
   ],
   "source": [
    "import random\n",
    "import string\n",
    "\n",
    "\n",
    "def generate_index():\n",
    "    letters = [str(random.choice(string.ascii_uppercase)) for _ in range(2)]\n",
    "    numbers = [str(random.randrange(0, 100)) for _ in range(2)]\n",
    "    index = ''.join(letters) + numbers[0] + '_' + numbers[1] + ''.join(letters)\n",
    "\n",
    "    return index\n",
    "\n",
    "\n",
    "random_ind = generate_index()\n",
    "print(random_ind)"
   ],
   "metadata": {
    "collapsed": false,
    "ExecuteTime": {
     "end_time": "2024-07-29T12:16:30.502101900Z",
     "start_time": "2024-07-29T12:16:30.493745700Z"
    }
   },
   "id": "5d67a695c2d570ff"
  },
  {
   "cell_type": "code",
   "execution_count": null,
   "outputs": [],
   "source": [
    "from random import choice, randint\n",
    "from string import ascii_uppercase as letter\n",
    "\n",
    "def generate_index():\n",
    "    return f'{choice(letter)}{choice(letter)}{randint(0, 99)}_{randint(0, 99)}{choice(letter)}{choice(letter)}'"
   ],
   "metadata": {
    "collapsed": false
   },
   "id": "2648472dd2de216f"
  },
  {
   "cell_type": "raw",
   "source": [
    "Напишите программу, которая с помощью модуля random перемешивает случайным образом содержимое матрицы (двумерного списка)."
   ],
   "metadata": {
    "collapsed": false
   },
   "id": "bfeeaf5607f20aaa"
  },
  {
   "cell_type": "code",
   "execution_count": 61,
   "outputs": [
    {
     "name": "stdout",
     "output_type": "stream",
     "text": [
      "[[1, 2, 3, 4], [5, 6, 7, 8], [9, 10, 11, 12], [13, 14, 15, 16]]\n"
     ]
    }
   ],
   "source": [
    "import random\n",
    "\n",
    "matrix = [[1, 2, 3, 4],\n",
    "          [5, 6, 7, 8],\n",
    "          [9, 10, 11, 12],\n",
    "          [13, 14, 15, 16]]\n",
    "\n",
    "random.shuffle(matrix)\n",
    "\n",
    "print(matrix)"
   ],
   "metadata": {
    "collapsed": false,
    "ExecuteTime": {
     "end_time": "2024-07-29T12:22:27.501258100Z",
     "start_time": "2024-07-29T12:22:27.494162100Z"
    }
   },
   "id": "76290d8c0fc134fa"
  },
  {
   "cell_type": "raw",
   "source": [
    "Напишите программу, которая с помощью модуля random генерирует 100 случайных номеров лотерейных билетов и выводит их каждый на отдельной строке. Обратите внимание, вы должны придерживаться следующих условий:\n",
    "\n",
    "номер не может начинаться с нулей;\n",
    "номер лотерейного билета должен состоять из 7 цифр;\n",
    "все 100 лотерейных билетов должны быть различными."
   ],
   "metadata": {
    "collapsed": false
   },
   "id": "333fa05d27ef4eda"
  },
  {
   "cell_type": "code",
   "execution_count": 66,
   "outputs": [
    {
     "name": "stdout",
     "output_type": "stream",
     "text": [
      "4789762\n",
      "8052243\n",
      "5344286\n",
      "8773153\n",
      "6283812\n",
      "4539942\n",
      "2684454\n",
      "2885166\n",
      "4039216\n",
      "6748210\n",
      "7857207\n",
      "9460793\n",
      "1008699\n",
      "3935803\n",
      "2810429\n",
      "1734717\n",
      "5617221\n",
      "1076293\n",
      "7081555\n",
      "8820311\n",
      "6467160\n",
      "7439960\n",
      "6248032\n",
      "7382114\n",
      "3286629\n",
      "5509223\n",
      "3354216\n",
      "5500010\n",
      "8937087\n",
      "9887876\n",
      "5481607\n",
      "9205384\n",
      "3995271\n",
      "7052937\n",
      "4799628\n",
      "5077137\n",
      "5157010\n",
      "3260051\n",
      "5181082\n",
      "9326235\n",
      "4478107\n",
      "7821992\n",
      "3658416\n",
      "1020082\n",
      "8229042\n",
      "6574771\n",
      "5083843\n",
      "5029573\n",
      "3943110\n",
      "1081547\n",
      "2884816\n",
      "1656539\n",
      "5523181\n",
      "6432499\n",
      "3480309\n",
      "8015098\n",
      "3755772\n",
      "3291900\n",
      "3020554\n",
      "1732876\n",
      "3955476\n",
      "7025941\n",
      "9484577\n",
      "4819235\n",
      "4600614\n",
      "3231014\n",
      "8843057\n",
      "1949493\n",
      "5147447\n",
      "4665662\n",
      "9670980\n",
      "4541767\n",
      "9913674\n",
      "4483926\n",
      "5963105\n",
      "4127075\n",
      "9320819\n",
      "3427200\n",
      "2206593\n",
      "3690382\n",
      "9872793\n",
      "2411930\n",
      "3428771\n",
      "8217512\n",
      "6321579\n",
      "5780399\n",
      "5004729\n",
      "8155583\n",
      "9982399\n",
      "8092612\n",
      "3758549\n",
      "2757078\n",
      "8653275\n",
      "7301085\n",
      "8868830\n",
      "6886369\n",
      "6920698\n",
      "7656955\n",
      "8102909\n",
      "3013119\n"
     ]
    }
   ],
   "source": [
    "import random\n",
    "\n",
    "s = set()\n",
    "\n",
    "while len(s)!=100:\n",
    "    s.add(random.randint(1000000, 9999999))\n",
    "\n",
    "print(*s,sep='\\n')"
   ],
   "metadata": {
    "collapsed": false,
    "ExecuteTime": {
     "end_time": "2024-07-29T12:31:10.573730300Z",
     "start_time": "2024-07-29T12:31:10.567717200Z"
    }
   },
   "id": "bcdc3fa9c6b1da31"
  },
  {
   "cell_type": "raw",
   "source": [
    "Анаграмма – это слово образованное путём перестановки букв, составляющих другое слово.\n",
    "\n",
    "Например, слова пила и липа или пост и стоп – анаграммы.\n",
    "\n",
    "Напишите программу, которая считывает одно слово и выводит с помощью модуля random его случайную анаграмму.\n",
    "\n",
    "Примечание. Обратите внимание на то, что метод shuffle() работает со списком, а не со строкой."
   ],
   "metadata": {
    "collapsed": false
   },
   "id": "4f339015b05e1230"
  },
  {
   "cell_type": "code",
   "execution_count": 73,
   "outputs": [
    {
     "name": "stdout",
     "output_type": "stream",
     "text": [
      "['п', 'и', 'л', 'а']\n",
      "пила\n"
     ]
    }
   ],
   "source": [
    "import random\n",
    "word = input()\n",
    "# word = 'пила'\n",
    "l = [i for i in word]\n",
    "# print(l)\n",
    "random.shuffle(l)\n",
    "print(*l, sep='')"
   ],
   "metadata": {
    "collapsed": false,
    "ExecuteTime": {
     "end_time": "2024-07-29T12:38:12.076185Z",
     "start_time": "2024-07-29T12:38:12.074183500Z"
    }
   },
   "id": "45491c9615267c20"
  },
  {
   "cell_type": "raw",
   "source": [
    "Для игры в бинго требуется карточка размером 5×5, содержащая различные (уникальные) целые числа от 1 до 75 (включительно), при этом центральная клетка является пустой (она заполняется числом 0).\n",
    "\n",
    "Игра-лото \"Cупер Бинго\". Играть в лотерею онлайн бесплатно\n",
    "\n",
    "Напишите программу, которая с помощью модуля random генерирует и выводит случайную карточку для игры в бинго.\n",
    "\n",
    "Примечание 1. Для наглядности рекомендуем отводить на вывод каждого числа ровно 3 символа. Для этого используйте строковый метод ljust().\n",
    "\n",
    "Примечание 2. Пример возможного ответа:\n",
    "\n",
    "1  16 31 46 61\n",
    "10 30 42 47 68\n",
    "3  18 0  48 63\n",
    "9  19 34 49 70\n",
    "5  20 35 50 65"
   ],
   "metadata": {
    "collapsed": false
   },
   "id": "61ea7339b8bb8989"
  },
  {
   "cell_type": "code",
   "execution_count": 117,
   "outputs": [
    {
     "name": "stdout",
     "output_type": "stream",
     "text": [
      "14  49  43  37  31 \n",
      "28  70  50  67  39 \n",
      "44  29  0   27  16 \n",
      "8   30  53  24  13 \n",
      "11  66  1   74  10 \n"
     ]
    }
   ],
   "source": [
    "import random\n",
    "n = 5\n",
    "unique_numbers = random.sample(range(1, 76), 25)\n",
    "# print(unique_numbers)\n",
    "\n",
    "def one_dimension_list_to_matrix(lst, n, m):\n",
    "    \"\"\"\n",
    "    Преобразует одномерный список в список заданного размера.\n",
    "    :param lst: Одномерный список.\n",
    "    :return: Список заданного размера nxm.\n",
    "    \"\"\"\n",
    "    if len(lst) != n * m:\n",
    "        raise ValueError('Длина списка не соответствует размеру матрицы')\n",
    "\n",
    "    matrix = []\n",
    "    for i in range(n):\n",
    "        row = []\n",
    "        for j in range(m):\n",
    "            row.append(lst[i * m + j])\n",
    "        matrix.append(row)\n",
    "    return matrix\n",
    "\n",
    "unique_numbers = one_dimension_list_to_matrix(unique_numbers, n, n)\n",
    "unique_numbers[2][2] = 0\n",
    "# print(unique_numbers)\n",
    "\n",
    "def print_matrix_2x_with_ljust(matrix_2x, ljust_width):\n",
    "    \"\"\"\n",
    "    Выводит двухмерный список в удобочитаемом формате.\n",
    "\n",
    "    :param matrix_2x: Входная квадратная матрица (список списков).\n",
    "    :param ljust_width: Ширина каждого элемента для выравнивания.\n",
    "    \"\"\"\n",
    "    for row in matrix_2x:\n",
    "        print(' '.join(str(item).ljust(ljust_width) for item in row))\n",
    "    print()\n",
    "\n",
    "print_matrix_2x_with_ljust(unique_numbers, ljust_width=3)"
   ],
   "metadata": {
    "collapsed": false,
    "ExecuteTime": {
     "end_time": "2024-07-29T13:02:27.174777100Z",
     "start_time": "2024-07-29T13:02:27.172811100Z"
    }
   },
   "id": "a909c186cf873fbc"
  },
  {
   "cell_type": "code",
   "execution_count": 128,
   "outputs": [
    {
     "name": "stdout",
     "output_type": "stream",
     "text": [
      "31  73  52  74  6   \n",
      "45  35  57  49  14  \n",
      "19  37  0   38  8   \n",
      "70  10  75  56  48  \n",
      "60  63  53  5   12  \n"
     ]
    }
   ],
   "source": [
    "from random import sample\n",
    "\n",
    "numbers = sample(list(range(1, 76)), 25)\n",
    "bingo = [numbers[i:i + 5] for i in range(0, 21, 5)]\n",
    "bingo[2][2] = 0\n",
    "\n",
    "for i in range(5):\n",
    "    for j in range(5):\n",
    "        print(str(bingo[i][j]).ljust(3), end=' ')\n",
    "    print()"
   ],
   "metadata": {
    "collapsed": false,
    "ExecuteTime": {
     "end_time": "2024-07-29T13:03:59.877075200Z",
     "start_time": "2024-07-29T13:03:59.871022Z"
    }
   },
   "id": "9024957c28900405"
  },
  {
   "cell_type": "raw",
   "source": [
    "Напишите программу, которая случайным образом назначает каждому ученику его тайного друга, который будет вместе с ним решать задачи по программированию.\n",
    "\n",
    "Формат входных данных\n",
    "На вход программе в первой строке подается число n – общее количество учеников. Далее идут n строк, содержащих имена и фамилии учеников.\n",
    "\n",
    "Формат выходных данных\n",
    "Программа должна вывести имя и фамилию ученика (в соответствии с исходным порядком) и имя и фамилию его тайного друга, разделённые дефисом.\n",
    "\n",
    "Примечание 1. Обратите внимание, что нельзя быть тайным другом самому себе и нельзя быть тайным другом для нескольких учеников."
   ],
   "metadata": {
    "collapsed": false
   },
   "id": "779d53868a51df56"
  },
  {
   "cell_type": "code",
   "execution_count": null,
   "outputs": [],
   "source": [
    "import random\n",
    "\n",
    "n = int(input())  # Запрос количества строк\n",
    "l = [input() for _ in range(n)]  # Считываем строки и добавляем в список с помощью list comprehension\n",
    "    \n",
    "# print(\"Исходный список:\", l)\n",
    "# print(\"Количество элементов в списке:\", len(l))\n",
    "\n",
    "# Инициализируем список выбранных друзей\n",
    "chosen_friends = []\n",
    "\n",
    "# Для каждого имени мы выбираем случайного друга\n",
    "for i in range(len(l)):\n",
    "    l1 = l.copy()  # Копируем исходный список\n",
    "    l1.pop(i)  # Из скопированного списка удаляем текущее имя, чтобы не выбрать его\n",
    "    l1 = [i for i in l1 if i not in chosen_friends] # Из этого же списка удаляем уже задействованных друзей с помощью list comprehension\n",
    "    \n",
    "    # Выбираем одного случайного друга из оставшихся в обновлённом списке\n",
    "    chosen_friend = random.choice(l1)\n",
    "    chosen_friends.append(chosen_friend)  # Записываем выбранного друга в список выбранных друзей\n",
    "\n",
    "    # Вывод информации о назначении друга\n",
    "    print(f'{l[i]} - {chosen_friend}')"
   ],
   "metadata": {
    "collapsed": false
   },
   "id": "def30560223dcf6e"
  },
  {
   "cell_type": "raw",
   "source": [
    "Напишите программу, которая с помощью модуля random генерирует n паролей длиной m символов, состоящих из строчных и прописных английских букв и цифр, кроме тех, которые легко перепутать между собой:\n",
    "\n",
    "«l» (L маленькое);\n",
    "«I» (i большое);\n",
    "«1» (цифра);\n",
    "«o» и «O» (маленькая и большая буквы);\n",
    "«0» (цифра).\n",
    "Формат входных данных\n",
    "На вход программе подаются два числа n и m, каждое на отдельной строке.\n",
    "\n",
    "Формат выходных данных\n",
    "Программа должна вывести n паролей длиной m символов в соответствии с условием задачи, каждый на отдельной строке.\n",
    "\n",
    "Примечание 1. Считать, что числа n и m всегда таковы, что требуемые пароли сгенерировать возможно.\n",
    "\n",
    "Примечание 2. В каждом пароле необязательно должна присутствовать хотя бы одна цифра и буква в верхнем и нижнем регистре.\n",
    "\n",
    "Примечание 3. Решение задачи удобно оформить в виде двух вспомогательных функций:\n",
    "\n",
    "функция generate_password(length) – возвращает случайный пароль длиной length символов;\n",
    "функция generate_passwords(count, length) – возвращает список, состоящий из count случайных паролей длиной length символов."
   ],
   "metadata": {
    "collapsed": false
   },
   "id": "ba3c4030bc52689c"
  },
  {
   "cell_type": "code",
   "execution_count": null,
   "outputs": [],
   "source": [
    "from string import *\n",
    "import random\n",
    "\n",
    "LETTER = ''.join((set(ascii_letters) | set(digits)) - set('lI1oO0'))\n",
    "\n",
    "def generate_password(length):\n",
    "    pass\n",
    "\n",
    "def generate_passwords(count, length):\n",
    "    pass\n",
    "\n",
    "n, m = int(input()), int(input())\n",
    "\n",
    "for _ in range(n):\n",
    "    l = []\n",
    "    while len(l) != m:\n",
    "        l.append(random.choice(LETTER))\n",
    "    print(*l, sep='')"
   ],
   "metadata": {
    "collapsed": false
   },
   "id": "849351921de7de05"
  },
  {
   "cell_type": "raw",
   "source": [
    "Напишите программу, которая с помощью модуля random генерирует n паролей длиной m символов, состоящих из строчных и прописных английских букв и цифр, кроме тех, которые легко перепутать между собой:\n",
    "\n",
    "«l» (L маленькое);\n",
    "«I» (i большое);\n",
    "«1» (цифра);\n",
    "«o» и «O» (большая и маленькая буквы);\n",
    "«0» (цифра).\n",
    "Дополнительное условие: в каждом пароле обязательно должна присутствовать хотя бы одна цифра и как минимум по одной букве в верхнем и нижнем регистре.\n",
    "\n",
    "Формат входных данных\n",
    "На вход программе подаются два числа n и m, каждое на отдельной строке.\n",
    "\n",
    "Формат выходных данных\n",
    "Программа должна вывести n паролей длиной m символов в соответствии с условием задачи, каждый на отдельной строке.\n",
    "\n",
    "Примечание 1. Считать, что числа n и m всегда таковы, что требуемые пароли сгенерировать возможно.\n",
    "\n",
    "Примечание 2. Решение задачи удобно оформить в виде двух вспомогательных функций:\n",
    "\n",
    "функция generate_password(length) – возвращает случайный пароль длиной length символов;\n",
    "функция generate_passwords(count, length) – возвращает список, состоящий из count случайных паролей длиной length символов."
   ],
   "metadata": {
    "collapsed": false
   },
   "id": "41544c732b989847"
  },
  {
   "cell_type": "code",
   "execution_count": null,
   "outputs": [],
   "source": [
    "from string import *\n",
    "import random\n",
    "\n",
    "LETTER = ''.join((set(ascii_letters) | set(digits)) - set('lI1oO0'))\n",
    "DIGITS = ''.join(set(digits) - set('lI1oO0'))\n",
    "LETTER_LOWER_CASE = ''.join(set(ascii_lowercase) - set('lI1oO0'))\n",
    "LETTER_UPPER_CASE = ''.join(set(ascii_uppercase) - set('lI1oO0'))\n",
    "\n",
    "\n",
    "n, m = int(input()), int(input())\n",
    "\n",
    "for _ in range(n):\n",
    "    l = []\n",
    "    l.append(random.choice(DIGITS))\n",
    "    l.append(random.choice(LETTER_LOWER_CASE))\n",
    "    l.append(random.choice(LETTER_UPPER_CASE))\n",
    "    while len(l) != m:\n",
    "        l.append(random.choice(LETTER))\n",
    "    # Перемешиваем список\n",
    "    random.shuffle(l)\n",
    "    print(*l, sep='')"
   ],
   "metadata": {
    "collapsed": false
   },
   "id": "e55677fc32ae55e4"
  },
  {
   "cell_type": "code",
   "execution_count": null,
   "outputs": [],
   "source": [
    "import string\n",
    "from random import choice, shuffle\n",
    "\n",
    "chars1 = [с for с in string.ascii_uppercase if с not in 'OI']\n",
    "chars2 = [с for с in string.ascii_lowercase if с not in 'ol']\n",
    "chars3 = list(string.digits[2:])\n",
    "chars = chars1 + chars2 + chars3\n",
    "\n",
    "def generate_password(length):\n",
    "    result = [choice(i) for i in (chars1, chars2, chars3)] + [choice(chars) for _ in range(3, length)]\n",
    "    shuffle(result)\n",
    "    return ''.join(result)\n",
    "\n",
    "def generate_passwords(count, length):\n",
    "    result = set()\n",
    "    while len(result) < count:\n",
    "        result.add(generate_password(length))\n",
    "    return list(result)\n",
    "\n",
    "for i in generate_passwords(int(input()), int(input())):\n",
    "    print(i)"
   ],
   "metadata": {
    "collapsed": false
   },
   "id": "477f7698590fa367"
  }
 ],
 "metadata": {
  "kernelspec": {
   "display_name": "Python 3",
   "language": "python",
   "name": "python3"
  },
  "language_info": {
   "codemirror_mode": {
    "name": "ipython",
    "version": 2
   },
   "file_extension": ".py",
   "mimetype": "text/x-python",
   "name": "python",
   "nbconvert_exporter": "python",
   "pygments_lexer": "ipython2",
   "version": "2.7.6"
  }
 },
 "nbformat": 4,
 "nbformat_minor": 5
}
