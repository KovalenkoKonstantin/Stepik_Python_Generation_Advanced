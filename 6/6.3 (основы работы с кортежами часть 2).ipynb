{
 "cells": [
  {
   "cell_type": "markdown",
   "source": [
    "Перебор кортежей"
   ],
   "metadata": {
    "collapsed": false
   },
   "id": "a126bb68c584a915"
  },
  {
   "cell_type": "raw",
   "source": [
    "Перебор элементов кортежа осуществляется точно так же как перебор элементов списка.\n",
    "\n",
    "Для вывода каждого из элементов кортежа на отдельной строке можно использовать следующий код:"
   ],
   "metadata": {
    "collapsed": false
   },
   "id": "166b6f69cfcadc0a"
  },
  {
   "cell_type": "code",
   "execution_count": 3,
   "outputs": [
    {
     "name": "stdout",
     "output_type": "stream",
     "text": [
      "8\n",
      "1\n",
      "7\n",
      "3\n",
      "4\n",
      "5\n",
      "6\n",
      "7\n",
      "8\n",
      "9\n",
      "10\n"
     ]
    }
   ],
   "source": [
    "numbers = (8, 1, 7, 3, 4, 5, 6, 7, 8, 9, 10)\n",
    "\n",
    "for i in range(len(numbers)):\n",
    "    print(numbers[i])"
   ],
   "metadata": {
    "collapsed": false,
    "ExecuteTime": {
     "end_time": "2024-07-12T06:30:43.353493400Z",
     "start_time": "2024-07-12T06:30:43.350051700Z"
    }
   },
   "id": "d52de4893b941130"
  },
  {
   "cell_type": "code",
   "execution_count": 4,
   "outputs": [
    {
     "name": "stdout",
     "output_type": "stream",
     "text": [
      "8\n",
      "1\n",
      "7\n",
      "3\n",
      "4\n",
      "5\n",
      "6\n",
      "7\n",
      "8\n",
      "9\n",
      "10\n"
     ]
    }
   ],
   "source": [
    "numbers = (8, 1, 7, 3, 4, 5, 6, 7, 8, 9, 10)\n",
    "\n",
    "for num in numbers:\n",
    "    print(num)"
   ],
   "metadata": {
    "collapsed": false,
    "ExecuteTime": {
     "end_time": "2024-07-12T06:30:53.126073800Z",
     "start_time": "2024-07-12T06:30:53.109459Z"
    }
   },
   "id": "eccb8416799ac124"
  },
  {
   "cell_type": "raw",
   "source": [
    "Можно также использовать операцию распаковки кортежа."
   ],
   "metadata": {
    "collapsed": false
   },
   "id": "3745e081ca2c4015"
  },
  {
   "cell_type": "code",
   "execution_count": 5,
   "outputs": [
    {
     "name": "stdout",
     "output_type": "stream",
     "text": [
      "0 1 2 3 4 5 6 7 8 9 10\n",
      "Python\n",
      "C++\n",
      "Java\n"
     ]
    }
   ],
   "source": [
    "numbers = (0, 1, 2, 3, 4, 5, 6, 7, 8, 9, 10)\n",
    "languages = ('Python', 'C++', 'Java')\n",
    "\n",
    "print(*numbers)\n",
    "print(*languages, sep='\\n')"
   ],
   "metadata": {
    "collapsed": false,
    "ExecuteTime": {
     "end_time": "2024-07-12T06:31:29.394913500Z",
     "start_time": "2024-07-12T06:31:29.366064700Z"
    }
   },
   "id": "19e8e8569c6feff7"
  },
  {
   "cell_type": "markdown",
   "source": [
    "Сравнение кортежей"
   ],
   "metadata": {
    "collapsed": false
   },
   "id": "fd917ef14db413ed"
  },
  {
   "cell_type": "code",
   "execution_count": 6,
   "outputs": [
    {
     "name": "stdout",
     "output_type": "stream",
     "text": [
      "True\n",
      "True\n",
      "False\n",
      "True\n",
      "False\n"
     ]
    }
   ],
   "source": [
    "print((1, 8) == (1, 8))\n",
    "print((1, 8) != (1, 10))\n",
    "print((1, 9) < (1, 2))\n",
    "print((2, 5) < (6,))\n",
    "print(('a', 'bc') > ('a', 'de'))"
   ],
   "metadata": {
    "collapsed": false,
    "ExecuteTime": {
     "end_time": "2024-07-12T06:31:48.446862600Z",
     "start_time": "2024-07-12T06:31:48.438769900Z"
    }
   },
   "id": "279102b7cfea6e16"
  },
  {
   "cell_type": "raw",
   "source": [
    "Обратите внимание: операции == и != применимы к любым кортежам, независимо от типов элементов. А вот операции <, >, <=, >= применимы только в том случае, когда соответствующие элементы кортежей имеют один тип."
   ],
   "metadata": {
    "collapsed": false
   },
   "id": "da08b85f0957617"
  },
  {
   "cell_type": "code",
   "execution_count": 7,
   "outputs": [
    {
     "ename": "TypeError",
     "evalue": "'<' not supported between instances of 'int' and 'str'",
     "output_type": "error",
     "traceback": [
      "\u001B[1;31m---------------------------------------------------------------------------\u001B[0m",
      "\u001B[1;31mTypeError\u001B[0m                                 Traceback (most recent call last)",
      "Cell \u001B[1;32mIn[7], line 1\u001B[0m\n\u001B[1;32m----> 1\u001B[0m \u001B[38;5;28mprint\u001B[39m(\u001B[43m(\u001B[49m\u001B[38;5;241;43m7\u001B[39;49m\u001B[43m,\u001B[49m\u001B[43m \u001B[49m\u001B[38;5;241;43m5\u001B[39;49m\u001B[43m)\u001B[49m\u001B[43m \u001B[49m\u001B[38;5;241;43m<\u001B[39;49m\u001B[43m \u001B[49m\u001B[43m(\u001B[49m\u001B[38;5;124;43m'\u001B[39;49m\u001B[38;5;124;43mjava\u001B[39;49m\u001B[38;5;124;43m'\u001B[39;49m\u001B[43m,\u001B[49m\u001B[43m \u001B[49m\u001B[38;5;124;43m'\u001B[39;49m\u001B[38;5;124;43mpython\u001B[39;49m\u001B[38;5;124;43m'\u001B[39;49m\u001B[43m)\u001B[49m)\n",
      "\u001B[1;31mTypeError\u001B[0m: '<' not supported between instances of 'int' and 'str'"
     ]
    }
   ],
   "source": [
    "print((7, 5) < ('java', 'python'))"
   ],
   "metadata": {
    "collapsed": false,
    "ExecuteTime": {
     "end_time": "2024-07-12T06:32:30.502075900Z",
     "start_time": "2024-07-12T06:32:30.261206600Z"
    }
   },
   "id": "889d811ca78b5812"
  },
  {
   "cell_type": "raw",
   "source": [
    "Сравнение кортежей происходит последовательно элемент за элементом, а если элементы равны — просматривается следующий элемент."
   ],
   "metadata": {
    "collapsed": false
   },
   "id": "da8e71d9f6fbc61a"
  },
  {
   "cell_type": "markdown",
   "source": [
    "Сортировка кортежей"
   ],
   "metadata": {
    "collapsed": false
   },
   "id": "9d460617aef42225"
  },
  {
   "cell_type": "raw",
   "source": [
    "Как мы помним, списки имеют метод sort(), который осуществляет сортировку на месте, то есть меняет порядок исходного списка. Поскольку кортежи по своей природе неизменяемы, то встроенного метода sort() они не содержат, тем не менее с помощью встроенной функции sorted() (не путать с списочным методом sort()) мы можем сортировать значения в кортежах."
   ],
   "metadata": {
    "collapsed": false
   },
   "id": "d0179e1b9096e342"
  },
  {
   "cell_type": "code",
   "execution_count": 8,
   "outputs": [
    {
     "name": "stdout",
     "output_type": "stream",
     "text": [
      "(34, 1, 8, 67, 5, 9, 0, 23)\n",
      "(0, 1, 5, 8, 9, 23, 34, 67)\n"
     ]
    }
   ],
   "source": [
    "not_sorted_tuple = (34, 1, 8, 67, 5, 9, 0, 23)\n",
    "print(not_sorted_tuple)\n",
    "\n",
    "sorted_tuple = tuple(sorted(not_sorted_tuple))\n",
    "print(sorted_tuple)"
   ],
   "metadata": {
    "collapsed": false,
    "ExecuteTime": {
     "end_time": "2024-07-12T06:33:25.853240900Z",
     "start_time": "2024-07-12T06:33:25.845259500Z"
    }
   },
   "id": "86045b853d9b7e31"
  },
  {
   "cell_type": "raw",
   "source": [
    "Обратите внимание, что функция sorted() возвращает список, но с помощью функции tuple() мы приводим результат сортировки к кортежу."
   ],
   "metadata": {
    "collapsed": false
   },
   "id": "6d428a0533a634e3"
  },
  {
   "cell_type": "raw",
   "source": [
    "Для сортировки кортежа можно воспользоваться явным преобразованием в список и использовать метод sort()"
   ],
   "metadata": {
    "collapsed": false
   },
   "id": "9ea7d6b9b0f23823"
  },
  {
   "cell_type": "code",
   "execution_count": 9,
   "outputs": [
    {
     "name": "stdout",
     "output_type": "stream",
     "text": [
      "('aa', 'bb', 'cc', 'dd')\n"
     ]
    }
   ],
   "source": [
    "not_sorted_tuple = ('cc', 'aa', 'dd', 'bb')\n",
    "tmp = list(not_sorted_tuple)\n",
    "tmp.sort()\n",
    "\n",
    "sorted_tuple = tuple(tmp)\n",
    "print(sorted_tuple)"
   ],
   "metadata": {
    "collapsed": false,
    "ExecuteTime": {
     "end_time": "2024-07-12T06:34:20.143139400Z",
     "start_time": "2024-07-12T06:34:20.136157200Z"
    }
   },
   "id": "e6e2879e1323af58"
  },
  {
   "cell_type": "markdown",
   "source": [
    "Преобразование кортежа в список и строку"
   ],
   "metadata": {
    "collapsed": false
   },
   "id": "e7cee0951aa3665f"
  },
  {
   "cell_type": "raw",
   "source": [
    "Часто на практике нам приходится преобразовывать кортежи в списки и в строки. Для этого используются функции и методы str(), list(), tuple(), join()."
   ],
   "metadata": {
    "collapsed": false
   },
   "id": "e71a0666a873ffd0"
  },
  {
   "cell_type": "markdown",
   "source": [
    "Преобразование кортежа в список и наоборот"
   ],
   "metadata": {
    "collapsed": false
   },
   "id": "41fdafc51f49aa33"
  },
  {
   "cell_type": "raw",
   "source": [
    "Кортеж можно преобразовать в список с помощью функции list()."
   ],
   "metadata": {
    "collapsed": false
   },
   "id": "1526e9c36aa23554"
  },
  {
   "cell_type": "code",
   "execution_count": 10,
   "outputs": [
    {
     "name": "stdout",
     "output_type": "stream",
     "text": [
      "[1, 2, 3, 4, 5]\n"
     ]
    }
   ],
   "source": [
    "tuple1 = (1, 2, 3, 4, 5)\n",
    "list1 = list(tuple1)\n",
    "print(list1)"
   ],
   "metadata": {
    "collapsed": false,
    "ExecuteTime": {
     "end_time": "2024-07-12T06:35:23.693678Z",
     "start_time": "2024-07-12T06:35:23.685188800Z"
    }
   },
   "id": "416a0b030f63c4a"
  },
  {
   "cell_type": "raw",
   "source": [
    "Список можно преобразовать в кортеж с помощью функции tuple()."
   ],
   "metadata": {
    "collapsed": false
   },
   "id": "6026a0f018653033"
  },
  {
   "cell_type": "code",
   "execution_count": 11,
   "outputs": [
    {
     "name": "stdout",
     "output_type": "stream",
     "text": [
      "(1, 17.8, 'Python')\n"
     ]
    }
   ],
   "source": [
    "list1 = [1, 17.8, 'Python']\n",
    "tuple1 = tuple(list1)\n",
    "print(tuple1)"
   ],
   "metadata": {
    "collapsed": false,
    "ExecuteTime": {
     "end_time": "2024-07-12T06:36:08.870076400Z",
     "start_time": "2024-07-12T06:36:08.862583800Z"
    }
   },
   "id": "d6e244024c926a82"
  },
  {
   "cell_type": "markdown",
   "source": [
    "Преобразование кортежа в строку и наоборот"
   ],
   "metadata": {
    "collapsed": false
   },
   "id": "1bce72be190482d0"
  },
  {
   "cell_type": "raw",
   "source": [
    "Кортеж можно преобразовать в строку с помощью строкового метода join()."
   ],
   "metadata": {
    "collapsed": false
   },
   "id": "eda6022ff68ee9f6"
  },
  {
   "cell_type": "code",
   "execution_count": 12,
   "outputs": [
    {
     "name": "stdout",
     "output_type": "stream",
     "text": [
      "DoReMiFaSolLaSi\n",
      "Do.Re.Mi.Fa.Sol.La.Si\n"
     ]
    }
   ],
   "source": [
    "notes = ('Do', 'Re', 'Mi', 'Fa', 'Sol', 'La', 'Si')\n",
    "string1 = ''.join(notes)\n",
    "string2 = '.'.join(notes)\n",
    "\n",
    "print(string1)\n",
    "print(string2)"
   ],
   "metadata": {
    "collapsed": false,
    "ExecuteTime": {
     "end_time": "2024-07-12T06:36:40.376865900Z",
     "start_time": "2024-07-12T06:36:40.350409400Z"
    }
   },
   "id": "89468aa289e5b85c"
  },
  {
   "cell_type": "raw",
   "source": [
    "Обратите внимание, что для применения строкового метода join() кортеж должен содержать именно строковые элементы. Если элементы кортежа отличны от строк, то требуется предварительно их преобразовать."
   ],
   "metadata": {
    "collapsed": false
   },
   "id": "6ddb842b2b32c113"
  },
  {
   "cell_type": "raw",
   "source": [
    "Строку можно преобразовать в кортеж с помощью функции tuple()."
   ],
   "metadata": {
    "collapsed": false
   },
   "id": "a84993d6e10a6de6"
  },
  {
   "cell_type": "code",
   "execution_count": 13,
   "outputs": [
    {
     "name": "stdout",
     "output_type": "stream",
     "text": [
      "('a', 'b', 'c', 'd', 'e', 'f', 'g', 'h', 'i', 'j', 'k', 'l')\n"
     ]
    }
   ],
   "source": [
    "letters = 'abcdefghijkl'\n",
    "tpl = tuple(letters)\n",
    "print(tpl)"
   ],
   "metadata": {
    "collapsed": false,
    "ExecuteTime": {
     "end_time": "2024-07-12T06:37:41.630020600Z",
     "start_time": "2024-07-12T06:37:41.622532800Z"
    }
   },
   "id": "7827a0c38cf903a0"
  },
  {
   "cell_type": "code",
   "execution_count": 14,
   "outputs": [
    {
     "ename": "TypeError",
     "evalue": "'int' object is not iterable",
     "output_type": "error",
     "traceback": [
      "\u001B[1;31m---------------------------------------------------------------------------\u001B[0m",
      "\u001B[1;31mTypeError\u001B[0m                                 Traceback (most recent call last)",
      "Cell \u001B[1;32mIn[14], line 2\u001B[0m\n\u001B[0;32m      1\u001B[0m number \u001B[38;5;241m=\u001B[39m \u001B[38;5;241m12345\u001B[39m\n\u001B[1;32m----> 2\u001B[0m tpl \u001B[38;5;241m=\u001B[39m \u001B[38;5;28;43mtuple\u001B[39;49m\u001B[43m(\u001B[49m\u001B[43mnumber\u001B[49m\u001B[43m)\u001B[49m\n\u001B[0;32m      3\u001B[0m \u001B[38;5;28mprint\u001B[39m(tpl)\n",
      "\u001B[1;31mTypeError\u001B[0m: 'int' object is not iterable"
     ]
    }
   ],
   "source": [
    "number = 12345\n",
    "tpl = tuple(number)\n",
    "print(tpl)"
   ],
   "metadata": {
    "collapsed": false,
    "ExecuteTime": {
     "end_time": "2024-07-12T06:38:15.965473700Z",
     "start_time": "2024-07-12T06:38:15.955862200Z"
    }
   },
   "id": "29d6db822cce8b64"
  },
  {
   "cell_type": "raw",
   "source": [
    "Это происходит, поскольку тип данных int не является итерируемым объектом. Для преобразования числа в кортеж сначала нужно число преобразовать в строку и уже только потом использовать функцию tuple()."
   ],
   "metadata": {
    "collapsed": false
   },
   "id": "943bd83b49901bb0"
  },
  {
   "cell_type": "code",
   "execution_count": 17,
   "outputs": [
    {
     "name": "stdout",
     "output_type": "stream",
     "text": [
      "('1', '2', '3', '4', '5')\n",
      "12345\n"
     ]
    }
   ],
   "source": [
    "number = 12345\n",
    "tpl = tuple(str(number))\n",
    "print(tpl)\n",
    "print(int(''.join(tpl)))"
   ],
   "metadata": {
    "collapsed": false,
    "ExecuteTime": {
     "end_time": "2024-07-12T06:40:32.317021700Z",
     "start_time": "2024-07-12T06:40:32.315508700Z"
    }
   },
   "id": "936cab1cce6220b6"
  },
  {
   "cell_type": "code",
   "execution_count": 18,
   "outputs": [
    {
     "name": "stdout",
     "output_type": "stream",
     "text": [
      "('Есенин', 13)\n",
      "('Маяковский', 28)\n"
     ]
    }
   ],
   "source": [
    "poets = [\n",
    "    (\"Есенин\", 13),\n",
    "    (\"Тургенев\", 14),\n",
    "    (\"Маяковский\", 28),\n",
    "    (\"Лермонтов\", 20),\n",
    "    (\"Фет\", 15),\n",
    "]\n",
    "\n",
    "for i in range(len(poets)):\n",
    "    for j in range(i + 1, len(poets)):\n",
    "        if poets[i][1] > poets[j][1]:\n",
    "            poets[i], poets[j] = poets[j], poets[i]\n",
    "\n",
    "print(poets[0])\n",
    "print(poets[-1])"
   ],
   "metadata": {
    "collapsed": false,
    "ExecuteTime": {
     "end_time": "2024-07-12T06:42:19.404552900Z",
     "start_time": "2024-07-12T06:42:19.402597100Z"
    }
   },
   "id": "796f73a799348ff7"
  },
  {
   "cell_type": "code",
   "execution_count": 19,
   "outputs": [
    {
     "name": "stdout",
     "output_type": "stream",
     "text": [
      "('Есенин', 13)\n",
      "('Фет', 15)\n"
     ]
    }
   ],
   "source": [
    "poets = [\n",
    "    (\"Тургенев\", 14),\n",
    "    (\"Есенин\", 13),\n",
    "    (\"Маяковский\", 28),\n",
    "    (\"Фет\", 15),\n",
    "    (\"Лермонтов\", 20),\n",
    "]\n",
    "\n",
    "for i in range(len(poets)):\n",
    "    for j in range(i + 1, len(poets)):\n",
    "        if poets[i] > poets[j]:\n",
    "            poets[i], poets[j] = poets[j], poets[i]\n",
    "\n",
    "print(poets[0])\n",
    "print(poets[-1])"
   ],
   "metadata": {
    "collapsed": false,
    "ExecuteTime": {
     "end_time": "2024-07-12T06:42:37.274019300Z",
     "start_time": "2024-07-12T06:42:37.266280300Z"
    }
   },
   "id": "5a0634a3e9ff72db"
  },
  {
   "cell_type": "raw",
   "source": [
    "Дополните приведенный код так, чтобы он вывел произведение элементов кортежа numbers."
   ],
   "metadata": {
    "collapsed": false
   },
   "id": "651ab7885098d244"
  },
  {
   "cell_type": "code",
   "execution_count": 20,
   "outputs": [
    {
     "name": "stdout",
     "output_type": "stream",
     "text": [
      "129638530920927229333292160000\n"
     ]
    }
   ],
   "source": [
    "numbers = (2, 3, 5, 7, -11, 13, 17, 19, 23, 29, 31, -6, 41, 43, 47, 53, 59, 61, -96, 71, 1000, -1)\n",
    "\n",
    "s = 1\n",
    "\n",
    "for i in numbers:\n",
    "    s *= i\n",
    "\n",
    "print(s)"
   ],
   "metadata": {
    "collapsed": false,
    "ExecuteTime": {
     "end_time": "2024-07-12T06:44:06.217031400Z",
     "start_time": "2024-07-12T06:44:06.214997600Z"
    }
   },
   "id": "922f4538cb9a9120"
  },
  {
   "cell_type": "code",
   "execution_count": 21,
   "outputs": [
    {
     "name": "stdout",
     "output_type": "stream",
     "text": [
      "129638530920927229333292160000\n"
     ]
    }
   ],
   "source": [
    "from math import prod\n",
    "\n",
    "numbers = (2, 3, 5, 7, -11, 13, 17, 19, 23, 29, 31, -6, 41, 43, 47, 53, 59, 61, -96, 71, 1000, -1)\n",
    "print(prod(numbers))"
   ],
   "metadata": {
    "collapsed": false,
    "ExecuteTime": {
     "end_time": "2024-07-12T06:45:18.472490Z",
     "start_time": "2024-07-12T06:45:18.462513100Z"
    }
   },
   "id": "b411b990249d69fb"
  },
  {
   "cell_type": "raw",
   "source": [
    "Дополните приведенный код так, чтобы он преобразовал строку в кортеж символов строки и вывел результат"
   ],
   "metadata": {
    "collapsed": false
   },
   "id": "a79b157f16feeed3"
  },
  {
   "cell_type": "code",
   "execution_count": 22,
   "outputs": [
    {
     "name": "stdout",
     "output_type": "stream",
     "text": [
      "('P', 'y', 't', 'h', 'o', 'n', ' ', 'д', 'л', 'я', ' ', 'п', 'р', 'о', 'д', 'в', 'и', 'н', 'у', 'т', 'ы', 'х', '!')\n"
     ]
    }
   ],
   "source": [
    "data = 'Python для продвинутых!'\n",
    "\n",
    "print(tuple(data))"
   ],
   "metadata": {
    "collapsed": false,
    "ExecuteTime": {
     "end_time": "2024-07-12T06:47:09.767656900Z",
     "start_time": "2024-07-12T06:47:09.765149300Z"
    }
   },
   "id": "f67852aa666e8196"
  },
  {
   "cell_type": "raw",
   "source": [
    "Программист Тимур написал программу для работы с биографическими данными русских поэтов. Данные содержатся в кортежах вида (фамилия, год рождения, город рождения). В процессе работы программы в некотором кортеже poet_data обнаружилась ошибка: ('Пушкин', 1799, 'Санкт-Петербург'). Тут неверно указано место рождения, ведь Александр Пушкин родился в Москве.\n",
    "\n",
    "Дополните приведенный код так, чтобы в переменной poet_data находился правильный кортеж (с исправленным значением), а затем выведите его содержимое."
   ],
   "metadata": {
    "collapsed": false
   },
   "id": "39db376deffd2332"
  },
  {
   "cell_type": "code",
   "execution_count": 23,
   "outputs": [
    {
     "name": "stdout",
     "output_type": "stream",
     "text": [
      "('Пушкин', 1799, 'Москва')\n"
     ]
    }
   ],
   "source": [
    "poet_data = ('Пушкин', 1799, 'Санкт-Петербург')\n",
    "\n",
    "print(poet_data[:-1] + ('Москва',))"
   ],
   "metadata": {
    "collapsed": false,
    "ExecuteTime": {
     "end_time": "2024-07-12T06:50:24.614663Z",
     "start_time": "2024-07-12T06:50:24.610394600Z"
    }
   },
   "id": "918e921c27e415ee"
  },
  {
   "cell_type": "raw",
   "source": [
    "Дополните приведенный код так, чтобы он вывел список, содержащий средние арифметические значения чисел каждого вложенного кортежа в заданном кортеже кортежей numbers."
   ],
   "metadata": {
    "collapsed": false
   },
   "id": "4989a58a3b833c0e"
  },
  {
   "cell_type": "code",
   "execution_count": 27,
   "outputs": [
    {
     "name": "stdout",
     "output_type": "stream",
     "text": [
      "[10.5, 44.0, 58.0, 2.5, 50.0]\n"
     ]
    }
   ],
   "source": [
    "def avg(tup):\n",
    "    return sum(tup) / len(tup)\n",
    "\n",
    "\n",
    "numbers = ((10, 10, 10, 12), (30, 45, 56, 45), (81, 80, 39, 32), (1, 2, 3, 4), (90, 10))\n",
    "print([avg(i) for i in numbers])"
   ],
   "metadata": {
    "collapsed": false,
    "ExecuteTime": {
     "end_time": "2024-07-12T06:56:03.442394500Z",
     "start_time": "2024-07-12T06:56:03.438882300Z"
    }
   },
   "id": "f70c5c25594420a6"
  },
  {
   "cell_type": "raw",
   "source": [
    "Уравнение параболы имеет вид y =ax в степени 2 +bx+c, где 𝑎≠0. Напишите программу, которая по введенным значениям a,b,c определяет и выводит вершину параболы.\n",
    "\n",
    "Формат входных данных\n",
    "На вход программе подаются три целых числа, каждое на отдельной строке.\n",
    "\n",
    "Формат выходных данных\n",
    "Программа должна вывести координаты вершины параболы.\n",
    "\n",
    "Примечание. Координаты вершины параболы 𝑦=𝑎𝑥 в степени 2+𝑏𝑥+𝑐 имеют вид \n",
    "(−𝑏/2𝑎;4𝑎𝑐−𝑏в степени2/4𝑎)."
   ],
   "metadata": {
    "collapsed": false
   },
   "id": "f2f9b802bd541234"
  },
  {
   "cell_type": "code",
   "execution_count": 32,
   "outputs": [
    {
     "name": "stdout",
     "output_type": "stream",
     "text": [
      "(1.5, 1.3061862178478973)\n",
      "(1.5, 5.5)\n"
     ]
    }
   ],
   "source": [
    "a, b, c = (int(input()), int(input()), int(input()))\n",
    "\n",
    "print((-b / (2 * a), (4 * a * c - b * b) / (4 * a)))"
   ],
   "metadata": {
    "collapsed": false,
    "ExecuteTime": {
     "end_time": "2024-07-12T07:06:07.249666600Z",
     "start_time": "2024-07-12T07:06:07.234564200Z"
    }
   },
   "id": "4f53aae2490a411b"
  },
  {
   "cell_type": "raw",
   "source": [
    "Напишите программу, которая выводит список хорошистов и отличников в классе.\n",
    "\n",
    "Формат входных данных\n",
    "На вход программе подается натуральное число n, далее следует n строк с фамилией школьника и его оценкой на каждой из них.\n",
    "\n",
    "Формат выходных данных\n",
    "Программа должна вывести сначала все введённые строки с фамилиями и оценками учеников в том же порядке. Затем следует пустая строка, а затем выводятся строки с фамилиями и оценками хорошистов и отличников (в том же порядке).\n",
    "\n",
    "Примечание 1. Оценка ученика – это натуральное число от 1 до 5.\n",
    "\n",
    "Примечание 2. Гарантируется, что в классе есть хотя бы один хорошист (обладатель оценки 4) или отличник (получивший 5)."
   ],
   "metadata": {
    "collapsed": false
   },
   "id": "98e986fa5176c0d1"
  },
  {
   "cell_type": "code",
   "execution_count": null,
   "outputs": [],
   "source": [
    "lst = []\n",
    "for i in range(int(input())):\n",
    "    x = input()\n",
    "    print(x)\n",
    "    y = x.split()\n",
    "    print(y)\n",
    "    lst.append(tuple(y))\n",
    "\n",
    "print(lst)\n",
    "\n",
    "modified_lst = [tuple(int(i[j]) if j % 2 else i[j] for j in range(len(i)))\n",
    "    for i in lst]\n",
    "print(modified_lst)\n",
    "\n",
    "print()\n",
    "\n",
    "print([i for i in modified_lst if i[1] > 3])\n",
    "print(*[i for i in modified_lst if i[1] > 3])\n",
    "print(*[' '.join(map(str, i)) for i in modified_lst if i[1] > 3], sep='\\n')"
   ],
   "metadata": {
    "collapsed": false
   },
   "id": "81f2ead2c8969b20"
  },
  {
   "cell_type": "code",
   "execution_count": null,
   "outputs": [],
   "source": [
    "# генератор списка, который создает список кортежей для всех студентов\n",
    "students = [tuple(input().split()) for _ in range(int(input()))]\n",
    "\n",
    "for student in students:\n",
    "    print(*student)\n",
    "    \n",
    "print()\n",
    "\n",
    "for name, grade in students:\n",
    "    if int(grade) > 3:\n",
    "        print(name, grade)\n",
    "        \n",
    "# - `for name, grade in students` — цикл, который проходит по каждому кортежу в списке `students`, распаковывая его элементы в переменные `name` и `grade`.\n",
    "# - `if int(grade) > 3` — условие, которое проверяет, больше ли оценка (grade) 3. Поскольку `grade` изначально является строкой, мы используем `int(grade)`, чтобы преобразовать ее в целое число для сравнения.\n",
    "# - `print(name, grade)` — если условие выполняется, выводим имя и оценку студента."
   ],
   "metadata": {
    "collapsed": false
   },
   "id": "dc80c10b162927eb"
  },
  {
   "cell_type": "code",
   "execution_count": null,
   "outputs": [],
   "source": [
    "lst = [input() for _ in range(int(input()))]\n",
    "print(*lst, sep='\\n')\n",
    "print()\n",
    "[print(i) for i in lst if int(i[-1]) > 3]"
   ],
   "metadata": {
    "collapsed": false
   },
   "id": "869ce60cfd70f42f"
  },
  {
   "cell_type": "markdown",
   "source": [
    "Упаковка кортежей"
   ],
   "metadata": {
    "collapsed": false
   },
   "id": "78a5092601bd957a"
  },
  {
   "cell_type": "raw",
   "source": [
    "Упаковкой кортежа называют присваивание его какой-либо переменной."
   ],
   "metadata": {
    "collapsed": false
   },
   "id": "da500b96c143b41e"
  },
  {
   "cell_type": "code",
   "execution_count": 36,
   "outputs": [
    {
     "name": "stdout",
     "output_type": "stream",
     "text": [
      "<class 'tuple'>\n",
      "<class 'tuple'>\n",
      "<class 'tuple'>\n"
     ]
    }
   ],
   "source": [
    "tuple1 = (1, 2, 3)\n",
    "tuple2 = ('b',)\n",
    "tuple3 = ('red', 'green', 'blue', 'cyan')\n",
    "\n",
    "print(type(tuple1))\n",
    "print(type(tuple2))\n",
    "print(type(tuple3))"
   ],
   "metadata": {
    "collapsed": false,
    "ExecuteTime": {
     "end_time": "2024-07-12T08:11:40.899289600Z",
     "start_time": "2024-07-12T08:11:40.886305600Z"
    }
   },
   "id": "45c51a658d721abb"
  },
  {
   "cell_type": "raw",
   "source": [
    "Обратите внимание на то, что упаковка выполняется всегда, когда справа от знака равенства стоит больше одного значения."
   ],
   "metadata": {
    "collapsed": false
   },
   "id": "236a6ca1b4e0a27a"
  },
  {
   "cell_type": "raw",
   "source": [
    "Приведенный ниже код автоматически запакует 1, 2, 3 и 'b', в кортежи (1, 2, 3) и ('b', ) и присвоит их значения переменным tuple1 и tuple2:"
   ],
   "metadata": {
    "collapsed": false
   },
   "id": "798a1eadb8ead5e8"
  },
  {
   "cell_type": "code",
   "execution_count": 37,
   "outputs": [
    {
     "name": "stdout",
     "output_type": "stream",
     "text": [
      "<class 'tuple'>\n",
      "<class 'tuple'>\n"
     ]
    }
   ],
   "source": [
    "tuple1 = 1, 2, 3\n",
    "tuple2 = 'b',\n",
    "\n",
    "print(type(tuple1))\n",
    "print(type(tuple2))"
   ],
   "metadata": {
    "collapsed": false,
    "ExecuteTime": {
     "end_time": "2024-07-12T08:12:46.423746300Z",
     "start_time": "2024-07-12T08:12:46.415169400Z"
    }
   },
   "id": "f8339cc6f8bd7d84"
  },
  {
   "cell_type": "markdown",
   "source": [
    "Распаковка кортежей"
   ],
   "metadata": {
    "collapsed": false
   },
   "id": "13287739da429378"
  },
  {
   "cell_type": "raw",
   "source": [
    "Обратная операция, смысл которой в том, чтобы присвоить значения элементов кортежа отдельным переменным, называется распаковкой кортежа."
   ],
   "metadata": {
    "collapsed": false
   },
   "id": "d210a99fd1dc88bb"
  },
  {
   "cell_type": "code",
   "execution_count": 40,
   "outputs": [
    {
     "name": "stdout",
     "output_type": "stream",
     "text": [
      "red\n",
      "green\n",
      "blue\n",
      "cyan\n"
     ]
    }
   ],
   "source": [
    "colors = ('red', 'green', 'blue', 'cyan')\n",
    "\n",
    "a, b, c, d = colors\n",
    "\n",
    "print(a)\n",
    "print(b)\n",
    "print(c)\n",
    "print(d)"
   ],
   "metadata": {
    "collapsed": false,
    "ExecuteTime": {
     "end_time": "2024-07-12T08:14:34.750092300Z",
     "start_time": "2024-07-12T08:14:34.744104500Z"
    }
   },
   "id": "651567c612e2845f"
  },
  {
   "cell_type": "raw",
   "source": [
    "Количество переменных должно совпадать с числом элементов в кортеже."
   ],
   "metadata": {
    "collapsed": false
   },
   "id": "2348ed736e6c68d3"
  },
  {
   "cell_type": "code",
   "execution_count": 41,
   "outputs": [
    {
     "ename": "ValueError",
     "evalue": "too many values to unpack (expected 2)",
     "output_type": "error",
     "traceback": [
      "\u001B[1;31m---------------------------------------------------------------------------\u001B[0m",
      "\u001B[1;31mValueError\u001B[0m                                Traceback (most recent call last)",
      "Cell \u001B[1;32mIn[41], line 2\u001B[0m\n\u001B[0;32m      1\u001B[0m colors \u001B[38;5;241m=\u001B[39m (\u001B[38;5;124m'\u001B[39m\u001B[38;5;124mred\u001B[39m\u001B[38;5;124m'\u001B[39m, \u001B[38;5;124m'\u001B[39m\u001B[38;5;124mgreen\u001B[39m\u001B[38;5;124m'\u001B[39m, \u001B[38;5;124m'\u001B[39m\u001B[38;5;124mblue\u001B[39m\u001B[38;5;124m'\u001B[39m, \u001B[38;5;124m'\u001B[39m\u001B[38;5;124mcyan\u001B[39m\u001B[38;5;124m'\u001B[39m)\n\u001B[1;32m----> 2\u001B[0m a, b \u001B[38;5;241m=\u001B[39m colors\n",
      "\u001B[1;31mValueError\u001B[0m: too many values to unpack (expected 2)"
     ]
    }
   ],
   "source": [
    "colors = ('red', 'green', 'blue', 'cyan')\n",
    "a, b = colors"
   ],
   "metadata": {
    "collapsed": false,
    "ExecuteTime": {
     "end_time": "2024-07-12T08:15:28.589106100Z",
     "start_time": "2024-07-12T08:15:28.563907300Z"
    }
   },
   "id": "c4de9f73c27a5a3c"
  },
  {
   "cell_type": "code",
   "execution_count": 42,
   "outputs": [
    {
     "ename": "ValueError",
     "evalue": "not enough values to unpack (expected 4, got 3)",
     "output_type": "error",
     "traceback": [
      "\u001B[1;31m---------------------------------------------------------------------------\u001B[0m",
      "\u001B[1;31mValueError\u001B[0m                                Traceback (most recent call last)",
      "Cell \u001B[1;32mIn[42], line 2\u001B[0m\n\u001B[0;32m      1\u001B[0m colors \u001B[38;5;241m=\u001B[39m (\u001B[38;5;124m'\u001B[39m\u001B[38;5;124mred\u001B[39m\u001B[38;5;124m'\u001B[39m, \u001B[38;5;124m'\u001B[39m\u001B[38;5;124mgreen\u001B[39m\u001B[38;5;124m'\u001B[39m, \u001B[38;5;124m'\u001B[39m\u001B[38;5;124mblue\u001B[39m\u001B[38;5;124m'\u001B[39m)\n\u001B[1;32m----> 2\u001B[0m a, b, c, d \u001B[38;5;241m=\u001B[39m colors\n",
      "\u001B[1;31mValueError\u001B[0m: not enough values to unpack (expected 4, got 3)"
     ]
    }
   ],
   "source": [
    "colors = ('red', 'green', 'blue')\n",
    "a, b, c, d = colors"
   ],
   "metadata": {
    "collapsed": false,
    "ExecuteTime": {
     "end_time": "2024-07-12T08:15:46.268181100Z",
     "start_time": "2024-07-12T08:15:46.244674700Z"
    }
   },
   "id": "2d4378635267c64"
  },
  {
   "cell_type": "raw",
   "source": [
    "Однако, если необходимо получить лишь какие-то отдельные значения, то в качестве \"ненужных\" переменных позволено использовать символ нижнего подчеркивания _."
   ],
   "metadata": {
    "collapsed": false
   },
   "id": "a2537a7ad0d619c7"
  },
  {
   "cell_type": "code",
   "execution_count": 43,
   "outputs": [
    {
     "name": "stdout",
     "output_type": "stream",
     "text": [
      "red\n",
      "green\n"
     ]
    }
   ],
   "source": [
    "colors = ('red', 'green', 'blue')\n",
    "a, b, _ = colors\n",
    "\n",
    "print(a)\n",
    "print(b)"
   ],
   "metadata": {
    "collapsed": false,
    "ExecuteTime": {
     "end_time": "2024-07-12T08:16:10.582649100Z",
     "start_time": "2024-07-12T08:16:10.557525500Z"
    }
   },
   "id": "97f4492c32a98738"
  },
  {
   "cell_type": "raw",
   "source": [
    "Распаковка кортежей очень удобна на практике. По сути мы использовали ее, когда меняли местами значения двух переменных без использования временных переменных."
   ],
   "metadata": {
    "collapsed": false
   },
   "id": "708cc636e1e95fc2"
  },
  {
   "cell_type": "code",
   "execution_count": 44,
   "outputs": [
    {
     "name": "stdout",
     "output_type": "stream",
     "text": [
      "17 7\n"
     ]
    }
   ],
   "source": [
    "a = 7\n",
    "b = 17\n",
    "a, b = b, a\n",
    "\n",
    "print(a, b)"
   ],
   "metadata": {
    "collapsed": false,
    "ExecuteTime": {
     "end_time": "2024-07-12T08:16:59.455439Z",
     "start_time": "2024-07-12T08:16:59.430151100Z"
    }
   },
   "id": "a516cb01435fbfc1"
  },
  {
   "cell_type": "raw",
   "source": [
    "Сначала вычисляются все значения справа, и лишь затем они кладутся в левую часть оператора присваивания. Поэтому можно менять местами значения переменных a и b, написав: a, b = b, a."
   ],
   "metadata": {
    "collapsed": false
   },
   "id": "d8b4a73e945e41ee"
  },
  {
   "cell_type": "code",
   "execution_count": 45,
   "outputs": [
    {
     "name": "stdout",
     "output_type": "stream",
     "text": [
      "1 2 3\n"
     ]
    }
   ],
   "source": [
    "a, b, c = 3, 2, 1\n",
    "b, a, c = c, a, b\n",
    "\n",
    "print(b, c, a)"
   ],
   "metadata": {
    "collapsed": false,
    "ExecuteTime": {
     "end_time": "2024-07-12T08:17:24.784800600Z",
     "start_time": "2024-07-12T08:17:24.757366400Z"
    }
   },
   "id": "fd3cecc0b9bc14f9"
  },
  {
   "cell_type": "markdown",
   "source": [
    "* при распаковке кортежей"
   ],
   "metadata": {
    "collapsed": false
   },
   "id": "d7bfe88309000aa6"
  },
  {
   "cell_type": "raw",
   "source": [
    "Как мы знаем, если при распаковке кортежа число элементов слева и справа не совпадает, то возникает ошибка времени исполнения. Есть способ собрать сразу несколько значений в одну переменную. Это делается при помощи звездочки перед именем переменной."
   ],
   "metadata": {
    "collapsed": false
   },
   "id": "e6448dc3f0df70a7"
  },
  {
   "cell_type": "code",
   "execution_count": null,
   "outputs": [],
   "source": [
    "a, b, *tail = 1, 2, 3, 4, 5, 6"
   ],
   "metadata": {
    "collapsed": false
   },
   "id": "fa1b121c0547e576"
  },
  {
   "cell_type": "raw",
   "source": [
    "В этом случае в переменной a будет записана единица, в переменной b — двойка, а в переменной tail — список, состоящий из всех аргументов, которые не попали в предыдущие переменные. В данном случае tail будет равен [3, 4, 5, 6].\n",
    "\n",
    "Учтите, что tail всегда будет списком, даже когда в него попадает лишь один элемент или даже ноль."
   ],
   "metadata": {
    "collapsed": false
   },
   "id": "675c3dec110b4dc5"
  },
  {
   "cell_type": "code",
   "execution_count": 46,
   "outputs": [
    {
     "name": "stdout",
     "output_type": "stream",
     "text": [
      "[3]\n"
     ]
    }
   ],
   "source": [
    "a, b, *tail = 1, 2, 3\n",
    "\n",
    "print(tail)"
   ],
   "metadata": {
    "collapsed": false,
    "ExecuteTime": {
     "end_time": "2024-07-12T08:19:08.488648200Z",
     "start_time": "2024-07-12T08:19:08.459680200Z"
    }
   },
   "id": "3b29d3e36c8507ec"
  },
  {
   "cell_type": "raw",
   "source": [
    "Звездочка может быть только у одного аргумента, но необязательно у последнего."
   ],
   "metadata": {
    "collapsed": false
   },
   "id": "92419c50ab243642"
  },
  {
   "cell_type": "code",
   "execution_count": 47,
   "outputs": [
    {
     "name": "stdout",
     "output_type": "stream",
     "text": [
      "['Стефани', 'Джоанн', 'Анджелина']\n",
      "Джерманотта\n"
     ]
    }
   ],
   "source": [
    "*names, surname = ('Стефани', 'Джоанн', 'Анджелина', 'Джерманотта')\n",
    "\n",
    "print(names)\n",
    "print(surname)"
   ],
   "metadata": {
    "collapsed": false,
    "ExecuteTime": {
     "end_time": "2024-07-12T08:19:25.494406100Z",
     "start_time": "2024-07-12T08:19:25.467569100Z"
    }
   },
   "id": "90afd03c3cb38d8c"
  },
  {
   "cell_type": "raw",
   "source": [
    "Аргумент со звездочкой может стоять и посередине."
   ],
   "metadata": {
    "collapsed": false
   },
   "id": "e07523a0945f48ae"
  },
  {
   "cell_type": "code",
   "execution_count": 48,
   "outputs": [
    {
     "name": "stdout",
     "output_type": "stream",
     "text": [
      "Freddie\n",
      "['Bohemian Rhapsody', 'Killer Queen', 'Love of my life']\n",
      "Mercury\n"
     ]
    }
   ],
   "source": [
    "singer = ('Freddie', 'Bohemian Rhapsody', 'Killer Queen', 'Love of my life', 'Mercury')\n",
    "\n",
    "name, *songs, surname = singer\n",
    "\n",
    "print(name)\n",
    "print(songs)\n",
    "print(surname)"
   ],
   "metadata": {
    "collapsed": false,
    "ExecuteTime": {
     "end_time": "2024-07-12T08:19:57.399994100Z",
     "start_time": "2024-07-12T08:19:57.372231800Z"
    }
   },
   "id": "277e82a63348573e"
  },
  {
   "cell_type": "raw",
   "source": [
    "Примечание 1. Если вы хотите распаковать единственное значение в кортеже, после имени переменной должна идти запятая."
   ],
   "metadata": {
    "collapsed": false
   },
   "id": "11b0548194980e79"
  },
  {
   "cell_type": "code",
   "execution_count": 49,
   "outputs": [
    {
     "name": "stdout",
     "output_type": "stream",
     "text": [
      "(1,)\n",
      "1\n"
     ]
    }
   ],
   "source": [
    "a = 1,      # не распаковка, а просто присвоение\n",
    "b, = 1,     # распаковка\n",
    "\n",
    "print(a)\n",
    "print(b)"
   ],
   "metadata": {
    "collapsed": false,
    "ExecuteTime": {
     "end_time": "2024-07-12T08:20:54.257149Z",
     "start_time": "2024-07-12T08:20:54.226600600Z"
    }
   },
   "id": "68fdfc24c7bd00e2"
  },
  {
   "cell_type": "raw",
   "source": [
    "Примечание 2. Распаковывать можно не только кортеж, правая сторона может быть любой последовательностью (кортеж, строка или список)."
   ],
   "metadata": {
    "collapsed": false
   },
   "id": "83882a28981fa16c"
  },
  {
   "cell_type": "code",
   "execution_count": 50,
   "outputs": [
    {
     "name": "stdout",
     "output_type": "stream",
     "text": [
      "timur\n",
      "beegeek.org\n",
      "m\n",
      "a\n",
      "t\n",
      "h\n"
     ]
    }
   ],
   "source": [
    "info = ['timur', 'beegeek.org']\n",
    "user, domain = info    # распаковка списка\n",
    "\n",
    "print(user)\n",
    "print(domain)\n",
    "\n",
    "a, b, c, d = 'math'    # распаковка строки\n",
    "\n",
    "print(a)\n",
    "print(b)\n",
    "print(c)\n",
    "print(d)"
   ],
   "metadata": {
    "collapsed": false,
    "ExecuteTime": {
     "end_time": "2024-07-12T08:21:30.415430100Z",
     "start_time": "2024-07-12T08:21:30.371762500Z"
    }
   },
   "id": "d2012a1a36ef0407"
  },
  {
   "cell_type": "raw",
   "source": [
    "Примечание 3. Помимо метода split() строковый тип данных содержит метод partition(). Метод partition() принимает на вход один аргумент sep, разделяет строку при первом появлении sep и возвращает кортеж, состоящий из трех элементов: часть перед разделителем, сам разделитель и часть после разделителя. Если разделитель не найден, то кортеж содержит саму строку, за которой следуют две пустые строки."
   ],
   "metadata": {
    "collapsed": false
   },
   "id": "3a71c29f9de6cb4a"
  },
  {
   "cell_type": "code",
   "execution_count": 51,
   "outputs": [
    {
     "name": "stdout",
     "output_type": "stream",
     "text": [
      "('abc', '-', 'de')\n",
      "('abc-de', '', '')\n",
      "('abc', '-', 'de-fgh')\n"
     ]
    }
   ],
   "source": [
    "s1 = 'abc-de'.partition('-')\n",
    "s2 = 'abc-de'.partition('.')\n",
    "s3 = 'abc-de-fgh'.partition('-')\n",
    "\n",
    "print(s1)\n",
    "print(s2)\n",
    "print(s3)"
   ],
   "metadata": {
    "collapsed": false,
    "ExecuteTime": {
     "end_time": "2024-07-12T08:22:25.286214700Z",
     "start_time": "2024-07-12T08:22:25.251299400Z"
    }
   },
   "id": "3f93f48695f3ddaa"
  },
  {
   "cell_type": "raw",
   "source": [
    "Примечание 4. С использованием кортежей многие алгоритмы приобретают достаточно краткую форму. Например, вычисление чисел Фибоначчи может выглядеть следующим образом:"
   ],
   "metadata": {
    "collapsed": false
   },
   "id": "dda603ecbf878f5a"
  },
  {
   "cell_type": "code",
   "execution_count": 54,
   "outputs": [
    {
     "name": "stdout",
     "output_type": "stream",
     "text": [
      "1\n",
      "1\n",
      "2\n",
      "3\n",
      "5\n",
      "8\n",
      "13\n",
      "21\n",
      "34\n",
      "55\n"
     ]
    }
   ],
   "source": [
    "n = int(input())\n",
    "f1, f2 = 1, 1\n",
    "for i in range(n):\n",
    "    print(f1)\n",
    "    f1, f2 = f2, f1 + f2"
   ],
   "metadata": {
    "collapsed": false,
    "ExecuteTime": {
     "end_time": "2024-07-12T08:27:05.120571800Z",
     "start_time": "2024-07-12T08:27:03.715300900Z"
    }
   },
   "id": "ea58cb8ac38b24f4"
  },
  {
   "cell_type": "raw",
   "source": [
    "Примечание 5. Замечательная серия статей о коллекциях (list, tuple, str, set, dict) в Python.\n",
    "https://habr.com/ru/post/319164/"
   ],
   "metadata": {
    "collapsed": false
   },
   "id": "c81b4c1cb42a0200"
  },
  {
   "cell_type": "code",
   "execution_count": 55,
   "outputs": [
    {
     "name": "stdout",
     "output_type": "stream",
     "text": [
      "60 40 30\n"
     ]
    }
   ],
   "source": [
    "a, b, c = 10, 20, 30\n",
    "c, b, a = a + b, b*2, a + b + c\n",
    "\n",
    "print(a, b, c)"
   ],
   "metadata": {
    "collapsed": false,
    "ExecuteTime": {
     "end_time": "2024-07-12T08:28:27.611240200Z",
     "start_time": "2024-07-12T08:28:27.605256400Z"
    }
   },
   "id": "19ebbe45a0bef915"
  },
  {
   "cell_type": "code",
   "execution_count": 56,
   "outputs": [
    {
     "name": "stdout",
     "output_type": "stream",
     "text": [
      "линал 98\n"
     ]
    }
   ],
   "source": [
    "points = [('матан', 100), ('линал', 98), ('ангем', 90)]\n",
    "\n",
    "subject, value = points[1]\n",
    "\n",
    "print(subject, value)"
   ],
   "metadata": {
    "collapsed": false,
    "ExecuteTime": {
     "end_time": "2024-07-12T08:28:40.289244300Z",
     "start_time": "2024-07-12T08:28:40.283747400Z"
    }
   },
   "id": "897cc5ed53239b0"
  },
  {
   "cell_type": "code",
   "execution_count": 57,
   "outputs": [
    {
     "name": "stdout",
     "output_type": "stream",
     "text": [
      "['Fa', 'Sol', 'La', 'Si']\n"
     ]
    }
   ],
   "source": [
    "notes = ('Do', 'Re', 'Mi', 'Fa', 'Sol', 'La', 'Si')\n",
    "\n",
    "do, re, mi, *tail = notes\n",
    "\n",
    "print(tail)"
   ],
   "metadata": {
    "collapsed": false,
    "ExecuteTime": {
     "end_time": "2024-07-12T08:28:48.528539400Z",
     "start_time": "2024-07-12T08:28:48.522320300Z"
    }
   },
   "id": "2b8f82e3f74e5006"
  },
  {
   "cell_type": "code",
   "execution_count": 58,
   "outputs": [
    {
     "name": "stdout",
     "output_type": "stream",
     "text": [
      "['Mi', 'Fa', 'Sol', 'La']\n"
     ]
    }
   ],
   "source": [
    "notes = ('Do', 'Re', 'Mi', 'Fa', 'Sol', 'La', 'Si')\n",
    "\n",
    "do, re, *tail, si = notes\n",
    "\n",
    "print(tail)"
   ],
   "metadata": {
    "collapsed": false,
    "ExecuteTime": {
     "end_time": "2024-07-12T08:28:59.076303Z",
     "start_time": "2024-07-12T08:28:59.070280900Z"
    }
   },
   "id": "61cddf037692dd09"
  },
  {
   "cell_type": "raw",
   "source": [
    "Напишите программу, которая считывает натуральное число n и выводит первые n чисел последовательности Трибоначчи.\n",
    "\n",
    "Формат входных данных\n",
    "На вход программе подается одно число n (n≤100) – количество членов последовательности.\n",
    "\n",
    "Формат выходных данных\n",
    "Программа должна вывести члены последовательности Трибоначчи, отделенные символом пробела.\n",
    "\n",
    "Примечание. Последовательность Трибоначчи – последовательность натуральных чисел, где каждое последующее число является суммой трех предыдущих:\n",
    "1,1,1,3,5,9,17,31,57,105 …"
   ],
   "metadata": {
    "collapsed": false
   },
   "id": "ea29dad5e97e6ff5"
  },
  {
   "cell_type": "code",
   "execution_count": 61,
   "outputs": [
    {
     "name": "stdout",
     "output_type": "stream",
     "text": [
      "1 1 1 3 5 9 17 31 57 105 "
     ]
    }
   ],
   "source": [
    "n = int(input())\n",
    "f1, f2, f3 = 1, 1, 1\n",
    "for i in range(n):\n",
    "    print(f1, end=' ')\n",
    "    f1, f2, f3 = f2, f3, f1 + f2 + f3"
   ],
   "metadata": {
    "collapsed": false,
    "ExecuteTime": {
     "end_time": "2024-07-12T08:33:53.346912200Z",
     "start_time": "2024-07-12T08:33:52.166267Z"
    }
   },
   "id": "2e0eb003c3dae89e"
  }
 ],
 "metadata": {
  "kernelspec": {
   "display_name": "Python 3",
   "language": "python",
   "name": "python3"
  },
  "language_info": {
   "codemirror_mode": {
    "name": "ipython",
    "version": 2
   },
   "file_extension": ".py",
   "mimetype": "text/x-python",
   "name": "python",
   "nbconvert_exporter": "python",
   "pygments_lexer": "ipython2",
   "version": "2.7.6"
  }
 },
 "nbformat": 4,
 "nbformat_minor": 5
}
