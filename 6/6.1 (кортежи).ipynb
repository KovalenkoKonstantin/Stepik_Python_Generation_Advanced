{
 "cells": [
  {
   "cell_type": "raw",
   "source": [
    " Списки – изменяемые коллекции, строки – неизменяемые последовательности Unicode символов. В Python имеются и неизменяемые последовательности, содержащие, в отличие от строк, абсолютно произвольные данные. Такие коллекции называются кортежами (tuple, читается \"тюпл\")."
   ],
   "metadata": {
    "collapsed": false
   },
   "id": "2e093305f37d8b36"
  },
  {
   "cell_type": "raw",
   "source": [
    "Заменив квадратные скобки при объявлении списка на круглые, мы объявляем кортеж:"
   ],
   "metadata": {
    "collapsed": false
   },
   "id": "90967e25d071de56"
  },
  {
   "cell_type": "code",
   "execution_count": 1,
   "outputs": [],
   "source": [
    "my_tuple = (1, 2, 3, 4, 5)"
   ],
   "metadata": {
    "collapsed": false,
    "ExecuteTime": {
     "end_time": "2024-07-11T13:14:14.201420300Z",
     "start_time": "2024-07-11T13:14:14.198860400Z"
    }
   },
   "id": "d0fdfe78fb1d914d"
  },
  {
   "cell_type": "raw",
   "source": [
    "Кортежи по своей природе (задумке) – неизменяемые аналоги списков."
   ],
   "metadata": {
    "collapsed": false
   },
   "id": "e7183afa04af2b70"
  },
  {
   "cell_type": "code",
   "execution_count": 2,
   "outputs": [
    {
     "ename": "TypeError",
     "evalue": "'tuple' object does not support item assignment",
     "output_type": "error",
     "traceback": [
      "\u001B[1;31m---------------------------------------------------------------------------\u001B[0m",
      "\u001B[1;31mTypeError\u001B[0m                                 Traceback (most recent call last)",
      "Cell \u001B[1;32mIn[2], line 2\u001B[0m\n\u001B[0;32m      1\u001B[0m my_tuple \u001B[38;5;241m=\u001B[39m (\u001B[38;5;241m1\u001B[39m, \u001B[38;5;241m2\u001B[39m, \u001B[38;5;241m3\u001B[39m, \u001B[38;5;241m4\u001B[39m, \u001B[38;5;241m5\u001B[39m)\n\u001B[1;32m----> 2\u001B[0m \u001B[43mmy_tuple\u001B[49m\u001B[43m[\u001B[49m\u001B[38;5;241;43m0\u001B[39;49m\u001B[43m]\u001B[49m \u001B[38;5;241m=\u001B[39m \u001B[38;5;241m9\u001B[39m\n\u001B[0;32m      3\u001B[0m my_tuple[\u001B[38;5;241m4\u001B[39m] \u001B[38;5;241m=\u001B[39m \u001B[38;5;241m7\u001B[39m\n\u001B[0;32m      4\u001B[0m \u001B[38;5;28mprint\u001B[39m(my_tuple)\n",
      "\u001B[1;31mTypeError\u001B[0m: 'tuple' object does not support item assignment"
     ]
    }
   ],
   "source": [
    "my_tuple = (1, 2, 3, 4, 5)\n",
    "my_tuple[0] = 9\n",
    "my_tuple[4] = 7\n",
    "print(my_tuple)"
   ],
   "metadata": {
    "collapsed": false,
    "ExecuteTime": {
     "end_time": "2024-07-11T13:14:38.599313200Z",
     "start_time": "2024-07-11T13:14:38.371743600Z"
    }
   },
   "id": "440c3bce3c689552"
  },
  {
   "cell_type": "raw",
   "source": [
    "Кортеж (tuple) – ещё один вид коллекций в Python. Они похожи на списки, но являются неизменяемыми."
   ],
   "metadata": {
    "collapsed": false
   },
   "id": "f7abc32f409eabea"
  },
  {
   "cell_type": "raw",
   "source": [
    "В литеральной форме кортеж записывается в виде последовательности элементов в круглых скобках, а список – в квадратных."
   ],
   "metadata": {
    "collapsed": false
   },
   "id": "df67480832464b2c"
  },
  {
   "cell_type": "code",
   "execution_count": null,
   "outputs": [],
   "source": [
    "empty_tuple = ()                                     # пустой кортеж\n",
    "point = (1.5, 6.0)                                   # кортеж из двух чисел\n",
    "names = ('Timur', 'Ruslan', 'Roman')                 # кортеж из трех строк\n",
    "info = ('Timur', 'Guev', 28, 170, 60, False)         # кортеж из 6 элементов разных типов\n",
    "nested_tuple = (('one', 'two'), ['three', 'four'])   # кортеж из кортежа и списка"
   ],
   "metadata": {
    "collapsed": false
   },
   "id": "a9acb28576bbbb1f"
  },
  {
   "cell_type": "raw",
   "source": [
    "Кортежи могут хранить и содержать в себе объекты любых типов (даже составных) и поддерживают неограниченное количество уровней вложенности."
   ],
   "metadata": {
    "collapsed": false
   },
   "id": "210bd93352e644f4"
  },
  {
   "cell_type": "raw",
   "source": [
    "Для создания кортежа с единственным элементом после значения элемента ставят замыкающую запятую:"
   ],
   "metadata": {
    "collapsed": false
   },
   "id": "a4aa95979535482b"
  },
  {
   "cell_type": "code",
   "execution_count": 3,
   "outputs": [
    {
     "name": "stdout",
     "output_type": "stream",
     "text": [
      "<class 'tuple'>\n"
     ]
    }
   ],
   "source": [
    "my_tuple = (1,)\n",
    "print(type(my_tuple))  # <class 'tuple'>"
   ],
   "metadata": {
    "collapsed": false,
    "ExecuteTime": {
     "end_time": "2024-07-11T13:16:35.740474500Z",
     "start_time": "2024-07-11T13:16:35.726006500Z"
    }
   },
   "id": "ebe64f286d23612"
  },
  {
   "cell_type": "raw",
   "source": [
    "Если запятую пропустить, то кортеж создан не будет. Например, приведенный ниже код просто присваивает переменной my_tuple целочисленное значение 1:"
   ],
   "metadata": {
    "collapsed": false
   },
   "id": "c70676eb7025b545"
  },
  {
   "cell_type": "code",
   "execution_count": 4,
   "outputs": [
    {
     "name": "stdout",
     "output_type": "stream",
     "text": [
      "<class 'int'>\n"
     ]
    }
   ],
   "source": [
    "my_tuple = (1)\n",
    "print(type(my_tuple))  # <class 'int'>"
   ],
   "metadata": {
    "collapsed": false,
    "ExecuteTime": {
     "end_time": "2024-07-11T13:16:58.033059200Z",
     "start_time": "2024-07-11T13:16:58.025073800Z"
    }
   },
   "id": "f79d8689e3bd8584"
  },
  {
   "cell_type": "code",
   "execution_count": 5,
   "outputs": [
    {
     "name": "stdout",
     "output_type": "stream",
     "text": [
      "<class 'tuple'>\n"
     ]
    }
   ],
   "source": [
    "my_tuple = (1, 2)\n",
    "print(type(my_tuple)) "
   ],
   "metadata": {
    "collapsed": false,
    "ExecuteTime": {
     "end_time": "2024-07-11T13:17:25.588596800Z",
     "start_time": "2024-07-11T13:17:25.586095100Z"
    }
   },
   "id": "bc594afa5bacfab5"
  },
  {
   "cell_type": "raw",
   "source": [
    "Списки могут делать то же, что кортежи, и даже больше. Но неизменяемость кортежей обеспечивает им особые свойства:\n",
    "\n",
    "скорость – кортежи быстрее работают, так как из-за неизменяемости хранятся в памяти иначе, и операции с их элементами выполняются заведомо быстрее, чем с компонентами списка. Одна из причин существования кортежей  – производительность. Обработка кортежа выполняется быстрее, чем обработка списка, поэтому кортежи удобны для обработки большого объема неизменяемых данных.\n",
    "безопасность – неизменяемость превращает их в идеальные константы. Заданные кортежами константы делают код более читаемым и безопасным. Кроме того, в кортеже можно безопасно хранить данные, не опасаясь, что они будут случайно или преднамеренно изменены в программе.\n",
    "В Python существуют операции, требующие применения кортежа. По мере освоения языка Python вы будете чаще сталкиваться с кортежами."
   ],
   "metadata": {
    "collapsed": false
   },
   "id": "290995a3bb51f8f1"
  },
  {
   "cell_type": "raw",
   "source": [
    " Списки предназначены для объединения неопределенного количества однородных сущностей. Кортежи, как правило, объединяют под одним именем несколько разнородных объектов, имеющих различный смысл.\n",
    "Например, список удобен для хранения нескольких городов\n",
    "А кортеж удобен для хранения данных о людях:"
   ],
   "metadata": {
    "collapsed": false
   },
   "id": "176b662e29ee9cea"
  },
  {
   "cell_type": "code",
   "execution_count": 6,
   "outputs": [],
   "source": [
    "person = ('Vasya', 27, 'Auckland')"
   ],
   "metadata": {
    "collapsed": false,
    "ExecuteTime": {
     "end_time": "2024-07-11T13:19:51.911624700Z",
     "start_time": "2024-07-11T13:19:51.902906Z"
    }
   },
   "id": "17ed5a9b8d1888bb"
  },
  {
   "cell_type": "raw",
   "source": [
    "Тот факт, что кортеж является неизменяемым вовсе не означает, что мы не можем поменять содержимое списка в кортеже."
   ],
   "metadata": {
    "collapsed": false
   },
   "id": "13aecaa10c1edaa6"
  },
  {
   "cell_type": "code",
   "execution_count": 7,
   "outputs": [
    {
     "name": "stdout",
     "output_type": "stream",
     "text": [
      "(1, 'python', [1, 2, 3])\n",
      "(1, 'python', [100, 2, 3, 17])\n"
     ]
    }
   ],
   "source": [
    "my_tuple = (1, 'python', [1, 2, 3])\n",
    "print(my_tuple)\n",
    "my_tuple[2][0] = 100\n",
    "my_tuple[2].append(17)\n",
    "print(my_tuple)"
   ],
   "metadata": {
    "collapsed": false,
    "ExecuteTime": {
     "end_time": "2024-07-11T13:20:23.803038Z",
     "start_time": "2024-07-11T13:20:23.760490100Z"
    }
   },
   "id": "f4dd8e41761e5c82"
  },
  {
   "cell_type": "raw",
   "source": [
    "При этом важно понимать: меняется список, а не кортеж. Списки являются ссылочными типами данных, поэтому в кортеже хранится ссылка на список, которая не меняется при изменении самого списка."
   ],
   "metadata": {
    "collapsed": false
   },
   "id": "a45c417206c710ea"
  }
 ],
 "metadata": {
  "kernelspec": {
   "display_name": "Python 3",
   "language": "python",
   "name": "python3"
  },
  "language_info": {
   "codemirror_mode": {
    "name": "ipython",
    "version": 2
   },
   "file_extension": ".py",
   "mimetype": "text/x-python",
   "name": "python",
   "nbconvert_exporter": "python",
   "pygments_lexer": "ipython2",
   "version": "2.7.6"
  }
 },
 "nbformat": 4,
 "nbformat_minor": 5
}
