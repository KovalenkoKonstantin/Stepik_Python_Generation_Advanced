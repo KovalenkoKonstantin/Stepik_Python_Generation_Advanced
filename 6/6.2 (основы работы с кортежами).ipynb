{
 "cells": [
  {
   "cell_type": "markdown",
   "source": [
    "Функция tuple()"
   ],
   "metadata": {
    "collapsed": false
   },
   "id": "2da61cf5130b116c"
  },
  {
   "cell_type": "raw",
   "source": [
    "Встроенная функция list() может применяться для преобразования кортежа в список."
   ],
   "metadata": {
    "collapsed": false
   },
   "id": "e7158dcd3ec9356c"
  },
  {
   "cell_type": "code",
   "execution_count": 1,
   "outputs": [
    {
     "name": "stdout",
     "output_type": "stream",
     "text": [
      "[1, 2, 3, 4, 5]\n"
     ]
    }
   ],
   "source": [
    "number_tuple = (1, 2, 3, 4, 5)\n",
    "number_list = list(number_tuple)\n",
    "print(number_list)"
   ],
   "metadata": {
    "collapsed": false,
    "ExecuteTime": {
     "end_time": "2024-07-11T13:49:38.122572600Z",
     "start_time": "2024-07-11T13:49:38.118791800Z"
    }
   },
   "id": "519f281c0e166178"
  },
  {
   "cell_type": "raw",
   "source": [
    "Встроенная функция tuple()  может применяться для преобразования списка в кортеж."
   ],
   "metadata": {
    "collapsed": false
   },
   "id": "c3541075eb0e6d3f"
  },
  {
   "cell_type": "code",
   "execution_count": 2,
   "outputs": [
    {
     "name": "stdout",
     "output_type": "stream",
     "text": [
      "('один', 'два', 'три')\n"
     ]
    }
   ],
   "source": [
    "str_list = ['один', 'два', 'три']\n",
    "str_tuple = tuple(str_list)\n",
    "print(str_tuple)"
   ],
   "metadata": {
    "collapsed": false,
    "ExecuteTime": {
     "end_time": "2024-07-11T13:49:53.533277200Z",
     "start_time": "2024-07-11T13:49:53.528767500Z"
    }
   },
   "id": "cff0784fbfa996e9"
  },
  {
   "cell_type": "raw",
   "source": [
    "Аналогичным образом мы можем создать кортеж на основании строки."
   ],
   "metadata": {
    "collapsed": false
   },
   "id": "5fd1e750f1d6fb36"
  },
  {
   "cell_type": "code",
   "execution_count": 3,
   "outputs": [
    {
     "name": "stdout",
     "output_type": "stream",
     "text": [
      "('h', 'e', 'l', 'l', 'o', ' ', 'p', 'y', 't', 'h', 'o', 'n')\n"
     ]
    }
   ],
   "source": [
    "text = 'hello python'\n",
    "str_tuple = tuple(text)\n",
    "print(str_tuple)"
   ],
   "metadata": {
    "collapsed": false,
    "ExecuteTime": {
     "end_time": "2024-07-11T13:50:09.556769600Z",
     "start_time": "2024-07-11T13:50:09.551784200Z"
    }
   },
   "id": "b47580664a2476dd"
  },
  {
   "cell_type": "raw",
   "source": [
    "Преобразование строки в список позволяет получить список символов строки. Это может быть полезно, например, когда надо изменить один символ строки:"
   ],
   "metadata": {
    "collapsed": false
   },
   "id": "adf74779cc12a4aa"
  },
  {
   "cell_type": "code",
   "execution_count": 9,
   "outputs": [
    {
     "name": "stdout",
     "output_type": "stream",
     "text": [
      "симпотичный\n",
      "['с', 'и', 'м', 'п', 'о', 'т', 'и', 'ч', 'н', 'ы', 'й']\n",
      "['с', 'и', 'м', 'п', 'а', 'т', 'и', 'ч', 'н', 'ы', 'й']\n",
      "симпатичный\n",
      "('с', 'и', 'м', 'п', 'а', 'т', 'и', 'ч', 'н', 'ы', 'й')\n"
     ]
    }
   ],
   "source": [
    "s = 'симпотичный'\n",
    "print(s)\n",
    "\n",
    "a = list(s)\n",
    "print(a)\n",
    "a[4] = 'а'\n",
    "print(a)\n",
    "s = ''.join(a)\n",
    "print(s)\n",
    "b = tuple(a)\n",
    "print(b)"
   ],
   "metadata": {
    "collapsed": false,
    "ExecuteTime": {
     "end_time": "2024-07-11T13:53:31.607510300Z",
     "start_time": "2024-07-11T13:53:31.601016400Z"
    }
   },
   "id": "131f79a6bbb7c518"
  },
  {
   "cell_type": "raw",
   "source": [
    "С этой же целью может потребоваться преобразование кортежа в список:"
   ],
   "metadata": {
    "collapsed": false
   },
   "id": "a2a9d30e243bd4d1"
  },
  {
   "cell_type": "code",
   "execution_count": 21,
   "outputs": [
    {
     "name": "stdout",
     "output_type": "stream",
     "text": [
      "кортеж - ('Лев Толстой', 1827)\n",
      "список - ['Лев Толстой', 1827]\n",
      "изменённый список - ['Лев Толстой', 1828]\n",
      "кортеж - ('Лев Толстой', 1828)\n",
      "['Лев Толстой', 1828]\n"
     ]
    }
   ],
   "source": [
    "writer = ('Лев Толстой', 1827)\n",
    "print(f'кортеж - {writer}')\n",
    "\n",
    "a = list(writer)\n",
    "print(f'список - {a}')\n",
    "a[1] = 1828\n",
    "print(f'изменённый список - {a}')\n",
    "writer = tuple(a)\n",
    "print(f'кортеж - {writer}')\n",
    "s = list(writer)\n",
    "print(s)"
   ],
   "metadata": {
    "collapsed": false,
    "ExecuteTime": {
     "end_time": "2024-07-11T13:59:33.932706700Z",
     "start_time": "2024-07-11T13:59:33.918234800Z"
    }
   },
   "id": "ba4f8a3f51f9c1b8"
  },
  {
   "cell_type": "markdown",
   "source": [
    "Особенности кортежей"
   ],
   "metadata": {
    "collapsed": false
   },
   "id": "c65b275b04d631cd"
  },
  {
   "cell_type": "raw",
   "source": [
    "Кортежи поддерживают те же операции, что и списки, за исключением изменяющих содержимое.\n",
    "\n",
    "Кортежи поддерживают:\n",
    "\n",
    "доступ к элементу по индексу (только для получения значений элементов);\n",
    "методы, в частности index(), count();\n",
    "встроенные функции, в частности len(), sum(), min() и max();\n",
    "срезы;\n",
    "оператор принадлежности in;\n",
    "операторы конкатенации (+) и повторения (*)."
   ],
   "metadata": {
    "collapsed": false
   },
   "id": "a77c66ff240b0a18"
  },
  {
   "cell_type": "markdown",
   "source": [
    "Функция len()"
   ],
   "metadata": {
    "collapsed": false
   },
   "id": "6802203afa7b4da5"
  },
  {
   "cell_type": "raw",
   "source": [
    "Длиной кортежа называется количество его элементов. Для того, чтобы посчитать длину кортежа, мы используем встроенную функцию len()"
   ],
   "metadata": {
    "collapsed": false
   },
   "id": "5be055802a17f757"
  },
  {
   "cell_type": "code",
   "execution_count": 24,
   "outputs": [
    {
     "name": "stdout",
     "output_type": "stream",
     "text": [
      "7\n",
      "4\n",
      "3\n"
     ]
    }
   ],
   "source": [
    "numbers = (2, 4, 6, 8, 10, ' ', '')\n",
    "languages = ('Python', 'C#', 'C++', 'Java')\n",
    "\n",
    "print(len(numbers))  # выводим длину кортежа numbers\n",
    "print(len(languages))  # выводим длину кортежа languages\n",
    "\n",
    "print(len(('apple', 'banana', 'cherry')))  # выводим длину кортежа, состоящего из 3 элементов"
   ],
   "metadata": {
    "collapsed": false,
    "ExecuteTime": {
     "end_time": "2024-07-12T05:12:54.168400900Z",
     "start_time": "2024-07-12T05:12:54.160231Z"
    }
   },
   "id": "df2ce1169802d5a9"
  },
  {
   "cell_type": "markdown",
   "source": [
    "Оператор принадлежности in"
   ],
   "metadata": {
    "collapsed": false
   },
   "id": "376abd95d8afab4b"
  },
  {
   "cell_type": "raw",
   "source": [
    "Оператор in позволяет проверить, содержит ли кортеж некоторый элемент"
   ],
   "metadata": {
    "collapsed": false
   },
   "id": "c0bf60e69f5b23ae"
  },
  {
   "cell_type": "code",
   "execution_count": 25,
   "outputs": [
    {
     "name": "stdout",
     "output_type": "stream",
     "text": [
      "Кортеж numbers содержит число 2\n"
     ]
    }
   ],
   "source": [
    "numbers = (2, 4, 6, 8, 10)\n",
    "\n",
    "if 2 in numbers:\n",
    "    print('Кортеж numbers содержит число 2')\n",
    "else:\n",
    "    print('Кортеж numbers не содержит число 2')"
   ],
   "metadata": {
    "collapsed": false,
    "ExecuteTime": {
     "end_time": "2024-07-12T05:14:13.127865600Z",
     "start_time": "2024-07-12T05:14:13.120376800Z"
    }
   },
   "id": "c5ccd3af368da039"
  },
  {
   "cell_type": "raw",
   "source": [
    "Мы можем использовать оператор in вместе с логическим оператором not. Например"
   ],
   "metadata": {
    "collapsed": false
   },
   "id": "6835c2e97468e967"
  },
  {
   "cell_type": "code",
   "execution_count": 26,
   "outputs": [
    {
     "name": "stdout",
     "output_type": "stream",
     "text": [
      "Кортеж numbers не содержит нулей\n"
     ]
    }
   ],
   "source": [
    "numbers = (2, 4, 6, 8, 10)\n",
    "\n",
    "if 0 not in numbers:\n",
    "    print('Кортеж numbers не содержит нулей')"
   ],
   "metadata": {
    "collapsed": false,
    "ExecuteTime": {
     "end_time": "2024-07-12T05:14:40.323510900Z",
     "start_time": "2024-07-12T05:14:40.316019300Z"
    }
   },
   "id": "ea72294a0d9f4784"
  },
  {
   "cell_type": "markdown",
   "source": [
    "Индексация"
   ],
   "metadata": {
    "collapsed": false
   },
   "id": "363d6c416ff57fd5"
  },
  {
   "cell_type": "raw",
   "source": [
    "При работе со списками (строками) мы использовали индексацию, то есть обращение к конкретному элементу списка (строки) по его индексу. Аналогично можно индексировать и элементы кортежей.\n",
    "\n",
    "Для индексации кортежей в Python используются квадратные скобки [], в которых указывается индекс (номер) нужного элемента в кортеже:"
   ],
   "metadata": {
    "collapsed": false
   },
   "id": "9a142e095d233325"
  },
  {
   "cell_type": "code",
   "execution_count": 31,
   "outputs": [
    {
     "name": "stdout",
     "output_type": "stream",
     "text": [
      "2\n",
      "4\n",
      "6\n",
      "8\n",
      "10\n",
      "10\n",
      "8\n",
      "6\n"
     ]
    },
    {
     "ename": "IndexError",
     "evalue": "tuple index out of range",
     "output_type": "error",
     "traceback": [
      "\u001B[1;31m---------------------------------------------------------------------------\u001B[0m",
      "\u001B[1;31mIndexError\u001B[0m                                Traceback (most recent call last)",
      "Cell \u001B[1;32mIn[31], line 10\u001B[0m\n\u001B[0;32m      8\u001B[0m \u001B[38;5;28mprint\u001B[39m(numbers[\u001B[38;5;241m-\u001B[39m\u001B[38;5;241m2\u001B[39m])\n\u001B[0;32m      9\u001B[0m \u001B[38;5;28mprint\u001B[39m(numbers[\u001B[38;5;241m-\u001B[39m\u001B[38;5;241m3\u001B[39m])\n\u001B[1;32m---> 10\u001B[0m \u001B[38;5;28mprint\u001B[39m(\u001B[43mnumbers\u001B[49m\u001B[43m[\u001B[49m\u001B[38;5;241;43m5\u001B[39;49m\u001B[43m]\u001B[49m)\n",
      "\u001B[1;31mIndexError\u001B[0m: tuple index out of range"
     ]
    }
   ],
   "source": [
    "numbers = (2, 4, 6, 8, 10)\n",
    "print(numbers[0])\n",
    "print(numbers[1])\n",
    "print(numbers[2])\n",
    "print(numbers[3])\n",
    "print(numbers[4])\n",
    "print(numbers[-1])\n",
    "print(numbers[-2])\n",
    "print(numbers[-3])\n",
    "\n",
    "print(numbers[5])"
   ],
   "metadata": {
    "collapsed": false,
    "ExecuteTime": {
     "end_time": "2024-07-12T05:16:55.473959900Z",
     "start_time": "2024-07-12T05:16:55.460958800Z"
    }
   },
   "id": "da45dae14b8c8a56"
  },
  {
   "cell_type": "markdown",
   "source": [
    "Срезы"
   ],
   "metadata": {
    "collapsed": false
   },
   "id": "6b7236ba4c285475"
  },
  {
   "cell_type": "raw",
   "source": [
    "Рассмотрим кортеж numbers = (2, 4, 6, 8, 10).\n",
    "\n",
    "С помощью среза мы можем получить несколько элементов кортежа, создав диапазон индексов, разделенных двоеточием numbers[x:y]."
   ],
   "metadata": {
    "collapsed": false
   },
   "id": "adf84bd4769e2b97"
  },
  {
   "cell_type": "code",
   "execution_count": 32,
   "outputs": [
    {
     "name": "stdout",
     "output_type": "stream",
     "text": [
      "(4, 6)\n",
      "(6, 8, 10)\n"
     ]
    }
   ],
   "source": [
    "print(numbers[1:3])\n",
    "print(numbers[2:5])"
   ],
   "metadata": {
    "collapsed": false,
    "ExecuteTime": {
     "end_time": "2024-07-12T05:17:33.640917400Z",
     "start_time": "2024-07-12T05:17:33.633250300Z"
    }
   },
   "id": "9277a7ed52da2e1c"
  },
  {
   "cell_type": "raw",
   "source": [
    "При построении среза numbers[x:y] первое число – это то место, где начинается срез (включительно), а второе – это место, где заканчивается срез (невключительно)."
   ],
   "metadata": {
    "collapsed": false
   },
   "id": "58ab926a1d4fec59"
  },
  {
   "cell_type": "raw",
   "source": [
    "При использовании срезов с кортежами мы также можем опускать второй параметр в срезе numbers[x:] (но поставить двоеточие), тогда срез берется до конца кортежа. Аналогично, если опустить первый параметр numbers[:y], то можно взять срез от начала кортежа."
   ],
   "metadata": {
    "collapsed": false
   },
   "id": "dcf46fb791aafe7f"
  },
  {
   "cell_type": "raw",
   "source": [
    "Срез numbers[:] возвращает копию исходного кортежа."
   ],
   "metadata": {
    "collapsed": false
   },
   "id": "c1263c9fd790f7fb"
  },
  {
   "cell_type": "markdown",
   "source": [
    "Операция конкатенации + и умножения на число *"
   ],
   "metadata": {
    "collapsed": false
   },
   "id": "443f598a6170bb03"
  },
  {
   "cell_type": "raw",
   "source": [
    "Операторы + и * применяют для кортежей, как и для списков."
   ],
   "metadata": {
    "collapsed": false
   },
   "id": "2e19f94273d0ccab"
  },
  {
   "cell_type": "code",
   "execution_count": 33,
   "outputs": [
    {
     "name": "stdout",
     "output_type": "stream",
     "text": [
      "(1, 2, 3, 4, 5, 6, 7, 8)\n",
      "(7, 8, 7, 8, 7, 8)\n",
      "(0, 0, 0, 0, 0, 0, 0, 0, 0, 0)\n"
     ]
    }
   ],
   "source": [
    "print((1, 2, 3, 4) + (5, 6, 7, 8))\n",
    "print((7, 8) * 3)\n",
    "print((0,) * 10)"
   ],
   "metadata": {
    "collapsed": false,
    "ExecuteTime": {
     "end_time": "2024-07-12T05:19:02.722703700Z",
     "start_time": "2024-07-12T05:19:02.716213200Z"
    }
   },
   "id": "feb17b7485ea0092"
  },
  {
   "cell_type": "raw",
   "source": [
    "Для генерации кортежей, состоящих строго из повторяющихся элементов, умножение на число — самый короткий и правильный путь."
   ],
   "metadata": {
    "collapsed": false
   },
   "id": "5895734248fdf27"
  },
  {
   "cell_type": "raw",
   "source": [
    "Расширенные операторы += и *= также можно использовать при работе с кортежами."
   ],
   "metadata": {
    "collapsed": false
   },
   "id": "9a8094c8d29ea7aa"
  },
  {
   "cell_type": "code",
   "execution_count": 34,
   "outputs": [
    {
     "name": "stdout",
     "output_type": "stream",
     "text": [
      "(1, 2, 3, 4, 7, 8)\n",
      "(7, 8, 7, 8, 7, 8, 7, 8, 7, 8)\n"
     ]
    }
   ],
   "source": [
    "a = (1, 2, 3, 4)\n",
    "b = (7, 8)\n",
    "a += b  # добавляем к кортежу a кортеж b\n",
    "b *= 5  # повторяем кортеж b 5 раз \n",
    "\n",
    "print(a)\n",
    "print(b)"
   ],
   "metadata": {
    "collapsed": false,
    "ExecuteTime": {
     "end_time": "2024-07-12T05:19:33.779995500Z",
     "start_time": "2024-07-12T05:19:33.771491600Z"
    }
   },
   "id": "5b663af8c48a93f3"
  },
  {
   "cell_type": "markdown",
   "source": [
    "Встроенные функции sum(), min(), max()"
   ],
   "metadata": {
    "collapsed": false
   },
   "id": "9825f79ff583f443"
  },
  {
   "cell_type": "raw",
   "source": [
    "Встроенная функция sum() принимает в качестве параметра кортеж чисел и вычисляет сумму его элементов."
   ],
   "metadata": {
    "collapsed": false
   },
   "id": "fcbabf2b4a0d3d5"
  },
  {
   "cell_type": "code",
   "execution_count": 35,
   "outputs": [
    {
     "name": "stdout",
     "output_type": "stream",
     "text": [
      "Сумма всех элементов кортежа = 55\n"
     ]
    }
   ],
   "source": [
    "numbers = (1, 2, 3, 4, 5, 6, 7, 8, 9, 10)\n",
    "print('Сумма всех элементов кортежа =', sum(numbers))"
   ],
   "metadata": {
    "collapsed": false,
    "ExecuteTime": {
     "end_time": "2024-07-12T05:20:01.818443700Z",
     "start_time": "2024-07-12T05:20:01.810954Z"
    }
   },
   "id": "a4a466dcbb0c2b61"
  },
  {
   "cell_type": "raw",
   "source": [
    "Встроенные функции min() и max() принимают в качестве параметра кортеж и находят минимальный и максимальный элементы соответственно."
   ],
   "metadata": {
    "collapsed": false
   },
   "id": "2dd68ca80017773f"
  },
  {
   "cell_type": "code",
   "execution_count": 36,
   "outputs": [
    {
     "name": "stdout",
     "output_type": "stream",
     "text": [
      "Минимальный элемент кортежа = -7\n",
      "Максимальный элемент кортежа = 3333\n"
     ]
    }
   ],
   "source": [
    "numbers = (3, 4, 10, 3333, 12, -7, -5, 4)\n",
    "print('Минимальный элемент кортежа =', min(numbers))\n",
    "print('Максимальный элемент кортежа =', max(numbers))"
   ],
   "metadata": {
    "collapsed": false,
    "ExecuteTime": {
     "end_time": "2024-07-12T05:20:17.250039400Z",
     "start_time": "2024-07-12T05:20:17.242544100Z"
    }
   },
   "id": "77570e809aeb6898"
  },
  {
   "cell_type": "raw",
   "source": [
    "Функции min() и max() можно применять только к кортежам с одним типом данных. Если кортеж содержит разные типы данных, скажем, целое число (int) и строку (str), то во время выполнения программы произойдет ошибка."
   ],
   "metadata": {
    "collapsed": false
   },
   "id": "d0f714d24fe20bc7"
  },
  {
   "cell_type": "markdown",
   "source": [
    "Метод index()"
   ],
   "metadata": {
    "collapsed": false
   },
   "id": "22446502a26f7326"
  },
  {
   "cell_type": "raw",
   "source": [
    "Метод index() возвращает индекс первого элемента, значение которого равняется переданному в метод значению. Таким образом, в метод передается один параметр:\n",
    "\n",
    "value: значение, индекс которого требуется найти.\n",
    "Если элемент в кортеже не найден, то во время выполнения происходит ошибка."
   ],
   "metadata": {
    "collapsed": false
   },
   "id": "2de7feef4a9e8bfc"
  },
  {
   "cell_type": "code",
   "execution_count": 37,
   "outputs": [
    {
     "name": "stdout",
     "output_type": "stream",
     "text": [
      "2\n"
     ]
    }
   ],
   "source": [
    "names = ('Gvido', 'Roman', 'Timur')\n",
    "position = names.index('Timur')\n",
    "\n",
    "print(position)"
   ],
   "metadata": {
    "collapsed": false,
    "ExecuteTime": {
     "end_time": "2024-07-12T05:21:03.613742Z",
     "start_time": "2024-07-12T05:21:03.604158700Z"
    }
   },
   "id": "c978d42795c592f6"
  },
  {
   "cell_type": "code",
   "execution_count": 38,
   "outputs": [
    {
     "ename": "ValueError",
     "evalue": "tuple.index(x): x not in tuple",
     "output_type": "error",
     "traceback": [
      "\u001B[1;31m---------------------------------------------------------------------------\u001B[0m",
      "\u001B[1;31mValueError\u001B[0m                                Traceback (most recent call last)",
      "Cell \u001B[1;32mIn[38], line 2\u001B[0m\n\u001B[0;32m      1\u001B[0m names \u001B[38;5;241m=\u001B[39m (\u001B[38;5;124m'\u001B[39m\u001B[38;5;124mGvido\u001B[39m\u001B[38;5;124m'\u001B[39m, \u001B[38;5;124m'\u001B[39m\u001B[38;5;124mRoman\u001B[39m\u001B[38;5;124m'\u001B[39m , \u001B[38;5;124m'\u001B[39m\u001B[38;5;124mTimur\u001B[39m\u001B[38;5;124m'\u001B[39m)\n\u001B[1;32m----> 2\u001B[0m position \u001B[38;5;241m=\u001B[39m \u001B[43mnames\u001B[49m\u001B[38;5;241;43m.\u001B[39;49m\u001B[43mindex\u001B[49m\u001B[43m(\u001B[49m\u001B[38;5;124;43m'\u001B[39;49m\u001B[38;5;124;43mAnders\u001B[39;49m\u001B[38;5;124;43m'\u001B[39;49m\u001B[43m)\u001B[49m\n\u001B[0;32m      3\u001B[0m \u001B[38;5;28mprint\u001B[39m(position)\n",
      "\u001B[1;31mValueError\u001B[0m: tuple.index(x): x not in tuple"
     ]
    }
   ],
   "source": [
    "names = ('Gvido', 'Roman', 'Timur')\n",
    "position = names.index('Anders')\n",
    "print(position)"
   ],
   "metadata": {
    "collapsed": false,
    "ExecuteTime": {
     "end_time": "2024-07-12T05:21:09.102580200Z",
     "start_time": "2024-07-12T05:21:09.075710100Z"
    }
   },
   "id": "e19c343f21a71519"
  },
  {
   "cell_type": "raw",
   "source": [
    "Чтобы избежать таких ошибок, можно использовать метод index() вместе с оператором принадлежности in"
   ],
   "metadata": {
    "collapsed": false
   },
   "id": "d5e24c03c2b267be"
  },
  {
   "cell_type": "code",
   "execution_count": 39,
   "outputs": [
    {
     "name": "stdout",
     "output_type": "stream",
     "text": [
      "Такого значения нет в кортеже\n"
     ]
    }
   ],
   "source": [
    "names = ('Gvido', 'Roman', 'Timur')\n",
    "\n",
    "if 'Anders' in names:\n",
    "    position = names.index('Anders')\n",
    "    print(position)\n",
    "else:\n",
    "    print('Такого значения нет в кортеже')"
   ],
   "metadata": {
    "collapsed": false,
    "ExecuteTime": {
     "end_time": "2024-07-12T05:21:37.464105600Z",
     "start_time": "2024-07-12T05:21:37.437439300Z"
    }
   },
   "id": "2235c251c90d88ac"
  },
  {
   "cell_type": "markdown",
   "source": [
    "Метод count()"
   ],
   "metadata": {
    "collapsed": false
   },
   "id": "a071c4d918d5a4a7"
  },
  {
   "cell_type": "raw",
   "source": [
    "Метод count() возвращает количество элементов в кортеже, значения которых равны переданному в метод значению.\n",
    "\n",
    "Таким образом, в метод передается один параметр:\n",
    "\n",
    "value: значение, количество вхождений которого нужно посчитать.\n",
    "Если значение в кортеже не найдено, то метод возвращает 0."
   ],
   "metadata": {
    "collapsed": false
   },
   "id": "60b7ddb3d61ee99f"
  },
  {
   "cell_type": "code",
   "execution_count": 40,
   "outputs": [
    {
     "name": "stdout",
     "output_type": "stream",
     "text": [
      "3\n",
      "1\n",
      "0\n"
     ]
    }
   ],
   "source": [
    "names = ('Timur', 'Gvido', 'Roman', 'Timur', 'Anders', 'Timur')\n",
    "cnt1 = names.count('Timur')\n",
    "cnt2 = names.count('Gvido')\n",
    "cnt3 = names.count('Josef')\n",
    "\n",
    "print(cnt1)\n",
    "print(cnt2)\n",
    "print(cnt3)"
   ],
   "metadata": {
    "collapsed": false,
    "ExecuteTime": {
     "end_time": "2024-07-12T05:22:23.440978400Z",
     "start_time": "2024-07-12T05:22:23.419527700Z"
    }
   },
   "id": "e87980f586323f7b"
  },
  {
   "cell_type": "raw",
   "source": [
    "Кортежи не поддерживают такие методы, как append(), remove(), pop(), insert(), reverse(), sort(), так как эти методы изменяют содержимое."
   ],
   "metadata": {
    "collapsed": false
   },
   "id": "56b72f8d0ad682d9"
  },
  {
   "cell_type": "markdown",
   "source": [
    "Вложенные кортежи"
   ],
   "metadata": {
    "collapsed": false
   },
   "id": "176c6e24b92677f3"
  },
  {
   "cell_type": "raw",
   "source": [
    "Подобно спискам, мы можем создавать вложенные кортежи."
   ],
   "metadata": {
    "collapsed": false
   },
   "id": "e5477bb3e0578992"
  },
  {
   "cell_type": "code",
   "execution_count": 41,
   "outputs": [
    {
     "name": "stdout",
     "output_type": "stream",
     "text": [
      "blue\n",
      "9\n"
     ]
    }
   ],
   "source": [
    "colors = ('red', ('green', 'blue'), 'yellow')\n",
    "numbers = (1, 2, (4, (6, 7, 8, 9)), 10, 11)\n",
    "\n",
    "print(colors[1][1])\n",
    "print(numbers[2][1][3])"
   ],
   "metadata": {
    "collapsed": false,
    "ExecuteTime": {
     "end_time": "2024-07-12T05:23:43.626733500Z",
     "start_time": "2024-07-12T05:23:43.617021800Z"
    }
   },
   "id": "3d204104ca557daa"
  },
  {
   "cell_type": "code",
   "execution_count": 42,
   "outputs": [
    {
     "data": {
      "text/plain": "2"
     },
     "execution_count": 42,
     "metadata": {},
     "output_type": "execute_result"
    }
   ],
   "source": [
    "numbers = ((0, (9, 2)), (1, (4, 6, 3), (5, 2, 3), 8, 3))\n",
    "numbers[0][1][1]"
   ],
   "metadata": {
    "collapsed": false,
    "ExecuteTime": {
     "end_time": "2024-07-12T05:24:44.428958700Z",
     "start_time": "2024-07-12T05:24:44.405021800Z"
    }
   },
   "id": "65ffe2e88b31620d"
  },
  {
   "cell_type": "code",
   "execution_count": 43,
   "outputs": [
    {
     "name": "stdout",
     "output_type": "stream",
     "text": [
      "(2, 3, 5, 7, 11, 13, 17)\n"
     ]
    }
   ],
   "source": [
    "primes = (2, 3, 5, 7, 11, 13, 17, 19, 23, 29, 31, 37, 41, 43, 47, 53, 59, 61, 67, 71)\n",
    "print(primes[:7])\n"
   ],
   "metadata": {
    "collapsed": false,
    "ExecuteTime": {
     "end_time": "2024-07-12T05:27:24.860363100Z",
     "start_time": "2024-07-12T05:27:24.857863400Z"
    }
   },
   "id": "979cc6a23c7928f5"
  },
  {
   "cell_type": "code",
   "execution_count": 52,
   "outputs": [
    {
     "name": "stdout",
     "output_type": "stream",
     "text": [
      "13.6618\n"
     ]
    }
   ],
   "source": [
    "numbers = (12.5, 3.1415, 2.718, 9.8, 1.414, 1.1618, 1.324)\n",
    "print(sum((min(numbers), max(numbers))))"
   ],
   "metadata": {
    "collapsed": false,
    "ExecuteTime": {
     "end_time": "2024-07-12T05:33:48.920400200Z",
     "start_time": "2024-07-12T05:33:48.915949700Z"
    }
   },
   "id": "6e25e96565183701"
  },
  {
   "cell_type": "code",
   "execution_count": 53,
   "outputs": [
    {
     "name": "stdout",
     "output_type": "stream",
     "text": [
      "5\n"
     ]
    }
   ],
   "source": [
    "countries = ('Russia', 'Argentina', 'Spain', 'Slovakia', 'Canada', 'Slovenia', 'Italy')\n",
    "index = countries.index('Slovenia')\n",
    "print(index)"
   ],
   "metadata": {
    "collapsed": false,
    "ExecuteTime": {
     "end_time": "2024-07-12T05:36:16.795694200Z",
     "start_time": "2024-07-12T05:36:16.772758400Z"
    }
   },
   "id": "3d78de9254563d75"
  },
  {
   "cell_type": "code",
   "execution_count": null,
   "outputs": [],
   "source": [
    "countries = (\n",
    "    'Russia', 'Argentina', 'Spain', 'Slovakia', 'Canada', 'Slovenia', 'Italy', 'Spain', 'Ukraine', 'Chile', 'Spain',\n",
    "    'Cameroon')\n",
    "number = countries.count('Spain')\n",
    "print(number)"
   ],
   "metadata": {
    "collapsed": false
   },
   "id": "3b08b7177a897e0e"
  },
  {
   "cell_type": "code",
   "execution_count": 56,
   "outputs": [
    {
     "name": "stdout",
     "output_type": "stream",
     "text": [
      "(1, 2, 3, 1, 2, 3, 6, 6, 6, 6, 6, 6, 6, 6, 6, 7, 8, 9, 10, 11, 12, 13)\n"
     ]
    }
   ],
   "source": [
    "numbers1 = (1, 2, 3)\n",
    "numbers2 = (6,)\n",
    "numbers3 = (7, 8, 9, 10, 11, 12, 13)\n",
    "\n",
    "print(numbers1 * 2 + numbers2 * 9 + numbers3)"
   ],
   "metadata": {
    "collapsed": false,
    "ExecuteTime": {
     "end_time": "2024-07-12T05:39:53.001755400Z",
     "start_time": "2024-07-12T05:39:52.985754600Z"
    }
   },
   "id": "b7804daee80c6815"
  },
  {
   "cell_type": "raw",
   "source": [
    "В переменную city_name вводится название города (например, Москва), а в переменную city_year – год его основания (например, 1147). Заполните пропущенную строку таким образом, чтобы в переменной city оказался кортеж из значений этих двух переменных (сначала название города, затем год основания)."
   ],
   "metadata": {
    "collapsed": false
   },
   "id": "8d743354d3279055"
  },
  {
   "cell_type": "code",
   "execution_count": null,
   "outputs": [],
   "source": [
    "city_name = input()\n",
    "city_year = int(input())\n",
    "city = tuple([city_name, city_year])\n",
    "print(city)"
   ],
   "metadata": {
    "collapsed": false
   },
   "id": "fe917f82ca9e2b6e"
  },
  {
   "cell_type": "code",
   "execution_count": 62,
   "outputs": [
    {
     "name": "stdout",
     "output_type": "stream",
     "text": [
      "<class 'list'>\n",
      "[('',), ('a', 'b'), ('a', 'b', 'c'), (1,), ('d',), ('', '')]\n"
     ]
    }
   ],
   "source": [
    "tuples = [(), (), ('',), ('a', 'b'), (), ('a', 'b', 'c'), (1,), (), (), ('d',), ('', ''), ()]\n",
    "non_empty_tuples = [i for i in tuples if len(i) > 0]\n",
    "print(type(non_empty_tuples))\n",
    "\n",
    "print(non_empty_tuples)"
   ],
   "metadata": {
    "collapsed": false,
    "ExecuteTime": {
     "end_time": "2024-07-12T05:52:10.711038100Z",
     "start_time": "2024-07-12T05:52:10.705419300Z"
    }
   },
   "id": "c2bf36d71395906f"
  },
  {
   "cell_type": "raw",
   "source": [
    "Дополните приведенный код так, чтобы переменная new_tuples содержала список кортежей на основе списка tuples с последним элементом каждого кортежа, замененным на численное значение 100."
   ],
   "metadata": {
    "collapsed": false
   },
   "id": "220dd84264b742c3"
  },
  {
   "cell_type": "code",
   "execution_count": 72,
   "outputs": [
    {
     "name": "stdout",
     "output_type": "stream",
     "text": [
      "[(10, 20, 100), (40, 50, 100), (70, 80, 100), (10, 100), (1, 2, 3, 100), (5, 6, 10, 2, 1, 100)]\n"
     ]
    }
   ],
   "source": [
    "tuples = [(10, 20, 40), (40, 50, 60), (70, 80, 90), (10, 90), (1, 2, 3, 4), (5, 6, 10, 2, 1, 77)]\n",
    "new_tuples = [tuple(list(i)[:-1])+(100, ) for i in tuples]\n",
    "print(new_tuples)"
   ],
   "metadata": {
    "collapsed": false,
    "ExecuteTime": {
     "end_time": "2024-07-12T06:11:39.867501800Z",
     "start_time": "2024-07-12T06:11:39.859755700Z"
    }
   },
   "id": "5e0e5317ec540c98"
  },
  {
   "cell_type": "raw",
   "source": [
    "В данном случае можно обойтись без преобразования кортежа в список и обратно. Мы можем использовать срезы и операцию конкатенации кортежей напрямую."
   ],
   "metadata": {
    "collapsed": false
   },
   "id": "42675aca6f0fce32"
  },
  {
   "cell_type": "code",
   "execution_count": 73,
   "outputs": [
    {
     "name": "stdout",
     "output_type": "stream",
     "text": [
      "[(10, 20, 100), (40, 50, 100), (70, 80, 100), (10, 100), (1, 2, 3, 100), (5, 6, 10, 2, 1, 100)]\n"
     ]
    }
   ],
   "source": [
    "tuples = [(10, 20, 40), (40, 50, 60), (70, 80, 90), (10, 90), (1, 2, 3, 4), (5, 6, 10, 2, 1, 77)]\n",
    "\n",
    "new_tuples = [el[:-1] + (100,) for el in tuples]\n",
    "print(new_tuples)"
   ],
   "metadata": {
    "collapsed": false,
    "ExecuteTime": {
     "end_time": "2024-07-12T06:13:21.838290100Z",
     "start_time": "2024-07-12T06:13:21.834494700Z"
    }
   },
   "id": "30e3930ad738b24c"
  }
 ],
 "metadata": {
  "kernelspec": {
   "display_name": "Python 3",
   "language": "python",
   "name": "python3"
  },
  "language_info": {
   "codemirror_mode": {
    "name": "ipython",
    "version": 2
   },
   "file_extension": ".py",
   "mimetype": "text/x-python",
   "name": "python",
   "nbconvert_exporter": "python",
   "pygments_lexer": "ipython2",
   "version": "2.7.6"
  }
 },
 "nbformat": 4,
 "nbformat_minor": 5
}
