{
 "cells": [
  {
   "cell_type": "markdown",
   "source": [
    "Основы работы со словарями"
   ],
   "metadata": {
    "collapsed": false
   },
   "id": "214cd2a956cd3fa6"
  },
  {
   "cell_type": "raw",
   "source": [
    "Работа со словарями похожа на работу со списками, поскольку и словари, и списки содержат в качестве отдельных элементов пары: в словарях ключ: значение, в списках индекс: значение. "
   ],
   "metadata": {
    "collapsed": false
   },
   "id": "63f6c0c139ed9ac9"
  },
  {
   "cell_type": "markdown",
   "source": [
    "Функция len()"
   ],
   "metadata": {
    "collapsed": false
   },
   "id": "fef2dc3e0bcf5a04"
  },
  {
   "cell_type": "raw",
   "source": [
    "Длиной словаря называется количество его элементов. Для определения длины словаря используют встроенную функцию len()"
   ],
   "metadata": {
    "collapsed": false
   },
   "id": "1986c8f5a83e063f"
  },
  {
   "cell_type": "code",
   "execution_count": 1,
   "outputs": [
    {
     "name": "stdout",
     "output_type": "stream",
     "text": [
      "3\n",
      "2\n"
     ]
    }
   ],
   "source": [
    "fruits = {'Apple': 70, 'Grape': 100, 'Banana': 80}\n",
    "capitals = {'Россия': 'Москва', 'Франция': 'Париж'}\n",
    "\n",
    "print(len(fruits))\n",
    "print(len(capitals))"
   ],
   "metadata": {
    "collapsed": false,
    "ExecuteTime": {
     "end_time": "2024-07-24T06:43:04.442062400Z",
     "start_time": "2024-07-24T06:43:04.435660600Z"
    }
   },
   "id": "c05037f6d9f56e89"
  },
  {
   "cell_type": "markdown",
   "source": [
    "Оператор принадлежности in"
   ],
   "metadata": {
    "collapsed": false
   },
   "id": "4b9f1ace7001be9a"
  },
  {
   "cell_type": "code",
   "execution_count": 2,
   "outputs": [
    {
     "name": "stdout",
     "output_type": "stream",
     "text": [
      "Столица Франции - это Париж\n"
     ]
    }
   ],
   "source": [
    "capitals = {'Россия': 'Москва', 'Франция': 'Париж', 'Чехия': 'Прага'}\n",
    "\n",
    "if 'Франция' in capitals:\n",
    "    print('Столица Франции - это', capitals['Франция'])"
   ],
   "metadata": {
    "collapsed": false,
    "ExecuteTime": {
     "end_time": "2024-07-24T06:43:27.535191Z",
     "start_time": "2024-07-24T06:43:27.528449700Z"
    }
   },
   "id": "5878d393e1772e36"
  },
  {
   "cell_type": "code",
   "execution_count": 3,
   "outputs": [
    {
     "ename": "KeyError",
     "evalue": "'Англия'",
     "output_type": "error",
     "traceback": [
      "\u001B[1;31m---------------------------------------------------------------------------\u001B[0m",
      "\u001B[1;31mKeyError\u001B[0m                                  Traceback (most recent call last)",
      "Cell \u001B[1;32mIn[3], line 3\u001B[0m\n\u001B[0;32m      1\u001B[0m capitals \u001B[38;5;241m=\u001B[39m {\u001B[38;5;124m'\u001B[39m\u001B[38;5;124mРоссия\u001B[39m\u001B[38;5;124m'\u001B[39m: \u001B[38;5;124m'\u001B[39m\u001B[38;5;124mМосква\u001B[39m\u001B[38;5;124m'\u001B[39m, \u001B[38;5;124m'\u001B[39m\u001B[38;5;124mФранция\u001B[39m\u001B[38;5;124m'\u001B[39m: \u001B[38;5;124m'\u001B[39m\u001B[38;5;124mПариж\u001B[39m\u001B[38;5;124m'\u001B[39m, \u001B[38;5;124m'\u001B[39m\u001B[38;5;124mЧехия\u001B[39m\u001B[38;5;124m'\u001B[39m: \u001B[38;5;124m'\u001B[39m\u001B[38;5;124mПрага\u001B[39m\u001B[38;5;124m'\u001B[39m}\n\u001B[1;32m----> 3\u001B[0m \u001B[38;5;28mprint\u001B[39m(\u001B[43mcapitals\u001B[49m\u001B[43m[\u001B[49m\u001B[38;5;124;43m'\u001B[39;49m\u001B[38;5;124;43mАнглия\u001B[39;49m\u001B[38;5;124;43m'\u001B[39;49m\u001B[43m]\u001B[49m)\n",
      "\u001B[1;31mKeyError\u001B[0m: 'Англия'"
     ]
    }
   ],
   "source": [
    "capitals = {'Россия': 'Москва', 'Франция': 'Париж', 'Чехия': 'Прага'}\n",
    "\n",
    "print(capitals['Англия'])"
   ],
   "metadata": {
    "collapsed": false,
    "ExecuteTime": {
     "end_time": "2024-07-24T06:44:14.649864300Z",
     "start_time": "2024-07-24T06:44:14.432253400Z"
    }
   },
   "id": "9e44bc06be1dae7c"
  },
  {
   "cell_type": "raw",
   "source": [
    "Оператор принадлежности in на словарях работает очень быстро, намного быстрее, чем на списках, поэтому если нужен многократный поиск в коллекции данных, словарь – подходящий выбор."
   ],
   "metadata": {
    "collapsed": false
   },
   "id": "6ab71d8c51f247ef"
  },
  {
   "cell_type": "markdown",
   "source": [
    "Встроенные функции sum(), min(), max()"
   ],
   "metadata": {
    "collapsed": false
   },
   "id": "368d93dd76301a14"
  },
  {
   "cell_type": "raw",
   "source": [
    "Встроенная функция sum() принимает в качестве аргумента словарь с числовыми ключами и вычисляет сумму его ключей."
   ],
   "metadata": {
    "collapsed": false
   },
   "id": "855b492234eb2f65"
  },
  {
   "cell_type": "code",
   "execution_count": 4,
   "outputs": [
    {
     "name": "stdout",
     "output_type": "stream",
     "text": [
      "Сумма всех ключей словаря = 60\n"
     ]
    }
   ],
   "source": [
    "my_dict = {10: 'Россия', 20: 'США', 30: 'Франция'}\n",
    "\n",
    "print('Сумма всех ключей словаря =', sum(my_dict))"
   ],
   "metadata": {
    "collapsed": false,
    "ExecuteTime": {
     "end_time": "2024-07-24T06:45:03.096297100Z",
     "start_time": "2024-07-24T06:45:03.089795900Z"
    }
   },
   "id": "24d61ba26c884f64"
  },
  {
   "cell_type": "raw",
   "source": [
    "Для корректной работы функции sum() ключами словаря должны быть именно числа."
   ],
   "metadata": {
    "collapsed": false
   },
   "id": "3fa36eacef9914b2"
  },
  {
   "cell_type": "raw",
   "source": [
    "Встроенные функции min() и max() принимают в качестве аргумента словарь и находят минимальный и максимальный ключ соответственно, при этом ключ может принадлежать к любому типу данных, для которого возможны операции порядка <, <=, >, >= (числа, строки, и т.д.). "
   ],
   "metadata": {
    "collapsed": false
   },
   "id": "2bad72f7dfcfeb6"
  },
  {
   "cell_type": "code",
   "execution_count": 5,
   "outputs": [
    {
     "name": "stdout",
     "output_type": "stream",
     "text": [
      "Минимальный ключ = Россия\n",
      "Максимальный ключ = 3\n"
     ]
    }
   ],
   "source": [
    "capitals = {'Россия': 'Москва', 'Франция': 'Париж', 'Чехия': 'Прага'}\n",
    "months = {1: 'Январь', 2: 'Февраль', 3: 'Март'}\n",
    "\n",
    "print('Минимальный ключ =', min(capitals))\n",
    "print('Максимальный ключ =', max(months))"
   ],
   "metadata": {
    "collapsed": false,
    "ExecuteTime": {
     "end_time": "2024-07-24T06:45:40.666760100Z",
     "start_time": "2024-07-24T06:45:40.656849Z"
    }
   },
   "id": "b430580c39bcc1f7"
  },
  {
   "cell_type": "markdown",
   "source": [
    "Сравнение словарей"
   ],
   "metadata": {
    "collapsed": false
   },
   "id": "28e90df697acc335"
  },
  {
   "cell_type": "raw",
   "source": [
    "Словари можно сравнивать между собой. Равные словари имеют одинаковое количество элементов и содержат равные элементы (ключ: значение). Для сравнения словарей используются операторы == и !=."
   ],
   "metadata": {
    "collapsed": false
   },
   "id": "fe800d576c949001"
  },
  {
   "cell_type": "code",
   "execution_count": 6,
   "outputs": [
    {
     "name": "stdout",
     "output_type": "stream",
     "text": [
      "False\n",
      "True\n",
      "True\n"
     ]
    }
   ],
   "source": [
    "months1 = {1: 'Январь', 2: 'Февраль'}\n",
    "months2 = {1: 'Январь', 2: 'Февраль', 3: 'Март'}\n",
    "months3 = {3: 'Март', 1: 'Январь', 2: 'Февраль'}\n",
    "\n",
    "print(months1 == months2)\n",
    "print(months2 == months3)\n",
    "print(months1 != months3)"
   ],
   "metadata": {
    "collapsed": false,
    "ExecuteTime": {
     "end_time": "2024-07-24T06:46:41.423186800Z",
     "start_time": "2024-07-24T06:46:41.416696800Z"
    }
   },
   "id": "b3570edc78e8c599"
  },
  {
   "cell_type": "markdown",
   "source": [
    "Примечания"
   ],
   "metadata": {
    "collapsed": false
   },
   "id": "cdeee56bd2efb9cb"
  },
  {
   "cell_type": "raw",
   "source": [
    "Примечание 1. Обращение по индексу и срезы недоступны для словарей.\n",
    "\n",
    "Примечание 2. Операция конкатенации + и умножения на число * недоступны для словарей.\n",
    "\n",
    "Примечание 3. Словари нужно использовать в следующих случаях:\n",
    "\n",
    "Подсчет числа каких-то объектов. В этом случае нужно завести словарь, в котором ключи — названия объектов, а значения — их количество.\n",
    "Хранение каких-либо данных, связанных с объектом. Ключи — наименования объектов, значения — связанные с ними данные. Например, если нужно по названию месяца определить его порядковый номер, то это можно сделать при помощи словаря num = {'January': 1, 'February': 2, 'March': 3, ...}.\n",
    "Установка соответствия между объектами (например, “родитель-потомок”). Ключ — объект, значение — соответствующий ему объект.\n",
    "Если нужен обычный список, где максимальное значение индекса элемента очень велико, но при этом используются не все возможные индексы (так называемый “разреженный список”), то для экономии памяти можно использовать словарь."
   ],
   "metadata": {
    "collapsed": false
   },
   "id": "4d89ad3bc1a64497"
  },
  {
   "cell_type": "code",
   "execution_count": 7,
   "outputs": [
    {
     "ename": "TypeError",
     "evalue": "unhashable type: 'slice'",
     "output_type": "error",
     "traceback": [
      "\u001B[1;31m---------------------------------------------------------------------------\u001B[0m",
      "\u001B[1;31mTypeError\u001B[0m                                 Traceback (most recent call last)",
      "Cell \u001B[1;32mIn[7], line 3\u001B[0m\n\u001B[0;32m      1\u001B[0m my_dict \u001B[38;5;241m=\u001B[39m {\u001B[38;5;124m'\u001B[39m\u001B[38;5;124mfoo\u001B[39m\u001B[38;5;124m'\u001B[39m: \u001B[38;5;241m100\u001B[39m, \u001B[38;5;124m'\u001B[39m\u001B[38;5;124mbar\u001B[39m\u001B[38;5;124m'\u001B[39m: \u001B[38;5;241m200\u001B[39m, \u001B[38;5;124m'\u001B[39m\u001B[38;5;124mbaz\u001B[39m\u001B[38;5;124m'\u001B[39m: \u001B[38;5;241m300\u001B[39m}\n\u001B[1;32m----> 3\u001B[0m \u001B[38;5;28mprint\u001B[39m(\u001B[43mmy_dict\u001B[49m\u001B[43m[\u001B[49m\u001B[38;5;124;43m'\u001B[39;49m\u001B[38;5;124;43mbar\u001B[39;49m\u001B[38;5;124;43m'\u001B[39;49m\u001B[43m:\u001B[49m\u001B[38;5;124;43m'\u001B[39;49m\u001B[38;5;124;43mbaz\u001B[39;49m\u001B[38;5;124;43m'\u001B[39;49m\u001B[43m]\u001B[49m)\n",
      "\u001B[1;31mTypeError\u001B[0m: unhashable type: 'slice'"
     ]
    }
   ],
   "source": [
    "my_dict = {'foo': 100, 'bar': 200, 'baz': 300}\n",
    "\n",
    "print(my_dict['bar':'baz'])"
   ],
   "metadata": {
    "collapsed": false,
    "ExecuteTime": {
     "end_time": "2024-07-24T06:51:15.671697200Z",
     "start_time": "2024-07-24T06:51:15.659553900Z"
    }
   },
   "id": "7d4aeb5701eab6fb"
  },
  {
   "cell_type": "raw",
   "source": [
    "Дополните приведенный код так, чтобы он вывел сумму минимального и максимального ключа в словаре my_dict."
   ],
   "metadata": {
    "collapsed": false
   },
   "id": "221a431a3ddf1026"
  },
  {
   "cell_type": "code",
   "execution_count": 8,
   "outputs": [
    {
     "name": "stdout",
     "output_type": "stream",
     "text": [
      "99.12\n"
     ]
    }
   ],
   "source": [
    "my_dict = {1.12: 'aa', 67.9: 45, 3.11: 'ccc', 7.9: 'dd', 9.2: 'ee', 7.1: 'ff', 0.12: 'qq', 1.91: 'aa', 10.12: [1, 2, 3], 99.0: {9, 0, 1}}\n",
    "\n",
    "print(min(my_dict) + max(my_dict))"
   ],
   "metadata": {
    "collapsed": false,
    "ExecuteTime": {
     "end_time": "2024-07-24T06:52:18.574757800Z",
     "start_time": "2024-07-24T06:52:18.567270600Z"
    }
   },
   "id": "79132915ea9b266"
  },
  {
   "cell_type": "markdown",
   "source": [
    "Перебор элементов словаря"
   ],
   "metadata": {
    "collapsed": false
   },
   "id": "59b7fba85199eba"
  },
  {
   "cell_type": "code",
   "execution_count": 9,
   "outputs": [
    {
     "name": "stdout",
     "output_type": "stream",
     "text": [
      "Россия\n",
      "Франция\n",
      "Чехия\n"
     ]
    }
   ],
   "source": [
    "capitals = {'Россия': 'Москва', 'Франция': 'Париж', 'Чехия': 'Прага'}\n",
    "\n",
    "for key in capitals:\n",
    "    print(key)"
   ],
   "metadata": {
    "collapsed": false,
    "ExecuteTime": {
     "end_time": "2024-07-24T06:57:35.921930900Z",
     "start_time": "2024-07-24T06:57:35.913269900Z"
    }
   },
   "id": "317a06f98ae97d9e"
  },
  {
   "cell_type": "raw",
   "source": [
    "Для вывода значений словаря каждого на отдельной строке можно использовать следующий код:"
   ],
   "metadata": {
    "collapsed": false
   },
   "id": "55be28e51d111816"
  },
  {
   "cell_type": "code",
   "execution_count": 10,
   "outputs": [
    {
     "name": "stdout",
     "output_type": "stream",
     "text": [
      "Москва\n",
      "Париж\n",
      "Прага\n"
     ]
    }
   ],
   "source": [
    "capitals = {'Россия': 'Москва', 'Франция': 'Париж', 'Чехия': 'Прага'}\n",
    "\n",
    "for key in capitals:\n",
    "    print(capitals[key])"
   ],
   "metadata": {
    "collapsed": false,
    "ExecuteTime": {
     "end_time": "2024-07-24T06:58:15.936099600Z",
     "start_time": "2024-07-24T06:58:15.928217400Z"
    }
   },
   "id": "5d9859db0b331e29"
  },
  {
   "cell_type": "raw",
   "source": [
    "Для вывода элементов словаря каждого на отдельной строке можно использовать следующий код:"
   ],
   "metadata": {
    "collapsed": false
   },
   "id": "857bff429229258e"
  },
  {
   "cell_type": "code",
   "execution_count": 11,
   "outputs": [
    {
     "name": "stdout",
     "output_type": "stream",
     "text": [
      "Столица Россия - это Москва\n",
      "Столица Франция - это Париж\n",
      "Столица Чехия - это Прага\n"
     ]
    }
   ],
   "source": [
    "capitals = {'Россия': 'Москва', 'Франция': 'Париж', 'Чехия': 'Прага'}\n",
    "\n",
    "for key in capitals:\n",
    "    print('Столица', key, '- это', capitals[key])"
   ],
   "metadata": {
    "collapsed": false,
    "ExecuteTime": {
     "end_time": "2024-07-24T07:00:23.058177700Z",
     "start_time": "2024-07-24T07:00:23.045373100Z"
    }
   },
   "id": "e1ccf66cca5ceb28"
  },
  {
   "cell_type": "markdown",
   "source": [
    "Методы keys(), values(), items()"
   ],
   "metadata": {
    "collapsed": false
   },
   "id": "1ac4bdb8ccffd3b5"
  },
  {
   "cell_type": "raw",
   "source": [
    "Словарный метод keys() возвращает список ключей всех элементов словаря."
   ],
   "metadata": {
    "collapsed": false
   },
   "id": "e42cfa6a43514c6d"
  },
  {
   "cell_type": "code",
   "execution_count": 12,
   "outputs": [
    {
     "name": "stdout",
     "output_type": "stream",
     "text": [
      "Россия\n",
      "Франция\n",
      "Чехия\n"
     ]
    }
   ],
   "source": [
    "capitals = {'Россия': 'Москва', 'Франция': 'Париж', 'Чехия': 'Прага'}\n",
    "\n",
    "for key in capitals.keys():     # итерируем по списку ['Россия', 'Франция', 'Чехия']\n",
    "    print(key)"
   ],
   "metadata": {
    "collapsed": false,
    "ExecuteTime": {
     "end_time": "2024-07-24T07:00:48.992363400Z",
     "start_time": "2024-07-24T07:00:48.982882900Z"
    }
   },
   "id": "f02fb8f297f0ba46"
  },
  {
   "cell_type": "raw",
   "source": [
    "Словарный метод values() возвращает список значений всех элементов словаря."
   ],
   "metadata": {
    "collapsed": false
   },
   "id": "e4c0bf26363262ad"
  },
  {
   "cell_type": "code",
   "execution_count": 13,
   "outputs": [
    {
     "name": "stdout",
     "output_type": "stream",
     "text": [
      "Москва\n",
      "Париж\n",
      "Прага\n"
     ]
    }
   ],
   "source": [
    "capitals = {'Россия': 'Москва', 'Франция': 'Париж', 'Чехия': 'Прага'}\n",
    "\n",
    "for value in capitals.values():     # итерируем по списку ['Москва', 'Париж', 'Прага']\n",
    "    print(value)"
   ],
   "metadata": {
    "collapsed": false,
    "ExecuteTime": {
     "end_time": "2024-07-24T07:01:16.703762700Z",
     "start_time": "2024-07-24T07:01:16.692868400Z"
    }
   },
   "id": "2ed67bc15adb22a"
  },
  {
   "cell_type": "raw",
   "source": [
    "Словарный метод items() возвращает список всех элементов словаря, состоящий из кортежей пар (ключ, значение)."
   ],
   "metadata": {
    "collapsed": false
   },
   "id": "5ac160c4891ec3a4"
  },
  {
   "cell_type": "code",
   "execution_count": 14,
   "outputs": [
    {
     "name": "stdout",
     "output_type": "stream",
     "text": [
      "('Россия', 'Москва')\n",
      "('Франция', 'Париж')\n",
      "('Чехия', 'Прага')\n"
     ]
    }
   ],
   "source": [
    "capitals = {'Россия': 'Москва', 'Франция': 'Париж', 'Чехия': 'Прага'}\n",
    "\n",
    "for item in capitals.items():\n",
    "    print(item)"
   ],
   "metadata": {
    "collapsed": false,
    "ExecuteTime": {
     "end_time": "2024-07-24T07:01:42.603159100Z",
     "start_time": "2024-07-24T07:01:42.591173Z"
    }
   },
   "id": "67e1d3e50b3e3b1"
  },
  {
   "cell_type": "raw",
   "source": [
    "Используя магию распаковки кортежей, можно писать такой код:"
   ],
   "metadata": {
    "collapsed": false
   },
   "id": "f5f4b43af8e77601"
  },
  {
   "cell_type": "code",
   "execution_count": 15,
   "outputs": [
    {
     "name": "stdout",
     "output_type": "stream",
     "text": [
      "Россия - Москва\n",
      "Франция - Париж\n",
      "Чехия - Прага\n"
     ]
    }
   ],
   "source": [
    "capitals = {'Россия': 'Москва', 'Франция': 'Париж', 'Чехия': 'Прага'}\n",
    "\n",
    "for key, value in capitals.items():\n",
    "    print(key, '-', value)"
   ],
   "metadata": {
    "collapsed": false,
    "ExecuteTime": {
     "end_time": "2024-07-24T07:02:17.654784300Z",
     "start_time": "2024-07-24T07:02:17.647290200Z"
    }
   },
   "id": "c444abceed03b74d"
  },
  {
   "cell_type": "markdown",
   "source": [
    "Распаковка ключей словаря"
   ],
   "metadata": {
    "collapsed": false
   },
   "id": "bcb070de4439df10"
  },
  {
   "cell_type": "raw",
   "source": [
    "Если требуется вывести только значение ключей словаря, то мы также можем использовать операцию распаковки словаря."
   ],
   "metadata": {
    "collapsed": false
   },
   "id": "daab78b602598c9f"
  },
  {
   "cell_type": "code",
   "execution_count": 16,
   "outputs": [
    {
     "name": "stdout",
     "output_type": "stream",
     "text": [
      "Россия\n",
      "Франция\n",
      "Чехия\n"
     ]
    }
   ],
   "source": [
    "capitals = {'Россия': 'Москва', 'Франция': 'Париж', 'Чехия': 'Прага'}\n",
    "\n",
    "print(*capitals, sep='\\n')"
   ],
   "metadata": {
    "collapsed": false,
    "ExecuteTime": {
     "end_time": "2024-07-24T07:03:00.189154400Z",
     "start_time": "2024-07-24T07:03:00.173739700Z"
    }
   },
   "id": "a9db64d01729f733"
  },
  {
   "cell_type": "raw",
   "source": [
    "Начиная с версии Python 3.6 словари являются упорядоченными, то есть сохраняют порядок следования ключей в порядке их внесения в словарь."
   ],
   "metadata": {
    "collapsed": false
   },
   "id": "35f0598b489f0a12"
  },
  {
   "cell_type": "markdown",
   "source": [
    "Сортировка словаря"
   ],
   "metadata": {
    "collapsed": false
   },
   "id": "e3f3de0da32ad797"
  },
  {
   "cell_type": "raw",
   "source": [
    "Так как словарь состоит из пар, то и отсортировать его можно как по ключам, так и по значениям."
   ],
   "metadata": {
    "collapsed": false
   },
   "id": "5e76c9347491f7ae"
  },
  {
   "cell_type": "raw",
   "source": [
    "Сортировка по ключам выполняется с использованием функции sorted()."
   ],
   "metadata": {
    "collapsed": false
   },
   "id": "9fb9aec587196581"
  },
  {
   "cell_type": "code",
   "execution_count": 17,
   "outputs": [
    {
     "name": "stdout",
     "output_type": "stream",
     "text": [
      "Англия\n",
      "Бразилия\n",
      "Россия\n",
      "Чехия\n"
     ]
    }
   ],
   "source": [
    "capitals = {'Россия': 'Москва', 'Англия': 'Лондон', 'Чехия': 'Прага', 'Бразилия':'Бразилиа'}\n",
    "\n",
    "for key in sorted(capitals):\n",
    "    print(key)"
   ],
   "metadata": {
    "collapsed": false,
    "ExecuteTime": {
     "end_time": "2024-07-24T07:03:43.990244700Z",
     "start_time": "2024-07-24T07:03:43.982749400Z"
    }
   },
   "id": "406fe26342f68be9"
  },
  {
   "cell_type": "raw",
   "source": [
    "Обратите внимание: функция sorted() возвращает отсортированный список ключей, а не словарь. Не путайте встроенную функцию sorted() и списочный метод sort(). Словари не содержат метода sort()."
   ],
   "metadata": {
    "collapsed": false
   },
   "id": "d8b3692cc58bbbb4"
  },
  {
   "cell_type": "raw",
   "source": [
    "Для сортировки словаря по значениям можно использовать функцию sorted() вместе с методом items()."
   ],
   "metadata": {
    "collapsed": false
   },
   "id": "1f48ee6ccbafbe3d"
  },
  {
   "cell_type": "code",
   "execution_count": 18,
   "outputs": [
    {
     "name": "stdout",
     "output_type": "stream",
     "text": [
      "Бразилиа\n",
      "Лондон\n",
      "Москва\n",
      "Прага\n"
     ]
    }
   ],
   "source": [
    "capitals = {'Россия': 'Москва', 'Англия': 'Лондон', 'Чехия': 'Прага', 'Бразилия': 'Бразилиа'}\n",
    "\n",
    "for key, value in sorted(capitals.items(), key = lambda x: x[1]):\n",
    "    print(value)"
   ],
   "metadata": {
    "collapsed": false,
    "ExecuteTime": {
     "end_time": "2024-07-24T07:04:21.394479900Z",
     "start_time": "2024-07-24T07:04:21.384000800Z"
    }
   },
   "id": "1c28dd4a957c3379"
  },
  {
   "cell_type": "raw",
   "source": [
    "Стоит учитывать, что sorted(capitals.items(), key= lambda x: x[1]) возвращает не словарь, а отсортированный по значению список кортежей."
   ],
   "metadata": {
    "collapsed": false
   },
   "id": "721554404a6782b2"
  },
  {
   "cell_type": "markdown",
   "source": [
    "Примечания"
   ],
   "metadata": {
    "collapsed": false
   },
   "id": "eb197e38a5594d23"
  },
  {
   "cell_type": "raw",
   "source": [
    "Примечание 1. Как мы уже знаем, с помощью оператора принадлежности in можно быстро проверить наличие ключа в словаре. Для проверки наличия значения в словаре можно использовать оператор in вместе с методом values(), который возвращает список всех значений словаря.\n",
    "\n",
    "Проверка наличия ключа в словаре:"
   ],
   "metadata": {
    "collapsed": false
   },
   "id": "469f2f941f8fe2de"
  },
  {
   "cell_type": "code",
   "execution_count": 19,
   "outputs": [
    {
     "name": "stdout",
     "output_type": "stream",
     "text": [
      "В словаре есть ключ Россия\n"
     ]
    }
   ],
   "source": [
    "capitals = {'Россия': 'Москва', 'Франция': 'Париж', 'Чехия': 'Прага'}\n",
    "\n",
    "if 'Россия' in capitals:\n",
    "    print('В словаре есть ключ Россия')"
   ],
   "metadata": {
    "collapsed": false,
    "ExecuteTime": {
     "end_time": "2024-07-24T07:05:39.625062200Z",
     "start_time": "2024-07-24T07:05:39.616105300Z"
    }
   },
   "id": "9d29ebb0fb58b668"
  },
  {
   "cell_type": "raw",
   "source": [
    "Проверка наличия значения в словаре:"
   ],
   "metadata": {
    "collapsed": false
   },
   "id": "7dc8f81a24629690"
  },
  {
   "cell_type": "code",
   "execution_count": 20,
   "outputs": [
    {
     "name": "stdout",
     "output_type": "stream",
     "text": [
      "В словаре есть значение Париж\n"
     ]
    }
   ],
   "source": [
    "capitals = {'Россия': 'Москва', 'Франция': 'Париж', 'Чехия': 'Прага'}\n",
    "\n",
    "if 'Париж' in capitals.values():\n",
    "    print('В словаре есть значение Париж')"
   ],
   "metadata": {
    "collapsed": false,
    "ExecuteTime": {
     "end_time": "2024-07-24T07:06:09.736501700Z",
     "start_time": "2024-07-24T07:06:09.728011600Z"
    }
   },
   "id": "27fe0021130eb267"
  },
  {
   "cell_type": "raw",
   "source": [
    "Примечание 2. Встроенная функция sorted() имеет опциональный параметр reverse. Если установить этот параметр в значение True, то сортировка будет по убыванию.\n",
    "\n",
    "Примечание 3. Код для работы со словарями нужно писать таким образом, чтобы он правильно работал при любом порядке обхода с помощью цикла for.\n",
    "\n",
    "Примечание 4. Словарные методы items(), keys(), values() возвращают не совсем обычные списки. Тип этих списков –  dict_keys в отличие от обычных списков  list. Методы обычных списков недоступны для списков типа dict_keys. Используйте явное преобразование с помощью функции list() для получения доступа к методам списков."
   ],
   "metadata": {
    "collapsed": false
   },
   "id": "f2126c701bdbaa99"
  },
  {
   "cell_type": "raw",
   "source": [
    "Дополните приведенный код, чтобы он вывел имена всех пользователей (в алфавитном порядке), чей номер оканчивается на 8.\n",
    "\n",
    "Примечание. Имена необходимо вывести на одной строке, разделяя символом пробела."
   ],
   "metadata": {
    "collapsed": false
   },
   "id": "d3908f82c8972a36"
  },
  {
   "cell_type": "code",
   "execution_count": 25,
   "outputs": [
    {
     "name": "stdout",
     "output_type": "stream",
     "text": [
      "Helga LJ Maria Riyad Ruslan\n"
     ]
    }
   ],
   "source": [
    "users = [{'name': 'Todd', 'phone': '551-1414', 'email': 'todd@gmail.com'},\n",
    "         {'name': 'Helga', 'phone': '555-1618', 'email': 'helga@mail.net'},\n",
    "         {'name': 'Olivia', 'phone': '449-3141', 'email': ''},\n",
    "         {'name': 'LJ', 'phone': '555-2718', 'email': 'lj@gmail.net'},\n",
    "         {'name': 'Ruslan', 'phone': '422-145-9098', 'email': 'rus-lan.cha@yandex.ru'},\n",
    "         {'name': 'John', 'phone': '233-421-32', 'email': ''},\n",
    "         {'name': 'Lara', 'phone': '+7998-676-2532', 'email': 'g.lara89@gmail.com'},\n",
    "         {'name': 'Alina', 'phone': '+7948-799-2434', 'email': 'ali.ch.b@gmail.com'},\n",
    "         {'name': 'Robert', 'phone': '420-2011', 'email': ''},\n",
    "         {'name': 'Riyad', 'phone': '128-8890-128', 'email': 'r.mahrez@mail.net'},\n",
    "         {'name': 'Khabib', 'phone': '+7995-600-9080', 'email': 'kh.nurmag@gmail.com'},\n",
    "         {'name': 'Olga', 'phone': '6449-314-1213', 'email': ''},\n",
    "         {'name': 'Roman', 'phone': '+7459-145-8059', 'email': 'roma988@mail.ru'},\n",
    "         {'name': 'Maria', 'phone': '12-129-3148', 'email': 'm.sharapova@gmail.com'},\n",
    "         {'name': 'Fedor', 'phone': '+7445-341-0545', 'email': ''},\n",
    "         {'name': 'Tim', 'phone': '242-449-3141', 'email': 'timm.ggg@yandex.ru'}]\n",
    "\n",
    "l =[]\n",
    "for i in users:\n",
    "    if i['phone'][-1] == '8':\n",
    "        l.append(i['name'])\n",
    "        \n",
    "print(*sorted(l))"
   ],
   "metadata": {
    "collapsed": false,
    "ExecuteTime": {
     "end_time": "2024-07-24T07:23:33.934662500Z",
     "start_time": "2024-07-24T07:23:33.923964200Z"
    }
   },
   "id": "277e2f765a2163a"
  },
  {
   "cell_type": "raw",
   "source": [
    "Дополните приведенный код, чтобы он вывел имена всех пользователей (в алфавитном порядке), у которых нет информации об электронной почте. \n",
    "\n",
    "Примечание 1. Ключ email может отсутствовать в словаре.\n",
    "\n",
    "Примечание 2. Имена необходимо вывести на одной строке, разделяя символом пробела."
   ],
   "metadata": {
    "collapsed": false
   },
   "id": "98fc9acd9e3c5cd0"
  },
  {
   "cell_type": "code",
   "execution_count": 32,
   "outputs": [
    {
     "name": "stdout",
     "output_type": "stream",
     "text": [
      "Alina Fedor Helga John Olga Olivia Robert Roman\n"
     ]
    }
   ],
   "source": [
    "users = [{'name': 'Todd', 'phone': '551-1414', 'email': 'todd@gmail.com'},\n",
    "         {'name': 'Helga', 'phone': '555-1618'},\n",
    "         {'name': 'Olivia', 'phone': '449-3141', 'email': ''},\n",
    "         {'name': 'LJ', 'phone': '555-2718', 'email': 'lj@gmail.net'},\n",
    "         {'name': 'Ruslan', 'phone': '422-145-9098', 'email': 'rus-lan.cha@yandex.ru'},\n",
    "         {'name': 'John', 'phone': '233-421-32', 'email': ''},\n",
    "         {'name': 'Lara', 'phone': '+7998-676-2532', 'email': 'g.lara89@gmail.com'},\n",
    "         {'name': 'Alina', 'phone': '+7948-799-2434'},\n",
    "         {'name': 'Robert', 'phone': '420-2011', 'email': ''},\n",
    "         {'name': 'Riyad', 'phone': '128-8890-128', 'email': 'r.mahrez@mail.net'},\n",
    "         {'name': 'Khabib', 'phone': '+7995-600-9080', 'email': 'kh.nurmag@gmail.com'},\n",
    "         {'name': 'Olga', 'phone': '6449-314-1213', 'email': ''},\n",
    "         {'name': 'Roman', 'phone': '+7459-145-8059'},\n",
    "         {'name': 'Maria', 'phone': '12-129-3148', 'email': 'm.sharapova@gmail.com'},\n",
    "         {'name': 'Fedor', 'phone': '+7445-341-0545', 'email': ''},\n",
    "         {'name': 'Tim', 'phone': '242-449-3141', 'email': 'timm.ggg@yandex.ru'}]\n",
    "\n",
    "l = []\n",
    "\n",
    "for i in users:\n",
    "    if 'email' not in i:\n",
    "        l.append(i['name'])\n",
    "    elif i['email'] == '':\n",
    "        l.append(i['name'])\n",
    "        \n",
    "print(*sorted(l), sep=' ')"
   ],
   "metadata": {
    "collapsed": false,
    "ExecuteTime": {
     "end_time": "2024-07-24T07:30:14.801794200Z",
     "start_time": "2024-07-24T07:30:14.799413300Z"
    }
   },
   "id": "83573515bf6abc2d"
  },
  {
   "cell_type": "raw",
   "source": [
    "Напишите программу, которая будет превращать натуральное число в строку, заменяя все цифры в числе на слова:\n",
    "\n",
    "0 на zero;\n",
    "1 на one;\n",
    "2 на two;\n",
    "3 на three;\n",
    "4 на four;\n",
    "5 на five;\n",
    "6 на six;\n",
    "7 на seven;\n",
    "8 на eight;\n",
    "9 на nine.\n",
    "Формат входных данных\n",
    "На вход программе подается натуральное число.\n",
    "\n",
    "Формат выходных данных\n",
    "Программа должна вывести строковое представление числа.\n",
    "\n",
    "Примечание. Используйте словарь вместо условного оператора."
   ],
   "metadata": {
    "collapsed": false
   },
   "id": "108489aaa4b268c9"
  },
  {
   "cell_type": "code",
   "execution_count": 34,
   "outputs": [
    {
     "name": "stdout",
     "output_type": "stream",
     "text": [
      "eight three\n"
     ]
    }
   ],
   "source": [
    "dic = {\n",
    "    \"0\": \"zero\",\n",
    "    \"1\": \"one\",\n",
    "    \"2\": \"two\",\n",
    "    \"3\": \"three\",\n",
    "    \"4\": \"four\",\n",
    "    \"5\": \"five\",\n",
    "    \"6\": \"six\",\n",
    "    \"7\": \"seven\",\n",
    "    \"8\": \"eight\",\n",
    "    \"9\": \"nine\"\n",
    "}\n",
    "\n",
    "n = input()\n",
    "\n",
    "l = []\n",
    "for digit in n:\n",
    "    l.append(dic[digit])\n",
    "    \n",
    "print(*l)"
   ],
   "metadata": {
    "collapsed": false,
    "ExecuteTime": {
     "end_time": "2024-07-24T07:38:13.945286700Z",
     "start_time": "2024-07-24T07:38:12.725796100Z"
    }
   },
   "id": "43219cefd4dff21e"
  },
  {
   "cell_type": "raw",
   "source": [
    "Напишите программу, которая по номеру курса выводит информацию о данном курсе. \n",
    "Формат входных данных\n",
    "На вход программе подается одна строка – номер курса.\n",
    "\n",
    "Формат выходных данных\n",
    "Программа должна вывести номер курса, затем номер аудитории, имя преподавателя и время проведения курса в соответствии с примерами.\n",
    "\n",
    "Примечание 1. Используйте словарь вместо условного оператора.\n",
    "\n",
    "Примечание 2. Для удобного вывода используйте строковый метод format() или f-строки."
   ],
   "metadata": {
    "collapsed": false
   },
   "id": "3cd3d8ff72e698b1"
  },
  {
   "cell_type": "code",
   "execution_count": 40,
   "outputs": [
    {
     "name": "stdout",
     "output_type": "stream",
     "text": [
      "CS101: 3004, Хайнс, 8:00\n"
     ]
    }
   ],
   "source": [
    "dic = { \"CS101\": \"CS101: 3004, Хайнс, 8:00\", \"CS102\": \"CS102: 4501, Альварадо, 9:00\", \"CS103\": \"CS103: 6755, Рич, 10:00\", \"NT110\": \"NT110: 1244, Берк, 11:00\", \"CM241\": \"CM241: 1411, Ли, 13:00\" }\n",
    "\n",
    "print(dic[input()])"
   ],
   "metadata": {
    "collapsed": false,
    "ExecuteTime": {
     "end_time": "2024-07-24T08:43:45.906784Z",
     "start_time": "2024-07-24T08:43:44.495004800Z"
    }
   },
   "id": "6434c57034ee21ed"
  },
  {
   "cell_type": "code",
   "execution_count": null,
   "outputs": [],
   "source": [
    "my_dict = {\n",
    "    'CS101': ('3004', 'Хайнс', '8:00'),\n",
    "    'CS102': ('4501', 'Альварадо', '9:00'),\n",
    "    'CS103': ('6755', 'Рич', '10:00'),\n",
    "    'NT110': ('1244', 'Берк', '11:00'),\n",
    "    'CM241': ('1411', 'Ли', '13:00'),\n",
    "}\n",
    "\n",
    "course_number = input()\n",
    "audience, teacher, time = my_dict[course_number]\n",
    "print(f'{course_number}: {audience}, {teacher}, {time}')"
   ],
   "metadata": {
    "collapsed": false
   },
   "id": "f7b5b7873298b4b6"
  },
  {
   "cell_type": "code",
   "execution_count": 41,
   "outputs": [
    {
     "name": "stdout",
     "output_type": "stream",
     "text": [
      "CS101: 3004, Хайнс, 8:00\n"
     ]
    }
   ],
   "source": [
    "info = [\n",
    "    {'course': 'CS101', 'classroom': '3004', 'teacher': 'Хайнс', 'time': '8:00'},\n",
    "    {'course': 'CS102', 'classroom': '4501', 'teacher': 'Альварадо', 'time': '9:00'},\n",
    "    {'course': 'CS103', 'classroom': '6755', 'teacher': 'Рич', 'time': '10:00'},\n",
    "    {'course': 'NT110', 'classroom': '1244', 'teacher': 'Берк', 'time': '11:00'},\n",
    "    {'course': 'CM241', 'classroom': '1411', 'teacher': 'Ли', 'time': '13:00'}\n",
    "]\n",
    "\n",
    "course = input()\n",
    "\n",
    "for dk in info:\n",
    "    if course in dk.values():\n",
    "        print(f'{course}: {dk[\"classroom\"]}, {dk[\"teacher\"]}, {dk[\"time\"]}')\n",
    "        break # используется оператор `break`, чтобы остановить выполнение цикла `for` после того, как найдено соответствие для запрашиваемого курса."
   ],
   "metadata": {
    "collapsed": false,
    "ExecuteTime": {
     "end_time": "2024-07-24T08:48:04.405976600Z",
     "start_time": "2024-07-24T08:48:02.658282700Z"
    }
   },
   "id": "158b2c4ae2e1836e"
  },
  {
   "cell_type": "raw",
   "source": [
    "На мобильных кнопочных телефонах текстовые сообщения можно отправлять с помощью цифровой клавиатуры. Поскольку с каждой клавишей связано несколько букв, для большинства букв требуется несколько нажатий клавиш. При однократном нажатии цифры генерируется первый символ, указанный для этой клавиши. Нажатие цифры 2,3,4 или 5 раз генерирует второй, третий, четвертый или пятый символ клавиши.\n",
    "\n",
    "Напишите программу, которая отображает нажатия клавиш, необходимые для введенного сообщения.\n",
    "\n",
    "Формат входных данных\n",
    "На вход программе подается одна строка – текстовое сообщение.\n",
    "\n",
    "Формат выходных данных\n",
    "Программа должна вывести нажатия клавиш, необходимых для введенного сообщения.\n",
    "\n",
    "Примечание 1. Ваша программа должна обрабатывать как прописные, так и строчные буквы.\n",
    "\n",
    "Примечание 2. Ваша программа должна игнорировать любые символы, не указанные в приведенной выше таблице."
   ],
   "metadata": {
    "collapsed": false
   },
   "id": "cceb0e250e68502a"
  },
  {
   "cell_type": "code",
   "execution_count": 48,
   "outputs": [
    {
     "name": "stdout",
     "output_type": "stream",
     "text": [
      "4433555555666110966677755531111\n"
     ]
    }
   ],
   "source": [
    "dic={'.':'1', ',':'11', '?':'111', '!':'1111', ':':'11111', '\"':'',\n",
    "    \"A\":'2', \"B\":'22', \"C\":'222',\n",
    "    \"D\":'3', \"E\":'33', \"F\":'333',\n",
    "    \"G\":'4', \"H\":'44', \"I\":'444',\n",
    "    \"J\":'5', \"K\":'55', \"L\":'555',\n",
    "    \"M\":'6', \"N\":'66', \"O\":'666',\n",
    "    \"P\":'7', \"Q\":'77', \"R\":'777', 'S': '7777',\n",
    "    \"T\":'8', \"U\":'88', \"V\":'888',\n",
    "    \"W\":'9', \"X\":'99', \"Y\":'999', 'Z': '9999',\n",
    "    \" \":'0'\n",
    "}\n",
    "\n",
    "n = input().upper()\n",
    "# n = 'Hello, World!'.upper()\n",
    "\n",
    "l = []\n",
    "for i in n:\n",
    "    l.append(dic[i])\n",
    "    \n",
    "print(*l, sep='')"
   ],
   "metadata": {
    "collapsed": false,
    "ExecuteTime": {
     "end_time": "2024-07-24T09:18:28.575918700Z",
     "start_time": "2024-07-24T09:18:28.572864800Z"
    }
   },
   "id": "ab2350578ca3a5a8"
  },
  {
   "cell_type": "code",
   "execution_count": null,
   "outputs": [],
   "source": [
    "keyboard = {\n",
    "    \"1\": \".,?!:\",\n",
    "    \"2\": \"ABC\",\n",
    "    \"3\": \"DEF\",\n",
    "    \"4\": \"GHI\",\n",
    "    \"5\": \"JKL\",\n",
    "    \"6\": \"MNO\",\n",
    "    \"7\": \"PQRS\",\n",
    "    \"8\": \"TUV\",\n",
    "    \"9\": \"WXYZ\",\n",
    "    \"0\": \" \"\n",
    "}\n",
    "\n",
    "for letter in input().upper():\n",
    "    for key, value in keyboard.items():\n",
    "        if letter in value:\n",
    "            print(key * (value.index(letter) + 1), end=\"\")"
   ],
   "metadata": {
    "collapsed": false
   },
   "id": "8576fa791db57e87"
  },
  {
   "cell_type": "raw",
   "source": [
    "Код Морзе для представления цифр и букв использует тире и точки.\n",
    "Напишите программу для кодирования текстового сообщения в соответствии с кодом Морзе.\n",
    "\n",
    "Формат входных данных\n",
    "На вход программе подается одна строка – текстовое сообщение.\n",
    "\n",
    "Формат выходных данных\n",
    "Программа должна вывести закодированное с помощью кода Морзе сообщение, оставляя пробел между каждым закодированным символом (последовательностью тире и точек).\n",
    "\n",
    "Примечание 1. Ваша программа должна игнорировать любые символы, не перечисленные в таблице.\n",
    "\n",
    "Примечание 2. Код Морзе был разработан в XIX веке и все еще используется, спустя более 160 лет после создания."
   ],
   "metadata": {
    "collapsed": false
   },
   "id": "9af0bd8b2ee1a986"
  },
  {
   "cell_type": "code",
   "execution_count": null,
   "outputs": [],
   "source": [
    "letters = [c for c in 'ABCDEFGHIJKLMNOPQRSTUVWXYZ0123456789']\n",
    "morse = ['.-', '-...', '-.-.', '-..', '.', '..-.', '--.', '....', '..', '.---', '-.-', '.-..', '--', '-.', '---', '.--.', '--.-', '.-.', '...', '-', '..-', '...-', '.--', '-..-', '-.--', '--..', '-----', '.----', '..---', '...--', '....-', '.....', '-....', '--...', '---..', '----.']\n",
    "\n",
    "# Создание словаря с использованием генератора\n",
    "result = {letters[i]: morse[i] for i in range(len(letters))}\n",
    "\n",
    "s = input().upper()\n",
    "l = []\n",
    "\n",
    "for i in s:\n",
    "    if i in letters:\n",
    "        l.append(dict(zip(letters, morse))[i])\n",
    "        \n",
    "print(*l)"
   ],
   "metadata": {
    "collapsed": false
   },
   "id": "2595a7d07032bd78"
  },
  {
   "cell_type": "code",
   "execution_count": null,
   "outputs": [],
   "source": [
    "letters = [c for c in 'ABCDEFGHIJKLMNOPQRSTUVWXYZ0123456789']\n",
    "morse = ['.-', '-...', '-.-.', '-..', '.', '..-.', '--.', '....', '..', '.---', '-.-', '.-..', '--', '-.', '---', '.--.', '--.-', '.-.', '...', '-', '..-', '...-', '.--', '-..-', '-.--', '--..', '-----', '.----', '..---', '...--', '....-', '.....', '-....', '--...', '---..', '----.']\n",
    "mydict = dict(zip(letters, morse))\n",
    "word = input().upper()\n",
    "\n",
    "for c in word:\n",
    "    if c in mydict:\n",
    "        print(mydict[c], end=' ')"
   ],
   "metadata": {
    "collapsed": false
   },
   "id": "dcd8bcc2283829ef"
  }
 ],
 "metadata": {
  "kernelspec": {
   "display_name": "Python 3",
   "language": "python",
   "name": "python3"
  },
  "language_info": {
   "codemirror_mode": {
    "name": "ipython",
    "version": 2
   },
   "file_extension": ".py",
   "mimetype": "text/x-python",
   "name": "python",
   "nbconvert_exporter": "python",
   "pygments_lexer": "ipython2",
   "version": "2.7.6"
  }
 },
 "nbformat": 4,
 "nbformat_minor": 5
}
