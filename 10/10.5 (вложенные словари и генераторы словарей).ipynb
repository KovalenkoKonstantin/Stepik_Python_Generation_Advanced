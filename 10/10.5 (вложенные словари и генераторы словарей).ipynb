{
 "cells": [
  {
   "cell_type": "markdown",
   "source": [
    "Вложенные словари"
   ],
   "metadata": {
    "collapsed": false
   },
   "id": "b96a4f30fc68a03e"
  },
  {
   "cell_type": "raw",
   "source": [
    "Словари могут содержать другие словари, которые сами, в свою очередь, содержат словари, и так далее на любую глубину. Такие словари называются вложенными словарями (мы уже сталкивались с вложенными списками и кортежами). Вложенные словари – один из способов представления структурированной информации."
   ],
   "metadata": {
    "collapsed": false
   },
   "id": "3e4af6316f64d6cd"
  },
  {
   "cell_type": "markdown",
   "source": [
    "Создание вложенных словарей"
   ],
   "metadata": {
    "collapsed": false
   },
   "id": "cc5cd958b2df2d70"
  },
  {
   "cell_type": "raw",
   "source": [
    "Вложенный словарь создается как обычный, только каждое значение в нем – другой словарь."
   ],
   "metadata": {
    "collapsed": false
   },
   "id": "5aa7aebf7da0a3a2"
  },
  {
   "cell_type": "raw",
   "source": [
    "Приведенный ниже код создает словарь для хранения информации о сотрудниках некоторой компании."
   ],
   "metadata": {
    "collapsed": false
   },
   "id": "983cd097feb3363f"
  },
  {
   "cell_type": "code",
   "execution_count": 2,
   "outputs": [
    {
     "name": "stdout",
     "output_type": "stream",
     "text": [
      "{'emp1': {'name': 'Timur', 'job': 'Teacher'}, 'emp2': {'name': 'Ruslan', 'job': 'Developer'}, 'emp3': {'name': 'Rustam', 'job': 'Tester'}}\n"
     ]
    }
   ],
   "source": [
    "info = {'emp1': {'name': 'Timur', 'job': 'Teacher'},\n",
    "        'emp2': {'name': 'Ruslan', 'job': 'Developer'},\n",
    "        'emp3': {'name': 'Rustam', 'job': 'Tester'}}\n",
    "print(info)"
   ],
   "metadata": {
    "collapsed": false,
    "ExecuteTime": {
     "end_time": "2024-07-26T07:53:36.926795800Z",
     "start_time": "2024-07-26T07:53:36.922995400Z"
    }
   },
   "id": "5997928025fc7611"
  },
  {
   "cell_type": "raw",
   "source": [
    "Тот же самый словарь info может быть создан по другому:"
   ],
   "metadata": {
    "collapsed": false
   },
   "id": "87b710915ed3cfc5"
  },
  {
   "cell_type": "code",
   "execution_count": 4,
   "outputs": [
    {
     "name": "stdout",
     "output_type": "stream",
     "text": [
      "{'emp1': {'name': 'Timur', 'job': 'Teacher'}, 'emp2': {'name': 'Ruslan', 'job': 'Developer'}, 'emp3': {'name': 'Rustam', 'job': 'Tester'}}\n"
     ]
    }
   ],
   "source": [
    "info = dict(emp1={'name': 'Timur', 'job': 'Teacher'},\n",
    "            emp2={'name': 'Ruslan', 'job': 'Developer'},\n",
    "            emp3={'name': 'Rustam', 'job': 'Tester'})\n",
    "print(info)"
   ],
   "metadata": {
    "collapsed": false,
    "ExecuteTime": {
     "end_time": "2024-07-26T07:54:21.294470Z",
     "start_time": "2024-07-26T07:54:21.284135800Z"
    }
   },
   "id": "c6566ed18304edae"
  },
  {
   "cell_type": "raw",
   "source": [
    "или"
   ],
   "metadata": {
    "collapsed": false
   },
   "id": "fc6d7bda4f84622d"
  },
  {
   "cell_type": "code",
   "execution_count": 6,
   "outputs": [
    {
     "name": "stdout",
     "output_type": "stream",
     "text": [
      "{'emp1': {'name': 'Timur', 'job': 'Teacher'}, 'emp2': {'name': 'Ruslan', 'job': 'Developer'}, 'emp3': {'name': 'Rustam', 'job': 'Tester'}}\n"
     ]
    }
   ],
   "source": [
    "ids = ['emp1', 'emp2', 'emp3']\n",
    "\n",
    "emp_info = [{'name': 'Timur', 'job': 'Teacher'},\n",
    "            {'name': 'Ruslan', 'job': 'Developer'},\n",
    "            {'name': 'Rustam', 'job': 'Tester'}]\n",
    "\n",
    "info = dict(zip(ids, emp_info))\n",
    "print(info)"
   ],
   "metadata": {
    "collapsed": false,
    "ExecuteTime": {
     "end_time": "2024-07-26T07:54:59.302036Z",
     "start_time": "2024-07-26T07:54:59.288565Z"
    }
   },
   "id": "99837246527d3dc9"
  },
  {
   "cell_type": "raw",
   "source": [
    "Число уровней вложенности словарей неограниченно!"
   ],
   "metadata": {
    "collapsed": false
   },
   "id": "5536288343c36e16"
  },
  {
   "cell_type": "markdown",
   "source": [
    "Обращение к элементам вложенного словаря"
   ],
   "metadata": {
    "collapsed": false
   },
   "id": "c0b249448027df94"
  },
  {
   "cell_type": "raw",
   "source": [
    "Для того, чтобы получить значения определенных элементов во вложенном словаре, необходимо указать их ключи в нескольких квадратных скобках подобно тому, как мы получали значения во вложенных списках."
   ],
   "metadata": {
    "collapsed": false
   },
   "id": "388b4e09ab44e395"
  },
  {
   "cell_type": "code",
   "execution_count": 1,
   "outputs": [
    {
     "name": "stdout",
     "output_type": "stream",
     "text": [
      "Timur\n",
      "Developer\n"
     ]
    }
   ],
   "source": [
    "info = {'emp1': {'name': 'Timur', 'job': 'Teacher'},\n",
    "        'emp2': {'name': 'Ruslan', 'job': 'Developer'},\n",
    "        'emp3': {'name': 'Rustam', 'job': 'Tester'}}\n",
    "\n",
    "print(info['emp1']['name'])\n",
    "print(info['emp2']['job'])"
   ],
   "metadata": {
    "collapsed": false,
    "ExecuteTime": {
     "end_time": "2024-07-26T11:06:44.695984900Z",
     "start_time": "2024-07-26T11:06:44.690998700Z"
    }
   },
   "id": "8204ab2c637f956c"
  },
  {
   "cell_type": "raw",
   "source": [
    "При попытке обращения по несуществующему ключу возникнет ошибка KeyError. Для того, чтобы избежать возникновения такой ошибки, используйте словарный метод get(), который по умолчанию возвращает значение None, если ключ отсутствует в словаре."
   ],
   "metadata": {
    "collapsed": false
   },
   "id": "5e2a8b6ab5aa7807"
  },
  {
   "cell_type": "markdown",
   "source": [
    "Изменение вложенных словарей"
   ],
   "metadata": {
    "collapsed": false
   },
   "id": "1ce53f18907c4653"
  },
  {
   "cell_type": "raw",
   "source": [
    "Чтобы изменить значение определенного элемента во вложенном словаре, необходимо обратиться к его ключу и использовать оператор присвоения (=)."
   ],
   "metadata": {
    "collapsed": false
   },
   "id": "9be63e2750df1bac"
  },
  {
   "cell_type": "code",
   "execution_count": 2,
   "outputs": [
    {
     "name": "stdout",
     "output_type": "stream",
     "text": [
      "{'name': 'Timur', 'job': 'Manager'}\n"
     ]
    }
   ],
   "source": [
    "info = {'emp1': {'name': 'Timur', 'job': 'Teacher'},\n",
    "        'emp2': {'name': 'Ruslan', 'job': 'Developer'},\n",
    "        'emp3': {'name': 'Rustam', 'job': 'Tester'}}\n",
    "\n",
    "info['emp1']['job'] = 'Manager'\n",
    "\n",
    "print(info['emp1'])"
   ],
   "metadata": {
    "collapsed": false,
    "ExecuteTime": {
     "end_time": "2024-07-26T11:08:43.314623800Z",
     "start_time": "2024-07-26T11:08:43.302214700Z"
    }
   },
   "id": "ec1fc3e588ecf3f9"
  },
  {
   "cell_type": "markdown",
   "source": [
    "Итерация по вложенным словарям"
   ],
   "metadata": {
    "collapsed": false
   },
   "id": "25a743dbfb5c1e8c"
  },
  {
   "cell_type": "raw",
   "source": [
    "Итерации по вложенным словарям осуществляются как правило двумя циклами for (иногда достаточно одного цикла)."
   ],
   "metadata": {
    "collapsed": false
   },
   "id": "fb35af2e21591203"
  },
  {
   "cell_type": "code",
   "execution_count": 3,
   "outputs": [
    {
     "name": "stdout",
     "output_type": "stream",
     "text": [
      "Employee ID: emp1\n",
      "name: Timur\n",
      "job: Teacher\n",
      "\n",
      "Employee ID: emp2\n",
      "name: Ruslan\n",
      "job: Developer\n",
      "\n",
      "Employee ID: emp3\n",
      "name: Rustam\n",
      "job: Tester\n"
     ]
    }
   ],
   "source": [
    "info = {'emp1': {'name': 'Timur', 'job': 'Teacher'},\n",
    "        'emp2': {'name': 'Ruslan', 'job': 'Developer'},\n",
    "        'emp3': {'name': 'Rustam', 'job': 'Tester'}}\n",
    "\n",
    "for emp in info:\n",
    "    print('Employee ID:', emp)\n",
    "    for key in info[emp]:\n",
    "        print(key + ':', info[emp][key])\n",
    "    print()"
   ],
   "metadata": {
    "collapsed": false,
    "ExecuteTime": {
     "end_time": "2024-07-26T11:09:44.242281700Z",
     "start_time": "2024-07-26T11:09:44.231571600Z"
    }
   },
   "id": "14fd05be2552ad2b"
  },
  {
   "cell_type": "raw",
   "source": [
    "Аналогичного результата можно было добиться с помощью метода items():"
   ],
   "metadata": {
    "collapsed": false
   },
   "id": "52cf032595069835"
  },
  {
   "cell_type": "code",
   "execution_count": 4,
   "outputs": [
    {
     "name": "stdout",
     "output_type": "stream",
     "text": [
      "Employee ID: emp1\n",
      "name: Timur\n",
      "job: Teacher\n",
      "\n",
      "Employee ID: emp2\n",
      "name: Ruslan\n",
      "job: Developer\n",
      "\n",
      "Employee ID: emp3\n",
      "name: Rustam\n",
      "job: Tester\n"
     ]
    }
   ],
   "source": [
    "info = {'emp1': {'name': 'Timur', 'job': 'Teacher'},\n",
    "        'emp2': {'name': 'Ruslan', 'job': 'Developer'},\n",
    "        'emp3': {'name': 'Rustam', 'job': 'Tester'}}\n",
    "\n",
    "for emp, inf in info.items():\n",
    "    print('Employee ID:', emp)\n",
    "    for key in inf:\n",
    "        print(key + ':', inf[key])\n",
    "    print()"
   ],
   "metadata": {
    "collapsed": false,
    "ExecuteTime": {
     "end_time": "2024-07-26T11:11:14.497719600Z",
     "start_time": "2024-07-26T11:11:14.485759Z"
    }
   },
   "id": "1a0784407ee875a5"
  },
  {
   "cell_type": "markdown",
   "source": [
    "Генераторы словарей"
   ],
   "metadata": {
    "collapsed": false
   },
   "id": "f7427e673fc596ed"
  },
  {
   "cell_type": "raw",
   "source": [
    "Пусть требуется создать словарь, ключами которого будут числа от 0 до 5, а значениями – квадраты ключей."
   ],
   "metadata": {
    "collapsed": false
   },
   "id": "d9089384ef4601b6"
  },
  {
   "cell_type": "code",
   "execution_count": 5,
   "outputs": [],
   "source": [
    "squares = {}\n",
    "\n",
    "squares[0] = 0\n",
    "squares[1] = 1\n",
    "squares[2] = 4\n",
    "squares[3] = 9\n",
    "squares[4] = 16\n",
    "squares[5] = 25"
   ],
   "metadata": {
    "collapsed": false,
    "ExecuteTime": {
     "end_time": "2024-07-26T11:13:34.565273800Z",
     "start_time": "2024-07-26T11:13:34.553913800Z"
    }
   },
   "id": "7f7baf7792bdf6a7"
  },
  {
   "cell_type": "code",
   "execution_count": 6,
   "outputs": [],
   "source": [
    "squares = {0: 0, 1: 1, 2: 4, 3: 9, 4: 16, 5: 25}"
   ],
   "metadata": {
    "collapsed": false,
    "ExecuteTime": {
     "end_time": "2024-07-26T11:13:43.511704500Z",
     "start_time": "2024-07-26T11:13:43.500536700Z"
    }
   },
   "id": "45c7f1c4ce242d58"
  },
  {
   "cell_type": "code",
   "execution_count": 7,
   "outputs": [],
   "source": [
    "squares = {}\n",
    "\n",
    "for i in range(6):\n",
    "    squares[i] = i ** 2"
   ],
   "metadata": {
    "collapsed": false,
    "ExecuteTime": {
     "end_time": "2024-07-26T11:13:50.959573Z",
     "start_time": "2024-07-26T11:13:50.946826200Z"
    }
   },
   "id": "b83914a5c1ce3bfd"
  },
  {
   "cell_type": "raw",
   "source": [
    "Первые два способа слишком громоздкие и не подходят, когда чисел много. Третий способ полностью решает поставленную задачу, однако его можно переписать в стиле Python с использованием генератора словаря:"
   ],
   "metadata": {
    "collapsed": false
   },
   "id": "7307afedd838269e"
  },
  {
   "cell_type": "code",
   "execution_count": 8,
   "outputs": [],
   "source": [
    "squares = {i: i ** 2 for i in range(6)}"
   ],
   "metadata": {
    "collapsed": false,
    "ExecuteTime": {
     "end_time": "2024-07-26T11:14:14.922522Z",
     "start_time": "2024-07-26T11:14:14.911247700Z"
    }
   },
   "id": "931b12ccb4126562"
  },
  {
   "cell_type": "raw",
   "source": [
    "Общий вид генератора словаря следующий:\n",
    "\n",
    "{ключ: значение for переменная in последовательность}"
   ],
   "metadata": {
    "collapsed": false
   },
   "id": "3e544be8568c88bc"
  },
  {
   "cell_type": "markdown",
   "source": [
    "Примеры использования генератора словарей"
   ],
   "metadata": {
    "collapsed": false
   },
   "id": "570a7bdb18503d02"
  },
  {
   "cell_type": "raw",
   "source": [
    "Генераторы словаря могут выполнять итерации по любому итерируемому объекту: списки, кортежи, строки, словари.\n",
    "\n",
    "1. Генератор словаря при итерировании по строке."
   ],
   "metadata": {
    "collapsed": false
   },
   "id": "a6dfa7813053f1d5"
  },
  {
   "cell_type": "code",
   "execution_count": 9,
   "outputs": [
    {
     "name": "stdout",
     "output_type": "stream",
     "text": [
      "{'O': 'OOO', 'R': 'RRR', 'A': 'AAA', 'N': 'NNN', 'G': 'GGG', 'E': 'EEE'}\n"
     ]
    }
   ],
   "source": [
    "dct = {c: c * 3 for c in 'ORANGE'}\n",
    "\n",
    "print(dct)"
   ],
   "metadata": {
    "collapsed": false,
    "ExecuteTime": {
     "end_time": "2024-07-26T11:15:17.982276200Z",
     "start_time": "2024-07-26T11:15:17.971546Z"
    }
   },
   "id": "f326e9b4b7df36dc"
  },
  {
   "cell_type": "raw",
   "source": [
    "2. Для вычисления ключа и значения в генераторе словаря могут быть использованы выражения."
   ],
   "metadata": {
    "collapsed": false
   },
   "id": "10e0a730641b71fd"
  },
  {
   "cell_type": "raw",
   "source": [
    "В следующем примере для вычисления ключа используется метод lower(), а для вычисления значения – метод upper()."
   ],
   "metadata": {
    "collapsed": false
   },
   "id": "f1b449a5167d9e00"
  },
  {
   "cell_type": "code",
   "execution_count": 10,
   "outputs": [
    {
     "name": "stdout",
     "output_type": "stream",
     "text": [
      "{'red': 'RED', 'green': 'GREEN', 'blue': 'BLUE'}\n"
     ]
    }
   ],
   "source": [
    "lst = ['ReD', 'GrEeN', 'BlUe']\n",
    "dct = {c.lower(): c.upper() for c in lst}\n",
    "\n",
    "print(dct)"
   ],
   "metadata": {
    "collapsed": false,
    "ExecuteTime": {
     "end_time": "2024-07-26T12:55:23.384005600Z",
     "start_time": "2024-07-26T12:55:23.371020800Z"
    }
   },
   "id": "7232a68b81beb19c"
  },
  {
   "cell_type": "raw",
   "source": [
    "3. Извлечение из словаря элементов с определенными ключами."
   ],
   "metadata": {
    "collapsed": false
   },
   "id": "a5795af682a2b15f"
  },
  {
   "cell_type": "code",
   "execution_count": 11,
   "outputs": [
    {
     "name": "stdout",
     "output_type": "stream",
     "text": [
      "{0: 'A', 2: 'C', 5: 'F'}\n"
     ]
    }
   ],
   "source": [
    "dict1 = {0: 'A', 1: 'B', 2: 'C', 3: 'D', 4: 'E', 5: 'F'}\n",
    "selected_keys = [0, 2, 5]\n",
    "\n",
    "dict2 = {k: dict1[k] for k in selected_keys}\n",
    "\n",
    "print(dict2)"
   ],
   "metadata": {
    "collapsed": false,
    "ExecuteTime": {
     "end_time": "2024-07-26T12:55:43.528622Z",
     "start_time": "2024-07-26T12:55:43.516797700Z"
    }
   },
   "id": "5ece32fc9b7518d3"
  },
  {
   "cell_type": "markdown",
   "source": [
    "Условия в генераторе словарей"
   ],
   "metadata": {
    "collapsed": false
   },
   "id": "6094b22ad7986d9f"
  },
  {
   "cell_type": "raw",
   "source": [
    "В генераторах словарей можно использовать условный оператор.\n",
    "\n",
    "Приведенный ниже код создает словарь, ключами которого являются четные числа от 0 до 9, а значениями – квадраты ключей:"
   ],
   "metadata": {
    "collapsed": false
   },
   "id": "ca3f7196c4edd3db"
  },
  {
   "cell_type": "code",
   "execution_count": 12,
   "outputs": [
    {
     "name": "stdout",
     "output_type": "stream",
     "text": [
      "{0: 0, 2: 4, 4: 16, 6: 36, 8: 64}\n"
     ]
    }
   ],
   "source": [
    "squares = {}\n",
    "for i in range(10):\n",
    "    if i % 2 == 0:\n",
    "        squares[i] = i ** 2\n",
    "\n",
    "print(squares)"
   ],
   "metadata": {
    "collapsed": false,
    "ExecuteTime": {
     "end_time": "2024-07-26T12:56:51.183176100Z",
     "start_time": "2024-07-26T12:56:51.169450Z"
    }
   },
   "id": "512642eef2c47506"
  },
  {
   "cell_type": "raw",
   "source": [
    "Такой код можно переписать с помощью генератора словаря в виде: "
   ],
   "metadata": {
    "collapsed": false
   },
   "id": "cfcbbc5f5fcb8e4f"
  },
  {
   "cell_type": "code",
   "execution_count": 13,
   "outputs": [
    {
     "name": "stdout",
     "output_type": "stream",
     "text": [
      "{0: 0, 2: 4, 4: 16, 6: 36, 8: 64}\n"
     ]
    }
   ],
   "source": [
    "squares = {i: i ** 2 for i in range(10) if i % 2 == 0}\n",
    "\n",
    "print(squares)"
   ],
   "metadata": {
    "collapsed": false,
    "ExecuteTime": {
     "end_time": "2024-07-26T12:57:17.885735800Z",
     "start_time": "2024-07-26T12:57:17.874343800Z"
    }
   },
   "id": "bc108d3c92173c07"
  },
  {
   "cell_type": "raw",
   "source": [
    "Не забываем про возможность указания шага в функции range(). Предыдущий код можно записать и без условного оператора: squares = {i: i**2 for i in range(0, 10, 2)}."
   ],
   "metadata": {
    "collapsed": false
   },
   "id": "1aec7650fd25df79"
  },
  {
   "cell_type": "code",
   "execution_count": 14,
   "outputs": [],
   "source": [
    "squares = {i: i ** 2 for i in range(0, 10, 2)}"
   ],
   "metadata": {
    "collapsed": false,
    "ExecuteTime": {
     "end_time": "2024-07-26T12:57:52.844535600Z",
     "start_time": "2024-07-26T12:57:52.833305400Z"
    }
   },
   "id": "8a3f6088f7e53f75"
  },
  {
   "cell_type": "markdown",
   "source": [
    "Генераторы вложенных словарей"
   ],
   "metadata": {
    "collapsed": false
   },
   "id": "388df43ca63c59ef"
  },
  {
   "cell_type": "raw",
   "source": [
    "Мы также можем использовать генераторы словарей для создания вложенных словарей:"
   ],
   "metadata": {
    "collapsed": false
   },
   "id": "947432f090bda368"
  },
  {
   "cell_type": "code",
   "execution_count": 15,
   "outputs": [
    {
     "name": "stdout",
     "output_type": "stream",
     "text": [
      "{0: 0}\n",
      "{0: 0, 1: 1}\n",
      "{0: 0, 1: 1, 2: 4}\n",
      "{0: 0, 1: 1, 2: 4, 3: 9}\n",
      "{0: 0, 1: 1, 2: 4, 3: 9, 4: 16}\n"
     ]
    }
   ],
   "source": [
    "squares = {i: {j: j ** 2 for j in range(i + 1)} for i in range(5)}\n",
    "\n",
    "for value in squares.values():\n",
    "    print(value)"
   ],
   "metadata": {
    "collapsed": false,
    "ExecuteTime": {
     "end_time": "2024-07-26T12:58:17.496444100Z",
     "start_time": "2024-07-26T12:58:17.482508900Z"
    }
   },
   "id": "fce2852c90a246d8"
  },
  {
   "cell_type": "raw",
   "source": [
    "Дополните приведенный код, используя генератор, так чтобы получить словарь result , в котором ключом будет позиция числа в списке numbers (начиная с 0), а значением – его квадрат."
   ],
   "metadata": {
    "collapsed": false
   },
   "id": "9942ea280ece15c"
  },
  {
   "cell_type": "code",
   "execution_count": 20,
   "outputs": [
    {
     "name": "stdout",
     "output_type": "stream",
     "text": [
      "{0: 1156, 1: 100, 2: 16, 3: 36, 4: 100, 5: 529, 6: 8100, 7: 10000, 8: 441, 9: 1225, 10: 9025, 11: 1, 12: 1296, 13: 1444, 14: 361, 15: 1, 16: 36, 17: 7569}\n"
     ]
    }
   ],
   "source": [
    "numbers = [34, 10, -4, 6, 10, 23, -90, 100, 21, -35, -95, 1, 36, -38, -19, 1, 6, 87]\n",
    "\n",
    "result = {i: numbers[i] ** 2 for i in range(len(numbers))}\n",
    "print(result)"
   ],
   "metadata": {
    "collapsed": false,
    "ExecuteTime": {
     "end_time": "2024-07-26T13:41:10.299409200Z",
     "start_time": "2024-07-26T13:41:10.293104200Z"
    }
   },
   "id": "d8f4f8d1e3599776"
  },
  {
   "cell_type": "code",
   "execution_count": null,
   "outputs": [],
   "source": [
    "numbers = [34, 10, -4, 6, 10, 23, -90, 100, 21, -35, -95, 1, 36, -38, -19, 1, 6, 87]\n",
    "\n",
    "result = {x: y ** 2 for x, y in zip(range(len(numbers)), numbers)}"
   ],
   "metadata": {
    "collapsed": false
   },
   "id": "df142894b593c751"
  },
  {
   "cell_type": "raw",
   "source": [
    "Дополните приведенный код, используя генератор, чтобы получить словарь result, состоящий из всех элементов словаря colors, кроме тех, у которых значением является None."
   ],
   "metadata": {
    "collapsed": false
   },
   "id": "c4edcc88587b32ac"
  },
  {
   "cell_type": "code",
   "execution_count": 21,
   "outputs": [
    {
     "name": "stdout",
     "output_type": "stream",
     "text": [
      "{'c1': 'Red', 'c2': 'Grey', 'c4': 'Green', 'c5': 'Yellow', 'c6': 'Pink', 'c7': 'Orange', 'c9': 'White', 'c10': 'Black', 'c11': 'Violet', 'c12': 'Gold', 'c14': 'Amber', 'c15': 'Azure', 'c16': 'Beige', 'c17': 'Bronze', 'c19': 'Lilac', 'c20': 'Pearl', 'c22': 'Sand'}\n"
     ]
    }
   ],
   "source": [
    "colors = {'c1': 'Red', 'c2': 'Grey', 'c3': None, 'c4': 'Green', 'c5': 'Yellow', 'c6': 'Pink', 'c7': 'Orange',\n",
    "          'c8': None, 'c9': 'White', 'c10': 'Black', 'c11': 'Violet', 'c12': 'Gold', 'c13': None, 'c14': 'Amber',\n",
    "          'c15': 'Azure', 'c16': 'Beige', 'c17': 'Bronze', 'c18': None, 'c19': 'Lilac', 'c20': 'Pearl', 'c21': None,\n",
    "          'c22': 'Sand', 'c23': None}\n",
    "\n",
    "result = {i: j for i, j in colors.items() if j is not None}\n",
    "\n",
    "print(result)"
   ],
   "metadata": {
    "collapsed": false,
    "ExecuteTime": {
     "end_time": "2024-07-26T13:47:14.870704500Z",
     "start_time": "2024-07-26T13:47:14.865209800Z"
    }
   },
   "id": "98da87ee92d3ae21"
  },
  {
   "cell_type": "code",
   "execution_count": null,
   "outputs": [],
   "source": [
    "colors = {'c1': 'Red', 'c2': 'Grey', 'c3': None, 'c4': 'Green', 'c5': 'Yellow', 'c6': 'Pink', 'c7': 'Orange',\n",
    "          'c8': None, 'c9': 'White', 'c10': 'Black', 'c11': 'Violet', 'c12': 'Gold', 'c13': None, 'c14': 'Amber',\n",
    "          'c15': 'Azure', 'c16': 'Beige', 'c17': 'Bronze', 'c18': None, 'c19': 'Lilac', 'c20': 'Pearl', 'c21': None,\n",
    "          'c22': 'Sand', 'c23': None}\n",
    "\n",
    "result = {x: colors[x] for x in colors if colors[x]}"
   ],
   "metadata": {
    "collapsed": false
   },
   "id": "28ee9243668f868b"
  },
  {
   "cell_type": "code",
   "execution_count": null,
   "outputs": [],
   "source": [
    "colors = {'c1': 'Red', 'c2': 'Grey', 'c3': None, 'c4': 'Green', 'c5': 'Yellow', 'c6': 'Pink', 'c7': 'Orange',\n",
    "          'c8': None, 'c9': 'White', 'c10': 'Black', 'c11': 'Violet', 'c12': 'Gold', 'c13': None, 'c14': 'Amber',\n",
    "          'c15': 'Azure', 'c16': 'Beige', 'c17': 'Bronze', 'c18': None, 'c19': 'Lilac', 'c20': 'Pearl', 'c21': None,\n",
    "          'c22': 'Sand', 'c23': None}\n",
    "\n",
    "result = {k: v for k, v in colors.items() if v}"
   ],
   "metadata": {
    "collapsed": false
   },
   "id": "a967c42992f7cb2b"
  },
  {
   "cell_type": "raw",
   "source": [
    "Дополните приведенный код, используя генератор, чтобы получить словарь result, состоящий из всех элементов словаря favorite_numbers , значения которых являются двузначными числами."
   ],
   "metadata": {
    "collapsed": false
   },
   "id": "b739b8cccc3593ea"
  },
  {
   "cell_type": "code",
   "execution_count": 32,
   "outputs": [
    {
     "name": "stdout",
     "output_type": "stream",
     "text": [
      "{'timur': 17, 'ruslan': 7, 'larisa': 19, 'ronald': 76, 'dorothy': 62, 'harold': 36, 'rosaly': 18, 'rustam': 89, 'sveta': 75, 'anna': 55}\n"
     ]
    }
   ],
   "source": [
    "favorite_numbers = {'timur': 17, 'ruslan': 7, 'larisa': 19, 'roman': 123, 'rebecca': 293, 'ronald': 76, 'dorothy': 62,\n",
    "                    'harold': 36, 'matt': 314, 'kim': 451, 'rosaly': 18, 'rustam': 89, 'soltan': 111, 'amir': 654,\n",
    "                    'dima': 390, 'amiran': 777, 'geor': 999, 'sveta': 75, 'rita': 909, 'kirill': 404, 'olga': 271,\n",
    "                    'anna': 55, 'madlen': 876}\n",
    "\n",
    "result = {k: v for k, v in favorite_numbers.items() if v // 100 == 0}\n",
    "print(result)"
   ],
   "metadata": {
    "collapsed": false,
    "ExecuteTime": {
     "end_time": "2024-07-29T06:04:24.708309800Z",
     "start_time": "2024-07-29T06:04:24.703374300Z"
    }
   },
   "id": "46804608e0427076"
  },
  {
   "cell_type": "code",
   "execution_count": 33,
   "outputs": [
    {
     "name": "stdout",
     "output_type": "stream",
     "text": [
      "{'timur': 17, 'larisa': 19, 'ronald': 76, 'dorothy': 62, 'harold': 36, 'rosaly': 18, 'rustam': 89, 'sveta': 75, 'anna': 55}\n"
     ]
    }
   ],
   "source": [
    "favorite_numbers = {'timur': 17, 'ruslan': 7, 'larisa': 19, 'roman': 123, 'rebecca': 293, 'ronald': 76, 'dorothy': 62,\n",
    "                    'harold': 36, 'matt': 314, 'kim': 451, 'rosaly': 18, 'rustam': 89, 'soltan': 111, 'amir': 654,\n",
    "                    'dima': 390, 'amiran': 777, 'geor': 999, 'sveta': 75, 'rita': 909, 'kirill': 404, 'olga': 271,\n",
    "                    'anna': 55, 'madlen': 876}\n",
    "\n",
    "result = {k: v for k, v in favorite_numbers.items() if len(str(v)) == 2}\n",
    "print(result)"
   ],
   "metadata": {
    "collapsed": false,
    "ExecuteTime": {
     "end_time": "2024-07-29T06:07:31.905276500Z",
     "start_time": "2024-07-29T06:07:31.901208500Z"
    }
   },
   "id": "6e032534bf089e75"
  },
  {
   "cell_type": "raw",
   "source": [
    "Дополните приведенный код, используя генератор, так, чтобы получить словарь result, состоящий из всех элементов словаря months, в которых ключ и значение поменялись местами."
   ],
   "metadata": {
    "collapsed": false
   },
   "id": "ac26d2fa9e20c561"
  },
  {
   "cell_type": "code",
   "execution_count": 34,
   "outputs": [
    {
     "name": "stdout",
     "output_type": "stream",
     "text": [
      "{'January': 1, 'February': 2, 'March': 3, 'April': 4, 'May': 5, 'June': 6, 'July': 7, 'August': 8, 'September': 9, 'October': 10, 'November': 11, 'December': 12}\n"
     ]
    }
   ],
   "source": [
    "months = {1: 'January', 2: 'February', 3: 'March', 4: 'April', 5: 'May', 6: 'June', 7: 'July', 8: 'August',\n",
    "          9: 'September', 10: 'October', 11: 'November', 12: 'December'}\n",
    "\n",
    "result = {v: k for k, v in months.items()}\n",
    "print(result)"
   ],
   "metadata": {
    "collapsed": false,
    "ExecuteTime": {
     "end_time": "2024-07-29T06:22:31.610840100Z",
     "start_time": "2024-07-29T06:22:31.606549800Z"
    }
   },
   "id": "fec82403da669c6e"
  },
  {
   "cell_type": "raw",
   "source": [
    "В переменной s хранится строка пар число:слово. Дополните приведенный код, используя генератор, чтобы получить словарь result , в котором числа будут ключами, а слова – значениями.\n",
    "\n",
    "Примечание 1. Ключи словаря должны быть целыми числами (иметь тип int), значения – строками (иметь тип str)."
   ],
   "metadata": {
    "collapsed": false
   },
   "id": "530a6cf158a15dd3"
  },
  {
   "cell_type": "code",
   "execution_count": 39,
   "outputs": [
    {
     "name": "stdout",
     "output_type": "stream",
     "text": [
      "['1:men', '2:kind', '90:number', '0:sun', '34:book', '56:mountain', '87:wood', '54:car', '3:island', '88:power', '7:box', '17:star', '101:ice']\n",
      "[['1', 'men'], ['2', 'kind'], ['90', 'number'], ['0', 'sun'], ['34', 'book'], ['56', 'mountain'], ['87', 'wood'], ['54', 'car'], ['3', 'island'], ['88', 'power'], ['7', 'box'], ['17', 'star'], ['101', 'ice']]\n",
      "{1: 'men', 2: 'kind', 90: 'number', 0: 'sun', 34: 'book', 56: 'mountain', 87: 'wood', 54: 'car', 3: 'island', 88: 'power', 7: 'box', 17: 'star', 101: 'ice'}\n"
     ]
    }
   ],
   "source": [
    "s = '1:men 2:kind 90:number 0:sun 34:book 56:mountain 87:wood 54:car 3:island 88:power 7:box 17:star 101:ice'\n",
    "l = s.split()\n",
    "\n",
    "print(l)\n",
    "\n",
    "l1 = [i.split(':') for i in l]\n",
    "print(l1)\n",
    "\n",
    "result = {int(k): v for k, v in l1}\n",
    "print(result)"
   ],
   "metadata": {
    "collapsed": false,
    "ExecuteTime": {
     "end_time": "2024-07-29T06:27:21.062149600Z",
     "start_time": "2024-07-29T06:27:21.057159400Z"
    }
   },
   "id": "e4ffb125dbcbe746"
  },
  {
   "cell_type": "code",
   "execution_count": null,
   "outputs": [],
   "source": [
    "s = '1:men 2:kind 90:number 0:sun 34:book 56:mountain 87:wood 54:car 3:island 88:power 7:box 17:star 101:ice'\n",
    "\n",
    "result = {int(k): v for k, v in [l.split(':') for l in s.split()]}"
   ],
   "metadata": {
    "collapsed": false
   },
   "id": "1318ef99e9af61de"
  },
  {
   "cell_type": "raw",
   "source": [
    "Используя генератор, дополните приведенный код, чтобы получить словарь result , где ключом будет элемент списка numbers, а значением – отсортированный по возрастанию список всех его делителей начиная с 1.\n",
    "\n",
    "Примечание 1. Если бы список numbers имел вид: numbers = [1, 6, 18], то результатом был бы словарь\n",
    "\n",
    "result = {1: [1], 6: [1, 2, 3, 6], 18: [1, 2, 3, 6, 9, 18]}"
   ],
   "metadata": {
    "collapsed": false
   },
   "id": "1156bb0510115cab"
  },
  {
   "cell_type": "code",
   "execution_count": 49,
   "outputs": [
    {
     "name": "stdout",
     "output_type": "stream",
     "text": [
      "{1: [1],\n",
      " 4: [1, 2, 4],\n",
      " 6: [1, 2, 3, 6],\n",
      " 10: [1, 2, 5, 10],\n",
      " 19: [1, 19],\n",
      " 21: [1, 3, 7, 21],\n",
      " 23: [1, 23],\n",
      " 34: [1, 2, 17, 34],\n",
      " 35: [1, 5, 7, 35],\n",
      " 36: [1, 2, 3, 4, 6, 9, 12, 18, 36],\n",
      " 38: [1, 2, 19, 38],\n",
      " 87: [1, 3, 29, 87],\n",
      " 90: [1, 2, 3, 5, 6, 9, 10, 15, 18, 30, 45, 90],\n",
      " 95: [1, 5, 19, 95],\n",
      " 100: [1, 2, 4, 5, 10, 20, 25, 50, 100],\n",
      " 360: [1,\n",
      "       2,\n",
      "       3,\n",
      "       4,\n",
      "       5,\n",
      "       6,\n",
      "       8,\n",
      "       9,\n",
      "       10,\n",
      "       12,\n",
      "       15,\n",
      "       18,\n",
      "       20,\n",
      "       24,\n",
      "       30,\n",
      "       36,\n",
      "       40,\n",
      "       45,\n",
      "       60,\n",
      "       72,\n",
      "       90,\n",
      "       120,\n",
      "       180,\n",
      "       360],\n",
      " 1000: [1, 2, 4, 5, 8, 10, 20, 25, 40, 50, 100, 125, 200, 250, 500, 1000],\n",
      " 13456: [1, 2, 4, 8, 16, 29, 58, 116, 232, 464, 841, 1682, 3364, 6728, 13456]}\n"
     ]
    }
   ],
   "source": [
    "from pprint import pprint\n",
    "\n",
    "numbers = [34, 10, 4, 6, 10, 23, 90, 100, 21, 35, 95, 1, 36, 38, 19, 1, 6, 87, 1000, 13456, 360]\n",
    "\n",
    "result = {i: [j for j in range(1, i + 1) if i % j == 0] for i in numbers}\n",
    "pprint(result)\n",
    "# print(result)"
   ],
   "metadata": {
    "collapsed": false,
    "ExecuteTime": {
     "end_time": "2024-07-29T06:40:19.168943700Z",
     "start_time": "2024-07-29T06:40:19.163853300Z"
    }
   },
   "id": "8fa45165263675be"
  },
  {
   "cell_type": "raw",
   "source": [
    "Дополните приведенный код, используя генератор, так, чтобы получить словарь result , в котором ключом будет строка – элемент списка words, а значением – список соответствующих кодов ASCII символов данной строки.\n",
    "\n",
    "Примечание 1. Если бы список words имел вид: words = ['yes', 'hello'], то результатом был бы словарь\n",
    "\n",
    "result = {'yes': [121, 101, 115], 'hello': [104, 101, 108, 108, 111]}\n",
    "Примечание 2. Для получения ASCII кода символа используйте функцию ord()."
   ],
   "metadata": {
    "collapsed": false
   },
   "id": "8759e850cc514f29"
  },
  {
   "cell_type": "code",
   "execution_count": 52,
   "outputs": [
    {
     "name": "stdout",
     "output_type": "stream",
     "text": [
      "{'hello': [104, 101, 108, 108, 111], 'bye': [98, 121, 101], 'yes': [121, 101, 115], 'no': [110, 111], 'python': [112, 121, 116, 104, 111, 110], 'apple': [97, 112, 112, 108, 101], 'maybe': [109, 97, 121, 98, 101], 'stepik': [115, 116, 101, 112, 105, 107], 'beegeek': [98, 101, 101, 103, 101, 101, 107]}\n"
     ]
    }
   ],
   "source": [
    "words = ['hello', 'bye', 'yes', 'no', 'python', 'apple', 'maybe', 'stepik', 'beegeek']\n",
    "\n",
    "result = {k: [ord(i) for i in k] for k in words}\n",
    "print(result)"
   ],
   "metadata": {
    "collapsed": false,
    "ExecuteTime": {
     "end_time": "2024-07-29T06:44:59.337276Z",
     "start_time": "2024-07-29T06:44:59.331737500Z"
    }
   },
   "id": "df554c5afbaf0c29"
  },
  {
   "cell_type": "raw",
   "source": [
    "Дополните приведенный код, используя генератор, чтобы получить словарь result, состоящий из всех элементов словаря letters , за исключением тех, ключи которых есть в списке remove_keys."
   ],
   "metadata": {
    "collapsed": false
   },
   "id": "8bf5537e0887b778"
  },
  {
   "cell_type": "code",
   "execution_count": 57,
   "outputs": [
    {
     "name": "stdout",
     "output_type": "stream",
     "text": [
      "{0: 'A', 2: 'C', 3: 'D', 4: 'E', 6: 'G', 8: 'I', 9: 'J', 10: 'K', 11: 'L', 13: 'N', 14: 'O', 15: 'P', 16: 'Q', 18: 'S', 20: 'U', 22: 'W', 23: 'X', 26: 'Z'}\n"
     ]
    }
   ],
   "source": [
    "letters = {0: 'A', 1: 'B', 2: 'C', 3: 'D', 4: 'E', 5: 'F', 6: 'G', 7: 'H', 8: 'I', 9: 'J', 10: 'K', 11: 'L', 12: 'M',\n",
    "           13: 'N', 14: 'O', 15: 'P', 16: 'Q', 17: 'R', 18: 'S', 19: 'T', 20: 'U', 21: 'V', 22: 'W', 23: 'X', 24: 'Y',\n",
    "           26: 'Z'}\n",
    "\n",
    "remove_keys = [1, 5, 7, 12, 17, 19, 21, 24]\n",
    "\n",
    "result = {k: v for k, v in letters.items() if k not in remove_keys}\n",
    "print(result)"
   ],
   "metadata": {
    "collapsed": false,
    "ExecuteTime": {
     "end_time": "2024-07-29T06:52:00.856463Z",
     "start_time": "2024-07-29T06:52:00.850532300Z"
    }
   },
   "id": "c517189392c122ca"
  },
  {
   "cell_type": "code",
   "execution_count": 58,
   "outputs": [],
   "source": [
    "letters = {0: 'A', 1: 'B', 2: 'C', 3: 'D', 4: 'E', 5: 'F', 6: 'G', 7: 'H', 8: 'I', 9: 'J', 10: 'K', 11: 'L', 12: 'M',\n",
    "           13: 'N', 14: 'O', 15: 'P', 16: 'Q', 17: 'R', 18: 'S', 19: 'T', 20: 'U', 21: 'V', 22: 'W', 23: 'X', 24: 'Y',\n",
    "           26: 'Z'}\n",
    "\n",
    "remove_keys = [1, 5, 7, 12, 17, 19, 21, 24]\n",
    "\n",
    "result = {k: letters[k] for k in set(letters) - set(remove_keys)}"
   ],
   "metadata": {
    "collapsed": false,
    "ExecuteTime": {
     "end_time": "2024-07-29T06:52:52.833734200Z",
     "start_time": "2024-07-29T06:52:52.815741800Z"
    }
   },
   "id": "7401558147df5669"
  },
  {
   "cell_type": "raw",
   "source": [
    "В переменной students хранится словарь, содержащий информацию о росте (в см) и массе (в кг) студентов.\n",
    "\n",
    "Дополните приведенный код, используя генератор, чтобы получить словарь result, состоящий из всех элементов словаря students, где указан рост больше 167 см, а масса меньше 75 кг."
   ],
   "metadata": {
    "collapsed": false
   },
   "id": "2b6cf4c8f76990ef"
  },
  {
   "cell_type": "code",
   "execution_count": 60,
   "outputs": [
    {
     "name": "stdout",
     "output_type": "stream",
     "text": [
      "{'Soltan': (192, 68), 'Roman': (175, 70), 'Anna': (172, 67), 'Mary': (175, 69)}\n"
     ]
    }
   ],
   "source": [
    "students = {'Timur': (170, 75), 'Ruslan': (180, 105), 'Soltan': (192, 68), 'Roman': (175, 70), 'Madlen': (160, 50),\n",
    "            'Stefani': (165, 70), 'Tom': (190, 90), 'Jerry': (180, 87), 'Anna': (172, 67), 'Scott': (168, 78),\n",
    "            'John': (186, 79), 'Alex': (195, 120), 'Max': (200, 110), 'Barak': (180, 89), 'Donald': (170, 80),\n",
    "            'Rustam': (186, 100), 'Alice': (159, 59), 'Rita': (170, 80), 'Mary': (175, 69), 'Jane': (190, 80)}\n",
    "\n",
    "result = {k: v for k, v in students.items() if v[0] > 167 and v[1] < 75}\n",
    "print(result)"
   ],
   "metadata": {
    "collapsed": false,
    "ExecuteTime": {
     "end_time": "2024-07-29T06:54:35.838460300Z",
     "start_time": "2024-07-29T06:54:35.833337600Z"
    }
   },
   "id": "b541e4620a52c514"
  },
  {
   "cell_type": "raw",
   "source": [
    "Список tuples содержит кортежи, состоящие из трех чисел.\n",
    "\n",
    "Дополните приведенный код, используя генератор, чтобы получить словарь result, в котором ключом является первый элемент каждого кортежа, а значением – кортеж из оставшихся двух элементов."
   ],
   "metadata": {
    "collapsed": false
   },
   "id": "c890b2efe6a3be07"
  },
  {
   "cell_type": "code",
   "execution_count": 69,
   "outputs": [
    {
     "name": "stdout",
     "output_type": "stream",
     "text": [
      "{1: (2, 3), 4: (5, 6), 7: (8, 9), 10: (11, 12), 13: (14, 15), 16: (17, 18), 19: (20, 21), 22: (23, 24), 25: (26, 27), 28: (29, 30), 31: (32, 33), 34: (35, 36)}\n"
     ]
    }
   ],
   "source": [
    "tuples = [(1, 2, 3), (4, 5, 6), (7, 8, 9), (10, 11, 12), (13, 14, 15), (16, 17, 18), (19, 20, 21), (22, 23, 24),\n",
    "          (25, 26, 27), (28, 29, 30), (31, 32, 33), (34, 35, 36)]\n",
    "\n",
    "result = {i[0]: i[1:] for i in tuples}\n",
    "print(result)"
   ],
   "metadata": {
    "collapsed": false,
    "ExecuteTime": {
     "end_time": "2024-07-29T07:03:28.337133600Z",
     "start_time": "2024-07-29T07:03:28.331102400Z"
    }
   },
   "id": "b11ff8d1bd8892ef"
  },
  {
   "cell_type": "raw",
   "source": [
    "Даны три списка student_ids, student_names, student_grades, содержащие информацию о студентах.\n",
    "\n",
    "Дополните приведенный код, используя генератор, так чтобы получить список result, содержащий вложенные словари в соответствии с образцом: [{'S001': {'Camila Rodriguez': 86}}, {'S002': {'Juan Cruz': 98}},...].\n",
    "\n",
    "Примечание 1. Для параллельной итерации по всем трем спискам одновременно можно использовать встроенную функцию zip()."
   ],
   "metadata": {
    "collapsed": false
   },
   "id": "14df255dfa422147"
  },
  {
   "cell_type": "code",
   "execution_count": 80,
   "outputs": [
    {
     "name": "stdout",
     "output_type": "stream",
     "text": [
      "[{'S001': {'Camila Rodriguez': 86}}, {'S002': {'Juan Cruz': 98}}, {'S003': {'Dan Richards': 89}}, {'S004': {'Sam Boyle': 92}}, {'S005': {'Batista Cesare': 45}}, {'S006': {'Francesco Totti': 67}}, {'S007': {'Khalid Hussain': 89}}, {'S008': {'Ethan Hawke': 90}}, {'S009': {'David Bowman': 100}}, {'S010': {'James Milner': 98}}, {'S011': {'Michael Owen': 10}}, {'S012': {'Gary Oldman': 96}}, {'S013': {'Tom Hardy': 93}}]\n"
     ]
    }
   ],
   "source": [
    "student_ids = ['S001', 'S002', 'S003', 'S004', 'S005', 'S006', 'S007', 'S008', 'S009', 'S010', 'S011', 'S012', 'S013']\n",
    "student_names = ['Camila Rodriguez', 'Juan Cruz', 'Dan Richards', 'Sam Boyle', 'Batista Cesare', 'Francesco Totti',\n",
    "                 'Khalid Hussain', 'Ethan Hawke', 'David Bowman', 'James Milner', 'Michael Owen', 'Gary Oldman',\n",
    "                 'Tom Hardy']\n",
    "student_grades = [86, 98, 89, 92, 45, 67, 89, 90, 100, 98, 10, 96, 93]\n",
    "\n",
    "# result = [zip(student_ids, student_names, student_grades)]\n",
    "result = [{i[0]: {i[1]: i[2]}} for i in zip(student_ids, student_names, student_grades)]\n",
    "print(result)"
   ],
   "metadata": {
    "collapsed": false,
    "ExecuteTime": {
     "end_time": "2024-07-29T07:13:01.196528100Z",
     "start_time": "2024-07-29T07:13:01.191815400Z"
    }
   },
   "id": "793127f3e6ed76f3"
  },
  {
   "cell_type": "code",
   "execution_count": null,
   "outputs": [],
   "source": [
    "student_ids = ['S001', 'S002', 'S003', 'S004', 'S005', 'S006', 'S007', 'S008', 'S009', 'S010', 'S011', 'S012', 'S013'] \n",
    "student_names = ['Camila Rodriguez', 'Juan Cruz', 'Dan Richards', 'Sam Boyle', 'Batista Cesare', 'Francesco Totti', 'Khalid Hussain', 'Ethan Hawke', 'David Bowman', 'James Milner', 'Michael Owen', 'Gary Oldman', 'Tom Hardy'] \n",
    "student_grades = [86, 98, 89, 92, 45, 67, 89, 90, 100, 98, 10, 96, 93]\n",
    "\n",
    "result = [{x: {y: z}} for x, y, z in zip(student_ids, student_names, student_grades)]"
   ],
   "metadata": {
    "collapsed": false
   },
   "id": "625c491745132687"
  }
 ],
 "metadata": {
  "kernelspec": {
   "display_name": "Python 3",
   "language": "python",
   "name": "python3"
  },
  "language_info": {
   "codemirror_mode": {
    "name": "ipython",
    "version": 2
   },
   "file_extension": ".py",
   "mimetype": "text/x-python",
   "name": "python",
   "nbconvert_exporter": "python",
   "pygments_lexer": "ipython2",
   "version": "2.7.6"
  }
 },
 "nbformat": 4,
 "nbformat_minor": 5
}
