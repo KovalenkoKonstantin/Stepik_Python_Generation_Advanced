{
 "cells": [
  {
   "cell_type": "raw",
   "source": [
    "В этом уроке мы начнем изучение словарей в Python, тип данных – dict. Этот тип данных похож на списки и применяется при решении многих задач."
   ],
   "metadata": {
    "collapsed": false
   },
   "id": "2122173234395163"
  },
  {
   "cell_type": "markdown",
   "source": [
    "Словари"
   ],
   "metadata": {
    "collapsed": false
   },
   "id": "e74a73b68037b3a5"
  },
  {
   "cell_type": "raw",
   "source": [
    "списки – изменяемые коллекции элементов, индексируемые;\n",
    "строки – неизменяемые коллекции символов, индексируемые;\n",
    "кортежи – неизменяемые коллекции элементов, индексируемые;\n",
    "множества – изменяемые коллекции уникальных элементов, неиндексируемые."
   ],
   "metadata": {
    "collapsed": false
   },
   "id": "74c6064be676aca3"
  },
  {
   "cell_type": "raw",
   "source": [
    "словари – изменяемые коллекции элементов с произвольными индексами – ключами."
   ],
   "metadata": {
    "collapsed": false
   },
   "id": "22218d4c30a29f67"
  },
  {
   "cell_type": "raw",
   "source": [
    "Если в списках элементы индексируются целыми числами, начиная с 0, то в словарях — любыми ключами, в том числе в виде строк."
   ],
   "metadata": {
    "collapsed": false
   },
   "id": "e655145afb41dfdd"
  },
  {
   "cell_type": "raw",
   "source": [
    "Словарь (тип данных dict), как и список, позволяет хранить много данных. В отличие от списка, в словаре для каждого элемента можно произвольно определить «индекс» — ключ, по которому он будет доступен. "
   ],
   "metadata": {
    "collapsed": false
   },
   "id": "19cdde25194d6420"
  },
  {
   "cell_type": "raw",
   "source": [
    "Словарь — реализация структуры данных \"ассоциативный массив\" или \"хеш таблица\". В других языках аналогичная структура называется map, HashMap, Dictionary."
   ],
   "metadata": {
    "collapsed": false
   },
   "id": "f8c4619c450ebe3f"
  },
  {
   "cell_type": "markdown",
   "source": [
    "Создание словаря"
   ],
   "metadata": {
    "collapsed": false
   },
   "id": "604cf5f201ceaa5b"
  },
  {
   "cell_type": "raw",
   "source": [
    "Чтобы создать словарь, нужно перечислить его элементы – пары ключ-значение – через запятую в фигурных скобках, как и элементы множества. Первым указывается ключ, после двоеточия — значение, доступное в словаре по этому ключу."
   ],
   "metadata": {
    "collapsed": false
   },
   "id": "3aa044f41c554243"
  },
  {
   "cell_type": "code",
   "execution_count": 1,
   "outputs": [],
   "source": [
    "languages = {'Python': 'Гвидо ван Россум', \n",
    "             'C#': 'Андерс Хейлсберг', \n",
    "             'Java': 'Джеймс Гослинг', \n",
    "             'C++': 'Бьёрн Страуструп'}"
   ],
   "metadata": {
    "collapsed": false,
    "ExecuteTime": {
     "end_time": "2024-07-24T05:56:32.225151100Z",
     "start_time": "2024-07-24T05:56:32.221532700Z"
    }
   },
   "id": "7a54ce641bc90097"
  },
  {
   "cell_type": "raw",
   "source": [
    "создает словарь, в котором ключом служит строка — название языка программирования, а значением — имя создателя языка."
   ],
   "metadata": {
    "collapsed": false
   },
   "id": "c2da0c83e05cdcd1"
  },
  {
   "cell_type": "markdown",
   "source": [
    "Обращение к элементу словаря"
   ],
   "metadata": {
    "collapsed": false
   },
   "id": "73e86f60c0ba654d"
  },
  {
   "cell_type": "raw",
   "source": [
    "Извлечь значение элемента словаря можно, обратившись к нему по его ключу. Чтобы получить значение по заданному ключу, как и в списках, используем квадратные скобки [] , индексируем по ключу."
   ],
   "metadata": {
    "collapsed": false
   },
   "id": "b8f64d747b05afc8"
  },
  {
   "cell_type": "code",
   "execution_count": 2,
   "outputs": [
    {
     "name": "stdout",
     "output_type": "stream",
     "text": [
      "Создателем языка C# является Андерс Хейлсберг\n"
     ]
    }
   ],
   "source": [
    "print('Создателем языка C# является', languages['C#'])"
   ],
   "metadata": {
    "collapsed": false,
    "ExecuteTime": {
     "end_time": "2024-07-24T05:57:43.167434200Z",
     "start_time": "2024-07-24T05:57:43.159946700Z"
    }
   },
   "id": "fb9adff9c5940b0a"
  },
  {
   "cell_type": "raw",
   "source": [
    "В отличие от списков, номеров позиций в словарях нет."
   ],
   "metadata": {
    "collapsed": false
   },
   "id": "a51bb61d30210d58"
  },
  {
   "cell_type": "code",
   "execution_count": 3,
   "outputs": [
    {
     "ename": "KeyError",
     "evalue": "1",
     "output_type": "error",
     "traceback": [
      "\u001B[1;31m---------------------------------------------------------------------------\u001B[0m",
      "\u001B[1;31mKeyError\u001B[0m                                  Traceback (most recent call last)",
      "Cell \u001B[1;32mIn[3], line 6\u001B[0m\n\u001B[0;32m      1\u001B[0m languages \u001B[38;5;241m=\u001B[39m {\u001B[38;5;124m'\u001B[39m\u001B[38;5;124mPython\u001B[39m\u001B[38;5;124m'\u001B[39m: \u001B[38;5;124m'\u001B[39m\u001B[38;5;124mГвидо ван Россум\u001B[39m\u001B[38;5;124m'\u001B[39m, \n\u001B[0;32m      2\u001B[0m              \u001B[38;5;124m'\u001B[39m\u001B[38;5;124mC#\u001B[39m\u001B[38;5;124m'\u001B[39m: \u001B[38;5;124m'\u001B[39m\u001B[38;5;124mАндерс Хейлсберг\u001B[39m\u001B[38;5;124m'\u001B[39m, \n\u001B[0;32m      3\u001B[0m              \u001B[38;5;124m'\u001B[39m\u001B[38;5;124mJava\u001B[39m\u001B[38;5;124m'\u001B[39m: \u001B[38;5;124m'\u001B[39m\u001B[38;5;124mДжеймс Гослинг\u001B[39m\u001B[38;5;124m'\u001B[39m, \n\u001B[0;32m      4\u001B[0m              \u001B[38;5;124m'\u001B[39m\u001B[38;5;124mC++\u001B[39m\u001B[38;5;124m'\u001B[39m: \u001B[38;5;124m'\u001B[39m\u001B[38;5;124mБьёрн Страуструп\u001B[39m\u001B[38;5;124m'\u001B[39m}\n\u001B[1;32m----> 6\u001B[0m \u001B[38;5;28mprint\u001B[39m(\u001B[38;5;124m'\u001B[39m\u001B[38;5;124mСоздателем языка C# является\u001B[39m\u001B[38;5;124m'\u001B[39m, \u001B[43mlanguages\u001B[49m\u001B[43m[\u001B[49m\u001B[38;5;241;43m1\u001B[39;49m\u001B[43m]\u001B[49m)\n",
      "\u001B[1;31mKeyError\u001B[0m: 1"
     ]
    }
   ],
   "source": [
    "languages = {'Python': 'Гвидо ван Россум', \n",
    "             'C#': 'Андерс Хейлсберг', \n",
    "             'Java': 'Джеймс Гослинг', \n",
    "             'C++': 'Бьёрн Страуструп'}\n",
    "\n",
    "print('Создателем языка C# является', languages[1])"
   ],
   "metadata": {
    "collapsed": false,
    "ExecuteTime": {
     "end_time": "2024-07-24T05:58:17.245702300Z",
     "start_time": "2024-07-24T05:58:17.008924400Z"
    }
   },
   "id": "74400626b4f37729"
  },
  {
   "cell_type": "raw",
   "source": [
    "Ошибка KeyError возникнет и при попытке извлечь значение по несуществующему ключу. В качестве ключа можно указать выражение: Python вычислит его значение и обратится к искомому элементу."
   ],
   "metadata": {
    "collapsed": false
   },
   "id": "9fd747814eca7659"
  },
  {
   "cell_type": "code",
   "execution_count": 4,
   "outputs": [
    {
     "name": "stdout",
     "output_type": "stream",
     "text": [
      "Создателем языка C# является Андерс Хейлсберг\n"
     ]
    }
   ],
   "source": [
    "languages = {'Python': 'Гвидо ван Россум', \n",
    "             'C#': 'Андерс Хейлсберг', \n",
    "             'Java': 'Джеймс Гослинг', \n",
    "             'C++': 'Бьёрн Страуструп'}\n",
    "\n",
    "print('Создателем языка C# является', languages['C' + '#'])"
   ],
   "metadata": {
    "collapsed": false,
    "ExecuteTime": {
     "end_time": "2024-07-24T05:58:40.080686600Z",
     "start_time": "2024-07-24T05:58:40.071713Z"
    }
   },
   "id": "74d6267ff7d303d"
  },
  {
   "cell_type": "markdown",
   "source": [
    "Создание словаря с помощью функции dict()"
   ],
   "metadata": {
    "collapsed": false
   },
   "id": "db226a9462c9653d"
  },
  {
   "cell_type": "raw",
   "source": [
    "Если ключи словаря — строки без каких-либо специальных символов, то для создания словаря можно использовать функцию dict()."
   ],
   "metadata": {
    "collapsed": false
   },
   "id": "cb2eee340f85616b"
  },
  {
   "cell_type": "code",
   "execution_count": 5,
   "outputs": [],
   "source": [
    "info = dict(name = 'Timur', age = 28, job = 'Teacher')"
   ],
   "metadata": {
    "collapsed": false,
    "ExecuteTime": {
     "end_time": "2024-07-24T05:59:06.961357600Z",
     "start_time": "2024-07-24T05:59:06.952870800Z"
    }
   },
   "id": "8479bdc799c257da"
  },
  {
   "cell_type": "raw",
   "source": [
    "создает словарь с тремя элементами, ключами которого служат строки 'name', 'age', 'job', а значениями –  'Timur', 28, 'Teacher'."
   ],
   "metadata": {
    "collapsed": false
   },
   "id": "b55af625c2b65d2d"
  },
  {
   "cell_type": "markdown",
   "source": [
    "Создание словаря на основании списков и кортежей"
   ],
   "metadata": {
    "collapsed": false
   },
   "id": "a292caf3b72ab0b2"
  },
  {
   "cell_type": "raw",
   "source": [
    "Создавать словари можно на основе списков кортежей или кортежей списков. Первый элемент списка или кортежа станет ключом, второй — значением."
   ],
   "metadata": {
    "collapsed": false
   },
   "id": "3ec1bfafa990114c"
  },
  {
   "cell_type": "code",
   "execution_count": 7,
   "outputs": [
    {
     "name": "stdout",
     "output_type": "stream",
     "text": [
      "{'name': 'Timur', 'age': 28, 'job': 'Teacher'}\n"
     ]
    }
   ],
   "source": [
    "info_list = [('name', 'Timur'), ('age', 28), ('job', 'Teacher')]  # список кортежей\n",
    "\n",
    "info_dict = dict(info_list)  # создаем словарь на основе списка кортежей\n",
    "print(info_dict)"
   ],
   "metadata": {
    "collapsed": false,
    "ExecuteTime": {
     "end_time": "2024-07-24T06:00:44.036620Z",
     "start_time": "2024-07-24T06:00:44.033115200Z"
    }
   },
   "id": "beab4850feb0dd7f"
  },
  {
   "cell_type": "raw",
   "source": [
    "создает словарь с тремя элементами, где ключи — строки name, age, job, а соответствующие им значения — 'Timur', 28, 'Teacher'."
   ],
   "metadata": {
    "collapsed": false
   },
   "id": "70b3f3341173b326"
  },
  {
   "cell_type": "code",
   "execution_count": 8,
   "outputs": [
    {
     "name": "stdout",
     "output_type": "stream",
     "text": [
      "{'name': 'Timur', 'age': 28, 'job': 'Teacher'}\n"
     ]
    }
   ],
   "source": [
    "info_tuple = (['name', 'Timur'], ['age', 28], ['job', 'Teacher'])  # кортеж списков\n",
    "\n",
    "info_dict = dict(info_tuple)  # создаем словарь на основе кортежа списков\n",
    "print(info_dict)"
   ],
   "metadata": {
    "collapsed": false,
    "ExecuteTime": {
     "end_time": "2024-07-24T06:00:59.219975500Z",
     "start_time": "2024-07-24T06:00:59.217474200Z"
    }
   },
   "id": "b475f28b25190d53"
  },
  {
   "cell_type": "code",
   "execution_count": 9,
   "outputs": [
    {
     "name": "stdout",
     "output_type": "stream",
     "text": [
      "{'name': 'Timur', 'age': 28, 'job': 'Teacher'}\n"
     ]
    }
   ],
   "source": [
    "info_tuple = [['name', 'Timur'], ['age', 28], ['job', 'Teacher']]  # список списков\n",
    "\n",
    "info_dict = dict(info_tuple)  # создаем словарь на основе кортежа списков\n",
    "print(info_dict)"
   ],
   "metadata": {
    "collapsed": false,
    "ExecuteTime": {
     "end_time": "2024-07-24T06:01:35.093411500Z",
     "start_time": "2024-07-24T06:01:35.082435800Z"
    }
   },
   "id": "a3be87b19425f8b8"
  },
  {
   "cell_type": "code",
   "execution_count": 10,
   "outputs": [
    {
     "name": "stdout",
     "output_type": "stream",
     "text": [
      "{'name': 'Timur', 'age': 28, 'job': 'Teacher'}\n"
     ]
    }
   ],
   "source": [
    "info_tuple = (('name', 'Timur'), ('age', 28), ('job', 'Teacher'))  # кортеж кортежей\n",
    "\n",
    "info_dict = dict(info_tuple)  # создаем словарь на основе кортежа списков\n",
    "print(info_dict)"
   ],
   "metadata": {
    "collapsed": false,
    "ExecuteTime": {
     "end_time": "2024-07-24T06:02:12.236763600Z",
     "start_time": "2024-07-24T06:02:12.234257200Z"
    }
   },
   "id": "5e804f319ac6df31"
  },
  {
   "cell_type": "raw",
   "source": [
    "Если необходимо создать словарь, каждому ключу которого соответствует одно и то же значение, можно воспользоваться методом fromkeys()."
   ],
   "metadata": {
    "collapsed": false
   },
   "id": "b6b3bfb7e91e3639"
  },
  {
   "cell_type": "code",
   "execution_count": 11,
   "outputs": [
    {
     "name": "stdout",
     "output_type": "stream",
     "text": [
      "{'name': 'Missed information', 'age': 'Missed information', 'job': 'Missed information'}\n"
     ]
    }
   ],
   "source": [
    "dict1 = dict.fromkeys(['name', 'age', 'job'], 'Missed information')\n",
    "print(dict1)"
   ],
   "metadata": {
    "collapsed": false,
    "ExecuteTime": {
     "end_time": "2024-07-24T06:02:51.716418100Z",
     "start_time": "2024-07-24T06:02:51.713917Z"
    }
   },
   "id": "c9e6236cfc253e6"
  },
  {
   "cell_type": "raw",
   "source": [
    "Если методу fromkeys() не передать второй параметр, то по умолчанию присваивается значение None."
   ],
   "metadata": {
    "collapsed": false
   },
   "id": "decd0f6b761c64a2"
  },
  {
   "cell_type": "code",
   "execution_count": 12,
   "outputs": [
    {
     "name": "stdout",
     "output_type": "stream",
     "text": [
      "{'name': None, 'age': None, 'job': None}\n"
     ]
    }
   ],
   "source": [
    "dict1 = dict.fromkeys(['name', 'age', 'job'])\n",
    "print(dict1)"
   ],
   "metadata": {
    "collapsed": false,
    "ExecuteTime": {
     "end_time": "2024-07-24T06:03:24.809640600Z",
     "start_time": "2024-07-24T06:03:24.808123Z"
    }
   },
   "id": "e5fbf99a26e4e223"
  },
  {
   "cell_type": "markdown",
   "source": [
    "Пустой словарь"
   ],
   "metadata": {
    "collapsed": false
   },
   "id": "b639d1e865563746"
  },
  {
   "cell_type": "raw",
   "source": [
    "Пустой словарь можно создать двумя способами:\n",
    "\n",
    "с помощью пустых фигурных скобок;\n",
    "с помощью функции dict()."
   ],
   "metadata": {
    "collapsed": false
   },
   "id": "7f71c63bb5c5c6f2"
  },
  {
   "cell_type": "code",
   "execution_count": 13,
   "outputs": [
    {
     "name": "stdout",
     "output_type": "stream",
     "text": [
      "{}\n",
      "{}\n",
      "<class 'dict'>\n",
      "<class 'dict'>\n"
     ]
    }
   ],
   "source": [
    "dict1 = {}\n",
    "dict2 = dict()\n",
    "\n",
    "\n",
    "print(dict1)\n",
    "print(dict2)\n",
    "print(type(dict1))\n",
    "print(type(dict2))"
   ],
   "metadata": {
    "collapsed": false,
    "ExecuteTime": {
     "end_time": "2024-07-24T06:03:48.375800400Z",
     "start_time": "2024-07-24T06:03:48.366774100Z"
    }
   },
   "id": "4448e2b17b29de8b"
  },
  {
   "cell_type": "markdown",
   "source": [
    "Вывод словаря"
   ],
   "metadata": {
    "collapsed": false
   },
   "id": "156be3139e34f0c2"
  },
  {
   "cell_type": "code",
   "execution_count": 14,
   "outputs": [
    {
     "name": "stdout",
     "output_type": "stream",
     "text": [
      "{'Python': 'Гвидо ван Россум', 'C#': 'Андерс Хейлсберг', 'Java': 'Джеймс Гослинг'}\n",
      "{'name': 'Timur', 'age': 28, 'job': 'Teacher'}\n"
     ]
    }
   ],
   "source": [
    "languages = {'Python': 'Гвидо ван Россум', \n",
    "             'C#': 'Андерс Хейлсберг', \n",
    "             'Java': 'Джеймс Гослинг'}\n",
    "\n",
    "info = dict(name = 'Timur', age = 28, job = 'Teacher')\n",
    "\n",
    "print(languages)\n",
    "print(info)"
   ],
   "metadata": {
    "collapsed": false,
    "ExecuteTime": {
     "end_time": "2024-07-24T06:04:07.944043200Z",
     "start_time": "2024-07-24T06:04:07.933826500Z"
    }
   },
   "id": "9861a5ff62933958"
  },
  {
   "cell_type": "raw",
   "source": [
    "Функция print() выводит на экран элементы словаря в фигурных скобках, разделенные запятыми:"
   ],
   "metadata": {
    "collapsed": false
   },
   "id": "fc8fd86b2de81008"
  },
  {
   "cell_type": "raw",
   "source": [
    "Начиная с версии Python 3.6, словари являются упорядоченными, то есть сохраняют порядок следования ключей в порядке их внесения в словарь."
   ],
   "metadata": {
    "collapsed": false
   },
   "id": "ae2dc1658c94c55d"
  },
  {
   "cell_type": "raw",
   "source": [
    "Примечания"
   ],
   "metadata": {
    "collapsed": false
   },
   "id": "e582f8c22ee21172"
  },
  {
   "cell_type": "raw",
   "source": [
    "Примечание 1. Словари принципиально отличаются от списков по структуре хранения в памяти. Список — последовательная область памяти, то есть все его элементы (указатели на элементы) действительно хранятся в указанном порядке, расположены последовательно. Благодаря этому и можно быстро «прыгнуть» к элементу по его индексу. В словаре же используется специальная структура данных — хеш-таблица. Она позволяет вычислять числовой хеш от ключа и использовать обычные списки, где в качестве индекса элемента берется этот хеш.\n",
    "\n",
    "Примечание 2. В рамках одного словаря каждый ключ уникален.\n",
    "\n",
    "Примечание 3. Словари удобно использовать для хранения различных сущностей. Например, если нужно работать с информацией о человеке, то можно хранить все необходимые сведения, включающие такие разные сущности как \"возраст\", \"профессия\", \"название города\", \"адрес электронной почты\" в одном словаре  info и легко обращаться к его элементам по ключам:"
   ],
   "metadata": {
    "collapsed": false
   },
   "id": "18db3b8f98f12602"
  },
  {
   "cell_type": "code",
   "execution_count": 15,
   "outputs": [
    {
     "name": "stdout",
     "output_type": "stream",
     "text": [
      "Timur\n",
      "timyr-guev@yandex.ru\n"
     ]
    }
   ],
   "source": [
    "info = {'name': 'Timur',\n",
    "        'age': 28,\n",
    "        'job': 'Teacher',\n",
    "        'city': 'Moscow',\n",
    "        'email': 'timyr-guev@yandex.ru'}\n",
    "\n",
    "print(info['name'])\n",
    "print(info['email'])"
   ],
   "metadata": {
    "collapsed": false,
    "ExecuteTime": {
     "end_time": "2024-07-24T06:05:48.679227900Z",
     "start_time": "2024-07-24T06:05:48.670740100Z"
    }
   },
   "id": "b379031c96a2784"
  },
  {
   "cell_type": "raw",
   "source": [
    "Примечание 4. Создать словарь на основании двух списков (кортежей) можно с помощью встроенной функции-упаковщика zip()"
   ],
   "metadata": {
    "collapsed": false
   },
   "id": "1e81d327fcdc61c"
  },
  {
   "cell_type": "code",
   "execution_count": 16,
   "outputs": [
    {
     "name": "stdout",
     "output_type": "stream",
     "text": [
      "{'name': 'Timur', 'age': 28, 'job': 'Teacher'}\n"
     ]
    }
   ],
   "source": [
    "keys = ['name', 'age', 'job']\n",
    "values = ['Timur', 28, 'Teacher']\n",
    "\n",
    "info = dict(zip(keys, values))\n",
    "\n",
    "print(info)"
   ],
   "metadata": {
    "collapsed": false,
    "ExecuteTime": {
     "end_time": "2024-07-24T06:06:21.063699800Z",
     "start_time": "2024-07-24T06:06:21.054202Z"
    }
   },
   "id": "84128915934054bc"
  },
  {
   "cell_type": "raw",
   "source": [
    "В случае несовпадения длины списков функция самостоятельно отсечет лишние элементы."
   ],
   "metadata": {
    "collapsed": false
   },
   "id": "b705abe91b7d3429"
  },
  {
   "cell_type": "code",
   "execution_count": null,
   "outputs": [],
   "source": [],
   "metadata": {
    "collapsed": false
   },
   "id": "e3bd318d03ee2949"
  }
 ],
 "metadata": {
  "kernelspec": {
   "display_name": "Python 3",
   "language": "python",
   "name": "python3"
  },
  "language_info": {
   "codemirror_mode": {
    "name": "ipython",
    "version": 2
   },
   "file_extension": ".py",
   "mimetype": "text/x-python",
   "name": "python",
   "nbconvert_exporter": "python",
   "pygments_lexer": "ipython2",
   "version": "2.7.6"
  }
 },
 "nbformat": 4,
 "nbformat_minor": 5
}
