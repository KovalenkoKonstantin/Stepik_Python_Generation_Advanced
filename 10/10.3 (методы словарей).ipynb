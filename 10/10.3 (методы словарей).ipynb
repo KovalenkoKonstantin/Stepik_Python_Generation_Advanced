{
 "cells": [
  {
   "cell_type": "markdown",
   "source": [
    "Методы словарей"
   ],
   "metadata": {
    "collapsed": false
   },
   "id": "a3f6c07834b16a31"
  },
  {
   "cell_type": "raw",
   "source": [
    "Словари, как и списки, имеют много полезных методов для упрощения работы с ними и решения повседневных задач. В прошлом уроке мы уже познакомились с тремя словарными методами:\n",
    "\n",
    "метод items() – возвращает словарные пары ключ: значение, как соответствующие им кортежи;\n",
    "метод keys() – возвращает список ключей словаря;\n",
    "метод values() – возвращает список значений словаря."
   ],
   "metadata": {
    "collapsed": false
   },
   "id": "21c6e9405a42c836"
  },
  {
   "cell_type": "markdown",
   "source": [
    "Добавление и изменение элементов в словаре"
   ],
   "metadata": {
    "collapsed": false
   },
   "id": "6f11174ddfdc0c69"
  },
  {
   "cell_type": "raw",
   "source": [
    "Чтобы изменить значение по определенному ключу в словаре, достаточно использовать индексацию вместе с оператором присваивания. При этом если ключ уже присутствует в словаре, его значение заменяется новым, если же ключ отсутствует – то в словарь будет добавлен новый элемент."
   ],
   "metadata": {
    "collapsed": false
   },
   "id": "7dd99944b0aefecd"
  },
  {
   "cell_type": "code",
   "execution_count": 1,
   "outputs": [
    {
     "name": "stdout",
     "output_type": "stream",
     "text": [
      "{'name': 'Timur', 'age': 28, 'job': 'Teacher', 'email': 'timyr-guev@yandex.ru'}\n"
     ]
    }
   ],
   "source": [
    "info = {'name': 'Sam',\n",
    "        'age': 28,\n",
    "        'job': 'Teacher'}\n",
    "\n",
    "info['name'] = 'Timur'  # изменяем значение по ключу name\n",
    "info['email'] = 'timyr-guev@yandex.ru'  # добавляем в словарь элемент с ключом email\n",
    "\n",
    "print(info)"
   ],
   "metadata": {
    "collapsed": false,
    "ExecuteTime": {
     "end_time": "2024-07-24T10:50:55.595681700Z",
     "start_time": "2024-07-24T10:50:55.592896100Z"
    }
   },
   "id": "1144b86a2097b53c"
  },
  {
   "cell_type": "raw",
   "source": [
    "Обратите внимание на отличие в поведении словарей и списков:\n",
    "\n",
    "Если в списке lst нет элемента с индексом 7, то попытка обращения к нему, например, с помощью строки кода print(lst[7]) приведет к возникновению ошибки. И попытка присвоить ему значение lst[7] = 100 тоже приведет к возникновению ошибки.\n",
    "Если в словаре dct нет элемента с ключом name, то попытка обращения к нему, например, с помощью строки кода print(dct['name']) приведет к возникновению ошибки. Однако попытка присвоить значение по отсутствующему ключу dct['name'] = 'Timur' ошибки не вызовет."
   ],
   "metadata": {
    "collapsed": false
   },
   "id": "5e60b4592dda3d5f"
  },
  {
   "cell_type": "code",
   "execution_count": 4,
   "outputs": [
    {
     "name": "stdout",
     "output_type": "stream",
     "text": [
      "{9: 1, 8: 1, 32: 2, 1: 5, 10: 4, 23: 3, 4: 2, 2: 6}\n"
     ]
    }
   ],
   "source": [
    "numbers = [9, 8, 32, 1, 10, 1, 10, 23, 1, 4, 10, 4, 2, 2, 2, 2, 1, 10, 1, 2, 2, 32, 23, 23]\n",
    "\n",
    "result = {}\n",
    "for num in numbers:\n",
    "    if num not in result:\n",
    "        result[num] = 1\n",
    "    else:\n",
    "        result[num] += 1\n",
    "\n",
    "print(result)"
   ],
   "metadata": {
    "collapsed": false,
    "ExecuteTime": {
     "end_time": "2024-07-24T10:59:29.464386200Z",
     "start_time": "2024-07-24T10:59:29.457203500Z"
    }
   },
   "id": "b7b8213bf3d072e3"
  },
  {
   "cell_type": "markdown",
   "source": [
    "Метод get()"
   ],
   "metadata": {
    "collapsed": false
   },
   "id": "3430ee76de28e53f"
  },
  {
   "cell_type": "raw",
   "source": [
    "Мы можем получить значение в словаре по ключу с помощью индексации, то есть квадратных скобок. Однако, как мы знаем, в случае отсутствия ключа будет происходить ошибка KeyError."
   ],
   "metadata": {
    "collapsed": false
   },
   "id": "72b772c219964e94"
  },
  {
   "cell_type": "code",
   "execution_count": 5,
   "outputs": [
    {
     "name": "stdout",
     "output_type": "stream",
     "text": [
      "Bob\n"
     ]
    }
   ],
   "source": [
    "info = {'name': 'Bob',\n",
    "        'age': 25,\n",
    "        'job': 'Dev'}\n",
    "\n",
    "print(info['name'])"
   ],
   "metadata": {
    "collapsed": false,
    "ExecuteTime": {
     "end_time": "2024-07-24T11:10:18.945291900Z",
     "start_time": "2024-07-24T11:10:18.939794700Z"
    }
   },
   "id": "298fae27440564b5"
  },
  {
   "cell_type": "code",
   "execution_count": 6,
   "outputs": [
    {
     "ename": "KeyError",
     "evalue": "'salary'",
     "output_type": "error",
     "traceback": [
      "\u001B[1;31m---------------------------------------------------------------------------\u001B[0m",
      "\u001B[1;31mKeyError\u001B[0m                                  Traceback (most recent call last)",
      "Cell \u001B[1;32mIn[6], line 5\u001B[0m\n\u001B[0;32m      1\u001B[0m info \u001B[38;5;241m=\u001B[39m {\u001B[38;5;124m'\u001B[39m\u001B[38;5;124mname\u001B[39m\u001B[38;5;124m'\u001B[39m: \u001B[38;5;124m'\u001B[39m\u001B[38;5;124mBob\u001B[39m\u001B[38;5;124m'\u001B[39m,\n\u001B[0;32m      2\u001B[0m         \u001B[38;5;124m'\u001B[39m\u001B[38;5;124mage\u001B[39m\u001B[38;5;124m'\u001B[39m: \u001B[38;5;241m25\u001B[39m,\n\u001B[0;32m      3\u001B[0m         \u001B[38;5;124m'\u001B[39m\u001B[38;5;124mjob\u001B[39m\u001B[38;5;124m'\u001B[39m: \u001B[38;5;124m'\u001B[39m\u001B[38;5;124mDev\u001B[39m\u001B[38;5;124m'\u001B[39m}\n\u001B[1;32m----> 5\u001B[0m \u001B[38;5;28mprint\u001B[39m(\u001B[43minfo\u001B[49m\u001B[43m[\u001B[49m\u001B[38;5;124;43m'\u001B[39;49m\u001B[38;5;124;43msalary\u001B[39;49m\u001B[38;5;124;43m'\u001B[39;49m\u001B[43m]\u001B[49m)\n",
      "\u001B[1;31mKeyError\u001B[0m: 'salary'"
     ]
    }
   ],
   "source": [
    "info = {'name': 'Bob',\n",
    "        'age': 25,\n",
    "        'job': 'Dev'}\n",
    "\n",
    "print(info['salary'])"
   ],
   "metadata": {
    "collapsed": false,
    "ExecuteTime": {
     "end_time": "2024-07-24T11:10:32.557582900Z",
     "start_time": "2024-07-24T11:10:32.547435400Z"
    }
   },
   "id": "9038352779188a1b"
  },
  {
   "cell_type": "raw",
   "source": [
    "Для того чтобы избежать возникновения ошибки в случае отсутствия ключа в словаре, можно использовать метод get(), способный кроме ключа принимать и второй аргумент — значение, которое вернется, если заданного ключа нет. Когда второй аргумент не указан, то метод в случае отсутствия ключа возвращает None."
   ],
   "metadata": {
    "collapsed": false
   },
   "id": "5720049a6a430e50"
  },
  {
   "cell_type": "code",
   "execution_count": 7,
   "outputs": [
    {
     "name": "stdout",
     "output_type": "stream",
     "text": [
      "None\n",
      "Информации о зарплате нет\n"
     ]
    }
   ],
   "source": [
    "info = {'name': 'Bob',\n",
    "        'age': 25,\n",
    "        'job': 'Dev'}\n",
    "\n",
    "item1 = info.get('salary')\n",
    "item2 = info.get('salary', 'Информации о зарплате нет')\n",
    "\n",
    "print(item1)\n",
    "print(item2)"
   ],
   "metadata": {
    "collapsed": false,
    "ExecuteTime": {
     "end_time": "2024-07-24T11:10:55.431599800Z",
     "start_time": "2024-07-24T11:10:55.421623300Z"
    }
   },
   "id": "84bafa8f6a80073c"
  },
  {
   "cell_type": "raw",
   "source": [
    " С помощью словарного метода get() можно упростить код в задаче о повторяющихся числах."
   ],
   "metadata": {
    "collapsed": false
   },
   "id": "7e44af1eb13ee888"
  },
  {
   "cell_type": "code",
   "execution_count": 9,
   "outputs": [
    {
     "name": "stdout",
     "output_type": "stream",
     "text": [
      "{9: 1, 8: 1, 32: 2, 1: 5, 10: 4, 23: 3, 4: 2, 2: 6}\n"
     ]
    }
   ],
   "source": [
    "numbers = [9, 8, 32, 1, 10, 1, 10, 23, 1, 4, 10, 4, 2, 2, 2, 2, 1, 10, 1, 2, 2, 32, 23, 23]\n",
    "\n",
    "result = {}\n",
    "for num in numbers:\n",
    "    result[num] = result.get(num, 0) + 1\n",
    "\n",
    "print(result)"
   ],
   "metadata": {
    "collapsed": false,
    "ExecuteTime": {
     "end_time": "2024-07-24T11:11:32.375409300Z",
     "start_time": "2024-07-24T11:11:32.368915700Z"
    }
   },
   "id": "963e330a50399745"
  },
  {
   "cell_type": "raw",
   "source": [
    "Цикл for перебирает все элементы списка numbers и для каждого элемента с помощью метода get() мы получаем либо его значение из словаря result, либо значение по умолчанию, равное 0. К данному значению прибавляется единица, и результат записывается обратно в словарь по нужному ключу."
   ],
   "metadata": {
    "collapsed": false
   },
   "id": "6b0aaeb584ce7c37"
  },
  {
   "cell_type": "markdown",
   "source": [
    "Метод update()"
   ],
   "metadata": {
    "collapsed": false
   },
   "id": "ded8a0b78fb6ad28"
  },
  {
   "cell_type": "raw",
   "source": [
    "Метод update() реализует своеобразную операцию конкатенации для словарей. Он объединяет ключи и значения одного словаря с ключами и значениями другого. При совпадении ключей в итоге сохранится значение словаря, указанного в качестве аргумента метода update()."
   ],
   "metadata": {
    "collapsed": false
   },
   "id": "cd4a64a18b7cbfcb"
  },
  {
   "cell_type": "code",
   "execution_count": 11,
   "outputs": [
    {
     "name": "stdout",
     "output_type": "stream",
     "text": [
      "{'name': 'Bob', 'age': 30, 'job': 'Dev', 'city': 'New York', 'email': 'bob@web.com'}\n"
     ]
    }
   ],
   "source": [
    "info1 = {'name': 'Bob',\n",
    "         'age': 25,\n",
    "         'job': 'Dev'}\n",
    "\n",
    "info2 = {'age': 30,\n",
    "         'city': 'New York',\n",
    "         'email': 'bob@web.com'}\n",
    "\n",
    "info1.update(info2)\n",
    "\n",
    "print(info1)"
   ],
   "metadata": {
    "collapsed": false,
    "ExecuteTime": {
     "end_time": "2024-07-24T11:13:29.133211600Z",
     "start_time": "2024-07-24T11:13:29.126667200Z"
    }
   },
   "id": "fd9eed928002a5cd"
  },
  {
   "cell_type": "raw",
   "source": [
    "В Python 3.9 появились операторы | и |=, которые реализуют операцию конкатенации словарей."
   ],
   "metadata": {
    "collapsed": false
   },
   "id": "2924a72a9c595b91"
  },
  {
   "cell_type": "code",
   "execution_count": 12,
   "outputs": [
    {
     "name": "stdout",
     "output_type": "stream",
     "text": [
      "{'name': 'Bob', 'age': 30, 'job': 'Dev', 'city': 'New York', 'email': 'bob@web.com'}\n"
     ]
    }
   ],
   "source": [
    "info1 = {'name': 'Bob',\n",
    "         'age': 25,\n",
    "         'job': 'Dev'}\n",
    "\n",
    "info2 = {'age': 30,\n",
    "         'city': 'New York',\n",
    "         'email': 'bob@web.com'}\n",
    "\n",
    "info1 |= info2\n",
    "\n",
    "print(info1)"
   ],
   "metadata": {
    "collapsed": false,
    "ExecuteTime": {
     "end_time": "2024-07-24T11:14:12.081235100Z",
     "start_time": "2024-07-24T11:14:12.073739200Z"
    }
   },
   "id": "880859b024289211"
  },
  {
   "cell_type": "markdown",
   "source": [
    "Метод setdefault()"
   ],
   "metadata": {
    "collapsed": false
   },
   "id": "819c48d621673f03"
  },
  {
   "cell_type": "raw",
   "source": [
    "Метод setdefault() позволяет получить значение из словаря по заданному ключу, автоматически добавляя элемент словаря, если он отсутствует.\n",
    "\n",
    "Метод принимает два аргумента:\n",
    "\n",
    " key: ключ, значение по которому следует получить, если таковое имеется в словаре, либо создать.\n",
    " default: значение, которое будет использовано при добавлении нового элемента в словарь.\n",
    "В зависимости от значений параметров key и default возможны следующие сценарии работы данного метода.\n",
    "\n",
    "Сценарий 1. Если ключ key присутствует в словаре, то метод возвращает значение по заданному ключу (независимо от того, передан параметр default или нет).\n",
    "\n",
    "Приведенный ниже код:"
   ],
   "metadata": {
    "collapsed": false
   },
   "id": "c5dded5159fd9bf7"
  },
  {
   "cell_type": "code",
   "execution_count": 13,
   "outputs": [
    {
     "name": "stdout",
     "output_type": "stream",
     "text": [
      "Bob\n",
      "Bob\n"
     ]
    }
   ],
   "source": [
    "info = {'name': 'Bob',\n",
    "        'age': 25}\n",
    "\n",
    "name1 = info.setdefault('name')  # параметр default не задан           \n",
    "name2 = info.setdefault('name', 'Max')  # параметр default задан\n",
    "\n",
    "print(name1)\n",
    "print(name2)"
   ],
   "metadata": {
    "collapsed": false,
    "ExecuteTime": {
     "end_time": "2024-07-24T11:16:31.918326400Z",
     "start_time": "2024-07-24T11:16:31.911396600Z"
    }
   },
   "id": "421b99fa7bdfeead"
  },
  {
   "cell_type": "raw",
   "source": [
    "Сценарий 2. Если ключ key отсутствует в словаре, то метод вставляет переданное значение default по заданному ключу."
   ],
   "metadata": {
    "collapsed": false
   },
   "id": "46260f45034795a2"
  },
  {
   "cell_type": "code",
   "execution_count": 16,
   "outputs": [
    {
     "name": "stdout",
     "output_type": "stream",
     "text": [
      "{'name': 'Bob', 'age': 25, 'job': 'Dev'}\n",
      "Dev\n",
      "Dev\n"
     ]
    }
   ],
   "source": [
    "info = {'name': 'Bob',\n",
    "        'age': 25}\n",
    "\n",
    "job = info.setdefault('job', 'Dev')\n",
    "print(info)\n",
    "print(job)\n",
    "print(info['job'])"
   ],
   "metadata": {
    "collapsed": false,
    "ExecuteTime": {
     "end_time": "2024-07-24T11:18:47.494676900Z",
     "start_time": "2024-07-24T11:18:47.488158200Z"
    }
   },
   "id": "6c43857d56bae826"
  },
  {
   "cell_type": "raw",
   "source": [
    "При этом если значение default не передано в метод, то вставится значение None."
   ],
   "metadata": {
    "collapsed": false
   },
   "id": "85bcbfc5e044fbef"
  },
  {
   "cell_type": "code",
   "execution_count": 17,
   "outputs": [
    {
     "name": "stdout",
     "output_type": "stream",
     "text": [
      "{'name': 'Bob', 'age': 25, 'job': None}\n",
      "None\n"
     ]
    }
   ],
   "source": [
    "info = {'name': 'Bob',\n",
    "        'age': 25}\n",
    "\n",
    "job = info.setdefault('job')\n",
    "print(info)\n",
    "print(job)"
   ],
   "metadata": {
    "collapsed": false,
    "ExecuteTime": {
     "end_time": "2024-07-24T11:19:22.181730900Z",
     "start_time": "2024-07-24T11:19:22.173751600Z"
    }
   },
   "id": "83f315a1ea2836f7"
  },
  {
   "cell_type": "markdown",
   "source": [
    "Удаление элементов из словаря"
   ],
   "metadata": {
    "collapsed": false
   },
   "id": "91a604cbfbfc39fe"
  },
  {
   "cell_type": "raw",
   "source": [
    "Существует несколько способов удаления элементов из словаря:\n",
    "\n",
    "оператор del;\n",
    "метод pop();\n",
    "метод popitem();\n",
    "метод clear()"
   ],
   "metadata": {
    "collapsed": false
   },
   "id": "ec65622c60ae0484"
  },
  {
   "cell_type": "markdown",
   "source": [
    "Оператор del"
   ],
   "metadata": {
    "collapsed": false
   },
   "id": "a36aba913a575a35"
  },
  {
   "cell_type": "raw",
   "source": [
    "С помощью оператора del можно удалять элементы словаря по определенному ключу."
   ],
   "metadata": {
    "collapsed": false
   },
   "id": "3df6a580fc522193"
  },
  {
   "cell_type": "code",
   "execution_count": 18,
   "outputs": [
    {
     "name": "stdout",
     "output_type": "stream",
     "text": [
      "{'name': 'Sam', 'age': 28}\n"
     ]
    }
   ],
   "source": [
    "info = {'name': 'Sam',\n",
    "        'age': 28,\n",
    "        'job': 'Teacher',\n",
    "        'email': 'timyr-guev@yandex.ru'}\n",
    "\n",
    "del info['email']  # удаляем элемент имеющий ключ email\n",
    "del info['job']  # удаляем элемент имеющий ключ job\n",
    "\n",
    "print(info)"
   ],
   "metadata": {
    "collapsed": false,
    "ExecuteTime": {
     "end_time": "2024-07-24T11:24:28.243908100Z",
     "start_time": "2024-07-24T11:24:28.232817Z"
    }
   },
   "id": "7b69f11920ebf57f"
  },
  {
   "cell_type": "raw",
   "source": [
    " Если удаляемого ключа в словаре нет, возникнет ошибка KeyError"
   ],
   "metadata": {
    "collapsed": false
   },
   "id": "205da6be6f883c67"
  },
  {
   "cell_type": "markdown",
   "source": [
    "Метод pop()"
   ],
   "metadata": {
    "collapsed": false
   },
   "id": "293a18856e19718e"
  },
  {
   "cell_type": "raw",
   "source": [
    "Оператор del удаляет из словаря элемент по заданному ключу вместе с его значением. Если требуется получить само значение удаляемого элемента, то нужен метод pop()"
   ],
   "metadata": {
    "collapsed": false
   },
   "id": "f8e5571ccd459fe9"
  },
  {
   "cell_type": "code",
   "execution_count": 19,
   "outputs": [
    {
     "name": "stdout",
     "output_type": "stream",
     "text": [
      "timyr-guev@yandex.ru\n",
      "Teacher\n",
      "{'name': 'Sam', 'age': 28}\n"
     ]
    }
   ],
   "source": [
    "info = {'name': 'Sam',\n",
    "        'age': 28,\n",
    "        'job': 'Teacher',\n",
    "        'email': 'timyr-guev@yandex.ru'}\n",
    "\n",
    "email = info.pop('email')  # удаляем элемент по ключу email, возвращая его значение\n",
    "job = info.pop('job')  # удаляем элемент по ключу job, возвращая его значение\n",
    "\n",
    "print(email)\n",
    "print(job)\n",
    "print(info)"
   ],
   "metadata": {
    "collapsed": false,
    "ExecuteTime": {
     "end_time": "2024-07-24T11:25:21.874856800Z",
     "start_time": "2024-07-24T11:25:21.864342Z"
    }
   },
   "id": "4f058f11dda5daa6"
  },
  {
   "cell_type": "raw",
   "source": [
    "Единственное отличие этого способа удаления от оператора del — он возвращает удаленное значение. В остальном этот способ идентичен оператору del. В частности, если удаляемого ключа в словаре нет, возникнет ошибка KeyError.\n",
    "\n",
    "Чтобы ошибка не появлялась, этому методу можно передать второй аргумент. Он будет возвращен, если указанного ключа в словаре нет. Это позволяет реализовать безопасное удаление элемента из словаря:"
   ],
   "metadata": {
    "collapsed": false
   },
   "id": "886ef8a88fade922"
  },
  {
   "cell_type": "code",
   "execution_count": 20,
   "outputs": [],
   "source": [
    "surname = info.pop('surname', None)"
   ],
   "metadata": {
    "collapsed": false,
    "ExecuteTime": {
     "end_time": "2024-07-24T11:26:21.671747600Z",
     "start_time": "2024-07-24T11:26:21.659268100Z"
    }
   },
   "id": "2c5f15766803ce28"
  },
  {
   "cell_type": "raw",
   "source": [
    "Если ключа surname в словаре нет, то в переменной surname будет храниться значение None."
   ],
   "metadata": {
    "collapsed": false
   },
   "id": "f0cf70d7c4c50aaf"
  },
  {
   "cell_type": "markdown",
   "source": [
    "Метод popitem()"
   ],
   "metadata": {
    "collapsed": false
   },
   "id": "195bbd99f66da4f"
  },
  {
   "cell_type": "raw",
   "source": [
    "Метод popitem() удаляет из словаря последний добавленный элемент и возвращает удаляемый элемент в виде кортежа (ключ, значение)."
   ],
   "metadata": {
    "collapsed": false
   },
   "id": "4719ba3a0f48571f"
  },
  {
   "cell_type": "code",
   "execution_count": 21,
   "outputs": [
    {
     "name": "stdout",
     "output_type": "stream",
     "text": [
      "('surname', 'Sinclar')\n",
      "{'name': 'Bob', 'age': 25, 'job': 'Dev'}\n"
     ]
    }
   ],
   "source": [
    "info = {'name': 'Bob',\n",
    "        'age': 25,\n",
    "        'job': 'Dev'}\n",
    "\n",
    "info['surname'] = 'Sinclar'\n",
    "\n",
    "item = info.popitem()\n",
    "\n",
    "print(item)\n",
    "print(info)"
   ],
   "metadata": {
    "collapsed": false,
    "ExecuteTime": {
     "end_time": "2024-07-24T11:27:03.701760900Z",
     "start_time": "2024-07-24T11:27:03.692797600Z"
    }
   },
   "id": "3eb676d079f3ad8e"
  },
  {
   "cell_type": "raw",
   "source": [
    " В версиях Python ниже 3.6 метод popitem() удалял случайный элемент."
   ],
   "metadata": {
    "collapsed": false
   },
   "id": "da626b99bd7fc718"
  },
  {
   "cell_type": "markdown",
   "source": [
    "Метод clear()"
   ],
   "metadata": {
    "collapsed": false
   },
   "id": "37d7e57336dcc6cf"
  },
  {
   "cell_type": "raw",
   "source": [
    "Метод clear() удаляет все элементы из словаря."
   ],
   "metadata": {
    "collapsed": false
   },
   "id": "be0e35397fbe68c2"
  },
  {
   "cell_type": "code",
   "execution_count": 22,
   "outputs": [
    {
     "name": "stdout",
     "output_type": "stream",
     "text": [
      "{}\n"
     ]
    }
   ],
   "source": [
    "info = {'name': 'Bob',\n",
    "        'age': 25,\n",
    "        'job': 'Dev'}\n",
    "\n",
    "info.clear()\n",
    "\n",
    "print(info)"
   ],
   "metadata": {
    "collapsed": false,
    "ExecuteTime": {
     "end_time": "2024-07-24T11:27:53.283324900Z",
     "start_time": "2024-07-24T11:27:53.264347800Z"
    }
   },
   "id": "fad0c02d3eb5343c"
  },
  {
   "cell_type": "markdown",
   "source": [
    "Метод copy()"
   ],
   "metadata": {
    "collapsed": false
   },
   "id": "961337a8f93bc932"
  },
  {
   "cell_type": "raw",
   "source": [
    "Метод copy() создает поверхностную копию словаря."
   ],
   "metadata": {
    "collapsed": false
   },
   "id": "51370b451f21d402"
  },
  {
   "cell_type": "code",
   "execution_count": 23,
   "outputs": [
    {
     "name": "stdout",
     "output_type": "stream",
     "text": [
      "{'name': 'Bob', 'age': 25, 'job': 'Dev'}\n"
     ]
    }
   ],
   "source": [
    "info = {'name': 'Bob',\n",
    "        'age': 25,\n",
    "        'job': 'Dev'}\n",
    "\n",
    "info_copy = info.copy()\n",
    "\n",
    "print(info_copy)"
   ],
   "metadata": {
    "collapsed": false,
    "ExecuteTime": {
     "end_time": "2024-07-24T11:28:13.637216700Z",
     "start_time": "2024-07-24T11:28:13.626688300Z"
    }
   },
   "id": "a509f7e66da12a86"
  },
  {
   "cell_type": "raw",
   "source": [
    "Не стоит путать копирование словаря (метод copy()) и присвоение новой переменной ссылки на старый словарь."
   ],
   "metadata": {
    "collapsed": false
   },
   "id": "6b9bc3cbeea3de70"
  },
  {
   "cell_type": "code",
   "execution_count": 24,
   "outputs": [
    {
     "name": "stdout",
     "output_type": "stream",
     "text": [
      "{'name': 'Tim', 'age': 25, 'job': 'Dev'}\n"
     ]
    }
   ],
   "source": [
    "info = {'name': 'Bob',\n",
    "        'age': 25,\n",
    "        'job': 'Dev'}\n",
    "\n",
    "new_info = info\n",
    "new_info['name'] = 'Tim'\n",
    "\n",
    "print(info)"
   ],
   "metadata": {
    "collapsed": false,
    "ExecuteTime": {
     "end_time": "2024-07-24T11:28:42.466561600Z",
     "start_time": "2024-07-24T11:28:42.459070100Z"
    }
   },
   "id": "1fba3a574a5f00dd"
  },
  {
   "cell_type": "raw",
   "source": [
    "Оператор присваивания (=) не копирует словарь, а лишь присваивает ссылку на старый словарь новой переменной."
   ],
   "metadata": {
    "collapsed": false
   },
   "id": "cb4adf513a7e5a7e"
  },
  {
   "cell_type": "raw",
   "source": [
    "Таким образом, когда мы изменяем словарь new_info, меняется и словарь info. Если необходимо изменить один словарь, не изменяя второй, используют метод copy()."
   ],
   "metadata": {
    "collapsed": false
   },
   "id": "efb9d9fc259d1e0b"
  },
  {
   "cell_type": "code",
   "execution_count": 25,
   "outputs": [
    {
     "name": "stdout",
     "output_type": "stream",
     "text": [
      "{'name': 'Bob', 'age': 25, 'job': 'Dev'}\n",
      "{'name': 'Tim', 'age': 25, 'job': 'Dev'}\n"
     ]
    }
   ],
   "source": [
    "info = {'name': 'Bob',\n",
    "        'age': 25,\n",
    "        'job': 'Dev'}\n",
    "\n",
    "new_info = info.copy()\n",
    "new_info['name'] = 'Tim'\n",
    "\n",
    "print(info)\n",
    "print(new_info)"
   ],
   "metadata": {
    "collapsed": false,
    "ExecuteTime": {
     "end_time": "2024-07-24T11:29:29.116359100Z",
     "start_time": "2024-07-24T11:29:29.106653900Z"
    }
   },
   "id": "52c026f84bdc1e8d"
  },
  {
   "cell_type": "markdown",
   "source": [
    "Примечания"
   ],
   "metadata": {
    "collapsed": false
   },
   "id": "6ab7248330c21192"
  },
  {
   "cell_type": "raw",
   "source": [
    "Примечание 1. Словарь можно использовать вместо нескольких вложенных условий, если вам нужно проверить число на равенство. Например, вместо "
   ],
   "metadata": {
    "collapsed": false
   },
   "id": "e5769b4ab6a2b4f0"
  },
  {
   "cell_type": "code",
   "execution_count": 29,
   "outputs": [
    {
     "name": "stdout",
     "output_type": "stream",
     "text": [
      "Two\n"
     ]
    }
   ],
   "source": [
    "num = 2\n",
    "\n",
    "if num == 1:\n",
    "    description = 'One'\n",
    "elif num == 2:\n",
    "    description = 'Two'\n",
    "elif num == 3:\n",
    "    description = 'Three'\n",
    "else:\n",
    "    description = 'Unknown'\n",
    "\n",
    "print(description)"
   ],
   "metadata": {
    "collapsed": false,
    "ExecuteTime": {
     "end_time": "2024-07-24T11:30:56.256868100Z",
     "start_time": "2024-07-24T11:30:56.253831500Z"
    }
   },
   "id": "476dfd7bf1ed9025"
  },
  {
   "cell_type": "code",
   "execution_count": 30,
   "outputs": [
    {
     "name": "stdout",
     "output_type": "stream",
     "text": [
      "Three\n"
     ]
    }
   ],
   "source": [
    "num = 3\n",
    "\n",
    "description = {1: 'One', 2: 'Two', 3: 'Three'}\n",
    "\n",
    "print(description.get(num, 'Unknown'))"
   ],
   "metadata": {
    "collapsed": false,
    "ExecuteTime": {
     "end_time": "2024-07-24T11:31:04.063669500Z",
     "start_time": "2024-07-24T11:31:04.061159900Z"
    }
   },
   "id": "68df54afb56b778a"
  },
  {
   "cell_type": "raw",
   "source": [
    "На практике такой код встречается достаточно часто, особенно если в программе необходимо часто осуществлять проверку указанного типа."
   ],
   "metadata": {
    "collapsed": false
   },
   "id": "d285876751815801"
  },
  {
   "cell_type": "raw",
   "source": [
    "Дополните приведенный код, чтобы в переменной result хранился словарь, в котором ключи – числа от 1 до 15 (включительно), а значения представляют собой квадраты ключей.\n",
    "\n",
    "Примечание. Выводить содержимое словаря result не нужно."
   ],
   "metadata": {
    "collapsed": false
   },
   "id": "fb4f1de9be80a1e8"
  },
  {
   "cell_type": "code",
   "execution_count": 32,
   "outputs": [
    {
     "name": "stdout",
     "output_type": "stream",
     "text": [
      "{1: 1, 2: 4, 3: 9, 4: 16, 5: 25, 6: 36, 7: 49, 8: 64, 9: 81, 10: 100, 11: 121, 12: 144, 13: 169, 14: 196, 15: 225}\n"
     ]
    }
   ],
   "source": [
    "result = {}\n",
    "\n",
    "for key in range(1, 16):\n",
    "    result[key] = key ** 2\n",
    "\n",
    "print(result)"
   ],
   "metadata": {
    "collapsed": false,
    "ExecuteTime": {
     "end_time": "2024-07-24T12:15:38.489265400Z",
     "start_time": "2024-07-24T12:15:38.485762Z"
    }
   },
   "id": "99bf2c68fdf51a74"
  },
  {
   "cell_type": "raw",
   "source": [
    "Дополните приведенный код так, чтобы он объединил содержимое двух словарей dict1 и dict2: если ключ есть в обоих словарях, добавьте его в результирующий словарь со значением, равным сумме соответствующих значений из первого и второго словаря; если ключ есть только в одном из словарей, добавьте его в результирующий словарь с его текущим значением. Результирующий словарь необходимо присвоить переменной result.\n",
    "\n",
    "Примечание. Выводить содержимое словаря result не нужно."
   ],
   "metadata": {
    "collapsed": false
   },
   "id": "c03c65c758d291bc"
  },
  {
   "cell_type": "code",
   "execution_count": 54,
   "outputs": [
    {
     "name": "stdout",
     "output_type": "stream",
     "text": [
      "{'a': 400, 'z': 999, 'b': 400, 'c': 312, 'd': 445, 'e': 98, 't': 853, 'q': 34, 'f': 90, 'm': 230, 'p': 123, 'w': 111}\n"
     ]
    }
   ],
   "source": [
    "dict1 = {'a': 100, 'z': 333, 'b': 200, 'c': 300, 'd': 45, 'e': 98, 't': 76, 'q': 34, 'f': 90, 'm': 230}\n",
    "dict2 = {'a': 300, 'b': 200, 'd': 400, 't': 777, 'c': 12, 'p': 123, 'w': 111, 'z': 666}\n",
    "\n",
    "# Находим совпадающие ключи и суммируем их значения\n",
    "for key in dict1:\n",
    "    if key in dict2:\n",
    "        # Если ключ присутствует в обоих словарях, суммируем значения\n",
    "        result[key] = dict1[key] + dict2[key]\n",
    "    else:\n",
    "        # Если ключ отсутствует в dict2, просто добавляем его из dict1\n",
    "        result[key] = dict1[key]\n",
    "\n",
    "# Также добавляем ключи из dict2, если они отсутствуют в result\n",
    "for key in dict2:\n",
    "    if key not in result:\n",
    "        result[key] = dict2[key]\n",
    "\n",
    "print(result)"
   ],
   "metadata": {
    "collapsed": false,
    "ExecuteTime": {
     "end_time": "2024-07-24T13:17:31.951952900Z",
     "start_time": "2024-07-24T13:17:31.948965200Z"
    }
   },
   "id": "96bb4e71b6db8f76"
  },
  {
   "cell_type": "raw",
   "source": [
    "Дополните приведенный код так, чтобы в переменной result хранился словарь, в котором для каждого символа строки text будет подсчитано количество его вхождений.\n",
    "\n",
    "Примечание. Выводить содержимое словаря result не нужно."
   ],
   "metadata": {
    "collapsed": false
   },
   "id": "680f824f05c1896f"
  },
  {
   "cell_type": "code",
   "execution_count": 55,
   "outputs": [
    {
     "name": "stdout",
     "output_type": "stream",
     "text": [
      "{'f': 4, 'o': 9, 't': 9, 'b': 3, 'a': 8, 'l': 6, 'c': 6, 'y': 2, 'e': 10, 'r': 8, 'p': 4, 'u': 2, 'n': 6, 'k': 2, 'x': 1, 'i': 7, 'v': 1, 's': 4, 'h': 2, 'm': 3, 'd': 2}\n"
     ]
    }
   ],
   "source": [
    "text = 'footballcyberpunkextraterritorialityconversationalistblockophthalmoscopicinterdependencemamauserfff'\n",
    "\n",
    "result = {}\n",
    "\n",
    "for letter in text:\n",
    "    if letter not in result:\n",
    "        result[letter] = 1\n",
    "    else:\n",
    "        result[letter] += 1\n",
    "        \n",
    "print(result)"
   ],
   "metadata": {
    "collapsed": false,
    "ExecuteTime": {
     "end_time": "2024-07-25T05:15:31.917874700Z",
     "start_time": "2024-07-25T05:15:31.913217700Z"
    }
   },
   "id": "61905f0688b24044"
  },
  {
   "cell_type": "code",
   "execution_count": 56,
   "outputs": [],
   "source": [
    "text = 'footballcyberpunkextraterritorialityconversationalistblockophthalmoscopicinterdependencemamauserfff'\n",
    "\n",
    "result = {}\n",
    "for c in text:\n",
    "    result[c] = result.get(c, 0) + 1"
   ],
   "metadata": {
    "collapsed": false,
    "ExecuteTime": {
     "end_time": "2024-07-25T05:17:23.700028200Z",
     "start_time": "2024-07-25T05:17:23.670108200Z"
    }
   },
   "id": "4648df97f0c44512"
  },
  {
   "cell_type": "code",
   "execution_count": 57,
   "outputs": [],
   "source": [
    "text = 'footballcyberpunkextraterritorialityconversationalistblockophthalmoscopicinterdependencemamauserfff'\n",
    "\n",
    "result = {}\n",
    "for c in text:\n",
    "    result[c] = result.setdefault(c, 0) + 1"
   ],
   "metadata": {
    "collapsed": false,
    "ExecuteTime": {
     "end_time": "2024-07-25T05:17:30.059587400Z",
     "start_time": "2024-07-25T05:17:30.048612700Z"
    }
   },
   "id": "33766bf29b728095"
  },
  {
   "cell_type": "code",
   "execution_count": 58,
   "outputs": [],
   "source": [
    "text = 'footballcyberpunkextraterritorialityconversationalistblockophthalmoscopicinterdependencemamauserfff'\n",
    "result = {}\n",
    "for letter in set(text):\n",
    "    result[letter] = text.count(letter)"
   ],
   "metadata": {
    "collapsed": false,
    "ExecuteTime": {
     "end_time": "2024-07-25T05:18:45.384094600Z",
     "start_time": "2024-07-25T05:18:45.359157500Z"
    }
   },
   "id": "c966afbfabc9f8d0"
  },
  {
   "cell_type": "raw",
   "source": [
    "Дополните приведенный код, чтобы он вывел наиболее часто встречающееся слово строки s. Если таких слов несколько, должно быть выведено то, что меньше в лексикографическом порядке."
   ],
   "metadata": {
    "collapsed": false
   },
   "id": "ee60b1a39a6f890b"
  },
  {
   "cell_type": "code",
   "execution_count": 68,
   "outputs": [
    {
     "name": "stdout",
     "output_type": "stream",
     "text": [
      "banana\n"
     ]
    }
   ],
   "source": [
    "s = 'orange strawberry barley gooseberry apple apricot barley currant orange melon pomegranate banana banana orange barley apricot plum grapefruit banana quince strawberry barley grapefruit banana grapes melon strawberry apricot currant currant gooseberry raspberry apricot currant orange lime quince grapefruit barley banana melon pomegranate barley banana orange barley apricot plum banana quince lime grapefruit strawberry gooseberry apple barley apricot currant orange melon pomegranate banana banana orange apricot barley plum banana grapefruit banana quince currant orange melon pomegranate barley plum banana quince barley lime grapefruit pomegranate barley'\n",
    "\n",
    "result = {}\n",
    "for w in s.split():\n",
    "    result[w] = result.get(w, 0) + 1\n",
    "    \n",
    "# print(result)\n",
    "\n",
    "mx = max(result.values())\n",
    "\n",
    "# print(mx)\n",
    "find ={}\n",
    "for i in result:\n",
    "    if result[i] == mx:\n",
    "        find[i] = result[i]\n",
    "        \n",
    "print(sorted(find)[0])"
   ],
   "metadata": {
    "collapsed": false,
    "ExecuteTime": {
     "end_time": "2024-07-25T05:33:34.448849400Z",
     "start_time": "2024-07-25T05:33:34.444856700Z"
    }
   },
   "id": "d1a9c012fe462bb1"
  },
  {
   "cell_type": "raw",
   "source": [
    "Вам доступен список pets, содержащий информацию о собаках и их владельцах.  Каждый элемент списка – это кортеж вида (кличка собаки, имя владельца, фамилия владельца, возраст владельца).\n",
    "\n",
    "Дополните приведенный код так, чтобы в переменной result хранился словарь, в котором для каждого владельца будут перечислены его собаки. Ключом словаря должен быть кортеж (имя, фамилия, возраст владельца), а значением – список кличек собак (сохранив исходный порядок следования).\n",
    "\n",
    "Примечание 1. Не забывайте: кортежи являются неизменяемыми, поэтому могут быть ключами словаря.\n",
    "\n",
    "Примечание 2. Обратите внимание, что у некоторых владельцев по несколько собак.\n",
    "\n",
    "Примечание 3. Выводить содержимое словаря result не нужно.\n",
    "\n",
    "Пример того, какой результат ждет программа: {('Josh', 'King', 25): ['Rusty', 'Balto', 'Barry', 'Lassie']}"
   ],
   "metadata": {
    "collapsed": false
   },
   "id": "c1345fd2d158748e"
  },
  {
   "cell_type": "code",
   "execution_count": 72,
   "outputs": [
    {
     "name": "stdout",
     "output_type": "stream",
     "text": [
      "{('Parker', 'Wilson', 50): ['Hatiko'], ('Josh', 'King', 25): ['Rusty', 'Balto', 'Barry', 'Lassie'], ('John', 'Smith', 28): ['Fido'], ('Jake', 'Smirnoff', 18): ['Butch'], ('Emma', 'Wright', 18): ['Odi'], ('Hannah', 'Taylor', 40): ['Snape'], ('Martha', 'Robinson', 73): ['Horry', 'Chase'], ('Alex', 'Martinez', 65): ['Giro'], ('Simon', 'Nevel', 32): ['Zooma', 'Rocky'], ('Martha', 'Williams', 38): ['Ace']}\n"
     ]
    }
   ],
   "source": [
    "pets = [('Hatiko', 'Parker', 'Wilson', 50),\n",
    "        ('Rusty', 'Josh', 'King', 25),\n",
    "        ('Fido', 'John', 'Smith', 28),\n",
    "        ('Butch', 'Jake', 'Smirnoff', 18),\n",
    "        ('Odi', 'Emma', 'Wright', 18),\n",
    "        ('Balto', 'Josh', 'King', 25),\n",
    "        ('Barry', 'Josh', 'King', 25),\n",
    "        ('Snape', 'Hannah', 'Taylor', 40),\n",
    "        ('Horry', 'Martha', 'Robinson', 73),\n",
    "        ('Giro', 'Alex', 'Martinez', 65),\n",
    "        ('Zooma', 'Simon', 'Nevel', 32),\n",
    "        ('Lassie', 'Josh', 'King', 25),\n",
    "        ('Chase', 'Martha', 'Robinson', 73),\n",
    "        ('Ace', 'Martha', 'Williams', 38),\n",
    "        ('Rocky', 'Simon', 'Nevel', 32)]\n",
    "\n",
    "result = {}\n",
    "\n",
    "# Ключи для словаря\n",
    "keys = [\"Кличка собаки\", \"Имя владельца\", \"Фамилия владельца\", \"Возраст владельца\"]\n",
    "\n",
    "# Преобразование списка кортежей в список словарей\n",
    "dogs_dict_list = [dict(zip(keys, i)) for i in pets]\n",
    "\n",
    "# print(dogs_dict_list)\n",
    "\n",
    "for i in dogs_dict_list:\n",
    "    owner_key = (i['Имя владельца'], i['Фамилия владельца'], i['Возраст владельца'])  # Создание кортежа\n",
    "    result.setdefault(owner_key, []).append(i['Кличка собаки'])  # Использовать кортеж как ключ\n",
    "    \n",
    "# print(result)"
   ],
   "metadata": {
    "collapsed": false,
    "ExecuteTime": {
     "end_time": "2024-07-25T07:16:10.681112900Z",
     "start_time": "2024-07-25T07:16:10.678422900Z"
    }
   },
   "id": "3c9ea17979c8c970"
  },
  {
   "cell_type": "code",
   "execution_count": 74,
   "outputs": [
    {
     "name": "stdout",
     "output_type": "stream",
     "text": [
      "{('Parker', 'Wilson', 50): ['Hatiko'], ('Josh', 'King', 25): ['Rusty', 'Balto', 'Barry', 'Lassie'], ('John', 'Smith', 28): ['Fido'], ('Jake', 'Smirnoff', 18): ['Butch'], ('Emma', 'Wright', 18): ['Odi'], ('Hannah', 'Taylor', 40): ['Snape'], ('Martha', 'Robinson', 73): ['Horry', 'Chase'], ('Alex', 'Martinez', 65): ['Giro'], ('Simon', 'Nevel', 32): ['Zooma', 'Rocky'], ('Martha', 'Williams', 38): ['Ace']}\n"
     ]
    }
   ],
   "source": [
    "pets = [\n",
    "    ('Hatiko', 'Parker', 'Wilson', 50),\n",
    "    ('Rusty', 'Josh', 'King', 25),\n",
    "    ('Fido', 'John', 'Smith', 28),\n",
    "    ('Butch', 'Jake', 'Smirnoff', 18),\n",
    "    ('Odi', 'Emma', 'Wright', 18),\n",
    "    ('Balto', 'Josh', 'King', 25),\n",
    "    ('Barry', 'Josh', 'King', 25),\n",
    "    ('Snape', 'Hannah', 'Taylor', 40),\n",
    "    ('Horry', 'Martha', 'Robinson', 73),\n",
    "    ('Giro', 'Alex', 'Martinez', 65),\n",
    "    ('Zooma', 'Simon', 'Nevel', 32),\n",
    "    ('Lassie', 'Josh', 'King', 25),\n",
    "    ('Chase', 'Martha', 'Robinson', 73),\n",
    "    ('Ace', 'Martha', 'Williams', 38),\n",
    "    ('Rocky', 'Simon', 'Nevel', 32),\n",
    "]\n",
    "\n",
    "result = {}\n",
    "for pet, first_name, second_name, age in pets:\n",
    "    owner = (first_name, second_name, age)\n",
    "\n",
    "    result.setdefault(owner, []).append(pet)\n",
    "    \n",
    "print(result)"
   ],
   "metadata": {
    "collapsed": false,
    "ExecuteTime": {
     "end_time": "2024-07-25T07:20:55.423649200Z",
     "start_time": "2024-07-25T07:20:55.411118300Z"
    }
   },
   "id": "3cc13a1521985567"
  },
  {
   "cell_type": "raw",
   "source": [
    "На вход программе подается строка текста. Напишите программу, которая выводит слово, которое встречается реже всего, без учета регистра. Если таких слов несколько, выведите то, которое меньше в лексикографическом порядке.\n",
    "\n",
    "Формат входных данных\n",
    "На вход программе подается строка текста.\n",
    "\n",
    "Формат выходных данных\n",
    "Программа должна вывести слово (в нижнем регистре), встречаемое реже всего.\n",
    "\n",
    "Примечание 1. Программа не должна быть чувствительной к регистру, слова apple и Apple должна воспринимать как одинаковые.\n",
    "\n",
    "Примечание 2. Слово — последовательность букв. Кроме слов в тексте могут присутствовать пробелы и знаки препинания .,!?:;-, которые нужно игнорировать. Других символов в тексте нет."
   ],
   "metadata": {
    "collapsed": false
   },
   "id": "bea276eae3b421b8"
  },
  {
   "cell_type": "code",
   "execution_count": null,
   "outputs": [],
   "source": [
    "s = input().lower().split()\n",
    "l = [i.strip('.,!?:;-') for i in s]\n",
    "# print(l)\n",
    "\n",
    "dic = {}\n",
    "\n",
    "for i in l:\n",
    "    dic[i] = dic.get(i, 0) + 1\n",
    "    \n",
    "# print(dic)\n",
    "\n",
    "mn = min(dic.values())\n",
    "# print(mx)\n",
    "\n",
    "find ={}\n",
    "for i in dic:\n",
    "    if dic[i] == mn:\n",
    "        find[i] = dic[i]\n",
    "        \n",
    "print(sorted(find)[0])"
   ],
   "metadata": {
    "collapsed": false
   },
   "id": "ed796d1e4c05c1f2"
  },
  {
   "cell_type": "raw",
   "source": [
    "На вход программе подается строка, содержащая строки-идентификаторы. Напишите программу, которая исправляет их так, чтобы в результирующей строке не было дубликатов. Для этого необходимо прибавлять к повторяющимся идентификаторам постфикс _n, где n – количество раз, сколько такой идентификатор уже встречался.\n",
    "\n",
    "Формат входных данных\n",
    "На вход программе подается строка текста, содержащая строки-идентификаторы, разделенные символом пробела.\n",
    "\n",
    "Формат выходных данных\n",
    "Программа должна вывести исправленную строку, не содержащую дубликатов сохранив при этом исходный порядок."
   ],
   "metadata": {
    "collapsed": false
   },
   "id": "addb70fc628f225e"
  },
  {
   "cell_type": "code",
   "execution_count": null,
   "outputs": [],
   "source": [
    "l = input().split()\n",
    "\n",
    "print(l)\n",
    "\n",
    "l2 = []\n",
    "for i in l:\n",
    "    if i not in l2:\n",
    "        print(i, end=' ')\n",
    "        l2.append(i)\n",
    "    else:\n",
    "        print(f'{i}_{l2.count(i)}', end=' ')\n",
    "        l2.append(i)"
   ],
   "metadata": {
    "collapsed": false
   },
   "id": "35e56c962bfb5fea"
  },
  {
   "cell_type": "code",
   "execution_count": null,
   "outputs": [],
   "source": [
    "lst = input().split()\n",
    "res = {}\n",
    "for c in lst:\n",
    "    if c in res:\n",
    "        print(f'{c}_{res[c]}', end=' ')\n",
    "    else:\n",
    "        print(c, end=' ')\n",
    "    res[c] = res.get(c, 0) + 1"
   ],
   "metadata": {
    "collapsed": false
   },
   "id": "720baa2cb44049ac"
  },
  {
   "cell_type": "code",
   "execution_count": null,
   "outputs": [],
   "source": [
    "dic = {}\n",
    "for i in input().split():\n",
    "    flag = int(i in dic)\n",
    "    print(i + f'_{dic.setdefault(i, 0)}' * flag, end=' ')\n",
    "    dic[i] += 1"
   ],
   "metadata": {
    "collapsed": false
   },
   "id": "c5629820294c4d2f"
  }
 ],
 "metadata": {
  "kernelspec": {
   "display_name": "Python 3",
   "language": "python",
   "name": "python3"
  },
  "language_info": {
   "codemirror_mode": {
    "name": "ipython",
    "version": 2
   },
   "file_extension": ".py",
   "mimetype": "text/x-python",
   "name": "python",
   "nbconvert_exporter": "python",
   "pygments_lexer": "ipython2",
   "version": "2.7.6"
  }
 },
 "nbformat": 4,
 "nbformat_minor": 5
}
