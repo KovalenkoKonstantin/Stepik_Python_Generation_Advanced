{
 "cells": [
  {
   "cell_type": "code",
   "execution_count": 1,
   "outputs": [
    {
     "name": "stdout",
     "output_type": "stream",
     "text": [
      "False\n"
     ]
    }
   ],
   "source": [
    "d = [\n",
    "    'a',\n",
    "    'b',\n",
    "    {\n",
    "        'foo': 1,\n",
    "        'bar':\n",
    "            {\n",
    "                'x': 10,\n",
    "                'y': 20,\n",
    "                'z': 30\n",
    "            },\n",
    "        'baz': 3\n",
    "    },\n",
    "    'c',\n",
    "    'd'\n",
    "]\n",
    "\n",
    "print('z' in d[2])"
   ],
   "metadata": {
    "collapsed": false,
    "ExecuteTime": {
     "end_time": "2024-07-29T07:22:38.724843700Z",
     "start_time": "2024-07-29T07:22:38.720300Z"
    }
   },
   "id": "8abd2363a9e02010"
  },
  {
   "cell_type": "code",
   "execution_count": 2,
   "outputs": [
    {
     "name": "stdout",
     "output_type": "stream",
     "text": [
      "7\n"
     ]
    }
   ],
   "source": [
    "recipients = {'Humanities': 409,\n",
    "              'Biology': 1473,\n",
    "              'Engineering': 1343,\n",
    "              'Physical Sciences': 1131,\n",
    "              'Medicine': 153,\n",
    "              'Scripps': 131,\n",
    "              'Social Sciences': 2870}\n",
    "\n",
    "print(len(recipients))"
   ],
   "metadata": {
    "collapsed": false,
    "ExecuteTime": {
     "end_time": "2024-07-29T07:22:57.179609600Z",
     "start_time": "2024-07-29T07:22:57.171821100Z"
    }
   },
   "id": "78b10cdeff25785f"
  },
  {
   "cell_type": "code",
   "execution_count": 3,
   "outputs": [
    {
     "ename": "KeyError",
     "evalue": "'Math'",
     "output_type": "error",
     "traceback": [
      "\u001B[1;31m---------------------------------------------------------------------------\u001B[0m",
      "\u001B[1;31mKeyError\u001B[0m                                  Traceback (most recent call last)",
      "Cell \u001B[1;32mIn[3], line 9\u001B[0m\n\u001B[0;32m      1\u001B[0m recipients \u001B[38;5;241m=\u001B[39m {\u001B[38;5;124m'\u001B[39m\u001B[38;5;124mHumanities\u001B[39m\u001B[38;5;124m'\u001B[39m: \u001B[38;5;241m409\u001B[39m,\n\u001B[0;32m      2\u001B[0m               \u001B[38;5;124m'\u001B[39m\u001B[38;5;124mBiology\u001B[39m\u001B[38;5;124m'\u001B[39m: \u001B[38;5;241m1473\u001B[39m,\n\u001B[0;32m      3\u001B[0m               \u001B[38;5;124m'\u001B[39m\u001B[38;5;124mEngineering\u001B[39m\u001B[38;5;124m'\u001B[39m: \u001B[38;5;241m1343\u001B[39m,\n\u001B[1;32m   (...)\u001B[0m\n\u001B[0;32m      6\u001B[0m               \u001B[38;5;124m'\u001B[39m\u001B[38;5;124mScripps\u001B[39m\u001B[38;5;124m'\u001B[39m: \u001B[38;5;241m131\u001B[39m,\n\u001B[0;32m      7\u001B[0m               \u001B[38;5;124m'\u001B[39m\u001B[38;5;124mSocial Sciences\u001B[39m\u001B[38;5;124m'\u001B[39m: \u001B[38;5;241m2870\u001B[39m}\n\u001B[1;32m----> 9\u001B[0m \u001B[38;5;28mprint\u001B[39m(\u001B[43mrecipients\u001B[49m\u001B[43m[\u001B[49m\u001B[38;5;124;43m'\u001B[39;49m\u001B[38;5;124;43mMath\u001B[39;49m\u001B[38;5;124;43m'\u001B[39;49m\u001B[43m]\u001B[49m)\n",
      "\u001B[1;31mKeyError\u001B[0m: 'Math'"
     ]
    }
   ],
   "source": [
    "recipients = {'Humanities': 409,\n",
    "              'Biology': 1473,\n",
    "              'Engineering': 1343,\n",
    "              'Physical Sciences': 1131,\n",
    "              'Medicine': 153,\n",
    "              'Scripps': 131,\n",
    "              'Social Sciences': 2870}\n",
    "\n",
    "print(recipients['Math'])"
   ],
   "metadata": {
    "collapsed": false,
    "ExecuteTime": {
     "end_time": "2024-07-29T07:23:47.305800700Z",
     "start_time": "2024-07-29T07:23:47.059466Z"
    }
   },
   "id": "2697be664d289782"
  },
  {
   "cell_type": "code",
   "execution_count": 4,
   "outputs": [
    {
     "name": "stdout",
     "output_type": "stream",
     "text": [
      "None\n"
     ]
    }
   ],
   "source": [
    "recipients = {'Humanities': 409,\n",
    "              'Biology': 1473,\n",
    "              'Engineering': 1343,\n",
    "              'Physical Sciences': 1131,\n",
    "              'Medicine': 153,\n",
    "              'Scripps': 131,\n",
    "              'Social Sciences': 2870}\n",
    "\n",
    "print(recipients.get('Math'))"
   ],
   "metadata": {
    "collapsed": false,
    "ExecuteTime": {
     "end_time": "2024-07-29T07:23:59.363801200Z",
     "start_time": "2024-07-29T07:23:59.354462500Z"
    }
   },
   "id": "cfd9b4c7424d547a"
  },
  {
   "cell_type": "raw",
   "source": [
    "Дополните приведенный код, чтобы в списках значений элементов словаря my_dict  не было чисел, больших 20. При этом порядок оставшихся элементов меняться не должен.\n",
    "\n",
    "Примечание. Необходимо изменить словарь my_dict"
   ],
   "metadata": {
    "collapsed": false
   },
   "id": "bc1cb8278136f78e"
  },
  {
   "cell_type": "code",
   "execution_count": 7,
   "outputs": [
    {
     "name": "stdout",
     "output_type": "stream",
     "text": [
      "{'C1': [10, 20, 7, 6], 'C2': [20, 1, 2, 3, 12], 'C3': [12, 20], 'C4': [7], 'C5': [2, 4, 19], 'C6': [4, 6, 7, 10], 'C7': [4, 8, 12], 'C8': [3, 14, 15], 'C9': [2, 7, 18, 18]}\n"
     ]
    }
   ],
   "source": [
    "my_dict = {'C1': [10, 20, 30, 7, 6, 23, 90], 'C2': [20, 30, 40, 1, 2, 3, 90, 12], 'C3': [12, 34, 20, 21],\n",
    "           'C4': [22, 54, 209, 21, 7], 'C5': [2, 4, 29, 21, 19], 'C6': [4, 6, 7, 10, 55], 'C7': [4, 8, 12, 23, 42],\n",
    "           'C8': [3, 14, 15, 26, 48], 'C9': [2, 7, 18, 28, 18, 28]}\n",
    "\n",
    "my_dict = {k: [i for i in v if i <= 20] for k, v in my_dict.items()}\n",
    "print(my_dict)"
   ],
   "metadata": {
    "collapsed": false,
    "ExecuteTime": {
     "end_time": "2024-07-29T07:30:19.909269700Z",
     "start_time": "2024-07-29T07:30:19.902321300Z"
    }
   },
   "id": "34b079324a1c792a"
  },
  {
   "cell_type": "raw",
   "source": [
    "Словарь emails содержит информацию об электронных адресах пользователей, сгруппированных по домену. Дополните приведенный код, чтобы он вывел все электронные адреса в алфавитном порядке, каждый на отдельной строке, в формате username@domain.\n",
    "\n",
    "Примечание 1. Для сортировки в алфавитном порядке используйте встроенную функцию sorted(), либо списочный метод sort().\n",
    "\n",
    "Примечание 2. Группировать электронные адреса по доменам не нужно."
   ],
   "metadata": {
    "collapsed": false
   },
   "id": "5b14544a53de2c77"
  },
  {
   "cell_type": "code",
   "execution_count": 8,
   "outputs": [
    {
     "name": "stdout",
     "output_type": "stream",
     "text": [
      "angel.down@mail.ru\n",
      "apple.fruit@msu.edu\n",
      "beegeek.school@msu.edu\n",
      "beegeek@msu.edu\n",
      "cream.soda@hse.edu\n",
      "google@yandex.ru\n",
      "joanne@mail.ru\n",
      "joseph@nosu.edu\n",
      "larisa.mamuk@nosu.edu\n",
      "ruslan.chaika@gmail.com\n",
      "rustam.mini@gmail.com\n",
      "stepik-best@gmail.com\n",
      "surface@yandex.ru\n",
      "svetlana.gaeva@nosu.edu\n",
      "the.fame.moster@mail.ru\n",
      "timyr@nosu.edu\n",
      "tomas-henders@hse.edu\n",
      "zivert@hse.edu\n"
     ]
    }
   ],
   "source": [
    "emails = {'nosu.edu': ['timyr', 'joseph', 'svetlana.gaeva', 'larisa.mamuk'], \n",
    "          'gmail.com': ['ruslan.chaika', 'rustam.mini', 'stepik-best'], \n",
    "          'msu.edu': ['apple.fruit', 'beegeek', 'beegeek.school'], \n",
    "          'yandex.ru': ['surface', 'google'],\n",
    "          'hse.edu': ['tomas-henders', 'cream.soda', 'zivert'],\n",
    "          'mail.ru': ['angel.down', 'joanne', 'the.fame.moster']}\n",
    "\n",
    "# Список для хранения всех электронных адресов\n",
    "all_emails = []\n",
    "\n",
    "# Проходим по доменам и пользователям, формируем адреса электронной почты\n",
    "for domain, usernames in emails.items():\n",
    "    for username in usernames:\n",
    "        all_emails.append(f\"{username}@{domain}\")\n",
    "\n",
    "# Сортируем адреса в алфавитном порядке\n",
    "all_emails.sort()\n",
    "\n",
    "# Выводим электронные адреса\n",
    "for email in all_emails:\n",
    "    print(email)"
   ],
   "metadata": {
    "collapsed": false,
    "ExecuteTime": {
     "end_time": "2024-07-29T07:35:11.577066600Z",
     "start_time": "2024-07-29T07:35:11.570409800Z"
    }
   },
   "id": "9ffce68e724d3d35"
  },
  {
   "cell_type": "raw",
   "source": [
    "Как известно из курса биологии, ДНК и РНК – последовательности нуклеотидов.\n",
    "\n",
    "Четыре нуклеотида в ДНК:\n",
    "\n",
    "аденин (A);\n",
    "цитозин (C);\n",
    "гуанин (G);\n",
    "тимин (T).\n",
    "Четыре нуклеотида в РНК:\n",
    "\n",
    "аденин (A);\n",
    "цитозин (C);\n",
    "гуанин (G);\n",
    "урацил (U).\n",
    "Цепь РНК строится на основе цепи ДНК последовательным присоединением комплементарных нуклеотидов:\n",
    "\n",
    "G → C;\n",
    "C → G;\n",
    "T → A;\n",
    "A → U.\n",
    "Напишите программу, переводящую цепь ДНК в цепь РНК.\n",
    "\n",
    "Формат входных данных\n",
    "На вход программе подается корректная цепь ДНК в верхнем регистре.\n",
    "\n",
    "Формат выходных данных\n",
    "Программа должна вывести соответствующую цепь РНК в верхнем регистре."
   ],
   "metadata": {
    "collapsed": false
   },
   "id": "f999d782beb17ae9"
  },
  {
   "cell_type": "code",
   "execution_count": null,
   "outputs": [],
   "source": [
    "# Считываем входную цепь ДНК\n",
    "dna_sequence = input()\n",
    "\n",
    "# Создаем пустую строку для хранения цепи РНК\n",
    "rna_sequence = \"\"\n",
    "\n",
    "# Перебираем каждый нуклеотид в цепи ДНК и заменяем его на соответствующий в цепи РНК\n",
    "for nucleotide in dna_sequence:\n",
    "    if nucleotide == 'G':\n",
    "        rna_sequence += 'C'\n",
    "    elif nucleotide == 'C':\n",
    "        rna_sequence += 'G'\n",
    "    elif nucleotide == 'T':\n",
    "        rna_sequence += 'A'\n",
    "    elif nucleotide == 'A':\n",
    "        rna_sequence += 'U'\n",
    "\n",
    "# Выводим соответствующую цепь РНК\n",
    "print(rna_sequence)"
   ],
   "metadata": {
    "collapsed": false
   },
   "id": "49e896839145b5b"
  },
  {
   "cell_type": "raw",
   "source": [
    "Дана строка текста на русском языке, состоящая из слов и символов пробела. Словом считается последовательность букв, слова разделены одним пробелом или несколькими.\n",
    "\n",
    "Напишите программу, определяющую для каждого слова порядковый номер его вхождения в текст именно в этой форме, с учетом регистра. Для первого вхождения слова программа выведет 1, для второго вхождения того же слова — 2 и т. д.\n",
    "\n",
    "Формат входных данных\n",
    "Программа получает на вход единственную строку текста, состоящую только из русских букв и символов пробела. \n",
    "\n",
    "Формат выходных данных\n",
    "Для каждого слова исходного текста программа выводит одно целое число — номер вхождения этого слова в текст. Числа необходимо вывести на одной строке через пробел.\n",
    "\n",
    "Примечание. Количество чисел должно совпадать с количеством слов исходного текста."
   ],
   "metadata": {
    "collapsed": false
   },
   "id": "85c1cc273c8a79e0"
  },
  {
   "cell_type": "code",
   "execution_count": null,
   "outputs": [],
   "source": [
    "# Считываем строку текста\n",
    "text = input()\n",
    "\n",
    "# Разбиваем текст на слова, игнорируя пробелы\n",
    "words = text.split()\n",
    "\n",
    "# Словарь для отслеживания количества вхождений\n",
    "word_count = {}\n",
    "\n",
    "# Список для хранения результатов\n",
    "result = []\n",
    "\n",
    "# Обрабатываем каждое слово\n",
    "for word in words:\n",
    "    # Увеличиваем счетчик вхождений\n",
    "    if word in word_count:\n",
    "        word_count[word] += 1\n",
    "    else:\n",
    "        word_count[word] = 1\n",
    "    \n",
    "    # Добавляем номер вхождения в результат\n",
    "    result.append(word_count[word])\n",
    "\n",
    "# Выводим номера вхождений через пробел\n",
    "print(' '.join(map(str, result)))"
   ],
   "metadata": {
    "collapsed": false
   },
   "id": "85050559fc60292d"
  },
  {
   "cell_type": "raw",
   "source": [
    "В игре Scrabble каждая буква приносит определенное количество баллов. Общая стоимость слова – сумма баллов его букв. Чем реже буква встречается, тем больше она ценится:\n",
    "\n",
    "Баллы\tБуква\n",
    "1 A, E, I, L, N, O, R, S, T, U\n",
    "2 D, G\n",
    "3 B, C, M, P\n",
    "4 F, H, V, W, Y\n",
    "5 K\n",
    "8 J, X\n",
    "10\tQ, Z\n",
    "Напишите программу подсчета итоговой стоимости введенного слова.\n",
    "\n",
    "Формат входных данных\n",
    "На вход программе подается одно слово в верхнем регистре на английском языке.\n",
    "\n",
    "Формат выходных данных\n",
    "Программа должна вывести суммарную стоимость букв введеного слова."
   ],
   "metadata": {
    "collapsed": false
   },
   "id": "3b40c5ed6f5889e0"
  },
  {
   "cell_type": "code",
   "execution_count": null,
   "outputs": [],
   "source": [
    "# Словарь, содержащий стоимость букв\n",
    "scores = {\n",
    "    'A': 1, 'E': 1, 'I': 1, 'L': 1, 'N': 1, 'O': 1, 'R': 1, 'S': 1, 'T': 1, 'U': 1,\n",
    "    'D': 2, 'G': 2,\n",
    "    'B': 3, 'C': 3, 'M': 3, 'P': 3,\n",
    "    'F': 4, 'H': 4, 'V': 4, 'W': 4, 'Y': 4,\n",
    "    'K': 5,\n",
    "    'J': 8, 'X': 8,\n",
    "    'Q': 10, 'Z': 10\n",
    "}\n",
    "\n",
    "# Считываем входное слово\n",
    "word = input()\n",
    "\n",
    "# Инициализируем переменную для суммарной стоимости\n",
    "total_score = 0\n",
    "\n",
    "# Подсчитываем стоимость каждого символа в слове\n",
    "for letter in word:\n",
    "    total_score += scores.get(letter, 0)\n",
    "\n",
    "# Выводим итоговую стоимость\n",
    "print(total_score)"
   ],
   "metadata": {
    "collapsed": false
   },
   "id": "79f01d6648c2c86f"
  },
  {
   "cell_type": "raw",
   "source": [
    "Строка запроса (query string) — часть URL адреса, содержащая ключи и их значения. Она начинается после вопросительного знака и идет до конца адреса. Например:\n",
    "\n",
    "https://beegeek.ru?name=timur                 # строка запроса: name=timur\n",
    "Если параметров в строке запроса несколько, то они отделяются символом амперсанда &:\n",
    "\n",
    "https://beegeek.ru?name=timur&color=green     # строка запроса: name=timur&color=green \n",
    "Напишите функцию build_query_string(), которая принимает на вход словарь с параметрами и возвращает строку запроса, сформированную из этих параметров.\n",
    "\n",
    "Примечание 1. В итоговой строке параметры должны быть отсортированы в лексикографическом порядке ключей словаря.\n",
    "\n",
    "Примечание 2. Следующий программный код:\n",
    "\n",
    "print(build_query_string({'name': 'timur', 'age': 28}))\n",
    "print(build_query_string({'sport': 'hockey', 'game': 2, 'time': 17}))\n",
    "должен выводить:\n",
    "\n",
    "age=28&name=timur\n",
    "game=2&sport=hockey&time=17"
   ],
   "metadata": {
    "collapsed": false
   },
   "id": "d728cab884ca4299"
  },
  {
   "cell_type": "code",
   "execution_count": null,
   "outputs": [],
   "source": [
    "def build_query_string(params):\n",
    "    # Сортируем ключи в лексикографическом порядке\n",
    "    sorted_keys = sorted(params.keys())\n",
    "    \n",
    "    # Создаем список пар \"ключ=значение\"\n",
    "    query_pairs = [f\"{key}={params[key]}\" for key in sorted_keys]\n",
    "    \n",
    "    # Объединяем пары в строку с разделителем \"&\"\n",
    "    return '&'.join(query_pairs)\n",
    "\n",
    "# Примеры использования функции\n",
    "print(build_query_string({'name': 'timur', 'age': 28}))\n",
    "print(build_query_string({'sport': 'hockey', 'game': 2, 'time': 17}))"
   ],
   "metadata": {
    "collapsed": false
   },
   "id": "26128584212211e1"
  },
  {
   "cell_type": "raw",
   "source": [
    "Напишите функцию merge(), объединяющую словари в один общий. Функция должна принимать список словарей и возвращать словарь, каждый ключ которого содержит множество (тип данных set) уникальных значений собранных из всех словарей переданного списка.\n",
    "\n",
    "Примечание 1. Следующий программный код:\n",
    "\n",
    "result = merge([{'a': 1, 'b': 2}, {'b': 10, 'c': 100}, {'a': 1, 'b': 17, 'c': 50}, {'a': 5, 'd': 777}])\n",
    "создает словарь:\n",
    "\n",
    "result = {'a': {1, 5}, 'b': {2, 10, 17}, 'c': {50, 100}, 'd': {777}}\n",
    "Примечание 2. Вызывать функцию merge() не нужно, требуется только реализовать. \n",
    "\n",
    "Примечание 3. Слияние пустых словарей должно быть пустым словарем."
   ],
   "metadata": {
    "collapsed": false
   },
   "id": "4074fbc50c9d59a0"
  },
  {
   "cell_type": "code",
   "execution_count": null,
   "outputs": [],
   "source": [
    "def merge(dicts):\n",
    "    result = {}\n",
    "    for d in dicts:\n",
    "        for key, value in d.items():\n",
    "            if key not in result:\n",
    "                result[key] = set()  # создаем множество для нового ключа\n",
    "            result[key].add(value)  # добавляем значение в множество\n",
    "    return result"
   ],
   "metadata": {
    "collapsed": false
   },
   "id": "76ca01f33c49f56e"
  },
  {
   "cell_type": "raw",
   "source": [
    "В файловую систему компьютера, на котором развернута наша ❤️ платформа Stepik, проник опасный вирус и сломал контроль прав доступа к файлам. Говорят, вирус написал один из студентов курса Python для начинающих.\n",
    "\n",
    "Для каждого файла известно, с какими действиями можно к нему обращаться:\n",
    "\n",
    "запись W (write, доступ на запись в файл);\n",
    "чтение R (read, доступ на чтение из файла);\n",
    "запуск X (execute, запуск на исполнение файла).\n",
    "Напишите программу для восстановления контроля прав доступа к файлам. Ваша программа для каждого запроса должна будет возвращать OK если выполняется допустимая операция, и Access denied, если операция недопустима.\n",
    "\n",
    "Формат входных данных\n",
    "Программа получает на вход количество файлов n, содержащихся в файловой системе компьютера. Далее идет n строк, на каждой имя файла и допустимые с ним операции, разделенные символом пробела. В следующей строке записано число m — количество запросов к файлам, и затем m строк с запросами вида операция файл. Одному и тому же файлу может быть адресовано любое количество запросов.\n",
    "\n",
    "Формат выходных данных\n",
    "Программа должна вывести для каждого из m запросов в отдельной строке Access denied или OK."
   ],
   "metadata": {
    "collapsed": false
   },
   "id": "41b1316857eaee5b"
  },
  {
   "cell_type": "code",
   "execution_count": null,
   "outputs": [],
   "source": [
    "# Чтение количества файлов\n",
    "n = int(input())\n",
    "permissions = {}\n",
    "\n",
    "# Чтение прав доступа к каждому файлу\n",
    "for _ in range(n):\n",
    "    line = input().strip().split()\n",
    "    filename = line[0]\n",
    "    permitted_operations = set(line[1:])  # Соберем операции в множество для быстрого поиска\n",
    "    permissions[filename] = permitted_operations\n",
    "\n",
    "# Чтение количества запросов\n",
    "m = int(input())\n",
    "\n",
    "# Обработка запросов и вывод результатов\n",
    "for _ in range(m):\n",
    "    operation, filename = input().strip().split()\n",
    "    if filename in permissions and operation in permissions[filename]:\n",
    "        print(\"OK\")\n",
    "    else:\n",
    "        print(\"Access denied\")"
   ],
   "metadata": {
    "collapsed": false
   },
   "id": "98b078bd8d14f552"
  },
  {
   "cell_type": "code",
   "execution_count": null,
   "outputs": [],
   "source": [
    "# Чтение количества файлов\n",
    "n = int(input())\n",
    "permissions = {}\n",
    "\n",
    "# Чтение прав доступа к каждому файлу\n",
    "for _ in range(n):\n",
    "    line = input().strip().split()\n",
    "    filename = line[0]\n",
    "    permitted_operations = set(line[1:])  # Соберем операции в множество для быстрого поиска\n",
    "    permissions[filename] = permitted_operations\n",
    "\n",
    "# Чтение количества запросов\n",
    "m = int(input())\n",
    "\n",
    "# Обработка запросов и вывод результатов\n",
    "for _ in range(m):\n",
    "    operation, filename = input().strip().split()\n",
    "    # Переводим операции в формат, используемый в словаре\n",
    "    if operation == \"read\":\n",
    "        op = \"R\"\n",
    "    elif operation == \"write\":\n",
    "        op = \"W\"\n",
    "    elif operation == \"execute\":\n",
    "        op = \"X\"\n",
    "    \n",
    "    # Проверяем доступ\n",
    "    if filename in permissions and op in permissions[filename]:\n",
    "        print(\"OK\")\n",
    "    else:\n",
    "        print(\"Access denied\")"
   ],
   "metadata": {
    "collapsed": false
   },
   "id": "4e435c1573d0671"
  },
  {
   "cell_type": "raw",
   "source": [
    "Напишите программу для подсчета количества единиц каждого вида товара из приобретенных каждым покупателем интернет-магазина.\n",
    "\n",
    "Формат входных данных\n",
    "На вход программе подается число n — количество строк в базе данных о продажах интернет-магазина. Далее следует n строк с записями вида покупатель товар количество, где покупатель — имя покупателя (строка без пробелов), товар — название товара (строка без пробелов), количество — количество приобретенных единиц товара (натуральное число).\n",
    "\n",
    "Формат выходных данных\n",
    "Программа должна вывести список всех покупателей в лексикографическом порядке, после имени каждого покупателя — двоеточие, затем список названий всех приобретенных им товаров в лексикографическом порядке, после названия каждого товара — количество единиц товара. Информация о каждом товаре выводится на отдельной строке.\n",
    "\n",
    "Примечание. Обратите внимание на второй тест. Если позиции товаров повторяются, то в итоговый список попадает суммарное количество товара по данной позиции."
   ],
   "metadata": {
    "collapsed": false
   },
   "id": "26b2a0d58e8d3385"
  },
  {
   "cell_type": "code",
   "execution_count": null,
   "outputs": [],
   "source": [],
   "metadata": {
    "collapsed": false
   },
   "id": "bfadfa14c63d603c"
  }
 ],
 "metadata": {
  "kernelspec": {
   "display_name": "Python 3",
   "language": "python",
   "name": "python3"
  },
  "language_info": {
   "codemirror_mode": {
    "name": "ipython",
    "version": 2
   },
   "file_extension": ".py",
   "mimetype": "text/x-python",
   "name": "python",
   "nbconvert_exporter": "python",
   "pygments_lexer": "ipython2",
   "version": "2.7.6"
  }
 },
 "nbformat": 4,
 "nbformat_minor": 5
}
