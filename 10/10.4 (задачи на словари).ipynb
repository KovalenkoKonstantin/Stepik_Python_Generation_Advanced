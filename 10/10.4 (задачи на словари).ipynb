{
 "cells": [
  {
   "cell_type": "raw",
   "source": [
    "Программисты, как вы уже знаете, постоянно учатся, а в общении между собой используют весьма специфический язык. Чтобы систематизировать ваш пополняющийся профессиональный лексикон, мы придумали эту задачу. Напишите программу создания небольшого словаря сленговых программерских выражений, чтобы она потом по запросу возвращала значения из этого словаря.\n",
    "\n",
    "Формат входных данных\n",
    "В первой строке задано одно целое число n — количество слов в словаре. В следующих n строках записаны слова и их определения, разделенные двоеточием и символом пробела. В следующей строке записано целое число m — количество поисковых слов, чье определение нужно вывести. В следующих m строках записаны сами слова, по одному на строке.\n",
    "\n",
    "Формат выходных данных\n",
    "Для каждого слова, независимо от регистра символов, если оно присутствует в словаре, необходимо вывести его определение. Если слова в словаре нет, программа должна вывести «Не найдено» (без кавычек).\n",
    "\n",
    "Примечание 1. Мини-словарь для начинающих разработчиков можно посмотреть по ссылке.\n",
    "\n",
    "Примечание 2. Гарантируется, что в определяемом слове или фразе отсутствует двоеточие (':'), следом за которым идёт пробел."
   ],
   "metadata": {
    "collapsed": false
   },
   "id": "81d59b14a1dc215f"
  },
  {
   "cell_type": "code",
   "execution_count": null,
   "outputs": [],
   "source": [
    "n = int(input())\n",
    "\n",
    "l = [input().split(':') for _ in range(n)]\n",
    "\n",
    "# print(l)\n",
    "\n",
    "# Преобразуем список в словарь\n",
    "dic = {key.lower().strip(): value.strip() for key, value in\n",
    "       l}\n",
    "# Метод strip() удаляет лишние пробелы вокруг ключей и значений.\n",
    "\n",
    "print(dic)\n",
    "\n",
    "m = int(input())\n",
    "\n",
    "request = [input().lower() for _ in range(m)]\n",
    "print(request)\n",
    "\n",
    "for req in request:\n",
    "    if req in dic.keys():\n",
    "        print(dic[req])\n",
    "    else:\n",
    "        print('Не найдено')"
   ],
   "metadata": {
    "collapsed": false
   },
   "id": "120c9915c5d4ce02"
  },
  {
   "cell_type": "code",
   "execution_count": null,
   "outputs": [],
   "source": [
    "mydict = {}\n",
    "\n",
    "for _ in range(int(input())):\n",
    "    key, value = input().split(': ')\n",
    "    mydict[key.lower()] = value\n",
    "\n",
    "for _ in range(int(input())):\n",
    "    print(mydict.get(input().lower(), 'Не найдено'))"
   ],
   "metadata": {
    "collapsed": false
   },
   "id": "15dd481b3769dd13"
  },
  {
   "cell_type": "raw",
   "source": [
    "Анаграмма – слово (словосочетание), образованное путём перестановки букв, составляющих другое слово (или словосочетание). Например, английские слова evil и live – это анаграммы.\n",
    "\n",
    "На вход программе подаются два слова. Напишите программу, которая определяет, являются ли они анаграммами.\n",
    "\n",
    "Формат входных данных\n",
    "На вход программе подаются два слова, каждое на отдельной строке.\n",
    "\n",
    "Формат выходных данных\n",
    "Программа должна вывести YES если слова являются анаграммами и NO в противном случае."
   ],
   "metadata": {
    "collapsed": false
   },
   "id": "322f73e75365dff6"
  },
  {
   "cell_type": "code",
   "execution_count": null,
   "outputs": [],
   "source": [
    "l1 = [i for i in input()]\n",
    "l2 = [i for i in input()]\n",
    "\n",
    "dic1 = {}\n",
    "dic2 = {}\n",
    "\n",
    "for i in l1:\n",
    "    dic1[i] = dic1.get(i, 0) + 1\n",
    "for i in l2:\n",
    "    dic2[i] = dic2.get(i, 0) + 1\n",
    "\n",
    "flag = True\n",
    "\n",
    "for i in l1:\n",
    "    if dic1 != dic2:\n",
    "        flag = False\n",
    "        break\n",
    "print('YES' if flag else 'NO')"
   ],
   "metadata": {
    "collapsed": false
   },
   "id": "60adbdbc19c59887"
  },
  {
   "cell_type": "code",
   "execution_count": null,
   "outputs": [],
   "source": [
    "first_word = sorted(input())\n",
    "second_word = sorted(input())\n",
    "\n",
    "if first_word == second_word:\n",
    "    print(\"YES\")\n",
    "else:\n",
    "    print(\"NO\")"
   ],
   "metadata": {
    "collapsed": false
   },
   "id": "1d3dbba76f55f720"
  },
  {
   "cell_type": "raw",
   "source": [
    "На вход программе подаются два предложения. Напишите программу, которая определяет, являются они анаграммами или нет. Ваша программа должна игнорировать регистр символов, знаки препинания и пробелы.\n",
    "\n",
    "Формат входных данных\n",
    "На вход программе подаются два предложения, каждое на отдельной строке.\n",
    "\n",
    "Формат выходных данных\n",
    "Программа должна вывести YES , если предложения – анаграммы и NO в противном случае.\n",
    "\n",
    "Примечание. Кроме слов в тексте могут присутствовать пробелы и знаки препинания .,!?:;-. Других символов в тексте нет."
   ],
   "metadata": {
    "collapsed": false
   },
   "id": "fba02bfed052a6fb"
  },
  {
   "cell_type": "code",
   "execution_count": null,
   "outputs": [],
   "source": [
    "l1 = [i.lower() for i in input() if i not in '.,!?:;- ']\n",
    "l2 = [i.lower() for i in input() if i not in '.,!?:;- ']\n",
    "\n",
    "print('YES' if sorted(l1) == sorted(l2) else 'NO')"
   ],
   "metadata": {
    "collapsed": false
   },
   "id": "ed04c3055d5d8532"
  },
  {
   "cell_type": "code",
   "execution_count": null,
   "outputs": [],
   "source": [
    "def s(word):\n",
    "    res = {}\n",
    "    for i in word.lower():\n",
    "        if i.isalpha():\n",
    "            res[i] = res.get(i, 0) + 1\n",
    "    return res\n",
    "\n",
    "\n",
    "print((\"NO\", \"YES\")[s(input()) == s(input())])"
   ],
   "metadata": {
    "collapsed": false
   },
   "id": "19a2bc41058fe464"
  },
  {
   "cell_type": "raw",
   "source": [
    "Вам дан словарь, состоящий из пар слов-синонимов. Повторяющихся слов в словаре нет. Напишите программу, которая для одного данного слова определяет его синоним.\n",
    "\n",
    "Формат входных данных\n",
    "На вход программе подается количество пар синонимов n. Далее следует n строк, каждая строка содержит два слова-синонима. После этого следует одно слово, синоним которого надо найти.\n",
    "\n",
    "Формат выходных данных\n",
    "Программа должна вывести одно слово, синоним введенного.\n",
    "\n",
    "Примечание 1. Гарантируется, что синоним введенного слова существует в словаре.\n",
    "\n",
    "Примечание 2. Все слова в словаре начинаются с заглавной буквы.м"
   ],
   "metadata": {
    "collapsed": false
   },
   "id": "28e9de7b4b96903a"
  },
  {
   "cell_type": "code",
   "execution_count": null,
   "outputs": [],
   "source": [
    "n = int(input())\n",
    "\n",
    "k = (input().split(' ') for _ in range(n))\n",
    "print(k)\n",
    "\n",
    "dic = {key: value for key, value in k}\n",
    "\n",
    "print(dic)\n",
    "\n",
    "# Меняем ключи и значения местами\n",
    "swapped_dic = {value: key for key, value in dic.items()}\n",
    "\n",
    "print(swapped_dic)\n",
    "\n",
    "s = input()\n",
    "\n",
    "if s in swapped_dic:\n",
    "    print(swapped_dic[s])\n",
    "elif s in dic:\n",
    "    print(dic[s])"
   ],
   "metadata": {
    "collapsed": false
   },
   "id": "cd8be487458ef088"
  },
  {
   "cell_type": "raw",
   "source": [
    "На вход программе подается список стран и городов каждой страны. Затем даны названия городов. Напишите программу, которая для каждого города выводит, в какой стране он находится.\n",
    "\n",
    "Формат входных данных\n",
    "Программа получает на вход количество стран n. Далее идет n строк, каждая строка начинается с названия страны, затем идут названия городов этой страны. В следующей строке записано число m, далее идут m запросов — названия каких-то m городов, из перечисленных выше.\n",
    "\n",
    "Формат выходных данных\n",
    "Программа должна вывести название страны, в которой находится данный город в соответствии с примером."
   ],
   "metadata": {
    "collapsed": false
   },
   "id": "38f160216d6ccd89"
  },
  {
   "cell_type": "code",
   "execution_count": null,
   "outputs": [],
   "source": [
    "n = int(input())\n",
    "dic = {}\n",
    "for _ in range(n):\n",
    "    l = input().split()\n",
    "    country = l[0]\n",
    "    cities = l[1:]\n",
    "    for city in cities:\n",
    "        dic[city] = country\n",
    "\n",
    "# print(dic)\n",
    "\n",
    "m = int(input())\n",
    "\n",
    "for _ in range(m):\n",
    "    print(dic[input()])"
   ],
   "metadata": {
    "collapsed": false
   },
   "id": "d916c074deece773"
  },
  {
   "cell_type": "code",
   "execution_count": null,
   "outputs": [],
   "source": [
    "d = {}\n",
    "for _ in range(int(input())):\n",
    "    country, *cities = input().split()\n",
    "    d.update(dict.fromkeys(cities, country))\n",
    "for _ in range(int(input())):\n",
    "    print(d[input()])"
   ],
   "metadata": {
    "collapsed": false
   },
   "id": "fb0169902f1962ee"
  },
  {
   "cell_type": "code",
   "execution_count": null,
   "outputs": [],
   "source": [
    "d = {}\n",
    "for i in range(int(input())):\n",
    "    l = input().split()\n",
    "    d[l[0]] = l[1:]\n",
    "\n",
    "for i in range(int(input())):\n",
    "    k = input()\n",
    "    for key, value in d.items():\n",
    "        if k in value:\n",
    "            print(key)"
   ],
   "metadata": {
    "collapsed": false
   },
   "id": "b7304d2e446796e8"
  },
  {
   "cell_type": "raw",
   "source": [
    "Тимур записал телефоны всех своих друзей, чтобы автоматизировать поиск нужного номера.\n",
    "\n",
    "У каждого из друзей Тимура может быть один или более телефонных номеров. Напишите программу, которая поможет Тимуру находить все номера определённого друга.\n",
    "\n",
    "Формат входных данных\n",
    "В первой строке задано одно целое число n — количество номеров телефонов, информацию о которых Тимур сохранил в телефонной книге. В следующих n строках заданы телефоны и имена их владельцев через пробел. В следующей строке записано целое число m — количество поисковых запросов от Тимура. В следующих m строках записаны сами запросы, по одному на строке. Каждый запрос — это имя друга, чьи телефоны Тимур хочет найти.\n",
    "\n",
    "Формат выходных данных\n",
    "Для каждого запроса от Тимура выведите в отдельной строке все телефоны, принадлежащие человеку с этим именем (независимо от регистра имени). Если в телефонной книге нет телефонов человека с таким именем, выведите в соответствующей строке «абонент не найден» (без кавычек).\n",
    "\n",
    "Примечание 1. Телефоны одного человека выводите в одну строку через пробел в том порядке, в каком они были заданы во входных данных.\n",
    "\n",
    "Примечание 2. Количество строк в ответе должно быть равно числу m.\n",
    "\n",
    "Примечание 3. Телефон — это несколько цифр, записанных подряд, а имя может состоять из букв русского или английского алфавита. Записи не повторяются."
   ],
   "metadata": {
    "collapsed": false
   },
   "id": "e6c85cda0f44f5a5"
  },
  {
   "cell_type": "code",
   "execution_count": null,
   "outputs": [],
   "source": [
    "dic = {}\n",
    "l = []\n",
    "for _ in range(int(input())):\n",
    "    number, friend = input().lower().split()\n",
    "    if friend in dic:\n",
    "        dic[friend].append(number)\n",
    "    else:\n",
    "        dic[friend] = [number]\n",
    "print(dic)\n",
    "m = int(input())\n",
    "for _ in range(m):\n",
    "    req = input().lower()\n",
    "    if req in dic.keys():\n",
    "        print(*dic[req])\n",
    "    else:\n",
    "        print('абонент не найден')"
   ],
   "metadata": {
    "collapsed": false
   },
   "id": "a81810daf36e0868"
  },
  {
   "cell_type": "code",
   "execution_count": null,
   "outputs": [],
   "source": [
    "# Создаем пустой словарь для хранения имен и номеров телефонов\n",
    "dct = {}\n",
    "\n",
    "# Считываем количество записей\n",
    "for _ in range(int(input(\"Введите количество записей: \"))):\n",
    "    # Считываем номер телефона и имя, переводя их в нижний регистр\n",
    "    phone, name = input(\"Введите номер и имя друга: \").lower().split()\n",
    "    # Используем метод setdefault для добавления номера телефона в список\n",
    "    # если данное имя уже существует в словаре, иначе создается новый список\n",
    "    dct.setdefault(name, []).append(phone)\n",
    "\n",
    "# Считываем количество запросов\n",
    "for _ in range(int(input(\"Введите количество запросов: \"))):\n",
    "    # Ищем запрашиваемое имя в словаре и выводим соответствующие номера\n",
    "    # Если имя не найдено, выводим сообщение 'абонент не найден'\n",
    "    print(*dct.get(input(\"Введите имя друга для запроса: \").lower(), ['абонент не найден']))"
   ],
   "metadata": {
    "collapsed": false
   },
   "id": "1d5925fb3a55e704"
  },
  {
   "cell_type": "raw",
   "source": [
    "Напишите программу для расшифровки секретного слова методом частотного анализа.\n",
    "\n",
    "Формат входных данных\n",
    "В первой строке задано зашифрованное слово. Во второй строке задано одно целое число n – количество букв в словаре. В следующих n строках записано, сколько раз конкретная буква алфавита встречается в этом слове – <буква>: <частота>.\n",
    "\n",
    "Формат выходных данных\n",
    "Программа должна вывести дешифрованное слово.\n",
    "\n",
    "Примечание. Гарантируется, что частоты букв не повторяются."
   ],
   "metadata": {
    "collapsed": false
   },
   "id": "337a00569df92ee5"
  },
  {
   "cell_type": "code",
   "execution_count": null,
   "outputs": [],
   "source": [
    "s = input()\n",
    "print(s)\n",
    "\n",
    "l = [i for i in s]\n",
    "print(l)\n",
    "\n",
    "dic = {}\n",
    "for i in s:\n",
    "    dic[i] = dic.get(i, 0) + 1 \n",
    "print(dic)\n",
    "\n",
    "for i in range(len(l)):\n",
    "    l[i] = dic[l[i]]    \n",
    "print(l)\n",
    "\n",
    "# # Меняем ключи и значения местами\n",
    "# swapped_dic = {value: key for key, value in dic.items()}\n",
    "# print(swapped_dic)\n",
    "\n",
    "req = [input().split(': ') for _ in range(int(input()))]\n",
    "print(req)\n",
    "\n",
    "dic1 = {int(value): key for key, value in req}\n",
    "print(dic1)\n",
    "\n",
    "for i in range(len(l)):\n",
    "    l[i] = dic1[l[i]]\n",
    "print(*l, sep='')"
   ],
   "metadata": {
    "collapsed": false
   },
   "id": "518768a5da9eb312"
  },
  {
   "cell_type": "code",
   "execution_count": null,
   "outputs": [],
   "source": [
    "dct, word = {}, {}\n",
    "s = input()\n",
    "for c in s:\n",
    "    word[c] = word.get(c, 0) + 1\n",
    "for _ in range(int(input())):\n",
    "    a, b = input().split(': ')\n",
    "    dct[int(b)] = a\n",
    "for c in s:\n",
    "    print(dct[word[c]], end='')"
   ],
   "metadata": {
    "collapsed": false
   },
   "id": "b7ece80ac1ea5d4a"
  }
 ],
 "metadata": {
  "kernelspec": {
   "display_name": "Python 3",
   "language": "python",
   "name": "python3"
  },
  "language_info": {
   "codemirror_mode": {
    "name": "ipython",
    "version": 2
   },
   "file_extension": ".py",
   "mimetype": "text/x-python",
   "name": "python",
   "nbconvert_exporter": "python",
   "pygments_lexer": "ipython2",
   "version": "2.7.6"
  }
 },
 "nbformat": 4,
 "nbformat_minor": 5
}
