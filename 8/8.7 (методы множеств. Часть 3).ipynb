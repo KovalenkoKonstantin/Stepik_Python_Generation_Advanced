{
 "cells": [
  {
   "cell_type": "markdown",
   "source": [
    "Подмножества и надмножества"
   ],
   "metadata": {
    "collapsed": false
   },
   "id": "f1c89b7425a6d153"
  },
  {
   "cell_type": "raw",
   "source": [
    "Напомним, что множество set1 является подмножеством множества set2, если все элементы первого входят во второе. При этом множество set2 – надмножество множества set1."
   ],
   "metadata": {
    "collapsed": false
   },
   "id": "2416f696a30a2bc9"
  },
  {
   "cell_type": "raw",
   "source": [
    "Любое множество – подмножество самого себя, про такое подмножество говорят \"нестрогое подмножество\"."
   ],
   "metadata": {
    "collapsed": false
   },
   "id": "f731e0bdde1b5ff2"
  },
  {
   "cell_type": "markdown",
   "source": [
    "Метод issubset()"
   ],
   "metadata": {
    "collapsed": false
   },
   "id": "19eda3ad67b7ab3e"
  },
  {
   "cell_type": "raw",
   "source": [
    "Для определения, является ли одно из множеств подмножеством другого, используется метод issubset(). Данный метод возвращает значение True, если одно множество является подмножеством другого, и False, если не является."
   ],
   "metadata": {
    "collapsed": false
   },
   "id": "f8fc3206e1386a7e"
  },
  {
   "cell_type": "code",
   "execution_count": 1,
   "outputs": [
    {
     "name": "stdout",
     "output_type": "stream",
     "text": [
      "True\n"
     ]
    }
   ],
   "source": [
    "set1 = {2, 3}\n",
    "set2 = {1, 2, 3, 4, 5, 6}\n",
    "\n",
    "print(set1.issubset(set2))"
   ],
   "metadata": {
    "collapsed": false,
    "ExecuteTime": {
     "end_time": "2024-07-22T13:05:47.190500800Z",
     "start_time": "2024-07-22T13:05:47.186183700Z"
    }
   },
   "id": "832f82988b131436"
  },
  {
   "cell_type": "raw",
   "source": [
    "Для определения, является ли одно из множеств подмножеством другого, также применяются операторы <= (нестрогое подмножество) и < (строгое подмножество)."
   ],
   "metadata": {
    "collapsed": false
   },
   "id": "5fd43375bc096156"
  },
  {
   "cell_type": "code",
   "execution_count": 2,
   "outputs": [
    {
     "name": "stdout",
     "output_type": "stream",
     "text": [
      "True\n"
     ]
    }
   ],
   "source": [
    "set1 = {2, 3}\n",
    "set2 = {1, 2, 3, 4, 5, 6}\n",
    "\n",
    "print(set1 <= set2)"
   ],
   "metadata": {
    "collapsed": false,
    "ExecuteTime": {
     "end_time": "2024-07-22T13:06:26.928321600Z",
     "start_time": "2024-07-22T13:06:26.921020300Z"
    }
   },
   "id": "d9c8a9a5b28c15ae"
  },
  {
   "cell_type": "raw",
   "source": [
    "Метод issuperset()"
   ],
   "metadata": {
    "collapsed": false
   },
   "id": "97afabd7c33c785d"
  },
  {
   "cell_type": "raw",
   "source": [
    "Для определения, является ли одно из множеств надмножеством другого, используется метод issuperset(). Данный метод возвращает значение True, если одно множество является надмножеством другого, в противном случае он возвращает False."
   ],
   "metadata": {
    "collapsed": false
   },
   "id": "3b32b0192d883e6d"
  },
  {
   "cell_type": "code",
   "execution_count": 3,
   "outputs": [
    {
     "name": "stdout",
     "output_type": "stream",
     "text": [
      "True\n"
     ]
    }
   ],
   "source": [
    "set1 = {'a', 'b', 'c', 'd', 'e'}\n",
    "set2 = {'c', 'e'}\n",
    "\n",
    "print(set1.issuperset(set2))"
   ],
   "metadata": {
    "collapsed": false,
    "ExecuteTime": {
     "end_time": "2024-07-22T13:06:58.184233Z",
     "start_time": "2024-07-22T13:06:58.177742300Z"
    }
   },
   "id": "d5be0ec46d759fbf"
  },
  {
   "cell_type": "raw",
   "source": [
    "Для определения, является ли одно из множеств надмножеством другого, также применяются операторы >= (нестрогое надмножество) и > (строгое надмножество)."
   ],
   "metadata": {
    "collapsed": false
   },
   "id": "631587d1ea24f828"
  },
  {
   "cell_type": "code",
   "execution_count": 4,
   "outputs": [
    {
     "name": "stdout",
     "output_type": "stream",
     "text": [
      "True\n"
     ]
    }
   ],
   "source": [
    "set1 = {'a', 'b', 'c', 'd', 'e'}\n",
    "set2 = {'c', 'e'}\n",
    "\n",
    "print(set1 >= set2)"
   ],
   "metadata": {
    "collapsed": false,
    "ExecuteTime": {
     "end_time": "2024-07-22T13:07:19.152228200Z",
     "start_time": "2024-07-22T13:07:19.144464900Z"
    }
   },
   "id": "d5ac6be884feac01"
  },
  {
   "cell_type": "markdown",
   "source": [
    "Метод isdisjoint()"
   ],
   "metadata": {
    "collapsed": false
   },
   "id": "50f7d14c5402609"
  },
  {
   "cell_type": "raw",
   "source": [
    "Для определения отсутствия общих элементов в множествах используется метод isdisjoint(). Данный метод возвращает значение True, если множества не имеют общих элементов, и  False, когда множества имеют общие элементы."
   ],
   "metadata": {
    "collapsed": false
   },
   "id": "c9e6ad0009a3d41a"
  },
  {
   "cell_type": "code",
   "execution_count": 5,
   "outputs": [
    {
     "name": "stdout",
     "output_type": "stream",
     "text": [
      "False\n",
      "True\n",
      "False\n"
     ]
    }
   ],
   "source": [
    "set1 = {1, 2, 3, 4, 5}\n",
    "set2 = {5, 6, 7}\n",
    "set3 = {7, 8, 9}\n",
    "\n",
    "print(set1.isdisjoint(set2))\n",
    "print(set1.isdisjoint(set3))\n",
    "print(set2.isdisjoint(set3))"
   ],
   "metadata": {
    "collapsed": false,
    "ExecuteTime": {
     "end_time": "2024-07-22T13:07:51.592831200Z",
     "start_time": "2024-07-22T13:07:51.584305800Z"
    }
   },
   "id": "818cdadcbf82a99e"
  },
  {
   "cell_type": "markdown",
   "source": [
    "Примечания"
   ],
   "metadata": {
    "collapsed": false
   },
   "id": "e01171888af01496"
  },
  {
   "cell_type": "raw",
   "source": [
    "Примечание 1. Методы issuperset(), issubset(), isdisjoint() могут принимать в качестве аргумента не только множество (тип данных set), но и любой итерируемый объект (список, строку, кортеж...). Сами же эти методы могут применяться только ко множеству (тип данных set) или замороженному множеству (тип данных frozenset).\n",
    "\n",
    "Примечание 2. Операторы >, <, >=, <= требуют наличия в качестве операндов множества.\n",
    "\n",
    "Примечание 3. Таблица соответствия методов и операторов над множествами"
   ],
   "metadata": {
    "collapsed": false
   },
   "id": "57cfcc27d28a6fc7"
  },
  {
   "cell_type": "raw",
   "source": [
    "set1 <= set2\n",
    "set1.issubset(set2)\n",
    "Возвращает True, если set1 является подмножеством set2\n",
    "set1 >= set2\n",
    "set1.issuperset(set2)\n",
    "Возвращает True, если set1 является надмножеством set2\n",
    "set1 < set2\n",
    "Эквивалентно set1 <= set2 and set1 != set2 (строгое подмножество)\n",
    "set1 > set2\n",
    "Эквивалентно set1 >= set2 and set1 != set2 (строгое надмножество)"
   ],
   "metadata": {
    "collapsed": false
   },
   "id": "6c3c1f526cf7a862"
  },
  {
   "cell_type": "code",
   "execution_count": 9,
   "outputs": [
    {
     "name": "stdout",
     "output_type": "stream",
     "text": [
      "{'k', 'b', 'g', 'e'}\n",
      "{'s', 'e', 't', 'g', 'i', 'b', 'p', 'k'}\n"
     ]
    }
   ],
   "source": [
    "word = 'beegeek'\n",
    "set1 = set(word * 3)\n",
    "print(set1)\n",
    "set2 = set(word[::-1] * 2 + 'stepik')\n",
    "print(set2)"
   ],
   "metadata": {
    "collapsed": false,
    "ExecuteTime": {
     "end_time": "2024-07-22T13:11:48.739813300Z",
     "start_time": "2024-07-22T13:11:48.736059200Z"
    }
   },
   "id": "c203bd359878377e"
  },
  {
   "cell_type": "code",
   "execution_count": 10,
   "outputs": [
    {
     "ename": "TypeError",
     "evalue": "'>=' not supported between instances of 'set' and 'list'",
     "output_type": "error",
     "traceback": [
      "\u001B[1;31m---------------------------------------------------------------------------\u001B[0m",
      "\u001B[1;31mTypeError\u001B[0m                                 Traceback (most recent call last)",
      "Cell \u001B[1;32mIn[10], line 4\u001B[0m\n\u001B[0;32m      1\u001B[0m set1 \u001B[38;5;241m=\u001B[39m {\u001B[38;5;124m'\u001B[39m\u001B[38;5;124mq\u001B[39m\u001B[38;5;124m'\u001B[39m, \u001B[38;5;124m'\u001B[39m\u001B[38;5;124mw\u001B[39m\u001B[38;5;124m'\u001B[39m, \u001B[38;5;124m'\u001B[39m\u001B[38;5;124me\u001B[39m\u001B[38;5;124m'\u001B[39m, \u001B[38;5;124m'\u001B[39m\u001B[38;5;124mr\u001B[39m\u001B[38;5;124m'\u001B[39m, \u001B[38;5;124m'\u001B[39m\u001B[38;5;124mt\u001B[39m\u001B[38;5;124m'\u001B[39m, \u001B[38;5;124m'\u001B[39m\u001B[38;5;124my\u001B[39m\u001B[38;5;124m'\u001B[39m}\n\u001B[0;32m      2\u001B[0m list1 \u001B[38;5;241m=\u001B[39m [\u001B[38;5;124m'\u001B[39m\u001B[38;5;124my\u001B[39m\u001B[38;5;124m'\u001B[39m, \u001B[38;5;124m'\u001B[39m\u001B[38;5;124mw\u001B[39m\u001B[38;5;124m'\u001B[39m, \u001B[38;5;124m'\u001B[39m\u001B[38;5;124mr\u001B[39m\u001B[38;5;124m'\u001B[39m]\n\u001B[1;32m----> 4\u001B[0m \u001B[38;5;28mprint\u001B[39m(\u001B[43mset1\u001B[49m\u001B[43m \u001B[49m\u001B[38;5;241;43m>\u001B[39;49m\u001B[38;5;241;43m=\u001B[39;49m\u001B[43m \u001B[49m\u001B[43mlist1\u001B[49m)\n",
      "\u001B[1;31mTypeError\u001B[0m: '>=' not supported between instances of 'set' and 'list'"
     ]
    }
   ],
   "source": [
    "set1 = {'q', 'w', 'e', 'r', 't', 'y'}\n",
    "list1 = ['y', 'w', 'r']\n",
    "\n",
    "print(set1 >= list1)"
   ],
   "metadata": {
    "collapsed": false,
    "ExecuteTime": {
     "end_time": "2024-07-22T13:13:42.333331600Z",
     "start_time": "2024-07-22T13:13:42.094962700Z"
    }
   },
   "id": "6bd7eb0777c000cc"
  },
  {
   "cell_type": "raw",
   "source": [
    "На вход программе подаются два числа. Напишите программу, определяющую, есть ли в данных числах одинаковые цифры.\n",
    "\n",
    "Формат входных данных\n",
    "На вход программе подаются два натуральных числа, каждое на отдельной строке.\n",
    "\n",
    "Формат выходных данных\n",
    "Программа должна вывести YES, если в записи данных чисел есть одинаковые цифры и NO если нет."
   ],
   "metadata": {
    "collapsed": false
   },
   "id": "f063081739909af7"
  },
  {
   "cell_type": "code",
   "execution_count": null,
   "outputs": [],
   "source": [
    "s1 = set(input())\n",
    "s2 = set(input())\n",
    "\n",
    "print('NO' if s1.isdisjoint(s2) else 'YES')"
   ],
   "metadata": {
    "collapsed": false
   },
   "id": "d5eac3651f738c82"
  },
  {
   "cell_type": "code",
   "execution_count": null,
   "outputs": [],
   "source": [
    "print('YNEOS'[set(input()).isdisjoint(input())::2])"
   ],
   "metadata": {
    "collapsed": false
   },
   "id": "274c5f5e96ea7304"
  },
  {
   "cell_type": "raw",
   "source": [
    "На вход программе подаются два числа. Напишите программу, которая определяет, входят ли в запись первого числа все цифры, содержащиеся в записи второго (независимо от повтора, то есть количества цифр) числа или нет.\n",
    "\n",
    "Формат входных данных\n",
    "На вход программе подаются два натуральных числа, каждое на отдельной строке.\n",
    "\n",
    "Формат выходных данных\n",
    "Программа должна вывести YES, если в запись первого числа входят все цифры, содержащиеся в записи второго числа и NO в противном случае."
   ],
   "metadata": {
    "collapsed": false
   },
   "id": "1d3f9dc04631b63b"
  },
  {
   "cell_type": "code",
   "execution_count": null,
   "outputs": [],
   "source": [
    "s1 = set(input())\n",
    "s2 = set(input())\n",
    "\n",
    "print('YES' if s1.issuperset(s2) else 'NO')"
   ],
   "metadata": {
    "collapsed": false
   },
   "id": "c7c4361496c943f0"
  },
  {
   "cell_type": "raw",
   "source": [
    "Даны по 10-балльной шкале оценки по информатике трех учеников. Напишите программу, выводящую множество оценок, которые есть и у первого, и у второго учеников, но которых нет у третьего ученика.\n",
    "\n",
    "Формат входных данных\n",
    "На вход программе подаются оценки трех учеников, разделенные символом пробела (оценки каждого ученика на отдельной строке).\n",
    "\n",
    "Формат выходных данных\n",
    "Программа должна вывести множество оценок в порядке убывания на одной строке, разделенных пробелами, в соответствии с условием задачи.\n",
    "\n",
    "Примечание. Оценка ученика находится в диапазоне от 0 до 10 включительно."
   ],
   "metadata": {
    "collapsed": false
   },
   "id": "9b08939f9b2dca9a"
  },
  {
   "cell_type": "code",
   "execution_count": null,
   "outputs": [],
   "source": [
    "s1 = set(input().split())\n",
    "s1 = {int(i) for i in s1}\n",
    "s2 = set(input().split())\n",
    "s2 = {int(i) for i in s2}\n",
    "s3 = set(input().split())\n",
    "s3 = {int(i) for i in s3}\n",
    "\n",
    "result = s1.intersection(s2).difference(s3)\n",
    "print(*sorted(result, reverse=True))"
   ],
   "metadata": {
    "collapsed": false
   },
   "id": "f0c8cbba932ff00b"
  },
  {
   "cell_type": "raw",
   "source": [
    "Даны оценки по математике трёх учеников в 10-балльной шкале. Напишите программу, которая выводит такие оценки, которые встречаются не более, чем у двух учеников.\n",
    "\n",
    "Формат входных данных\n",
    "На вход программе подаются оценки трех учеников, разделенные символом пробела (оценки каждого ученика на отдельной строке).\n",
    "\n",
    "Формат выходных данных\n",
    "Программа должна вывести множество оценок в порядке возрастания на одной строке, разделенных пробелами, в соответствии с условием задачи.\n",
    "\n",
    "Примечание. Оценка ученика находится в диапазоне от 0 до 10 включительно."
   ],
   "metadata": {
    "collapsed": false
   },
   "id": "cd3d157742948fb2"
  },
  {
   "cell_type": "code",
   "execution_count": null,
   "outputs": [],
   "source": [
    "s1 = set(input().split())\n",
    "s1 = {int(i) for i in s1}\n",
    "s2 = set(input().split())\n",
    "s2 = {int(i) for i in s2}\n",
    "s3 = set(input().split())\n",
    "s3 = {int(i) for i in s3}\n",
    "\n",
    "result = s1.union(s2).union(s3) - s1.intersection(s2).intersection(s3)\n",
    "print(*sorted(result))"
   ],
   "metadata": {
    "collapsed": false
   },
   "id": "c650e117d757b365"
  },
  {
   "cell_type": "raw",
   "source": [
    "Даны по 10-балльной шкале оценки по физике трех учеников. Напишите программу, которая выводит множество оценок третьего ученика, которые не встречаются ни у первого, ни у второго ученика.\n",
    "\n",
    "Формат входных данных\n",
    "На вход программе подаются оценки трех учеников, разделенные символом пробела (оценки каждого ученика на отдельной строке).\n",
    "\n",
    "Формат выходных данных\n",
    "Программа должна вывести множество оценок в порядке убывания на одной строке, разделенных пробелами, в соответствии с условием задачи.\n",
    "\n",
    "Примечание. Оценка ученика находится в диапазоне от 0 до 10 включительно."
   ],
   "metadata": {
    "collapsed": false
   },
   "id": "6c620578e3756f8"
  },
  {
   "cell_type": "code",
   "execution_count": null,
   "outputs": [],
   "source": [
    "s1 = set(input().split())\n",
    "s1 = {int(i) for i in s1}\n",
    "s2 = set(input().split())\n",
    "s2 = {int(i) for i in s2}\n",
    "s3 = set(input().split())\n",
    "s3 = {int(i) for i in s3}\n",
    "\n",
    "result = s3.difference(s1, s2)\n",
    "print(*sorted(result, reverse=True))"
   ],
   "metadata": {
    "collapsed": false
   },
   "id": "19de28ea20a9548"
  },
  {
   "cell_type": "raw",
   "source": [
    "Даны по 10-балльной шкале оценки по биологии трех учеников. Напишите программу, которая выводит множество оценок, не встречающихся ни у одного из трех учеников.\n",
    "\n",
    "Формат входных данных\n",
    "На вход программе подаются оценки трех учеников, разделенные символом пробела (оценки каждого ученика на отдельной строке).\n",
    "\n",
    "Формат выходных данных\n",
    "Программа должна вывести множество оценок в порядке возрастания на одной строке, разделенных пробелами, в соответствии с условием задачи.\n",
    "\n",
    "Примечание. Оценка ученика находится в диапазоне от 0 до 10 включительно."
   ],
   "metadata": {
    "collapsed": false
   },
   "id": "18c86c842ce6dead"
  },
  {
   "cell_type": "code",
   "execution_count": null,
   "outputs": [],
   "source": [
    "s1 = set(input().split())\n",
    "s1 = {int(i) for i in s1}\n",
    "s2 = set(input().split())\n",
    "s2 = {int(i) for i in s2}\n",
    "s3 = set(input().split())\n",
    "s3 = {int(i) for i in s3}\n",
    "s0 = {0,1,2,3,4,5,6,7,8,9,10}\n",
    "\n",
    "result = s0.difference(s1, s2, s3)\n",
    "print(*sorted(result))"
   ],
   "metadata": {
    "collapsed": false
   },
   "id": "625e9dc0ac1c5c50"
  }
 ],
 "metadata": {
  "kernelspec": {
   "display_name": "Python 3",
   "language": "python",
   "name": "python3"
  },
  "language_info": {
   "codemirror_mode": {
    "name": "ipython",
    "version": 2
   },
   "file_extension": ".py",
   "mimetype": "text/x-python",
   "name": "python",
   "nbconvert_exporter": "python",
   "pygments_lexer": "ipython2",
   "version": "2.7.6"
  }
 },
 "nbformat": 4,
 "nbformat_minor": 5
}
