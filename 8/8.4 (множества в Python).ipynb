{
 "cells": [
  {
   "cell_type": "markdown",
   "source": [
    "Основы работы с множествами"
   ],
   "metadata": {
    "collapsed": false
   },
   "id": "8801cd9fc5376ee2"
  },
  {
   "cell_type": "raw",
   "source": [
    "Работа с множествами очень сильно напоминает работу со списками, поскольку и множества, и списки содержат отдельные элементы, хотя элементы множества уникальны, а списки могут содержать повторяющиеся элементы. Многое из того, что мы делали со списками, доступно и при работе со множествами."
   ],
   "metadata": {
    "collapsed": false
   },
   "id": "bd87defadb684b96"
  },
  {
   "cell_type": "markdown",
   "source": [
    "Функция len()"
   ],
   "metadata": {
    "collapsed": false
   },
   "id": "e9f058ad3b0dc282"
  },
  {
   "cell_type": "raw",
   "source": [
    "Длиной множества называется количество его элементов. Чтобы посчитать длину множества, используют встроенную функцию len() (от слова length – длина)."
   ],
   "metadata": {
    "collapsed": false
   },
   "id": "6a918bf4801e250b"
  },
  {
   "cell_type": "code",
   "execution_count": 1,
   "outputs": [
    {
     "name": "stdout",
     "output_type": "stream",
     "text": [
      "3\n",
      "5\n",
      "4\n"
     ]
    }
   ],
   "source": [
    "myset1 = {2, 2, 4, 6, 6}\n",
    "myset2 = set([1, 2, 2, 3, 3, 4, 4, 5, 5])\n",
    "myset3 = set('aaaaabbbbccccddd')\n",
    "\n",
    "print(len(myset1))\n",
    "print(len(myset2))\n",
    "print(len(myset3))"
   ],
   "metadata": {
    "collapsed": false,
    "ExecuteTime": {
     "end_time": "2024-07-17T11:47:33.170245200Z",
     "start_time": "2024-07-17T11:47:33.165153500Z"
    }
   },
   "id": "63815fe82d0367b9"
  },
  {
   "cell_type": "markdown",
   "source": [
    "Оператор принадлежности in"
   ],
   "metadata": {
    "collapsed": false
   },
   "id": "87a156001e461e8f"
  },
  {
   "cell_type": "raw",
   "source": [
    "Оператор in позволяет проверить, содержит ли множество некоторый элемент."
   ],
   "metadata": {
    "collapsed": false
   },
   "id": "972035f508ac321f"
  },
  {
   "cell_type": "code",
   "execution_count": 2,
   "outputs": [
    {
     "name": "stdout",
     "output_type": "stream",
     "text": [
      "Множество numbers содержит число 2\n"
     ]
    }
   ],
   "source": [
    "numbers = {2, 4, 6, 8, 10}\n",
    "\n",
    "if 2 in numbers:\n",
    "    print('Множество numbers содержит число 2')\n",
    "else:\n",
    "    print('Множество numbers не содержит число 2')"
   ],
   "metadata": {
    "collapsed": false,
    "ExecuteTime": {
     "end_time": "2024-07-17T11:47:56.205687700Z",
     "start_time": "2024-07-17T11:47:56.200027500Z"
    }
   },
   "id": "8431c5ae7166b5b0"
  },
  {
   "cell_type": "raw",
   "source": [
    "Мы можем использовать оператор in вместе с логическим оператором not"
   ],
   "metadata": {
    "collapsed": false
   },
   "id": "60764cb7ecba25e"
  },
  {
   "cell_type": "code",
   "execution_count": 3,
   "outputs": [
    {
     "name": "stdout",
     "output_type": "stream",
     "text": [
      "Множество numbers не содержит нулей\n"
     ]
    }
   ],
   "source": [
    "numbers = {2, 4, 6, 8, 10}\n",
    "\n",
    "if 0 not in numbers:\n",
    "    print('Множество numbers не содержит нулей')"
   ],
   "metadata": {
    "collapsed": false,
    "ExecuteTime": {
     "end_time": "2024-07-17T11:48:17.625408200Z",
     "start_time": "2024-07-17T11:48:17.617911100Z"
    }
   },
   "id": "fd9922bc873434db"
  },
  {
   "cell_type": "raw",
   "source": [
    "Оператор принадлежности in работает очень быстро на множествах – намного быстрее, чем на списках. Поэтому если требуется часто осуществлять поиск в коллекции уникальных данных, то множество – подходящий выбор."
   ],
   "metadata": {
    "collapsed": false
   },
   "id": "abc807f3a0d9a9af"
  },
  {
   "cell_type": "markdown",
   "source": [
    "Встроенные функции sum(), min(), max()"
   ],
   "metadata": {
    "collapsed": false
   },
   "id": "5273ee98115acd51"
  },
  {
   "cell_type": "raw",
   "source": [
    "Встроенная функция sum() принимает в качестве аргумента множество чисел и вычисляет сумму его элементов."
   ],
   "metadata": {
    "collapsed": false
   },
   "id": "4fad151ebbe5b785"
  },
  {
   "cell_type": "code",
   "execution_count": 4,
   "outputs": [
    {
     "name": "stdout",
     "output_type": "stream",
     "text": [
      "Сумма всех элементов множества = 12\n"
     ]
    }
   ],
   "source": [
    "numbers = {2, 2, 4, 6, 6}\n",
    "print('Сумма всех элементов множества =', sum(numbers))"
   ],
   "metadata": {
    "collapsed": false,
    "ExecuteTime": {
     "end_time": "2024-07-17T11:49:07.503223100Z",
     "start_time": "2024-07-17T11:49:07.496721100Z"
    }
   },
   "id": "25fca896fe708f25"
  },
  {
   "cell_type": "raw",
   "source": [
    "Встроенные функции min() и max() принимают в качестве аргумента множество и находят минимальный и максимальный элементы соответственно."
   ],
   "metadata": {
    "collapsed": false
   },
   "id": "76dc1e3fa3ea5500"
  },
  {
   "cell_type": "code",
   "execution_count": 5,
   "outputs": [
    {
     "name": "stdout",
     "output_type": "stream",
     "text": [
      "Минимальный элемент = 2\n",
      "Максимальный элемент = 6\n"
     ]
    }
   ],
   "source": [
    "numbers = {2, 2, 4, 6, 6}\n",
    "print('Минимальный элемент =', min(numbers))\n",
    "print('Максимальный элемент =', max(numbers))"
   ],
   "metadata": {
    "collapsed": false,
    "ExecuteTime": {
     "end_time": "2024-07-17T11:49:23.642121Z",
     "start_time": "2024-07-17T11:49:23.635142200Z"
    }
   },
   "id": "9cc7552ca0d314a7"
  },
  {
   "cell_type": "markdown",
   "source": [
    "Примечания"
   ],
   "metadata": {
    "collapsed": false
   },
   "id": "18df3d45bc824fef"
  },
  {
   "cell_type": "raw",
   "source": [
    "Примечание 1. Индексация и срезы недоступны для множеств.\n",
    "\n",
    "Примечание 2. Операция конкатенации + и умножения на число * недоступны для множеств."
   ],
   "metadata": {
    "collapsed": false
   },
   "id": "e1a48e074b2b40fc"
  },
  {
   "cell_type": "code",
   "execution_count": 6,
   "outputs": [
    {
     "name": "stdout",
     "output_type": "stream",
     "text": [
      "4\n"
     ]
    }
   ],
   "source": [
    "myset = set([1, 2, 2, 3, 4, 4, 4])\n",
    "print(len(myset))"
   ],
   "metadata": {
    "collapsed": false,
    "ExecuteTime": {
     "end_time": "2024-07-17T11:50:22.632034300Z",
     "start_time": "2024-07-17T11:50:22.625540900Z"
    }
   },
   "id": "ece5defeffd941cd"
  },
  {
   "cell_type": "code",
   "execution_count": 8,
   "outputs": [
    {
     "name": "stdout",
     "output_type": "stream",
     "text": [
      "6\n"
     ]
    }
   ],
   "source": [
    "print(len(set(input())))"
   ],
   "metadata": {
    "collapsed": false,
    "ExecuteTime": {
     "end_time": "2024-07-17T11:51:30.701120800Z",
     "start_time": "2024-07-17T11:51:29.022547200Z"
    }
   },
   "id": "45fe020d648ece31"
  },
  {
   "cell_type": "markdown",
   "source": [
    "Дополните приведенный код так, чтобы он вывел сумму минимального и максимального элементов множества numbers."
   ],
   "metadata": {
    "collapsed": false
   },
   "id": "286545b2ce015b25"
  },
  {
   "cell_type": "code",
   "execution_count": 14,
   "outputs": [
    {
     "name": "stdout",
     "output_type": "stream",
     "text": [
      "13.6618\n",
      "13.6618\n",
      "13.6618\n"
     ]
    }
   ],
   "source": [
    "numbers = {1.414, 12.5, 3.1415, 2.718, 9.8, 1.414, 1.1618, 1.324, 2.718, 1.324}\n",
    "\n",
    "print(max(numbers)+ min(numbers))\n",
    "print(sum((max(numbers), min(numbers))))\n",
    "print(sum({min(numbers), max(numbers)}))"
   ],
   "metadata": {
    "collapsed": false,
    "ExecuteTime": {
     "end_time": "2024-07-17T11:54:38.586517100Z",
     "start_time": "2024-07-17T11:54:38.575158Z"
    }
   },
   "id": "f16e0429f231c7bb"
  },
  {
   "cell_type": "raw",
   "source": [
    "Дополните приведенный код, чтобы он вывел среднее арифметическое элементов множества numbers."
   ],
   "metadata": {
    "collapsed": false
   },
   "id": "f884862437d617a7"
  },
  {
   "cell_type": "code",
   "execution_count": 17,
   "outputs": [
    {
     "name": "stdout",
     "output_type": "stream",
     "text": [
      "11.0\n"
     ]
    }
   ],
   "source": [
    "import numpy as np\n",
    "numbers = {20, 6, 8, 18, 18, 2, 4, 6, 8, 10, 12, 14, 16, 18, 20, 12, 8, 8, 10, 4, 2, 2, 2, 16, 20}\n",
    "\n",
    "# Преобразуем множество в список\n",
    "numbers_list = list(numbers)\n",
    "\n",
    "average = np.average(numbers_list)\n",
    "\n",
    "print(average)"
   ],
   "metadata": {
    "collapsed": false,
    "ExecuteTime": {
     "end_time": "2024-07-17T12:24:00.050928500Z",
     "start_time": "2024-07-17T12:24:00.039806400Z"
    }
   },
   "id": "945318ee3588dac3"
  },
  {
   "cell_type": "code",
   "execution_count": 18,
   "outputs": [
    {
     "name": "stdout",
     "output_type": "stream",
     "text": [
      "11.0\n"
     ]
    }
   ],
   "source": [
    "import statistics as st\n",
    "\n",
    "numbers = {20, 6, 8, 18, 18, 2, 4, 6, 8, 10, 12, 14, 16, 18, 20, 12, 8, 8, 10, 4, 2, 2, 2, 16, 20}\n",
    "\n",
    "average = st.mean(numbers)\n",
    "\n",
    "print(float(average))"
   ],
   "metadata": {
    "collapsed": false,
    "ExecuteTime": {
     "end_time": "2024-07-17T12:25:53.740112Z",
     "start_time": "2024-07-17T12:25:53.725205500Z"
    }
   },
   "id": "348900ad885faf1"
  },
  {
   "cell_type": "markdown",
   "source": [
    "Перебор элементов множества"
   ],
   "metadata": {
    "collapsed": false
   },
   "id": "458d3ea8ee9899ff"
  },
  {
   "cell_type": "raw",
   "source": [
    "Перебор элементов множества осуществляется точно так же, как и перебор элементов списка, то есть с помощью цикла for.\n",
    "\n",
    "Для вывода элементов множества каждого на отдельной строке можно использовать следующий код:"
   ],
   "metadata": {
    "collapsed": false
   },
   "id": "5b7c70c027a302d"
  },
  {
   "cell_type": "code",
   "execution_count": 19,
   "outputs": [
    {
     "name": "stdout",
     "output_type": "stream",
     "text": [
      "0\n",
      "1\n",
      "2\n",
      "3\n",
      "5\n",
      "6\n",
      "7\n"
     ]
    }
   ],
   "source": [
    "numbers = {0, 1, 1, 2, 3, 3, 3, 5, 6, 7, 7}\n",
    "\n",
    "for num in numbers:\n",
    "    print(num)"
   ],
   "metadata": {
    "collapsed": false,
    "ExecuteTime": {
     "end_time": "2024-07-17T12:26:52.047616300Z",
     "start_time": "2024-07-17T12:26:52.045111500Z"
    }
   },
   "id": "ecb3919bfef77e5e"
  },
  {
   "cell_type": "raw",
   "source": [
    "Мы также можем использовать операцию распаковки множества."
   ],
   "metadata": {
    "collapsed": false
   },
   "id": "dcae29cbb33aab3b"
  },
  {
   "cell_type": "code",
   "execution_count": 20,
   "outputs": [
    {
     "name": "stdout",
     "output_type": "stream",
     "text": [
      "0\n",
      "1\n",
      "2\n",
      "3\n",
      "5\n",
      "6\n",
      "7\n"
     ]
    }
   ],
   "source": [
    "numbers = {0, 1, 1, 2, 3, 3, 3, 5, 6, 7, 7}\n",
    "\n",
    "print(*numbers, sep='\\n')"
   ],
   "metadata": {
    "collapsed": false,
    "ExecuteTime": {
     "end_time": "2024-07-17T12:27:18.405753900Z",
     "start_time": "2024-07-17T12:27:18.396258700Z"
    }
   },
   "id": "c6385ee215851d87"
  },
  {
   "cell_type": "raw",
   "source": [
    "Не стоит забывать, что множества – неупорядоченные коллекции, поэтому полагаться на порядок вывода элементов не стоит. Если нужно гарантировать порядок вывода элементов (по возрастанию/убыванию), то необходимо воспользоваться встроенной функцией sorted()."
   ],
   "metadata": {
    "collapsed": false
   },
   "id": "456712d95dee42d9"
  },
  {
   "cell_type": "code",
   "execution_count": 21,
   "outputs": [
    {
     "name": "stdout",
     "output_type": "stream",
     "text": [
      "0\n",
      "1\n",
      "2\n",
      "3\n",
      "5\n",
      "6\n",
      "7\n"
     ]
    }
   ],
   "source": [
    "numbers = {0, 1, 1, 2, 3, 3, 3, 5, 6, 7, 7}\n",
    "\n",
    "sorted_numbers = sorted(numbers)\n",
    "print(*sorted_numbers, sep='\\n')"
   ],
   "metadata": {
    "collapsed": false,
    "ExecuteTime": {
     "end_time": "2024-07-17T12:27:42.387573700Z",
     "start_time": "2024-07-17T12:27:42.379013400Z"
    }
   },
   "id": "e54b876d9540da75"
  },
  {
   "cell_type": "raw",
   "source": [
    "Обратите внимание на то, что функция sorted() возвращает отсортированный список, а не множество. Не путайте встроенную функцию sorted() и списочный метод sort(). Множества не содержат метода sort()."
   ],
   "metadata": {
    "collapsed": false
   },
   "id": "22916b91732c24ca"
  },
  {
   "cell_type": "code",
   "execution_count": 23,
   "outputs": [
    {
     "name": "stdout",
     "output_type": "stream",
     "text": [
      "<class 'list'>\n"
     ]
    }
   ],
   "source": [
    "print(type(sorted_numbers))"
   ],
   "metadata": {
    "collapsed": false,
    "ExecuteTime": {
     "end_time": "2024-07-17T12:29:30.060628100Z",
     "start_time": "2024-07-17T12:29:30.058128200Z"
    }
   },
   "id": "2cf6cc3d966960af"
  },
  {
   "cell_type": "markdown",
   "source": [
    "Сравнение множеств"
   ],
   "metadata": {
    "collapsed": false
   },
   "id": "caf52762dcc7b62a"
  },
  {
   "cell_type": "raw",
   "source": [
    "Множества можно сравнивать между собой. Равные множества имеют одинаковую длину и содержат равные элементы. Для сравнения множеств используются операторы == и !=."
   ],
   "metadata": {
    "collapsed": false
   },
   "id": "10a2fa422d892b2a"
  },
  {
   "cell_type": "code",
   "execution_count": 22,
   "outputs": [
    {
     "name": "stdout",
     "output_type": "stream",
     "text": [
      "True\n",
      "False\n",
      "True\n"
     ]
    }
   ],
   "source": [
    "myset1 = {1, 2, 3, 3, 3, 3}\n",
    "myset2 = {2, 1, 3}\n",
    "myset3 = {1, 2, 3, 4}\n",
    "\n",
    "print(myset1 == myset2)\n",
    "print(myset1 == myset3)\n",
    "print(myset1 != myset3)"
   ],
   "metadata": {
    "collapsed": false,
    "ExecuteTime": {
     "end_time": "2024-07-17T12:28:36.116457900Z",
     "start_time": "2024-07-17T12:28:36.106975700Z"
    }
   },
   "id": "636716b277cdf43e"
  },
  {
   "cell_type": "markdown",
   "source": [
    "Примечания"
   ],
   "metadata": {
    "collapsed": false
   },
   "id": "35dab747b07756a2"
  },
  {
   "cell_type": "raw",
   "source": [
    "Примечание 1. Встроенная функция sorted() имеет опциональный параметр reverse. Если установить этот параметр в значение True, произойдет сортировка по убыванию."
   ],
   "metadata": {
    "collapsed": false
   },
   "id": "d5dcab4651b7e046"
  },
  {
   "cell_type": "code",
   "execution_count": 24,
   "outputs": [
    {
     "name": "stdout",
     "output_type": "stream",
     "text": [
      "7\n",
      "6\n",
      "5\n",
      "3\n",
      "2\n",
      "1\n",
      "0\n"
     ]
    }
   ],
   "source": [
    "numbers = {0, 1, 1, 2, 3, 3, 3, 5, 6, 7, 7}\n",
    "\n",
    "sortnumbers = sorted(numbers, reverse=True)\n",
    "print(*sortnumbers, sep='\\n')"
   ],
   "metadata": {
    "collapsed": false,
    "ExecuteTime": {
     "end_time": "2024-07-17T12:29:42.032355400Z",
     "start_time": "2024-07-17T12:29:42.011764500Z"
    }
   },
   "id": "c68693f480b30e95"
  },
  {
   "cell_type": "raw",
   "source": [
    "Примечание 2. Код для работы с множествами нужно писать так, чтобы результат его выполнения не зависел от расположения элементов и был одинаковым при любом порядке обхода, последовательного обращения ко всем элементам. "
   ],
   "metadata": {
    "collapsed": false
   },
   "id": "f2e98ffd811255e7"
  },
  {
   "cell_type": "code",
   "execution_count": 27,
   "outputs": [
    {
     "data": {
      "text/plain": "{1, 2, 3, 4, 5}"
     },
     "execution_count": 27,
     "metadata": {},
     "output_type": "execute_result"
    }
   ],
   "source": [
    "myset1 = set([1, 2, 3, 4, 5])\n",
    "myset1"
   ],
   "metadata": {
    "collapsed": false,
    "ExecuteTime": {
     "end_time": "2024-07-17T12:31:17.912877900Z",
     "start_time": "2024-07-17T12:31:17.905887100Z"
    }
   },
   "id": "83f10f3cef83be95"
  },
  {
   "cell_type": "code",
   "execution_count": 28,
   "outputs": [
    {
     "data": {
      "text/plain": "{'1', '2', '3', '4', '5'}"
     },
     "execution_count": 28,
     "metadata": {},
     "output_type": "execute_result"
    }
   ],
   "source": [
    "myset2 = set(\"12345\")\n",
    "myset2"
   ],
   "metadata": {
    "collapsed": false,
    "ExecuteTime": {
     "end_time": "2024-07-17T12:31:35.138674300Z",
     "start_time": "2024-07-17T12:31:35.136Z"
    }
   },
   "id": "c28b40429297d904"
  },
  {
   "cell_type": "raw",
   "source": [
    "Дополните приведенный код, чтобы он вывел сумму квадратов элементов множества numbers."
   ],
   "metadata": {
    "collapsed": false
   },
   "id": "f1fc39cbc3e9fd70"
  },
  {
   "cell_type": "code",
   "execution_count": 43,
   "outputs": [
    {
     "name": "stdout",
     "output_type": "stream",
     "text": [
      "82649673\n"
     ]
    }
   ],
   "source": [
    "numbers = {9089, -67, -32, 1, 78, 23, -65, 99, 9089, 34, -32, 0, -67, 1, 11, 111, 111, 1, 23}\n",
    "list_numbers = list(numbers)\n",
    "res = 0\n",
    "for el in list_numbers:\n",
    "        res += el**2\n",
    "    \n",
    "print(res)"
   ],
   "metadata": {
    "collapsed": false,
    "ExecuteTime": {
     "end_time": "2024-07-17T12:42:14.697258900Z",
     "start_time": "2024-07-17T12:42:14.694756700Z"
    }
   },
   "id": "49d21cbbb55c47d0"
  },
  {
   "cell_type": "code",
   "execution_count": 45,
   "outputs": [
    {
     "name": "stdout",
     "output_type": "stream",
     "text": [
      "82649672\n"
     ]
    }
   ],
   "source": [
    "numbers = {9089, -67, -32, 1, 78, 23, -65, 99, 9089, 34, -32, 0, -67, 1, 11, 111, 111, 1, 23}\n",
    "\n",
    "square_sum = 0\n",
    "for el in numbers:\n",
    "    square_sum += el ** 2\n",
    "    \n",
    "print(square_sum)"
   ],
   "metadata": {
    "collapsed": false,
    "ExecuteTime": {
     "end_time": "2024-07-17T12:43:37.079612700Z",
     "start_time": "2024-07-17T12:43:37.052571700Z"
    }
   },
   "id": "d842dbb95c35edab"
  },
  {
   "cell_type": "raw",
   "source": [
    "Дополните приведенный код, чтобы он вывел элементы множества fruits, каждый на отдельной строке, отсортированные по убыванию (в обратном лексикографическом порядке).\n",
    "\n",
    "Примечание. Выводите каждый элемент множества на отдельной строке."
   ],
   "metadata": {
    "collapsed": false
   },
   "id": "fa4e9ae8abf505e7"
  },
  {
   "cell_type": "code",
   "execution_count": 46,
   "outputs": [
    {
     "name": "stdout",
     "output_type": "stream",
     "text": [
      "pineapple\n",
      "grapefruit\n",
      "cherry\n",
      "banana\n",
      "avocado\n",
      "apricot\n",
      "apple\n"
     ]
    }
   ],
   "source": [
    "fruits = {'apple', 'banana', 'cherry', 'avocado', 'pineapple', 'apricot', 'banana', 'avocado', 'grapefruit'}\n",
    "sortfruits = sorted(fruits, reverse=True)\n",
    "print(*sortfruits, sep='\\n')"
   ],
   "metadata": {
    "collapsed": false,
    "ExecuteTime": {
     "end_time": "2024-07-17T12:44:38.909979900Z",
     "start_time": "2024-07-17T12:44:38.907976200Z"
    }
   },
   "id": "fd8a5d76b0a860ea"
  },
  {
   "cell_type": "raw",
   "source": [
    "На вход программе подается строка текста. Напишите программу, которая определяет количество различных символов в строке.\n",
    "\n",
    "Формат входных данных\n",
    "На вход программе подается строка текста.\n",
    "\n",
    "Формат выходных данных\n",
    "Программа должна вывести количество различных символов в строке.\n",
    "\n",
    "Примечание. Задачу можно решить в одну строчку кода."
   ],
   "metadata": {
    "collapsed": false
   },
   "id": "b4134a5bedf71e3d"
  },
  {
   "cell_type": "code",
   "execution_count": null,
   "outputs": [],
   "source": [
    "print(len(set(input())))"
   ],
   "metadata": {
    "collapsed": false
   },
   "id": "6175b9e7781338bd"
  },
  {
   "cell_type": "raw",
   "source": [
    "На вход программе подается строка, состоящая из цифр. Необходимо определить, верно ли, что в ее записи ни одна из цифр не повторяется?\n",
    "\n",
    "Формат входных данных\n",
    "На вход программе подается строка, состоящая из цифр\n",
    "\n",
    "Формат выходных данных\n",
    "Программа должна вывести YES если ни одна из цифр в строке не повторяется и NO в противном случае."
   ],
   "metadata": {
    "collapsed": false
   },
   "id": "967eafa62e0dfdaa"
  },
  {
   "cell_type": "code",
   "execution_count": 47,
   "outputs": [
    {
     "name": "stdout",
     "output_type": "stream",
     "text": [
      "NO\n"
     ]
    }
   ],
   "source": [
    "print((lambda x: 'YES' if len(set(x)) == len(x) else 'NO')(input()))"
   ],
   "metadata": {
    "collapsed": false,
    "ExecuteTime": {
     "end_time": "2024-07-17T13:51:55.509676600Z",
     "start_time": "2024-07-17T13:51:51.470207300Z"
    }
   },
   "id": "53594a063d054bf5"
  },
  {
   "cell_type": "raw",
   "source": [
    "На вход программе подаются две строки, состоящие из цифр. Необходимо определить, верно ли, что в записи этих двух строк используются все десять цифр?\n",
    "\n",
    "Формат входных данных\n",
    "На вход подаются две строки, состоящие из цифр.\n",
    "\n",
    "Формат выходных данных\n",
    "Программа должна вывести YES, если в записи этих двух строк используются все десять цифр, и NO в противном случае."
   ],
   "metadata": {
    "collapsed": false
   },
   "id": "ac6970c64e60fcae"
  },
  {
   "cell_type": "code",
   "execution_count": null,
   "outputs": [],
   "source": [
    "s = input() + input()\n",
    "\n",
    "print('YES' if len(set(s)) == 10 else 'NO')"
   ],
   "metadata": {
    "collapsed": false
   },
   "id": "8571181a144a4cba"
  },
  {
   "cell_type": "code",
   "execution_count": null,
   "outputs": [],
   "source": [
    "print(('NO', 'YES')[len(set(input() + input())) == 10])"
   ],
   "metadata": {
    "collapsed": false
   },
   "id": "7e04a7868d96763b"
  },
  {
   "cell_type": "raw",
   "source": [
    "На вход программе подаются две строки, состоящие из цифр. Необходимо определить, верно ли, что для записи этих строк были использованы одинаковые наборы цифр?\n",
    "\n",
    "Формат входных данных\n",
    "На вход подаются две строки, состоящие из цифр.\n",
    "\n",
    "Формат выходных данных\n",
    "Программа должна вывести YES, если для записи этих строк были использованы одинаковые наборы цифр и NO, в противном случае."
   ],
   "metadata": {
    "collapsed": false
   },
   "id": "92034d35a5201828"
  },
  {
   "cell_type": "code",
   "execution_count": null,
   "outputs": [],
   "source": [
    "print('YES' if set(input()) == set(input()) else 'NO')"
   ],
   "metadata": {
    "collapsed": false
   },
   "id": "b1ec53caa6026f19"
  },
  {
   "cell_type": "code",
   "execution_count": null,
   "outputs": [],
   "source": [
    "print(['NO', 'YES'][set(input()) == set(input())])\n",
    "# это обращение к списку. True - это логическая единица, False - логический ноль. Т.е. если числа содержат одинаковый набор цифр, то выражение set(input()) == set(input()) возвращает True и получаем ['NO', 'YES'][True] - это эквивалентно ['NO', 'YES'][1], т.е. YES. И в обратном случае, когда выражение возвращает False, то мы получаем ['NO', 'YES'][False] - это эквивалентно ['NO', 'YES'][0], т.е. NO."
   ],
   "metadata": {
    "collapsed": false
   },
   "id": "920ff06de11d1882"
  },
  {
   "cell_type": "raw",
   "source": [
    "На вход программе подается строка, состоящая из трех слов. Верно ли, что для записи всех трех слов был использован один и тот же набор букв?\n",
    "\n",
    "Формат входных данных\n",
    "На вход программе подается строка, состоящая из трех слов.\n",
    "\n",
    "Формат выходных данных\n",
    "Программа должна вывести YES, если для записи всех трех слов был использован один и тот же набор букв и NO в противном случае."
   ],
   "metadata": {
    "collapsed": false
   },
   "id": "d6d25472c37f18cd"
  },
  {
   "cell_type": "code",
   "execution_count": null,
   "outputs": [],
   "source": [
    "s = input().split()\n",
    "print(['NO', 'YES'][len(set(s[0])) == len(set(s[1])) == len(set(s[2]))])"
   ],
   "metadata": {
    "collapsed": false
   },
   "id": "a5db064262f92865"
  }
 ],
 "metadata": {
  "kernelspec": {
   "display_name": "Python 3",
   "language": "python",
   "name": "python3"
  },
  "language_info": {
   "codemirror_mode": {
    "name": "ipython",
    "version": 2
   },
   "file_extension": ".py",
   "mimetype": "text/x-python",
   "name": "python",
   "nbconvert_exporter": "python",
   "pygments_lexer": "ipython2",
   "version": "2.7.6"
  }
 },
 "nbformat": 4,
 "nbformat_minor": 5
}
