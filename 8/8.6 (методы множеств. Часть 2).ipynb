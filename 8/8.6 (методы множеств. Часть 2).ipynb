{
 "cells": [
  {
   "cell_type": "markdown",
   "source": [
    "Операции над множествами"
   ],
   "metadata": {
    "collapsed": false
   },
   "id": "33fcffbdf5092c6f"
  },
  {
   "cell_type": "raw",
   "source": [
    "Основные операции над множествами:\n",
    "\n",
    "объединение множеств;\n",
    "пересечение множеств;\n",
    "разность множеств;\n",
    "симметрическая разность множеств.\n",
    "Для каждой операции есть метод и оператор."
   ],
   "metadata": {
    "collapsed": false
   },
   "id": "495a5993361964f3"
  },
  {
   "cell_type": "markdown",
   "source": [
    "Объединение множеств: метод union()"
   ],
   "metadata": {
    "collapsed": false
   },
   "id": "1fe4752988b0884f"
  },
  {
   "cell_type": "raw",
   "source": [
    "Объединение множеств – это множество, состоящее из элементов, принадлежащих хотя бы одному из объединяемых множеств. Для этой операции существует метод union()."
   ],
   "metadata": {
    "collapsed": false
   },
   "id": "2b7a2d5b8c257a59"
  },
  {
   "cell_type": "code",
   "execution_count": 1,
   "outputs": [
    {
     "name": "stdout",
     "output_type": "stream",
     "text": [
      "{1, 2, 3, 4, 5, 6, 7, 8}\n"
     ]
    }
   ],
   "source": [
    "myset1 = {1, 2, 3, 4, 5}\n",
    "myset2 = {3, 4, 6, 7, 8}\n",
    "\n",
    "myset3 = myset1.union(myset2)\n",
    "print(myset3)"
   ],
   "metadata": {
    "collapsed": false,
    "ExecuteTime": {
     "end_time": "2024-07-22T10:23:57.251876Z",
     "start_time": "2024-07-22T10:23:57.247401800Z"
    }
   },
   "id": "e8f2859b6ec6e2ee"
  },
  {
   "cell_type": "raw",
   "source": [
    "Обратите внимание, метод union() возвращает новое множество в которое входят все элементы множеств myset1 и myset2. Для изменения текущего множества используется метод update()."
   ],
   "metadata": {
    "collapsed": false
   },
   "id": "31a1a8fd48e0c45a"
  },
  {
   "cell_type": "raw",
   "source": [
    "Для объединения двух множеств можно также использовать оператор |"
   ],
   "metadata": {
    "collapsed": false
   },
   "id": "80daf60bb161573b"
  },
  {
   "cell_type": "code",
   "execution_count": 2,
   "outputs": [
    {
     "name": "stdout",
     "output_type": "stream",
     "text": [
      "{1, 2, 3, 4, 5, 6, 7, 8}\n"
     ]
    }
   ],
   "source": [
    "myset1 = {1, 2, 3, 4, 5}\n",
    "myset2 = {3, 4, 6, 7, 8}\n",
    "\n",
    "myset3 = myset1 | myset2\n",
    "print(myset3)"
   ],
   "metadata": {
    "collapsed": false,
    "ExecuteTime": {
     "end_time": "2024-07-22T10:24:40.780419900Z",
     "start_time": "2024-07-22T10:24:40.771898Z"
    }
   },
   "id": "b0b9080fdf5273e"
  },
  {
   "cell_type": "markdown",
   "source": [
    "Пересечение множеств: метод intersection()"
   ],
   "metadata": {
    "collapsed": false
   },
   "id": "e2ccb869f69125c5"
  },
  {
   "cell_type": "raw",
   "source": [
    "Пересечение множеств – это множество, состоящее из элементов, принадлежащих одновременно каждому из пересекающихся множеств. Для этой операции существует метод intersection()."
   ],
   "metadata": {
    "collapsed": false
   },
   "id": "827709037fcbeaf8"
  },
  {
   "cell_type": "code",
   "execution_count": 3,
   "outputs": [
    {
     "name": "stdout",
     "output_type": "stream",
     "text": [
      "{3, 4}\n"
     ]
    }
   ],
   "source": [
    "myset1 = {1, 2, 3, 4, 5}\n",
    "myset2 = {3, 4, 6, 7, 8}\n",
    "\n",
    "myset3 = myset1.intersection(myset2)\n",
    "print(myset3)"
   ],
   "metadata": {
    "collapsed": false,
    "ExecuteTime": {
     "end_time": "2024-07-22T10:25:12.984627700Z",
     "start_time": "2024-07-22T10:25:12.977045600Z"
    }
   },
   "id": "da7445f720c3b5ce"
  },
  {
   "cell_type": "raw",
   "source": [
    "Обратите внимание, метод intersection() возвращает новое множество в которое входят общие элементы множеств myset1 и myset2. Для изменения текущего множества используется метод intersection_update()"
   ],
   "metadata": {
    "collapsed": false
   },
   "id": "158a18f4b7dc6df4"
  },
  {
   "cell_type": "raw",
   "source": [
    "Для пересечения двух множеств можно также использовать оператор &."
   ],
   "metadata": {
    "collapsed": false
   },
   "id": "2c3fd0eb992ce625"
  },
  {
   "cell_type": "code",
   "execution_count": null,
   "outputs": [],
   "source": [
    "myset1 = {1, 2, 3, 4, 5}\n",
    "myset2 = {3, 4, 6, 7, 8}\n",
    "\n",
    "myset3 = myset1 & myset2\n",
    "print(myset3)"
   ],
   "metadata": {
    "collapsed": false
   },
   "id": "2c0914a85d37cb51"
  },
  {
   "cell_type": "markdown",
   "source": [
    "Разность множеств: метод difference()"
   ],
   "metadata": {
    "collapsed": false
   },
   "id": "f1b73ca48c4abc0c"
  },
  {
   "cell_type": "raw",
   "source": [
    "Разность множеств – это множество, в которое входят все элементы первого множества, не входящие во второе множество. Для этой операции существует метод difference()."
   ],
   "metadata": {
    "collapsed": false
   },
   "id": "babb1a42c4dc5415"
  },
  {
   "cell_type": "code",
   "execution_count": 4,
   "outputs": [
    {
     "name": "stdout",
     "output_type": "stream",
     "text": [
      "{1, 2, 5}\n"
     ]
    }
   ],
   "source": [
    "myset1 = {1, 2, 3, 4, 5}\n",
    "myset2 = {3, 4, 6, 7, 8}\n",
    "\n",
    "myset3 = myset1.difference(myset2)\n",
    "print(myset3)"
   ],
   "metadata": {
    "collapsed": false,
    "ExecuteTime": {
     "end_time": "2024-07-22T10:26:24.700114400Z",
     "start_time": "2024-07-22T10:26:24.692625200Z"
    }
   },
   "id": "81bdc93983d29297"
  },
  {
   "cell_type": "raw",
   "source": [
    "Для разности двух множеств можно также использовать оператор -."
   ],
   "metadata": {
    "collapsed": false
   },
   "id": "4d374d4e08149f33"
  },
  {
   "cell_type": "code",
   "execution_count": 5,
   "outputs": [
    {
     "name": "stdout",
     "output_type": "stream",
     "text": [
      "{1, 2, 5}\n"
     ]
    }
   ],
   "source": [
    "myset1 = {1, 2, 3, 4, 5}\n",
    "myset2 = {3, 4, 6, 7, 8}\n",
    "\n",
    "myset3 = myset1 - myset2\n",
    "print(myset3)"
   ],
   "metadata": {
    "collapsed": false,
    "ExecuteTime": {
     "end_time": "2024-07-22T10:26:42.421298200Z",
     "start_time": "2024-07-22T10:26:42.413664100Z"
    }
   },
   "id": "1eeccee776f6aadb"
  },
  {
   "cell_type": "raw",
   "source": [
    "Обратите внимание: для операции разности множеств важен порядок, в котором указаны множества. Если поменять местами myset1 и myset2, нас ожидает совсем другой результат: элементы, входящие в множество myset2 и которых нет в множестве myset1. "
   ],
   "metadata": {
    "collapsed": false
   },
   "id": "3ea982cc5630f091"
  },
  {
   "cell_type": "code",
   "execution_count": 6,
   "outputs": [
    {
     "name": "stdout",
     "output_type": "stream",
     "text": [
      "{8, 6, 7}\n"
     ]
    }
   ],
   "source": [
    "myset1 = {1, 2, 3, 4, 5}\n",
    "myset2 = {3, 4, 6, 7, 8}\n",
    "\n",
    "myset3 = myset2.difference(myset1)\n",
    "print(myset3)"
   ],
   "metadata": {
    "collapsed": false,
    "ExecuteTime": {
     "end_time": "2024-07-22T10:26:58.713391200Z",
     "start_time": "2024-07-22T10:26:58.705385Z"
    }
   },
   "id": "bcbf0555e95b132"
  },
  {
   "cell_type": "markdown",
   "source": [
    "Симметрическая разность: метод symmetric_difference()"
   ],
   "metadata": {
    "collapsed": false
   },
   "id": "f74b9ac013377d1b"
  },
  {
   "cell_type": "code",
   "execution_count": 7,
   "outputs": [
    {
     "name": "stdout",
     "output_type": "stream",
     "text": [
      "{1, 2, 5, 6, 7, 8}\n"
     ]
    }
   ],
   "source": [
    "myset1 = {1, 2, 3, 4, 5}\n",
    "myset2 = {3, 4, 6, 7, 8}\n",
    "\n",
    "myset3 = myset1.symmetric_difference(myset2)\n",
    "print(myset3)"
   ],
   "metadata": {
    "collapsed": false,
    "ExecuteTime": {
     "end_time": "2024-07-22T10:27:12.542063300Z",
     "start_time": "2024-07-22T10:27:12.530090Z"
    }
   },
   "id": "b0c735965d1510e5"
  },
  {
   "cell_type": "raw",
   "source": [
    "Для симметрической разности двух множеств можно также использовать оператор ^."
   ],
   "metadata": {
    "collapsed": false
   },
   "id": "6f18930f95d0fcb2"
  },
  {
   "cell_type": "code",
   "execution_count": 8,
   "outputs": [
    {
     "name": "stdout",
     "output_type": "stream",
     "text": [
      "{1, 2, 5, 6, 7, 8}\n"
     ]
    }
   ],
   "source": [
    "myset1 = {1, 2, 3, 4, 5}\n",
    "myset2 = {3, 4, 6, 7, 8}\n",
    "\n",
    "myset3 = myset1 ^ myset2\n",
    "print(myset3)"
   ],
   "metadata": {
    "collapsed": false,
    "ExecuteTime": {
     "end_time": "2024-07-22T10:27:28.950988200Z",
     "start_time": "2024-07-22T10:27:28.942504100Z"
    }
   },
   "id": "a7e98929f71b49e0"
  },
  {
   "cell_type": "raw",
   "source": [
    "Обратите внимание: для операции симметрической разности порядок множеств не важен, на то она и симметрическая: myset1 ^ myset2 == myset2 ^ myset1."
   ],
   "metadata": {
    "collapsed": false
   },
   "id": "b81ad528c23d4d82"
  },
  {
   "cell_type": "markdown",
   "source": [
    "Методы множеств, изменяющие текущие множества"
   ],
   "metadata": {
    "collapsed": false
   },
   "id": "b76a74361a66b013"
  },
  {
   "cell_type": "raw",
   "source": [
    "Методы union(), intersection(), difference(), symmetric_difference() не изменяют исходные множества, а возвращают новые. Часто на практике нужно изменять исходные множества. Для таких целей используются парные методы update(), intersection_update(), difference_update(), symmetric_difference_update()"
   ],
   "metadata": {
    "collapsed": false
   },
   "id": "54b0cd6defe4829a"
  },
  {
   "cell_type": "markdown",
   "source": [
    "Метод update()"
   ],
   "metadata": {
    "collapsed": false
   },
   "id": "be0a6f5ca8eb757e"
  },
  {
   "cell_type": "raw",
   "source": [
    "Метод update() изменяет исходное множество по объединению."
   ],
   "metadata": {
    "collapsed": false
   },
   "id": "8abaf138a6c25d7d"
  },
  {
   "cell_type": "code",
   "execution_count": 10,
   "outputs": [
    {
     "name": "stdout",
     "output_type": "stream",
     "text": [
      "{1, 2, 3, 4, 5, 6, 7, 8}\n"
     ]
    }
   ],
   "source": [
    "myset1 = {1, 2, 3, 4, 5}\n",
    "myset2 = {3, 4, 6, 7, 8}\n",
    "\n",
    "myset1.update(myset2)  # изменяем множество myset1\n",
    "print(myset1)"
   ],
   "metadata": {
    "collapsed": false,
    "ExecuteTime": {
     "end_time": "2024-07-22T10:28:44.517551600Z",
     "start_time": "2024-07-22T10:28:44.510071700Z"
    }
   },
   "id": "c20e37faec3ecb6"
  },
  {
   "cell_type": "raw",
   "source": [
    "Аналогичный результат получается, если использовать оператор |=:"
   ],
   "metadata": {
    "collapsed": false
   },
   "id": "fa7fda4810018af5"
  },
  {
   "cell_type": "code",
   "execution_count": 11,
   "outputs": [
    {
     "name": "stdout",
     "output_type": "stream",
     "text": [
      "{1, 2, 3, 4, 5, 6, 7, 8}\n"
     ]
    }
   ],
   "source": [
    "myset1 = {1, 2, 3, 4, 5}\n",
    "myset2 = {3, 4, 6, 7, 8}\n",
    "\n",
    "myset1 |= myset2\n",
    "print(myset1)"
   ],
   "metadata": {
    "collapsed": false,
    "ExecuteTime": {
     "end_time": "2024-07-22T10:29:04.629850700Z",
     "start_time": "2024-07-22T10:29:04.620840700Z"
    }
   },
   "id": "62b3311a16422895"
  },
  {
   "cell_type": "markdown",
   "source": [
    "Метод intersection_update()"
   ],
   "metadata": {
    "collapsed": false
   },
   "id": "84439b99ef1e62d3"
  },
  {
   "cell_type": "raw",
   "source": [
    "Метод intersection_update() изменяет исходное множество по пересечению."
   ],
   "metadata": {
    "collapsed": false
   },
   "id": "335c4e6634a43c27"
  },
  {
   "cell_type": "code",
   "execution_count": 12,
   "outputs": [
    {
     "name": "stdout",
     "output_type": "stream",
     "text": [
      "{3, 4}\n"
     ]
    }
   ],
   "source": [
    "myset1 = {1, 2, 3, 4, 5}\n",
    "myset2 = {3, 4, 6, 7, 8}\n",
    "\n",
    "myset1.intersection_update(myset2)  # изменяем множество myset1\n",
    "print(myset1)"
   ],
   "metadata": {
    "collapsed": false,
    "ExecuteTime": {
     "end_time": "2024-07-22T10:29:41.376904200Z",
     "start_time": "2024-07-22T10:29:41.367331100Z"
    }
   },
   "id": "ba29f7b31089ea54"
  },
  {
   "cell_type": "raw",
   "source": [
    "Аналогичный результат получается, если использовать оператор &=:"
   ],
   "metadata": {
    "collapsed": false
   },
   "id": "dca544a76d7a0fc5"
  },
  {
   "cell_type": "code",
   "execution_count": 13,
   "outputs": [
    {
     "name": "stdout",
     "output_type": "stream",
     "text": [
      "{3, 4}\n"
     ]
    }
   ],
   "source": [
    "myset1 = {1, 2, 3, 4, 5}\n",
    "myset2 = {3, 4, 6, 7, 8}\n",
    "\n",
    "myset1 &= myset2\n",
    "print(myset1)"
   ],
   "metadata": {
    "collapsed": false,
    "ExecuteTime": {
     "end_time": "2024-07-22T10:29:55.215460100Z",
     "start_time": "2024-07-22T10:29:55.205697100Z"
    }
   },
   "id": "2ad97fe4c0726e06"
  },
  {
   "cell_type": "markdown",
   "source": [
    "Метод difference_update()"
   ],
   "metadata": {
    "collapsed": false
   },
   "id": "d172e8221bf40c84"
  },
  {
   "cell_type": "raw",
   "source": [
    "Метод difference_update() изменяет исходное множество по разности."
   ],
   "metadata": {
    "collapsed": false
   },
   "id": "98fffe26fee6c5aa"
  },
  {
   "cell_type": "code",
   "execution_count": 14,
   "outputs": [
    {
     "name": "stdout",
     "output_type": "stream",
     "text": [
      "{1, 2, 5}\n"
     ]
    }
   ],
   "source": [
    "myset1 = {1, 2, 3, 4, 5}\n",
    "myset2 = {3, 4, 6, 7, 8}\n",
    "\n",
    "myset1.difference_update(myset2)  # изменяем множество myset1\n",
    "print(myset1)"
   ],
   "metadata": {
    "collapsed": false,
    "ExecuteTime": {
     "end_time": "2024-07-22T10:30:31.752342800Z",
     "start_time": "2024-07-22T10:30:31.742945900Z"
    }
   },
   "id": "b7d32d665f2f4b"
  },
  {
   "cell_type": "raw",
   "source": [
    "Аналогичный результат получается, если использовать оператор -=:"
   ],
   "metadata": {
    "collapsed": false
   },
   "id": "72ae9c03f60bf859"
  },
  {
   "cell_type": "code",
   "execution_count": 15,
   "outputs": [
    {
     "name": "stdout",
     "output_type": "stream",
     "text": [
      "{1, 2, 5}\n"
     ]
    }
   ],
   "source": [
    "myset1 = {1, 2, 3, 4, 5}\n",
    "myset2 = {3, 4, 6, 7, 8}\n",
    "\n",
    "myset1 -= myset2\n",
    "print(myset1)"
   ],
   "metadata": {
    "collapsed": false,
    "ExecuteTime": {
     "end_time": "2024-07-22T10:30:47.755464500Z",
     "start_time": "2024-07-22T10:30:47.742010700Z"
    }
   },
   "id": "d2fae4edb56e6515"
  },
  {
   "cell_type": "markdown",
   "source": [
    "Метод symmetric_difference_update()"
   ],
   "metadata": {
    "collapsed": false
   },
   "id": "783d8ce3d2ed7e60"
  },
  {
   "cell_type": "raw",
   "source": [
    "Метод symmetric_difference_update() изменяет исходное множество по симметрической разности."
   ],
   "metadata": {
    "collapsed": false
   },
   "id": "34a2364157fa15b"
  },
  {
   "cell_type": "code",
   "execution_count": 16,
   "outputs": [
    {
     "name": "stdout",
     "output_type": "stream",
     "text": [
      "{1, 2, 5, 6, 7, 8}\n"
     ]
    }
   ],
   "source": [
    "myset1 = {1, 2, 3, 4, 5}\n",
    "myset2 = {3, 4, 6, 7, 8}\n",
    "\n",
    "myset1.symmetric_difference_update(myset2)  # изменяем множество myset1\n",
    "print(myset1)"
   ],
   "metadata": {
    "collapsed": false,
    "ExecuteTime": {
     "end_time": "2024-07-22T10:31:23.635313100Z",
     "start_time": "2024-07-22T10:31:23.624512800Z"
    }
   },
   "id": "271246f3ea5e0c83"
  },
  {
   "cell_type": "raw",
   "source": [
    "Аналогичный результат получается, если использовать оператор ^=:"
   ],
   "metadata": {
    "collapsed": false
   },
   "id": "aca74d3b93004615"
  },
  {
   "cell_type": "code",
   "execution_count": 17,
   "outputs": [
    {
     "name": "stdout",
     "output_type": "stream",
     "text": [
      "{1, 2, 5, 6, 7, 8}\n"
     ]
    }
   ],
   "source": [
    "myset1 = {1, 2, 3, 4, 5}\n",
    "myset2 = {3, 4, 6, 7, 8}\n",
    "\n",
    "myset1 ^= myset2\n",
    "print(myset1)"
   ],
   "metadata": {
    "collapsed": false,
    "ExecuteTime": {
     "end_time": "2024-07-22T10:31:36.153352500Z",
     "start_time": "2024-07-22T10:31:36.142766700Z"
    }
   },
   "id": "8782a03a736e0b5d"
  },
  {
   "cell_type": "markdown",
   "source": [
    "Примечания"
   ],
   "metadata": {
    "collapsed": false
   },
   "id": "bf7c11a043727ca8"
  },
  {
   "cell_type": "raw",
   "source": [
    "Примечание 1. Все основные операции над множествами выполняются двумя способами: при помощи метода или соответствующего ему оператора. Различие заключается в том, что метод может принимать в качестве аргумента не только множество (тип данных set), но и любой итерируемый объект (список, строку, кортеж..)."
   ],
   "metadata": {
    "collapsed": false
   },
   "id": "7529fa47be725fdb"
  },
  {
   "cell_type": "code",
   "execution_count": 18,
   "outputs": [
    {
     "name": "stdout",
     "output_type": "stream",
     "text": [
      "{2016, 'd', 'a', 'c', 2009, 2010, 'b'}\n",
      "{2016}\n",
      "{2009, 2010}\n"
     ]
    }
   ],
   "source": [
    "mylist = [2021, 2020, 2019, 2018, 2017, 2016]\n",
    "mytuple = (2021, 2020, 2016)\n",
    "mystr = 'abcd'\n",
    "\n",
    "myset = {2009, 2010, 2016}\n",
    "\n",
    "print(myset.union(mystr))                      # объединяем со строкой\n",
    "print(myset.intersection(mylist))              # пересекаем со списком\n",
    "print(myset.difference(mytuple))               # находим разность с кортежем"
   ],
   "metadata": {
    "collapsed": false,
    "ExecuteTime": {
     "end_time": "2024-07-22T10:32:53.158359400Z",
     "start_time": "2024-07-22T10:32:53.149613300Z"
    }
   },
   "id": "f781b9b352ff7a0c"
  },
  {
   "cell_type": "code",
   "execution_count": 19,
   "outputs": [
    {
     "ename": "TypeError",
     "evalue": "unsupported operand type(s) for |: 'set' and 'str'",
     "output_type": "error",
     "traceback": [
      "\u001B[1;31m---------------------------------------------------------------------------\u001B[0m",
      "\u001B[1;31mTypeError\u001B[0m                                 Traceback (most recent call last)",
      "Cell \u001B[1;32mIn[19], line 7\u001B[0m\n\u001B[0;32m      3\u001B[0m mystr \u001B[38;5;241m=\u001B[39m \u001B[38;5;124m'\u001B[39m\u001B[38;5;124mabcd\u001B[39m\u001B[38;5;124m'\u001B[39m\n\u001B[0;32m      5\u001B[0m myset \u001B[38;5;241m=\u001B[39m {\u001B[38;5;241m2009\u001B[39m, \u001B[38;5;241m2010\u001B[39m, \u001B[38;5;241m2016\u001B[39m}\n\u001B[1;32m----> 7\u001B[0m \u001B[38;5;28mprint\u001B[39m(\u001B[43mmyset\u001B[49m\u001B[43m \u001B[49m\u001B[38;5;241;43m|\u001B[39;49m\u001B[43m \u001B[49m\u001B[43mmystr\u001B[49m)\n\u001B[0;32m      8\u001B[0m \u001B[38;5;28mprint\u001B[39m(myset \u001B[38;5;241m&\u001B[39m mylist)\n\u001B[0;32m      9\u001B[0m \u001B[38;5;28mprint\u001B[39m(myset \u001B[38;5;241m-\u001B[39m mytuple)\n",
      "\u001B[1;31mTypeError\u001B[0m: unsupported operand type(s) for |: 'set' and 'str'"
     ]
    }
   ],
   "source": [
    "mylist = [2021, 2020, 2019, 2018, 2017, 2016]\n",
    "mytuple = (2021, 2020, 2016)\n",
    "mystr = 'abcd'\n",
    "\n",
    "myset = {2009, 2010, 2016}\n",
    "\n",
    "print(myset | mystr)\n",
    "print(myset & mylist)\n",
    "print(myset - mytuple)"
   ],
   "metadata": {
    "collapsed": false,
    "ExecuteTime": {
     "end_time": "2024-07-22T10:35:02.247423100Z",
     "start_time": "2024-07-22T10:35:02.022333500Z"
    }
   },
   "id": "f564491c34fc1135"
  },
  {
   "cell_type": "raw",
   "source": [
    "Примечание 2. Некоторые методы (union(), intersection(), difference()) и операторы (|, &, -, ^) позволяют совершать операции над несколькими множествами сразу."
   ],
   "metadata": {
    "collapsed": false
   },
   "id": "35d0387448330b0e"
  },
  {
   "cell_type": "code",
   "execution_count": 20,
   "outputs": [
    {
     "name": "stdout",
     "output_type": "stream",
     "text": [
      "True\n",
      "True\n"
     ]
    }
   ],
   "source": [
    "myset1 = {1, 2, 3, 4, 5, 6}\n",
    "myset2 = {2, 3, 4, 5}\n",
    "myset3 = {5, 6, 7, 8}\n",
    "\n",
    "union1 = myset1.union(myset2, myset3)\n",
    "union2 = myset1 | myset2 | myset3\n",
    "\n",
    "difference1 = myset1.difference(myset2, myset3)\n",
    "difference2 = myset1 - myset2 - myset3           # порядок выполнения слева-направо\n",
    "\n",
    "print(union1 == union2)\n",
    "print(difference1 == difference2)"
   ],
   "metadata": {
    "collapsed": false,
    "ExecuteTime": {
     "end_time": "2024-07-22T10:35:32.450270300Z",
     "start_time": "2024-07-22T10:35:32.438997Z"
    }
   },
   "id": "409264808d18ec0a"
  },
  {
   "cell_type": "raw",
   "source": [
    "Примечание 3. Оператор ^ симметрической разности позволяет использовать несколько множеств, а метод symmetric_difference() – нет."
   ],
   "metadata": {
    "collapsed": false
   },
   "id": "468fa2342985f271"
  },
  {
   "cell_type": "code",
   "execution_count": 21,
   "outputs": [
    {
     "name": "stdout",
     "output_type": "stream",
     "text": [
      "{1, 5, 7, 20, 30}\n"
     ]
    }
   ],
   "source": [
    "myset1 = {1, 2, 3, 4, 5, 6}\n",
    "myset2 = {2, 3, 4, 7}\n",
    "myset3 = {6, 20, 30}\n",
    "\n",
    "symdifference = myset1 ^ myset2 ^ myset3  # порядок выполнения слева-направо\n",
    "\n",
    "print(symdifference)"
   ],
   "metadata": {
    "collapsed": false,
    "ExecuteTime": {
     "end_time": "2024-07-22T10:36:25.246230700Z",
     "start_time": "2024-07-22T10:36:25.236013400Z"
    }
   },
   "id": "aa6322c763df08f6"
  },
  {
   "cell_type": "code",
   "execution_count": 22,
   "outputs": [
    {
     "ename": "TypeError",
     "evalue": "set.symmetric_difference() takes exactly one argument (2 given)",
     "output_type": "error",
     "traceback": [
      "\u001B[1;31m---------------------------------------------------------------------------\u001B[0m",
      "\u001B[1;31mTypeError\u001B[0m                                 Traceback (most recent call last)",
      "Cell \u001B[1;32mIn[22], line 5\u001B[0m\n\u001B[0;32m      2\u001B[0m myset2 \u001B[38;5;241m=\u001B[39m {\u001B[38;5;241m2\u001B[39m, \u001B[38;5;241m3\u001B[39m, \u001B[38;5;241m4\u001B[39m, \u001B[38;5;241m7\u001B[39m}\n\u001B[0;32m      3\u001B[0m myset3 \u001B[38;5;241m=\u001B[39m {\u001B[38;5;241m6\u001B[39m, \u001B[38;5;241m20\u001B[39m, \u001B[38;5;241m30\u001B[39m}\n\u001B[1;32m----> 5\u001B[0m symdifference \u001B[38;5;241m=\u001B[39m \u001B[43mmyset1\u001B[49m\u001B[38;5;241;43m.\u001B[39;49m\u001B[43msymmetric_difference\u001B[49m\u001B[43m(\u001B[49m\u001B[43mmyset2\u001B[49m\u001B[43m,\u001B[49m\u001B[43m \u001B[49m\u001B[43mmyset3\u001B[49m\u001B[43m)\u001B[49m\n\u001B[0;32m      7\u001B[0m \u001B[38;5;28mprint\u001B[39m(symdifference)\n",
      "\u001B[1;31mTypeError\u001B[0m: set.symmetric_difference() takes exactly one argument (2 given)"
     ]
    }
   ],
   "source": [
    "myset1 = {1, 2, 3, 4, 5, 6}\n",
    "myset2 = {2, 3, 4, 7}\n",
    "myset3 = {6, 20, 30}\n",
    "\n",
    "symdifference = myset1.symmetric_difference(myset2, myset3)\n",
    "\n",
    "print(symdifference)"
   ],
   "metadata": {
    "collapsed": false,
    "ExecuteTime": {
     "end_time": "2024-07-22T10:36:57.619421200Z",
     "start_time": "2024-07-22T10:36:57.586847600Z"
    }
   },
   "id": "d576cf73b2f5e4d3"
  },
  {
   "cell_type": "raw",
   "source": [
    "Примечание 4. Таблица соответствия методов и операторов над множествами."
   ],
   "metadata": {
    "collapsed": false
   },
   "id": "992852ec75c5b358"
  },
  {
   "cell_type": "raw",
   "source": [
    "A | B\n",
    "A.union(B)\n",
    "Возвращает множество, являющееся объединением множеств A и B\n",
    "A |= B\n",
    "A.update(B)\n",
    "Добавляет в множество A все элементы из множества B\n",
    "A & B\n",
    "A.intersection(B)\n",
    "Возвращает множество, являющееся пересечением множеств A и B\n",
    "A &= B\n",
    "A.intersection_update(B)\n",
    "Оставляет в множестве A только те элементы, которые есть в множестве B\n",
    "A - B\n",
    "A.difference(B)\n",
    "Возвращает разность множеств A и B\n",
    "A -= B\n",
    "A.difference_update(B)\n",
    "Удаляет из множества A все элементы, входящие в B\n",
    "A ^ B\n",
    "A.symmetric_difference(B)\n",
    "Возвращает симметрическую разность множеств A и B\n",
    "A ^= B\n",
    "A.symmetric_difference_update(B)\n",
    "Записывает в A симметрическую разность множеств A и B"
   ],
   "metadata": {
    "collapsed": false
   },
   "id": "1a6c132c1b5b3118"
  },
  {
   "cell_type": "raw",
   "source": [
    "Примечание 5. Приоритет операторов в порядке убывания (верхние операторы имеют более высокий приоритет, чем нижние) имеет вид:"
   ],
   "metadata": {
    "collapsed": false
   },
   "id": "1286986c4d1e84d3"
  },
  {
   "cell_type": "raw",
   "source": [
    "Оператор\tОписание\n",
    "-\tразность\n",
    "&\tпересечение\n",
    "^\tсимметрическая разность\n",
    "|\tобъединение"
   ],
   "metadata": {
    "collapsed": false
   },
   "id": "39fcf8757f56d1c"
  },
  {
   "cell_type": "code",
   "execution_count": 25,
   "outputs": [
    {
     "name": "stdout",
     "output_type": "stream",
     "text": [
      "{'a', 'c'}\n",
      "{'a', 'c'}\n",
      "{'a', 'c'}\n"
     ]
    }
   ],
   "source": [
    "set1 = {'a', 'b', 'c', 'd', 'h'}\n",
    "set2 = {'b', 'd', 'f', 'h'}\n",
    "\n",
    "set3 = set1 - set2\n",
    "print(set3)\n",
    "set3 = set3 & set1\n",
    "print(set3)\n",
    "set3 = set1 - set2 & set1\n",
    "print(set3)"
   ],
   "metadata": {
    "collapsed": false,
    "ExecuteTime": {
     "end_time": "2024-07-22T10:52:33.053882300Z",
     "start_time": "2024-07-22T10:52:33.049633600Z"
    }
   },
   "id": "b906b15840447211"
  },
  {
   "cell_type": "raw",
   "source": [
    "На вход программе подаются две строки текста, содержащие числа. Напишите программу, которая определяет количество чисел, которые есть как в первой строке, так и во второй.\n",
    "\n",
    "Формат входных данных\n",
    "На вход программе подаются две строки текста, содержащие числа, отделенные символом пробела.\n",
    "\n",
    "Формат выходных данных\n",
    "Программа должна вывести количество чисел, содержащихся одновременно как в первой строке, так и во второй."
   ],
   "metadata": {
    "collapsed": false
   },
   "id": "961ddde8ab54d925"
  },
  {
   "cell_type": "code",
   "execution_count": null,
   "outputs": [],
   "source": [
    "s1, s2 = set(input().split()), set(input().split())\n",
    "print(len(s1.intersection(s2)))"
   ],
   "metadata": {
    "collapsed": false
   },
   "id": "a940ebd0427e2fcc"
  },
  {
   "cell_type": "raw",
   "source": [
    "На вход программе подаются две строки текста, содержащие числа. Напишите программу, которая выводит все числа в порядке возрастания, которые есть как в первой строке, так и во второй.\n",
    "\n",
    "Формат входных данных\n",
    "На вход программе подаются две строки текста, содержащие числа, отделенные символом пробела.\n",
    "\n",
    "Формат выходных данных\n",
    "Программа должна вывести на одной строке через пробел числа, встречающиеся в обеих строках."
   ],
   "metadata": {
    "collapsed": false
   },
   "id": "14b4f2c779692049"
  },
  {
   "cell_type": "code",
   "execution_count": null,
   "outputs": [],
   "source": [
    "s1, s2 = set(input().split()), set(input().split())\n",
    "s1 = {int(i) for i in s1}\n",
    "s2 = {int(i) for i in s2}\n",
    "print(*sorted(s1.intersection(s2)))"
   ],
   "metadata": {
    "collapsed": false
   },
   "id": "d1e163ae62b11d73"
  },
  {
   "cell_type": "raw",
   "source": [
    "На вход программе подаются две строки текста, содержащие числа. Напишите программу, которая выводит все числа в порядке возрастания, которые есть в первой строке, но отсутствуют во второй.\n",
    "\n",
    "Формат входных данных\n",
    "На вход программе подаются две строки текста, содержащие числа, отделенные символом пробела.\n",
    "\n",
    "Формат выходных данных\n",
    "Программа должна вывести множество чисел, встречающихся только в первой строке."
   ],
   "metadata": {
    "collapsed": false
   },
   "id": "61687ceae1082795"
  },
  {
   "cell_type": "code",
   "execution_count": null,
   "outputs": [],
   "source": [
    "s1, s2 = set(input().split()), set(input().split())\n",
    "\n",
    "s1.difference_update(s2)\n",
    "s1 = {int(i) for i in s1}\n",
    "print(*sorted(s1))"
   ],
   "metadata": {
    "collapsed": false
   },
   "id": "da5b061a5b9a331"
  },
  {
   "cell_type": "raw",
   "source": [
    "На вход программе подается натуральное число n, а затем n различных натуральных чисел, каждое на отдельной строке. Напишите программу, которая выводит все общие цифры в порядке возрастания у всех введенных чисел.\n",
    "\n",
    "Формат входных данных\n",
    "На вход программе подаются натуральное число n≥1, а затем n различных натуральных чисел, каждое на отдельной строке.\n",
    "\n",
    "Формат выходных данных\n",
    "Программа должна вывести цифры в соответствии с условием задачи. Если общих цифр нет, то ничего выводить не нужно."
   ],
   "metadata": {
    "collapsed": false
   },
   "id": "9fc996d7113c930b"
  },
  {
   "cell_type": "code",
   "execution_count": null,
   "outputs": [],
   "source": [
    "l = [set(input()) for _ in range(int(input()))]\n",
    "# print(l)\n",
    "\n",
    "s = l[0]\n",
    "# print(s)\n",
    "\n",
    "for i in l[1::]:\n",
    "    s.intersection_update(i)\n",
    "    \n",
    "s = {int(i) for i in s}\n",
    "    \n",
    "print(*sorted(s))"
   ],
   "metadata": {
    "collapsed": false
   },
   "id": "f1633dbd2e5c2f4d"
  },
  {
   "cell_type": "code",
   "execution_count": null,
   "outputs": [],
   "source": [
    "n = int(input())\n",
    "numbers = [input() for _ in range(n)]\n",
    "\n",
    "num_set = set(numbers[0]).intersection(*numbers)\n",
    "print(*sorted(num_set))"
   ],
   "metadata": {
    "collapsed": false
   },
   "id": "e5bf1a9b610c9dfb"
  }
 ],
 "metadata": {
  "kernelspec": {
   "display_name": "Python 3",
   "language": "python",
   "name": "python3"
  },
  "language_info": {
   "codemirror_mode": {
    "name": "ipython",
    "version": 2
   },
   "file_extension": ".py",
   "mimetype": "text/x-python",
   "name": "python",
   "nbconvert_exporter": "python",
   "pygments_lexer": "ipython2",
   "version": "2.7.6"
  }
 },
 "nbformat": 4,
 "nbformat_minor": 5
}
