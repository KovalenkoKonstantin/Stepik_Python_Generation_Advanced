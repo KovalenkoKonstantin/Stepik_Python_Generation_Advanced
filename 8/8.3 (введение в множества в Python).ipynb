{
 "cells": [
  {
   "cell_type": "markdown",
   "source": [
    "Множества"
   ],
   "metadata": {
    "collapsed": false
   },
   "id": "af59a385d2566109"
  },
  {
   "cell_type": "raw",
   "source": [
    "В прошлых уроках мы изучили три типа коллекций в Python:\n",
    "\n",
    "списки – изменяемые коллекции элементов;\n",
    "строки – неизменяемые коллекции символов;\n",
    "кортежи – неизменяемые коллекции элементов.\n",
    "Следующий тип коллекций (наборов данных) – множество."
   ],
   "metadata": {
    "collapsed": false
   },
   "id": "3a18c8ca791a0fac"
  },
  {
   "cell_type": "raw",
   "source": [
    "Следующий тип коллекций (наборов данных) – множество.\n",
    "\n",
    "Множество – структура данных, организованная так же, как математические множества.\n",
    "\n",
    "Важно знать:\n",
    "\n",
    "все элементы множества различны (уникальны), два элемента не могут иметь одинаковое значение;\n",
    "множества неупорядочены, то есть элементы не хранятся в каком-то определенном порядке;\n",
    "элементы множества должны относиться к неизменяемым типам данных;\n",
    "хранящиеся в множестве элементы могут иметь разные типы данных."
   ],
   "metadata": {
    "collapsed": false
   },
   "id": "a6ee51a5829c115d"
  },
  {
   "cell_type": "raw",
   "source": [
    "Структура данных (data structure) — программная единица, позволяющая хранить и обрабатывать множество однотипных и/или логически связанных данных."
   ],
   "metadata": {
    "collapsed": false
   },
   "id": "2775254c6d2d47bd"
  },
  {
   "cell_type": "markdown",
   "source": [
    "Создание множества"
   ],
   "metadata": {
    "collapsed": false
   },
   "id": "29963900b1fdf2c4"
  },
  {
   "cell_type": "raw",
   "source": [
    "Чтобы создать множество, нужно перечислить его элементы через запятую в фигурных скобках:"
   ],
   "metadata": {
    "collapsed": false
   },
   "id": "ca64bfd70b6f934b"
  },
  {
   "cell_type": "code",
   "execution_count": 3,
   "outputs": [
    {
     "name": "stdout",
     "output_type": "stream",
     "text": [
      "<class 'set'>\n",
      "<class 'set'>\n"
     ]
    }
   ],
   "source": [
    "numbers = {2, 4, 6, 8, 10}\n",
    "languages = {\"Python\", \"C#\", \"C++\", \"Java\"}\n",
    "print(type(numbers))\n",
    "print(type(languages))"
   ],
   "metadata": {
    "collapsed": false,
    "ExecuteTime": {
     "end_time": "2024-07-17T07:36:34.440148200Z",
     "start_time": "2024-07-17T07:36:34.435793800Z"
    }
   },
   "id": "b34e71f2ee295799"
  },
  {
   "cell_type": "raw",
   "source": [
    "Множество numbers состоит из 5 элементов, и каждый из них — целое число.\n",
    "\n",
    "Множество languages состоит из 4 элементов, каждый из которых — строка."
   ],
   "metadata": {
    "collapsed": false
   },
   "id": "880b45cd7302d301"
  },
  {
   "cell_type": "raw",
   "source": [
    "Множества могут содержать значения разных типов данных:"
   ],
   "metadata": {
    "collapsed": false
   },
   "id": "5e1f762747042a35"
  },
  {
   "cell_type": "code",
   "execution_count": 5,
   "outputs": [
    {
     "data": {
      "text/plain": "{1992, 61.5, 'Timur'}"
     },
     "execution_count": 5,
     "metadata": {},
     "output_type": "execute_result"
    }
   ],
   "source": [
    "info = {'Timur', 1992, 61.5}\n",
    "info"
   ],
   "metadata": {
    "collapsed": false,
    "ExecuteTime": {
     "end_time": "2024-07-17T07:37:14.698894500Z",
     "start_time": "2024-07-17T07:37:14.680048800Z"
    }
   },
   "id": "c30bb6864c635dad"
  },
  {
   "cell_type": "raw",
   "source": [
    "Множество info содержит строковое значение, целое число и число с плавающей точкой."
   ],
   "metadata": {
    "collapsed": false
   },
   "id": "44948b25598785b7"
  },
  {
   "cell_type": "markdown",
   "source": [
    "Пустое множество"
   ],
   "metadata": {
    "collapsed": false
   },
   "id": "2845ec8a38284eea"
  },
  {
   "cell_type": "raw",
   "source": [
    "Создать пустое множество можно с помощью встроенной функции, которая называется set():"
   ],
   "metadata": {
    "collapsed": false
   },
   "id": "2edb222878c165b"
  },
  {
   "cell_type": "code",
   "execution_count": 6,
   "outputs": [],
   "source": [
    "myset = set()  # пустое множество"
   ],
   "metadata": {
    "collapsed": false,
    "ExecuteTime": {
     "end_time": "2024-07-17T07:38:32.222991900Z",
     "start_time": "2024-07-17T07:38:32.215982200Z"
    }
   },
   "id": "d0c1269e172d756b"
  },
  {
   "cell_type": "raw",
   "source": [
    "Обратите внимание — создать пустое множество с помощью пустых фигурных скобок нельзя:"
   ],
   "metadata": {
    "collapsed": false
   },
   "id": "93c128394ff720b1"
  },
  {
   "cell_type": "code",
   "execution_count": 8,
   "outputs": [
    {
     "name": "stdout",
     "output_type": "stream",
     "text": [
      "<class 'dict'>\n"
     ]
    }
   ],
   "source": [
    "myset = {}  # создается словарь\n",
    "print(type(myset))"
   ],
   "metadata": {
    "collapsed": false,
    "ExecuteTime": {
     "end_time": "2024-07-17T07:39:13.034476200Z",
     "start_time": "2024-07-17T07:39:13.020997500Z"
    }
   },
   "id": "8d1f3905f545ceeb"
  },
  {
   "cell_type": "raw",
   "source": [
    "С помощью пустых фигурных скобок создаются словари: так сложилось исторически. Дело в том, что словари появились в Python раньше, чем множества."
   ],
   "metadata": {
    "collapsed": false
   },
   "id": "bc4c84c3351b7cf5"
  },
  {
   "cell_type": "raw",
   "source": [
    "Пустое множество создаётся исключительно через set()."
   ],
   "metadata": {
    "collapsed": false
   },
   "id": "b01bc2de3b713cda"
  },
  {
   "cell_type": "markdown",
   "source": [
    "Вывод множества"
   ],
   "metadata": {
    "collapsed": false
   },
   "id": "d51adfc7f8de4aa8"
  },
  {
   "cell_type": "raw",
   "source": [
    "Для вывода всего множества можно использовать функцию print():"
   ],
   "metadata": {
    "collapsed": false
   },
   "id": "c9a859decb1d2f6a"
  },
  {
   "cell_type": "code",
   "execution_count": 10,
   "outputs": [
    {
     "name": "stdout",
     "output_type": "stream",
     "text": [
      "{2, 4, 6, 8, 10}\n",
      "{'C#', 'C++', 'Python', 'Java'}\n",
      "{'cat', 'dog', 'elephant', 'fox'}\n"
     ]
    }
   ],
   "source": [
    "numbers = {2, 4, 6, 8, 10, 8, 8, 8}\n",
    "languages = {\"Python\", \"C#\", \"C++\", \"Java\"}\n",
    "mammals = {\"cat\", \"dog\", \"fox\", \"elephant\"}\n",
    "\n",
    "print(numbers)\n",
    "print(languages)\n",
    "print(mammals)"
   ],
   "metadata": {
    "collapsed": false,
    "ExecuteTime": {
     "end_time": "2024-07-17T08:24:02.553249200Z",
     "start_time": "2024-07-17T08:24:02.543473900Z"
    }
   },
   "id": "fcc9534b2a63d8c4"
  },
  {
   "cell_type": "raw",
   "source": [
    "Обратите внимание: при выводе множества порядок элементов может отличаться от существовавшего при его создании, поскольку множества — неупорядоченные коллекции данных."
   ],
   "metadata": {
    "collapsed": false
   },
   "id": "85193d74914b14f1"
  },
  {
   "cell_type": "markdown",
   "source": [
    "Встроенная функция set()"
   ],
   "metadata": {
    "collapsed": false
   },
   "id": "5ab32cff4a4befe4"
  },
  {
   "cell_type": "raw",
   "source": [
    "Встроенная функция set() помимо создания пустого множества может преобразовывать некоторые типы объектов в множества.\n",
    "\n",
    "В функцию set() можно передать один аргумент. Передаваемый аргумент должен быть итерируемым объектом, таким как список, кортеж или строковое значение. Отдельные элементы объекта, передаваемого в качестве аргумента, становятся элементами множества:"
   ],
   "metadata": {
    "collapsed": false
   },
   "id": "a223712f27c80848"
  },
  {
   "cell_type": "code",
   "execution_count": 11,
   "outputs": [],
   "source": [
    "myset1 = set(range(10))          # множество из элементов последовательности\n",
    "myset2 = set([1, 2, 3, 4, 5])    # множество из элементов списка\n",
    "myset3 = set('abcd')             # множество из элементов строки\n",
    "myset4 = set((10, 20, 30, 40))   # множество из элементов кортежа"
   ],
   "metadata": {
    "collapsed": false,
    "ExecuteTime": {
     "end_time": "2024-07-17T08:25:11.190129300Z",
     "start_time": "2024-07-17T08:25:11.182023800Z"
    }
   },
   "id": "d6f4cef64689ee00"
  },
  {
   "cell_type": "raw",
   "source": [
    "Пустое множество также можно создать передав функции set() в качестве аргумента пустой список, строку или кортеж:"
   ],
   "metadata": {
    "collapsed": false
   },
   "id": "569299c12a6eb747"
  },
  {
   "cell_type": "code",
   "execution_count": 12,
   "outputs": [],
   "source": [
    "emptyset1 = set([])  # пустое множество из пустого списка\n",
    "emptyset2 = set('')  # пустое множество из пустой строки\n",
    "emptyset3 = set(())  # пустое множество из пустого кортежа"
   ],
   "metadata": {
    "collapsed": false,
    "ExecuteTime": {
     "end_time": "2024-07-17T08:25:55.621724400Z",
     "start_time": "2024-07-17T08:25:55.613134400Z"
    }
   },
   "id": "570b3f2eb155599"
  },
  {
   "cell_type": "markdown",
   "source": [
    "Дубликаты при создании множеств"
   ],
   "metadata": {
    "collapsed": false
   },
   "id": "fa32fc9f547cef69"
  },
  {
   "cell_type": "raw",
   "source": [
    "Множества не могут содержать повторяющиеся элементы. Если в функцию set() передать аргумент, содержащий повторяющиеся элементы, то в множестве появится только один из этих повторяющихся элементов."
   ],
   "metadata": {
    "collapsed": false
   },
   "id": "5ce9a4c163bfa9a2"
  },
  {
   "cell_type": "code",
   "execution_count": 13,
   "outputs": [
    {
     "name": "stdout",
     "output_type": "stream",
     "text": [
      "{2, 4, 6}\n",
      "{1, 2, 3}\n",
      "{'d', 'c', 'a', 'b'}\n"
     ]
    }
   ],
   "source": [
    "myset1 = {2, 2, 4, 6, 6}\n",
    "myset2 = set([1, 2, 2, 3, 3])\n",
    "myset3 = set(\"aaaaabbbbccccddd\")\n",
    "\n",
    "print(myset1)\n",
    "print(myset2)\n",
    "print(myset3)"
   ],
   "metadata": {
    "collapsed": false,
    "ExecuteTime": {
     "end_time": "2024-07-17T08:26:33.621825200Z",
     "start_time": "2024-07-17T08:26:33.613316200Z"
    }
   },
   "id": "c983ef3aee603e06"
  },
  {
   "cell_type": "raw",
   "source": [
    "Если требуется создать множество, в котором каждый элемент — строковое значение, содержащее более одного символа, то используем код:"
   ],
   "metadata": {
    "collapsed": false
   },
   "id": "355e9e538a71c0d9"
  },
  {
   "cell_type": "code",
   "execution_count": 14,
   "outputs": [
    {
     "name": "stdout",
     "output_type": "stream",
     "text": [
      "{'bbbb', 'cc', 'aaa'}\n"
     ]
    }
   ],
   "source": [
    "myset = set(['aaa', 'bbbb', 'cc'])\n",
    "\n",
    "print(myset)"
   ],
   "metadata": {
    "collapsed": false,
    "ExecuteTime": {
     "end_time": "2024-07-17T08:26:58.527121Z",
     "start_time": "2024-07-17T08:26:58.519148700Z"
    }
   },
   "id": "9a129f56c3685c71"
  },
  {
   "cell_type": "code",
   "execution_count": 15,
   "outputs": [
    {
     "name": "stdout",
     "output_type": "stream",
     "text": [
      "{'c', 'a', 'b', ' '}\n"
     ]
    }
   ],
   "source": [
    "myset = set('aaa bbbb cc')\n",
    "\n",
    "print(myset)"
   ],
   "metadata": {
    "collapsed": false,
    "ExecuteTime": {
     "end_time": "2024-07-17T08:27:29.863291500Z",
     "start_time": "2024-07-17T08:27:29.853805Z"
    }
   },
   "id": "defa59c91a72768f"
  },
  {
   "cell_type": "markdown",
   "source": [
    "Примечания"
   ],
   "metadata": {
    "collapsed": false
   },
   "id": "bfb6b4b00d1b1054"
  },
  {
   "cell_type": "raw",
   "source": [
    "Примечание 1. Элементы множества могут принадлежать любому неизменяемому типу данных: быть числами, строками, кортежами и т.д. Элементы изменяемых типов данных не могут входить в множества, в частности, нельзя сделать элементом множества список или другое множество. Требование неизменяемости элементов множества накладывается особенностями представления множеств в Python."
   ],
   "metadata": {
    "collapsed": false
   },
   "id": "cf6e9ae81bfdd1b1"
  },
  {
   "cell_type": "code",
   "execution_count": 18,
   "outputs": [
    {
     "ename": "TypeError",
     "evalue": "unhashable type: 'list'",
     "output_type": "error",
     "traceback": [
      "\u001B[1;31m---------------------------------------------------------------------------\u001B[0m",
      "\u001B[1;31mTypeError\u001B[0m                                 Traceback (most recent call last)",
      "Cell \u001B[1;32mIn[18], line 1\u001B[0m\n\u001B[1;32m----> 1\u001B[0m myset1 \u001B[38;5;241m=\u001B[39m {\u001B[38;5;241m1\u001B[39m, \u001B[38;5;241m2\u001B[39m, [\u001B[38;5;241m5\u001B[39m, \u001B[38;5;241m6\u001B[39m], \u001B[38;5;241m7\u001B[39m}  \u001B[38;5;66;03m# множество не может содержать список\u001B[39;00m\n",
      "\u001B[1;31mTypeError\u001B[0m: unhashable type: 'list'"
     ]
    }
   ],
   "source": [
    "myset1 = {1, 2, [5, 6], 7}  # множество не может содержать список"
   ],
   "metadata": {
    "collapsed": false,
    "ExecuteTime": {
     "end_time": "2024-07-17T08:29:24.632741400Z",
     "start_time": "2024-07-17T08:29:24.613116800Z"
    }
   },
   "id": "2390dbef4eca3bd7"
  },
  {
   "cell_type": "code",
   "execution_count": 19,
   "outputs": [
    {
     "ename": "TypeError",
     "evalue": "unhashable type: 'set'",
     "output_type": "error",
     "traceback": [
      "\u001B[1;31m---------------------------------------------------------------------------\u001B[0m",
      "\u001B[1;31mTypeError\u001B[0m                                 Traceback (most recent call last)",
      "Cell \u001B[1;32mIn[19], line 1\u001B[0m\n\u001B[1;32m----> 1\u001B[0m myset2 \u001B[38;5;241m=\u001B[39m {\u001B[38;5;241m1\u001B[39m, \u001B[38;5;241m2\u001B[39m, {\u001B[38;5;241m5\u001B[39m, \u001B[38;5;241m6\u001B[39m}, \u001B[38;5;241m7\u001B[39m}  \u001B[38;5;66;03m# множество не может содержать множество\u001B[39;00m\n",
      "\u001B[1;31mTypeError\u001B[0m: unhashable type: 'set'"
     ]
    }
   ],
   "source": [
    "myset2 = {1, 2, {5, 6}, 7}  # множество не может содержать множество"
   ],
   "metadata": {
    "collapsed": false,
    "ExecuteTime": {
     "end_time": "2024-07-17T08:29:30.047530200Z",
     "start_time": "2024-07-17T08:29:30.028771200Z"
    }
   },
   "id": "4645e733a22f610d"
  },
  {
   "cell_type": "code",
   "execution_count": 20,
   "outputs": [
    {
     "data": {
      "text/plain": "set"
     },
     "execution_count": 20,
     "metadata": {},
     "output_type": "execute_result"
    }
   ],
   "source": [
    "myset = {1, 2, (5, 6), 7}  # множество может содержать кортеж\n",
    "type(myset)"
   ],
   "metadata": {
    "collapsed": false,
    "ExecuteTime": {
     "end_time": "2024-07-17T08:29:45.827694Z",
     "start_time": "2024-07-17T08:29:45.819761200Z"
    }
   },
   "id": "ced99dc1293ab5c3"
  },
  {
   "cell_type": "raw",
   "source": [
    "Особые методы сравнения множеств (set, frozenset)\n",
    "\n",
    "set_a.isdisjoint(set_b) — истина, если set_a и set_b не имеют общих элементов.\n",
    "set_b.issubset(set_a) — если все элементы множества set_b принадлежат множеству set_a, то множество set_b целиком входит в множество set_a и является его подмножеством (set_b — подмножество)\n",
    "set_a.issuperset(set_b) — соответственно, если условие выше справедливо, то set_a — надмножество"
   ],
   "metadata": {
    "collapsed": false
   },
   "id": "b02e82b2efa92837"
  },
  {
   "cell_type": "code",
   "execution_count": 21,
   "outputs": [
    {
     "name": "stdout",
     "output_type": "stream",
     "text": [
      "True\n",
      "True\n",
      "True\n"
     ]
    }
   ],
   "source": [
    "set_a = {1, 2, 3}              \n",
    "set_b = {2, 1}                  # порядок элементов не важен!\n",
    "set_c = {4}\n",
    "set_d = {1, 2, 3}\n",
    "\n",
    "print(set_a.isdisjoint(set_c))  # True - нет общих элементов\n",
    "print(set_b.issubset(set_a))    # True  - set_b целиком входит в set_a, значит set_b - подмножество\n",
    "print(set_a.issuperset(set_b))  # True - set_b целиком входит в set_a, значит set_a - надмножество"
   ],
   "metadata": {
    "collapsed": false,
    "ExecuteTime": {
     "end_time": "2024-07-17T09:00:51.495769200Z",
     "start_time": "2024-07-17T09:00:51.487399400Z"
    }
   },
   "id": "9fe37d9b3e729a63"
  },
  {
   "cell_type": "code",
   "execution_count": 22,
   "outputs": [
    {
     "name": "stdout",
     "output_type": "stream",
     "text": [
      "['a', 'b', 'a'] {'a', 'b'} frozenset({'a', 'b'})\n"
     ]
    }
   ],
   "source": [
    "my_tuple = ('a', 'b', 'a')\n",
    "my_list = list(my_tuple)\n",
    "my_set = set(my_tuple)\t\t        # теряем индексы и дубликаты элементов!\n",
    "my_frozenset = frozenset(my_tuple)      # теряем индексы и дубликаты элементов!\n",
    "print(my_list, my_set, my_frozenset)    # ['a', 'b', 'a'] {'a', 'b'} frozenset({'a', 'b'})"
   ],
   "metadata": {
    "collapsed": false,
    "ExecuteTime": {
     "end_time": "2024-07-17T09:03:06.196946Z",
     "start_time": "2024-07-17T09:03:06.184982300Z"
    }
   },
   "id": "6737a2852a771619"
  },
  {
   "cell_type": "code",
   "execution_count": 24,
   "outputs": [
    {
     "data": {
      "text/plain": "{(5, 5, 6), 1, 2, 7}"
     },
     "execution_count": 24,
     "metadata": {},
     "output_type": "execute_result"
    }
   ],
   "source": [
    "myset = {1, 2, (5, 5, 6), 7}\n",
    "myset"
   ],
   "metadata": {
    "collapsed": false,
    "ExecuteTime": {
     "end_time": "2024-07-17T11:33:00.736020400Z",
     "start_time": "2024-07-17T11:33:00.732026700Z"
    }
   },
   "id": "6e9c907fecc7a7db"
  },
  {
   "cell_type": "code",
   "execution_count": 35,
   "outputs": [
    {
     "name": "stdout",
     "output_type": "stream",
     "text": [
      "<class 'set'>\n",
      "<class 'dict'>\n",
      "<class 'set'>\n",
      "<class 'set'>\n",
      "{''}\n",
      "1\n",
      "<class 'set'>\n",
      "<class 'set'>\n"
     ]
    }
   ],
   "source": [
    "my_set = set()\n",
    "print(type(my_set))\n",
    "my_set = {}\n",
    "print(type(my_set))\n",
    "my_set = set('')\n",
    "print(type(my_set))\n",
    "my_set = set([])\n",
    "print(type(my_set))\n",
    "my_set = set([''])\n",
    "print(my_set)\n",
    "print(len(my_set))\n",
    "print(type(my_set))\n",
    "my_set = set(())\n",
    "print(type(my_set))"
   ],
   "metadata": {
    "collapsed": false,
    "ExecuteTime": {
     "end_time": "2024-07-17T11:41:19.071549600Z",
     "start_time": "2024-07-17T11:41:19.068863500Z"
    }
   },
   "id": "6164073a8dbaee7e"
  },
  {
   "cell_type": "code",
   "execution_count": 37,
   "outputs": [
    {
     "name": "stdout",
     "output_type": "stream",
     "text": [
      "6\n"
     ]
    }
   ],
   "source": [
    "myset = set('aaabcccc    11222')\n",
    "myset = set([1, 2, 3, '1', '2', '3'])\n",
    "print(len(myset))"
   ],
   "metadata": {
    "collapsed": false,
    "ExecuteTime": {
     "end_time": "2024-07-17T11:45:13.251092100Z",
     "start_time": "2024-07-17T11:45:13.248589800Z"
    }
   },
   "id": "9696da5a17904763"
  }
 ],
 "metadata": {
  "kernelspec": {
   "display_name": "Python 3",
   "language": "python",
   "name": "python3"
  },
  "language_info": {
   "codemirror_mode": {
    "name": "ipython",
    "version": 2
   },
   "file_extension": ".py",
   "mimetype": "text/x-python",
   "name": "python",
   "nbconvert_exporter": "python",
   "pygments_lexer": "ipython2",
   "version": "2.7.6"
  }
 },
 "nbformat": 4,
 "nbformat_minor": 5
}
