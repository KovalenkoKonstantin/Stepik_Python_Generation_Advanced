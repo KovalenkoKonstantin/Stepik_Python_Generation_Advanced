{
 "cells": [
  {
   "cell_type": "raw",
   "source": [
    "Генераторы множеств"
   ],
   "metadata": {
    "collapsed": false
   },
   "id": "f42eae2e6fbd7620"
  },
  {
   "cell_type": "raw",
   "source": [
    "Для создания множеств в Python можно использовать специальный синтаксис, как при создании списка."
   ],
   "metadata": {
    "collapsed": false
   },
   "id": "1d303c0b7effe29e"
  },
  {
   "cell_type": "code",
   "execution_count": 1,
   "outputs": [],
   "source": [
    "digits = {int(c) for c in input()}"
   ],
   "metadata": {
    "collapsed": false,
    "ExecuteTime": {
     "end_time": "2024-07-23T10:45:21.841960700Z",
     "start_time": "2024-07-23T10:45:19.802662800Z"
    }
   },
   "id": "5721da0aaacfc41c"
  },
  {
   "cell_type": "raw",
   "source": [
    "Общий вид генератора множеств следующий:\n",
    "\n",
    "{выражение for переменная in последовательность},\n",
    "\n",
    "где  выражение — некоторое выражение, как правило, зависящее от использованной в списочном выражении переменной, которым будут заполнены элементы множества переменная — имя некоторой переменной, последовательность — последовательность значений, которые она принимает (любой итерируемый объект)."
   ],
   "metadata": {
    "collapsed": false
   },
   "id": "98c372f95a32bf49"
  },
  {
   "cell_type": "code",
   "execution_count": null,
   "outputs": [],
   "source": [
    "# 1. Создать множество, заполненное квадратами целых чисел от 0 до 9, можно так:\n",
    "squares = {i ** 2 for i in range(10)}\n",
    "\n",
    "# 2. Создать множество, заполненное кубами целых чисел от 10 до 20, можно так:\n",
    "cubes = {i ** 3 for i in range(10, 21)}\n",
    "\n",
    "# 3. Создать множество, заполненное символами строки, можно так:\n",
    "chars = {c for c in 'abcdefg'}"
   ],
   "metadata": {
    "collapsed": false
   },
   "id": "6665234bc58605db"
  },
  {
   "cell_type": "markdown",
   "source": [
    "Условия в генераторе множеств"
   ],
   "metadata": {
    "collapsed": false
   },
   "id": "cb7d7040fcd7153b"
  },
  {
   "cell_type": "raw",
   "source": [
    "В генераторах множеств можно использовать условный оператор. Например, если требуется создать множество, заполненное только цифрами некоторой строки, то мы можем написать такой код:"
   ],
   "metadata": {
    "collapsed": false
   },
   "id": "7a66544b35f1ab14"
  },
  {
   "cell_type": "code",
   "execution_count": 3,
   "outputs": [
    {
     "name": "stdout",
     "output_type": "stream",
     "text": [
      "{0, 1, 2, 7, 8, 9}\n"
     ]
    }
   ],
   "source": [
    "digits = {int(d) for d in 'abcd12ef78ghj90' if d.isdigit()}\n",
    "print(digits)"
   ],
   "metadata": {
    "collapsed": false,
    "ExecuteTime": {
     "end_time": "2024-07-23T10:47:24.623368300Z",
     "start_time": "2024-07-23T10:47:24.615109300Z"
    }
   },
   "id": "1796f720a6397fe2"
  },
  {
   "cell_type": "raw",
   "source": [
    "Используя генератор множеств, дополните приведенный код так, чтобы получить множество, содержащее уникальные значения списка items. Результат вывести на одной строке, в упорядоченном виде, разделяя элементы одним символом пробела.\n",
    "\n",
    "Примечание 1. Обратите внимание, некоторые элементы списка – числа, а некоторые – строки, при этом строки необходимо трактовать как числа.\n",
    "\n",
    "Примечание 2. Чтобы вывести элементы множества в упорядоченном виде используйте следующий код:\n",
    "\n",
    "print(*sorted(myset))"
   ],
   "metadata": {
    "collapsed": false
   },
   "id": "69041b363729cf5c"
  },
  {
   "cell_type": "code",
   "execution_count": null,
   "outputs": [],
   "source": [
    "items = [10, '30', 30, 10, '56', 34, '12', 90, 89, 34, 45, '67', 12, 10, 90, 23, '45', 56, '56', 1, 5, '6', 5]\n",
    "\n",
    "myset = {int(i) for i in items}\n",
    "\n",
    "print(*sorted(myset))"
   ],
   "metadata": {
    "collapsed": false
   },
   "id": "f316069f243f80ad"
  },
  {
   "cell_type": "raw",
   "source": [
    "Используя генератор множеств, дополните приведенный код так, чтобы получить множество, содержащее первую букву каждого слова (в нижнем регистре) списка words. Результат вывести на одной строке в алфавитном порядке, разделяя элементы одним символом пробела."
   ],
   "metadata": {
    "collapsed": false
   },
   "id": "1bfffaaa3bd6ce9f"
  },
  {
   "cell_type": "code",
   "execution_count": 7,
   "outputs": [
    {
     "name": "stdout",
     "output_type": "stream",
     "text": [
      "a c g l o p t w "
     ]
    }
   ],
   "source": [
    "words = ['Plum', 'Grapefruit', 'apple', 'orange', 'pomegranate', 'Cranberry', 'lime', 'Lemon', 'grapes', 'persimmon',\n",
    "         'tangerine', 'Watermelon', 'currant', 'Almond']\n",
    "\n",
    "myset = {i[0].lower() for i in words}\n",
    "\n",
    "print(*sorted(myset), end=' ')"
   ],
   "metadata": {
    "collapsed": false,
    "ExecuteTime": {
     "end_time": "2024-07-23T11:07:24.446316300Z",
     "start_time": "2024-07-23T11:07:24.444637300Z"
    }
   },
   "id": "eb19d80a32cbb267"
  },
  {
   "cell_type": "raw",
   "source": [
    "Используя генератор множеств, дополните приведенный код так, чтобы получить множество, содержащее уникальные слова (в нижнем регистре) строки sentence. Результат вывести на одной строке в алфавитном порядке, разделяя элементы одним символом пробела.\n",
    "\n",
    "Примечание. Учтите, что знаки пунктуации не относятся к словам."
   ],
   "metadata": {
    "collapsed": false
   },
   "id": "180299240015efd1"
  },
  {
   "cell_type": "code",
   "execution_count": 19,
   "outputs": [
    {
     "name": "stdout",
     "output_type": "stream",
     "text": [
      "a about accident all am and at bloom bottom by can darkest day dells died dusk entered for freak furry golden had hedge her hill hollows i if in infancy know lightning memory midges mother my nothing observation of or over past photogenic picnic pocket rambler redolent remnants save set some stand still style subsists suddenly summer sun surely suspended the those three traversed under very warmth was when which with within writing you "
     ]
    }
   ],
   "source": [
    "sentence = '''My very photogenic mother died in a freak accident (picnic, lightning) when I was three, and, save for a pocket of warmth in the darkest past, nothing of her subsists within the hollows and dells of memory, over which, if you can still stand my style (I am writing under observation), the sun of my infancy had set: surely, you all know those redolent remnants of day suspended, with the midges, about some hedge in bloom or suddenly entered and traversed by the rambler, at the bottom of a hill, in the summer dusk; a furry warmth, golden midges.'''\n",
    "\n",
    "sentence = sentence.lower().split()\n",
    "\n",
    "myset = {i.strip(':,.!?();') for i in sentence}\n",
    "\n",
    "print(*sorted(myset), end=' ')"
   ],
   "metadata": {
    "collapsed": false,
    "ExecuteTime": {
     "end_time": "2024-07-23T11:19:47.565828600Z",
     "start_time": "2024-07-23T11:19:47.562610100Z"
    }
   },
   "id": "f7420259e7fba2fe"
  },
  {
   "cell_type": "raw",
   "source": [
    "Используя генератор множеств, дополните приведенный код так, чтобы получить множество, содержащее уникальные слова  строки sentence длиною меньше 4 символов. Результат вывести на одной строке (в нижнем регистре) в алфавитном порядке, разделяя элементы одним символом пробела.\n",
    "\n",
    "Примечание. Учтите, что знаки пунктуации не относятся к словам."
   ],
   "metadata": {
    "collapsed": false
   },
   "id": "dec49dab64711777"
  },
  {
   "cell_type": "code",
   "execution_count": null,
   "outputs": [],
   "source": [
    "sentence = '''My very photogenic mother died in a freak accident (picnic, lightning) when I was three, and, save for a pocket of warmth in the darkest past, nothing of her subsists within the hollows and dells of memory, over which, if you can still stand my style (I am writing under observation), the sun of my infancy had set: surely, you all know those redolent remnants of day suspended, with the midges, about some hedge in bloom or suddenly entered and traversed by the rambler, at the bottom of a hill, in the summer dusk; a furry warmth, golden midges.'''\n",
    "\n",
    "myset = {i.strip(':,.!?();') for i in sentence.lower().split() if len(i.strip(':,.!?();')) < 4}\n",
    "\n",
    "print(*sorted(myset), end=' ')"
   ],
   "metadata": {
    "collapsed": false
   },
   "id": "6c4bf745507c3250"
  },
  {
   "cell_type": "raw",
   "source": [
    "Используя генератор множеств, дополните приведенный код так, чтобы он выбрал из списка files уникальные имена файлов c расширением .png, независимо от регистра имен и расширений. Имена файлов вывести вместе с расширением, все на одной строке, в нижнем регистре, в алфавитном порядке через пробел.\n",
    "\n",
    "Примечание. Если бы список files содержал следующие имена файлов:\n",
    "\n",
    "files = ['python.png', 'qwerty.py', 'Python.PNg', 'apple.pnG', 'zebra.PNG',  'solution.Py', 'stepik.org', 'kotlin.ko', 'github.git', 'ZeBrA.PnG']\n",
    "то ответом был бы:\n",
    "\n",
    "apple.png python.png zebra.png"
   ],
   "metadata": {
    "collapsed": false
   },
   "id": "ede7571291f62bbb"
  },
  {
   "cell_type": "code",
   "execution_count": 22,
   "outputs": [
    {
     "name": "stdout",
     "output_type": "stream",
     "text": [
      "board.png png.png python.png stepik.png "
     ]
    }
   ],
   "source": [
    "files = ['python.png', 'qwerty.py', 'stepik.png', 'beegeek.org', 'windows.pnp', 'pen.txt', 'phone.py', 'book.txT', 'board.pNg', 'keyBoard.jpg', 'Python.PNg', 'apple.jpeg', 'png.png', 'input.tXt', 'split.pop', 'solution.Py', 'stepik.org', 'kotlin.ko', 'github.git']\n",
    "\n",
    "myset = {i.lower() for i in files if i.lower().find('.png') > 0}\n",
    "\n",
    "print(*sorted(myset), end=' ')"
   ],
   "metadata": {
    "collapsed": false,
    "ExecuteTime": {
     "end_time": "2024-07-23T11:26:05.063800800Z",
     "start_time": "2024-07-23T11:26:05.059943200Z"
    }
   },
   "id": "db4fa0638cbcdc1d"
  },
  {
   "cell_type": "code",
   "execution_count": 23,
   "outputs": [
    {
     "name": "stdout",
     "output_type": "stream",
     "text": [
      "board.png png.png python.png stepik.png\n"
     ]
    }
   ],
   "source": [
    "files = ['python.png', 'qwerty.py', 'stepik.png', 'beegeek.org', 'windows.pnp', 'pen.txt', 'phone.py', 'book.txT', 'board.pNg', 'keyBoard.jpg', 'Python.PNg', 'apple.jpeg', 'png.png', 'input.tXt', 'split.pop', 'solution.Py', 'stepik.org', 'kotlin.ko', 'github.git']\n",
    "\n",
    "png_files = {file.lower() for file in files if file.lower().endswith('.png')}\n",
    "print(*sorted(png_files))"
   ],
   "metadata": {
    "collapsed": false,
    "ExecuteTime": {
     "end_time": "2024-07-23T11:26:43.221397100Z",
     "start_time": "2024-07-23T11:26:43.211590700Z"
    }
   },
   "id": "6587a97977f35232"
  },
  {
   "cell_type": "markdown",
   "source": [
    "Frozenset"
   ],
   "metadata": {
    "collapsed": false
   },
   "id": "694a228ac6b7e983"
  },
  {
   "cell_type": "raw",
   "source": [
    "Замороженное множество (frozenset) также является встроенной коллекцией в Python. Обладая характеристиками обычного множества, замороженное множество не может быть изменено после создания"
   ],
   "metadata": {
    "collapsed": false
   },
   "id": "1e22fc2109100462"
  },
  {
   "cell_type": "raw",
   "source": [
    "Кортеж (тип tuple) – неизменяемая версия списка (тип list), а замороженное множество (тип frozenset) – неизменяемая версия обычного множества (тип set)."
   ],
   "metadata": {
    "collapsed": false
   },
   "id": "60204c76de1b144b"
  },
  {
   "cell_type": "raw",
   "source": [
    "Для создания замороженного множества используется встроенная функция frozenset(), которая принимает в качестве аргумента другую коллекцию."
   ],
   "metadata": {
    "collapsed": false
   },
   "id": "fa833315ba0d8326"
  },
  {
   "cell_type": "code",
   "execution_count": 24,
   "outputs": [
    {
     "name": "stdout",
     "output_type": "stream",
     "text": [
      "frozenset({1, 2, 3})\n",
      "frozenset({1, 2, 3, 4, 5, 6})\n",
      "frozenset({'b', 'd', 'c', 'e', 'a'})\n"
     ]
    }
   ],
   "source": [
    "myset1 = frozenset({1, 2, 3})                         # на основе множества\n",
    "myset2 = frozenset([1, 1, 2, 3, 4, 4, 4, 5, 6, 6])    # на основе списка\n",
    "myset3 = frozenset('aabcccddee')                      # на основе строки\n",
    "\n",
    "print(myset1)\n",
    "print(myset2)\n",
    "print(myset3)"
   ],
   "metadata": {
    "collapsed": false,
    "ExecuteTime": {
     "end_time": "2024-07-23T11:28:07.421604200Z",
     "start_time": "2024-07-23T11:28:07.409167700Z"
    }
   },
   "id": "61f769d138e662ef"
  },
  {
   "cell_type": "markdown",
   "source": [
    "Операции над замороженными множествами"
   ],
   "metadata": {
    "collapsed": false
   },
   "id": "b290ec0361691fa"
  },
  {
   "cell_type": "raw",
   "source": [
    "Над замороженными множествами можно производить все операции, которые можно производить над обычными множествами:\n",
    "\n",
    "объединение множеств: метод union() или оператор |;\n",
    "пересечение множеств: метод intersection() или оператор &;\n",
    "разность множеств: метод difference() или оператор -;\n",
    "симметрическая разность множеств: метод symmetric_difference() или оператор ^."
   ],
   "metadata": {
    "collapsed": false
   },
   "id": "faed37addbe26f15"
  },
  {
   "cell_type": "code",
   "execution_count": 25,
   "outputs": [
    {
     "name": "stdout",
     "output_type": "stream",
     "text": [
      "frozenset({'r', 'o', 'w', 'l', 'd', 'h', 'e'})\n",
      "frozenset({'o', 'l'})\n",
      "frozenset({'e', 'r', 'w', 'd', 'h'})\n"
     ]
    }
   ],
   "source": [
    "myset1 = frozenset('hello')\n",
    "myset2 = frozenset('world')\n",
    "\n",
    "print(myset1 | myset2)\n",
    "print(myset1 & myset2)\n",
    "print(myset1 ^ myset2)"
   ],
   "metadata": {
    "collapsed": false,
    "ExecuteTime": {
     "end_time": "2024-07-23T11:29:22.710799100Z",
     "start_time": "2024-07-23T11:29:22.698264600Z"
    }
   },
   "id": "59d67da6ce57addf"
  },
  {
   "cell_type": "raw",
   "source": [
    "Результатом операций над замороженными множествами будут тоже замороженные множества."
   ],
   "metadata": {
    "collapsed": false
   },
   "id": "a4ccfded07fa7a74"
  },
  {
   "cell_type": "markdown",
   "source": [
    "Примечания"
   ],
   "metadata": {
    "collapsed": false
   },
   "id": "7ac80fdea26cdc4d"
  },
  {
   "cell_type": "raw",
   "source": [
    "Примечание 1. Будучи изменяемыми, обычные множества не могут быть элементами других множеств. Замороженные множества являются неизменяемыми, а значит могут быть элементами других множеств."
   ],
   "metadata": {
    "collapsed": false
   },
   "id": "e3d5a14800046e3e"
  },
  {
   "cell_type": "code",
   "execution_count": 26,
   "outputs": [
    {
     "name": "stdout",
     "output_type": "stream",
     "text": [
      "frozenset({'n', 'd'})\n",
      "frozenset({'t', 'w'})\n",
      "frozenset({'t', 'g', 'n', 'h'})\n",
      "frozenset({'t', 'c'})\n",
      "frozenset({'n'})\n",
      "frozenset({'h', 'd'})\n",
      "frozenset({'t', 'h'})\n",
      "frozenset({'c', 's', 'd', 'k'})\n"
     ]
    }
   ],
   "source": [
    "sentence = 'The cat in the hat had two sidekicks, thing one and thing two.'\n",
    "\n",
    "words = sentence.lower().replace('.', '').replace(',', '').split()\n",
    "\n",
    "vowels = ['a', 'e', 'i', 'o', 'u']\n",
    "\n",
    "consonants = {frozenset({letter for letter in word if letter not in vowels}) for word in words}\n",
    "\n",
    "print(*consonants, sep='\\n')"
   ],
   "metadata": {
    "collapsed": false,
    "ExecuteTime": {
     "end_time": "2024-07-23T11:30:13.497322600Z",
     "start_time": "2024-07-23T11:30:13.489834100Z"
    }
   },
   "id": "5cc3b5616250efd4"
  },
  {
   "cell_type": "raw",
   "source": [
    "Примечание 2. Методы, изменяющие множество, отсутствуют у замороженных множеств:\n",
    "\n",
    "add()\n",
    "remove()\n",
    "discard()\n",
    "pop()\n",
    "clear()\n",
    "update()\n",
    "intersection_update()\n",
    "difference_update()\n",
    "symmetric_difference_update()"
   ],
   "metadata": {
    "collapsed": false
   },
   "id": "e2d398be72cde961"
  },
  {
   "cell_type": "raw",
   "source": [
    "Примечание 3. Мы можем сравнивать простые (тип set) и замороженные множества (тип frozenset)."
   ],
   "metadata": {
    "collapsed": false
   },
   "id": "2d31b1f02be988e6"
  },
  {
   "cell_type": "code",
   "execution_count": 27,
   "outputs": [
    {
     "name": "stdout",
     "output_type": "stream",
     "text": [
      "True\n"
     ]
    }
   ],
   "source": [
    "myset1 = set('qwerty')\n",
    "myset2 = frozenset('qwerty')\n",
    "\n",
    "print(myset1 == myset2)"
   ],
   "metadata": {
    "collapsed": false,
    "ExecuteTime": {
     "end_time": "2024-07-23T11:32:10.527496100Z",
     "start_time": "2024-07-23T11:32:10.520009500Z"
    }
   },
   "id": "6ba91d5e16aecdcf"
  },
  {
   "cell_type": "code",
   "execution_count": null,
   "outputs": [],
   "source": [],
   "metadata": {
    "collapsed": false
   },
   "id": "1b81e2dc32ed683c"
  }
 ],
 "metadata": {
  "kernelspec": {
   "display_name": "Python 3",
   "language": "python",
   "name": "python3"
  },
  "language_info": {
   "codemirror_mode": {
    "name": "ipython",
    "version": 2
   },
   "file_extension": ".py",
   "mimetype": "text/x-python",
   "name": "python",
   "nbconvert_exporter": "python",
   "pygments_lexer": "ipython2",
   "version": "2.7.6"
  }
 },
 "nbformat": 4,
 "nbformat_minor": 5
}
