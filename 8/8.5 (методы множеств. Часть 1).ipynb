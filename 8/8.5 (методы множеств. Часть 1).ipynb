{
 "cells": [
  {
   "cell_type": "markdown",
   "source": [
    "Добавление элементов"
   ],
   "metadata": {
    "collapsed": false
   },
   "id": "83b6fe9dca7d7f4"
  },
  {
   "cell_type": "raw",
   "source": [
    "Мы научились создавать множества, элементы которых известны на этапе создания. Следующий шаг – научиться добавлять элементы в уже существующие множества."
   ],
   "metadata": {
    "collapsed": false
   },
   "id": "13766e9bb4e0f656"
  },
  {
   "cell_type": "raw",
   "source": [
    "Метод add()"
   ],
   "metadata": {
    "collapsed": false
   },
   "id": "20897392552de10b"
  },
  {
   "cell_type": "raw",
   "source": [
    "Для добавления нового элемента в множество используется метод add()."
   ],
   "metadata": {
    "collapsed": false
   },
   "id": "672c4a9418777f03"
  },
  {
   "cell_type": "code",
   "execution_count": 1,
   "outputs": [
    {
     "name": "stdout",
     "output_type": "stream",
     "text": [
      "{1, 2, 3, 34, 5, 21, 8}\n"
     ]
    }
   ],
   "source": [
    "numbers = {1, 1, 2, 3, 5, 8, 3}  # создаем множество\n",
    "\n",
    "numbers.add(21)  # добавляем число 21 в множество\n",
    "numbers.add(34)  # добавляем число 34 в множество\n",
    "\n",
    "print(numbers)"
   ],
   "metadata": {
    "collapsed": false,
    "ExecuteTime": {
     "end_time": "2024-07-18T06:40:46.271151Z",
     "start_time": "2024-07-18T06:40:46.266593600Z"
    }
   },
   "id": "9a1b1c4750b651cf"
  },
  {
   "cell_type": "raw",
   "source": [
    "Обратите внимание, для использования метода add() требуется предварительно созданное множество, при этом оно может быть пустым."
   ],
   "metadata": {
    "collapsed": false
   },
   "id": "d9d093e48e6e7652"
  },
  {
   "cell_type": "code",
   "execution_count": 2,
   "outputs": [
    {
     "name": "stdout",
     "output_type": "stream",
     "text": [
      "{1, 2, 3}\n"
     ]
    }
   ],
   "source": [
    "numbers = set()  # создаем пустое множество\n",
    "\n",
    "numbers.add(1)\n",
    "numbers.add(2)\n",
    "numbers.add(3)\n",
    "numbers.add(1)\n",
    "\n",
    "print(numbers)"
   ],
   "metadata": {
    "collapsed": false,
    "ExecuteTime": {
     "end_time": "2024-07-18T06:41:18.859879Z",
     "start_time": "2024-07-18T06:41:18.852355Z"
    }
   },
   "id": "ad939ce8555db44b"
  },
  {
   "cell_type": "raw",
   "source": [
    "Если требуется внести несколько значений в множество, то можно воспользоваться циклом for"
   ],
   "metadata": {
    "collapsed": false
   },
   "id": "3c8a27293c0b8bb9"
  },
  {
   "cell_type": "code",
   "execution_count": 3,
   "outputs": [
    {
     "name": "stdout",
     "output_type": "stream",
     "text": [
      "{1, 2, 65, 5, 37, 10, 17, 50, 82, 26}\n"
     ]
    }
   ],
   "source": [
    "numbers = set()  # создаем пустое множество\n",
    "\n",
    "for i in range(10):\n",
    "    numbers.add(i * i + 1)\n",
    "\n",
    "print(numbers)"
   ],
   "metadata": {
    "collapsed": false,
    "ExecuteTime": {
     "end_time": "2024-07-18T06:41:38.308432700Z",
     "start_time": "2024-07-18T06:41:38.302187700Z"
    }
   },
   "id": "d744e71cb5cf717d"
  },
  {
   "cell_type": "markdown",
   "source": [
    "Удаление элемента"
   ],
   "metadata": {
    "collapsed": false
   },
   "id": "d782c23248aeec6b"
  },
  {
   "cell_type": "raw",
   "source": [
    "Для удаления элементов из множества используются методы:\n",
    "\n",
    "    remove();\n",
    "    discard();\n",
    "    pop()"
   ],
   "metadata": {
    "collapsed": false
   },
   "id": "f85b589d75d658a2"
  },
  {
   "cell_type": "markdown",
   "source": [
    "Метод remove()"
   ],
   "metadata": {
    "collapsed": false
   },
   "id": "702ba2894b03285b"
  },
  {
   "cell_type": "raw",
   "source": [
    "Метод remove() удаляет элемент из множества с генерацией исключения (ошибки) в случае, если такого элемента нет."
   ],
   "metadata": {
    "collapsed": false
   },
   "id": "f35295e532bce350"
  },
  {
   "cell_type": "code",
   "execution_count": 4,
   "outputs": [
    {
     "name": "stdout",
     "output_type": "stream",
     "text": [
      "{1, 2, 4, 5}\n"
     ]
    }
   ],
   "source": [
    "numbers = {1, 2, 3, 4, 5}\n",
    "\n",
    "numbers.remove(3)\n",
    "print(numbers)"
   ],
   "metadata": {
    "collapsed": false,
    "ExecuteTime": {
     "end_time": "2024-07-18T06:42:41.731927100Z",
     "start_time": "2024-07-18T06:42:41.725012800Z"
    }
   },
   "id": "a9b06f6910eacaf6"
  },
  {
   "cell_type": "code",
   "execution_count": 5,
   "outputs": [
    {
     "ename": "KeyError",
     "evalue": "10",
     "output_type": "error",
     "traceback": [
      "\u001B[1;31m---------------------------------------------------------------------------\u001B[0m",
      "\u001B[1;31mKeyError\u001B[0m                                  Traceback (most recent call last)",
      "Cell \u001B[1;32mIn[5], line 3\u001B[0m\n\u001B[0;32m      1\u001B[0m numbers \u001B[38;5;241m=\u001B[39m {\u001B[38;5;241m1\u001B[39m, \u001B[38;5;241m2\u001B[39m, \u001B[38;5;241m3\u001B[39m, \u001B[38;5;241m4\u001B[39m, \u001B[38;5;241m5\u001B[39m}\n\u001B[1;32m----> 3\u001B[0m \u001B[43mnumbers\u001B[49m\u001B[38;5;241;43m.\u001B[39;49m\u001B[43mremove\u001B[49m\u001B[43m(\u001B[49m\u001B[38;5;241;43m10\u001B[39;49m\u001B[43m)\u001B[49m\n\u001B[0;32m      4\u001B[0m \u001B[38;5;28mprint\u001B[39m(numbers)\n",
      "\u001B[1;31mKeyError\u001B[0m: 10"
     ]
    }
   ],
   "source": [
    "numbers = {1, 2, 3, 4, 5}\n",
    "\n",
    "numbers.remove(10)\n",
    "print(numbers)"
   ],
   "metadata": {
    "collapsed": false,
    "ExecuteTime": {
     "end_time": "2024-07-18T06:42:49.766735900Z",
     "start_time": "2024-07-18T06:42:49.541553500Z"
    }
   },
   "id": "c4a22a78d9cd642e"
  },
  {
   "cell_type": "raw",
   "source": [
    "приводит к возникновению ошибки KeyError, так как элемент 10 отсутствует в множестве."
   ],
   "metadata": {
    "collapsed": false
   },
   "id": "f38b84d86534306e"
  },
  {
   "cell_type": "markdown",
   "source": [
    "Метод discard()"
   ],
   "metadata": {
    "collapsed": false
   },
   "id": "f7bcd5b7765d04a1"
  },
  {
   "cell_type": "raw",
   "source": [
    "Метод discard() удаляет элемент из множества без генерации исключения (ошибки), если элемент отсутствует."
   ],
   "metadata": {
    "collapsed": false
   },
   "id": "107538bf98e86b62"
  },
  {
   "cell_type": "code",
   "execution_count": 6,
   "outputs": [
    {
     "name": "stdout",
     "output_type": "stream",
     "text": [
      "{1, 2, 4, 5}\n"
     ]
    }
   ],
   "source": [
    "numbers = {1, 2, 3, 4, 5}\n",
    "\n",
    "numbers.discard(3)\n",
    "print(numbers)"
   ],
   "metadata": {
    "collapsed": false,
    "ExecuteTime": {
     "end_time": "2024-07-18T06:43:41.172396300Z",
     "start_time": "2024-07-18T06:43:41.163872Z"
    }
   },
   "id": "d9977c0ed6b01634"
  },
  {
   "cell_type": "code",
   "execution_count": 7,
   "outputs": [
    {
     "name": "stdout",
     "output_type": "stream",
     "text": [
      "{1, 2, 3, 4, 5}\n"
     ]
    }
   ],
   "source": [
    "numbers = {1, 2, 3, 4, 5}\n",
    "\n",
    "numbers.discard(10)\n",
    "print(numbers)"
   ],
   "metadata": {
    "collapsed": false,
    "ExecuteTime": {
     "end_time": "2024-07-18T06:43:47.956600Z",
     "start_time": "2024-07-18T06:43:47.948848600Z"
    }
   },
   "id": "f8fa162f1d6339d5"
  },
  {
   "cell_type": "raw",
   "source": [
    "не приводит к возникновению ошибки"
   ],
   "metadata": {
    "collapsed": false
   },
   "id": "2b2d80fc24e2f4ac"
  },
  {
   "cell_type": "markdown",
   "source": [
    "Метод pop()"
   ],
   "metadata": {
    "collapsed": false
   },
   "id": "4bb15c4e8afdb488"
  },
  {
   "cell_type": "raw",
   "source": [
    "Метод pop() удаляет и возвращает случайный элемент из множества с генерацией исключения (ошибки) при попытке удаления из пустого множества"
   ],
   "metadata": {
    "collapsed": false
   },
   "id": "df7f575f3bb3c8e5"
  },
  {
   "cell_type": "code",
   "execution_count": 8,
   "outputs": [
    {
     "name": "stdout",
     "output_type": "stream",
     "text": [
      "до удаления: {1, 2, 3, 4, 5}\n",
      "удалённый элемент: 1\n",
      "после удаления: {2, 3, 4, 5}\n"
     ]
    }
   ],
   "source": [
    "numbers = {1, 2, 3, 4, 5}\n",
    "\n",
    "print('до удаления:', numbers)\n",
    "\n",
    "num = numbers.pop()  # удаляет случайный элемент множества, возвращая его\n",
    "\n",
    "print('удалённый элемент:', num)\n",
    "\n",
    "print('после удаления:', numbers)"
   ],
   "metadata": {
    "collapsed": false,
    "ExecuteTime": {
     "end_time": "2024-07-18T06:44:30.340336200Z",
     "start_time": "2024-07-18T06:44:30.332610600Z"
    }
   },
   "id": "68a8644cd37541b6"
  },
  {
   "cell_type": "raw",
   "source": [
    "Метод pop() можно воспринимать как неконтролируемый способ удаления элементов по одному из множества."
   ],
   "metadata": {
    "collapsed": false
   },
   "id": "eb6932cb69695b4"
  },
  {
   "cell_type": "markdown",
   "source": [
    "Метод clear()"
   ],
   "metadata": {
    "collapsed": false
   },
   "id": "c9e97d2718d9877b"
  },
  {
   "cell_type": "raw",
   "source": [
    "Метод clear() удаляет все элементы из множества."
   ],
   "metadata": {
    "collapsed": false
   },
   "id": "39fbd8f1468e9e49"
  },
  {
   "cell_type": "code",
   "execution_count": 9,
   "outputs": [
    {
     "name": "stdout",
     "output_type": "stream",
     "text": [
      "set()\n"
     ]
    }
   ],
   "source": [
    "numbers = {1, 2, 3, 4, 5}\n",
    "numbers.clear()\n",
    "\n",
    "print(numbers)"
   ],
   "metadata": {
    "collapsed": false,
    "ExecuteTime": {
     "end_time": "2024-07-18T06:45:37.155169900Z",
     "start_time": "2024-07-18T06:45:37.147240600Z"
    }
   },
   "id": "54acbf8aa2780348"
  },
  {
   "cell_type": "raw",
   "source": [
    "Обратите внимание на то, что пустое множество выводится как set(), а не как {}. С помощью {} выводится пустой словарь."
   ],
   "metadata": {
    "collapsed": false
   },
   "id": "c8a490af21b52e2e"
  },
  {
   "cell_type": "raw",
   "source": [
    "Примечания\n",
    "Примечание 1. Если мы не изменяли множество, порядок обхода элементов при помощи цикла for не изменится.\n",
    "\n",
    "Примечание 2. После изменения множества (методы add(), remove(), и т.д.) порядок элементов может измениться произвольным образом."
   ],
   "metadata": {
    "collapsed": false
   },
   "id": "b30b13f13eaf328a"
  },
  {
   "cell_type": "code",
   "execution_count": 14,
   "outputs": [
    {
     "ename": "TypeError",
     "evalue": "set.pop() takes no arguments (1 given)",
     "output_type": "error",
     "traceback": [
      "\u001B[1;31m---------------------------------------------------------------------------\u001B[0m",
      "\u001B[1;31mTypeError\u001B[0m                                 Traceback (most recent call last)",
      "Cell \u001B[1;32mIn[14], line 2\u001B[0m\n\u001B[0;32m      1\u001B[0m myset \u001B[38;5;241m=\u001B[39m {\u001B[38;5;124m'\u001B[39m\u001B[38;5;124mYellow\u001B[39m\u001B[38;5;124m'\u001B[39m, \u001B[38;5;124m'\u001B[39m\u001B[38;5;124mOrange\u001B[39m\u001B[38;5;124m'\u001B[39m, \u001B[38;5;124m'\u001B[39m\u001B[38;5;124mBlack\u001B[39m\u001B[38;5;124m'\u001B[39m}\n\u001B[1;32m----> 2\u001B[0m \u001B[43mmyset\u001B[49m\u001B[38;5;241;43m.\u001B[39;49m\u001B[43mpop\u001B[49m\u001B[43m(\u001B[49m\u001B[38;5;124;43m'\u001B[39;49m\u001B[38;5;124;43mOrange\u001B[39;49m\u001B[38;5;124;43m'\u001B[39;49m\u001B[43m)\u001B[49m\n\u001B[0;32m      3\u001B[0m \u001B[38;5;28mprint\u001B[39m(myset)\n",
      "\u001B[1;31mTypeError\u001B[0m: set.pop() takes no arguments (1 given)"
     ]
    }
   ],
   "source": [
    "myset = {'Yellow', 'Orange', 'Black'}\n",
    "myset.pop('Orange')\n",
    "print(myset)"
   ],
   "metadata": {
    "collapsed": false,
    "ExecuteTime": {
     "end_time": "2024-07-18T06:49:26.711849800Z",
     "start_time": "2024-07-18T06:49:26.697948800Z"
    }
   },
   "id": "50a1a44809ca1cd3"
  },
  {
   "cell_type": "code",
   "execution_count": 15,
   "outputs": [
    {
     "name": "stdout",
     "output_type": "stream",
     "text": [
      "python 0\n"
     ]
    }
   ],
   "source": [
    "myset = {'python'}\n",
    "\n",
    "item = myset.pop()\n",
    "print(item, len(myset))"
   ],
   "metadata": {
    "collapsed": false,
    "ExecuteTime": {
     "end_time": "2024-07-18T06:51:25.123715100Z",
     "start_time": "2024-07-18T06:51:25.121397Z"
    }
   },
   "id": "681f31f3558197f4"
  },
  {
   "cell_type": "code",
   "execution_count": 18,
   "outputs": [
    {
     "name": "stdout",
     "output_type": "stream",
     "text": [
      "{'p', 'y', 'h', 'o', 't', 'n'}\n",
      "p\n",
      "p 5\n"
     ]
    }
   ],
   "source": [
    "myset = set('python')\n",
    "print(myset)\n",
    "item = myset.pop()\n",
    "print(item)\n",
    "print(item, len(myset))"
   ],
   "metadata": {
    "collapsed": false,
    "ExecuteTime": {
     "end_time": "2024-07-18T06:54:22.009443400Z",
     "start_time": "2024-07-18T06:54:22.007016600Z"
    }
   },
   "id": "a8758172242e314a"
  },
  {
   "cell_type": "code",
   "execution_count": 20,
   "outputs": [
    {
     "name": "stdout",
     "output_type": "stream",
     "text": [
      "set()\n"
     ]
    },
    {
     "ename": "KeyError",
     "evalue": "'pop from an empty set'",
     "output_type": "error",
     "traceback": [
      "\u001B[1;31m---------------------------------------------------------------------------\u001B[0m",
      "\u001B[1;31mKeyError\u001B[0m                                  Traceback (most recent call last)",
      "Cell \u001B[1;32mIn[20], line 3\u001B[0m\n\u001B[0;32m      1\u001B[0m myset \u001B[38;5;241m=\u001B[39m \u001B[38;5;28mset\u001B[39m()\n\u001B[0;32m      2\u001B[0m \u001B[38;5;28mprint\u001B[39m(myset)\n\u001B[1;32m----> 3\u001B[0m item \u001B[38;5;241m=\u001B[39m \u001B[43mmyset\u001B[49m\u001B[38;5;241;43m.\u001B[39;49m\u001B[43mpop\u001B[49m\u001B[43m(\u001B[49m\u001B[43m)\u001B[49m\n\u001B[0;32m      4\u001B[0m \u001B[38;5;28mprint\u001B[39m(item)\n",
      "\u001B[1;31mKeyError\u001B[0m: 'pop from an empty set'"
     ]
    }
   ],
   "source": [
    "myset = set()\n",
    "print(myset)\n",
    "item = myset.pop()\n",
    "print(item)"
   ],
   "metadata": {
    "collapsed": false,
    "ExecuteTime": {
     "end_time": "2024-07-18T06:56:03.216222700Z",
     "start_time": "2024-07-18T06:56:03.203053300Z"
    }
   },
   "id": "5db3ad242fdbd8f9"
  },
  {
   "cell_type": "code",
   "execution_count": 22,
   "outputs": [
    {
     "name": "stdout",
     "output_type": "stream",
     "text": [
      "{'even', 'odd'}\n"
     ]
    }
   ],
   "source": [
    "myset = set()\n",
    "for i in range(10):\n",
    "    if i % 2 == 0:\n",
    "        myset.add('even')\n",
    "    else:\n",
    "        myset.add('odd')\n",
    "print(myset)"
   ],
   "metadata": {
    "collapsed": false,
    "ExecuteTime": {
     "end_time": "2024-07-18T06:57:37.501428100Z",
     "start_time": "2024-07-18T06:57:37.498659Z"
    }
   },
   "id": "c4490ec7cfb28524"
  },
  {
   "cell_type": "raw",
   "source": [
    "Напишите программу для вывода количества уникальных символов каждого считанного слова без учета регистра.\n",
    "\n",
    "Формат входных данных\n",
    "На вход программе в первой строке подается число n – общее количество слов. Далее идут n строк с словами.\n",
    "\n",
    "Формат выходных данных\n",
    "Программа должна вывести на отдельной строке количество уникальных символов для каждого слова."
   ],
   "metadata": {
    "collapsed": false
   },
   "id": "2bfa9b84e6b47812"
  },
  {
   "cell_type": "code",
   "execution_count": null,
   "outputs": [],
   "source": [
    "n = int(input())\n",
    "\n",
    "s = [input().lower() for i in range(n)]\n",
    "print(s)\n",
    "for i in s:\n",
    "    print(len(set(i)))"
   ],
   "metadata": {
    "collapsed": false
   },
   "id": "dbbc16c1ed4592fa"
  },
  {
   "cell_type": "raw",
   "source": [
    "Напишите программу для вывода общего количества уникальных символов во всех считанных словах без учета регистра.\n",
    "\n",
    "Формат входных данных\n",
    "На вход программе в первой строке подается число n – общее количество слов. Далее идут n строк со словами.\n",
    "\n",
    "Формат выходных данных\n",
    "Программа должна вывести одно число – общее количество уникальных символов во всех словах без учета регистра."
   ],
   "metadata": {
    "collapsed": false
   },
   "id": "a95ba39b61c5a4a2"
  },
  {
   "cell_type": "code",
   "execution_count": null,
   "outputs": [],
   "source": [
    "s = [input().lower() for i in range(int(input()))]\n",
    "\n",
    "print(len(set([''.join(j) for i in s for j in i])))"
   ],
   "metadata": {
    "collapsed": false
   },
   "id": "6ff432d6f3dbca19"
  },
  {
   "cell_type": "raw",
   "source": [
    "Напишите программу для определения общего количества различных слов в строке текста.\n",
    "\n",
    "Формат входных данных\n",
    "На вход программе подается строка текста.\n",
    "\n",
    "Формат выходных данных\n",
    "Программа должна вывести одно число – общее количество различных слов в строке без учета регистра.\n",
    "\n",
    "Примечание 1. Словом считается последовательность непробельных символов, идущих подряд, слова разделены одним или большим числом пробелов.\n",
    "\n",
    "Примечание 2. Знаками препинания .,;:-?! пренебрегаем."
   ],
   "metadata": {
    "collapsed": false
   },
   "id": "659e6bc60a9fcfc9"
  },
  {
   "cell_type": "code",
   "execution_count": null,
   "outputs": [],
   "source": [
    "import re\n",
    "\n",
    "# re.sub(pattern, replacement, original_string)\n",
    "# pattern: знаки препинания или шаблон выражений, которые мы хотим заменить.\n",
    "# replacement: строка, которая будет заменять шаблон.\n",
    "\n",
    "s = re.sub(r'[.,;:-?-!]', '', input().lower()).split()\n",
    "\n",
    "print(len(set(s)))"
   ],
   "metadata": {
    "collapsed": false
   },
   "id": "e891dcd85fdb8eb3"
  },
  {
   "cell_type": "code",
   "execution_count": null,
   "outputs": [],
   "source": [
    "words = [word.lower().strip('.,;:-?!') for word in input().split()]\n",
    "\n",
    "print(len(set(words)))"
   ],
   "metadata": {
    "collapsed": false
   },
   "id": "93d2663030c1ff35"
  },
  {
   "cell_type": "code",
   "execution_count": null,
   "outputs": [],
   "source": [
    "text = input().lower()\n",
    "for sign in '.,;:-?!':\n",
    "    text = text.replace(sign, '')\n",
    "print(len(set(text.split())))"
   ],
   "metadata": {
    "collapsed": false
   },
   "id": "49ce38a31d4bd04e"
  },
  {
   "cell_type": "raw",
   "source": [
    "На вход программе подается строка текста, содержащая числа. Для каждого числа выведите слово YES (в отдельной строке), если это число ранее встречалось в последовательности или NO, если не встречалось.\n",
    "\n",
    "Формат входных данных\n",
    "На вход программе подается строка текста, содержащая числа, разделенные символом пробела.\n",
    "\n",
    "Формат выходных данных\n",
    "Программа должна вывести текст в соответствии с условием задачи.\n",
    "\n",
    "Примечание. Ведущие нули в числах должны игнорироваться."
   ],
   "metadata": {
    "collapsed": false
   },
   "id": "978e73272820929b"
  },
  {
   "cell_type": "code",
   "execution_count": 25,
   "outputs": [
    {
     "name": "stdout",
     "output_type": "stream",
     "text": [
      "NO\n",
      "NO\n",
      "NO\n",
      "YES\n",
      "YES\n",
      "NO\n",
      "NO\n",
      "YES\n"
     ]
    }
   ],
   "source": [
    "# s = input().split()\n",
    "s = ('1 2 3 002 03 4 5 05').split()\n",
    "\n",
    "st = set()\n",
    "\n",
    "for symbol in s:\n",
    "    print('NO' if int(symbol) not in st else 'YES')\n",
    "    st.add(int(symbol))"
   ],
   "metadata": {
    "collapsed": false,
    "ExecuteTime": {
     "end_time": "2024-07-19T11:33:44.951661600Z",
     "start_time": "2024-07-19T11:33:44.947672200Z"
    }
   },
   "id": "3de54c59083a2ed9"
  },
  {
   "cell_type": "raw",
   "source": [
    "У каждой задачи на Stepik есть виджет с процентом верных решений и общим количеством решений. В последнее время у Stepik барахлит алгоритм, обновляющий этот виджет. Помогите Stepik и напишите программу, которая будет подсчитывать, сколько учеников решили задачу и сколько верных попыток составляет от общего числа попыток.\n",
    "\n",
    "На вход вашей программе подаётся число n – общее число попыток решить задачу. Далее на вход подаются n строк, каждая в следующем формате:\n",
    "\n",
    "<никнейм>: <результат проверяющей системы>\n",
    "где <результат проверяющей системы> может принимать только два значения: Correct (задача решена верно) или Wrong (задача решена неверно).\n",
    "\n",
    "Ваша программа должна посчитать и вывести, сколько учащихся решили верно задачу и сколько верных попыток из всех в следующих форматах:\n",
    "\n",
    "Верно решили <количество верно решивших учащихся> учащихся\n",
    "Из всех попыток <процент верных решений>% верных\n",
    "где <количество верно решивших учащихся> – количество уникальных учащихся, которые верно решили задачу.\n",
    "\n",
    "При этом если у задачи ещё нет верных отправок решений, то программа должна вывести текст:\n",
    "\n",
    "Вы можете стать первым, кто решит эту задачу\n",
    "Процент верных решений ваша программа должна округлять до целого числа по математическим правилам (см. Примечание 1).\n",
    "\n",
    "Формат входных данных\n",
    "На вход программе подаются число n, а затем – n строк, представляющих собой решения учащихся.\n",
    "\n",
    "Формат выходных данных\n",
    "Программа должна вывести текст в соответствии с условием задачи\n",
    "\n",
    "Примечание 1. Округление процента решений должно осуществляться по математическим правилам: число округляем в меньшую сторону, если дробная часть менее 0.5, или в большую сторону в противном случае. Например:\n",
    "\n",
    "8.25≈8\n",
    "8.5≈9\n",
    "8.75≈9\n",
    "\n",
    "Примечание 2. Гарантируется, что для разных учащихся никнейм не может совпадать.\n",
    "\n",
    "Примечание 3. Гарантируется, что никнейм учащегося не может содержать символ двоеточия (:)."
   ],
   "metadata": {
    "collapsed": false
   },
   "id": "f2dea16c83b0115f"
  },
  {
   "cell_type": "code",
   "execution_count": null,
   "outputs": [],
   "source": [
    "n = int(input())\n",
    "l = [input() for i in range(n)]\n",
    "\n",
    "l_copy_separated = [i.split(': ') for i in l]\n",
    "correct = 0\n",
    "for i in l_copy_separated:\n",
    "    for j in i:\n",
    "        if j == 'Correct':\n",
    "            correct += 1\n",
    "\n",
    "# Создаем множество с использованием генератора\n",
    "st = {i for i in l}\n",
    "\n",
    "l_unique = [i.split(': ') for i in st]\n",
    "\n",
    "new_list = []\n",
    "\n",
    "for answer in l_unique:\n",
    "    for details in answer:\n",
    "        new_list.append(details)\n",
    "\n",
    "unique_correct = 0\n",
    "for i in new_list:\n",
    "    if i == 'Correct':\n",
    "        unique_correct += 1\n",
    "\n",
    "if correct == 0:\n",
    "    print('Вы можете стать первым, кто решит эту задачу')\n",
    "else:\n",
    "    print(f'Верно решили {unique_correct} учащихся')\n",
    "    print(f'Из всех попыток {int(correct / n * 100 + 0.5)}% верных')\n",
    "\n",
    "# Если дробная часть числа меньше 0.5, число округляется вниз.\n",
    "# Если дробная часть числа больше 0.5, число округляется вверх.\n",
    "# Если дробная часть числа равна 0.5, число округляется до ближайшего четного числа.\n",
    "# Как обойти банковское округление:\n",
    "# int(x + 0.5)"
   ],
   "metadata": {
    "collapsed": false
   },
   "id": "7d0192db2260df3e"
  }
 ],
 "metadata": {
  "kernelspec": {
   "display_name": "Python 3",
   "language": "python",
   "name": "python3"
  },
  "language_info": {
   "codemirror_mode": {
    "name": "ipython",
    "version": 2
   },
   "file_extension": ".py",
   "mimetype": "text/x-python",
   "name": "python",
   "nbconvert_exporter": "python",
   "pygments_lexer": "ipython2",
   "version": "2.7.6"
  }
 },
 "nbformat": 4,
 "nbformat_minor": 5
}
