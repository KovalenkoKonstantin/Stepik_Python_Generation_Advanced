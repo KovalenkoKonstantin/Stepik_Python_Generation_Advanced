{
 "cells": [
  {
   "cell_type": "raw",
   "source": [
    "На вход программе подаются два натуральных числа n и m — количество строк и столбцов в матрице. Создайте матрицу mult размером n×m и заполните её таблицей умножения по формуле mult[i][j] = i * j.\n",
    "\n",
    "Формат входных данных\n",
    "На вход программе на разных строках подаются два числа n и m — количество строк и столбцов в матрице.\n",
    "\n",
    "Формат выходных данных\n",
    "Программа должна вывести таблицу умножения отводя на вывод каждого числа ровно 3 символа (для этого используйте строковый метод ljust())."
   ],
   "metadata": {
    "collapsed": false
   },
   "id": "4130cb761baef0dc"
  },
  {
   "cell_type": "code",
   "execution_count": 43,
   "outputs": [
    {
     "name": "stdout",
     "output_type": "stream",
     "text": [
      "[0, 0, 0, 0, 0, 0] [0, 1, 2, 3, 4, 5] [0, 2, 4, 6, 8, 10] [0, 3, 6, 9, 12, 15]\n",
      "['0  ', '0  ', '0  ', '0  ', '0  ', '0  ']\n",
      "0   0   0   0   0   0  \n",
      "['0  ', '1  ', '2  ', '3  ', '4  ', '5  ']\n",
      "0   1   2   3   4   5  \n",
      "['0  ', '2  ', '4  ', '6  ', '8  ', '10 ']\n",
      "0   2   4   6   8   10 \n",
      "['0  ', '3  ', '6  ', '9  ', '12 ', '15 ']\n",
      "0   3   6   9   12  15 \n",
      "\n",
      "['0  ', '0  ', '0  ', '0  ', '0  ', '0  ']\n",
      "0   0   0   0   0   0  \n",
      "['0  ', '1  ', '2  ', '3  ', '4  ', '5  ']\n",
      "0   1   2   3   4   5  \n",
      "['0  ', '2  ', '4  ', '6  ', '8  ', '10 ']\n",
      "0   2   4   6   8   10 \n",
      "['0  ', '3  ', '6  ', '9  ', '12 ', '15 ']\n",
      "0   3   6   9   12  15 \n"
     ]
    }
   ],
   "source": [
    "# n, m = int(input()), int(input())\n",
    "n, m = 4, 6\n",
    "\n",
    "mult = [[i * j for i in range(m)] for j in range(n)]\n",
    "\n",
    "print(*mult)\n",
    "formatted = []\n",
    "for row in mult:\n",
    "    for elem in row:\n",
    "        formatted.append(str(elem).ljust(3))\n",
    "    print(formatted)\n",
    "    print(*formatted)\n",
    "    formatted = []\n",
    "\n",
    "print()\n",
    "# Выводим матрицу построчно\n",
    "for row in mult:\n",
    "    # Преобразуем каждый элемент строки в строку и выравниваем его по правому краю с шириной 3\n",
    "    formatted_row = [str(elem).ljust(3) for elem in row]\n",
    "    print(formatted_row)\n",
    "    # Объединяем элементы строки в одну строку и печатаем\n",
    "    print(' '.join(formatted_row))"
   ],
   "metadata": {
    "collapsed": false,
    "ExecuteTime": {
     "end_time": "2024-07-08T09:37:04.795096400Z",
     "start_time": "2024-07-08T09:37:04.789968600Z"
    }
   },
   "id": "77defdd4a78e7227"
  },
  {
   "cell_type": "raw",
   "source": [
    "На вход программе подаются два натуральных числа n и m — количество строк и столбцов в матрице, затем n строк по m целых чисел в каждой, отделенных символом пробела.\n",
    "\n",
    "Напишите программу, которая находит индексы (строку и столбец) первого вхождения максимального элемента.\n",
    "\n",
    "Формат входных данных\n",
    "На вход программе на разных строках подаются два числа n и m — количество строк и столбцов в матрице, затем сами элементы матрицы построчно через пробел.\n",
    "\n",
    "Формат выходных данных\n",
    "Программа должна вывести два числа: номер строки и номер столбца, в которых стоит наибольший элемент таблицы. Если таких элементов несколько, то выводится тот, у которого меньше номер строки, а если номера строк равны то тот, у которого меньше номер столбца.\n",
    "\n",
    "Примечание. Считайте, что нумерация строк и столбцов начинается с нуля."
   ],
   "metadata": {
    "collapsed": false
   },
   "id": "cc23b5ee01265411"
  },
  {
   "cell_type": "code",
   "execution_count": null,
   "outputs": [],
   "source": [
    "row, col = int(input()), int(input())\n",
    "\n",
    "matrix = [list(map(int, input().split())) for _ in range(row)]\n",
    "\n",
    "print(matrix)\n",
    "el = min(min(matrix))\n",
    "search = []\n",
    "\n",
    "for i in range(len(matrix)):\n",
    "    for j in range(len(matrix[i])):\n",
    "        if matrix[i][j] > el:\n",
    "            search = []\n",
    "            el = matrix[i][j]\n",
    "            search.append(i)\n",
    "            search.append(j)\n",
    "\n",
    "print(*search)"
   ],
   "metadata": {
    "collapsed": false
   },
   "id": "5675808c0e273da6"
  },
  {
   "cell_type": "raw",
   "source": [
    "Напишите программу, которая меняет местами столбцы в матрице.\n",
    "\n",
    "Формат входных данных\n",
    "На вход программе на разных строках подаются два натуральных числа n и m — количество строк и столбцов в матрице, затем элементы матрицы построчно через пробел, затем числа i и j — номера столбцов, подлежащих обмену.\n",
    "\n",
    "Формат выходных данных\n",
    "Программа должна вывести указанную таблицу с замененными столбцами."
   ],
   "metadata": {
    "collapsed": false
   },
   "id": "d7e2e4fcd792d033"
  },
  {
   "cell_type": "code",
   "execution_count": null,
   "outputs": [],
   "source": [
    "row, col = int(input()), int(input())\n",
    "\n",
    "matrix = [list(map(int, input().split())) for _ in range(row)]\n",
    "print(matrix)\n",
    "print()\n",
    "\n",
    "for i in range(row):\n",
    "    for j in range(col):\n",
    "        print(matrix[i][j], end=' ')\n",
    "    print()\n",
    "\n",
    "i, j = input().split()\n",
    "\n",
    "print(i)\n",
    "print(j)\n",
    "\n",
    "for r in range(row):\n",
    "    for c in range(col):\n",
    "        if c == int(i):\n",
    "            print(matrix[r][int(j)], end=' ')\n",
    "        elif c == int(j):\n",
    "            print(matrix[r][int(i)], end=' ')\n",
    "        else:\n",
    "            print(matrix[r][c], end=' ')\n",
    "    print()"
   ],
   "metadata": {
    "collapsed": false
   },
   "id": "805afc54d6be682e"
  },
  {
   "cell_type": "code",
   "execution_count": null,
   "outputs": [],
   "source": [
    "n, m = int(input()), int(input())\n",
    "matrix = [input().split() for _ in range(n)]\n",
    "col1, col2 = [int(i) for i in input().split()]\n",
    "\n",
    "for i in range(n):\n",
    "    matrix[i][col1], matrix[i][col2] = matrix[i][col2], matrix[i][col1]\n",
    "\n",
    "for row in matrix:\n",
    "    print(*row)"
   ],
   "metadata": {
    "collapsed": false
   },
   "id": "fca1c9b9157287ee"
  },
  {
   "cell_type": "raw",
   "source": [
    "Напишите программу, которая проверяет симметричность квадратной матрицы относительно главной диагонали.\n",
    "\n",
    "Формат входных данных\n",
    "На вход программе подаётся натуральное число n — количество строк и столбцов в матрице, затем элементы матрицы построчно через пробел.\n",
    "\n",
    "Формат выходных данных\n",
    "Программа должна вывести YES, если матрица симметрична относительно главной диагонали, и слово NO в противном случае."
   ],
   "metadata": {
    "collapsed": false
   },
   "id": "afd25f610493d2bd"
  },
  {
   "cell_type": "code",
   "execution_count": null,
   "outputs": [],
   "source": [
    "n = int(input())\n",
    "\n",
    "matrix = [list(map(int, input().split())) for _ in range(n)]\n",
    "print(matrix)\n",
    "\n",
    "flag = False\n",
    "\n",
    "for i in range(n):\n",
    "    for j in range(n):\n",
    "        if matrix[i][j] == matrix[j][i] and i != j:\n",
    "            flag = True\n",
    "        elif matrix[i][j] != matrix[j][i] and i != j:\n",
    "            flag = False\n",
    "            break\n",
    "\n",
    "print('YES' if flag else 'NO')"
   ],
   "metadata": {
    "collapsed": false
   },
   "id": "41fd0251df512527"
  },
  {
   "cell_type": "raw",
   "source": [
    "Дана квадратная матрица чисел. Напишите программу, которая меняет местами элементы, стоящие на главной и побочной диагонали, при этом каждый элемент должен остаться в том же столбце (то есть в каждом столбце нужно поменять местами элемент на главной диагонали и на побочной диагонали).\n",
    "\n",
    "Формат входных данных\n",
    "На вход программе подаётся натуральное число n — количество строк и столбцов в матрице, затем элементы матрицы построчно через пробел.\n",
    "\n",
    "Формат выходных данных\n",
    "Программа должна вывести матрицу с элементами главной и побочной диагонали, поменявшимися своими местами."
   ],
   "metadata": {
    "collapsed": false
   },
   "id": "a3ec9374be8d4e8b"
  },
  {
   "cell_type": "code",
   "execution_count": null,
   "outputs": [],
   "source": [
    "n = int(input())\n",
    "\n",
    "matrix = [list(map(int, input().split())) for _ in range(n)]\n",
    "print(matrix)\n",
    "\n",
    "new_list = []\n",
    "\n",
    "for i in range(n):\n",
    "    for j in range(n):\n",
    "        if i == j:\n",
    "            # new_list.append(matrix[i][n - i - 1])\n",
    "            new_list.append(matrix[n - i - 1][i])\n",
    "        elif j == n - i - 1: # j = 2    i = 0   n = 3\n",
    "            # new_list.append(matrix[i][j + 1 - n])\n",
    "            new_list.append(matrix[j][n - i - 1])\n",
    "        else:\n",
    "            new_list.append(matrix[i][j])\n",
    "\n",
    "print(new_list)\n",
    "print()\n",
    "\n",
    "\n",
    "def list_to_matrix(lst, n, m):\n",
    "    if len(lst) != n * m:\n",
    "        raise ValueError(\"Длина списка не соответствует размеру матрицы\")\n",
    "\n",
    "    matrix = []\n",
    "    for i in range(n):\n",
    "        row = []\n",
    "        for j in range(m):\n",
    "            row.append(lst[i * m + j])\n",
    "        matrix.append(row)\n",
    "    return matrix\n",
    "\n",
    "\n",
    "matrix = list_to_matrix(new_list, n, n)\n",
    "\n",
    "for row in matrix:\n",
    "    print(*row)"
   ],
   "metadata": {
    "collapsed": false
   },
   "id": "9fb2113774bf1c7b"
  },
  {
   "cell_type": "code",
   "execution_count": null,
   "outputs": [],
   "source": [
    "n = int(input())\n",
    "matrix = [input().split() for _ in range(n)]\n",
    "\n",
    "for i in range(n):\n",
    "    matrix[i][i], matrix[n - i - 1][i] = matrix[n - i - 1][i], matrix[i][i]\n",
    "\n",
    "for row in matrix:\n",
    "    print(*row)"
   ],
   "metadata": {
    "collapsed": false
   },
   "id": "b8b305ce1b6e1569"
  },
  {
   "cell_type": "raw",
   "source": [
    "Дана квадратная матрица чисел. Напишите программу, которая зеркально отображает её элементы относительно горизонтальной оси симметрии.\n",
    "\n",
    "Формат входных данных\n",
    "На вход программе подаётся натуральное число n — количество строк и столбцов в матрице, затем элементы матрицы построчно через пробел.\n",
    "\n",
    "Формат выходных данных\n",
    "Программа должна вывести матрицу, в которой зеркально отображены элементы относительно горизонтальной оси симметрии."
   ],
   "metadata": {
    "collapsed": false
   },
   "id": "3a215d6624636b3a"
  },
  {
   "cell_type": "code",
   "execution_count": null,
   "outputs": [],
   "source": [
    "def reflect_matrix(n, matrix, axis='h'):\n",
    "    # Проверка на допустимость параметра axis\n",
    "    if axis not in ('h', 'v'):\n",
    "        raise ValueError(\"Параметр axis должен быть 'h' (горизонтальная ось) или 'v' (вертикальная ось).\")\n",
    "    \n",
    "    # Зеркальное отображение\n",
    "    if axis == 'h':\n",
    "        # Горизонтальная ось симметрии\n",
    "        reflected_matrix = matrix[::-1]\n",
    "    else:\n",
    "        # Вертикальная ось симметрии\n",
    "        reflected_matrix = [row[::-1] for row in matrix]\n",
    "    \n",
    "    return reflected_matrix\n",
    "\n",
    "# Чтение входных данных\n",
    "n = int(input())\n",
    "matrix = [list(map(int, input().split())) for _ in range(n)]\n",
    "\n",
    "# Зеркальное отображение матрицы\n",
    "reflected_matrix = reflect_matrix(n, matrix, 'h')\n",
    "\n",
    "# Вывод результата\n",
    "for row in reflected_matrix:\n",
    "    print(' '.join(map(str, row)))"
   ],
   "metadata": {
    "collapsed": false
   },
   "id": "78b4e96370846763"
  }
 ],
 "metadata": {
  "kernelspec": {
   "display_name": "Python 3",
   "language": "python",
   "name": "python3"
  },
  "language_info": {
   "codemirror_mode": {
    "name": "ipython",
    "version": 2
   },
   "file_extension": ".py",
   "mimetype": "text/x-python",
   "name": "python",
   "nbconvert_exporter": "python",
   "pygments_lexer": "ipython2",
   "version": "2.7.6"
  }
 },
 "nbformat": 4,
 "nbformat_minor": 5
}
