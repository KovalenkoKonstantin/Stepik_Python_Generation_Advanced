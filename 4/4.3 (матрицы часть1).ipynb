{
 "cells": [
  {
   "cell_type": "raw",
   "source": [
    "Для работы с матрицами нужно уметь получать элемент i-й строки j-го столбца. Для этого обычно заводят список строк матрицы, где каждая строка — список элементов. Получается вложенный список или список списков. Теперь, чтобы получить определенный элемент, достаточно из списка строк матрицы выбрать i-ю и взять j-й элемент этой строки."
   ],
   "metadata": {
    "collapsed": false
   },
   "id": "a34375449eb11820"
  },
  {
   "cell_type": "code",
   "execution_count": 1,
   "outputs": [
    {
     "name": "stdout",
     "output_type": "stream",
     "text": [
      "6\n"
     ]
    }
   ],
   "source": [
    "matrix = [[2, -5, -11, 0],\n",
    "          [-9, 4, 6, 13],\n",
    "          [4, 7, 12, -2]]\n",
    "\n",
    "print(matrix[1][2])  # вывод элемента на позиции (2, 3)"
   ],
   "metadata": {
    "collapsed": false,
    "ExecuteTime": {
     "end_time": "2024-07-05T10:48:37.655399600Z",
     "start_time": "2024-07-05T10:48:37.650798Z"
    }
   },
   "id": "bdf0e8e5a0e167ee"
  },
  {
   "cell_type": "code",
   "execution_count": 2,
   "outputs": [
    {
     "data": {
      "text/plain": "[-9, 4, 6, 13]"
     },
     "execution_count": 2,
     "metadata": {},
     "output_type": "execute_result"
    }
   ],
   "source": [
    "matrix[1]"
   ],
   "metadata": {
    "collapsed": false,
    "ExecuteTime": {
     "end_time": "2024-07-05T10:49:23.301374600Z",
     "start_time": "2024-07-05T10:49:23.295923800Z"
    }
   },
   "id": "55dd348309055a0c"
  },
  {
   "cell_type": "markdown",
   "source": [
    "Перебор элементов матрицы"
   ],
   "metadata": {
    "collapsed": false
   },
   "id": "732eeabad361ca56"
  },
  {
   "cell_type": "raw",
   "source": [
    "Чтобы перебрать элементы матрицы, необходимо использовать вложенные циклы. Например, выведем на экран все элементы матрицы, перебирая их по строкам:"
   ],
   "metadata": {
    "collapsed": false
   },
   "id": "e7e199acf2376c59"
  },
  {
   "cell_type": "code",
   "execution_count": 3,
   "outputs": [
    {
     "name": "stdout",
     "output_type": "stream",
     "text": [
      "2 3 1 0 \n",
      "9 4 6 8 \n",
      "4 7 2 7 \n"
     ]
    }
   ],
   "source": [
    "rows, cols = 3, 4  # rows - количество строк, cols - количество столбцов\n",
    "\n",
    "matrix = [[2, 3, 1, 0],\n",
    "          [9, 4, 6, 8],\n",
    "          [4, 7, 2, 7]]\n",
    "\n",
    "for r in range(rows):\n",
    "    for c in range(cols):\n",
    "        print(matrix[r][c], end=' ')\n",
    "    print()"
   ],
   "metadata": {
    "collapsed": false,
    "ExecuteTime": {
     "end_time": "2024-07-05T10:50:15.146654700Z",
     "start_time": "2024-07-05T10:50:15.114687800Z"
    }
   },
   "id": "7de59bd377e94c22"
  },
  {
   "cell_type": "raw",
   "source": [
    "Для перебора элементов матрицы по столбцам можно использовать следующий код:"
   ],
   "metadata": {
    "collapsed": false
   },
   "id": "6d813ecf004e4a01"
  },
  {
   "cell_type": "code",
   "execution_count": 4,
   "outputs": [
    {
     "name": "stdout",
     "output_type": "stream",
     "text": [
      "2 9 4 \n",
      "3 4 7 \n",
      "1 6 2 \n",
      "0 8 7 \n"
     ]
    }
   ],
   "source": [
    "rows, cols = 3, 4  # rows - количество строк, cols - количество столбцов\n",
    "\n",
    "matrix = [[2, 3, 1, 0],\n",
    "          [9, 4, 6, 8],\n",
    "          [4, 7, 2, 7]]\n",
    "\n",
    "for c in range(cols):\n",
    "    for r in range(rows):\n",
    "        print(matrix[r][c], end=' ')\n",
    "    print()"
   ],
   "metadata": {
    "collapsed": false,
    "ExecuteTime": {
     "end_time": "2024-07-05T10:50:51.898960700Z",
     "start_time": "2024-07-05T10:50:51.843904300Z"
    }
   },
   "id": "1f261d9e6e2aa6bf"
  },
  {
   "cell_type": "markdown",
   "source": [
    "Функции ljust() и rjust()"
   ],
   "metadata": {
    "collapsed": false
   },
   "id": "e0bca524f47fb26f"
  },
  {
   "cell_type": "code",
   "execution_count": 5,
   "outputs": [
    {
     "name": "stdout",
     "output_type": "stream",
     "text": [
      "277 -930 11 0 \n",
      "9 43 6 87 \n",
      "4456 8 290 7 \n"
     ]
    }
   ],
   "source": [
    "rows, cols = 3, 4  # rows - количество строк, cols - количество столбцов\n",
    "\n",
    "matrix = [[277, -930, 11, 0],\n",
    "          [9, 43, 6, 87],\n",
    "          [4456, 8, 290, 7]]\n",
    "\n",
    "for r in range(rows):\n",
    "    for c in range(cols):\n",
    "        print(matrix[r][c], end=' ')\n",
    "    print()"
   ],
   "metadata": {
    "collapsed": false,
    "ExecuteTime": {
     "end_time": "2024-07-05T10:51:20.387190Z",
     "start_time": "2024-07-05T10:51:20.378782100Z"
    }
   },
   "id": "5ccfb939c682720c"
  },
  {
   "cell_type": "raw",
   "source": [
    "Выведенная матрица не сильно похожа на упорядоченный прямоугольник. Элементы матрицы имеют разное количество разрядов и результат вывода получается смазанным. Для решения проблемы удобно использовать строковые методы ljust() и rjust()"
   ],
   "metadata": {
    "collapsed": false
   },
   "id": "5c75c49f7396921f"
  },
  {
   "cell_type": "markdown",
   "source": [
    "Метод ljust()"
   ],
   "metadata": {
    "collapsed": false
   },
   "id": "f92eb08a318f605"
  },
  {
   "cell_type": "raw",
   "source": [
    "Строковый метод ljust() выравнивает текст по ширине, добавляя пробелы в конец текста."
   ],
   "metadata": {
    "collapsed": false
   },
   "id": "35c6ef334a3ff2c0"
  },
  {
   "cell_type": "code",
   "execution_count": 6,
   "outputs": [
    {
     "name": "stdout",
     "output_type": "stream",
     "text": [
      "a  \n",
      "ab \n",
      "abc\n"
     ]
    }
   ],
   "source": [
    "print('a'.ljust(3))\n",
    "print('ab'.ljust(3))\n",
    "print('abc'.ljust(3))"
   ],
   "metadata": {
    "collapsed": false,
    "ExecuteTime": {
     "end_time": "2024-07-05T10:52:33.699609700Z",
     "start_time": "2024-07-05T10:52:33.689929800Z"
    }
   },
   "id": "3c9bbe73d10c1ef3"
  },
  {
   "cell_type": "raw",
   "source": [
    "Исходная строка не обрезается, даже если в ней больше символов, чем нужно"
   ],
   "metadata": {
    "collapsed": false
   },
   "id": "cbc9931ddd40d504"
  },
  {
   "cell_type": "code",
   "execution_count": 7,
   "outputs": [
    {
     "name": "stdout",
     "output_type": "stream",
     "text": [
      "abcdefg\n"
     ]
    }
   ],
   "source": [
    "print('abcdefg'.ljust(3))"
   ],
   "metadata": {
    "collapsed": false,
    "ExecuteTime": {
     "end_time": "2024-07-05T10:54:26.119850Z",
     "start_time": "2024-07-05T10:54:26.111866900Z"
    }
   },
   "id": "18e45cf4abbfb6f7"
  },
  {
   "cell_type": "raw",
   "source": [
    "Строковый метод ljust() использует вместо пробела другой символ, если передать ему второй аргумент, необязательный."
   ],
   "metadata": {
    "collapsed": false
   },
   "id": "e6d41faceb74f221"
  },
  {
   "cell_type": "code",
   "execution_count": 8,
   "outputs": [
    {
     "name": "stdout",
     "output_type": "stream",
     "text": [
      "a****\n",
      "ab$$$\n",
      "abc##\n"
     ]
    }
   ],
   "source": [
    "print('a'.ljust(5, '*'))\n",
    "print('ab'.ljust(5, '$'))\n",
    "print('abc'.ljust(5, '#'))"
   ],
   "metadata": {
    "collapsed": false,
    "ExecuteTime": {
     "end_time": "2024-07-05T10:54:51.411721300Z",
     "start_time": "2024-07-05T10:54:51.384854600Z"
    }
   },
   "id": "7acf189437a6912f"
  },
  {
   "cell_type": "markdown",
   "source": [
    "Метод rjust()"
   ],
   "metadata": {
    "collapsed": false
   },
   "id": "658e1783d745592b"
  },
  {
   "cell_type": "raw",
   "source": [
    "Строковый метод rjust() выравнивает текст по ширине, добавляя пробелы в начало текста."
   ],
   "metadata": {
    "collapsed": false
   },
   "id": "c7925c33682654a8"
  },
  {
   "cell_type": "code",
   "execution_count": 9,
   "outputs": [
    {
     "name": "stdout",
     "output_type": "stream",
     "text": [
      "  a\n",
      " ab\n",
      "abc\n"
     ]
    }
   ],
   "source": [
    "print('a'.rjust(3))\n",
    "print('ab'.rjust(3))\n",
    "print('abc'.rjust(3))"
   ],
   "metadata": {
    "collapsed": false,
    "ExecuteTime": {
     "end_time": "2024-07-05T10:55:31.628924400Z",
     "start_time": "2024-07-05T10:55:31.621602400Z"
    }
   },
   "id": "4d9d14de5a7ec5cf"
  },
  {
   "cell_type": "raw",
   "source": [
    "Исходная строка не обрезается, даже если в ней больше символов, чем нужно."
   ],
   "metadata": {
    "collapsed": false
   },
   "id": "9654aa5f03bf1ff6"
  },
  {
   "cell_type": "code",
   "execution_count": 10,
   "outputs": [
    {
     "name": "stdout",
     "output_type": "stream",
     "text": [
      "abcdefg\n"
     ]
    }
   ],
   "source": [
    "print('abcdefg'.rjust(3))"
   ],
   "metadata": {
    "collapsed": false,
    "ExecuteTime": {
     "end_time": "2024-07-05T10:55:48.310998500Z",
     "start_time": "2024-07-05T10:55:48.303869700Z"
    }
   },
   "id": "e8ef5c1640e85809"
  },
  {
   "cell_type": "raw",
   "source": [
    "Строковый метод rjust() использует вместо пробела другой символ, если передать ему второй аргумент, необязательный."
   ],
   "metadata": {
    "collapsed": false
   },
   "id": "fe82a73de7e38a11"
  },
  {
   "cell_type": "code",
   "execution_count": 11,
   "outputs": [
    {
     "name": "stdout",
     "output_type": "stream",
     "text": [
      "****a\n",
      "$$$ab\n",
      "##abc\n"
     ]
    }
   ],
   "source": [
    "print('a'.rjust(5, '*'))\n",
    "print('ab'.rjust(5, '$'))\n",
    "print('abc'.rjust(5, '#'))"
   ],
   "metadata": {
    "collapsed": false,
    "ExecuteTime": {
     "end_time": "2024-07-05T10:56:03.558983400Z",
     "start_time": "2024-07-05T10:56:03.551314100Z"
    }
   },
   "id": "9e45d9591c2e32d5"
  },
  {
   "cell_type": "raw",
   "source": [
    "Применив метод ljust() для выравнивания столбцов, при выводе таблицы мы получим следующий код:"
   ],
   "metadata": {
    "collapsed": false
   },
   "id": "722b1589804a845d"
  },
  {
   "cell_type": "code",
   "execution_count": 12,
   "outputs": [
    {
     "name": "stdout",
     "output_type": "stream",
     "text": [
      "277   -930  11    0     \n",
      "9     43    6     87    \n",
      "4456  8     290   7     \n"
     ]
    }
   ],
   "source": [
    "rows, cols = 3, 4  # rows - количество строк, cols - количество столбцов\n",
    "\n",
    "matrix = [[277, -930, 11, 0],\n",
    "          [9, 43, 6, 87],\n",
    "          [4456, 8, 290, 7]]\n",
    "\n",
    "for r in range(rows):\n",
    "    for c in range(cols):\n",
    "        print(str(matrix[r][c]).ljust(6), end='')\n",
    "    print()"
   ],
   "metadata": {
    "collapsed": false,
    "ExecuteTime": {
     "end_time": "2024-07-05T10:56:24.242317100Z",
     "start_time": "2024-07-05T10:56:24.231407900Z"
    }
   },
   "id": "dd4e25a3d9c5830f"
  },
  {
   "cell_type": "markdown",
   "source": [
    "Квадратные матрицы"
   ],
   "metadata": {
    "collapsed": false
   },
   "id": "d5600682204e7e05"
  },
  {
   "cell_type": "raw",
   "source": [
    "Матрица с одинаковым количеством строк и столбцов называется квадратной. У квадратной матрицы есть две диагонали:\n",
    "\n",
    "главная: проходит из верхнего левого в правый нижний угол матрицы;\n",
    "побочная: проходит из нижнего левого в правый верхний угол матрицы."
   ],
   "metadata": {
    "collapsed": false
   },
   "id": "28b7a3ee9ecf4e85"
  },
  {
   "cell_type": "raw",
   "source": [
    "Элементы с равными индексами i == j находятся на главной диагонали. Такие элементы обозначаются matrix[i][i]"
   ],
   "metadata": {
    "collapsed": false
   },
   "id": "541f738e7a5c5256"
  },
  {
   "cell_type": "raw",
   "source": [
    "Элементы с индексами i и j, связанными соотношением i + j + 1 = n (или j = n - i - 1), где n — размерность матрицы, находятся на побочной диагонали."
   ],
   "metadata": {
    "collapsed": false
   },
   "id": "8b922d40795837b7"
  },
  {
   "cell_type": "code",
   "execution_count": 22,
   "outputs": [
    {
     "name": "stdout",
     "output_type": "stream",
     "text": [
      "1 0 0 0 0 0 0 2 \n",
      "0 1 0 0 0 0 2 0 \n",
      "0 0 1 0 0 2 0 0 \n",
      "0 0 0 1 2 0 0 0 \n",
      "0 0 0 2 1 0 0 0 \n",
      "0 0 2 0 0 1 0 0 \n",
      "0 2 0 0 0 0 1 0 \n",
      "2 0 0 0 0 0 0 1 \n"
     ]
    }
   ],
   "source": [
    "n = 8\n",
    "matrix = [[0] * n for _ in range(n)]  # создаем квадратную матрицу размером 8×8\n",
    "\n",
    "for i in range(n):  # заполняем главную диагональ единицами, а побочную двойками\n",
    "    matrix[i][i] = 1\n",
    "    matrix[i][n - i - 1] = 2\n",
    "\n",
    "for r in range(n):  # выводим матрицу\n",
    "    for c in range(n):\n",
    "        print(matrix[r][c], end=' ')\n",
    "    print()\n",
    "print()"
   ],
   "metadata": {
    "collapsed": false,
    "ExecuteTime": {
     "end_time": "2024-07-05T11:06:55.929950700Z",
     "start_time": "2024-07-05T11:06:55.919262300Z"
    }
   },
   "id": "5d9553301183d40f"
  },
  {
   "cell_type": "raw",
   "source": [
    "Индексыi и jэлементов на главной диагонали связаны соотношением i = j. Индексы i и jэлементов на побочной диагонали связаны соотношением i + j + 1 = n (или  j = n - i - 1), где n — размерность матрицы."
   ],
   "metadata": {
    "collapsed": false
   },
   "id": "1e48bef8b00bacf1"
  },
  {
   "cell_type": "raw",
   "source": [
    "Чтобы понять, в какой области лежит элемент можно воспользоваться следующей картинкой."
   ],
   "metadata": {
    "collapsed": false
   },
   "id": "3f42f70eba028e4c"
  },
  {
   "cell_type": "raw",
   "source": [
    "верх - i < j and i < n -1 -j\n",
    "низ - i > j and i > n -1 -j\n",
    "право - i < j and i > n -1 -j\n",
    "лево - i > j and i < n -1 -j\n"
   ],
   "metadata": {
    "collapsed": false
   },
   "id": "22f3654d4b941ea6"
  },
  {
   "cell_type": "raw",
   "source": [
    "Используйте функцию print_matrix() для вывода квадратной матрицы размерности n"
   ],
   "metadata": {
    "collapsed": false
   },
   "id": "a723925f4b4d326c"
  },
  {
   "cell_type": "code",
   "execution_count": 36,
   "outputs": [
    {
     "name": "stdout",
     "output_type": "stream",
     "text": [
      "[[7, 7, 7, 7, 7, 7, 7, 7, 7, 7, 7, 7, 7, 7, 7, 7, 7, 7, 7, 7], [7, 7, 7, 7, 7, 7, 7, 7, 7, 7, 7, 7, 7, 7, 7, 7, 7, 7, 7, 7], [7, 7, 7, 7, 7, 7, 7, 7, 7, 7, 7, 7, 7, 7, 7, 7, 7, 7, 7, 7], [7, 7, 7, 7, 7, 7, 7, 7, 7, 7, 7, 7, 7, 7, 7, 7, 7, 7, 7, 7], [7, 7, 7, 7, 7, 7, 7, 7, 7, 7, 7, 7, 7, 7, 7, 7, 7, 7, 7, 7], [7, 7, 7, 7, 7, 7, 7, 7, 7, 7, 7, 7, 7, 7, 7, 7, 7, 7, 7, 7], [7, 7, 7, 7, 7, 7, 7, 7, 7, 7, 7, 7, 7, 7, 7, 7, 7, 7, 7, 7], [7, 7, 7, 7, 7, 7, 7, 7, 7, 7, 7, 7, 7, 7, 7, 7, 7, 7, 7, 7], [7, 7, 7, 7, 7, 7, 7, 7, 7, 7, 7, 7, 7, 7, 7, 7, 7, 7, 7, 7], [7, 7, 7, 7, 7, 7, 7, 7, 7, 7, 7, 7, 7, 7, 7, 7, 7, 7, 7, 7], [7, 7, 7, 7, 7, 7, 7, 7, 7, 7, 7, 7, 7, 7, 7, 7, 7, 7, 7, 7], [7, 7, 7, 7, 7, 7, 7, 7, 7, 7, 7, 7, 7, 7, 7, 7, 7, 7, 7, 7], [7, 7, 7, 7, 7, 7, 7, 7, 7, 7, 7, 7, 7, 7, 7, 7, 7, 7, 7, 7], [7, 7, 7, 7, 7, 7, 7, 7, 7, 7, 7, 7, 7, 7, 7, 7, 7, 7, 7, 7], [7, 7, 7, 7, 7, 7, 7, 7, 7, 7, 7, 7, 7, 7, 7, 7, 7, 7, 7, 7], [7, 7, 7, 7, 7, 7, 7, 7, 7, 7, 7, 7, 7, 7, 7, 7, 7, 7, 7, 7], [7, 7, 7, 7, 7, 7, 7, 7, 7, 7, 7, 7, 7, 7, 7, 7, 7, 7, 7, 7], [7, 7, 7, 7, 7, 7, 7, 7, 7, 7, 7, 7, 7, 7, 7, 7, 7, 7, 7, 7], [7, 7, 7, 7, 7, 7, 7, 7, 7, 7, 7, 7, 7, 7, 7, 7, 7, 7, 7, 7], [7, 7, 7, 7, 7, 7, 7, 7, 7, 7, 7, 7, 7, 7, 7, 7, 7, 7, 7, 7]]\n",
      "7 7 7 7 7 \n",
      "7 7 7 7 7 \n",
      "7 7 7 7 7 \n",
      "7 7 7 7 7 \n",
      "7 7 7 7 7 \n"
     ]
    }
   ],
   "source": [
    "def print_matrix(matrix, n, width=1):\n",
    "    for r in range(n):\n",
    "        for c in range(n):\n",
    "            print(str(matrix[r][c]).ljust(width), end=' ')\n",
    "        print()\n",
    "\n",
    "\n",
    "matrix = [[7] * 20 for _ in range(20)]\n",
    "print(matrix)\n",
    "print_matrix(matrix, 5, 1)"
   ],
   "metadata": {
    "collapsed": false,
    "ExecuteTime": {
     "end_time": "2024-07-05T13:16:56.396861200Z",
     "start_time": "2024-07-05T13:16:56.393064200Z"
    }
   },
   "id": "3b56281956f550b3"
  },
  {
   "cell_type": "raw",
   "source": [
    "Для считывания матрицы из n строк, заполненной числами, удобно использовать следующий код:"
   ],
   "metadata": {
    "collapsed": false
   },
   "id": "3bbb09e9d4003c34"
  },
  {
   "cell_type": "code",
   "execution_count": 30,
   "outputs": [],
   "source": [
    "n = int(input())\n",
    "matrix = []\n",
    "for i in range(n):\n",
    "    temp = [int(num) for num in input().split()]\n",
    "    matrix.append(temp)"
   ],
   "metadata": {
    "collapsed": false,
    "ExecuteTime": {
     "end_time": "2024-07-05T12:45:26.373117800Z",
     "start_time": "2024-07-05T12:45:17.928224Z"
    }
   },
   "id": "5e33e6c9bc047e15"
  },
  {
   "cell_type": "code",
   "execution_count": 31,
   "outputs": [
    {
     "name": "stdout",
     "output_type": "stream",
     "text": [
      "1 2 3 \n",
      "4 5 6 \n",
      "7 8 9 \n"
     ]
    }
   ],
   "source": [
    "n = 3\n",
    "a = [[1, 2, 3],\n",
    "     [4, 5, 6],\n",
    "     [7, 8, 9]]\n",
    "\n",
    "for i in range(n):\n",
    "    for j in range(n):\n",
    "        print(a[i][j], end=' ')\n",
    "    print()"
   ],
   "metadata": {
    "collapsed": false,
    "ExecuteTime": {
     "end_time": "2024-07-05T12:54:07.033580Z",
     "start_time": "2024-07-05T12:54:07.020477400Z"
    }
   },
   "id": "969c600a94a754c7"
  },
  {
   "cell_type": "code",
   "execution_count": 32,
   "outputs": [
    {
     "name": "stdout",
     "output_type": "stream",
     "text": [
      "1 4 7 \n",
      "2 5 8 \n",
      "3 6 9 \n"
     ]
    }
   ],
   "source": [
    "n = 3\n",
    "a = [[1, 2, 3],\n",
    "     [4, 5, 6],\n",
    "     [7, 8, 9]]\n",
    "\n",
    "for i in range(n):\n",
    "    for j in range(n):\n",
    "        print(a[j][i], end=' ')\n",
    "    print()"
   ],
   "metadata": {
    "collapsed": false,
    "ExecuteTime": {
     "end_time": "2024-07-05T12:54:18.920422200Z",
     "start_time": "2024-07-05T12:54:18.905927800Z"
    }
   },
   "id": "bc8daa7af545d173"
  },
  {
   "cell_type": "code",
   "execution_count": 33,
   "outputs": [
    {
     "name": "stdout",
     "output_type": "stream",
     "text": [
      "9 8 7 \n",
      "6 5 4 \n",
      "3 2 1 \n"
     ]
    }
   ],
   "source": [
    "n = 3\n",
    "a = [[1, 2, 3],\n",
    "     [4, 5, 6],\n",
    "     [7, 8, 9]]\n",
    "\n",
    "for i in range(n):\n",
    "    for j in range(n):\n",
    "        print(a[n - i - 1][n - j - 1], end=' ')\n",
    "    print()"
   ],
   "metadata": {
    "collapsed": false,
    "ExecuteTime": {
     "end_time": "2024-07-05T12:54:33.413496900Z",
     "start_time": "2024-07-05T12:54:33.393113Z"
    }
   },
   "id": "8466755b48c21125"
  },
  {
   "cell_type": "code",
   "execution_count": 34,
   "outputs": [
    {
     "name": "stdout",
     "output_type": "stream",
     "text": [
      "101\n"
     ]
    }
   ],
   "source": [
    "n = 5\n",
    "a = [[19, 21, 33, 78, 99],\n",
    "     [41, 53, 66, 98, 76],\n",
    "     [79, 80, 90, 60, 20],\n",
    "     [33, 11, 45, 67, 90],\n",
    "     [45, 67, 12, 98, 23]]\n",
    "\n",
    "maximum = -1\n",
    "minimum = 100\n",
    "\n",
    "for i in range(n):\n",
    "    if a[i][i] > maximum:\n",
    "        maximum = a[i][i]\n",
    "    if a[i][n - i - 1] < minimum:\n",
    "        minimum = a[i][n - i - 1]\n",
    "\n",
    "print(minimum + maximum)"
   ],
   "metadata": {
    "collapsed": false,
    "ExecuteTime": {
     "end_time": "2024-07-05T12:55:00.506729200Z",
     "start_time": "2024-07-05T12:55:00.475881500Z"
    }
   },
   "id": "55d2bb590eee9753"
  },
  {
   "cell_type": "raw",
   "source": [
    "На вход программе подаются два натуральных числа n и m, каждое на отдельной строке — количество строк и столбцов в матрице. Далее вводятся сами элементы матрицы — слова, каждое на отдельной строке; подряд идут элементы сначала первой строки, затем второй, и т.д.\n",
    "\n",
    "Напишите программу, которая сначала считывает элементы матрицы один за другим, затем выводит их в виде матрицы.\n",
    "\n",
    "Формат входных данных\n",
    "На вход программе подаются два числа n и m — количество строк и столбцов в матрице, далее идут n×m слов, каждое на отдельной строке.\n",
    "\n",
    "Формат выходных данных\n",
    "Программа должна вывести считанную матрицу, разделяя ее элементы одним пробелом."
   ],
   "metadata": {
    "collapsed": false
   },
   "id": "5f8a39ee2370712c"
  },
  {
   "cell_type": "code",
   "execution_count": null,
   "outputs": [],
   "source": [
    "rows, cols = int(input()), int(input())\n",
    "matrix = []\n",
    "\n",
    "for i in range(rows * cols):\n",
    "    matrix.append(input())\n",
    "\n",
    "print(matrix)\n",
    "print(len(matrix))\n",
    "\n",
    "result = []\n",
    "for l in range(0, len(matrix), rows):\n",
    "    result.append(matrix[l:l + cols])\n",
    "\n",
    "print(*result, end='\\n')\n",
    "\n",
    "for i in result:\n",
    "    print(i)"
   ],
   "metadata": {
    "collapsed": false
   },
   "id": "8c4e83e14fdb212c"
  },
  {
   "cell_type": "raw",
   "source": [
    "На вход программе подаются два натуральных числа n и m, каждое на отдельной строке — количество строк и столбцов в матрице. Далее вводятся сами элементы матрицы — слова, каждое на отдельной строке; подряд идут элементы сначала первой строки, затем второй, и т.д.\n",
    "\n",
    "Напишите программу, которая считывает элементы матрицы один за другим, выводит их в виде матрицы, выводит пустую строку, и снова ту же матрицу, но уже поменяв местами строки со столбцами: первая строка выводится как первый столбец, и так далее.\n",
    "\n",
    "Формат входных данных\n",
    "На вход программе подаются два числа n и m — количество строк и столбцов в матрице, далее идут n×m слов, каждое на отдельной строке.\n",
    "\n",
    "Формат выходных данных\n",
    "Программа должна вывести считанную матрицу, за ней пустую строку и ту же матрицу, но поменяв местами строки со столбцами. Элементы матрицы разделять одним пробелом."
   ],
   "metadata": {
    "collapsed": false
   },
   "id": "7d6eb1dec152c37f"
  },
  {
   "cell_type": "code",
   "execution_count": null,
   "outputs": [],
   "source": [
    "rows, cols = int(input()), int(input())\n",
    "original_list = []\n",
    "\n",
    "for i in range(rows * cols):\n",
    "    original_list.append(input())\n",
    "\n",
    "# Создаем матрицу row_x_col\n",
    "matrix_rows_x_cols = [original_list[i:i+cols] for i in range(0, len(original_list), cols)]\n",
    "\n",
    "# print(f'Матрица rows_х_cols:{rows}x{cols}')\n",
    "for row in matrix_rows_x_cols:\n",
    "    print(*row)\n",
    "\n",
    "# # Создаем матрицу col_x_row\n",
    "# matrix_cols_x_rows = [original_list[i:i+rows] for i in range(0, len(original_list), rows)]\n",
    "# \n",
    "# print(f'Матрица cols_х_rows:{rows}x{cols}')\n",
    "# for col in matrix_cols_x_rows:\n",
    "#     print(*col)\n",
    "\n",
    "# Транспонируем матрицу rows_x_cols в матрицу cols_x_rows\n",
    "matrix_cols_x_rows = [list(row) for row in zip(*matrix_rows_x_cols)]\n",
    "# print(matrix_rows_x_cols)\n",
    "# print(*matrix_rows_x_cols)\n",
    "# Оператор `zip` в Python используется для объединения нескольких итерируемых объектов (например, списков или кортежей) в единый итератор, который выдает кортежи, содержащие элементы с одинаковыми индексами из всех итерируемых объектов.\n",
    "# `zip` берет по одному элементу из каждого из переданных ему итерируемых объектов и формирует кортежи из этих элементов.\n",
    "\n",
    "# print(list(zip(*matrix_rows_x_cols))) # Преобразуем кортеж в список для наглядности\n",
    "\n",
    "# print(f'\\nМатрица rows_x_cols:{rows}x{cols}')\n",
    "for row in matrix_cols_x_rows:\n",
    "    print(*row)   \n",
    "    \n",
    "# output_matrix1 = [item for sublist in matrix_rows_x_cols for item in sublist]\n",
    "# output_matrix2 = [item for sublist in matrix_cols_x_rows for item in sublist]"
   ],
   "metadata": {
    "collapsed": false
   },
   "id": "1564b3ca70cb04f5"
  },
  {
   "cell_type": "code",
   "execution_count": 89,
   "outputs": [
    {
     "name": "stdout",
     "output_type": "stream",
     "text": [
      "Матрица rows_х_cols:2x3\n",
      "не в бровь\n",
      "а в глаз\n",
      "[['не', 'в', 'бровь'], ['а', 'в', 'глаз']]\n",
      "['не', 'в', 'бровь'] ['а', 'в', 'глаз']\n",
      "[('не', 'а'), ('в', 'в'), ('бровь', 'глаз')]\n",
      "\n",
      "Матрица rows_x_cols:2x3\n",
      "не а\n",
      "в в\n",
      "бровь глаз\n"
     ]
    }
   ],
   "source": [
    "# rows, cols = 4, 2\n",
    "rows, cols = 2, 3\n",
    "\n",
    "# matrix = ['и', 'швец', 'и', 'жнец', 'и', 'на', 'дуде', 'игрец']\n",
    "original_list  = ['не', 'в', 'бровь', 'а', 'в', 'глаз']\n",
    "\n",
    "# Создаем матрицу row_x_col\n",
    "matrix_rows_x_cols = [original_list[i:i+cols] for i in range(0, len(original_list), cols)]\n",
    "\n",
    "print(f'Матрица rows_х_cols:{rows}x{cols}')\n",
    "for row in matrix_rows_x_cols:\n",
    "    print(*row)\n",
    "\n",
    "# # Создаем матрицу col_x_row\n",
    "# matrix_cols_x_rows = [original_list[i:i+rows] for i in range(0, len(original_list), rows)]\n",
    "# \n",
    "# print(f'Матрица cols_х_rows:{rows}x{cols}')\n",
    "# for col in matrix_cols_x_rows:\n",
    "#     print(*col)\n",
    "\n",
    "# Транспонируем матрицу rows_x_cols в матрицу cols_x_rows\n",
    "matrix_cols_x_rows = [list(row) for row in zip(*matrix_rows_x_cols)]\n",
    "print(matrix_rows_x_cols)\n",
    "print(*matrix_rows_x_cols)\n",
    "# Оператор `zip` в Python используется для объединения нескольких итерируемых объектов (например, списков или кортежей) в единый итератор, который выдает кортежи, содержащие элементы с одинаковыми индексами из всех итерируемых объектов.\n",
    "# `zip` берет по одному элементу из каждого из переданных ему итерируемых объектов и формирует кортежи из этих элементов.\n",
    "\n",
    "print(list(zip(*matrix_rows_x_cols))) # Преобразуем кортеж в список для наглядности\n",
    "\n",
    "print(f'\\nМатрица rows_x_cols:{rows}x{cols}')\n",
    "for row in matrix_cols_x_rows:\n",
    "    print(*row)   \n",
    "    \n",
    "# output_matrix1 = [item for sublist in matrix_rows_x_cols for item in sublist]\n",
    "# output_matrix2 = [item for sublist in matrix_cols_x_rows for item in sublist]"
   ],
   "metadata": {
    "collapsed": false,
    "ExecuteTime": {
     "end_time": "2024-07-08T07:04:33.126626700Z",
     "start_time": "2024-07-08T07:04:33.118630700Z"
    }
   },
   "id": "e60d93bb8adce91c"
  },
  {
   "cell_type": "code",
   "execution_count": 92,
   "outputs": [
    {
     "name": "stdout",
     "output_type": "stream",
     "text": [
      "не в бровь \n",
      "а в глаз \n",
      "\n",
      "не а \n",
      "в в \n",
      "бровь глаз \n"
     ]
    }
   ],
   "source": [
    "# n, m = int(input()), int(input())\n",
    "n, m = 2, 3\n",
    "\n",
    "# matrix = []\n",
    "# \n",
    "# for _ in range(n):\n",
    "#     row = [input() for j in range(m)]\n",
    "#     matrix.append(row)\n",
    "    \n",
    "# matrix = ['и', 'швец', 'и', 'жнец', 'и', 'на', 'дуде', 'игрец']\n",
    "matrix  = [['не', 'в', 'бровь'], ['а', 'в', 'глаз']]\n",
    "    \n",
    "for i in range(n):\n",
    "    for j in range(m):\n",
    "        print(matrix[i][j], end=' ')\n",
    "    print()\n",
    "\n",
    "print()\n",
    "\n",
    "for j in range(m):\n",
    "    for i in range(n):\n",
    "        print(matrix[i][j], end=' ')\n",
    "    print()"
   ],
   "metadata": {
    "collapsed": false,
    "ExecuteTime": {
     "end_time": "2024-07-08T07:13:43.289193300Z",
     "start_time": "2024-07-08T07:13:43.246907200Z"
    }
   },
   "id": "b95fd9f664f7f2f7"
  },
  {
   "cell_type": "code",
   "execution_count": null,
   "outputs": [],
   "source": [
    "n, m = int(input()), int(input())\n",
    "arr = [[input() for _ in range(m)] for _ in range(n)]\n",
    "for row in arr:\n",
    "    print(*row)\n",
    "print()\n",
    "for i in range(m):\n",
    "    for j in range(n):\n",
    "        print(arr[j][i], end=' ')\n",
    "    print()"
   ],
   "metadata": {
    "collapsed": false
   },
   "id": "9ba6e913194f19f6"
  },
  {
   "cell_type": "raw",
   "source": [
    "Следом квадратной матрицы называется сумма элементов главной диагонали. Напишите программу, которая выводит след заданной квадратной матрицы.\n",
    "\n",
    "Формат входных данных\n",
    "На вход программе подаётся натуральное число n — количество строк и столбцов в матрице, затем элементы матрицы (целые числа) построчно через пробел.\n",
    "\n",
    "Формат выходных данных\n",
    "Программа должна вывести одно число — след заданной матрицы."
   ],
   "metadata": {
    "collapsed": false
   },
   "id": "d9e525a811c49f73"
  },
  {
   "cell_type": "code",
   "execution_count": null,
   "outputs": [],
   "source": [
    "n = int(input())\n",
    "\n",
    "matrix = [input().split() for i in range(n)]\n",
    "print(matrix)\n",
    "\n",
    "smm = 0\n",
    "\n",
    "for i in range(len(matrix)):\n",
    "    for j in range(len(matrix)):\n",
    "        if i == j:\n",
    "            smm += int(matrix[i][j])\n",
    "        \n",
    "print(smm)"
   ],
   "metadata": {
    "collapsed": false
   },
   "id": "c3fade3b39d21ff6"
  },
  {
   "cell_type": "code",
   "execution_count": null,
   "outputs": [],
   "source": [
    "n = int(input())\n",
    "sm = 0\n",
    "\n",
    "for i in range(n):\n",
    "    cur_seq = input().split()\n",
    "    sm += int(cur_seq[i])\n",
    "\n",
    "print(sm)"
   ],
   "metadata": {
    "collapsed": false
   },
   "id": "142cfb28aa6a7c8f"
  },
  {
   "cell_type": "code",
   "execution_count": null,
   "outputs": [],
   "source": [
    "# саму матрицу можно здесь не сохранять... даже не создавать\n",
    "res = 0\n",
    "for i in range(int(input())):\n",
    "    res += int(input().split()[i])\n",
    "print(res)"
   ],
   "metadata": {
    "collapsed": false
   },
   "id": "bb8313cf65b6ea0"
  },
  {
   "cell_type": "code",
   "execution_count": null,
   "outputs": [],
   "source": [
    "print(sum(int(input().split()[i]) for i in range(int(input()))))"
   ],
   "metadata": {
    "collapsed": false
   },
   "id": "53373750404755de"
  },
  {
   "cell_type": "code",
   "execution_count": null,
   "outputs": [],
   "source": [
    "import numpy as np\n",
    "n = int(input())\n",
    "\n",
    "matrix = [list(map(int, input().split())) for i in range(n)]\n",
    "# matrix = [[int(i) for i in input().split()] for j in range(n)]\n",
    "print(matrix)\n",
    "\n",
    "smm = 0\n",
    "\n",
    "for i in range(len(matrix)):\n",
    "    for j in range(len(matrix)):\n",
    "        print(smm)\n",
    "        print(np.mean(matrix[i]))\n",
    "        print(f'{matrix[i][j]} >= {np.mean(matrix[i])} = {j >= np.mean(matrix[i])}')\n",
    "        if matrix[i][j] > np.mean(matrix[i]):\n",
    "            smm += 1\n",
    "    print(smm)\n",
    "    print()\n",
    "    smm = 0"
   ],
   "metadata": {
    "collapsed": false
   },
   "id": "c53227b984b993a7"
  },
  {
   "cell_type": "code",
   "execution_count": null,
   "outputs": [],
   "source": [
    "# print(sum(i > avg for i in lst))   # True == 1\n",
    "for _ in range(int(input())):\n",
    "    lst = list(map(int, input().split()))\n",
    "    avg = sum(lst) / len(lst)\n",
    "    print(sum(i > avg for i in lst))"
   ],
   "metadata": {
    "collapsed": false
   },
   "id": "727644b304615f0e"
  }
 ],
 "metadata": {
  "kernelspec": {
   "display_name": "Python 3",
   "language": "python",
   "name": "python3"
  },
  "language_info": {
   "codemirror_mode": {
    "name": "ipython",
    "version": 2
   },
   "file_extension": ".py",
   "mimetype": "text/x-python",
   "name": "python",
   "nbconvert_exporter": "python",
   "pygments_lexer": "ipython2",
   "version": "2.7.6"
  }
 },
 "nbformat": 4,
 "nbformat_minor": 5
}
