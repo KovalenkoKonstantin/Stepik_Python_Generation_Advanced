{
 "cells": [
  {
   "cell_type": "markdown",
   "source": [
    "Создание вложенных списков"
   ],
   "metadata": {
    "collapsed": false
   },
   "id": "ff43593f0b75535b"
  },
  {
   "cell_type": "raw",
   "source": [
    "Иногда нужно создать вложенный список, заполненный по определенному правилу – шаблону. Например, список длиной n, содержащий списки длиной m, каждый из которых заполнен нулями."
   ],
   "metadata": {
    "collapsed": false
   },
   "id": "9608d4d3f9f465e"
  },
  {
   "cell_type": "raw",
   "source": [
    " Создадим пустой список, потом n раз добавим в него новый элемент – список длины m, составленный из нулей:"
   ],
   "metadata": {
    "collapsed": false
   },
   "id": "cc0aedc050c52df6"
  },
  {
   "cell_type": "code",
   "execution_count": 1,
   "outputs": [
    {
     "name": "stdout",
     "output_type": "stream",
     "text": [
      "[[0, 0, 0, 0, 0], [0, 0, 0, 0, 0], [0, 0, 0, 0, 0]]\n"
     ]
    }
   ],
   "source": [
    "n, m = int(input()), int(input())  # считываем значения n и m\n",
    "my_list = []\n",
    "\n",
    "for _ in range(n):\n",
    "    my_list.append([0] * m)\n",
    "\n",
    "print(my_list)"
   ],
   "metadata": {
    "collapsed": false,
    "ExecuteTime": {
     "end_time": "2024-07-04T06:21:00.630640200Z",
     "start_time": "2024-07-04T06:20:56.063546100Z"
    }
   },
   "id": "6836264e05c8383"
  },
  {
   "cell_type": "raw",
   "source": [
    "Сначала создадим список из n элементов (для начала просто из n нулей). Затем сделаем каждый элемент списка ссылкой на другой список из m элементов, заполненный нулями:"
   ],
   "metadata": {
    "collapsed": false
   },
   "id": "a51784a92a42b06f"
  },
  {
   "cell_type": "code",
   "execution_count": 3,
   "outputs": [
    {
     "name": "stdout",
     "output_type": "stream",
     "text": [
      "[[0, 0, 0, 0, 0], [0, 0, 0, 0, 0], [0, 0, 0, 0, 0]]\n"
     ]
    }
   ],
   "source": [
    "n, m = int(input()), int(input())  # считываем значения n и m\n",
    "my_list = [0] * n\n",
    "\n",
    "for i in range(n):\n",
    "    my_list[i] = [0] * m\n",
    "\n",
    "print(my_list)"
   ],
   "metadata": {
    "collapsed": false,
    "ExecuteTime": {
     "end_time": "2024-07-04T06:21:39.589900600Z",
     "start_time": "2024-07-04T06:21:37.211807800Z"
    }
   },
   "id": "82217dc8b8a71466"
  },
  {
   "cell_type": "raw",
   "source": [
    "Можно использовать генератор списка: создадим список из n элементов, каждый из которых будет списком, состоящих из m нулей:"
   ],
   "metadata": {
    "collapsed": false
   },
   "id": "b45a6192ac40e0f"
  },
  {
   "cell_type": "code",
   "execution_count": 4,
   "outputs": [
    {
     "name": "stdout",
     "output_type": "stream",
     "text": [
      "[[0, 0, 0, 0, 0], [0, 0, 0, 0, 0], [0, 0, 0, 0, 0]]\n"
     ]
    }
   ],
   "source": [
    "n, m = int(input()), int(input())  # считываем значения n и m\n",
    "\n",
    "my_list = [[0] * m for _ in range(n)]\n",
    "\n",
    "print(my_list)"
   ],
   "metadata": {
    "collapsed": false,
    "ExecuteTime": {
     "end_time": "2024-07-04T06:23:52.319331900Z",
     "start_time": "2024-07-04T06:23:50.235222100Z"
    }
   },
   "id": "ef00c169b46503fa"
  },
  {
   "cell_type": "raw",
   "source": [
    "В этом случае каждый элемент создается независимо от остальных (заново конструируется вложенный список [0] * m для заполнения очередного элемента списка)."
   ],
   "metadata": {
    "collapsed": false
   },
   "id": "8fa9eb42537beb0"
  },
  {
   "cell_type": "raw",
   "source": [
    "В Python списки – ссылочный тип данных. Конструкция [0] * m возвращает ccылку на список из m нулей. Повторение этого элемента создает список из n ссылок на один и тот же списо"
   ],
   "metadata": {
    "collapsed": false
   },
   "id": "3f5b19bc4bcdb676"
  },
  {
   "cell_type": "raw",
   "source": [
    "Вложенный список нельзя создать при помощи операции повторения (умножения списка на число). Для корректного создания вложенного списка мы используем способы 1−3, отдавая предпочтение способу 3 (геренатор)"
   ],
   "metadata": {
    "collapsed": false
   },
   "id": "d34e49257f13761b"
  },
  {
   "cell_type": "markdown",
   "source": [
    "Считывание вложенных списков"
   ],
   "metadata": {
    "collapsed": false
   },
   "id": "c6e35219a0c10e7b"
  },
  {
   "cell_type": "raw",
   "source": [
    "Если элементы списка вводятся через клавиатуру (каждая строка на отдельной строке, всего n строк, числа в строке разделяются пробелами), для ввода списка можно использовать следующий код:"
   ],
   "metadata": {
    "collapsed": false
   },
   "id": "aae8d03e2c647a90"
  },
  {
   "cell_type": "code",
   "execution_count": 5,
   "outputs": [],
   "source": [
    "n = 4  # количество строк (элементов)\n",
    "my_list = []\n",
    "\n",
    "for _ in range(n):\n",
    "    elem = [int(i) for i in input().split()]  # создаем список из элементов строки\n",
    "    my_list.append(elem)"
   ],
   "metadata": {
    "collapsed": false,
    "ExecuteTime": {
     "end_time": "2024-07-04T06:27:50.593965500Z",
     "start_time": "2024-07-04T06:27:42.991460400Z"
    }
   },
   "id": "4853cd8d4c8d5de3"
  },
  {
   "cell_type": "raw",
   "source": [
    "В этом примере мы используем списочный метод append(), передавая ему в качестве аргумента другой список. Так у нас получается список списков."
   ],
   "metadata": {
    "collapsed": false
   },
   "id": "61b739e0f041071e"
  },
  {
   "cell_type": "raw",
   "source": [
    "метод split() возвращает список строк, а не чисел. Поэтому мы предварительно сконвертировали строку в число, с помощью вызова функции int()"
   ],
   "metadata": {
    "collapsed": false
   },
   "id": "b44014960849d0d0"
  },
  {
   "cell_type": "code",
   "execution_count": null,
   "outputs": [],
   "source": [
    "n = 4\n",
    "my_list = []\n",
    "\n",
    "for _ in range(n):\n",
    "    elem = [int(i) for i in input().split()]\n",
    "    my_list.extend(elem)"
   ],
   "metadata": {
    "collapsed": false
   },
   "id": "a0d17a1a61ee06a2"
  },
  {
   "cell_type": "raw",
   "source": [
    "создает одномерный (!) список, а не вложенный. В переменной my_list будет храниться список:"
   ],
   "metadata": {
    "collapsed": false
   },
   "id": "9a9a7beb509bd032"
  },
  {
   "cell_type": "markdown",
   "source": [
    "Перебор и вывод элементов вложенного списка"
   ],
   "metadata": {
    "collapsed": false
   },
   "id": "c9507c6d61971a38"
  },
  {
   "cell_type": "raw",
   "source": [
    "для доступа к элементу списка указывают индекс этого элемента в квадратных скобках. В случае двумерных вложенных списков надо указать два индекса (каждый в отдельных квадратных скобках), в случае трехмерного списка — три индекса и т. д."
   ],
   "metadata": {
    "collapsed": false
   },
   "id": "2bb246400ccecb"
  },
  {
   "cell_type": "code",
   "execution_count": 6,
   "outputs": [
    {
     "name": "stdout",
     "output_type": "stream",
     "text": [
      "1\n",
      "6\n",
      "8\n"
     ]
    }
   ],
   "source": [
    "my_list = [[1, 2, 3], [4, 5, 6], [7, 8, 9]]\n",
    "\n",
    "print(my_list[0][0])\n",
    "print(my_list[1][2])\n",
    "print(my_list[2][1])"
   ],
   "metadata": {
    "collapsed": false,
    "ExecuteTime": {
     "end_time": "2024-07-04T06:30:56.793482100Z",
     "start_time": "2024-07-04T06:30:56.765519300Z"
    }
   },
   "id": "cdd102d674c411ef"
  },
  {
   "cell_type": "raw",
   "source": [
    "Когда нужно перебрать все элементы вложенного списка (например, чтобы вывести их на экран), обычно используются вложенные циклы."
   ],
   "metadata": {
    "collapsed": false
   },
   "id": "3f0ffd2dd39cd7fa"
  },
  {
   "cell_type": "code",
   "execution_count": 7,
   "outputs": [
    {
     "name": "stdout",
     "output_type": "stream",
     "text": [
      "1 2 3 \n",
      "4 5 6 \n",
      "7 8 9 \n"
     ]
    }
   ],
   "source": [
    "my_list = [[1, 2, 3], [4, 5, 6], [7, 8, 9]]\n",
    "\n",
    "for i in range(len(my_list)):\n",
    "    for j in range(len(my_list[i])):\n",
    "        print(my_list[i][j], end=' ')  # используем необязательный параметр end\n",
    "    print()  # перенос на новую строку"
   ],
   "metadata": {
    "collapsed": false,
    "ExecuteTime": {
     "end_time": "2024-07-04T06:31:17.278665500Z",
     "start_time": "2024-07-04T06:31:17.267960500Z"
    }
   },
   "id": "547a7fae805c3e6b"
  },
  {
   "cell_type": "raw",
   "source": [
    "В предыдущем примере мы перебирали индексы элементов, а можно сразу перебирать сами элементы вложенного списка:"
   ],
   "metadata": {
    "collapsed": false
   },
   "id": "6200fc1632115be3"
  },
  {
   "cell_type": "code",
   "execution_count": 8,
   "outputs": [
    {
     "name": "stdout",
     "output_type": "stream",
     "text": [
      "1 2 3 \n",
      "4 5 6 \n",
      "7 8 9 \n"
     ]
    }
   ],
   "source": [
    "my_list = [[1, 2, 3], [4, 5, 6], [7, 8, 9]]\n",
    "\n",
    "for row in my_list:\n",
    "    for elem in row:\n",
    "        print(elem, end=' ')\n",
    "    print()"
   ],
   "metadata": {
    "collapsed": false,
    "ExecuteTime": {
     "end_time": "2024-07-04T06:32:09.464201400Z",
     "start_time": "2024-07-04T06:32:09.457700400Z"
    }
   },
   "id": "edc6408a61b58e0d"
  },
  {
   "cell_type": "raw",
   "source": [
    "Перебор элементов вложенного списка по индексам дает нам больше гибкости для вывода данных. Например, поменяв порядок переменных i и j, мы получаем иной тип вывода:"
   ],
   "metadata": {
    "collapsed": false
   },
   "id": "2023ee1b858fcf5f"
  },
  {
   "cell_type": "code",
   "execution_count": 9,
   "outputs": [
    {
     "name": "stdout",
     "output_type": "stream",
     "text": [
      "1 4 7 \n",
      "2 5 8 \n",
      "3 6 9 \n"
     ]
    }
   ],
   "source": [
    "my_list = [[1, 2, 3], [4, 5, 6], [7, 8, 9]]\n",
    "\n",
    "for i in range(len(my_list)):\n",
    "    for j in range(len(my_list[i])):\n",
    "        print(my_list[j][i], end=' ')  # выводим my_list[j][i] вместо my_list[i][j]\n",
    "    print()"
   ],
   "metadata": {
    "collapsed": false,
    "ExecuteTime": {
     "end_time": "2024-07-04T06:32:56.635436500Z",
     "start_time": "2024-07-04T06:32:56.627948300Z"
    }
   },
   "id": "7fbb3564042a53d1"
  },
  {
   "cell_type": "markdown",
   "source": [
    "Обработка вложенных списков"
   ],
   "metadata": {
    "collapsed": false
   },
   "id": "7f48d409f43d791b"
  },
  {
   "cell_type": "raw",
   "source": [
    "Используем вложенный цикл для подсчета суммы всех чисел в списке:"
   ],
   "metadata": {
    "collapsed": false
   },
   "id": "33432d501169fc23"
  },
  {
   "cell_type": "code",
   "execution_count": 10,
   "outputs": [
    {
     "name": "stdout",
     "output_type": "stream",
     "text": [
      "46\n"
     ]
    }
   ],
   "source": [
    "my_list = [[1, 9, 8, 7, 4], [7, 3, 4], [2, 1]]\n",
    "\n",
    "total = 0\n",
    "for i in range(len(my_list)):\n",
    "    for j in range(len(my_list[i])):\n",
    "        total += my_list[i][j]\n",
    "\n",
    "print(total)"
   ],
   "metadata": {
    "collapsed": false,
    "ExecuteTime": {
     "end_time": "2024-07-04T06:33:57.442889700Z",
     "start_time": "2024-07-04T06:33:57.434401100Z"
    }
   },
   "id": "66d8081369673489"
  },
  {
   "cell_type": "raw",
   "source": [
    "Или то же самое с циклом не по индексу, а по значениям"
   ],
   "metadata": {
    "collapsed": false
   },
   "id": "f7c586e90e93ec5"
  },
  {
   "cell_type": "code",
   "execution_count": 11,
   "outputs": [
    {
     "name": "stdout",
     "output_type": "stream",
     "text": [
      "46\n"
     ]
    }
   ],
   "source": [
    "my_list = [[1, 9, 8, 7, 4], [7, 3, 4], [2, 1]]\n",
    "\n",
    "total = 0\n",
    "for row in my_list:\n",
    "    for elem in row:\n",
    "        total += elem\n",
    "\n",
    "print(total)"
   ],
   "metadata": {
    "collapsed": false,
    "ExecuteTime": {
     "end_time": "2024-07-04T06:37:41.923047200Z",
     "start_time": "2024-07-04T06:37:41.867564600Z"
    }
   },
   "id": "a975d23374c2c6cc"
  },
  {
   "cell_type": "raw",
   "source": [
    "Таким образом, можно обработать элементы вложенного списка практически в любом языке программирования. В Python, однако, можно упростить код, если использовать встроенную функцию sum(), которая принимает список чисел и возвращает его сумму. Подсчет суммы с помощью функции sum() выглядит так:"
   ],
   "metadata": {
    "collapsed": false
   },
   "id": "2c53a1c486cc7319"
  },
  {
   "cell_type": "code",
   "execution_count": 12,
   "outputs": [
    {
     "name": "stdout",
     "output_type": "stream",
     "text": [
      "46\n"
     ]
    }
   ],
   "source": [
    "my_list = [[1, 9, 8, 7, 4], [7, 3, 4], [2, 1]]\n",
    "\n",
    "total = 0\n",
    "for row in my_list:  # в один цикл\n",
    "    total += sum(row)\n",
    "print(total)"
   ],
   "metadata": {
    "collapsed": false,
    "ExecuteTime": {
     "end_time": "2024-07-04T06:41:58.130543300Z",
     "start_time": "2024-07-04T06:41:58.116225100Z"
    }
   },
   "id": "ea21f6c8b5f9a6cc"
  },
  {
   "cell_type": "code",
   "execution_count": 14,
   "outputs": [
    {
     "data": {
      "text/plain": "46"
     },
     "execution_count": 14,
     "metadata": {},
     "output_type": "execute_result"
    }
   ],
   "source": [
    "my_list = [[1, 9, 8, 7, 4], [7, 3, 4], [2, 1]]\n",
    "total_short = sum([sum(rows) for rows in my_list])\n",
    "total_short"
   ],
   "metadata": {
    "collapsed": false,
    "ExecuteTime": {
     "end_time": "2024-07-04T06:46:48.439075700Z",
     "start_time": "2024-07-04T06:46:48.429772700Z"
    }
   },
   "id": "a2497620260e6580"
  },
  {
   "cell_type": "code",
   "execution_count": 16,
   "outputs": [
    {
     "data": {
      "text/plain": "[[1, 5, 1], [1, 5, 1], [1, 5, 1]]"
     },
     "execution_count": 16,
     "metadata": {},
     "output_type": "execute_result"
    }
   ],
   "source": [
    "list1 = [[1] * 3] * 3\n",
    "list1\n",
    "list1[0][1] = 5\n",
    "list1"
   ],
   "metadata": {
    "collapsed": false,
    "ExecuteTime": {
     "end_time": "2024-07-04T07:37:50.061407700Z",
     "start_time": "2024-07-04T07:37:50.049013300Z"
    }
   },
   "id": "a0ef8d88ff4bff55"
  },
  {
   "cell_type": "code",
   "execution_count": 21,
   "outputs": [
    {
     "name": "stdout",
     "output_type": "stream",
     "text": [
      "99\n",
      "8\n",
      "107\n"
     ]
    }
   ],
   "source": [
    "my_list = [[12, 221, 3], [41, 5, 633], [71, 8, 99]]\n",
    "\n",
    "# maximum = my_list[0][0]\n",
    "# minimum = my_list[0][0]\n",
    "\n",
    "for row in my_list:\n",
    "    maximum = max(row)\n",
    "    minimum = min(row)\n",
    "# Пока не кончатся вложенные списки, будет перебирать каждый вложенный список, определяя максимальный и минимальный элемент в этом конкретном списке. Определив же, перейдет к следующему вложенному списку, а значения будут заменены значениями из нового списка. \n",
    "\n",
    "print(maximum)\n",
    "print(minimum)\n",
    "print(maximum + minimum)"
   ],
   "metadata": {
    "collapsed": false,
    "ExecuteTime": {
     "end_time": "2024-07-04T13:23:59.007087200Z",
     "start_time": "2024-07-04T13:23:59.004690900Z"
    }
   },
   "id": "d04cf48714d971e4"
  },
  {
   "cell_type": "code",
   "execution_count": 23,
   "outputs": [
    {
     "name": "stdout",
     "output_type": "stream",
     "text": [
      "636\n"
     ]
    }
   ],
   "source": [
    "my_list = [[12, 221, 3], [41, 5, 633], [71, 8, 99]]\n",
    "\n",
    "maximum = my_list[0][0]\n",
    "minimum = my_list[0][0]\n",
    "\n",
    "for row in my_list:\n",
    "    if max(row) > maximum:\n",
    "        maximum = max(row)\n",
    "    if min(row) < minimum:\n",
    "        minimum = min(row)\n",
    "\n",
    "print(maximum + minimum)"
   ],
   "metadata": {
    "collapsed": false,
    "ExecuteTime": {
     "end_time": "2024-07-04T13:32:29.222999600Z",
     "start_time": "2024-07-04T13:32:29.220387700Z"
    }
   },
   "id": "64fa6bf364f8554f"
  },
  {
   "cell_type": "raw",
   "source": [
    "На вход программе подается число n. Напишите программу, которая создает и выводит построчно список, состоящий из n списков [[1, 2, ..., n], [1, 2, ..., n], ..., [1, 2, ..., n]].\n",
    "\n",
    "Формат входных данных\n",
    "На вход программе подается натуральное число n.\n",
    "\n",
    "Формат выходных данных\n",
    "Программа должна вывести построчно указанный список."
   ],
   "metadata": {
    "collapsed": false
   },
   "id": "5b339c4d10ba683a"
  },
  {
   "cell_type": "code",
   "execution_count": 37,
   "outputs": [
    {
     "name": "stdout",
     "output_type": "stream",
     "text": [
      "[1, 2, 3, 4, 5]\n",
      "[1, 2, 3, 4, 5]\n",
      "[1, 2, 3, 4, 5]\n",
      "[1, 2, 3, 4, 5]\n",
      "[1, 2, 3, 4, 5]\n"
     ]
    }
   ],
   "source": [
    "n = int(input())\n",
    "# n = 3\n",
    "\n",
    "\n",
    "my_list = [[i for i in range(1, n + 1)] for j in range(1, n + 1)]\n",
    "\n",
    "print(*my_list, sep='\\n')"
   ],
   "metadata": {
    "collapsed": false,
    "ExecuteTime": {
     "end_time": "2024-07-05T05:25:54.872785700Z",
     "start_time": "2024-07-05T05:25:52.993843400Z"
    }
   },
   "id": "3d335485c4b38a0c"
  },
  {
   "cell_type": "code",
   "execution_count": 38,
   "outputs": [
    {
     "name": "stdout",
     "output_type": "stream",
     "text": [
      "[1, 2, 3, 4, 5, 6]\n",
      "[1, 2, 3, 4, 5, 6]\n",
      "[1, 2, 3, 4, 5, 6]\n",
      "[1, 2, 3, 4, 5, 6]\n",
      "[1, 2, 3, 4, 5, 6]\n",
      "[1, 2, 3, 4, 5, 6]\n"
     ]
    }
   ],
   "source": [
    "n = int(input())\n",
    "for _ in range(n):\n",
    "    print(list(range(1, n + 1)))"
   ],
   "metadata": {
    "collapsed": false,
    "ExecuteTime": {
     "end_time": "2024-07-05T05:27:23.054526900Z",
     "start_time": "2024-07-05T05:27:21.527715600Z"
    }
   },
   "id": "2e5db4dcbc5cabf9"
  },
  {
   "cell_type": "code",
   "execution_count": 40,
   "outputs": [
    {
     "name": "stdout",
     "output_type": "stream",
     "text": [
      "[1, 2, 3, 4, 5, 6, 7]\n",
      "[1, 2, 3, 4, 5, 6, 7]\n",
      "[1, 2, 3, 4, 5, 6, 7]\n",
      "[1, 2, 3, 4, 5, 6, 7]\n",
      "[1, 2, 3, 4, 5, 6, 7]\n",
      "[1, 2, 3, 4, 5, 6, 7]\n",
      "[1, 2, 3, 4, 5, 6, 7]\n"
     ]
    }
   ],
   "source": [
    "print(*[[i for i in range(1, n + 1)] for n in [int(input())] for _ in range(n)], sep='\\n')"
   ],
   "metadata": {
    "collapsed": false,
    "ExecuteTime": {
     "end_time": "2024-07-05T05:28:28.901485100Z",
     "start_time": "2024-07-05T05:28:26.774834800Z"
    }
   },
   "id": "94b9ffb67250b4a4"
  },
  {
   "cell_type": "raw",
   "source": [
    "На вход программе подается число n. Напишите программу, которая создает и выводит построчно вложенный список, состоящий из n списков [[1], [1, 2], [1, 2, 3], ..., [1, 2, ..., n]].\n",
    "\n",
    "Формат входных данных\n",
    "На вход программе подается натуральное число n.\n",
    "\n",
    "Формат выходных данных\n",
    "Программа должна вывести построчно указанный вложенный список."
   ],
   "metadata": {
    "collapsed": false
   },
   "id": "56c57595209bcda6"
  },
  {
   "cell_type": "code",
   "execution_count": 58,
   "outputs": [
    {
     "name": "stdout",
     "output_type": "stream",
     "text": [
      "[1]\n",
      "[1, 2]\n",
      "[1, 2, 3]\n"
     ]
    }
   ],
   "source": [
    "n = int(input())\n",
    "\n",
    "print(*[[i for i in range(1, j + 1)] for j in range(1, n + 1)], sep='\\n')"
   ],
   "metadata": {
    "collapsed": false,
    "ExecuteTime": {
     "end_time": "2024-07-05T05:49:47.465474300Z",
     "start_time": "2024-07-05T05:49:47.443125300Z"
    }
   },
   "id": "83feba8a452eaa11"
  },
  {
   "cell_type": "raw",
   "source": [
    "Треугольник Паскаля — бесконечная таблица биномиальных коэффициентов, имеющая треугольную форму. В этом треугольнике на вершине и по бокам стоят единицы. Каждое число равно сумме двух расположенных над ним чисел.\n",
    "\n",
    "0:      1\n",
    "1:     1 1\n",
    "2:    1 2 1\n",
    "3:   1 3 3 1\n",
    "4:  1 4 6 4 1\n",
    "      .....\n",
    "На вход программе подается число n. Напишите программу, которая возвращает указанную строку треугольника Паскаля в виде списка (нумерация строк начинается с нуля).\n",
    "\n",
    "Формат входных данных\n",
    "На вход программе подается число n (n≥0).\n",
    "\n",
    "Формат выходных данных\n",
    "Программа должна вывести указанную строку треугольника Паскаля в виде списка.\n",
    "\n",
    "Примечание 1. Решение удобно оформить в виде функции pascal(), которая принимает номер строки и возвращает соответствующую строку треугольника Паскаля."
   ],
   "metadata": {
    "collapsed": false
   },
   "id": "c2e09c7b088ada65"
  },
  {
   "cell_type": "code",
   "execution_count": 70,
   "outputs": [
    {
     "name": "stdout",
     "output_type": "stream",
     "text": [
      "[1, 30, 435, 4060, 27405, 142506, 593775, 2035800, 5852925, 14307150, 30045015, 54627300, 86493225, 119759850, 145422675, 155117520, 145422675, 119759850, 86493225, 54627300, 30045015, 14307150, 5852925, 2035800, 593775, 142506, 27405, 4060, 435, 30, 1]\n"
     ]
    }
   ],
   "source": [
    "# Ввод значения n и увеличение его на 1\n",
    "n = int(input()) + 1\n",
    "# n = 31  # Пример для тестирования\n",
    "\n",
    "# Инициализация пустого списка для хранения строк треугольника\n",
    "l = []\n",
    "\n",
    "# Генерация треугольника Паскаля\n",
    "for i in range(n):\n",
    "    l1 = []  # Новый пустой список для текущей строки\n",
    "    for j in range(i + 1):\n",
    "        if j == 0 or j == i:\n",
    "            l1.append(1)  # Добавляем 1 в начало или конец строки\n",
    "        else:\n",
    "            # Промежуточные значения как сумма двух значений из предыдущей строки\n",
    "            l1.append(l[i - 1][j - 1] + l[i - 1][j])\n",
    "    l.append(l1)  # Добавляем текущую строку в главный список\n",
    "\n",
    "# Выводим последнюю строку треугольника\n",
    "print(l[n - 1])\n",
    "\n",
    "# - Задаём новый пустой список для текущей строки треугольника (list1 = []). Каждый раз \"обнуляя\" его на каждой итерации цикла.\n",
    "\n",
    "# - Внутренний цикл проходит по итератору внешнего цикла (по i, то есть по  range(i + 1) в моём случае).\n",
    "# \n",
    "# - Внутренний цикл заполняет каждую строку треугольника и добавляет значение в list1.:\n",
    "# \n",
    "#  Условие для начала и конца строки (если индекс внутреннего цикла j равен 0 или равен концу диапазона == i) добавляем значение равное 1.\n",
    "#  Иначе промежуточные значения рассчитываются как сумма двух значений из предыдущей строки. Значения находятся по индексам: \n",
    "# первое как [i - 1] [j - 1]\n",
    "# второе как [i - 1] [j]\n",
    "# i - 1 - предыдущий ряд, j - 1 - предыдущий элемент. Сумма значений элементов добавляется в список list1.\n",
    "# - В список list добавляем список list1 и переходим на следующую итерацию внешнего цикла (строку треугольника).\n",
    "# \n",
    "# 4. Вывод последней строки треугольника как последнего элемента списка list."
   ],
   "metadata": {
    "collapsed": false,
    "ExecuteTime": {
     "end_time": "2024-07-05T06:53:55.565243800Z",
     "start_time": "2024-07-05T06:53:55.536792800Z"
    }
   },
   "id": "8e506d6e27492adc"
  },
  {
   "cell_type": "raw",
   "source": [
    "На вход программе подается натуральное число n. Напишите программу, которая выводит первые n строк треугольника Паскаля.\n",
    "\n",
    "Формат входных данных\n",
    "На вход программе подается число n (n≥1).\n",
    "\n",
    "Формат выходных данных\n",
    "Программа должна вывести первые n строк треугольника Паскаля, каждую на отдельной строке в соответствии с образцом."
   ],
   "metadata": {
    "collapsed": false
   },
   "id": "e1be017aef512900"
  },
  {
   "cell_type": "code",
   "execution_count": 76,
   "outputs": [
    {
     "name": "stdout",
     "output_type": "stream",
     "text": [
      "1\n",
      "1 1\n",
      "1 2 1\n",
      "1 3 3 1\n"
     ]
    }
   ],
   "source": [
    "# Ввод значения n и увеличение его на 1\n",
    "n = int(input()) + 1\n",
    "# n = 31  # Пример для тестирования\n",
    "\n",
    "# Инициализация пустого списка для хранения строк треугольника\n",
    "l = []\n",
    "\n",
    "# Генерация треугольника Паскаля\n",
    "for i in range(n):\n",
    "    l1 = []  # Новый пустой список для текущей строки\n",
    "    for j in range(i + 1):\n",
    "        if j == 0 or j == i:\n",
    "            l1.append(1)  # Добавляем 1 в начало или конец строки\n",
    "        else:\n",
    "            # Промежуточные значения как сумма двух значений из предыдущей строки\n",
    "            l1.append(l[i - 1][j - 1] + l[i - 1][j])\n",
    "    l.append(l1)  # Добавляем текущую строку в главный список\n",
    "\n",
    "for i in l[:-1]:\n",
    "    print(*i)"
   ],
   "metadata": {
    "collapsed": false,
    "ExecuteTime": {
     "end_time": "2024-07-05T07:51:56.168328200Z",
     "start_time": "2024-07-05T07:51:54.652926Z"
    }
   },
   "id": "fdf729ae41c98859"
  },
  {
   "cell_type": "code",
   "execution_count": null,
   "outputs": [],
   "source": [
    "#-------------------ФУНКЦИЯ-------------------\n",
    "def pascal(n):\n",
    "    triangle = [[1]]\n",
    "    \n",
    "    for i in range(n - 1):\n",
    "        row = [1]\n",
    "        for j in range(1, len(triangle[i])):\n",
    "            row += [sum(triangle[i][j - 1: j + 1])]\n",
    "        row += [1]\n",
    "        triangle.append(row.copy())\n",
    "        \n",
    "    return triangle\n",
    "\n",
    "#--------------------ВЫЗОВ--------------------\n",
    "[print(*row) for row in pascal(int(input()))]"
   ],
   "metadata": {
    "collapsed": false
   },
   "id": "228c1e77dbb9c359"
  }
 ],
 "metadata": {
  "kernelspec": {
   "display_name": "Python 3",
   "language": "python",
   "name": "python3"
  },
  "language_info": {
   "codemirror_mode": {
    "name": "ipython",
    "version": 2
   },
   "file_extension": ".py",
   "mimetype": "text/x-python",
   "name": "python",
   "nbconvert_exporter": "python",
   "pygments_lexer": "ipython2",
   "version": "2.7.6"
  }
 },
 "nbformat": 4,
 "nbformat_minor": 5
}
