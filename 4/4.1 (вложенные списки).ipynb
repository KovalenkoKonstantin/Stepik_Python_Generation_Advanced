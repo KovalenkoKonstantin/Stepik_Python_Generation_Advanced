{
 "cells": [
  {
   "cell_type": "raw",
   "source": [
    "элементами списков могут быть другие списки и в реальной разработке такая конструкция оказывается очень полезной. Такие списки называются вложенными списками."
   ],
   "metadata": {
    "collapsed": false
   },
   "id": "6ed61ccddde1ce95"
  },
  {
   "cell_type": "code",
   "execution_count": 1,
   "outputs": [
    {
     "name": "stdout",
     "output_type": "stream",
     "text": [
      "[[0], [1, 2], [3, 4, 5]]\n",
      "[0]\n",
      "[1, 2]\n",
      "[3, 4, 5]\n",
      "3\n"
     ]
    }
   ],
   "source": [
    "my_list = [[0], [1, 2], [3, 4, 5]]\n",
    "\n",
    "print(my_list)\n",
    "print(my_list[0])\n",
    "print(my_list[1])\n",
    "print(my_list[2])\n",
    "print(len(my_list))"
   ],
   "metadata": {
    "collapsed": false,
    "ExecuteTime": {
     "end_time": "2024-07-03T12:09:20.757105400Z",
     "start_time": "2024-07-03T12:09:20.749673300Z"
    }
   },
   "id": "810a9bda8f44ace0"
  },
  {
   "cell_type": "raw",
   "source": [
    "При работе с одномерными списками мы использовали индексацию, то есть обращение к конкретному элементу по его индексу. Аналогично можно индексировать и вложенные списки:"
   ],
   "metadata": {
    "collapsed": false
   },
   "id": "923695c137ad1271"
  },
  {
   "cell_type": "code",
   "execution_count": 2,
   "outputs": [
    {
     "name": "stdout",
     "output_type": "stream",
     "text": [
      "Python\n",
      "[10, 20, 30]\n",
      "['Beegeek', 'Stepik']\n"
     ]
    }
   ],
   "source": [
    "my_list = ['Python', [10, 20, 30], ['Beegeek', 'Stepik']]\n",
    "\n",
    "print(my_list[0])\n",
    "print(my_list[1])\n",
    "print(my_list[2])"
   ],
   "metadata": {
    "collapsed": false,
    "ExecuteTime": {
     "end_time": "2024-07-03T12:10:07.082001400Z",
     "start_time": "2024-07-03T12:10:07.073515500Z"
    }
   },
   "id": "727abe1eaf6bef23"
  },
  {
   "cell_type": "code",
   "execution_count": 3,
   "outputs": [
    {
     "name": "stdout",
     "output_type": "stream",
     "text": [
      "t\n",
      "20\n",
      "Stepik!\n",
      "!\n"
     ]
    }
   ],
   "source": [
    "my_list = ['Python', [10, 20, 30], ['Beegeek', 'Stepik!']]\n",
    "\n",
    "print(my_list[0][2])       # индексирование строки 'Python'\n",
    "print(my_list[1][1])       # индексирование списка [10, 20, 30]\n",
    "print(my_list[2][-1])      # индексирование списка ['Beegeek', 'Stepik!']\n",
    "print(my_list[2][-1][-1])  # индексирование строки 'Stepik!'"
   ],
   "metadata": {
    "collapsed": false,
    "ExecuteTime": {
     "end_time": "2024-07-03T12:10:22.338215300Z",
     "start_time": "2024-07-03T12:10:22.330990200Z"
    }
   },
   "id": "f012b0ed2a93cdb7"
  },
  {
   "cell_type": "code",
   "execution_count": 4,
   "outputs": [
    {
     "name": "stdout",
     "output_type": "stream",
     "text": [
      "5\n"
     ]
    }
   ],
   "source": [
    "my_list = [[0], [1, 2], [3, 4, 5], [], [10, 20, 30]]\n",
    "\n",
    "print(len(my_list))"
   ],
   "metadata": {
    "collapsed": false,
    "ExecuteTime": {
     "end_time": "2024-07-03T12:10:52.488376300Z",
     "start_time": "2024-07-03T12:10:52.481882100Z"
    }
   },
   "id": "ad0808a14307033f"
  },
  {
   "cell_type": "raw",
   "source": [
    "Если требуется посчитать общее количество элементов во вложенном списке my_list, мы можем использовать цикл for в связке с функцией len():"
   ],
   "metadata": {
    "collapsed": false
   },
   "id": "ea8b0b5c3990b5a8"
  },
  {
   "cell_type": "code",
   "execution_count": 5,
   "outputs": [
    {
     "name": "stdout",
     "output_type": "stream",
     "text": [
      "9\n"
     ]
    }
   ],
   "source": [
    "total = 0\n",
    "my_list = [[0], [1, 2], [3, 4, 5], [], [10, 20, 30]]\n",
    "\n",
    "for li in my_list:\n",
    "    total += len(li)\n",
    "\n",
    "print(total)"
   ],
   "metadata": {
    "collapsed": false,
    "ExecuteTime": {
     "end_time": "2024-07-03T12:11:20.575543300Z",
     "start_time": "2024-07-03T12:11:20.569555600Z"
    }
   },
   "id": "4eee0273fb5648cf"
  },
  {
   "cell_type": "raw",
   "source": [
    "Функции min() и max() могут работать и со списками. Если этим функциям передается несколько списков, то целиком возвращается один из переданных списков. При этом сравнение происходит поэлементно: сначала сравниваются первые элементы списков. Если они не равны, то функция min() вернет тот список, первый элемент которого меньше, max() – наоборот. Если первые элементы равны, то будут сравниваться вторые и т. д."
   ],
   "metadata": {
    "collapsed": false
   },
   "id": "5a750bc7dc915181"
  },
  {
   "cell_type": "code",
   "execution_count": 6,
   "outputs": [
    {
     "name": "stdout",
     "output_type": "stream",
     "text": [
      "[1, 7, 12, 0, 9, 100]\n",
      "[1, 10]\n"
     ]
    }
   ],
   "source": [
    "list1 = [1, 7, 12, 0, 9, 100] \n",
    "list2 = [1, 7, 90] \n",
    "list3 = [1, 10]\n",
    "\n",
    "print(min(list1, list2, list3))\n",
    "print(max(list1, list2, list3))"
   ],
   "metadata": {
    "collapsed": false,
    "ExecuteTime": {
     "end_time": "2024-07-03T12:12:38.705515800Z",
     "start_time": "2024-07-03T12:12:38.696496700Z"
    }
   },
   "id": "26101e45da884ff9"
  },
  {
   "cell_type": "raw",
   "source": [
    "Функции min() и max() также можно использовать при работе с вложенными списками. Рассмотрим программный код:"
   ],
   "metadata": {
    "collapsed": false
   },
   "id": "e9ba478ed49098fa"
  },
  {
   "cell_type": "code",
   "execution_count": 7,
   "outputs": [
    {
     "name": "stdout",
     "output_type": "stream",
     "text": [
      "[1, 7, 12, 0, 9, 100]\n",
      "[1, 10]\n",
      "['a']\n",
      "['d', 'p', 'q']\n"
     ]
    }
   ],
   "source": [
    "list1 = [[1, 7, 12, 0, 9, 100], [1, 7, 90], [1, 10]]\n",
    "list2 = [['a', 'b'], ['a'], ['d', 'p', 'q']]\n",
    "\n",
    "print(min(list1))\n",
    "print(max(list1))\n",
    "print(min(list2))\n",
    "print(max(list2))"
   ],
   "metadata": {
    "collapsed": false,
    "ExecuteTime": {
     "end_time": "2024-07-03T12:13:57.081968Z",
     "start_time": "2024-07-03T12:13:57.074148700Z"
    }
   },
   "id": "51861d8f074eb092"
  },
  {
   "cell_type": "raw",
   "source": [
    "Независимо от вложенности списков, нам нужно помнить по возможности все списочные методы:\n",
    "\n",
    "метод append() добавляет новый элемент в конец списка;\n",
    "метод extend() расширяет один список другим списком;\n",
    "\n",
    "метод insert() вставляет значение в список в заданной позиции;\n",
    "\n",
    "метод index() возвращает индекс первого элемента, значение которого равняется переданному в метод значению;\n",
    "\n",
    "метод remove() удаляет первый элемент, значение которого равняется переданному в метод значению;\n",
    "\n",
    "метод pop() удаляет элемент по указанному индексу и возвращает его;\n",
    "\n",
    "метод count() возвращает количество элементов в списке, значения которых равны переданному в метод значению;\n",
    "\n",
    "метод reverse() инвертирует порядок следования значений в списке, то есть меняет его на противоположный;\n",
    "\n",
    "метод copy() создает поверхностную копию списка.;\n",
    "\n",
    "метод clear() удаляет все элементы из списка;\n",
    "\n",
    "оператор del позволяет удалять элементы списка по определенному индексу."
   ],
   "metadata": {
    "collapsed": false
   },
   "id": "e42afd047f1ed116"
  },
  {
   "cell_type": "raw",
   "source": [
    "Методы строк, работающие со списками:\n",
    "\n",
    "метод split() разбивает строку на слова, используя в качестве разделителя последовательность пробельных символов, символ табуляции (\\t) или символ новой строки (\\n).\n",
    "метод join() собирает строку из элементов списка, используя в качестве разделителя строку, к которой применяется метод."
   ],
   "metadata": {
    "collapsed": false
   },
   "id": "fdb7c800b1f57943"
  },
  {
   "cell_type": "code",
   "execution_count": 8,
   "outputs": [
    {
     "name": "stdout",
     "output_type": "stream",
     "text": [
      "27\n"
     ]
    }
   ],
   "source": [
    "list1 = [[1, 8, 9], [4, 8, 12, 16], [0, 2, 7]]\n",
    "print(list1[0][1] + list1[1][2] + list1[2][2])"
   ],
   "metadata": {
    "collapsed": false,
    "ExecuteTime": {
     "end_time": "2024-07-03T12:16:38.717179100Z",
     "start_time": "2024-07-03T12:16:38.710661500Z"
    }
   },
   "id": "3c3eae6f87c2ae44"
  },
  {
   "cell_type": "code",
   "execution_count": 9,
   "outputs": [
    {
     "ename": "IndexError",
     "evalue": "list index out of range",
     "output_type": "error",
     "traceback": [
      "\u001B[1;31m---------------------------------------------------------------------------\u001B[0m",
      "\u001B[1;31mIndexError\u001B[0m                                Traceback (most recent call last)",
      "Cell \u001B[1;32mIn[9], line 2\u001B[0m\n\u001B[0;32m      1\u001B[0m list1 \u001B[38;5;241m=\u001B[39m [[\u001B[38;5;241m1\u001B[39m, \u001B[38;5;241m8\u001B[39m, \u001B[38;5;241m9\u001B[39m], [\u001B[38;5;241m4\u001B[39m, \u001B[38;5;241m8\u001B[39m, \u001B[38;5;241m12\u001B[39m, \u001B[38;5;241m16\u001B[39m], [\u001B[38;5;241m0\u001B[39m, \u001B[38;5;241m2\u001B[39m, \u001B[38;5;241m7\u001B[39m]]\n\u001B[1;32m----> 2\u001B[0m \u001B[38;5;28mprint\u001B[39m(list1[\u001B[38;5;241m0\u001B[39m][\u001B[38;5;241m1\u001B[39m] \u001B[38;5;241m+\u001B[39m \u001B[43mlist1\u001B[49m\u001B[43m[\u001B[49m\u001B[38;5;241;43m3\u001B[39;49m\u001B[43m]\u001B[49m[\u001B[38;5;241m2\u001B[39m] \u001B[38;5;241m+\u001B[39m list1[\u001B[38;5;241m2\u001B[39m][\u001B[38;5;241m2\u001B[39m])\n",
      "\u001B[1;31mIndexError\u001B[0m: list index out of range"
     ]
    }
   ],
   "source": [
    "list1 = [[1, 8, 9], [4, 8, 12, 16], [0, 2, 7]]\n",
    "print(list1[0][1] + list1[3][2] + list1[2][2])"
   ],
   "metadata": {
    "collapsed": false,
    "ExecuteTime": {
     "end_time": "2024-07-03T12:16:49.461325600Z",
     "start_time": "2024-07-03T12:16:49.229791300Z"
    }
   },
   "id": "391e194821af0b30"
  },
  {
   "cell_type": "code",
   "execution_count": 10,
   "outputs": [
    {
     "name": "stdout",
     "output_type": "stream",
     "text": [
      "e\n",
      "16\n"
     ]
    }
   ],
   "source": [
    "list1 = ['Beegeek', [4, 8, 12, 16]]\n",
    "print(list1[0][1])\n",
    "print(list1[1][3])"
   ],
   "metadata": {
    "collapsed": false,
    "ExecuteTime": {
     "end_time": "2024-07-03T12:16:57.286306400Z",
     "start_time": "2024-07-03T12:16:57.278492200Z"
    }
   },
   "id": "29626461226c99ef"
  },
  {
   "cell_type": "code",
   "execution_count": 11,
   "outputs": [
    {
     "data": {
      "text/plain": "2"
     },
     "execution_count": 11,
     "metadata": {},
     "output_type": "execute_result"
    }
   ],
   "source": [
    "list1 = [[0, [9, 2]], [1, [4, 6, 3], [5, 2, 3], 8, 3]]\n",
    "list1[1][2][1]"
   ],
   "metadata": {
    "collapsed": false,
    "ExecuteTime": {
     "end_time": "2024-07-03T12:17:15.103542700Z",
     "start_time": "2024-07-03T12:17:15.094827700Z"
    }
   },
   "id": "3760fa0c2d7a882b"
  },
  {
   "cell_type": "code",
   "execution_count": 12,
   "outputs": [
    {
     "data": {
      "text/plain": "4"
     },
     "execution_count": 12,
     "metadata": {},
     "output_type": "execute_result"
    }
   ],
   "source": [
    "list1 = [[1, 2, 3], [4, 5], [8], [1, 2, 3, 4]]\n",
    "len(list1)"
   ],
   "metadata": {
    "collapsed": false,
    "ExecuteTime": {
     "end_time": "2024-07-03T12:17:43.967492800Z",
     "start_time": "2024-07-03T12:17:43.958466800Z"
    }
   },
   "id": "653b754bb6ec3d8f"
  },
  {
   "cell_type": "code",
   "execution_count": 13,
   "outputs": [
    {
     "data": {
      "text/plain": "2"
     },
     "execution_count": 13,
     "metadata": {},
     "output_type": "execute_result"
    }
   ],
   "source": [
    "list1 = [[[1, 1, 0], [0, 1, 1]], [[0, 1], [1, 1], [1, 0]]]\n",
    "len(list1)"
   ],
   "metadata": {
    "collapsed": false,
    "ExecuteTime": {
     "end_time": "2024-07-03T12:17:57.871409200Z",
     "start_time": "2024-07-03T12:17:57.862599600Z"
    }
   },
   "id": "2af42468ea17a8cf"
  },
  {
   "cell_type": "code",
   "execution_count": 14,
   "outputs": [
    {
     "name": "stdout",
     "output_type": "stream",
     "text": [
      "[[2, 6, 7, 8], [2, 7, 2], [1, 3, 4, 5], [1, 8, 7, 4]]\n"
     ]
    }
   ],
   "source": [
    "list1 = [[1, 8, 7, 4], [1, 3, 4, 5], [2, 7, 2], [2, 6, 7, 8]]\n",
    "list1.reverse()\n",
    "print(list1)"
   ],
   "metadata": {
    "collapsed": false,
    "ExecuteTime": {
     "end_time": "2024-07-03T12:18:05.874755600Z",
     "start_time": "2024-07-03T12:18:05.862787100Z"
    }
   },
   "id": "3455d0968678775e"
  },
  {
   "cell_type": "code",
   "execution_count": 15,
   "outputs": [
    {
     "name": "stdout",
     "output_type": "stream",
     "text": [
      "[[1, 8, 7, 4], [2, 7, 2], [2, 6, 7, 8]]\n"
     ]
    }
   ],
   "source": [
    "list1 = [[1, 8, 7, 4], [1, 3, 4, 5, 6], [2, 7, 2], [2, 6, 7, 8]]\n",
    "del list1[1]\n",
    "print(list1)"
   ],
   "metadata": {
    "collapsed": false,
    "ExecuteTime": {
     "end_time": "2024-07-03T12:18:46.287892100Z",
     "start_time": "2024-07-03T12:18:46.277905600Z"
    }
   },
   "id": "33d4faf2c895b893"
  },
  {
   "cell_type": "code",
   "execution_count": 16,
   "outputs": [
    {
     "name": "stdout",
     "output_type": "stream",
     "text": [
      "[[1, 8, 7, 4], [1, 4, 5, 6], [2, 7, 2], [2, 6, 7, 8]]\n"
     ]
    }
   ],
   "source": [
    "list1 = [[1, 8, 7, 4], [1, 3, 4, 5, 6], [2, 7, 2], [2, 6, 7, 8]]\n",
    "del list1[1][1]\n",
    "print(list1)"
   ],
   "metadata": {
    "collapsed": false,
    "ExecuteTime": {
     "end_time": "2024-07-03T12:19:23.351546100Z",
     "start_time": "2024-07-03T12:19:23.310638200Z"
    }
   },
   "id": "1001bfce2721a43d"
  },
  {
   "cell_type": "raw",
   "source": [
    "Дополните приведенный код, используя списочный метод append(), чтобы список list1 имел вид:\n",
    "\n",
    "list1 = [10, 20, [300, 400, [5000, 6000, 7000], 500], 30, 40]"
   ],
   "metadata": {
    "collapsed": false
   },
   "id": "ec78415853837b28"
  },
  {
   "cell_type": "code",
   "execution_count": 18,
   "outputs": [
    {
     "name": "stdout",
     "output_type": "stream",
     "text": [
      "[10, 20, [300, 400, [5000, 6000, 7000], 500], 30, 40]\n"
     ]
    }
   ],
   "source": [
    "list1 = [10, 20, [300, 400, [5000, 6000], 500], 30, 40]\n",
    "list1[2][2].append(7000)\n",
    "\n",
    "\n",
    "print(list1)"
   ],
   "metadata": {
    "collapsed": false,
    "ExecuteTime": {
     "end_time": "2024-07-03T12:21:56.152237400Z",
     "start_time": "2024-07-03T12:21:56.148333200Z"
    }
   },
   "id": "1fa4ae71dd8faa4b"
  },
  {
   "cell_type": "raw",
   "source": [
    "Дополните приведенный код, используя списочный метод extend(), чтобы список list1 имел вид:\n",
    "\n",
    "list1 = ['a', 'b', ['c', ['d', 'e', ['f', 'g', 'h', 'i', 'j'], 'k'], 'l'], 'm', 'n']\n",
    "Подсписок для расширения  sub_list = ['h', 'i', 'j']."
   ],
   "metadata": {
    "collapsed": false
   },
   "id": "9301bc1f044706a2"
  },
  {
   "cell_type": "code",
   "execution_count": 19,
   "outputs": [
    {
     "name": "stdout",
     "output_type": "stream",
     "text": [
      "['a', 'b', ['c', ['d', 'e', ['f', 'g', 'h', 'i', 'j'], 'k'], 'l'], 'm', 'n']\n"
     ]
    }
   ],
   "source": [
    "list1 = ['a', 'b', ['c', ['d', 'e', ['f', 'g'], 'k'], 'l'], 'm', 'n']\n",
    "sub_list = ['h', 'i', 'j']\n",
    "list1[2][1][2].extend(sub_list)\n",
    "\n",
    "print(list1)"
   ],
   "metadata": {
    "collapsed": false,
    "ExecuteTime": {
     "end_time": "2024-07-03T13:10:30.393011100Z",
     "start_time": "2024-07-03T13:10:30.386751500Z"
    }
   },
   "id": "da01dc99c41f28d1"
  },
  {
   "cell_type": "raw",
   "source": [
    "Дополните приведенный код, используя цикл for и встроенную функцию max(), чтобы он выводил максимальный элемент среди всех элементов вложенных списков списка list1."
   ],
   "metadata": {
    "collapsed": false
   },
   "id": "3b98bb5301e0207b"
  },
  {
   "cell_type": "code",
   "execution_count": 27,
   "outputs": [
    {
     "name": "stdout",
     "output_type": "stream",
     "text": [
      "106\n"
     ]
    }
   ],
   "source": [
    "list1 = [[1, 7, 8], [9, 7, 102], [6, 106, 105], [100, 99, 98, 103], [1, 2, 3]]\n",
    "# Вложенные comprehension сначала проходят по каждому вложенному списку (`for sublist in list1`), затем по каждому элементу внутри вложенного списка (`for element in sublist`) и добавляют каждый элемент в результативный одномерный список `maximum`.\n",
    "maximum = max([element for sublist in list1 for element in sublist])\n",
    "\n",
    "\n",
    "print(maximum)"
   ],
   "metadata": {
    "collapsed": false,
    "ExecuteTime": {
     "end_time": "2024-07-03T13:22:57.086513800Z",
     "start_time": "2024-07-03T13:22:57.077792500Z"
    }
   },
   "id": "eb5185bffe8ee73d"
  },
  {
   "cell_type": "code",
   "execution_count": 28,
   "outputs": [
    {
     "name": "stdout",
     "output_type": "stream",
     "text": [
      "106\n"
     ]
    }
   ],
   "source": [
    "list1 = [[1, 7, 8], [9, 7, 102], [6, 106, 105], [100, 99, 98, 103], [1, 2, 3]]\n",
    "maximum = max([max(row) for row in list1])\n",
    "# Этот выражение создаёт новый список, в котором содержатся максимальные значения каждого вложенного списка. Проходит по каждому подсписку `row` в `list1` и применяет функцию `max` к этому подсписку.\n",
    "\n",
    "print(maximum)"
   ],
   "metadata": {
    "collapsed": false,
    "ExecuteTime": {
     "end_time": "2024-07-03T13:25:04.902560400Z",
     "start_time": "2024-07-03T13:25:04.899026Z"
    }
   },
   "id": "7b1472d868d25f9f"
  },
  {
   "cell_type": "raw",
   "source": [
    "Дополните приведенный код так, чтобы список list1 имел вид:\n",
    "\n",
    "list1 = [[8, 7, 1], [102, 7, 9], [105, 106, 102], [103, 98, 99, 100], [3, 2, 1]]"
   ],
   "metadata": {
    "collapsed": false
   },
   "id": "dd6be144b7d3beda"
  },
  {
   "cell_type": "code",
   "execution_count": 32,
   "outputs": [
    {
     "name": "stdout",
     "output_type": "stream",
     "text": [
      "[[8, 7, 1], [102, 7, 9], [105, 106, 102], [103, 98, 99, 100], [3, 2, 1]]\n"
     ]
    }
   ],
   "source": [
    "list1 = [[1, 7, 8], [9, 7, 102], [102, 106, 105], [100, 99, 98, 103], [1, 2, 3]]\n",
    "list1 = [element[::-1] for element in list1]\n",
    "\n",
    "print(list1)"
   ],
   "metadata": {
    "collapsed": false,
    "ExecuteTime": {
     "end_time": "2024-07-03T13:38:41.612752600Z",
     "start_time": "2024-07-03T13:38:41.609767700Z"
    }
   },
   "id": "8e1eb41547ad2b6e"
  },
  {
   "cell_type": "code",
   "execution_count": 34,
   "outputs": [
    {
     "name": "stdout",
     "output_type": "stream",
     "text": [
      "[[8, 7, 1], [102, 7, 9], [105, 106, 102], [103, 98, 99, 100], [3, 2, 1]]\n"
     ]
    }
   ],
   "source": [
    "list1 = [[1, 7, 8], [9, 7, 102], [102, 106, 105], [100, 99, 98, 103], [1, 2, 3]]\n",
    "[element.reverse() for element in list1]\n",
    "# строки неизменяемы и методы строк не способны на это повлиять, а методы списков, конкретно i.reverse() меняет элемент глобально, и прошлого i больше не существует\n",
    "print(list1)"
   ],
   "metadata": {
    "collapsed": false,
    "ExecuteTime": {
     "end_time": "2024-07-03T13:40:02.129064700Z",
     "start_time": "2024-07-03T13:40:02.126009200Z"
    }
   },
   "id": "5239ac1e4ec93685"
  },
  {
   "cell_type": "code",
   "execution_count": 35,
   "outputs": [
    {
     "name": "stdout",
     "output_type": "stream",
     "text": [
      "[[8, 7, 1], [102, 7, 9], [105, 106, 102], [103, 98, 99, 100], [3, 2, 1]]\n"
     ]
    }
   ],
   "source": [
    "list1 = [[1, 7, 8], [9, 7, 102], [102, 106, 105], [100, 99, 98, 103], [1, 2, 3]]\n",
    "print(list(map(list, map(reversed, list1))))"
   ],
   "metadata": {
    "collapsed": false,
    "ExecuteTime": {
     "end_time": "2024-07-03T13:41:07.856606600Z",
     "start_time": "2024-07-03T13:41:07.852989400Z"
    }
   },
   "id": "eebef1cd92568267"
  },
  {
   "cell_type": "raw",
   "source": [
    "Дополните приведенный код так, чтобы он выводил единственное число: сумму всех чисел списка list1, разделённую на общее количество всех чисел."
   ],
   "metadata": {
    "collapsed": false
   },
   "id": "6db0c5fe7778462f"
  },
  {
   "cell_type": "code",
   "execution_count": 49,
   "outputs": [
    {
     "name": "stdout",
     "output_type": "stream",
     "text": [
      "53.3125\n",
      "53.3125\n"
     ]
    }
   ],
   "source": [
    "import numpy as np\n",
    "list1 = [[1, 7, 8], [9, 7, 102], [102, 106, 105], [100, 99, 98, 103], [1, 2, 3]]\n",
    "total = 0\n",
    "counter = 0\n",
    "# Вложенные comprehension сначала проходят по каждому вложенному списку (`for sublist in list1`), затем по каждому элементу внутри вложенного списка (`for element in sublist`) и добавляют каждый элемент в результативный одномерный список `maximum`.\n",
    "l = [element for sublist in list1 for element in sublist]\n",
    "l = sum(l)/len(l)\n",
    "print(l)\n",
    "\n",
    "print(np.mean(l))"
   ],
   "metadata": {
    "collapsed": false,
    "ExecuteTime": {
     "end_time": "2024-07-03T14:03:30.709629500Z",
     "start_time": "2024-07-03T14:03:30.704524800Z"
    }
   },
   "id": "6dd77c12f0e52df"
  }
 ],
 "metadata": {
  "kernelspec": {
   "display_name": "Python 3",
   "language": "python",
   "name": "python3"
  },
  "language_info": {
   "codemirror_mode": {
    "name": "ipython",
    "version": 2
   },
   "file_extension": ".py",
   "mimetype": "text/x-python",
   "name": "python",
   "nbconvert_exporter": "python",
   "pygments_lexer": "ipython2",
   "version": "2.7.6"
  }
 },
 "nbformat": 4,
 "nbformat_minor": 5
}
