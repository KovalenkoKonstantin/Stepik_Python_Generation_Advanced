{
 "cells": [
  {
   "cell_type": "raw",
   "source": [
    "На вход программе подается строка текста, содержащая символы и число n. Из данной строки формируется список. Напишите программу, которая разделяет список на вложенные подсписки так, что n последовательных элементов принадлежат разным подспискам.\n",
    "\n",
    "Формат входных данных\n",
    "На вход программе подается строка текста, содержащая символы, отделенные символом пробела и число n на отдельной строке.\n",
    "\n",
    "Формат выходных данных\n",
    "Программа должна вывести указанный вложенный список."
   ],
   "metadata": {
    "collapsed": false
   },
   "id": "dd5a16b9f64711e7"
  },
  {
   "cell_type": "code",
   "execution_count": null,
   "outputs": [],
   "source": [
    "s = input().split()\n",
    "\n",
    "num = int(input())\n",
    "\n",
    "l = []\n",
    "\n",
    "for i in range(num):\n",
    "    l.append(s[i::num])\n",
    "\n",
    "print(l)"
   ],
   "metadata": {
    "collapsed": false
   },
   "id": "54b357aa6ae9020"
  },
  {
   "cell_type": "raw",
   "source": [
    "Напишите программу, которая выводит максимальный элемент в заштрихованной области квадратной матрицы (нижней и правой части).\n",
    "Формат входных данных\n",
    "На вход программе подаётся натуральное число \n",
    "n — количество строк и столбцов в матрице, затем элементы матрицы.\n",
    "Формат выходных данных\n",
    "Программа должна вывести одно число — максимальный элемент в заштрихованной области квадратной матрицы.\n",
    "Примечание. Элементы побочной диагонали также учитываются."
   ],
   "metadata": {
    "collapsed": false
   },
   "id": "c0b3452d6ed538fe"
  },
  {
   "cell_type": "code",
   "execution_count": null,
   "outputs": [],
   "source": [
    "n = int(input())\n",
    "\n",
    "A = [list(map(int, input().split())) for _ in range(n)]\n",
    "print(A)\n",
    "\n",
    "# верх - i < j and i < n -1 -j\n",
    "# низ - i > j and i > n -1 -j\n",
    "# право - i < j and i > n -1 -j\n",
    "# лево - i > j and i < n -1 -j\n",
    "\n",
    "# Элементы с индексами i и j, связанными соотношением i + j + 1 = n (или j = n - i - 1), где n — размерность матрицы, находятся на побочной диагонали.\n",
    "l = []\n",
    "for i in range(n):\n",
    "    for j in range(n):\n",
    "        if (i >= j and i >= n - 1 - j) or (i <= j and i >= n - 1 - j):\n",
    "            l.append(A[i][j])\n",
    "\n",
    "print(max(l))"
   ],
   "metadata": {
    "collapsed": false
   },
   "id": "dea3492a8d5b11a4"
  },
  {
   "cell_type": "raw",
   "source": [
    "Напишите программу, которая транспонирует квадратную матрицу.\n",
    "\n",
    "Формат входных данных\n",
    "На вход программе подаётся натуральное число n — количество строк и столбцов в матрице, затем элементы матрицы.\n",
    "\n",
    "Формат выходных данных\n",
    "Программа должна вывести транспонированную матрицу.\n",
    "\n",
    "Примечание 1. Транспонированная матрица — матрица, полученная из исходной матрицы заменой строк на столбцы.\n",
    "\n",
    "Примечание 2. Задачу можно решить без использования вспомогательного списка. "
   ],
   "metadata": {
    "collapsed": false
   },
   "id": "d6b52f91c0655201"
  },
  {
   "cell_type": "code",
   "execution_count": null,
   "outputs": [],
   "source": [
    "n = int(input())\n",
    "\n",
    "initial_matrix = [list(map(int, input().split())) for _ in range(n)]\n",
    "print(initial_matrix)\n",
    "\n",
    "final_matrix = []\n",
    "for i in range(n):\n",
    "    row = []\n",
    "    for j in range(n):\n",
    "        row.append(initial_matrix[j][i])\n",
    "    final_matrix.append(row)\n",
    "\n",
    "print(final_matrix)\n",
    "\n",
    "\n",
    "def print_matrix_2x_with_ljust(matrix_2x, ljust_width):\n",
    "    \"\"\"\n",
    "    Выводит двухмерный список в удобочитаемом формате.\n",
    "    \n",
    "    :param matrix_2x: Входная квадратная матрица (список списков).\n",
    "    :param ljust_width: Ширина каждого элемента для выравнивания.\n",
    "    \"\"\"\n",
    "    for row in matrix_2x:\n",
    "        print(' '.join(str(item).ljust(ljust_width) for item in row))\n",
    "    print()\n",
    "\n",
    "\n",
    "print_matrix_2x_with_ljust(final_matrix, ljust_width=1)"
   ],
   "metadata": {
    "collapsed": false
   },
   "id": "e201c18899def69e"
  },
  {
   "cell_type": "raw",
   "source": [
    "На вход программе подается нечетное натуральное число n. Напишите программу, которая создает матрицу размером \n",
    "\n",
    "n×n заполнив её символами . . Затем заполните символами * среднюю строку и столбец матрицы, главную и побочную диагональ матрицы. Выведите полученную матрицу на экран, разделяя элементы пробелами.\n",
    "\n",
    "Формат входных данных\n",
    "На вход программе подается нечетное натуральное число n,(n≥3) — количество строк и столбцов в матрице.\n",
    "\n",
    "Формат выходных данных\n",
    "Программа должна вывести матрицу в соответствии с условием задачи."
   ],
   "metadata": {
    "collapsed": false
   },
   "id": "7fddadb3a01e36fd"
  },
  {
   "cell_type": "code",
   "execution_count": 10,
   "outputs": [
    {
     "name": "stdout",
     "output_type": "stream",
     "text": [
      "* . * . *\n",
      ". * * * .\n",
      "* * * * *\n",
      ". * * * .\n",
      "* . * . *\n"
     ]
    }
   ],
   "source": [
    "n = int(input())\n",
    "\n",
    "\n",
    "def print_matrix_2x_with_ljust(matrix_2x, ljust_width):\n",
    "    \"\"\"\n",
    "    Выводит двухмерный список в удобочитаемом формате.\n",
    "    \n",
    "    :param matrix_2x: Входная квадратная матрица (список списков).\n",
    "    :param ljust_width: Ширина каждого элемента для выравнивания.\n",
    "    \"\"\"\n",
    "    for row in matrix_2x:\n",
    "        print(' '.join(str(item).ljust(ljust_width) for item in row))\n",
    "    print()\n",
    "\n",
    "\n",
    "# Элементы с индексами i и j, связанными соотношением i + j + 1 = n (или j = n - i - 1), где n — размерность матрицы, находятся на побочной диагонали.\n",
    "\n",
    "matrix_2x = [[('*' if (i == j) or (i + j + 1 == n) or (i == n // 2) or (j == n // 2) else '.') for i in range(n)] for j\n",
    "             in range(n)]\n",
    "print_matrix_2x_with_ljust(matrix_2x, ljust_width=1)"
   ],
   "metadata": {
    "collapsed": false,
    "ExecuteTime": {
     "end_time": "2024-07-11T11:08:23.801303200Z",
     "start_time": "2024-07-11T11:08:23.791213300Z"
    }
   },
   "id": "417f133fd31be60c"
  },
  {
   "cell_type": "raw",
   "source": [
    "Напишите программу проверки симметричности квадратной матрицы относительно побочной диагонали.\n",
    "\n",
    "Формат входных данных\n",
    "На вход программе подаётся натуральное число n — количество строк и столбцов в матрице, затем элементы матрицы.\n",
    "\n",
    "Формат выходных данных\n",
    "Программа должна вывести YES, если матрица симметрична, и слово NO в противном случае."
   ],
   "metadata": {
    "collapsed": false
   },
   "id": "94c314a5ec0a5bac"
  },
  {
   "cell_type": "code",
   "execution_count": null,
   "outputs": [],
   "source": [
    "n = int(input())\n",
    "initial_matrix = [list(map(int, input().split())) for _ in range(n)]\n",
    "print(initial_matrix)\n",
    "\n",
    "up = []\n",
    "down = []\n",
    "\n",
    "# верх - i < j and i < n -1 -j\n",
    "# низ - i > j and i > n -1 -j\n",
    "# право - i < j and i > n -1 -j\n",
    "# лево - i > j and i < n -1 -j\n",
    "\n",
    "# Элементы с индексами i и j, связанными соотношением i + j + 1 = n (или j = n - i - 1), где n — размерность матрицы, находятся на побочной диагонали.\n",
    "\n",
    "# Проверка симметричности относительно побочной диагонали\n",
    "is_symmetric = True\n",
    "for i in range(n):\n",
    "    for j in range(n):\n",
    "        if initial_matrix[i][j] != initial_matrix[n - j - 1][n - i - 1]:\n",
    "            is_symmetric = False\n",
    "            break\n",
    "    if not is_symmetric:\n",
    "        break\n",
    "\n",
    "print('YES' if is_symmetric else 'NO')"
   ],
   "metadata": {
    "collapsed": false
   },
   "id": "85e84c627c84c846"
  },
  {
   "cell_type": "raw",
   "source": [
    "Латинским квадратом порядка n называется квадратная матрица размером n×n, каждая строка и каждый столбец которой содержат все числа от 1 до n. Напишите программу, которая проверяет, является ли заданная квадратная матрица латинским квадратом.\n",
    "\n",
    "Формат входных данных\n",
    "На вход программе подаётся натуральное число n — количество строк и столбцов в матрице, затем элементы матрицы: n строк, по n чисел в каждой, разделённые пробелами.\n",
    "\n",
    "Формат выходных данных\n",
    "Программа должна вывести слово YES, если матрица является латинским квадратом, и слово NO, если не является."
   ],
   "metadata": {
    "collapsed": false
   },
   "id": "1d7068aba7cf6f4d"
  },
  {
   "cell_type": "code",
   "execution_count": null,
   "outputs": [],
   "source": [
    "n = int(input())\n",
    "initial_matrix = [list(map(int, input().split())) for _ in range(n)]\n",
    "\n",
    "\n",
    "def is_latin_square(matrix, n):\n",
    "    # Проверяем строки\n",
    "    for row in matrix:\n",
    "        if sorted(row) != list(range(1, n + 1)):\n",
    "            return False\n",
    "\n",
    "    # Проверяем столбцы\n",
    "    for col in range(n):\n",
    "        column = [matrix[row][col] for row in range(n)]\n",
    "        if sorted(column) != list(range(1, n + 1)):\n",
    "            return False\n",
    "\n",
    "    return True\n",
    "\n",
    "print('YES' if is_latin_square(initial_matrix, n) else 'NO')"
   ],
   "metadata": {
    "collapsed": false
   },
   "id": "fdf68fe33a6731bc"
  },
  {
   "cell_type": "raw",
   "source": [
    "На шахматной доске 8×8 стоит ферзь. Отметьте положение ферзя на доске и все клетки, которые бьет ферзь. Клетку, где стоит ферзь, отметьте буквой Q, клетки, которые бьет ферзь, отметьте символами *, остальные клетки заполните точками.\n",
    "\n",
    "Формат входных данных\n",
    "На вход программе подаются координаты ферзя на шахматной доске в шахматной нотации (то есть в виде e4, где сначала записывается номер столбца (буква от a до h, слева направо), затем номер строки (цифра от 1 до 8, снизу вверх)).\n",
    "\n",
    "Формат выходных данных\n",
    "Программа должна вывести на экран изображение доски, разделяя элементы пробелами."
   ],
   "metadata": {
    "collapsed": false
   },
   "id": "655cdf6d649f822e"
  },
  {
   "cell_type": "code",
   "execution_count": null,
   "outputs": [],
   "source": [
    "def print_matrix_2x(matrix_2x):\n",
    "    \"\"\"\n",
    "    Выводит двухмерный список в удобочитаемом формате.\n",
    "    \n",
    "    :param matrix: Входная квадратная матрица (список списков).\n",
    "    \"\"\"\n",
    "    for row in matrix_2x:\n",
    "        print(' '.join(map(str, row)))\n",
    "    print()\n",
    "\n",
    "\n",
    "def get_coordinates(input_str):\n",
    "    \"\"\"\n",
    "    Преобразует строку от пользователя в координаты на доске.\n",
    "    :param input: Строка в шахматной нотации (например, 'e4')\n",
    "    :return: Кортеж координат (например, (4, 4))\n",
    "    \"\"\"\n",
    "    column, row = input_str[0], input_str[1]\n",
    "    x = ord(column) - ord('a')  # Преобразуем букву в число (0-7)\n",
    "    y = 8 - int(row)  # Преобразуем строку в число (0-7)\n",
    "    return x, y\n",
    "\n",
    "\n",
    "def is_valid_position(position):\n",
    "    \"\"\"\n",
    "    Проверяет, находятся ли координаты на доске.\n",
    "    :param position: Кортеж координат (x, y)\n",
    "    :return: True, если координаты находятся на доске, иначе False.\n",
    "    \"\"\"\n",
    "    x, y = position\n",
    "    return 0 <= x < 8 and 0 <= y < 8\n",
    "\n",
    "\n",
    "def queens_attacks(queen_position):\n",
    "    \"\"\"\n",
    "    Находит все клетки, которые бьет ферзь из данной позиции.\n",
    "    :param queen_position: Координаты ферзя (x, y)\n",
    "    :return: Список всех клеток, которые бьет ферзь.\n",
    "    \"\"\"\n",
    "    x, y = queen_position\n",
    "    valid_moves = []\n",
    "    \n",
    "    # Горизонтальные и вертикальные ходы\n",
    "    for i in range(8):\n",
    "        if i != x:\n",
    "            valid_moves.append((i, y))\n",
    "        if i != y:\n",
    "            valid_moves.append((x, i))\n",
    "    \n",
    "    # Диагональные ходы\n",
    "    for i in range(1, 8):\n",
    "        if is_valid_position((x + i, y + i)):\n",
    "            valid_moves.append((x + i, y + i))\n",
    "        if is_valid_position((x - i, y - i)):\n",
    "            valid_moves.append((x - i, y - i))\n",
    "        if is_valid_position((x + i, y - i)):\n",
    "            valid_moves.append((x + i, y - i))\n",
    "        if is_valid_position((x - i, y + i)):\n",
    "            valid_moves.append((x - i, y + i))\n",
    "    \n",
    "    return valid_moves\n",
    "\n",
    "\n",
    "n = 8\n",
    "symbol = 'Q'\n",
    "attack = '*'\n",
    "\n",
    "\"\"\"Формируем двумерный список - доску.\"\"\"\n",
    "matrix_2x = [['.' for _ in range(n)] for _ in range(n)]\n",
    "\n",
    "\"\"\"Печатаем двумерную матрицу в удобочитаемом формате.\"\"\"\n",
    "# print_matrix_2x(matrix_2x)\n",
    "# print()\n",
    "\n",
    "\"\"\"Находим позицию ферзя.\"\"\"\n",
    "queen_position = get_coordinates(input())\n",
    "# print(queen_position)\n",
    "\n",
    "\"\"\"Проверяем находится ли позиция ферзя на доске и отмечаем заданным символом.\"\"\"\n",
    "if is_valid_position(queen_position):\n",
    "    matrix_2x[queen_position[1]][queen_position[0]] = symbol\n",
    "else:\n",
    "    print('Введенные координаты не находятся на доске.')\n",
    "\n",
    "# print_matrix_2x(matrix_2x)\n",
    "\n",
    "\"\"\"Находим валидные ходы королевы.\"\"\"\n",
    "\"\"\"Находим валидные ходы королевы.\"\"\"\n",
    "queens_attacks_positions = queens_attacks(queen_position)\n",
    "# print(queens_attacks_positions)\n",
    "\n",
    "\"\"\"Размечаем доску ходами коня.\"\"\"\n",
    "for move in queens_attacks_positions:\n",
    "    matrix_2x[move[1]][move[0]] = attack\n",
    "\n",
    "\"\"\"Выводим на печать.\"\"\"\n",
    "print_matrix_2x(matrix_2x)"
   ],
   "metadata": {
    "collapsed": false
   },
   "id": "62247878a64e29"
  },
  {
   "cell_type": "raw",
   "source": [
    "На вход программе подается натуральное число n. Напишите программу, которая создает матрицу размером n×n и заполняет её по следующему правилу:\n",
    "\n",
    "на главной диагонали на месте каждого элемента должно стоять число 0;\n",
    "на двух диагоналях, прилегающих к главной, – число 1;\n",
    "на следующих двух диагоналях – число 2, и т.д.\n",
    "Формат входных данных\n",
    "На вход программе подается натуральное число n — количество строк и столбцов в матрице.\n",
    "\n",
    "Формат выходных данных\n",
    "Программа должна вывести матрицу в соответствии с условием задачи."
   ],
   "metadata": {
    "collapsed": false
   },
   "id": "f6e4555426aa9e3d"
  },
  {
   "cell_type": "code",
   "execution_count": 16,
   "outputs": [
    {
     "name": "stdout",
     "output_type": "stream",
     "text": [
      "0 1 2 3 4\n",
      "1 0 1 2 3\n",
      "2 1 0 1 2\n",
      "3 2 1 0 1\n",
      "4 3 2 1 0\n"
     ]
    }
   ],
   "source": [
    "n = int(input())\n",
    "\n",
    "initial_matrix = [[0] * n for _ in range(n)]\n",
    "\n",
    "for i in range(n):\n",
    "    for j in range(n):\n",
    "        initial_matrix[i][j] = abs(i - j)\n",
    "\n",
    "        \n",
    "# print(initial_matrix)\n",
    "\n",
    "def print_matrix_2x_with_ljust(matrix_2x, ljust_width):\n",
    "    \"\"\"\n",
    "    Выводит двухмерный список в удобочитаемом формате.\n",
    "    \n",
    "    :param matrix_2x: Входная квадратная матрица (список списков).\n",
    "    :param ljust_width: Ширина каждого элемента для выравнивания.\n",
    "    \"\"\"\n",
    "    for row in matrix_2x:\n",
    "        print(' '.join(str(item).ljust(ljust_width) for item in row))\n",
    "    print()\n",
    "    \n",
    "print_matrix_2x_with_ljust(initial_matrix, ljust_width=1)"
   ],
   "metadata": {
    "collapsed": false,
    "ExecuteTime": {
     "end_time": "2024-07-11T11:54:03.888538Z",
     "start_time": "2024-07-11T11:54:02.836071100Z"
    }
   },
   "id": "8fc5c4e08e467cb7"
  }
 ],
 "metadata": {
  "kernelspec": {
   "display_name": "Python 3",
   "language": "python",
   "name": "python3"
  },
  "language_info": {
   "codemirror_mode": {
    "name": "ipython",
    "version": 2
   },
   "file_extension": ".py",
   "mimetype": "text/x-python",
   "name": "python",
   "nbconvert_exporter": "python",
   "pygments_lexer": "ipython2",
   "version": "2.7.6"
  }
 },
 "nbformat": 4,
 "nbformat_minor": 5
}
