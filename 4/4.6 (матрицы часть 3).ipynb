{
 "cells": [
  {
   "cell_type": "raw",
   "source": [
    "На вход программе подаются два натуральных числа n и m. Напишите программу для создания матрицы размером n×m, заполнив её символами . и * в шахматном порядке. В левом верхнем углу должна стоять точка. Выведите полученную матрицу на экран, разделяя элементы пробелами.\n",
    "\n",
    "Формат входных данных\n",
    "На вход программе на одной строке через пробел подаются два натуральных числа n и m — количество строк и столбцов в матрице.\n",
    "\n",
    "Формат выходных данных\n",
    "Программа должна вывести матрицу, описанную в условии задачи."
   ],
   "metadata": {
    "collapsed": false
   },
   "id": "5e5e620e21180e39"
  },
  {
   "cell_type": "code",
   "execution_count": 9,
   "outputs": [
    {
     "name": "stdout",
     "output_type": "stream",
     "text": [
      "3\n",
      "4\n",
      ". * . *\n",
      "* . * .\n",
      ". * . *\n"
     ]
    }
   ],
   "source": [
    "s = input().split()\n",
    "\n",
    "n = int(s[0])\n",
    "m = int(s[1])\n",
    "\n",
    "print(n)\n",
    "print(m)\n",
    "\n",
    "\n",
    "def print_matrix_2x(matrix_2x):\n",
    "    \"\"\"\n",
    "    Выводит двухмерный список в удобочитаемом формате.\n",
    "    \n",
    "    :param matrix_2x: Входная квадратная матрица (список списков).\n",
    "    \"\"\"\n",
    "    for row in matrix_2x:\n",
    "        print(' '.join(map(str, row)))\n",
    "    print()\n",
    "\n",
    "\n",
    "matrix_2x = [[('*' if (row + col) % 2 else '.') for row in range(m)] for col in range(n)]\n",
    "print_matrix_2x(matrix_2x)"
   ],
   "metadata": {
    "collapsed": false,
    "ExecuteTime": {
     "end_time": "2024-07-10T08:05:41.411471400Z",
     "start_time": "2024-07-10T08:05:38.666732600Z"
    }
   },
   "id": "fd4a3b6e3204da19"
  },
  {
   "cell_type": "raw",
   "source": [
    "На вход программе подается натуральное число n. Напишите программу, которая создает матрицу размером n×n и заполняет её по следующему правилу:\n",
    "\n",
    "числа на побочной диагонали равны 1;\n",
    "числа, стоящие выше этой диагонали, равны 0;\n",
    "числа, стоящие ниже этой диагонали, равны 2.\n",
    "Полученную матрицу выведите на экран. Числа в строке разделяйте одним пробелом.\n",
    "\n",
    "Формат входных данных\n",
    "На вход программе подается натуральное число n — количество строк и столбцов в матрице.\n",
    "\n",
    "Формат выходных данных\n",
    "Программа должна вывести матрицу в соответствии с условием задачи.\n",
    "\n",
    "Примечание. Побочная диагональ — это диагональ, идущая из правого верхнего в левый нижний угол матрицы."
   ],
   "metadata": {
    "collapsed": false
   },
   "id": "d7dc88e99000a4ab"
  },
  {
   "cell_type": "code",
   "execution_count": 66,
   "outputs": [
    {
     "name": "stdout",
     "output_type": "stream",
     "text": [
      "0 0 0 0 1\n",
      "0 0 0 1 2\n",
      "0 0 1 2 2\n",
      "0 1 2 2 2\n",
      "1 2 2 2 2\n"
     ]
    }
   ],
   "source": [
    "def print_matrix_2x(matrix_2x):\n",
    "    \"\"\"\n",
    "    Выводит двухмерный список в удобочитаемом формате.\n",
    "    \n",
    "    :param matrix_2x: Входная квадратная матрица (список списков).\n",
    "    \"\"\"\n",
    "    for row in matrix_2x:\n",
    "        print(' '.join(map(str, row)))\n",
    "    print()\n",
    "\n",
    "\n",
    "# Элементы с индексами i и j, связанными соотношением i + j + 1 = n (или j = n - i - 1), где n — размерность матрицы, находятся на побочной диагонали.   \n",
    "\n",
    "n = int(input())\n",
    "\n",
    "matrix_2x = [[(1 if i + j + 1 == n else 2 if i + j >= n else '0') for i in range(n)] for j in range(n)]\n",
    "print_matrix_2x(matrix_2x)"
   ],
   "metadata": {
    "collapsed": false,
    "ExecuteTime": {
     "end_time": "2024-07-10T12:05:26.578805900Z",
     "start_time": "2024-07-10T12:05:25.580764600Z"
    }
   },
   "id": "ea9a5faa04d88f41"
  },
  {
   "cell_type": "raw",
   "source": [
    "На вход программе подаются два натуральных числа n и m. Напишите программу, которая создает матрицу размером n×m и заполняет её числами от 1 до n⋅m в соответствии с образцом.\n",
    "\n",
    "Формат входных данных\n",
    "На вход программе на одной строке подаются два натуральных числа n и m — количество строк и столбцов в матрице.\n",
    "\n",
    "Формат выходных данных\n",
    "Программа должна вывести матрицу в соответствии с образцом.\n",
    "\n",
    "Примечание. Для вывода элементов матрицы как в примерах отводите ровно 3 символа на каждый элемент. Для этого используйте строковый метод ljust(). Можно обойтись и без ljust(), система примет и такое решение 😇"
   ],
   "metadata": {
    "collapsed": false
   },
   "id": "b9102c7e5dc3c17f"
  },
  {
   "cell_type": "code",
   "execution_count": 22,
   "outputs": [
    {
     "name": "stdout",
     "output_type": "stream",
     "text": [
      "1 2 3 4\n",
      "5 6 7 8\n",
      "9 10 11 12\n"
     ]
    }
   ],
   "source": [
    "s = input().split()\n",
    "\n",
    "n = int(s[0])\n",
    "m = int(s[1])\n",
    "\n",
    "\n",
    "def one_dimension_list_to_matrix(lst, n, m):\n",
    "    \"\"\"\n",
    "    Преобразует одномерный список в список заданного размера.\n",
    "    :param lst: Одномерный список.\n",
    "    :return: Список заданного размера nxm.\n",
    "    \"\"\"\n",
    "    if len(lst) != n * m:\n",
    "        raise ValueError('Длина списка не соответствует размеру матрицы')\n",
    "\n",
    "    matrix = []\n",
    "    for i in range(n):\n",
    "        row = []\n",
    "        for j in range(m):\n",
    "            row.append(lst[i * m + j])\n",
    "        matrix.append(row)\n",
    "    return matrix\n",
    "\n",
    "\n",
    "def print_matrix_2x(matrix_2x):\n",
    "    \"\"\"\n",
    "    Выводит двухмерный список в удобочитаемом формате.\n",
    "    \n",
    "    :param matrix_2x: Входная квадратная матрица (список списков).\n",
    "    \"\"\"\n",
    "    for row in matrix_2x:\n",
    "        print(' '.join(map(str, row)))\n",
    "    print()\n",
    "\n",
    "\n",
    "lst = [i + 1 for i in range(m * n)]\n",
    "# print_matrix_2x(matrix_2x)\n",
    "# print(lst)\n",
    "\n",
    "matrix_2x = one_dimension_list_to_matrix(lst, n, m)\n",
    "print_matrix_2x(matrix_2x)"
   ],
   "metadata": {
    "collapsed": false,
    "ExecuteTime": {
     "end_time": "2024-07-10T10:29:41.398297500Z",
     "start_time": "2024-07-10T10:29:41.390317200Z"
    }
   },
   "id": "cff6f03c18ecfec9"
  },
  {
   "cell_type": "raw",
   "source": [
    "На вход программе подаются два натуральных числа n и m. Напишите программу, которая создает матрицу размером n×m, заполнив её в соответствии с образцом.\n",
    "\n",
    "Формат входных данных\n",
    "На вход программе на одной строке подаются два натуральных числа n и m — количество строк и столбцов в матрице.\n",
    "\n",
    "Формат выходных данных\n",
    "Программа должна вывести указанную матрицу в соответствии с образцом.\n",
    "\n",
    "Примечание. Для вывода элементов матрицы как в примерах отводите ровно 3 символа на каждый элемент. Для этого используйте строковый метод ljust(). Можно обойтись и без ljust(), система примет и такое решение 😇"
   ],
   "metadata": {
    "collapsed": false
   },
   "id": "98d6e9e834e39ae2"
  },
  {
   "cell_type": "code",
   "execution_count": 63,
   "outputs": [
    {
     "name": "stdout",
     "output_type": "stream",
     "text": [
      "1   4   7   10  13  16  19 \n",
      "2   5   8   11  14  17  20 \n",
      "3   6   9   12  15  18  21 \n"
     ]
    }
   ],
   "source": [
    "s = input().split()\n",
    "\n",
    "n = int(s[0])\n",
    "m = int(s[1])\n",
    "ljust_width = 3\n",
    "\n",
    "\n",
    "def print_matrix_2x_with_ljust(matrix_2x, ljust_width):\n",
    "    \"\"\"\n",
    "    Выводит двухмерный список в удобочитаемом формате.\n",
    "    \n",
    "    :param matrix_2x: Входная квадратная матрица (список списков).\n",
    "    :param ljust_width: Ширина каждого элемента для выравнивания.\n",
    "    \"\"\"\n",
    "    for row in matrix_2x:\n",
    "        print(' '.join(str(item).ljust(ljust_width) for item in row))\n",
    "    print()\n",
    "\n",
    "\n",
    "\"\"\"Формируем список.\"\"\"\n",
    "lst = [i + 1 for i in range(n * m)]\n",
    "# print(lst)\n",
    "\n",
    "matrix_2x = []\n",
    "\n",
    "for i in range(n):\n",
    "    row = []\n",
    "    for j in range(0, n * m, n):\n",
    "        row.append(lst[j + i])\n",
    "    matrix_2x.append(row)\n",
    "\n",
    "# print(matrix_2x)\n",
    "print_matrix_2x_with_ljust(matrix_2x, ljust_width)"
   ],
   "metadata": {
    "collapsed": false,
    "ExecuteTime": {
     "end_time": "2024-07-10T11:41:27.175225Z",
     "start_time": "2024-07-10T11:41:27.165668600Z"
    }
   },
   "id": "6ab93ebf0a0a7169"
  },
  {
   "cell_type": "code",
   "execution_count": null,
   "outputs": [],
   "source": [
    "n, m = [int(i) for i in input().split()]\n",
    "matrix = [[0] * m for _ in range(n)]\n",
    "\n",
    "for j in range(m):\n",
    "    for i in range(n):\n",
    "        matrix[i][j] = j * n + i + 1\n",
    "\n",
    "for i in range(n):\n",
    "    for j in range(m):\n",
    "        print(str(matrix[i][j]).ljust(3), end=' ')\n",
    "    print()"
   ],
   "metadata": {
    "collapsed": false
   },
   "id": "50ea57571c13e0ff"
  },
  {
   "cell_type": "raw",
   "source": [
    "На вход программе подается натуральное число n. Напишите программу, которая создает матрицу размером n×n, заполнив её в соответствии с образцом.\n",
    "\n",
    "Формат входных данных\n",
    "На вход программе подается натуральное число n — количество строк и столбцов в матрице.\n",
    "\n",
    "Формат выходных данных\n",
    "Программа должна вывести указанную матрицу в соответствии с образцом: разместить единицы на главной и побочной диагоналях, остальные позиции матрицы заполнить нулями.\n",
    "\n",
    "Примечание. Для вывода элементов матрицы как в примерах отводите ровно 3 символа на каждый элемент. Для этого используйте строковый метод ljust(). Можно обойтись и без ljust(), система примет и такое решение 😇"
   ],
   "metadata": {
    "collapsed": false
   },
   "id": "da97e0f923324e0a"
  },
  {
   "cell_type": "code",
   "execution_count": 68,
   "outputs": [
    {
     "name": "stdout",
     "output_type": "stream",
     "text": [
      "1   0   0   0   1  \n",
      "0   1   0   1   0  \n",
      "0   0   1   0   0  \n",
      "0   1   0   1   0  \n",
      "1   0   0   0   1  \n"
     ]
    }
   ],
   "source": [
    "n = int(input())\n",
    "\n",
    "matrix_2x = [[(1 if i == j or i + j + 1 == n else 0) for i in range(n)] for j in range(n)]\n",
    "\n",
    "\n",
    "def print_matrix_2x_with_ljust(matrix_2x, ljust_width):\n",
    "    \"\"\"\n",
    "    Выводит двухмерный список в удобочитаемом формате.\n",
    "    \n",
    "    :param matrix_2x: Входная квадратная матрица (список списков).\n",
    "    :param ljust_width: Ширина каждого элемента для выравнивания.\n",
    "    \"\"\"\n",
    "    for row in matrix_2x:\n",
    "        print(' '.join(str(item).ljust(ljust_width) for item in row))\n",
    "    print()\n",
    "\n",
    "\n",
    "print_matrix_2x_with_ljust(matrix_2x, 3)"
   ],
   "metadata": {
    "collapsed": false,
    "ExecuteTime": {
     "end_time": "2024-07-10T12:06:06.884789100Z",
     "start_time": "2024-07-10T12:06:05.262347500Z"
    }
   },
   "id": "ac2f066414f5d768"
  },
  {
   "cell_type": "raw",
   "source": [
    "На вход программе подается натуральное число n. Напишите программу, которая создает матрицу размером n×n, заполнив её в соответствии с образцом.\n",
    "\n",
    "Формат входных данных\n",
    "На вход программе подается натуральное число n — количество строк и столбцов в матрице.\n",
    "\n",
    "Формат выходных данных\n",
    "Программа должна вывести указанную матрицу в соответствии с образцом.\n",
    "\n",
    "Примечание. Для вывода элементов матрицы как в примерах отводите ровно 3 символа на каждый элемент. Для этого используйте строковый метод ljust(). Можно обойтись и без ljust(), система примет и такое решение 😇"
   ],
   "metadata": {
    "collapsed": false
   },
   "id": "dbc029f0b369ae19"
  },
  {
   "cell_type": "code",
   "execution_count": 70,
   "outputs": [
    {
     "name": "stdout",
     "output_type": "stream",
     "text": [
      "1   1   1   1  \n",
      "0   1   1   0  \n",
      "0   1   1   0  \n",
      "1   1   1   1  \n"
     ]
    }
   ],
   "source": [
    "# верх - i < j and i < n -1 -j\n",
    "# низ - i > j and i > n -1 -j\n",
    "# право - i < j and i > n -1 -j\n",
    "# лево - i > j and i < n -1 -j\n",
    "\n",
    "n = int(input())\n",
    "\n",
    "matrix_2x = [\n",
    "    [(1 if i == j or i + j + 1 == n or (i < j and i > n - 1 - j) or (i > j and i < n - 1 - j) else 0) for i in range(n)]\n",
    "    for j in range(n)]\n",
    "\n",
    "\n",
    "def print_matrix_2x_with_ljust(matrix_2x, ljust_width):\n",
    "    \"\"\"\n",
    "    Выводит двухмерный список в удобочитаемом формате.\n",
    "    \n",
    "    :param matrix_2x: Входная квадратная матрица (список списков).\n",
    "    :param ljust_width: Ширина каждого элемента для выравнивания.\n",
    "    \"\"\"\n",
    "    for row in matrix_2x:\n",
    "        print(' '.join(str(item).ljust(ljust_width) for item in row))\n",
    "    print()\n",
    "\n",
    "\n",
    "print_matrix_2x_with_ljust(matrix_2x, 3)"
   ],
   "metadata": {
    "collapsed": false,
    "ExecuteTime": {
     "end_time": "2024-07-10T12:21:07.304661100Z",
     "start_time": "2024-07-10T12:21:03.745024400Z"
    }
   },
   "id": "24d2e88327842c26"
  },
  {
   "cell_type": "raw",
   "source": [
    "На вход программе подаются два натуральных числа n и m. Напишите программу, которая создает матрицу размером n×m, заполнив её в соответствии с образцом.\n",
    "\n",
    "Формат входных данных\n",
    "На вход программе на одной строке подаются два натуральных числа n и m — количество строк и столбцов в матрице.\n",
    "\n",
    "Формат выходных данных\n",
    "Программа должна вывести указанную матрицу в соответствии с образцом.\n",
    "\n",
    "Примечание. Для вывода элементов матрицы как в примерах отводите ровно 3 символа на каждый элемент. Для этого используйте строковый метод ljust(). Можно обойтись и без ljust(), система примет и такое решение 😇"
   ],
   "metadata": {
    "collapsed": false
   },
   "id": "91e62200ea88c1ba"
  },
  {
   "cell_type": "code",
   "execution_count": 81,
   "outputs": [
    {
     "name": "stdout",
     "output_type": "stream",
     "text": [
      "1   2   3   4   5  \n",
      "2   3   4   5   1  \n",
      "3   4   5   1   2  \n",
      "4   5   1   2   3  \n",
      "5   1   2   3   4  \n"
     ]
    }
   ],
   "source": [
    "s = (5, 5)  #input().split()\n",
    "\n",
    "n = int(s[0])\n",
    "m = int(s[1])\n",
    "ljust_width = 3\n",
    "\n",
    "\n",
    "def print_matrix_2x_with_ljust(matrix_2x, ljust_width):\n",
    "    \"\"\"\n",
    "    Выводит двухмерный список в удобочитаемом формате.\n",
    "    \n",
    "    :param matrix_2x: Входная квадратная матрица (список списков).\n",
    "    :param ljust_width: Ширина каждого элемента для выравнивания.\n",
    "    \"\"\"\n",
    "    for row in matrix_2x:\n",
    "        print(' '.join(str(item).ljust(ljust_width) for item in row))\n",
    "    print()\n",
    "\n",
    "\n",
    "\"\"\"Формируем список.\"\"\"\n",
    "lst = [i + 1 for i in range(n * m)]\n",
    "# print(lst)\n",
    "\n",
    "matrix_2x = []\n",
    "\n",
    "for i in range(n):\n",
    "    row = []\n",
    "    for j in range(m):\n",
    "        row.append(lst[(i + j) % m])\n",
    "    matrix_2x.append(row)\n",
    "\n",
    "# print(matrix_2x)\n",
    "print_matrix_2x_with_ljust(matrix_2x, ljust_width)"
   ],
   "metadata": {
    "collapsed": false,
    "ExecuteTime": {
     "end_time": "2024-07-10T12:37:41.743335200Z",
     "start_time": "2024-07-10T12:37:41.733646Z"
    }
   },
   "id": "5f5438e2368f2fbd"
  },
  {
   "cell_type": "raw",
   "source": [
    "На вход программе подаются два натуральных числа n и m Напишите программу, которая создает матрицу размером n×m, заполнив её \"змейкой\" в соответствии с образцом.\n",
    "\n",
    "Формат входных данных\n",
    "На вход программе на одной строке подаются два натуральных числа n и m — количество строк и столбцов в матрице.\n",
    "\n",
    "Формат выходных данных\n",
    "Программа должна вывести указанную матрицу в соответствии с образцом.\n",
    "\n",
    "Примечание. Для вывода элементов матрицы как в примерах отводите ровно 3 символа на каждый элемент. Для этого используйте строковый метод ljust(). Можно обойтись и без ljust(), система примет и такое решение 😇"
   ],
   "metadata": {
    "collapsed": false
   },
   "id": "79007556f080dce1"
  },
  {
   "cell_type": "code",
   "execution_count": 99,
   "outputs": [
    {
     "name": "stdout",
     "output_type": "stream",
     "text": [
      "1   2   3   4   5  \n",
      "10  9   8   7   6  \n",
      "11  12  13  14  15 \n"
     ]
    }
   ],
   "source": [
    "s = (3, 5)  #input().split()\n",
    "\n",
    "n = int(s[0])\n",
    "m = int(s[1])\n",
    "ljust_width = 3\n",
    "\n",
    "\n",
    "def print_matrix_2x_with_ljust(matrix_2x, ljust_width):\n",
    "    \"\"\"\n",
    "    Выводит двухмерный список в удобочитаемом формате.\n",
    "    \n",
    "    :param matrix_2x: Входная квадратная матрица (список списков).\n",
    "    :param ljust_width: Ширина каждого элемента для выравнивания.\n",
    "    \"\"\"\n",
    "    for row in matrix_2x:\n",
    "        print(' '.join(str(item).ljust(ljust_width) for item in row))\n",
    "    print()\n",
    "\n",
    "\n",
    "\"\"\"Создание и заполнение списка.\"\"\"\n",
    "lst = [i + 1 for i in range(n * m)]\n",
    "# print(lst)\n",
    "\n",
    "\"\"\"Инициализируем матрицу.\"\"\"\n",
    "matrix_2x = []\n",
    "\n",
    "\"\"\"Заполняем матрицу по условию.\"\"\"\n",
    "for i in range(n):\n",
    "    row = []  # инициализируем ряд\n",
    "    for j in range(m):\n",
    "        row.append(lst[(i * m + j)])  # бьём список lst по рядам длиной m \n",
    "    if i % 2:  # каждый нечётный ряд переворачиваем\n",
    "        row = row[::-1]\n",
    "    matrix_2x.append(row)  # добавляем ряд в двумерную матрицу\n",
    "\n",
    "# print(matrix_2x)\n",
    "print_matrix_2x_with_ljust(matrix_2x, ljust_width)"
   ],
   "metadata": {
    "collapsed": false,
    "ExecuteTime": {
     "end_time": "2024-07-11T06:05:31.921645Z",
     "start_time": "2024-07-11T06:05:31.910671100Z"
    }
   },
   "id": "c756d9f7ee1d007d"
  },
  {
   "cell_type": "code",
   "execution_count": null,
   "outputs": [],
   "source": [
    "n, m = [int(i) for i in input().split()]\n",
    "matrix = [[0] * m for _ in range(n)]\n",
    "\n",
    "for i in range(n):\n",
    "    for j in range(m):\n",
    "        matrix[i][j] = i * m + j + 1\n",
    "    if i % 2:\n",
    "        matrix[i].reverse()\n",
    "\n",
    "for i in range(n):\n",
    "    for j in range(m):\n",
    "        print(str(matrix[i][j]).ljust(3), end=' ')\n",
    "    print()"
   ],
   "metadata": {
    "collapsed": false
   },
   "id": "866ff5adc0a5508b"
  },
  {
   "cell_type": "code",
   "execution_count": null,
   "outputs": [],
   "source": [
    "a, b = map(int, input().split())\n",
    "\n",
    "for i in range(a):\n",
    "    print(*sorted(list(range(i * b + 1, i * b + b + 1)), reverse=i % 2))"
   ],
   "metadata": {
    "collapsed": false
   },
   "id": "df0ac7f78966b2ea"
  },
  {
   "cell_type": "code",
   "execution_count": null,
   "outputs": [],
   "source": [
    "import numpy as np\n",
    "\n",
    "\"\"\"Чтение входных данных.\"\"\"\n",
    "# n, m = [int(i) for i in input().split()]\n",
    "row, col = map(int, input().split())\n",
    "\n",
    "\"\"\"Создание и заполнение списка.\"\"\"\n",
    "lst = [i + 1 for i in range(row * col)]\n",
    "\n",
    "\"\"\"Создание последовательности чисел и преобразование её в матрицу.\"\"\"\n",
    "matrix = np.array(  # np.array(...) преобразует список в массив numpy\n",
    "    lst\n",
    ").reshape(row, col)  # reshape(row, col) изменяет форму массива на матрицу с row строками и col столбцами\n",
    "\n",
    "\"\"\"Вывод матрицы с переворотом нечётных строк.\"\"\"\n",
    "for i in range(row):\n",
    "    if i % 2:  # каждый нечётный ряд переворачиваем\n",
    "        print(*np.flip(matrix[i], axis=0))  # np.flip(..., axis=0) переворачивает строку по горизонтальной оси\n",
    "    else:\n",
    "        print(*matrix[i])"
   ],
   "metadata": {
    "collapsed": false
   },
   "id": "59fd916dff8b92d8"
  },
  {
   "cell_type": "raw",
   "source": [
    "На вход программе подаются два натуральных числа n и m. Напишите программу, которая создает матрицу размером n×m, заполнив её \"диагоналями\" в соответствии с образцом.\n",
    "\n",
    "Формат входных данных\n",
    "На вход программе на одной строке подаются два натуральных числа n и m — количество строк и столбцов в матрице.\n",
    "\n",
    "Формат выходных данных\n",
    "Программа должна вывести указанную матрицу в соответствии с образцом.\n",
    "\n",
    "Примечание. Для вывода элементов матрицы как в примерах отводите ровно 3 символа на каждый элемент. Для этого используйте строковый метод ljust(). Можно обойтись и без ljust(), система примет и такое решение 😇"
   ],
   "metadata": {
    "collapsed": false
   },
   "id": "c728ed59e66bf50d"
  },
  {
   "cell_type": "code",
   "execution_count": 107,
   "outputs": [
    {
     "name": "stdout",
     "output_type": "stream",
     "text": [
      "1 2 4 7 10\n",
      "3 5 8 11 13\n",
      "6 9 12 14 15\n"
     ]
    }
   ],
   "source": [
    "import numpy as np\n",
    "\n",
    "n, m = (3, 5)  # map(int, input().split())\n",
    "ljust_width = 3\n",
    "\n",
    "\"\"\"Создаём пустой двумерный список.\"\"\"\n",
    "lst = [[0 for _ in range(m)] for _ in range(n)]\n",
    "# print(lst)\n",
    "\n",
    "element = 1\n",
    "for i in range(n + m - 1):\n",
    "    for r in range(n):\n",
    "        for c in range(m):\n",
    "            if r + c == i:\n",
    "                lst[r][c] = element\n",
    "                element += 1\n",
    "\n",
    "matrix_2x = np.array(lst).reshape(n, m)\n",
    "# print(matrix_2x)\n",
    "\n",
    "\n",
    "def print_matrix_2x_with_ljust(matrix_2x, ljust_width):\n",
    "    \"\"\"\n",
    "    Выводит двухмерный список в удобочитаемом формате.\n",
    "    \n",
    "    :param matrix_2x: Входная квадратная матрица (список списков).\n",
    "    :param ljust_width: Ширина каждого элемента для выравнивания.\n",
    "    \"\"\"\n",
    "    for row in matrix_2x:\n",
    "        print(' '.join(str(item).ljust(ljust_width) for item in row))\n",
    "    print()\n",
    "\n",
    "\n",
    "print_matrix_2x_with_ljust(matrix_2x, ljust_width)"
   ],
   "metadata": {
    "collapsed": false,
    "ExecuteTime": {
     "end_time": "2024-07-11T07:47:45.130133800Z",
     "start_time": "2024-07-11T07:47:45.127401200Z"
    }
   },
   "id": "a8a2cc8339ac238a"
  },
  {
   "cell_type": "code",
   "execution_count": null,
   "outputs": [],
   "source": [
    "# Принимаем параметры матрицы\n",
    "n, m = map(int, input().split())\n",
    "# Создаем скелет матрицы\n",
    "matrix = [[0] * m for i in range(n)]\n",
    "# Задаем отсчет с единицы\n",
    "d = 1\n",
    "\n",
    "for k in range(1, n + m):               # Цикл перебирающий сумму индексов в диагонали\n",
    "    for i in range(n):                  # Перебираем строки\n",
    "        for j in range(m):              # Перебираем столбцы\n",
    "            if i + j + 1 == k:          # Выявляем ячейки, относящиеся к искомой диагонали\n",
    "                matrix[i][j] = d        # Присваиваем обнаруженной ячейке порядковый номер\n",
    "                d += 1                  # Обновляем счетчик\n",
    "\n",
    "# Распечатываем полученную матрицу\n",
    "for row in range(n):\n",
    "    for col in range(m):\n",
    "        print(str(matrix[row][col]).ljust(3), end=' ')\n",
    "    print()"
   ],
   "metadata": {
    "collapsed": false
   },
   "id": "1831ac438fef4d5e"
  },
  {
   "cell_type": "raw",
   "source": [
    "На вход программе подаются два натуральных числа n и m. Напишите программу, которая создает матрицу размером n×m, заполнив её \"спиралью\" в соответствии с образцом.\n",
    "\n",
    "Формат входных данных\n",
    "На вход программе на одной строке подаются два натуральных числа n и m — количество строк и столбцов в матрице.\n",
    "\n",
    "Формат выходных данных\n",
    "Программа должна вывести матрицу в соответствии образцом.\n",
    "\n",
    "Примечание. Для вывода элементов матрицы как в примерах отводите ровно 3 символа на каждый элемент. Для этого используйте строковый метод ljust(). Можно обойтись и без ljust(), система примет и такое решение. 😇"
   ],
   "metadata": {
    "collapsed": false
   },
   "id": "5de2ab12cb6d1eed"
  },
  {
   "cell_type": "code",
   "execution_count": 110,
   "outputs": [
    {
     "name": "stdout",
     "output_type": "stream",
     "text": [
      "[[0, 0, 0, 0], [0, 0, 0, 0], [0, 0, 0, 0], [0, 0, 0, 0], [0, 0, 0, 0]]\n",
      "[[0 0 0 0 0]\n",
      " [0 0 0 0 0]\n",
      " [0 0 0 0 0]\n",
      " [0 0 0 0 0]]\n",
      "0   0   0   0   0  \n",
      "0   0   0   0   0  \n",
      "0   0   0   0   0  \n",
      "0   0   0   0   0  \n"
     ]
    }
   ],
   "source": [
    "import numpy as np\n",
    "\n",
    "n, m = (4, 5) # map(int, input().split())\n",
    "ljust_width = 3\n",
    "\n",
    "lst = [[0 for _ in range(n)]for _ in range(m)]\n",
    "print(lst)\n",
    "# Создание пустой матрицы\n",
    "matrix = np.zeros((n, m), dtype=int)\n",
    "print(matrix)\n",
    "\n",
    "matrix_2x = np.array(lst).reshape(n, m)\n",
    "\n",
    "def print_matrix_2x_with_ljust(matrix_2x, ljust_width):\n",
    "    \"\"\"\n",
    "    Выводит двухмерный список в удобочитаемом формате.\n",
    "    \n",
    "    :param matrix_2x: Входная квадратная матрица (список списков).\n",
    "    :param ljust_width: Ширина каждого элемента для выравнивания.\n",
    "    \"\"\"\n",
    "    for row in matrix_2x:\n",
    "        print(' '.join(str(item).ljust(ljust_width) for item in row))\n",
    "    print()\n",
    "    \n",
    "print_matrix_2x_with_ljust(matrix_2x, ljust_width)"
   ],
   "metadata": {
    "collapsed": false,
    "ExecuteTime": {
     "end_time": "2024-07-11T08:00:45.635933600Z",
     "start_time": "2024-07-11T08:00:45.629611Z"
    }
   },
   "id": "9245a7a22e11277c"
  },
  {
   "cell_type": "code",
   "execution_count": null,
   "outputs": [],
   "source": [
    "import numpy as np\n",
    "\n",
    "# Ввод данных\n",
    "n, m = map(int, input().split())\n",
    "\n",
    "# Создание пустой матрицы\n",
    "matrix = np.zeros((n, m), dtype=int)\n",
    "\n",
    "# Инициализация начальных значений\n",
    "directions = [(0, 1), (1, 0), (0, -1), (-1, 0)]  # Отличаются по порядку: вправо, вниз, влево, вверх.\n",
    "direction_index = 0  # Начинаем с направления вправо\n",
    "row, col = 0, 0  # Начальная позиция\n",
    "value = 1\n",
    "\n",
    "# Заполнение матрицы\n",
    "for _ in range(n * m):\n",
    "    matrix[row][col] = value\n",
    "    value += 1\n",
    "    \n",
    "    # Вычисление следующей позиции\n",
    "    new_row, new_col = row + directions[direction_index][0], col + directions[direction_index][1]\n",
    "    \n",
    "    # Проверка на границы и заполненные клетки\n",
    "    if (0 <= new_row < n and 0 <= new_col < m and matrix[new_row][new_col] == 0):\n",
    "        row, col = new_row, new_col\n",
    "    else:\n",
    "        # Меняем направление\n",
    "        direction_index = (direction_index + 1) % 4\n",
    "        row, col = row + directions[direction_index][0], col + directions[direction_index][1]\n",
    "\n",
    "# Вывод матрицы\n",
    "for i in range(n):\n",
    "    for j in range(m):\n",
    "        print(matrix[i][j], end=\" \")\n",
    "    print()"
   ],
   "metadata": {
    "collapsed": false
   },
   "id": "b087ef47a1063399"
  }
 ],
 "metadata": {
  "kernelspec": {
   "display_name": "Python 3",
   "language": "python",
   "name": "python3"
  },
  "language_info": {
   "codemirror_mode": {
    "name": "ipython",
    "version": 2
   },
   "file_extension": ".py",
   "mimetype": "text/x-python",
   "name": "python",
   "nbconvert_exporter": "python",
   "pygments_lexer": "ipython2",
   "version": "2.7.6"
  }
 },
 "nbformat": 4,
 "nbformat_minor": 5
}
