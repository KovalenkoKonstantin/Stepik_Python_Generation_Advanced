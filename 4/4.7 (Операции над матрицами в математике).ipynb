{
 "cells": [
  {
   "cell_type": "markdown",
   "source": [
    "Сложение матриц"
   ],
   "metadata": {
    "collapsed": false
   },
   "id": "dadc5cc2aec68591"
  },
  {
   "cell_type": "raw",
   "source": [
    "При сложении матриц A и B получается такая матрица C, каждый элемент которой представляет собой сумму пары соответствующих элементов исходных матриц A и B. Складывать можно только матрицы одинаковой размерности (n ×m), с равным количеством строк и столбцов."
   ],
   "metadata": {
    "collapsed": false
   },
   "id": "76269d1fd9d81196"
  },
  {
   "cell_type": "raw",
   "source": [
    "Каждый элемент искомой матрицы равен сумме соответствующих элементов заданных матриц"
   ],
   "metadata": {
    "collapsed": false
   },
   "id": "8bfcaf8fb8a315e7"
  },
  {
   "cell_type": "markdown",
   "source": [
    "Свойства сложения матриц"
   ],
   "metadata": {
    "collapsed": false
   },
   "id": "c70cb5b143ad5df"
  },
  {
   "cell_type": "raw",
   "source": [
    "Коммутативность – результат сложения матриц не зависит от их перестановки:\n",
    "\n",
    "A+B=B+A"
   ],
   "metadata": {
    "collapsed": false
   },
   "id": "2f0af6939b2dd264"
  },
  {
   "cell_type": "raw",
   "source": [
    "Ассоциативность – результат сложения матриц не зависит от расстановки скобок\n",
    "\n",
    "A+(B+C)=(A+B)+C"
   ],
   "metadata": {
    "collapsed": false
   },
   "id": "8ed9b89c6b043f8f"
  },
  {
   "cell_type": "raw",
   "source": [
    "Сложение с нулевой матрицей – для любой матрицы существует нейтральный элемент, которым является нулевая матрица, сложение с которым не изменяет исходную матрицу. Нулевая матрица – матрица, все элементы которой имеют нулевое значение\n",
    "\n",
    "A+0=0+A=A"
   ],
   "metadata": {
    "collapsed": false
   },
   "id": "866b0e97137db983"
  },
  {
   "cell_type": "raw",
   "source": [
    "Существование противоположной матрицы – для ненулевой матрицы A всегда есть матрица −A, сложение с которой даст в результате нулевую матрицу\n",
    "\n",
    "A+(−A)=0"
   ],
   "metadata": {
    "collapsed": false
   },
   "id": "be55cbb2397ca350"
  },
  {
   "cell_type": "markdown",
   "source": [
    "Умножение матрицы на число"
   ],
   "metadata": {
    "collapsed": false
   },
   "id": "7ee8e0b6e969874e"
  },
  {
   "cell_type": "raw",
   "source": [
    "Операция умножения матрицы A на число k заключается в построении матрицы \n",
    "\n",
    "kA=[k⋅a ij ]. Умножать на число можно матрицы любого размера. В результате умножения получается матрица того же размера, что исходная.\n",
    "\n",
    "Произведение матрицы A на число k – результирующая матрица B=kA того же размера, полученная умножением каждого из элементов a ij  исходной матрицы на заданное число."
   ],
   "metadata": {
    "collapsed": false
   },
   "id": "a6717c8ca2213a95"
  },
  {
   "cell_type": "markdown",
   "source": [
    "Свойства умножения матрицы на число"
   ],
   "metadata": {
    "collapsed": false
   },
   "id": "dd5bd50955728a47"
  },
  {
   "cell_type": "raw",
   "source": [
    "Единица – нейтральное число умножения любой матрицы, результат умножения на нейтральное число – исходная матрица\n",
    "\n",
    "1×A=A"
   ],
   "metadata": {
    "collapsed": false
   },
   "id": "9d9b10671efaea2b"
  },
  {
   "cell_type": "raw",
   "source": [
    "Результат умножения любой матрицы на ноль – нулевая матрица, все элементы которой равны нулю\n",
    "\n",
    "0×A=0"
   ],
   "metadata": {
    "collapsed": false
   },
   "id": "b40377fc09d0aecf"
  },
  {
   "cell_type": "raw",
   "source": [
    "Для матриц одного размера и действительного числа выполняется свойство дистрибутивности умножения относительно сложения\n",
    "\n",
    "k×(A+B)=k×A+k×B"
   ],
   "metadata": {
    "collapsed": false
   },
   "id": "3e39bb90984d2052"
  },
  {
   "cell_type": "raw",
   "source": [
    "Для любой матрицы и суммы действительных чисел выполняется свойство дистрибутивности\n",
    "\n",
    "(k+n)×A=k×A+n×A"
   ],
   "metadata": {
    "collapsed": false
   },
   "id": "9dcba7d6640fdfb2"
  },
  {
   "cell_type": "raw",
   "source": [
    "Для любой матрицы и произведения любых действительных чисел выполняется свойство ассоциативности умножения\n",
    "\n",
    "(k×n)×A=k×(n×A)"
   ],
   "metadata": {
    "collapsed": false
   },
   "id": "f1ef6ce50cf6ae28"
  },
  {
   "cell_type": "markdown",
   "source": [
    "Умножение матрицы на матрицу"
   ],
   "metadata": {
    "collapsed": false
   },
   "id": "e41b93ccd38fbeeb"
  },
  {
   "cell_type": "raw",
   "source": [
    "Умножение двух матриц A и B – вычисление результирующей матрицы C, каждый элемент c ij  которой равен сумме произведений элементов соответствующих строки первой матрицы a ir  и столбца второй матрицы b rj.\n",
    "\n",
    "Одну матрицу можно умножать на другую только тогда, когда количество столбцов в первой матрице совпадает с количеством строк во второй матрице. То есть матрицы должны быть согласованы по размерности. Результат умножения матрицы размера n×m на матрицу размером m×k – матрица размером n×k.\n",
    "\n",
    "Итак, произведение матрицы A n×m  на матрицу B m×k  – матрица C n×k , элемент c ij  которой, находящийся в i-ой строке и j-ом столбце, равен сумме произведений элементов i-ой строки матрицы A на соответствующие элементы j-ого столбца матрицы B."
   ],
   "metadata": {
    "collapsed": false
   },
   "id": "45a06616f350feb8"
  },
  {
   "cell_type": "markdown",
   "source": [
    "Свойства умножения матриц"
   ],
   "metadata": {
    "collapsed": false
   },
   "id": "9553b393b088642e"
  },
  {
   "cell_type": "raw",
   "source": [
    "Ассоциативность – (A× B)× C =A×(B× C)"
   ],
   "metadata": {
    "collapsed": false
   },
   "id": "be4332b82c52c8a5"
  },
  {
   "cell_type": "raw",
   "source": [
    "Дистрибутивность – A×(B+C)=A×B+A×C,(A+B)×C=A×C+B×C"
   ],
   "metadata": {
    "collapsed": false
   },
   "id": "80787756f3d4ae2f"
  },
  {
   "cell_type": "raw",
   "source": [
    "Ассоциативность и коммутативность относительно умножения на число – \n",
    "(k×A)×B=k×(A×B)=A×(k×B)"
   ],
   "metadata": {
    "collapsed": false
   },
   "id": "e66ab9429d3f4f33"
  },
  {
   "cell_type": "raw",
   "source": [
    "В общем случае умножение матриц не коммутативно – A×B не равно B×A"
   ],
   "metadata": {
    "collapsed": false
   },
   "id": "2c4a22f3d53af04c"
  },
  {
   "cell_type": "raw",
   "source": [
    "Напишите программу для вычисления суммы двух матриц.\n",
    "\n",
    "Формат входных данных\n",
    "На вход программе подаются два натуральных числа n и m — количество строк и столбцов в матрицах, затем элементы первой матрицы, затем пустая строка, далее следуют элементы второй матрицы.\n",
    "\n",
    "Формат выходных данных\n",
    "Программа должна вывести результирующую матрицу, разделяя элементы символом пробела."
   ],
   "metadata": {
    "collapsed": false
   },
   "id": "bbda989c6631b40c"
  },
  {
   "cell_type": "code",
   "execution_count": null,
   "outputs": [],
   "source": [
    "import numpy as np\n",
    "\n",
    "n, m = map(int, input().split())\n",
    "\n",
    "A = [list(map(int, input().split())) for _ in range(n)]\n",
    "A = np.array(A)\n",
    "\n",
    "input()\n",
    "\n",
    "B = [list(map(int, input().split())) for _ in range(n)]\n",
    "B = np.array(B)\n",
    "\n",
    "# Сложение матриц с помощью оператора +\n",
    "C_plus = A + B\n",
    "print(\"Результат сложения (оператор +):\")\n",
    "print(C_plus)\n",
    "\n",
    "# Сложение матриц с помощью функции numpy.add\n",
    "C_add = np.add(A, B)\n",
    "print(\"Результат сложения (numpy.add):\")\n",
    "print(C_add)\n",
    "\n",
    "def print_matrix_2x_with_ljust(matrix_2x, ljust_width):\n",
    "    \"\"\"\n",
    "    Выводит двухмерный список в удобочитаемом формате.\n",
    "    \n",
    "    :param matrix_2x: Входная квадратная матрица (список списков).\n",
    "    :param ljust_width: Ширина каждого элемента для выравнивания.\n",
    "    \"\"\"\n",
    "    for row in matrix_2x:\n",
    "        print(' '.join(str(item).ljust(ljust_width) for item in row))\n",
    "    print()\n",
    "    \n",
    "print_matrix_2x_with_ljust(C_plus, ljust_width=1)"
   ],
   "metadata": {
    "collapsed": false
   },
   "id": "c26aebc630f471c8"
  },
  {
   "cell_type": "raw",
   "source": [
    "Напишите программу, которая перемножает две матрицы.\n",
    "\n",
    "Формат входных данных\n",
    "На вход программе подаются два натуральных числа n и m — количество строк и столбцов в первой матрице, затем элементы первой матрицы, затем пустая строка. Далее следуют числа\n",
    "m и k — количество строк и столбцов второй матрицы затем элементы второй матрицы.\n",
    "\n",
    "Формат выходных данных\n",
    "Программа должна вывести результирующую матрицу, разделяя элементы символом пробела."
   ],
   "metadata": {
    "collapsed": false
   },
   "id": "aea0787f976ea721"
  },
  {
   "cell_type": "code",
   "execution_count": null,
   "outputs": [],
   "source": [
    "import numpy as np\n",
    "\n",
    "n, m = map(int, input().split())\n",
    "\n",
    "A = [list(map(int, input().split())) for _ in range(n)]\n",
    "print(A)\n",
    "A = np.array(A)\n",
    "print(A)\n",
    "\n",
    "input()\n",
    "\n",
    "\n",
    "m, k = map(int, input().split())\n",
    "\n",
    "B = [list(map(int, input().split())) for _ in range(m)]\n",
    "print(B)\n",
    "B = np.array(B)\n",
    "print(B)\n",
    "\n",
    "# Перемножение матриц с помощью функции np.dot\n",
    "C_dot = np.dot(A, B)\n",
    "print(\"Результат умножения (np.dot):\")\n",
    "print(C_dot)\n",
    "\n",
    "# Перемножение матриц с помощью оператора @\n",
    "C_at = A @ B\n",
    "print(\"Результат умножения (оператор @):\")\n",
    "print(C_at)\n",
    "\n",
    "def print_matrix_2x_with_ljust(matrix_2x, ljust_width):\n",
    "    \"\"\"\n",
    "    Выводит двухмерный список в удобочитаемом формате.\n",
    "    \n",
    "    :param matrix_2x: Входная квадратная матрица (список списков).\n",
    "    :param ljust_width: Ширина каждого элемента для выравнивания.\n",
    "    \"\"\"\n",
    "    for row in matrix_2x:\n",
    "        print(' '.join(str(item).ljust(ljust_width) for item in row))\n",
    "    print()\n",
    "    \n",
    "print_matrix_2x_with_ljust(C_at, ljust_width=1)"
   ],
   "metadata": {
    "collapsed": false
   },
   "id": "386093df20c243c1"
  },
  {
   "cell_type": "raw",
   "source": [
    "Напишите программу, которая возводит квадратную матрицу в m-ую степень.\n",
    "\n",
    "Формат входных данных\n",
    "На вход программе подаётся натуральное число n — количество строк и столбцов в матрице, затем элементы матрицы, затем натуральное число m.\n",
    "\n",
    "Формат выходных данных\n",
    "Программа должна вывести результирующую матрицу, разделяя элементы символом пробела."
   ],
   "metadata": {
    "collapsed": false
   },
   "id": "958c20ee2dd0ffcc"
  },
  {
   "cell_type": "code",
   "execution_count": null,
   "outputs": [],
   "source": [
    "import numpy as np\n",
    "\n",
    "n = int(input())\n",
    "\n",
    "A = [list(map(int, input().split())) for _ in range(n)]\n",
    "print(A)\n",
    "A = np.array(A)\n",
    "print(A)\n",
    "\n",
    "num = int(input())\n",
    "\n",
    "# Возведение матрицы в степень с помощью функции numpy.linalg.matrix_power\n",
    "A_power = np.linalg.matrix_power(A, num)\n",
    "print(f\"Матрица A:\\n{A}\")\n",
    "print(f\"\\nМатрица A в степени {n}:\\n{A_power}\")\n",
    "\n",
    "def print_matrix_2x_with_ljust(matrix_2x, ljust_width):\n",
    "    \"\"\"\n",
    "    Выводит двухмерный список в удобочитаемом формате.\n",
    "    \n",
    "    :param matrix_2x: Входная квадратная матрица (список списков).\n",
    "    :param ljust_width: Ширина каждого элемента для выравнивания.\n",
    "    \"\"\"\n",
    "    for row in matrix_2x:\n",
    "        print(' '.join(str(item).ljust(ljust_width) for item in row))\n",
    "    print()\n",
    "    \n",
    "print_matrix_2x_with_ljust(A_power, ljust_width=1)"
   ],
   "metadata": {
    "collapsed": false
   },
   "id": "f7b0c09393f22bd5"
  }
 ],
 "metadata": {
  "kernelspec": {
   "display_name": "Python 3",
   "language": "python",
   "name": "python3"
  },
  "language_info": {
   "codemirror_mode": {
    "name": "ipython",
    "version": 2
   },
   "file_extension": ".py",
   "mimetype": "text/x-python",
   "name": "python",
   "nbconvert_exporter": "python",
   "pygments_lexer": "ipython2",
   "version": "2.7.6"
  }
 },
 "nbformat": 4,
 "nbformat_minor": 5
}
