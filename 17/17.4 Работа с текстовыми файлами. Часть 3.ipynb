{
 "cells": [
  {
   "cell_type": "markdown",
   "source": [
    "Запись данных в файлы"
   ],
   "metadata": {
    "collapsed": false
   },
   "id": "264b1c4f8db68caa"
  },
  {
   "cell_type": "markdown",
   "source": [
    "Файлы могут быть открыты для чтения, а могут для записи данных. Ниже представлены строковые литералы для задания режима доступа."
   ],
   "metadata": {
    "collapsed": false
   },
   "id": "385a5721c4343f49"
  },
  {
   "cell_type": "markdown",
   "source": [
    "\n",
    "Стр. литерал\n",
    "\n",
    "Режим\tОписание\n",
    "'r'\t\n",
    "Read (чтение)\n",
    "\n",
    "Открыть файл только для чтения. Такой файл не может быть изменен.\n",
    "'w'\tWrite (запись)\tОткрыть файл для записи. Если файл уже существует, то стереть его содержимое.\n",
    "Если файл не существует, он будет создан.\n",
    "'a'\tAppend (добавление)\tОткрыть файл для записи. Все записываемые в файл данные будут\n",
    "добавлены в его конец. Если файл не существует, то он будет создан.\n",
    "'r+'\tRead + Write\tОткрыть файл для чтения и записи. В этом режиме происходит частичная перезапись содержимого файла с самого начала.\n",
    "'x'\tCreate (создание)\tСоздать новый файл. Если файл уже существует, произойдет ошибка."
   ],
   "metadata": {
    "collapsed": false
   },
   "id": "57ab34d0f03e5a76"
  },
  {
   "cell_type": "markdown",
   "source": [
    "Для записи используются два файловых метода:\n",
    "\n",
    "write() – записывает переданную строку в файл;\n",
    "writelines() – записывает переданный список строк в файл."
   ],
   "metadata": {
    "collapsed": false
   },
   "id": "2d2ae9f7c00eac13"
  },
  {
   "cell_type": "markdown",
   "source": [
    "Метод write()"
   ],
   "metadata": {
    "collapsed": false
   },
   "id": "e28bbc52f72a40cd"
  },
  {
   "cell_type": "markdown",
   "source": [
    "Общий формат применения файлового метода write():"
   ],
   "metadata": {
    "collapsed": false
   },
   "id": "b8b8c520b6a4fbbe"
  },
  {
   "cell_type": "markdown",
   "source": [
    "файловая_переменная.writе(строковое_значение)"
   ],
   "metadata": {
    "collapsed": false
   },
   "id": "ea3168708d42ab48"
  },
  {
   "cell_type": "markdown",
   "source": [
    "Здесь\n",
    "\n",
    "файловая переменная – это имя переменной, которая ссылается на файловый объект;\n",
    "строковое значение – это символьная последовательность, которая будет записана в файл."
   ],
   "metadata": {
    "collapsed": false
   },
   "id": "952eed15785466e5"
  },
  {
   "cell_type": "markdown",
   "source": [
    "Для записи данных в файл он должен быть открыт для записи (режимы 'w', 'а', 'r+'), иначе произойдет ошибка."
   ],
   "metadata": {
    "collapsed": false
   },
   "id": "d34cf21109dc2106"
  },
  {
   "cell_type": "markdown",
   "source": [
    "Рассмотрим текcтовый файл myfile.txt, содержащий следующие строки:\n",
    "\n",
    "First line of the file.\n",
    "Second line of the file.\n",
    "Third line of the file."
   ],
   "metadata": {
    "collapsed": false
   },
   "id": "c39894eeed723895"
  },
  {
   "cell_type": "markdown",
   "source": [
    "Если файл открыт в режиме 'w', то его содержимое сначала полностью стирается, а уже затем в него добавляются данные."
   ],
   "metadata": {
    "collapsed": false
   },
   "id": "d79d15d829dac960"
  },
  {
   "cell_type": "code",
   "execution_count": null,
   "outputs": [],
   "source": [
    "with open('myfile.txt', 'w', encoding='utf-8') as file:\n",
    "    file.write('Python and beegeek forever\\n')\n",
    "    file.write('We love stepik <3')"
   ],
   "metadata": {
    "collapsed": false
   },
   "id": "e5f710a9a18eaee9"
  },
  {
   "cell_type": "markdown",
   "source": [
    "файл myfile.txt будет содержать:"
   ],
   "metadata": {
    "collapsed": false
   },
   "id": "2fffadfc08be8855"
  },
  {
   "cell_type": "markdown",
   "source": [
    "Python and beegeek forever\n",
    "We love stepik <3"
   ],
   "metadata": {
    "collapsed": false
   },
   "id": "14b4166f64ea7b5c"
  },
  {
   "cell_type": "markdown",
   "source": [
    "Если файл открыт в режиме 'a', то запись происходит в самый конец файла."
   ],
   "metadata": {
    "collapsed": false
   },
   "id": "e8c4811f1c53860c"
  },
  {
   "cell_type": "code",
   "execution_count": null,
   "outputs": [],
   "source": [
    "with open('myfile.txt', 'a', encoding='utf-8') as file:\n",
    "    file.write('Python and beegeek forever\\n')\n",
    "    file.write('We love stepik <3')"
   ],
   "metadata": {
    "collapsed": false
   },
   "id": "43355e6cd95d6433"
  },
  {
   "cell_type": "markdown",
   "source": [
    "файл myfile.txt будет содержать:"
   ],
   "metadata": {
    "collapsed": false
   },
   "id": "ffd30cf3103ae30a"
  },
  {
   "cell_type": "markdown",
   "source": [
    "First line of the file.\n",
    "Second line of the file.\n",
    "Third line of the file.Python and beegeek forever\n",
    "We love stepik <3"
   ],
   "metadata": {
    "collapsed": false
   },
   "id": "aeb24fad2f34d026"
  },
  {
   "cell_type": "markdown",
   "source": [
    "Если файл открыт в режиме 'r+', то происходит частичная перезапись его содержимого."
   ],
   "metadata": {
    "collapsed": false
   },
   "id": "b15fe1f5f383a1c8"
  },
  {
   "cell_type": "code",
   "execution_count": null,
   "outputs": [],
   "source": [
    "with open('myfile.txt', 'r+', encoding='utf-8') as file:\n",
    "    file.write('Python and beegeek forever\\n')\n",
    "    file.write('We love stepik.')"
   ],
   "metadata": {
    "collapsed": false
   },
   "id": "3466d0f13c1e462d"
  },
  {
   "cell_type": "markdown",
   "source": [
    "файл myfile.txt будет содержать:"
   ],
   "metadata": {
    "collapsed": false
   },
   "id": "727e9365b1a130b1"
  },
  {
   "cell_type": "markdown",
   "source": [
    "Python and beegeek forever\n",
    "We love stepik. file.\n",
    "Third line of the file."
   ],
   "metadata": {
    "collapsed": false
   },
   "id": "cf9eba812c78cc3d"
  },
  {
   "cell_type": "markdown",
   "source": [
    "Метод writelines()"
   ],
   "metadata": {
    "collapsed": false
   },
   "id": "b42c0cab4c0447f3"
  },
  {
   "cell_type": "markdown",
   "source": [
    "Последовательные вызовы метода write() дописывают текст в конец файла."
   ],
   "metadata": {
    "collapsed": false
   },
   "id": "d0938b7f0d7679a5"
  },
  {
   "cell_type": "markdown",
   "source": [
    "Приведенный ниже код создает файл philosophers.txt и записывает в него три строки текста:"
   ],
   "metadata": {
    "collapsed": false
   },
   "id": "8df12d7c98274b5a"
  },
  {
   "cell_type": "code",
   "execution_count": null,
   "outputs": [],
   "source": [
    "with open('philosophers.txt', 'w', encoding='utf-8') as file:\n",
    "    file.write('Джoн Локк\\n')\n",
    "    file.write('Дэвид Хьюм\\n')\n",
    "    file.write('Эдмyнд Берк\\n')"
   ],
   "metadata": {
    "collapsed": false
   },
   "id": "c07dfa8b121081ca"
  },
  {
   "cell_type": "markdown",
   "source": [
    "На практике часто приходится записывать в файл содержимое целого списка. Это можно сделать с помощью цикла или метода writelines(), что удобнее. Метод writelines() принимает в качестве аргумента список строк и записывает его в файл.\n",
    "\n",
    "Приведенный ниже код создает файл philosophers.txt и записывает в него содержимое списка philosophers:"
   ],
   "metadata": {
    "collapsed": false
   },
   "id": "a7430178faacf919"
  },
  {
   "cell_type": "code",
   "execution_count": null,
   "outputs": [],
   "source": [
    "philosophers = ['Джoн Локк\\n', 'Дэвид Хьюм\\n', 'Эдмyнд Берк\\n']\n",
    "\n",
    "with open('philosophers.txt', 'w', encoding='utf-8') as file:\n",
    "    file.writelines(philosophers)"
   ],
   "metadata": {
    "collapsed": false
   },
   "id": "54abef4a3bfc3af1"
  },
  {
   "cell_type": "markdown",
   "source": [
    "Обратите внимание, что все записанные в файл строковые значения оканчиваются символом '\\n', экранированной последовательностью новой строки. Символ '\\n' не только отделяет находящиеся в файле значения друг от друга, но и обеспечивает появление каждого из них на отдельной строке во время просмотра данных в текстовом редакторе.\n",
    "\n",
    "Такой вариант записи предпочтителен, когда нужно записать большой объем текста, который вы получаете и обрабатываете строчка за строчкой. Можно предварительно накопить весь текст в одну большую строку, однако для этого может потребоваться большой объём памяти. Гораздо лучше записывать строчки по мере готовности и writelines для этого подходит идеально!"
   ],
   "metadata": {
    "collapsed": false
   },
   "id": "5f8316ce345c3e5f"
  },
  {
   "cell_type": "markdown",
   "source": [
    "Запись в файл с помощью функции print()"
   ],
   "metadata": {
    "collapsed": false
   },
   "id": "d3c1cca39e227c3b"
  },
  {
   "cell_type": "markdown",
   "source": [
    "Для записи данных в файл можно также использовать встроенную функцию print(). Для этого нужно передать ей еще один именованный аргумент file, указывающий на открытый файл. При этом функция print() автоматически добавляет переход на новую строку."
   ],
   "metadata": {
    "collapsed": false
   },
   "id": "e07e554db9dd0ed"
  },
  {
   "cell_type": "code",
   "execution_count": null,
   "outputs": [],
   "source": [
    "with open('philosophers.txt', 'w', encoding='utf-8') as output:\n",
    "    print('Джoн Локк', file=output)\n",
    "    print('Дэвид Хьюм', file=output)\n",
    "    print('Эдмyнд Берк', file=output)"
   ],
   "metadata": {
    "collapsed": false
   },
   "id": "cbfa5c75ec35f05b"
  },
  {
   "cell_type": "markdown",
   "source": [
    "создает файл philosophers.txt с содержимым:\n",
    "\n",
    "Джoн Локк\n",
    "Дэвид Хьюм\n",
    "Эдмyнд Берк"
   ],
   "metadata": {
    "collapsed": false
   },
   "id": "b654d2852d8bcc86"
  },
  {
   "cell_type": "markdown",
   "source": [
    "Мы можем использовать всю мощность встроенной функции print() для форматирования выводимого текста."
   ],
   "metadata": {
    "collapsed": false
   },
   "id": "f2340e5817ad7ea9"
  },
  {
   "cell_type": "code",
   "execution_count": null,
   "outputs": [],
   "source": [
    "with open('philosophers.txt', 'w', encoding='utf-8') as output:\n",
    "    print('Джoн Локк', 'Дэвид Хьюм', 'Эдмyнд Берк', sep='***', file=output)"
   ],
   "metadata": {
    "collapsed": false
   },
   "id": "a01816cef4d9cfe9"
  },
  {
   "cell_type": "markdown",
   "source": [
    "создает файл philosophers.txt с содержимым:\n",
    "\n",
    "Джoн Локк***Дэвид Хьюм***Эдмyнд Берк"
   ],
   "metadata": {
    "collapsed": false
   },
   "id": "a9848241061ea7f7"
  },
  {
   "cell_type": "markdown",
   "source": [
    "Не забывайте, что файловые методы write() и writelines() не добавляют переход на новую строку, поэтому для перехода на новую строку в файле необходимо явно добавить символ '\\n'."
   ],
   "metadata": {
    "collapsed": false
   },
   "id": "83b4b713c9305220"
  },
  {
   "cell_type": "markdown",
   "source": [
    "Примечание 1. В некоторых операционных системах невыполнение операции закрытия файла может привести к потере данных. Данные сначала пишутся в буфер – небольшую область временного хранения в оперативной памяти. Когда буфер заполняется, система записывает его содержимое в файл. Это увеличивает производительность системы, потому что запись данных в оперативную память быстрее записи на диск. Процесс закрытия файла записывает любые несохраненные данные из буфера в файл. Чтобы принудительно записать содержимое буфера в файл, используется файловый метод flush()."
   ],
   "metadata": {
    "collapsed": false
   },
   "id": "1aee104c2b82f6af"
  },
  {
   "cell_type": "markdown",
   "source": [
    "Примечание 2. Используйте конструкцию with для чтения и записи файлов. Закрывать файлы — полезная привычка, и если вы используете команду with при работе с файлами, вам не придется беспокоиться об их закрытии. Команда with автоматически закрывает файл за вас."
   ],
   "metadata": {
    "collapsed": false
   },
   "id": "1bbd9c52f53d6b80"
  },
  {
   "cell_type": "markdown",
   "source": [
    "Напишите программу, которая считывает строку текста и записывает её в текстовый файл output.txt.\n",
    "\n",
    "Формат входных данных\n",
    "На вход программе подается строка текста.\n",
    "\n",
    "Формат выходных данных\n",
    "Программа должна создать файл с именем output.txt и записать в него считанную строку текста.\n",
    "\n",
    "Примечание. Считайте, что исполняемая программа и указанный файл находятся в одной папке."
   ],
   "metadata": {
    "collapsed": false
   },
   "id": "a90af5708df2a4e5"
  },
  {
   "cell_type": "code",
   "execution_count": null,
   "outputs": [],
   "source": [
    "s = input()\n",
    "\n",
    "with open('output.txt', 'w') as out:\n",
    "    print(s, file=out)"
   ],
   "metadata": {
    "collapsed": false
   },
   "id": "d2a8ac08514f79db"
  },
  {
   "cell_type": "code",
   "execution_count": null,
   "outputs": [],
   "source": [
    "with open('output.txt', 'w') as f:\n",
    "    f.write(input())"
   ],
   "metadata": {
    "collapsed": false
   },
   "id": "75db571ffe1c911a"
  },
  {
   "cell_type": "markdown",
   "source": [
    "Напишите программу, записывающую в текстовый файл random.txt 25 случайных чисел в диапазоне от 111 до 777 (включительно), каждое с новой строки.\n",
    "\n",
    "Формат входных данных\n",
    "На вход программе ничего не подается.\n",
    "\n",
    "Формат выходных данных\n",
    "Программа должна создать файл с именем random.txt и записать в него случайные числа в соответствии с условием задачи.\n",
    "\n",
    "Примечание 1. Считайте, что исполняемая программа и указанный файл находятся в одной папке.\n",
    "\n",
    "Примечание 2. Для генерации случайных чисел используйте модуль random."
   ],
   "metadata": {
    "collapsed": false
   },
   "id": "6b8e76bb00c2a94d"
  },
  {
   "cell_type": "code",
   "execution_count": null,
   "outputs": [],
   "source": [
    "import random\n",
    "\n",
    "with open('random.txt', 'w') as file:\n",
    "    for _ in range(25):\n",
    "        print(random.choice(range(111, 778)), file=file, sep='\\n')"
   ],
   "metadata": {
    "collapsed": false
   },
   "id": "6aff425aa3f06bcb"
  },
  {
   "cell_type": "markdown",
   "source": [
    "Вам доступен текстовый файл input.txt, состоящий из нескольких строк. Напишите программу для записи содержимого этого файла в файл output.txt в виде нумерованного списка, где перед каждой строкой стоит ее номер, символ ) и пробел. Нумерация строк должна начинаться с \n",
    "1.\n",
    "\n",
    "Формат входных данных\n",
    "На вход программе ничего не подается.\n",
    "\n",
    "Формат выходных данных\n",
    "Программа должна создать файл с именем output.txt и записать в него пронумерованные строки файла input.txt.\n",
    "\n",
    "Примечание 1. Считайте, что исполняемая программа и указанные файлы находятся в одной папке.\n",
    "\n",
    "Примечание 2. Используйте встроенную функцию enumerate().\n",
    "\n",
    "Примечание 3. Если бы файл input.txt содержал строки:\n",
    "\n",
    "Beautiful is better than ugly.\n",
    "Explicit is better than implicit.\n",
    "Simple is better than complex.\n",
    "Complex is better than complicated.\n",
    "то файл output.txt имел бы вид:\n",
    "\n",
    "1) Beautiful is better than ugly.\n",
    "2) Explicit is better than implicit.\n",
    "3) Simple is better than complex.\n",
    "4) Complex is better than complicated."
   ],
   "metadata": {
    "collapsed": false
   },
   "id": "9045fe2f9e488400"
  },
  {
   "cell_type": "code",
   "execution_count": 6,
   "outputs": [],
   "source": [
    "with open('input1.txt', 'r') as file, open('output.txt', 'w') as out:\n",
    "    f = file.readlines()\n",
    "    for i, line in enumerate(f):\n",
    "        print(f'{i + 1}) {line}', end='', file=out)"
   ],
   "metadata": {
    "collapsed": false,
    "ExecuteTime": {
     "end_time": "2024-09-06T11:29:28.361379200Z",
     "start_time": "2024-09-06T11:29:28.356379100Z"
    }
   },
   "id": "e02b43673993e141"
  },
  {
   "cell_type": "code",
   "execution_count": null,
   "outputs": [],
   "source": [
    "with open('input1.txt') as inp, open('output.txt', 'w') as out:\n",
    "    for i, j in enumerate(inp, start=1):\n",
    "        print(f'{i}) {j}', end='', file=out)"
   ],
   "metadata": {
    "collapsed": false
   },
   "id": "75f5682c640743f1"
  },
  {
   "cell_type": "markdown",
   "source": [
    "Вам доступен текстовый файл class_scores.txt с оценками за итоговый тест на строках вида: фамилия оценка (фамилия и оценка разделены пробелом). Оценка - целое число от 0 до 100 включительно.\n",
    "\n",
    "Напишите программу для добавления 5 баллов к каждому результату теста и вывода фамилий и новых результатов тестов в файл new_scores.txt.\n",
    "\n",
    "Формат входных данных\n",
    "На вход программе ничего не подается.\n",
    "\n",
    "Формат выходных данных\n",
    "Программа должна создать файл с именем new_scores.txt в соответствии с условием задачи.\n",
    "\n",
    "Примечание 1. Считайте, что исполняемая программа и указанные файлы находятся в одной папке.\n",
    "\n",
    "Примечание 2. Если бы файл class_scores.txt содержал строки:\n",
    "\n",
    "Washington 83\n",
    "Adams 86\n",
    "Kingsman 100\n",
    "MacDonald 95\n",
    "Thomson 98\n",
    "то файл new_scores.txt имел бы вид:\n",
    "\n",
    "Washington 88\n",
    "Adams 91\n",
    "Kingsman 100\n",
    "MacDonald 100\n",
    "Thomson 100"
   ],
   "metadata": {
    "collapsed": false
   },
   "id": "ac22d7d0823dfb70"
  },
  {
   "cell_type": "code",
   "execution_count": 38,
   "outputs": [],
   "source": [
    "records = {}\n",
    "\n",
    "with open('class_scores.txt', 'r', encoding='utf-8') as file, open('new_scores.txt', 'w', encoding='utf-8') as out:\n",
    "    for line in file:\n",
    "        key, value = line.strip().split()  # Разделяем строку по пробелу\n",
    "        records[key] = value  # Добавляем в словарь\n",
    "    # print(records)\n",
    "    # Печатаем записи с нумерацией\n",
    "    for i, (key, value) in enumerate(records.items()):\n",
    "        if int(value) + 5 > 100:\n",
    "            print(f'{key} 100', file=out)\n",
    "        else:\n",
    "            print(f'{key} {int(value) + 5}', file=out)"
   ],
   "metadata": {
    "collapsed": false,
    "ExecuteTime": {
     "end_time": "2024-09-06T11:51:45.710369600Z",
     "start_time": "2024-09-06T11:51:45.705541300Z"
    }
   },
   "id": "2a107eb9a6ab0aa1"
  },
  {
   "cell_type": "code",
   "execution_count": null,
   "outputs": [],
   "source": [
    "with open('class_scores.txt') as class_scores, open('new_scores.txt', 'w') as new_scores:\n",
    "    for line in class_scores:\n",
    "        name, score = line.split()\n",
    "        score = int(score) + 5\n",
    "        if score > 100:\n",
    "            score = 100\n",
    "        print(name, score, file=new_scores)"
   ],
   "metadata": {
    "collapsed": false
   },
   "id": "939a9f15c5c9be6d"
  },
  {
   "cell_type": "markdown",
   "source": [
    "Однажды Жака Фреско спросили:\n",
    "\n",
    "\"Если ты такой умный, почему не богатый?\"\n",
    "\n",
    "Жак не стал отвечать на столь провокационный вопрос, вместо этого он задал загадку спрашивающему:\n",
    "\n",
    "\"Были разноцветные козлы. Сколько?\"\n",
    "\n",
    "\"Сколько чего?\"\n",
    "\n",
    "\"Сколько из них составляет более 7% от общего количества козлов?\"\n",
    "\n",
    "Вам доступен текстовый файл goats.txt в первой строке которого написано слово COLOURS, далее идет список всех возможных цветов козлов. Затем идет строка со словом GOATS, и далее непосредственно перечисление козлов разных цветов. Перечень козлов включает только строки из первого списка.\n",
    "\n",
    "Напишите программу создания файла answer.txt и вывода в него списка козлов, которые удовлетворяют условию загадки от Жака Фреско.\n",
    "\n",
    "Формат входных данных\n",
    "На вход программе ничего не подается.\n",
    "\n",
    "Формат выходных данных\n",
    "Программа должна создать файл с именем answer.txt и вывести в него в алфавитном порядке названия цветов козлов, которые удовлетворяют условию загадки Жака Фреско.\n",
    "\n",
    "Примечание 1. Считайте, что исполняемая программа и указанные файлы находятся в одной папке.\n",
    "\n",
    "Примечание 2. Если бы файл goats.txt содержал строки:\n",
    "\n",
    "COLOURS\n",
    "Pink goat\n",
    "Green goat\n",
    "Black goat\n",
    "GOATS\n",
    "Pink goat\n",
    "Pink goat\n",
    "Black goat\n",
    "Pink goat\n",
    "Pink goat\n",
    "Black goat\n",
    "Green goat\n",
    "Pink goat\n",
    "Black goat\n",
    "Black goat\n",
    "Pink goat\n",
    "Pink goat\n",
    "Black goat\n",
    "Black goat\n",
    "Pink goat\n",
    "то файл answer.txt имел бы вид:\n",
    "\n",
    "Black goat\n",
    "Pink goat"
   ],
   "metadata": {
    "collapsed": false
   },
   "id": "5555d1b86c467587"
  },
  {
   "cell_type": "code",
   "execution_count": 39,
   "outputs": [
    {
     "name": "stdout",
     "output_type": "stream",
     "text": [
      "Содержимое файла answer.txt:\n",
      "Pink goat\n",
      "White goat\n"
     ]
    }
   ],
   "source": [
    "# Открываем файл goats.txt для чтения\n",
    "with open('goats.txt', 'r', encoding='utf-8') as file:\n",
    "    lines = file.readlines()\n",
    "\n",
    "# Получаем список цветов козлов\n",
    "colours = []\n",
    "goats = []\n",
    "\n",
    "# Заполняем списки\n",
    "is_colours_section = True\n",
    "for line in lines:\n",
    "    line = line.strip()\n",
    "    if line == \"COLOURS\":\n",
    "        continue\n",
    "    elif line == \"GOATS\":\n",
    "        is_colours_section = False\n",
    "        continue\n",
    "    if is_colours_section:\n",
    "        colours.append(line)\n",
    "    else:\n",
    "        goats.append(line)\n",
    "\n",
    "# Подсчитываем общее количество козлов\n",
    "total_goats = len(goats)\n",
    "\n",
    "# Подсчитываем количество козлов по цветам\n",
    "color_count = {}\n",
    "for goat in goats:\n",
    "    if goat in color_count:\n",
    "        color_count[goat] += 1\n",
    "    else:\n",
    "        color_count[goat] = 1\n",
    "\n",
    "# Вычисляем цвета козлов, удовлетворяющие условию загадки\n",
    "result = []\n",
    "for color, count in color_count.items():\n",
    "    if count > total_goats * 0.07:\n",
    "        result.append(color)\n",
    "\n",
    "# Сортируем результаты в алфавитном порядке\n",
    "result.sort()\n",
    "\n",
    "# Сохраняем результаты в файл answer.txt\n",
    "with open('answer.txt', 'w', encoding='utf-8') as out_file:\n",
    "    for color in result:\n",
    "        out_file.write(f\"{color}\\n\")\n",
    "\n",
    "# Для проверки выведите результат на экран\n",
    "print(\"Содержимое файла answer.txt:\")\n",
    "print(*result, sep='\\n')"
   ],
   "metadata": {
    "collapsed": false,
    "ExecuteTime": {
     "end_time": "2024-09-06T12:11:46.554441100Z",
     "start_time": "2024-09-06T12:11:46.525806200Z"
    }
   },
   "id": "8c8c7367c89f532e"
  },
  {
   "cell_type": "code",
   "execution_count": null,
   "outputs": [],
   "source": [
    "with open('goats.txt') as f1, open('answer.txt', 'w') as f2:\n",
    "    cont = f1.read().split('\\n')\n",
    "    colors, goats = cont[1:cont.index('GOATS')], cont[cont.index('GOATS')+1:]\n",
    "    print(*sorted(filter(lambda x: goats.count(x) / len(goats) > 0.07, colors)), sep='\\n', file=f2)"
   ],
   "metadata": {
    "collapsed": false
   },
   "id": "4e80543825cdb2ec"
  },
  {
   "cell_type": "markdown",
   "source": [
    "На вход программе подается натуральное число n и n строк с названиями файлов. Напишите программу, которая создает файл output.txt и выводит в него содержимое всех файлов, не меняя их порядка. Смотрите Примечание 2 для понимания работы программы.\n",
    "\n",
    "Формат входных данных\n",
    "На вход программе подается натуральное число n и n строк названий существующих файлов.\n",
    "\n",
    "Формат выходных данных\n",
    "Программа должна создать файл с именем output.txt в соответствии с условием задачи.\n",
    "\n",
    "Примечание 1. Считайте, что исполняемая программа и указанные файлы находятся в одной папке.\n",
    "\n",
    "Примечание 2. Если бы на вход было подано 2 файла и эти файлы содержали бы строки (обратите внимание, что в конце первого файла нет переноса строки)\n",
    "\n",
    "Early in the morning\n",
    "и\n",
    "\n",
    "we\n",
    "went\n",
    "for mushrooms\n",
    "то результирующий файл output.txt выглядел бы следующим образом:\n",
    "\n",
    "Early in the morningwe\n",
    "went\n",
    "for mushrooms"
   ],
   "metadata": {
    "collapsed": false
   },
   "id": "862c47aa2af3b5ad"
  },
  {
   "cell_type": "code",
   "execution_count": null,
   "outputs": [],
   "source": [
    "# Читаем количество файлов\n",
    "n = int(input())\n",
    "\n",
    "# Список для хранения имен файлов\n",
    "file_names = []\n",
    "\n",
    "# Читаем имена файлов\n",
    "for _ in range(n):\n",
    "    file_name = input()\n",
    "    file_names.append(file_name)\n",
    "\n",
    "# Создаем файл output.txt для записи\n",
    "with open('output.txt', 'w', encoding='utf-8') as output_file:\n",
    "    for index, file_name in enumerate(file_names):\n",
    "        # Открываем каждый файл для чтения\n",
    "        with open(file_name, 'r', encoding='utf-8') as input_file:\n",
    "            content = input_file.read()  # Читаем содержимое файла\n",
    "            \n",
    "            # Если это не последний файл, добавляем его содержимое\n",
    "            # без добавления переносов для первого файла\n",
    "            if index < n - 1:\n",
    "                output_file.write(content)  # Записываем содержимое файла\n",
    "            else:\n",
    "                # Для последнего файла добавляем содержимое, а затем перенос строки\n",
    "                output_file.write(content)\n",
    "\n",
    "print(\"Содержимое всех файлов объединено в output.txt\")"
   ],
   "metadata": {
    "collapsed": false
   },
   "id": "33b89213e3a14003"
  },
  {
   "cell_type": "code",
   "execution_count": null,
   "outputs": [],
   "source": [
    "input_files_number = int(input())\n",
    "# здесь мы будем хранить имена всех файлов, из которых нам нужно взять содержимое\n",
    "input_files = [input() for _ in range(input_files_number)]\n",
    "\n",
    "with open(\"output.txt\", \"w\", encoding=\"utf-8\") as output_f:\n",
    "    for input_file in input_files:  # проходим по всем файлам\n",
    "        with open(input_file, \"r\", encoding=\"utf-8\") as input_f:\n",
    "            file_contents = input_f.read()  # считываем содержимое файла\n",
    "            output_f.write(file_contents)  # записываем содержимое файла"
   ],
   "metadata": {
    "collapsed": false
   },
   "id": "3069e4bb54f2fa3"
  },
  {
   "cell_type": "markdown",
   "source": [
    "Вам доступен текстовый файл logfile.txt с информацией о времени входа пользователя в систему и выхода из нее. Каждая строка файла содержит три значения, разделенные запятыми и символом пробела: имя пользователя, время входа, время выхода, где время указано в 24-часовом формате.\n",
    "\n",
    "Напишите программу, которая создает файл output.txt и выводит в него имена всех пользователей (не меняя порядка следования), которые были в сети не менее часа.\n",
    "\n",
    "Формат входных данных\n",
    "На вход программе ничего не подается.\n",
    "\n",
    "Формат выходных данных\n",
    "Программа должна создать файл с именем output.txt в соответствии с условием задачи.\n",
    "\n",
    "Примечание 1. Считайте, что исполняемая программа и указанные файлы находятся в одной папке.\n",
    "\n",
    "Примечание 2. Считайте, что каждый пользователь был только раз в системе, то есть в файле нет двух строк с одинаковым пользователем.\n",
    "\n",
    "Примечание 3. Если бы файл logfile.txt содержал строки:\n",
    "\n",
    "Тимур Гуев, 14:10, 15:50\n",
    "Руслан Гриценко, 12:00, 12:59\n",
    "Роман Гацалов, 09:10, 17:45\n",
    "Габолаев Георгий, 11:10, 12:10\n",
    "то файл output.txt имел бы вид:\n",
    "\n",
    "Тимур Гуев\n",
    "Роман Гацалов\n",
    "Габолаев Георгий"
   ],
   "metadata": {
    "collapsed": false
   },
   "id": "daffb07e0180ae8b"
  },
  {
   "cell_type": "code",
   "execution_count": 47,
   "outputs": [
    {
     "name": "stdout",
     "output_type": "stream",
     "text": [
      "Содержимое пользователей, которые были в сети не менее часа, записано в output.txt.\n",
      "Тимур Гуев\n",
      "Роман Гацалов\n",
      "Габолаев Георгий\n",
      "Гергиева Светлана\n",
      "Гуева Лариса\n",
      "Засеев Ирбек\n",
      "Гуева Лиза\n",
      "Харисов Артур\n",
      "Янченко Роман\n"
     ]
    }
   ],
   "source": [
    "def time_diff(start, end):\n",
    "    # Функция для вычисления разницы между двумя временем в формате HH:MM\n",
    "    start_hour, start_minute = map(int, start.split(':'))\n",
    "    end_hour, end_minute = map(int, end.split(':'))\n",
    "    \n",
    "    # Преобразуем время в минуты\n",
    "    start_total_minutes = start_hour * 60 + start_minute\n",
    "    end_total_minutes = end_hour * 60 + end_minute\n",
    "\n",
    "    return end_total_minutes - start_total_minutes\n",
    "\n",
    "# Читаем файл logfile.txt\n",
    "with open('logfile.txt', 'r', encoding='utf-8') as file:\n",
    "    lines = file.readlines()\n",
    "\n",
    "# Список для хранения имен пользователей, которые были в сети более часа\n",
    "users_online_for_an_hour = []\n",
    "\n",
    "# Обрабатываем каждую строку из файла\n",
    "for line in lines:\n",
    "    user, login_time, logout_time = line.strip().split(', ')\n",
    "    # Проверяем, был ли пользователь в сети более часа\n",
    "    if time_diff(login_time, logout_time) >= 60:\n",
    "        users_online_for_an_hour.append(user)\n",
    "\n",
    "# Записываем результаты в выходной файл output.txt\n",
    "with open('output.txt', 'w', encoding='utf-8') as output_file:\n",
    "    for user in users_online_for_an_hour:\n",
    "        output_file.write(f\"{user}\\n\")\n",
    "\n",
    "print(\"Содержимое пользователей, которые были в сети не менее часа, записано в output.txt.\")\n",
    "with open('output.txt', 'r', encoding='utf-8') as file:\n",
    "    f = file.readlines()\n",
    "    for line in f:\n",
    "        print(line, end='')"
   ],
   "metadata": {
    "collapsed": false,
    "ExecuteTime": {
     "end_time": "2024-09-06T12:37:46.739785600Z",
     "start_time": "2024-09-06T12:37:46.733298800Z"
    }
   },
   "id": "9b120c520a90a0e8"
  }
 ],
 "metadata": {
  "kernelspec": {
   "display_name": "Python 3",
   "language": "python",
   "name": "python3"
  },
  "language_info": {
   "codemirror_mode": {
    "name": "ipython",
    "version": 2
   },
   "file_extension": ".py",
   "mimetype": "text/x-python",
   "name": "python",
   "nbconvert_exporter": "python",
   "pygments_lexer": "ipython2",
   "version": "2.7.6"
  }
 },
 "nbformat": 4,
 "nbformat_minor": 5
}
