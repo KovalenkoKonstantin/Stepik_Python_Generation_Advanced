{
 "cells": [
  {
   "cell_type": "code",
   "execution_count": 1,
   "id": "initial_id",
   "metadata": {
    "collapsed": true,
    "ExecuteTime": {
     "end_time": "2024-09-04T06:10:25.627007700Z",
     "start_time": "2024-09-04T06:10:25.541074200Z"
    }
   },
   "outputs": [
    {
     "data": {
      "text/plain": "'1.26.4'"
     },
     "execution_count": 1,
     "metadata": {},
     "output_type": "execute_result"
    }
   ],
   "source": [
    "import numpy as np\n",
    "\n",
    "np.__version__"
   ]
  },
  {
   "cell_type": "raw",
   "source": [
    "Когда мы читаем текст из файла с помощью методов read() или readlines() происходит перемещение текущей позиции в конец файла. При использовании метода readline() текущая позиция перемещается на следующую строку файла."
   ],
   "metadata": {
    "collapsed": false
   },
   "id": "f17636ff3b672bf2"
  },
  {
   "cell_type": "raw",
   "source": [
    "При открытии файла текущая позиция всегда равна нулю – указывает на первый символ текста. При прочтении файла до конца с помощью вызова методов read(), readlines() позиция перемещается в конец файла и последующие чтения ничего не дают."
   ],
   "metadata": {
    "collapsed": false
   },
   "id": "3acb4058c3a83833"
  },
  {
   "cell_type": "raw",
   "source": [
    "Вызов методов read(), readlines(), readline() перемещает текущую позицию туда, где завершилось чтение. Для методов read() и readlines() это конец файла, для метода readline() – следующая строка после прочитанной."
   ],
   "metadata": {
    "collapsed": false
   },
   "id": "bc5c8111980c6a51"
  },
  {
   "cell_type": "raw",
   "source": [
    "Текущую позицию обычно называют \"курсор\". "
   ],
   "metadata": {
    "collapsed": false
   },
   "id": "f7d153be8ed34c23"
  },
  {
   "cell_type": "raw",
   "source": [
    "Предположим, у нас есть файл languages.txt. Когда мы его открываем, курсор находится в начале файла, в нулевой позиции"
   ],
   "metadata": {
    "collapsed": false
   },
   "id": "6239be1d29f94741"
  },
  {
   "cell_type": "raw",
   "source": [
    "Если мы считаем две строки с помощью метода readline():"
   ],
   "metadata": {
    "collapsed": false
   },
   "id": "ee7e1f1b6889e114"
  },
  {
   "cell_type": "code",
   "execution_count": 3,
   "outputs": [
    {
     "name": "stdout",
     "output_type": "stream",
     "text": [
      "Python\n",
      "\n",
      "Java\n"
     ]
    }
   ],
   "source": [
    "file = open('languages.txt', 'r', encoding='utf-8')\n",
    "line1 = file.readline()\n",
    "line2 = file.readline()\n",
    "\n",
    "print(line1)\n",
    "print(line2)\n",
    "\n",
    "file.close()"
   ],
   "metadata": {
    "collapsed": false,
    "ExecuteTime": {
     "end_time": "2024-09-06T06:13:36.594518300Z",
     "start_time": "2024-09-06T06:13:36.585856800Z"
    }
   },
   "id": "49aecc2151f65d70"
  },
  {
   "cell_type": "raw",
   "source": [
    "курсор переместится в начало третьей строки:"
   ],
   "metadata": {
    "collapsed": false
   },
   "id": "201192d506eeac61"
  },
  {
   "cell_type": "raw",
   "source": [
    "Чтение всегда происходит слева направо от курсора. Таким образом, если после двух вызовов метода readline() вызвать метод read(), он считает не весь файл, а только оставшиеся строки:"
   ],
   "metadata": {
    "collapsed": false
   },
   "id": "8a4cc5415158533a"
  },
  {
   "cell_type": "code",
   "execution_count": 4,
   "outputs": [
    {
     "name": "stdout",
     "output_type": "stream",
     "text": [
      "Javascript\n",
      "C#\n",
      "C\n",
      "C++\n",
      "PHP\n",
      "R\n",
      "Objective-C\n"
     ]
    }
   ],
   "source": [
    "file = open('languages.txt', 'r', encoding='utf-8')\n",
    "line1 = file.readline()\n",
    "line2 = file.readline()\n",
    "remaining_lines = file.read()  # считывание начинается с 3 строки до конца файла\n",
    "\n",
    "print(remaining_lines)\n",
    "file.close()"
   ],
   "metadata": {
    "collapsed": false,
    "ExecuteTime": {
     "end_time": "2024-09-06T06:13:40.540339700Z",
     "start_time": "2024-09-06T06:13:40.531916Z"
    }
   },
   "id": "90ad12afcc0f6a0f"
  },
  {
   "cell_type": "raw",
   "source": [
    "После того, как мы считали все строки файла, курсор находится в конце."
   ],
   "metadata": {
    "collapsed": false
   },
   "id": "947c0a57906c0a88"
  },
  {
   "cell_type": "raw",
   "source": [
    "После завершения чтения мы больше не можем считать ни одного символа из файла. Все последующие вызовы методов read() или readline() будут приводить к считыванию пустой строки."
   ],
   "metadata": {
    "collapsed": false
   },
   "id": "f964a656ea3e3534"
  },
  {
   "cell_type": "raw",
   "source": [
    "Для повторного чтения данных из файла, можно:\n",
    "\n",
    "переоткрыть файл, тогда курсор снова попадёт в начало;\n",
    "переместить курсор с помощью файлового метода seek()."
   ],
   "metadata": {
    "collapsed": false
   },
   "id": "d141b53750332078"
  },
  {
   "cell_type": "markdown",
   "source": [
    "Файловый метод seek()"
   ],
   "metadata": {
    "collapsed": false
   },
   "id": "d5e55071f04a3bd9"
  },
  {
   "cell_type": "raw",
   "source": [
    "Файловый метод seek() задаёт позицию курсора в байтах от начала файла. Чтобы перевести курсор в самое начало файла необходимо вызвать метод seek(), передав ему в качестве аргумента значение 0."
   ],
   "metadata": {
    "collapsed": false
   },
   "id": "ca992e403bc79418"
  },
  {
   "cell_type": "code",
   "execution_count": 10,
   "outputs": [
    {
     "name": "stdout",
     "output_type": "stream",
     "text": [
      "Python\n",
      "Python\n"
     ]
    }
   ],
   "source": [
    "file = open('languages.txt', 'r', encoding='utf-8')\n",
    "line1 = file.readline()\n",
    "file.seek(0)  # переводим курсор в самое начало\n",
    "line2 = file.readline()\n",
    "\n",
    "print(line1, end='')\n",
    "print(line2, end='')\n",
    "\n",
    "file.close()"
   ],
   "metadata": {
    "collapsed": false,
    "ExecuteTime": {
     "end_time": "2024-09-06T06:16:54.714506600Z",
     "start_time": "2024-09-06T06:16:54.706146400Z"
    }
   },
   "id": "a65061c775acb4ee"
  },
  {
   "cell_type": "raw",
   "source": [
    "Метод seek() не очень полезен при работе с текстовыми файлами, так как не учитывает разделение текста на строки. А вот при работе с файлами в двоичном режиме умение работать с позицией и смещениями очень важно!"
   ],
   "metadata": {
    "collapsed": false
   },
   "id": "633947051157515e"
  },
  {
   "cell_type": "raw",
   "source": [
    "Будьте аккуратны с символами, использующими более 1 байта (кириллица в кодировке utf-8), обращение к \"промежуточному\" байту может вызвать ошибку."
   ],
   "metadata": {
    "collapsed": false
   },
   "id": "ee2400964f7f9700"
  },
  {
   "cell_type": "raw",
   "source": [
    "Если метод seek() устанавливает курсор (текущую позицию), то метод tell() получает ее."
   ],
   "metadata": {
    "collapsed": false
   },
   "id": "61cf7338bfda8099"
  },
  {
   "cell_type": "code",
   "execution_count": 11,
   "outputs": [
    {
     "name": "stdout",
     "output_type": "stream",
     "text": [
      "0\n",
      "8\n"
     ]
    }
   ],
   "source": [
    "file = open('languages.txt', 'r', encoding='utf-8')\n",
    "print(file.tell())\n",
    "line1 = file.readline()\n",
    "print(file.tell())\n",
    "\n",
    "file.close()"
   ],
   "metadata": {
    "collapsed": false,
    "ExecuteTime": {
     "end_time": "2024-09-06T06:17:36.336111800Z",
     "start_time": "2024-09-06T06:17:36.325900900Z"
    }
   },
   "id": "fa1906c10827a0de"
  },
  {
   "cell_type": "raw",
   "source": [
    "В самом начале курсор (текущая позиция) равен нулю, после считывания первой строки, курсор смещается на 8 байт (по байту на каждый из символов 'P', 'y', 't', 'h', 'o', 'n' и два байта на символ перевода строки '\\n')."
   ],
   "metadata": {
    "collapsed": false
   },
   "id": "fa81d3e94b41dcb5"
  },
  {
   "cell_type": "markdown",
   "source": [
    "Менеджер контекста"
   ],
   "metadata": {
    "collapsed": false
   },
   "id": "9cd58f268fc20a31"
  },
  {
   "cell_type": "raw",
   "source": [
    "Как уже сказано, важно своевременно закрывать файлы с помощью метода close(). Закрытие файлов вручную, а также отдача закрытия на откуп среде исполнения, обладают существенным недостатком: если между открытием файла и его закрытием произойдёт ошибка, в лучшем случае файл окажется открыт слишком долго, а в худшем случае часть данных не сохранится.\n",
    "\n",
    "Хочется иметь возможность автоматически закрывать файл сразу после окончания работы с ним и осуществлять закрытие даже при возникновении ошибки. Файловые объекты уже умеют работать в таком режиме, но для этого их нужно использовать как менеджеры контекста."
   ],
   "metadata": {
    "collapsed": false
   },
   "id": "149e481c04d79060"
  },
  {
   "cell_type": "raw",
   "source": [
    "Менеджер контекста — объект, реализующий одноименный протокол. Объекты, реализующие этот протокол, позволяют использовать следующий специальный синтаксис:"
   ],
   "metadata": {
    "collapsed": false
   },
   "id": "3d440079a36953b3"
  },
  {
   "cell_type": "code",
   "execution_count": null,
   "outputs": [],
   "source": [
    "with object as name:\n",
    "# Здесь нам доступен ресурс name.\n",
    "# Это тело with-блока.\n",
    "# А здесь ресурс name уже освобождён, даже если в теле with-блока произошла ошибка."
   ],
   "metadata": {
    "collapsed": false
   },
   "id": "277bf138b8a40d70"
  },
  {
   "cell_type": "raw",
   "source": [
    "Весь код в теле with-блока работает \"в контексте\". Чаще всего контекст подразумевает выделение некоего ресурса, например, файла. По выходу из контекста ресурс автоматически освобождается, даже если при выполнении блока возникло исключение."
   ],
   "metadata": {
    "collapsed": false
   },
   "id": "b35cbd0e615e909b"
  },
  {
   "cell_type": "raw",
   "source": [
    "Как только закончится код, оформленный с отступами в with (аналогичные отступы в циклах или функциях), это будет означать, что контекст закончился, и Python автоматически закроет файл."
   ],
   "metadata": {
    "collapsed": false
   },
   "id": "bebd03a4e18025c4"
  },
  {
   "cell_type": "code",
   "execution_count": 13,
   "outputs": [
    {
     "name": "stdout",
     "output_type": "stream",
     "text": [
      "Python\n",
      "Java\n",
      "Javascript\n",
      "C#\n",
      "C\n",
      "C++\n",
      "PHP\n",
      "R\n",
      "Objective-CФайл закрыт\n"
     ]
    }
   ],
   "source": [
    "file = open('languages.txt', 'r', encoding='utf-8')\n",
    "\n",
    "for line in file:\n",
    "    print(line, end='')\n",
    "\n",
    "file.close()  # ручное закрытие файла\n",
    "\n",
    "print('Файл закрыт')"
   ],
   "metadata": {
    "collapsed": false,
    "ExecuteTime": {
     "end_time": "2024-09-06T06:21:58.166997Z",
     "start_time": "2024-09-06T06:21:58.163775300Z"
    }
   },
   "id": "cf3c32422d0187c8"
  },
  {
   "cell_type": "raw",
   "source": [
    "можно переписать в виде:"
   ],
   "metadata": {
    "collapsed": false
   },
   "id": "965fe5f528a744b2"
  },
  {
   "cell_type": "code",
   "execution_count": 15,
   "outputs": [
    {
     "name": "stdout",
     "output_type": "stream",
     "text": [
      "Python\n",
      "Java\n",
      "Javascript\n",
      "C#\n",
      "C\n",
      "C++\n",
      "PHP\n",
      "R\n",
      "Objective-CФайл закрыт\n"
     ]
    }
   ],
   "source": [
    "with open('languages.txt', 'r', encoding='utf-8') as file:\n",
    "    for line in file:\n",
    "        print(line, end='')\n",
    "        # автоматическое закрытие файла\n",
    "print('Файл закрыт')"
   ],
   "metadata": {
    "collapsed": false,
    "ExecuteTime": {
     "end_time": "2024-09-06T06:22:11.960121400Z",
     "start_time": "2024-09-06T06:22:11.950299900Z"
    }
   },
   "id": "3bb15a376b2ef379"
  },
  {
   "cell_type": "raw",
   "source": [
    "Обратите внимание: при использовании менеджера контекста не требуется использовать метод close()."
   ],
   "metadata": {
    "collapsed": false
   },
   "id": "8220072f81212209"
  },
  {
   "cell_type": "raw",
   "source": [
    "При работе с файлами желательно всегда использовать менеджер контекста. Это делает программу надежнее."
   ],
   "metadata": {
    "collapsed": false
   },
   "id": "f6a91a309dbcbd45"
  },
  {
   "cell_type": "raw",
   "source": [
    "В современных операционных системах файловый ввод-вывод устроен достаточно сложно. Для обеспечения максимального быстродействия чтения и записи в файлы, а также контроля безопасности этого процесса, большинство операционных систем не позволяют программам напрямую работать с диском. Операционная система предоставляет программам специальные объекты — файловые дескрипторы (функция open() возвращает как раз файловый дескриптор). Имея файловый дескриптор, можно записывать и читать данные, не задумываясь о файловой системе. Файловые дескрипторы удобны, но на создание каждого расходуется достаточно большое количество ресурсов. Поэтому у операционной системы есть общий лимит на количество одновременно использующихся файловых дескрипторов. И при этом каждая программа имеет свой собственный лимит. Как только программа исчерпает доступное ей количество дескрипторов, следующая попытка открыть очередной файл закончится с ошибкой. Программисту важно следить за тем, сколько файлов программа открывает в каждый момент и закрывает ли она их своевременно. Используйте менеджер контекста with и жизнь станет проще 😋."
   ],
   "metadata": {
    "collapsed": false
   },
   "id": "7c7e6f543791360e"
  },
  {
   "cell_type": "raw",
   "source": [
    "С помощью менеджера контекста можно работать с несколькими файлами."
   ],
   "metadata": {
    "collapsed": false
   },
   "id": "c97699e856dea2c"
  },
  {
   "cell_type": "code",
   "execution_count": null,
   "outputs": [],
   "source": [
    "with open('input.txt', 'r') as input_file, open('output.txt', 'w') as output_file:\n",
    "# обработка файлов"
   ],
   "metadata": {
    "collapsed": false
   },
   "id": "cbdd4cc1f3f4f8e3"
  },
  {
   "cell_type": "code",
   "execution_count": 17,
   "outputs": [
    {
     "name": "stdout",
     "output_type": "stream",
     "text": [
      "Repeat after me: pop\n",
      "goes!\n",
      "the!\n",
      "weasel!!\n"
     ]
    }
   ],
   "source": [
    "with open('input.txt', encoding='utf-8') as file:\n",
    "    print('Repeat after me:', file.readline().strip())\n",
    "    for line in file:\n",
    "        print(line.strip() + '!')"
   ],
   "metadata": {
    "collapsed": false,
    "ExecuteTime": {
     "end_time": "2024-09-06T06:43:01.109415200Z",
     "start_time": "2024-09-06T06:43:01.105105800Z"
    }
   },
   "id": "481191e3425ee112"
  },
  {
   "cell_type": "raw",
   "source": [
    "Вам доступен текстовый файл text.txt с одной строкой текста. Напишите программу, которая выводит на экран эту строку в обратном порядке.\n",
    "Формат входных данных\n",
    "На вход программе ничего не подается.\n",
    "\n",
    "Формат выходных данных\n",
    "Программа должна вывести строку указанного файла в обратном порядке.\n",
    "\n",
    "Примечание 1. Считайте, что исполняемая программа и указанный файл находятся в одной папке.\n",
    "\n",
    "Примечание 2. Используйте менеджер контекста 🙂."
   ],
   "metadata": {
    "collapsed": false
   },
   "id": "9e87bf3874c95d74"
  },
  {
   "cell_type": "code",
   "execution_count": 22,
   "outputs": [
    {
     "name": "stdout",
     "output_type": "stream",
     "text": [
      ".enil hcae fo rettel tsrif eht tuo tnirp dna txt.egassem_terces daeR\n"
     ]
    }
   ],
   "source": [
    "with open('text.txt', 'r', encoding='utf-8') as file:\n",
    "    text = file.read()\n",
    "    print(text[::-1])"
   ],
   "metadata": {
    "collapsed": false,
    "ExecuteTime": {
     "end_time": "2024-09-06T06:49:42.462283200Z",
     "start_time": "2024-09-06T06:49:42.448473900Z"
    }
   },
   "id": "32e7eb03576fc4c8"
  },
  {
   "cell_type": "raw",
   "source": [
    "Вам доступен текстовый файл data.txt, в котором записаны строки текста. Напишите программу, выводящую все строки данного файла в обратном порядке: сначала последнюю, затем предпоследнюю и т.д.\n",
    "\n",
    "Формат входных данных\n",
    "На вход программе ничего не подается.\n",
    "\n",
    "Формат выходных данных\n",
    "Программа должна вывести строки указанного файла в обратном порядке, каждую на новой строке.\n",
    "\n",
    "Примечание 1. Считайте, что исполняемая программа и указанный файл находятся в одной папке.\n",
    "\n",
    "Примечание 2. Используйте менеджер контекста 🙂.\n",
    "\n",
    "Примечание 3. Получить список всех строк файла можно при помощи метода readlines().\n",
    "\n",
    "Примечание 4. Не забывайте про символ конца строки '\\n'."
   ],
   "metadata": {
    "collapsed": false
   },
   "id": "e0cae8da75f03aee"
  },
  {
   "cell_type": "code",
   "execution_count": 34,
   "outputs": [
    {
     "name": "stdout",
     "output_type": "stream",
     "text": [
      "Complex is better than complicated.\n",
      "Simple is better than complex.\n",
      "Explicit is better than implicit.\n",
      "Beautiful is better than ugly.\n"
     ]
    }
   ],
   "source": [
    "with open('data.txt', 'r') as file:\n",
    "    for line in file.readlines()[::-1]:\n",
    "        print(line, end='')"
   ],
   "metadata": {
    "collapsed": false,
    "ExecuteTime": {
     "end_time": "2024-09-06T06:55:58.906720900Z",
     "start_time": "2024-09-06T06:55:58.904134900Z"
    }
   },
   "id": "a8ef0f73a19f98e1"
  },
  {
   "cell_type": "raw",
   "source": [
    "Вам доступен текстовый файл lines.txt, в котором записаны строки текста. Напишите программу, которая выводит все строки наибольшей длины из файла, не меняя их порядок.\n",
    "\n",
    "Формат входных данных\n",
    "На вход программе ничего не подается.\n",
    "\n",
    "Формат выходных данных\n",
    "Программа должна вывести строки указанного файла, имеющие наибольшую длину, не меняя их порядка.\n",
    "\n",
    "Примечание 1. Считайте, что исполняемая программа и указанный файл находятся в одной папке.\n",
    "\n",
    "Примечание 2. Используйте менеджер контекста 🙂.\n",
    "\n",
    "Примечание 3. Если бы файл lines.txt содержал строки:\n",
    "\n",
    "One\n",
    "Twenty one\n",
    "Two\n",
    "Twenty two\n",
    "то результатом будет:\n",
    "\n",
    "Twenty one\n",
    "Twenty two"
   ],
   "metadata": {
    "collapsed": false
   },
   "id": "ebbb0a59d39a93f3"
  },
  {
   "cell_type": "code",
   "execution_count": 50,
   "outputs": [
    {
     "name": "stdout",
     "output_type": "stream",
     "text": [
      "believe in their..\n",
      "Life is what 12345\n",
      "better than ugly!!\n",
      "Explicit is better\n"
     ]
    }
   ],
   "source": [
    "with open('lines2.txt', 'r') as file:\n",
    "    maximum = 0\n",
    "    for line in file:\n",
    "        maximum = max(maximum, len(line))\n",
    "    # print(maximum)\n",
    "    file.seek(0)\n",
    "    for line in file:\n",
    "        if len(line) == maximum:\n",
    "            print(line, end='')\n",
    "        # print(len(line))"
   ],
   "metadata": {
    "collapsed": false,
    "ExecuteTime": {
     "end_time": "2024-09-06T07:10:34.092790800Z",
     "start_time": "2024-09-06T07:10:34.089627900Z"
    }
   },
   "id": "8dbfdc0af594ebca"
  },
  {
   "cell_type": "code",
   "execution_count": 53,
   "outputs": [
    {
     "name": "stdout",
     "output_type": "stream",
     "text": [
      "believe in their..\n",
      "Life is what 12345\n",
      "better than ugly!!\n",
      "Explicit is better\n"
     ]
    }
   ],
   "source": [
    "with open('lines2.txt', 'r', encoding='utf-8') as file:\n",
    "    lines = file.readlines()\n",
    "    for line in lines:\n",
    "        if len(line) == len(max(lines, key=len)):\n",
    "            print(line.strip())"
   ],
   "metadata": {
    "collapsed": false,
    "ExecuteTime": {
     "end_time": "2024-09-06T07:15:45.751628200Z",
     "start_time": "2024-09-06T07:15:45.748950800Z"
    }
   },
   "id": "232f53ec296fb1e9"
  },
  {
   "cell_type": "raw",
   "source": [
    "Вам доступен текстовый файл numbers.txt, каждая строка которого может содержать одно или несколько целых чисел, разделенных одним или несколькими пробелами.\n",
    "\n",
    "Напишите программу, которая вычисляет сумму чисел в каждой строке и выводит эту сумму на экран (для каждой строки выводится сумма чисел в этой строке).\n",
    "\n",
    "Формат входных данных\n",
    "На вход программе ничего не подается.\n",
    "\n",
    "Формат выходных данных\n",
    "Программа должна вывести сумму чисел в каждой строке.\n",
    "\n",
    "Примечание 1. Если бы файл numbers.txt содержал строки:\n",
    "\n",
    "2 1\n",
    "     3    40\n",
    " 10       7\n",
    "то результатом было бы:\n",
    "\n",
    "3\n",
    "43\n",
    "17"
   ],
   "metadata": {
    "collapsed": false
   },
   "id": "8adeb9189bd7f291"
  },
  {
   "cell_type": "code",
   "execution_count": 63,
   "outputs": [
    {
     "name": "stdout",
     "output_type": "stream",
     "text": [
      "256\n",
      "78\n",
      "114\n",
      "15\n",
      "1089\n"
     ]
    }
   ],
   "source": [
    "with open('numbers2.txt', 'r') as file:\n",
    "    lines = file.readlines()\n",
    "    for line in lines:\n",
    "        print(sum(map(int, line.split())))"
   ],
   "metadata": {
    "collapsed": false,
    "ExecuteTime": {
     "end_time": "2024-09-06T07:26:34.454783700Z",
     "start_time": "2024-09-06T07:26:34.452257400Z"
    }
   },
   "id": "9d3d384cbabee1ef"
  },
  {
   "cell_type": "code",
   "execution_count": 65,
   "outputs": [
    {
     "name": "stdout",
     "output_type": "stream",
     "text": [
      "256\n",
      "78\n",
      "114\n",
      "15\n",
      "1089\n"
     ]
    }
   ],
   "source": [
    "with open('numbers2.txt') as f:\n",
    "    for line in f:\n",
    "        print(sum(map(int, line.split())))"
   ],
   "metadata": {
    "collapsed": false,
    "ExecuteTime": {
     "end_time": "2024-09-06T07:27:30.386128900Z",
     "start_time": "2024-09-06T07:27:30.362906300Z"
    }
   },
   "id": "5c3b333ccffd9c3b"
  },
  {
   "cell_type": "raw",
   "source": [
    "Вам доступен текстовый файл nums.txt. В файле могут быть записаны целые неотрицательные числа и все что угодно. Числом назовем последовательность одной и более цифр, идущих подряд (число всегда неотрицательно).\n",
    "\n",
    "Напишите программу, которая вычисляет сумму всех чисел, записанных в файле.\n",
    "\n",
    "Формат входных данных\n",
    "На вход программе ничего не подается.\n",
    "\n",
    "Формат выходных данных\n",
    "Программа должна вывести сумму всех чисел, записанных в файле.\n",
    "\n",
    "Примечание 1. Если бы файл nums.txt содержал строки:\n",
    "\n",
    " 123   jhjk\n",
    "bhjip456qwerty\n",
    "1x2y3 4 5 6\n",
    "sfsd 0 dfgfd\n",
    "10abc20de30pop5 5 5 5\n",
    "то результатом было бы:\n",
    "\n",
    "680"
   ],
   "metadata": {
    "collapsed": false
   },
   "id": "15b1dcdec108d80e"
  },
  {
   "cell_type": "code",
   "execution_count": 75,
   "outputs": [
    {
     "name": "stdout",
     "output_type": "stream",
     "text": [
      "124410\n"
     ]
    }
   ],
   "source": [
    "import re\n",
    "\n",
    "total_sum = 0\n",
    "with open('nums2.txt', 'r') as file:\n",
    "    lines = file.readlines()\n",
    "    for line in lines:\n",
    "        # Для каждой строки с помощью `re.findall(r'\\d+', line)` мы находим все последовательности цифр (числа) в строке. Регулярное выражение `\\d+` соответствует одной или более цифрам.\n",
    "        numbers = re.findall(r'\\d+', line)\n",
    "        total_sum += sum(int(num) for num in numbers)\n",
    "\n",
    "    print(total_sum)"
   ],
   "metadata": {
    "collapsed": false,
    "ExecuteTime": {
     "end_time": "2024-09-06T07:40:35.226352600Z",
     "start_time": "2024-09-06T07:40:35.220654300Z"
    }
   },
   "id": "e05aea4ea9ba383b"
  },
  {
   "cell_type": "code",
   "execution_count": 76,
   "outputs": [
    {
     "name": "stdout",
     "output_type": "stream",
     "text": [
      "124410\n"
     ]
    }
   ],
   "source": [
    "with open('nums2.txt', encoding='utf-8') as file:\n",
    "    row = ''.join(c if c.isdigit() else ' ' for c in file.read())\n",
    "    print(sum(map(int, row.split())))"
   ],
   "metadata": {
    "collapsed": false,
    "ExecuteTime": {
     "end_time": "2024-09-06T07:42:21.386561Z",
     "start_time": "2024-09-06T07:42:21.380519800Z"
    }
   },
   "id": "a4321b8658fb407d"
  },
  {
   "cell_type": "raw",
   "source": [
    "Вам доступен текстовый файл file.txt, набранный латиницей. Напишите программу, которая выводит количество букв латинского алфавита, слов и строк. Выведите три найденных числа в формате, приведенном в примере.\n",
    "\n",
    "Формат входных данных\n",
    "На вход программе ничего не подается.\n",
    "\n",
    "Формат выходных данных\n",
    "Программа должна вывести три найденных числа в формате, приведенном в примере.\n",
    "\n",
    "Примечание 1. Если бы файл file.txt содержал строки:\n",
    "\n",
    "Beautiful is better than ugly.\n",
    "Explicit is better than implicit.\n",
    "Simple is better than complex.\n",
    "Complex is better than complicated.\n",
    "то результатом было бы:\n",
    "\n",
    "Input file contains:\n",
    "108 letters \n",
    "20 words \n",
    "4 lines \n",
    "Примечание 2. Словом называется последовательность из непробельных символов. Например, строка\n",
    "\n",
    "abc a21 67pop    qwert bo7ok 83456\n",
    "содержит 6 слов: abc, a21, 67pop, qwert, bo7ok, 83456."
   ],
   "metadata": {
    "collapsed": false
   },
   "id": "6f52ba8aee861135"
  },
  {
   "cell_type": "code",
   "execution_count": 115,
   "outputs": [
    {
     "name": "stdout",
     "output_type": "stream",
     "text": [
      "Input file contains:\n",
      "1069 letters\n",
      "229 words\n",
      "12 lines\n"
     ]
    }
   ],
   "source": [
    "with open('file.txt') as file:\n",
    "    row = ''.join(s if s.isascii() else ' ' for s in file.read())\n",
    "    l = row.split()\n",
    "    # print(l)\n",
    "    file.seek(0)\n",
    "    l2 = [symbol for symbol in file.read() if symbol == '\\n']\n",
    "    # print(l2)\n",
    "    file.seek(0)\n",
    "    row = ''.join(s if s.isalpha() else ' ' for s in file.read())\n",
    "    l3 = row.split()\n",
    "    t = ''.join(i for i in l3 if i.isalpha() or i.isdigit())\n",
    "    # print(t)\n",
    "    print('Input file contains:')\n",
    "    print(f'{len(t)} letters')\n",
    "    print(f'{len(l)} words')\n",
    "    print(f'{len(l2) + 1} lines')"
   ],
   "metadata": {
    "collapsed": false,
    "ExecuteTime": {
     "end_time": "2024-09-06T08:27:07.024000300Z",
     "start_time": "2024-09-06T08:27:07.015975900Z"
    }
   },
   "id": "4784b5e42a366988"
  },
  {
   "cell_type": "code",
   "execution_count": null,
   "outputs": [],
   "source": [
    "with open('lines.txt') as f:\n",
    "    txt = f.read()\n",
    "    print('Input file contains:')\n",
    "    print(sum(map(str.isalpha, txt)), 'letters')\n",
    "    print(len(txt.split()), 'words')\n",
    "    print(txt.count('\\n') + 1, 'lines')"
   ],
   "metadata": {
    "collapsed": false
   },
   "id": "8732b6d0976d591c"
  },
  {
   "cell_type": "raw",
   "source": [
    "Вам доступны два текстовых файла first_names.txt и last_names.txt, один с именами, другой с фамилиями.\n",
    "\n",
    "Напишите программу, которая c помощью модуля random создает 3 случайные пары имя + фамилия, а затем выводит их, каждую на отдельной строке.\n",
    "\n",
    "Формат входных данных\n",
    "На вход программе ничего не подается.\n",
    "\n",
    "Формат выходных данных\n",
    "Программа должна вывести текст в формате, приведенном в примере.\n",
    "\n",
    "Примечание 1. Если бы файлы first_names.txt и last_names.txt содержали строки:\n",
    "\n",
    "Aaron\n",
    "Abdul\n",
    "Abe\n",
    "Abel\n",
    "Abraham\n",
    "Albert\n",
    "и\n",
    "\n",
    "Abramson\n",
    "Adamson\n",
    "Adderiy\n",
    "Addington\n",
    "Adrian\n",
    "Albertson\n",
    "Einstein\n",
    "то результатом могло быть:\n",
    "\n",
    "Abdul Albertson\n",
    "Abel Adamson\n",
    "Albert Einstein"
   ],
   "metadata": {
    "collapsed": false
   },
   "id": "5813817816199607"
  },
  {
   "cell_type": "code",
   "execution_count": 123,
   "outputs": [
    {
     "name": "stdout",
     "output_type": "stream",
     "text": [
      "Darwin Townes\n",
      "Cedric Totten\n",
      "Frederick Sutherland\n"
     ]
    }
   ],
   "source": [
    "import random\n",
    "\n",
    "with open('first_names.txt', 'r') as name_file, open('last_names.txt', 'r') as last_file:\n",
    "    # Читаем все строки из файлов и удаляем символы новой строки\n",
    "    first_names = [line.strip() for line in name_file]\n",
    "    last_names = [line.strip() for line in last_file]\n",
    "\n",
    "    for _ in range(3):\n",
    "        print(f'{random.choice(first_names)} {random.choice(last_names)}')"
   ],
   "metadata": {
    "collapsed": false,
    "ExecuteTime": {
     "end_time": "2024-09-06T08:44:48.146427Z",
     "start_time": "2024-09-06T08:44:48.135974400Z"
    }
   },
   "id": "f0e85889396456fc"
  },
  {
   "cell_type": "code",
   "execution_count": null,
   "outputs": [],
   "source": [
    "import random\n",
    "\n",
    "with open('first_names.txt', 'r', encoding='utf-8') as f, open('last_names.txt', 'r', encoding='utf-8') as l:\n",
    "    z, x = f.readlines(), l.readlines()\n",
    "    for i in range(3):\n",
    "        print(random.choice(z).strip(), random.choice(x).strip(), sep=' ')"
   ],
   "metadata": {
    "collapsed": false
   },
   "id": "652cec6d84f2c0e2"
  },
  {
   "cell_type": "raw",
   "source": [
    "Вам доступен текстовый файл population.txt с названиями стран и численностью их населения, разделенными символом табуляции '\\t'.\n",
    "\n",
    "Напишите программу выводящую все страны, название которых начинается с буквы 'G', численность населения которых больше чем 500_000 человек, не меняя их порядок.\n",
    "\n",
    "Формат входных данных\n",
    "На вход программе ничего не подается.\n",
    "\n",
    "Формат выходных данных\n",
    "Программа должна вывести названия стран, удовлетворяющие условиям задачи, каждое на отдельное строке."
   ],
   "metadata": {
    "collapsed": false
   },
   "id": "ae8a1ff98af5025d"
  },
  {
   "cell_type": "code",
   "execution_count": 152,
   "outputs": [
    {
     "name": "stdout",
     "output_type": "stream",
     "text": [
      "Germany\n",
      "Ghana\n",
      "Guatemala\n",
      "Greece\n",
      "Guinea\n",
      "Georgia\n",
      "Guinea-Bissau\n",
      "Gabon\n",
      "Guyana\n"
     ]
    }
   ],
   "source": [
    "with open('population.txt', 'r') as pop:\n",
    "    # Создаем словарь с помощью dictionary comprehension\n",
    "    population_dict = {line.split('\\t')[0]: int(line.split('\\t')[1].strip()) for line in pop if\n",
    "                       int(line.split('\\t')[1].strip()) > 500_000 and line.split('\\t')[0][0].lower() == 'g'}\n",
    "\n",
    "print(*population_dict, sep='\\n')"
   ],
   "metadata": {
    "collapsed": false,
    "ExecuteTime": {
     "end_time": "2024-09-06T09:18:13.185559700Z",
     "start_time": "2024-09-06T09:18:13.178515800Z"
    }
   },
   "id": "89a481c31115b378"
  },
  {
   "cell_type": "code",
   "execution_count": 153,
   "outputs": [
    {
     "name": "stdout",
     "output_type": "stream",
     "text": [
      "Germany\n",
      "Ghana\n",
      "Guatemala\n",
      "Greece\n",
      "Guinea\n",
      "Georgia\n",
      "Guinea-Bissau\n",
      "Gabon\n",
      "Guyana\n"
     ]
    }
   ],
   "source": [
    "with open('population.txt') as f:\n",
    "    for line in f:\n",
    "        n, p = line.split('\\t')\n",
    "        if n.startswith('G') and int(p) > 500_000:\n",
    "            print(n)"
   ],
   "metadata": {
    "collapsed": false,
    "ExecuteTime": {
     "end_time": "2024-09-06T09:19:13.904716700Z",
     "start_time": "2024-09-06T09:19:13.897020200Z"
    }
   },
   "id": "340f4b076d367f94"
  },
  {
   "cell_type": "code",
   "execution_count": 154,
   "outputs": [
    {
     "name": "stdout",
     "output_type": "stream",
     "text": [
      "Germany\n",
      "Ghana\n",
      "Guatemala\n",
      "Greece\n",
      "Guinea\n",
      "Georgia\n",
      "Guinea-Bissau\n",
      "Gabon\n",
      "Guyana\n"
     ]
    }
   ],
   "source": [
    "with open('population.txt', encoding='utf-8') as pop:\n",
    "    spisok = [str(i).rstrip().split() for i in pop.readlines()]\n",
    "    for i in spisok:\n",
    "        if i[0][0] == 'G' and int(i[-1]) > 500_000:\n",
    "            print(i[0])"
   ],
   "metadata": {
    "collapsed": false,
    "ExecuteTime": {
     "end_time": "2024-09-06T09:20:47.434347700Z",
     "start_time": "2024-09-06T09:20:47.427429400Z"
    }
   },
   "id": "7f02af0a5a682a6e"
  },
  {
   "cell_type": "markdown",
   "source": [
    "Вам доступен CSV-файл data.csv, содержащий информацию в csv формате. Напишите функцию read_csv для чтения данных из этого файла. Она должна возвращать список словарей, интерпретируя первую строку как имена ключей, а каждую последующую строку как значения этих ключей.\n",
    "\n",
    "Формат входных данных\n",
    "На вход программе ничего не подается.\n",
    "\n",
    "Формат выходных данных\n",
    "Программа должна содержать реализованную функцию read_csv.\n",
    "\n",
    "Примечание 1. Вызывать функцию read_csv не нужно.\n",
    "\n",
    "Примечание 2. Функция read_csv не должна принимать аргументов. \n",
    "\n",
    "Примечание 4. Считайте, что все ключи и значения по этим ключам в результирующем словаре имеют строковый тип (str).\n",
    "\n",
    "Примечание 6. Если бы файл data.csv содержал информацию\n",
    "\n",
    "name,address,age\n",
    "George,4312 Abbey Road,22\n",
    "John,54 Love Ave,21\n",
    "то вызов функции read_csv() вернул бы список:\n",
    "\n",
    "[{'name': 'George', 'address': '4312 Abbey Road', 'age': '22'}, {'name': 'John', 'address': '54 Love Ave', 'age': '21'}]"
   ],
   "metadata": {
    "collapsed": false
   },
   "id": "af5b1509481e8ff8"
  },
  {
   "cell_type": "code",
   "execution_count": 165,
   "outputs": [
    {
     "data": {
      "text/plain": "[{'policyID': '119736',\n  'statecode': 'FL',\n  'county': 'CLAY COUNTY',\n  'eq_site_limit': '498960.0',\n  'hu_site_limit': '498960.0',\n  'fl_site_limit': '498960.0',\n  'fr_site_limit': '498960.0',\n  'tiv_2011': '498960.0',\n  'tiv_2012': '792148.9',\n  'eq_site_deductible': '0',\n  'hu_site_deductible': '9979.2',\n  'fl_site_deductible': '0',\n  'fr_site_deductible': '0',\n  'point_latitude': '30.102261',\n  'point_longitude': '-81.711777',\n  'line': 'Residential',\n  'construction': 'Masonry',\n  'point_granularity': '1'},\n {'policyID': '448094',\n  'statecode': 'FL',\n  'county': 'CLAY COUNTY',\n  'eq_site_limit': '1322376.3',\n  'hu_site_limit': '1322376.3',\n  'fl_site_limit': '1322376.3',\n  'fr_site_limit': '1322376.3',\n  'tiv_2011': '1322376.3',\n  'tiv_2012': '1438163.57',\n  'eq_site_deductible': '0',\n  'hu_site_deductible': '0.0',\n  'fl_site_deductible': '0',\n  'fr_site_deductible': '0',\n  'point_latitude': '30.063936',\n  'point_longitude': '-81.707664',\n  'line': 'Residential',\n  'construction': 'Masonry',\n  'point_granularity': '3'},\n {'policyID': '206893',\n  'statecode': 'FL',\n  'county': 'CLAY COUNTY',\n  'eq_site_limit': '190724.4',\n  'hu_site_limit': '190724.4',\n  'fl_site_limit': '190724.4',\n  'fr_site_limit': '190724.4',\n  'tiv_2011': '190724.4',\n  'tiv_2012': '192476.78',\n  'eq_site_deductible': '0',\n  'hu_site_deductible': '0.0',\n  'fl_site_deductible': '0',\n  'fr_site_deductible': '0',\n  'point_latitude': '30.089579',\n  'point_longitude': '-81.700455',\n  'line': 'Residential',\n  'construction': 'Wood',\n  'point_granularity': '1'},\n {'policyID': '333743',\n  'statecode': 'FL',\n  'county': 'CLAY COUNTY',\n  'eq_site_limit': '0.0',\n  'hu_site_limit': '79520.76',\n  'fl_site_limit': '0.0',\n  'fr_site_limit': '0.0',\n  'tiv_2011': '79520.76',\n  'tiv_2012': '86854.48',\n  'eq_site_deductible': '0',\n  'hu_site_deductible': '0.0',\n  'fl_site_deductible': '0',\n  'fr_site_deductible': '0',\n  'point_latitude': '30.063236',\n  'point_longitude': '-81.707703',\n  'line': 'Residential',\n  'construction': 'Wood',\n  'point_granularity': '3'},\n {'policyID': '172534',\n  'statecode': 'FL',\n  'county': 'CLAY COUNTY',\n  'eq_site_limit': '0.0',\n  'hu_site_limit': '254281.5',\n  'fl_site_limit': '0.0',\n  'fr_site_limit': '254281.5',\n  'tiv_2011': '254281.5',\n  'tiv_2012': '246144.49',\n  'eq_site_deductible': '0',\n  'hu_site_deductible': '0.0',\n  'fl_site_deductible': '0',\n  'fr_site_deductible': '0',\n  'point_latitude': '30.060614',\n  'point_longitude': '-81.702675',\n  'line': 'Residential',\n  'construction': 'Wood',\n  'point_granularity': '1'},\n {'policyID': '785275',\n  'statecode': 'FL',\n  'county': 'CLAY COUNTY',\n  'eq_site_limit': '0.0',\n  'hu_site_limit': '515035.62',\n  'fl_site_limit': '0.0',\n  'fr_site_limit': '0.0',\n  'tiv_2011': '515035.62',\n  'tiv_2012': '884419.17',\n  'eq_site_deductible': '0',\n  'hu_site_deductible': '0.0',\n  'fl_site_deductible': '0',\n  'fr_site_deductible': '0',\n  'point_latitude': '30.063236',\n  'point_longitude': '-81.707703',\n  'line': 'Residential',\n  'construction': 'Masonry',\n  'point_granularity': '3'},\n {'policyID': '995932',\n  'statecode': 'FL',\n  'county': 'CLAY COUNTY',\n  'eq_site_limit': '0.0',\n  'hu_site_limit': '19260000.0',\n  'fl_site_limit': '0.0',\n  'fr_site_limit': '0.0',\n  'tiv_2011': '19260000.0',\n  'tiv_2012': '20610000.0',\n  'eq_site_deductible': '0',\n  'hu_site_deductible': '0.0',\n  'fl_site_deductible': '0',\n  'fr_site_deductible': '0',\n  'point_latitude': '30.102226',\n  'point_longitude': '-81.713882',\n  'line': 'Commercial',\n  'construction': 'Reinforced Concrete',\n  'point_granularity': '1'},\n {'policyID': '223488',\n  'statecode': 'FL',\n  'county': 'CLAY COUNTY',\n  'eq_site_limit': '328500.0',\n  'hu_site_limit': '328500.0',\n  'fl_site_limit': '328500.0',\n  'fr_site_limit': '328500.0',\n  'tiv_2011': '328500.0',\n  'tiv_2012': '348374.25',\n  'eq_site_deductible': '0',\n  'hu_site_deductible': '16425.0',\n  'fl_site_deductible': '0',\n  'fr_site_deductible': '0',\n  'point_latitude': '30.102217',\n  'point_longitude': '-81.707146',\n  'line': 'Residential',\n  'construction': 'Wood',\n  'point_granularity': '1'},\n {'policyID': '433512',\n  'statecode': 'FL',\n  'county': 'CLAY COUNTY',\n  'eq_site_limit': '315000.0',\n  'hu_site_limit': '315000.0',\n  'fl_site_limit': '315000.0',\n  'fr_site_limit': '315000.0',\n  'tiv_2011': '315000.0',\n  'tiv_2012': '265821.57',\n  'eq_site_deductible': '0',\n  'hu_site_deductible': '15750.0',\n  'fl_site_deductible': '0',\n  'fr_site_deductible': '0',\n  'point_latitude': '30.118774',\n  'point_longitude': '-81.704613',\n  'line': 'Residential',\n  'construction': 'Wood',\n  'point_granularity': '1'},\n {'policyID': '142071',\n  'statecode': 'FL',\n  'county': 'CLAY COUNTY',\n  'eq_site_limit': '705600.0',\n  'hu_site_limit': '705600.0',\n  'fl_site_limit': '705600.0',\n  'fr_site_limit': '705600.0',\n  'tiv_2011': '705600.0',\n  'tiv_2012': '1010842.56',\n  'eq_site_deductible': '14112',\n  'hu_site_deductible': '35280.0',\n  'fl_site_deductible': '0',\n  'fr_site_deductible': '0',\n  'point_latitude': '30.100628',\n  'point_longitude': '-81.703751',\n  'line': 'Residential',\n  'construction': 'Masonry',\n  'point_granularity': '1'}]"
     },
     "execution_count": 165,
     "metadata": {},
     "output_type": "execute_result"
    }
   ],
   "source": [
    "import pandas as pd\n",
    "\n",
    "\n",
    "def read_csv():\n",
    "    # Читаем CSV файл с помощью pandas\n",
    "    df = pd.read_csv('data.csv')\n",
    "\n",
    "    # Преобразуем все значения в строки\n",
    "    df = df.astype(str)\n",
    "\n",
    "    # Преобразуем DataFrame в список словарей\n",
    "    return df.to_dict(orient='records')\n",
    "\n",
    "\n",
    "read_csv()"
   ],
   "metadata": {
    "collapsed": false,
    "ExecuteTime": {
     "end_time": "2024-09-06T09:38:25.780946300Z",
     "start_time": "2024-09-06T09:38:25.771624400Z"
    }
   },
   "id": "b9ad0075ab69f481"
  },
  {
   "cell_type": "code",
   "execution_count": 167,
   "outputs": [
    {
     "data": {
      "text/plain": "[{'policyID': '119736',\n  'statecode': 'FL',\n  'county': 'CLAY COUNTY',\n  'eq_site_limit': '498960',\n  'hu_site_limit': '498960',\n  'fl_site_limit': '498960',\n  'fr_site_limit': '498960',\n  'tiv_2011': '498960',\n  'tiv_2012': '792148.9',\n  'eq_site_deductible': '0',\n  'hu_site_deductible': '9979.2',\n  'fl_site_deductible': '0',\n  'fr_site_deductible': '0',\n  'point_latitude': '30.102261',\n  'point_longitude': '-81.711777',\n  'line': 'Residential',\n  'construction': 'Masonry',\n  'point_granularity': '1'},\n {'policyID': '448094',\n  'statecode': 'FL',\n  'county': 'CLAY COUNTY',\n  'eq_site_limit': '1322376.3',\n  'hu_site_limit': '1322376.3',\n  'fl_site_limit': '1322376.3',\n  'fr_site_limit': '1322376.3',\n  'tiv_2011': '1322376.3',\n  'tiv_2012': '1438163.57',\n  'eq_site_deductible': '0',\n  'hu_site_deductible': '0',\n  'fl_site_deductible': '0',\n  'fr_site_deductible': '0',\n  'point_latitude': '30.063936',\n  'point_longitude': '-81.707664',\n  'line': 'Residential',\n  'construction': 'Masonry',\n  'point_granularity': '3'},\n {'policyID': '206893',\n  'statecode': 'FL',\n  'county': 'CLAY COUNTY',\n  'eq_site_limit': '190724.4',\n  'hu_site_limit': '190724.4',\n  'fl_site_limit': '190724.4',\n  'fr_site_limit': '190724.4',\n  'tiv_2011': '190724.4',\n  'tiv_2012': '192476.78',\n  'eq_site_deductible': '0',\n  'hu_site_deductible': '0',\n  'fl_site_deductible': '0',\n  'fr_site_deductible': '0',\n  'point_latitude': '30.089579',\n  'point_longitude': '-81.700455',\n  'line': 'Residential',\n  'construction': 'Wood',\n  'point_granularity': '1'},\n {'policyID': '333743',\n  'statecode': 'FL',\n  'county': 'CLAY COUNTY',\n  'eq_site_limit': '0',\n  'hu_site_limit': '79520.76',\n  'fl_site_limit': '0',\n  'fr_site_limit': '0',\n  'tiv_2011': '79520.76',\n  'tiv_2012': '86854.48',\n  'eq_site_deductible': '0',\n  'hu_site_deductible': '0',\n  'fl_site_deductible': '0',\n  'fr_site_deductible': '0',\n  'point_latitude': '30.063236',\n  'point_longitude': '-81.707703',\n  'line': 'Residential',\n  'construction': 'Wood',\n  'point_granularity': '3'},\n {'policyID': '172534',\n  'statecode': 'FL',\n  'county': 'CLAY COUNTY',\n  'eq_site_limit': '0',\n  'hu_site_limit': '254281.5',\n  'fl_site_limit': '0',\n  'fr_site_limit': '254281.5',\n  'tiv_2011': '254281.5',\n  'tiv_2012': '246144.49',\n  'eq_site_deductible': '0',\n  'hu_site_deductible': '0',\n  'fl_site_deductible': '0',\n  'fr_site_deductible': '0',\n  'point_latitude': '30.060614',\n  'point_longitude': '-81.702675',\n  'line': 'Residential',\n  'construction': 'Wood',\n  'point_granularity': '1'},\n {'policyID': '785275',\n  'statecode': 'FL',\n  'county': 'CLAY COUNTY',\n  'eq_site_limit': '0',\n  'hu_site_limit': '515035.62',\n  'fl_site_limit': '0',\n  'fr_site_limit': '0',\n  'tiv_2011': '515035.62',\n  'tiv_2012': '884419.17',\n  'eq_site_deductible': '0',\n  'hu_site_deductible': '0',\n  'fl_site_deductible': '0',\n  'fr_site_deductible': '0',\n  'point_latitude': '30.063236',\n  'point_longitude': '-81.707703',\n  'line': 'Residential',\n  'construction': 'Masonry',\n  'point_granularity': '3'},\n {'policyID': '995932',\n  'statecode': 'FL',\n  'county': 'CLAY COUNTY',\n  'eq_site_limit': '0',\n  'hu_site_limit': '19260000',\n  'fl_site_limit': '0',\n  'fr_site_limit': '0',\n  'tiv_2011': '19260000',\n  'tiv_2012': '20610000',\n  'eq_site_deductible': '0',\n  'hu_site_deductible': '0',\n  'fl_site_deductible': '0',\n  'fr_site_deductible': '0',\n  'point_latitude': '30.102226',\n  'point_longitude': '-81.713882',\n  'line': 'Commercial',\n  'construction': 'Reinforced Concrete',\n  'point_granularity': '1'},\n {'policyID': '223488',\n  'statecode': 'FL',\n  'county': 'CLAY COUNTY',\n  'eq_site_limit': '328500',\n  'hu_site_limit': '328500',\n  'fl_site_limit': '328500',\n  'fr_site_limit': '328500',\n  'tiv_2011': '328500',\n  'tiv_2012': '348374.25',\n  'eq_site_deductible': '0',\n  'hu_site_deductible': '16425',\n  'fl_site_deductible': '0',\n  'fr_site_deductible': '0',\n  'point_latitude': '30.102217',\n  'point_longitude': '-81.707146',\n  'line': 'Residential',\n  'construction': 'Wood',\n  'point_granularity': '1'},\n {'policyID': '433512',\n  'statecode': 'FL',\n  'county': 'CLAY COUNTY',\n  'eq_site_limit': '315000',\n  'hu_site_limit': '315000',\n  'fl_site_limit': '315000',\n  'fr_site_limit': '315000',\n  'tiv_2011': '315000',\n  'tiv_2012': '265821.57',\n  'eq_site_deductible': '0',\n  'hu_site_deductible': '15750',\n  'fl_site_deductible': '0',\n  'fr_site_deductible': '0',\n  'point_latitude': '30.118774',\n  'point_longitude': '-81.704613',\n  'line': 'Residential',\n  'construction': 'Wood',\n  'point_granularity': '1'},\n {'policyID': '142071',\n  'statecode': 'FL',\n  'county': 'CLAY COUNTY',\n  'eq_site_limit': '705600',\n  'hu_site_limit': '705600',\n  'fl_site_limit': '705600',\n  'fr_site_limit': '705600',\n  'tiv_2011': '705600',\n  'tiv_2012': '1010842.56',\n  'eq_site_deductible': '14112',\n  'hu_site_deductible': '35280',\n  'fl_site_deductible': '0',\n  'fr_site_deductible': '0',\n  'point_latitude': '30.100628',\n  'point_longitude': '-81.703751',\n  'line': 'Residential',\n  'construction': 'Masonry',\n  'point_granularity': '1'}]"
     },
     "execution_count": 167,
     "metadata": {},
     "output_type": "execute_result"
    }
   ],
   "source": [
    "def read_csv():\n",
    "    # Открываем файл для чтения\n",
    "    with open('data.csv', 'r') as file:\n",
    "        # Считываем ключи из первой строки и убираем лишние пробелы\n",
    "        keys = file.readline().strip().split(',')\n",
    "\n",
    "        # Создаем пустой список для хранения словарей\n",
    "        result = []\n",
    "\n",
    "        # Проходим по остальным строкам файла\n",
    "        for line in file:\n",
    "            # Убираем лишние пробелы и разделяем значения по запятой\n",
    "            values = line.strip().split(',')\n",
    "            # Создаем словарь из ключей и значений\n",
    "            record = dict(zip(keys, values))\n",
    "            # Добавляем словарь в результат\n",
    "            result.append(record)\n",
    "\n",
    "    # Возвращаем заполненный список словарей\n",
    "    return result\n",
    "\n",
    "\n",
    "read_csv()"
   ],
   "metadata": {
    "collapsed": false,
    "ExecuteTime": {
     "end_time": "2024-09-06T09:42:16.345362Z",
     "start_time": "2024-09-06T09:42:16.323339300Z"
    }
   },
   "id": "452acce6fc9799c3"
  }
 ],
 "metadata": {
  "kernelspec": {
   "display_name": "Python 3",
   "language": "python",
   "name": "python3"
  },
  "language_info": {
   "codemirror_mode": {
    "name": "ipython",
    "version": 2
   },
   "file_extension": ".py",
   "mimetype": "text/x-python",
   "name": "python",
   "nbconvert_exporter": "python",
   "pygments_lexer": "ipython2",
   "version": "2.7.6"
  }
 },
 "nbformat": 4,
 "nbformat_minor": 5
}
