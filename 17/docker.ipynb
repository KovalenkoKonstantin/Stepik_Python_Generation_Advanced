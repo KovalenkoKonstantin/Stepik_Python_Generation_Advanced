{
 "cells": [
  {
   "cell_type": "raw",
   "source": [
    "Чтобы запустить Python-скрипт (например, `sapper.py`), который использует библиотеку `turtle`, в контейнере Docker, вам нужно создать Dockerfile, который определяет, как должен быть построен образ. Затем вы можете создать и запустить контейнер из этого образа. Вот шаги, которые вам нужно выполнить:\n",
    "\n",
    "### 1. Убедитесь, что у вас установлен Docker\n",
    "\n",
    "Если у вас еще не установлен Docker, установите его, следуя инструкциям на [официальном сайте Docker](https://www.docker.com/products/docker-desktop).\n",
    "\n",
    "### 2. Создайте Dockerfile\n",
    "\n",
    "Перейдите в свою рабочую директорию `D:\\Git\\Stepik_Python_Generation_Advanced\\17` и создайте файл с именем `Dockerfile` (без расширения). Содержимое Dockerfile должно выглядеть следующим образом:"
   ],
   "metadata": {
    "collapsed": false
   },
   "id": "a0841d13deb96767"
  },
  {
   "cell_type": "markdown",
   "source": [
    "dockerfile\n",
    "# Используем официальный образ Python 3.13\n",
    "FROM python: latest\n",
    "\n",
    "# Устанавливаем необходимые библиотеки\n",
    "# RUN apt-get update && apt-get install -y python3-tk\n",
    "\n",
    "# Устанавливаем рабочую директорию\n",
    "WORKDIR /app\n",
    "\n",
    "# Копируем файл app.py в контейнер\n",
    "COPY simple_application.py .\n",
    "\n",
    "# Указываем команду для запуска приложения\n",
    "CMD [\"python\", \"simple_application.py\"]"
   ],
   "metadata": {
    "collapsed": false
   },
   "id": "7919fbfdea3a86e8"
  },
  {
   "cell_type": "raw",
   "source": [
    "### 3. Создайте образ из Dockerfile\n",
    "\n",
    "Откройте терминал или командную строку и перейдите в директорию с вашим Dockerfile:"
   ],
   "metadata": {
    "collapsed": false
   },
   "id": "586e36950d6ffee7"
  },
  {
   "cell_type": "markdown",
   "source": [
    "bash\n",
    "cd D:\\Git\\Stepik_Python_Generation_Advanced\\17"
   ],
   "metadata": {
    "collapsed": false
   },
   "id": "830ff57e93357642"
  },
  {
   "cell_type": "raw",
   "source": [
    "Затем выполните команду для создания образа:"
   ],
   "metadata": {
    "collapsed": false
   },
   "id": "e3c1503f08159150"
  },
  {
   "cell_type": "markdown",
   "source": [
    "bash\n",
    "docker build -t simple_application-app .\n",
    "\n",
    "- `docker build -t simple_application-app .`: Эта команда создает образ с тегом `simple_application-app` из текущего контекста (обозначенного `.`)"
   ],
   "metadata": {
    "collapsed": false
   },
   "id": "eb47d27676921e4d"
  },
  {
   "cell_type": "raw",
   "source": [
    "### 4. Запустите контейнер\n",
    "\n",
    "Теперь, когда образ создан, вы можете запустить контейнер:"
   ],
   "metadata": {
    "collapsed": false
   },
   "id": "5a73bd249e4a1897"
  },
  {
   "cell_type": "markdown",
   "source": [
    "bash\n",
    "docker run --rm -it --name simple_application-container sapper-app\n",
    "\n",
    "- `docker run --rm -it --name simple_application-container simple_application-app`: Эта команда запускает контейнер из образа `sapper-app`.\n",
    "- `--rm`: автоматически удаляет контейнер после завершения его работы.\n",
    "- `-it`: позволяет вам взаимодействовать с контейнером через терминал (если необходимо).\n",
    "- `--name simple_application-container`: задает имя контейнера."
   ],
   "metadata": {
    "collapsed": false
   },
   "id": "af424b8fff2cc7ef"
  },
  {
   "cell_type": "raw",
   "source": [
    "### 5. Запуск приложения\n",
    "\n",
    "После выполнения команды, контейнер запустит ваш скрипт `simple_application.py`."
   ],
   "metadata": {
    "collapsed": false
   },
   "id": "1b1094178fdcfd1d"
  },
  {
   "cell_type": "raw",
   "source": [
    "Перед загрузкой образа в репозиторий, необходимо его пометить (тегировать). Формат тега следующий:\n",
    "<имя_пользователя>/<название_репозитория>:<тег>"
   ],
   "metadata": {
    "collapsed": false
   },
   "id": "5eb1755ce716fad4"
  },
  {
   "cell_type": "markdown",
   "source": [
    "docker tag simple_application-app kovalenkokonstantin/example:latest"
   ],
   "metadata": {
    "collapsed": false
   },
   "id": "920f6b15e498a6f"
  },
  {
   "cell_type": "raw",
   "source": [
    "После того как ваш образ был помечен, его можно загрузить в Docker Hub с помощью команды:"
   ],
   "metadata": {
    "collapsed": false
   },
   "id": "a6f83054ca008eec"
  },
  {
   "cell_type": "markdown",
   "source": [
    "docker push kovalenkokonstantin/example:latest"
   ],
   "metadata": {
    "collapsed": false
   },
   "id": "bf56d253b4141ae8"
  }
 ],
 "metadata": {
  "kernelspec": {
   "display_name": "Python 3",
   "language": "python",
   "name": "python3"
  },
  "language_info": {
   "codemirror_mode": {
    "name": "ipython",
    "version": 2
   },
   "file_extension": ".py",
   "mimetype": "text/x-python",
   "name": "python",
   "nbconvert_exporter": "python",
   "pygments_lexer": "ipython2",
   "version": "2.7.6"
  }
 },
 "nbformat": 4,
 "nbformat_minor": 5
}
