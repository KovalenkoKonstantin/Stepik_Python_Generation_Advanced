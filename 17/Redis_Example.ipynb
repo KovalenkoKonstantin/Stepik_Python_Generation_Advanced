{
 "cells": [
  {
   "cell_type": "code",
   "execution_count": 2,
   "id": "initial_id",
   "metadata": {
    "collapsed": true,
    "ExecuteTime": {
     "end_time": "2024-09-05T07:20:02.171454700Z",
     "start_time": "2024-09-05T07:20:02.164034600Z"
    }
   },
   "outputs": [
    {
     "name": "stdout",
     "output_type": "stream",
     "text": [
      "bar\n",
      "b'bar'\n"
     ]
    }
   ],
   "source": [
    "import redis\n",
    "\n",
    "# Подключаемся к Redis\n",
    "r = redis.Redis(host='localhost', port=6379, db=0)\n",
    "\n",
    "# Устанавливаем значение\n",
    "r.set('foo', 'bar')\n",
    "\n",
    "# Получаем значение\n",
    "value = r.get('foo')\n",
    "print(value.decode('utf-8'))  # Вывод: bar\n",
    "print(value)"
   ]
  },
  {
   "cell_type": "raw",
   "source": [
    "Команда `SET` используется для установки значения ключа, а `GET` — для получения значения ключа."
   ],
   "metadata": {
    "collapsed": false
   },
   "id": "a1ef0384b0c3334d"
  },
  {
   "cell_type": "code",
   "execution_count": 3,
   "outputs": [
    {
     "name": "stdout",
     "output_type": "stream",
     "text": [
      "Hello, Redis!\n"
     ]
    }
   ],
   "source": [
    "import redis\n",
    "\n",
    "# Подключаемся к Redis\n",
    "r = redis.Redis(host='localhost', port=6379, db=0)\n",
    "\n",
    "# Устанавливаем значение\n",
    "r.set('my_key', 'Hello, Redis!')\n",
    "\n",
    "# Получаем значение\n",
    "value = r.get('my_key')\n",
    "print(value.decode('utf-8'))  # Вывод: Hello, Redis!"
   ],
   "metadata": {
    "collapsed": false,
    "ExecuteTime": {
     "end_time": "2024-09-05T07:30:53.481914100Z",
     "start_time": "2024-09-05T07:30:53.473936600Z"
    }
   },
   "id": "bc0585b00eb77d30"
  },
  {
   "cell_type": "raw",
   "source": [
    "Команда `DEL` используется для удаления ключа."
   ],
   "metadata": {
    "collapsed": false
   },
   "id": "9865e17bc55cde75"
  },
  {
   "cell_type": "code",
   "execution_count": 4,
   "outputs": [
    {
     "name": "stdout",
     "output_type": "stream",
     "text": [
      "None\n"
     ]
    }
   ],
   "source": [
    "# Удаляем ключ\n",
    "r.delete('my_key')\n",
    "\n",
    "# Проверяем, существует ли ключ\n",
    "value = r.get('my_key')\n",
    "print(value)  # Вывод: None"
   ],
   "metadata": {
    "collapsed": false,
    "ExecuteTime": {
     "end_time": "2024-09-05T07:31:25.591706700Z",
     "start_time": "2024-09-05T07:31:25.583690200Z"
    }
   },
   "id": "4ac22bdaa649b027"
  },
  {
   "cell_type": "raw",
   "source": [
    "Команда `EXISTS` проверяет, существует ли ключ."
   ],
   "metadata": {
    "collapsed": false
   },
   "id": "bdd1c61d43f4a0ab"
  },
  {
   "cell_type": "code",
   "execution_count": 5,
   "outputs": [
    {
     "name": "stdout",
     "output_type": "stream",
     "text": [
      "0\n"
     ]
    }
   ],
   "source": [
    "# Проверяем существование ключа\n",
    "exists = r.exists('my_key')\n",
    "print(exists)  # Вывод: 0 (False), так как ключ был удален"
   ],
   "metadata": {
    "collapsed": false,
    "ExecuteTime": {
     "end_time": "2024-09-05T07:31:42.384773400Z",
     "start_time": "2024-09-05T07:31:42.375276100Z"
    }
   },
   "id": "a205a2df2145d64"
  },
  {
   "cell_type": "raw",
   "source": [
    "Команда `EXPIRE` устанавливает время жизни ключа (TTL — Time To Live)."
   ],
   "metadata": {
    "collapsed": false
   },
   "id": "4cd110680a13637f"
  },
  {
   "cell_type": "code",
   "execution_count": 10,
   "outputs": [
    {
     "name": "stdout",
     "output_type": "stream",
     "text": [
      "I will expire soon!\n",
      "None\n"
     ]
    }
   ],
   "source": [
    "# Устанавливаем значение и время жизни\n",
    "r.set('temp_key', 'I will expire soon!')\n",
    "r.expire('temp_key', 5)  # Время жизни 5 секунд\n",
    "\n",
    "value = r.get('temp_key')\n",
    "print(value.decode('utf-8'))\n",
    "\n",
    "# Ждем 6 секунд\n",
    "import time\n",
    "time.sleep(6)\n",
    "\n",
    "# Проверяем значение\n",
    "value = r.get('temp_key')\n",
    "print(value)  # Вывод: None, так как ключ истек"
   ],
   "metadata": {
    "collapsed": false,
    "ExecuteTime": {
     "end_time": "2024-09-05T07:33:44.105159900Z",
     "start_time": "2024-09-05T07:33:38.093882400Z"
    }
   },
   "id": "7992e17746d3eb5c"
  },
  {
   "cell_type": "raw",
   "source": [
    "Команды `LPUSH` и `LRANGE` используются для работы с списками. `LPUSH` добавляет элементы в начало списка, а `LRANGE` извлекает элементы из списка."
   ],
   "metadata": {
    "collapsed": false
   },
   "id": "68ce8264ca903b42"
  },
  {
   "cell_type": "code",
   "execution_count": 11,
   "outputs": [
    {
     "name": "stdout",
     "output_type": "stream",
     "text": [
      "['second', 'first']\n"
     ]
    }
   ],
   "source": [
    "# Добавляем элементы в список\n",
    "r.lpush('my_list', 'first')\n",
    "r.lpush('my_list', 'second')\n",
    "\n",
    "# Получаем элементы списка\n",
    "items = r.lrange('my_list', 0, -1)  # 0 — начальный индекс, -1 — до конца\n",
    "print([item.decode('utf-8') for item in items])  # Вывод: ['second', 'first']"
   ],
   "metadata": {
    "collapsed": false,
    "ExecuteTime": {
     "end_time": "2024-09-05T07:34:24.645644800Z",
     "start_time": "2024-09-05T07:34:24.637047300Z"
    }
   },
   "id": "601c43f14db8ab9d"
  },
  {
   "cell_type": "raw",
   "source": [
    "Команды `SADD` и `SMEMBERS` используются для работы с множествами. `SADD` добавляет элементы во множество, а `SMEMBERS` получает все элементы множества."
   ],
   "metadata": {
    "collapsed": false
   },
   "id": "2359469663fe40be"
  },
  {
   "cell_type": "code",
   "execution_count": 14,
   "outputs": [
    {
     "name": "stdout",
     "output_type": "stream",
     "text": [
      "['apple', 'banana']\n",
      "apple banana\n"
     ]
    }
   ],
   "source": [
    "# Добавляем элементы во множество\n",
    "r.sadd('my_set', 'apple')\n",
    "r.sadd('my_set', 'banana')\n",
    "\n",
    "# Получаем элементы множества\n",
    "members = r.smembers('my_set')\n",
    "print([member.decode('utf-8') for member in members])  # Вывод: ['apple', 'banana']\n",
    "print(*[member.decode('utf-8') for member in members])  # Вывод: apple banana"
   ],
   "metadata": {
    "collapsed": false,
    "ExecuteTime": {
     "end_time": "2024-09-05T07:35:55.740210100Z",
     "start_time": "2024-09-05T07:35:55.733845Z"
    }
   },
   "id": "fea2b7484b99e553"
  },
  {
   "cell_type": "raw",
   "source": [
    "Команды `HSET` и `HGET` используются для работы с хешами. `HSET` добавляет поле и значение в хеш, а `HGET` получает значение по заданному полю."
   ],
   "metadata": {
    "collapsed": false
   },
   "id": "60347e9b460e4c37"
  },
  {
   "cell_type": "code",
   "execution_count": 15,
   "outputs": [
    {
     "name": "stdout",
     "output_type": "stream",
     "text": [
      "value1\n"
     ]
    }
   ],
   "source": [
    "# Устанавливаем значения в хеш\n",
    "r.hset('my_hash', 'field1', 'value1')\n",
    "r.hset('my_hash', 'field2', 'value2')\n",
    "\n",
    "# Получаем значение из хеша\n",
    "value = r.hget('my_hash', 'field1')\n",
    "print(value.decode('utf-8'))  # Вывод: value1"
   ],
   "metadata": {
    "collapsed": false,
    "ExecuteTime": {
     "end_time": "2024-09-05T07:36:34.355705700Z",
     "start_time": "2024-09-05T07:36:34.347214Z"
    }
   },
   "id": "97a118c042d1cc1e"
  },
  {
   "cell_type": "raw",
   "source": [
    "Команды `ZADD` и `ZRANGE` используются для работы с отсортированными множествами. `ZADD` добавляет элемент с указанным числом, а `ZRANGE` извлекает элементы."
   ],
   "metadata": {
    "collapsed": false
   },
   "id": "c52281900f749731"
  },
  {
   "cell_type": "code",
   "execution_count": 16,
   "outputs": [
    {
     "name": "stdout",
     "output_type": "stream",
     "text": [
      "[('a', 1.0), ('b', 2.0), ('c', 3.0)]\n"
     ]
    }
   ],
   "source": [
    "# Добавляем элементы в отсортированное множество\n",
    "r.zadd('my_sorted_set', {'a': 1, 'b': 2, 'c': 3})\n",
    "\n",
    "# Получаем элементы в отсортированном порядке\n",
    "sorted_members = r.zrange('my_sorted_set', 0, -1, withscores=True)\n",
    "print([(member.decode('utf-8'), score) for member, score in sorted_members])\n",
    "# Вывод: [('a', 1.0), ('b', 2.0), ('c', 3.0)]"
   ],
   "metadata": {
    "collapsed": false,
    "ExecuteTime": {
     "end_time": "2024-09-05T07:37:14.229926900Z",
     "start_time": "2024-09-05T07:37:14.219364900Z"
    }
   },
   "id": "b61363c07955f5b0"
  },
  {
   "cell_type": "code",
   "execution_count": null,
   "outputs": [],
   "source": [],
   "metadata": {
    "collapsed": false
   },
   "id": "8b25cfd6bd2f7690"
  }
 ],
 "metadata": {
  "kernelspec": {
   "display_name": "Python 3",
   "language": "python",
   "name": "python3"
  },
  "language_info": {
   "codemirror_mode": {
    "name": "ipython",
    "version": 2
   },
   "file_extension": ".py",
   "mimetype": "text/x-python",
   "name": "python",
   "nbconvert_exporter": "python",
   "pygments_lexer": "ipython2",
   "version": "2.7.6"
  }
 },
 "nbformat": 4,
 "nbformat_minor": 5
}
