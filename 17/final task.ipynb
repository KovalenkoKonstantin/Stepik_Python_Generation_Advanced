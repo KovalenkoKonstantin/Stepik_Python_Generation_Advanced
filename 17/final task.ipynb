{
 "cells": [
  {
   "cell_type": "raw",
   "source": [
    "На вход программе подается строка текста с именем текстового файла. Напишите программу для вывода на экран количества строк данного файла.\n",
    "\n",
    "Формат входных данных\n",
    "На вход программе подается строка текста, содержащая имя существующего текстового файла.\n",
    "\n",
    "Формат выходных данных\n",
    "Программа должна вывести количество строк файла.\n",
    "\n",
    "Примечание. Считайте, что исполняемая программа и указанный файл находятся в одной папке."
   ],
   "metadata": {
    "collapsed": false
   },
   "id": "cce0862f91e09860"
  },
  {
   "cell_type": "code",
   "execution_count": 10,
   "outputs": [
    {
     "name": "stdout",
     "output_type": "stream",
     "text": [
      "12\n"
     ]
    }
   ],
   "source": [
    "# s = input()\n",
    "s = 'logfile.txt'\n",
    "    \n",
    "with open(s, 'r', encoding='utf-8') as f:\n",
    "    txt = f.read()\n",
    "    if len(txt) == 0:\n",
    "        print(0)\n",
    "    else:\n",
    "        print(txt.count('\\n') + 1)"
   ],
   "metadata": {
    "collapsed": false,
    "ExecuteTime": {
     "end_time": "2024-09-06T12:52:36.591553900Z",
     "start_time": "2024-09-06T12:52:36.587815600Z"
    }
   },
   "id": "dd96a5b0f8000166"
  },
  {
   "cell_type": "code",
   "execution_count": null,
   "outputs": [],
   "source": [
    "n_lines = 0\n",
    "with open(input()) as f:\n",
    "    for s in f:\n",
    "        n_lines += 1\n",
    "print(n_lines)"
   ],
   "metadata": {
    "collapsed": false
   },
   "id": "78915f8c86c7ad60"
  },
  {
   "cell_type": "markdown",
   "source": [
    "Вам доступен текстовый файл ledger.txt с данными о продажах фирмы за месяц. На каждой строке файла указано, сколько клиент заплатил за товар, в долларах (целое число):\n",
    "\n",
    "$47\n",
    "$100\n",
    "$60\n",
    "$12\n",
    "$8\n",
    "...\n",
    "Напишите программу для подсчета суммарной месячной выручки фирмы. \n",
    "\n",
    "Формат входных данных\n",
    "На вход программе ничего не подается.\n",
    "\n",
    "Формат выходных данных\n",
    "Программа должна вывести выручку фирмы (сумму всех чисел из файла) в соответствии с примером ниже.\n",
    "\n",
    "Примечание 1. Считайте, что исполняемая программа и указанный файл находятся в одной папке.\n",
    "\n",
    "Примечание 2. Если бы файл ledger.txt содержал строки:\n",
    "\n",
    "$37\n",
    "$44\n",
    "$19\n",
    "то результатом будет:\n",
    "\n",
    "$100"
   ],
   "metadata": {
    "collapsed": false
   },
   "id": "1d41d6b853973794"
  },
  {
   "cell_type": "code",
   "execution_count": 55,
   "outputs": [
    {
     "name": "stdout",
     "output_type": "stream",
     "text": [
      "$26127\n"
     ]
    }
   ],
   "source": [
    "with open('ledger.txt', 'r', encoding='utf-8') as f:\n",
    "    txt = f.readlines()\n",
    "    # print(txt)\n",
    "    l = []\n",
    "    for line in txt:\n",
    "        # print(int(line.strip('$')))\n",
    "        x = int(line.strip('$'))\n",
    "        l.append(x)\n",
    "    # print(l)\n",
    "    print(f'${sum(l)}')\n"
   ],
   "metadata": {
    "collapsed": false,
    "ExecuteTime": {
     "end_time": "2024-09-06T13:17:18.002700200Z",
     "start_time": "2024-09-06T13:17:17.995299100Z"
    }
   },
   "id": "5827ce4020106adf"
  },
  {
   "cell_type": "markdown",
   "source": [
    "Вам доступен текстовый файл grades.txt, содержащий оценки студента за три теста в каждом из триместров. Строки файла имеют вид: фамилия оценка_1 оценка_2 оценка_3.\n",
    "\n",
    "Напишите программу для подсчета количества студентов, сдавших все три теста. Тест считается сданным, если количество баллов по нему не меньше \n",
    "65.\n",
    "\n",
    "Формат входных данных\n",
    "На вход программе ничего не подается.\n",
    "\n",
    "Формат выходных данных\n",
    "Программа должна вывести количество студентов, сдавших все три теста.\n",
    "\n",
    "Примечание 1. Считайте, что исполняемая программа и указанный файл находятся в одной папке.\n",
    "\n",
    "Примечание 2. Если бы файл grades.txt содержал строки:\n",
    "\n",
    "Washington 83 77 54\n",
    "Adams 86 69 90\n",
    "Jacobson 50 49 71\n",
    "MacDonald 100 99 100\n",
    "Berrington 66 67 64\n",
    "то результатом будет:\n",
    "\n",
    "2"
   ],
   "metadata": {
    "collapsed": false
   },
   "id": "bc23de2ec14742ef"
  },
  {
   "cell_type": "code",
   "execution_count": 70,
   "outputs": [
    {
     "name": "stdout",
     "output_type": "stream",
     "text": [
      "19\n"
     ]
    }
   ],
   "source": [
    "# Открываем файл grades.txt для чтения\n",
    "with open('grades.txt', 'r', encoding='utf-8') as file:\n",
    "    lines = file.readlines()  # Читаем все строки из файла\n",
    "\n",
    "# Переменная для подсчета студентов, сдавших все тесты\n",
    "pass_count = 0\n",
    "\n",
    "# Обрабатываем каждую строку в файле\n",
    "for line in lines:\n",
    "    data = line.strip().split()  # Разделяем строку на части\n",
    "    name = data[0]  # Имя студента\n",
    "    grades = list(map(int, data[1:]))  # Преобразуем оценки в целые числа\n",
    "\n",
    "    # Проверяем, сдал ли студент все три теста\n",
    "    if all(grade >= 65 for grade in grades):\n",
    "        pass_count += 1  # Увеличиваем счетчик\n",
    "\n",
    "# Выводим результат\n",
    "print(pass_count)\n"
   ],
   "metadata": {
    "collapsed": false,
    "ExecuteTime": {
     "end_time": "2024-09-06T13:30:56.058851200Z",
     "start_time": "2024-09-06T13:30:56.048821Z"
    }
   },
   "id": "aa3c69ae97441c01"
  },
  {
   "cell_type": "code",
   "execution_count": 71,
   "outputs": [
    {
     "name": "stdout",
     "output_type": "stream",
     "text": [
      "19\n"
     ]
    }
   ],
   "source": [
    "with open('grades.txt') as f:\n",
    "    print(sum(1 for i in f.readlines() if all([int(j) >= 65 for j in i.split(' ')[1:]])))"
   ],
   "metadata": {
    "collapsed": false,
    "ExecuteTime": {
     "end_time": "2024-09-06T13:31:22.537985700Z",
     "start_time": "2024-09-06T13:31:22.534196600Z"
    }
   },
   "id": "e9fb0c74db26ed10"
  },
  {
   "cell_type": "markdown",
   "source": [
    "Вам доступен текстовый файл words.txt со словами, разделенными пробелом. Напишите программу, которая находит и выводит самые длинные слова этого файла, не меняя порядка их следования.\n",
    "\n",
    "Формат входных данных\n",
    "На вход программе ничего не подается.\n",
    "\n",
    "Формат выходных данных\n",
    "Программа должна вывести самые длинные слова файла words.txt, каждое с новой строки, не меняя их порядка следования.\n",
    "\n",
    "Примечание 1. Считайте, что исполняемая программа и указанный файл находятся в одной папке.\n",
    "\n",
    "Примечание 2. Словом считайте любую группу символов без пробелов, даже если она включает цифры или знаки препинания.\n",
    "\n",
    "Примечание 3. Если бы файл words.txt содержал строки:\n",
    "\n",
    "there are many different holidays on the first of january we celebrate new year on the seventh of january and the twenty-fifth of december we have christmas the twenty-third of february is the day of the defenders of the motherland or the army day then comes easter and radonitsa the first of may is the labour day the ninth of may is victory day the third of july is independence day then comes the seventh of november the day of the october revolution and so on\n",
    "то результатом будет:\n",
    "\n",
    "twenty-fifth\n",
    "twenty-third\n",
    "independence"
   ],
   "metadata": {
    "collapsed": false
   },
   "id": "978469097a3db3ba"
  },
  {
   "cell_type": "code",
   "execution_count": 72,
   "outputs": [
    {
     "name": "stdout",
     "output_type": "stream",
     "text": [
      "responsibility\n",
      "administration\n",
      "recommendation\n",
      "transportation\n"
     ]
    }
   ],
   "source": [
    "# Открываем файл words.txt для чтения\n",
    "with open('words.txt', 'r', encoding='utf-8') as file:\n",
    "    content = file.read()  # Читаем содержимое файла\n",
    "\n",
    "# Разделяем текст на слова\n",
    "words = content.split()\n",
    "\n",
    "# Находим максимальную длину слова\n",
    "max_length = max(len(word) for word in words)\n",
    "\n",
    "# Находим все слова максимальной длины\n",
    "longest_words = [word for word in words if len(word) == max_length]\n",
    "\n",
    "# Выводим самые длинные слова в порядке их следования\n",
    "for word in longest_words:\n",
    "    print(word)"
   ],
   "metadata": {
    "collapsed": false,
    "ExecuteTime": {
     "end_time": "2024-09-06T13:33:30.662137300Z",
     "start_time": "2024-09-06T13:33:30.653065200Z"
    }
   },
   "id": "7afdd9d8ae69a96"
  },
  {
   "cell_type": "code",
   "execution_count": 73,
   "outputs": [
    {
     "name": "stdout",
     "output_type": "stream",
     "text": [
      "responsibility\n",
      "administration\n",
      "recommendation\n",
      "transportation\n"
     ]
    }
   ],
   "source": [
    "with open('words.txt') as f:\n",
    "    lst = f.read().split()\n",
    "longest = len(max(lst, key=len))\n",
    "print(*filter(lambda x: len(x) == longest, lst), sep='\\n')"
   ],
   "metadata": {
    "collapsed": false,
    "ExecuteTime": {
     "end_time": "2024-09-06T13:33:32.200772700Z",
     "start_time": "2024-09-06T13:33:32.192254700Z"
    }
   },
   "id": "8de6e71edc94431"
  },
  {
   "cell_type": "raw",
   "source": [
    "На вход программе подается строка текста с именем текстового файла. Напишите программу, выводящую на экран последние 10 строк данного файла.\n",
    "\n",
    "Формат входных данных\n",
    "На вход программе подается строка текста с именем существующего текстового файла.\n",
    "\n",
    "Формат выходных данных\n",
    "Программа должна вывести последние 10 строк этого файла.\n",
    "\n",
    "Примечание 1. Считайте, что исполняемая программа и файл находятся в одной папке.\n",
    "\n",
    "Примечание 2. Если количество строк в файле меньше 10, необходимо вывести содержимое файла полностью.\n",
    "\n",
    "Примечание 3. Если бы файл содержал строки:\n",
    "\n",
    "there are many different holidays\n",
    "on the first of january we\n",
    "celebrate new year on the\n",
    "seventh of january and the\n",
    "twenty-fifth of december we\n",
    "have christmas the twenty-third\n",
    "of february is the day of the\n",
    "defenders of the motherland\n",
    "or the army day then comes\n",
    "easter and radonitsa the\n",
    "first of may is the labour\n",
    "day the ninth of may is\n",
    "victory day the third of july\n",
    "is independence day then comes\n",
    "the seventh of november the day\n",
    "of the october revolution and so on\n",
    "то результатом будет:\n",
    "\n",
    "of february is the day of the\n",
    "defenders of the motherland\n",
    "or the army day then comes\n",
    "easter and radonitsa the\n",
    "first of may is the labour\n",
    "day the ninth of may is\n",
    "victory day the third of july\n",
    "is independence day then comes\n",
    "the seventh of november the day\n",
    "of the october revolution and so on\n",
    "Примечание 4. Подумайте над ситуацией, когда файл очень большой и нерационально считывать все его содержимое в память компьютера."
   ],
   "metadata": {
    "collapsed": false
   },
   "id": "114c8670e0377972"
  },
  {
   "cell_type": "code",
   "execution_count": null,
   "outputs": [],
   "source": [
    "def print_last_n_lines(file_name, n=10):\n",
    "    # Открываем файл для чтения\n",
    "    with open(file_name, 'r', encoding='utf-8') as file:\n",
    "        # Создаем очередь фиксированного размера для хранения последних строк\n",
    "        lines = []\n",
    "        \n",
    "        for line in file:\n",
    "            # Добавляем строку в очередь\n",
    "            lines.append(line.rstrip('\\n'))\n",
    "            # Если количество строк превышает n, удаляем самую старую\n",
    "            if len(lines) > n:\n",
    "                lines.pop(0)\n",
    "\n",
    "    # Выводим последние n строк\n",
    "    for line in lines:\n",
    "        print(line)\n",
    "\n",
    "# Считываем имя файла\n",
    "file_name = input().strip()\n",
    "print_last_n_lines(file_name)"
   ],
   "metadata": {
    "collapsed": false
   },
   "id": "ec01a8999cdc3263"
  },
  {
   "cell_type": "code",
   "execution_count": null,
   "outputs": [],
   "source": [
    "with open(input()) as file:\n",
    "    txt = []\n",
    "    for line in file:\n",
    "        txt += [line.strip()]\n",
    "        if len(txt) > 10:\n",
    "            del txt[0]\n",
    "    print(*txt, sep='\\n')"
   ],
   "metadata": {
    "collapsed": false
   },
   "id": "9f394e04029da549"
  },
  {
   "cell_type": "markdown",
   "source": [
    "На вход программе подается строка текста с именем текстового файла. Напишите программу, выводящую на экран содержимое этого файла, но с заменой всех запрещенных слов звездочками * (количество звездочек равно количеству букв в слове).\n",
    "\n",
    "Запрещенные слова, разделенные символом пробела, хранятся в текстовом файле forbidden_words.txt. Гарантируется, что все слова в этом файле записаны в нижнем регистре.\n",
    "\n",
    "Формат входных данных\n",
    "На вход программе подается строка текста с именем существующего текстового файла, в котором необходимо заменить запрещенные слова звездочками.\n",
    "\n",
    "Формат выходных данных\n",
    "Программа должна вывести текст в соответствии с условием задачи.\n",
    "\n",
    "Примечание 1. Ваша программа должна заменить запрещенные слова, где бы они ни встречались, даже если они встречаются в середине другого слова.\n",
    "\n",
    "Примечание 2. Программа должна заменять запрещенные слова независимо от их регистра. Например, если файл forbidden_words.txt содержит запрещенное слово exam, то слова exam, Exam, ExaM, EXAM и подобные должны быть заменены на ****.\n",
    "\n",
    "Примечание 3. Если бы файл forbidden_words.txt содержал слова:\n",
    "\n",
    "hello email python the exam wor is\n",
    "а файл в котором заменяются слова имел бы вид:\n",
    "\n",
    "Hello, world! Python IS the programming language of thE future. My EMAIL is....\n",
    "PYTHON is awesome!!!!\n",
    "то результатом будет:\n",
    "\n",
    "*****, ***ld! ****** ** *** programming language of *** future. My ***** **....\n",
    "****** ** awesome!!!!"
   ],
   "metadata": {
    "collapsed": false
   },
   "id": "f936757d688684e3"
  },
  {
   "cell_type": "code",
   "execution_count": null,
   "outputs": [],
   "source": [
    "import re\n",
    "\n",
    "def load_forbidden_words(filename):\n",
    "    with open(filename, 'r', encoding='utf-8') as f:\n",
    "        forbidden_words = f.read().strip().split()\n",
    "    return forbidden_words\n",
    "\n",
    "def replace_forbidden_words(text, forbidden_words):\n",
    "    # Создаем паттерн для поиска запрещенных слов (независимо от регистра)\n",
    "    pattern = re.compile('|'.join(re.escape(word) for word in forbidden_words), re.IGNORECASE)\n",
    "    \n",
    "    # Функция для замены найденных слов на звездочки\n",
    "    def replace_with_stars(match):\n",
    "        word = match.group(0)  # Слово, так как оно найдено\n",
    "        return '*' * len(word)  # Заменяем на звездочки\n",
    "\n",
    "    # Заменяем запрещенные слова в тексте\n",
    "    result = pattern.sub(replace_with_stars, text)\n",
    "    return result\n",
    "\n",
    "\n",
    "input_filename = input().strip()  # Читаем имя файла с текстом\n",
    "forbidden_words = load_forbidden_words('forbidden_words.txt')  # Загружаем запрещенные слова\n",
    "\n",
    "# Читаем текст из указанного файла\n",
    "with open(input_filename, 'r', encoding='utf-8') as f:\n",
    "    text = f.read()\n",
    "\n",
    "# Заменяем запрещенные слова\n",
    "result_text = replace_forbidden_words(text, forbidden_words)\n",
    "\n",
    "# Выводим результат\n",
    "print(result_text)"
   ],
   "metadata": {
    "collapsed": false
   },
   "id": "440df3326095b37f"
  },
  {
   "cell_type": "code",
   "execution_count": null,
   "outputs": [],
   "source": [
    "import re\n",
    "\n",
    "with open(input()) as inp, open('forbidden_words.txt') as fw:\n",
    "    text, bad = inp.read(), fw.read().split()\n",
    "\n",
    "for i in bad:\n",
    "    text = re.sub(i, '*' * len(i), text, flags=re.IGNORECASE)\n",
    "print(text)"
   ],
   "metadata": {
    "collapsed": false
   },
   "id": "6597b22fb2101210"
  },
  {
   "cell_type": "code",
   "execution_count": 86,
   "outputs": [
    {
     "name": "stdout",
     "output_type": "stream",
     "text": [
      "Help on function compile in module re:\n",
      "\n",
      "compile(pattern, flags=0)\n",
      "    Compile a regular expression pattern, returning a Pattern object.\n"
     ]
    }
   ],
   "source": [
    "import re\n",
    "help(re.compile)"
   ],
   "metadata": {
    "collapsed": false,
    "ExecuteTime": {
     "end_time": "2024-09-09T05:41:50.828027400Z",
     "start_time": "2024-09-09T05:41:50.816245600Z"
    }
   },
   "id": "8a6c4f1b6e30174b"
  },
  {
   "cell_type": "markdown",
   "source": [
    "Транслитерация — передача знаков одной письменности знаками другой письменности, при которой каждый знак (или последовательность знаков) одной системы письма передаётся соответствующим знаком (или последовательностью знаков) другой системы письма.\n",
    "\n",
    "Вам доступен текстовый файл cyrillic.txt, содержащий текст. Напишите программу для транслитерации этого файла, то есть замены кириллических символов на латинские в соответствии с предложенной таблицей. Все остальные символы надо оставить без изменений. Результат транслитерации требуется записать в файл transliteration.txt.\n",
    "\n",
    "Кириллица \tЛатиница\tКириллица\tЛатиница\tКириллица\tЛатиница\n",
    "а\ta\tк\tk\tх\th\n",
    "б\tb\tл\tl\tц\tc\n",
    "в\tv\tм\tm\tч\tch\n",
    "г\tg\tн\tn\tш\tsh\n",
    "д\td\tо\to\tщ\tshh\n",
    "е\te\tп\tp\tъ\t*\n",
    "ё\tjo\tр\tr\tы\ty\n",
    "ж\tzh\tс\ts\tь\t'\n",
    "з\tz\tт\tt\tэ\tje\n",
    "и\ti\tу\tu\tю\tju\n",
    "й\tj\tф\tf\tя\tya\n",
    "Формат входных данных\n",
    "На вход программе ничего не подается.\n",
    "\n",
    "Формат выходных данных\n",
    "Программа должна создать файл с именем transliteration.txt в соответствии с условием задачи.\n",
    "\n",
    "Примечание 1. Считайте, что исполняемая программа и указанные файлы находятся в одной папке.\n",
    "\n",
    "Примечание 2. Обратите внимание, что заглавные буквы должны заменяться на соответствующие им заглавные же буквы, но если транслитерационная последовательность состоит из нескольких символов, то заглавным будет только первый из них: «С» на «S», а «Я» на «Ya».\n",
    "\n",
    "Примечание 3. Если бы файл cyrillic.txt содержал текст:\n",
    "\n",
    "Президент США Дональд Трамп продолжил обмен выпадами с руководством КНДР.\n",
    "We all know why Joe Biden is rushing to falsely pose as the winner, and why his media allies are trying so hard to help him: they don’t want the truth to be exposed.\n",
    "то содержимое файла transliteration.txt будет:\n",
    "\n",
    "Prezident SShA Donal'd Tramp prodolzhil obmen vypadami s rukovodstvom KNDR.\n",
    "We all know why Joe Biden is rushing to falsely pose as the winner, and why his media allies are trying so hard to help him: they don’t want the truth to be exposed."
   ],
   "metadata": {
    "collapsed": false
   },
   "id": "acf249b1d0e7ca30"
  },
  {
   "cell_type": "code",
   "execution_count": null,
   "outputs": [],
   "source": [
    "def transliterate(text):\n",
    "    # Словарь для кириллицы и латиницы\n",
    "    translit_dict = {\n",
    "        'а': 'a', 'б': 'b', 'в': 'v', 'г': 'g', 'д': 'd',\n",
    "        'е': 'e', 'ё': 'jo', 'ж': 'zh', 'з': 'z', 'и': 'i',\n",
    "        'й': 'j', 'к': 'k', 'л': 'l', 'м': 'm', 'н': 'n',\n",
    "        'о': 'o', 'п': 'p', 'р': 'r', 'с': 's', 'т': 't',\n",
    "        'у': 'u', 'ф': 'f', 'х': 'h', 'ц': 'c', 'ч': 'ch',\n",
    "        'ш': 'sh', 'щ': 'shh', 'ъ': '*', 'ы': 'y', 'ь': \"'\",\n",
    "        'э': 'je', 'ю': 'ju', 'я': 'ya'\n",
    "    }\n",
    "\n",
    "    # Добавляем заглавные буквы в словарь\n",
    "    translit_dict.update({\n",
    "        'А': 'A', 'Б': 'B', 'В': 'V', 'Г': 'G', 'Д': 'D',\n",
    "        'Е': 'E', 'Ё': 'Jo', 'Ж': 'Zh', 'З': 'Z', 'И': 'I',\n",
    "        'Й': 'J', 'К': 'K', 'Л': 'L', 'М': 'M', 'Н': 'N',\n",
    "        'О': 'O', 'П': 'P', 'Р': 'R', 'С': 'S', 'Т': 'T',\n",
    "        'У': 'U', 'Ф': 'F', 'Х': 'H', 'Ц': 'C', 'Ч': 'Ch',\n",
    "        'Ш': 'Sh', 'Щ': 'Shh', 'Ъ': '*', 'Ы': 'Y', 'Ь': \"'\",\n",
    "        'Э': 'Je', 'Ю': 'Ju', 'Я': 'Ya',\n",
    "    })\n",
    "\n",
    "    # Транслитерация\n",
    "    transliterated_text = ''\n",
    "    for char in text:\n",
    "        transliterated_text += translit_dict.get(char, char)  # если символа нет, добавляем без изменений\n",
    "        return transliterated_text\n",
    "\"\"\" - Метод **.get(key, default)** используются для доступа к элементам словаря translit_dict.\n",
    "translit_dict: Это словарь, где ключами являются символы (русские буквы), а значениями — соответствующие им транслитерированные символы (латинские буквы).\n",
    "char: Это текущий символ, который мы пытаемся транслитерировать.\n",
    "translit_dict.get(char, char) значит следующее:\n",
    "Если char присутствует в словаре translit_dict (если это русская буква), метод вернет соответствующее значение из словаря – транслитерированный эквивалент.\n",
    "Если же char отсутствует в словаре (это пробел или пунктуация), метод вернет сам символ char (то есть останется без изменений). \"\"\"\n",
    "\n",
    "# Считываем содержимое файла cyrillic.txt\n",
    "with open('cyrillic.txt', 'r', encoding='utf-8') as infile:\n",
    "    text = infile.read()\n",
    "\n",
    "# Транслитерируем текст\n",
    "transliterated_text = transliterate(text)\n",
    "\n",
    "# Записываем результат в файл transliteration.txt\n",
    "with open('transliteration.txt', 'w', encoding='utf-8') as outfile:\n",
    "    outfile.write(transliterated_text)"
   ],
   "metadata": {
    "collapsed": false
   },
   "id": "ff68a3f59a09e489"
  },
  {
   "cell_type": "code",
   "execution_count": null,
   "outputs": [],
   "source": [
    "# Берем словарь Дарьи Борзовой\n",
    "d = {\n",
    "    'а': 'a', 'к': 'k', 'х': 'h', 'б': 'b', 'л': 'l', 'ц': 'c', 'в': 'v', 'м': 'm', 'ч': 'ch',\n",
    "    'г': 'g', 'н': 'n', 'ш': 'sh', 'д': 'd', 'о': 'o', 'щ': 'shh', 'е': 'e', 'п': 'p', 'ъ': '*',\n",
    "    'ё': 'jo', 'р': 'r', 'ы': 'y', 'ж': 'zh', 'с': 's', 'ь': \"'\", 'з': 'z', 'т': 't', 'э': 'je',\n",
    "    'и': 'i', 'у': 'u', 'ю': 'ju', 'й': 'j', 'ф': 'f', 'я': 'ya'\n",
    "    }\n",
    "\n",
    "# Добавляем заглавные буквы\n",
    "d.update({k.upper(): (v[0].upper() + v[1:]) for k, v in d.items()})\n",
    "\n",
    "# Вуаля!\n",
    "with open('cyrillic.txt', 'r', encoding='utf-8') as inp, open('transliteration.txt', 'w', encoding='utf-8') as out:\n",
    "    text= inp.read()\n",
    "    print(''.join(map(lambda ch: d.get(ch, ch), text)), file=out)"
   ],
   "metadata": {
    "collapsed": false
   },
   "id": "1d25a28d5f971b79"
  },
  {
   "cell_type": "markdown",
   "source": [
    "При написании собственных функций рекомендуется в комментарии описывать назначение функции, ее параметры и возвращаемое значение. Часто программисты откладывают написание таких комментариев напоследок, а потом и вовсе забывают о них 😂.\n",
    "\n",
    "На вход программе подается строка текста с именем текстового файла, в котором написан код на языке Python. Напишите программу, выводящую на экран имена всех функций, для которых отсутствует поясняющий комментарий. Будем считать, что любая строка, начинающаяся со слова def и пробела, является началом определения функции. Функция содержит комментарий, если первый символ предыдущей строки - #.\n",
    "\n",
    "Формат входных данных\n",
    "На вход программе подается строка текста, содержащая имя существующего текстового файла с кодом на языке Python.\n",
    "\n",
    "Формат выходных данных\n",
    "Программа должна вывести названия всех функций (не меняя порядка их следования в исходном файле), каждое на отдельной строке, для которых отсутствует поясняющий комментарий. Если все функции в файле имеют поясняющий комментарий, то следует вывести: Best Programming Team.\n",
    "\n",
    "Примечание 1. Если бы файл содержал код:\n",
    "\n",
    "def powers(a):\n",
    "    return a, a**2, a**3\n",
    "\n",
    "# функция вычисляет сумму всех переданных чисел\n",
    "def sum_all(*args):\n",
    "    return sum(args)\n",
    "\n",
    "def matrix():\n",
    "    pass\n",
    "\n",
    "# функция возвращает количество переданных аргументов\n",
    "def count_args(*args):\n",
    "    return len(args)\n",
    "\n",
    "def mean(*args):\n",
    "    total = 0.0\n",
    "    count = 0  \n",
    "    for i in args:\n",
    "        if type(i) in (int, float):\n",
    "            total += i\n",
    "            count += 1\n",
    "    if count == 0:\n",
    "        return 0.0\n",
    "    else:\n",
    "        return total / count\n",
    "    \n",
    "def greet(name, *args):\n",
    "    args = (name,) + args\n",
    "    return f'Hello, {\" and \".join(args)}!'\n",
    "\n",
    "# функция вычисляет факториал переданного числа\n",
    "def fact(n):\n",
    "    res = 1\n",
    "    for i in range(1, n + 1):\n",
    "        res *= i\n",
    "    return res\n",
    "то результатом будет:\n",
    "\n",
    "powers\n",
    "matrix\n",
    "mean\n",
    "greet\n",
    "Примечание 2. Гарантируется, что в файле есть хотя бы одна функция при этом вложенных функций в файле нет. "
   ],
   "metadata": {
    "collapsed": false
   },
   "id": "8dd785cacc9a0c78"
  },
  {
   "cell_type": "code",
   "execution_count": null,
   "outputs": [],
   "source": [
    "def find_functions_without_comments(filename):\n",
    "    \"\"\"\n",
    "    Находит функции в файле, для которых отсутствует поясняющий комментарий.\n",
    "    \n",
    "    Параметры:\n",
    "    filename (str): Имя файла с кодом на языке Python.\n",
    "    \n",
    "    Возвращаемое значение:\n",
    "    list: Список имен функций без комментариев.\n",
    "    \"\"\"\n",
    "    functions_without_comments = []\n",
    "    \n",
    "    with open(filename, 'r', encoding='utf-8') as file:\n",
    "        lines = file.readlines()\n",
    "    \n",
    "    for i in range(len(lines)):\n",
    "        line = lines[i].strip()\n",
    "        \n",
    "        # Проверяем, является ли строка определением функции\n",
    "        if line.startswith(\"def \"):\n",
    "            # Проверяем, есть ли предыдущая строка с комментарием\n",
    "            if i == 0 or not lines[i-1].strip().startswith(\"#\"):\n",
    "                # Извлекаем название функции\n",
    "                function_name = line.split(\"(\")[0][4:]  # Получаем имя, удаляя 'def ' и все после '('\n",
    "                functions_without_comments.append(function_name)\n",
    "\n",
    "    return functions_without_comments\n",
    "\n",
    "\n",
    "\n",
    "filename = input().strip()  # Считываем имя файла\n",
    "missing_comments = find_functions_without_comments(filename)\n",
    "\n",
    "if missing_comments:\n",
    "    for func in missing_comments:\n",
    "        print(func)\n",
    "else:\n",
    "    print(\"Best Programming Team\")"
   ],
   "metadata": {
    "collapsed": false
   },
   "id": "e0394e7e5a4ffc36"
  },
  {
   "cell_type": "code",
   "execution_count": null,
   "outputs": [],
   "source": [
    "with open(input(), encoding='utf-8') as inf:\n",
    "\tnot_commented_funcs, preline = [], ''\n",
    "\tfor line in inf:\n",
    "\t\tif not preline.startswith('#') and line.startswith('def '):\n",
    "\t\t\tnot_commented_funcs.append(line[4:line.find('(')])\n",
    "\t\tpreline = line\n",
    "\tprint('\\n'.join(not_commented_funcs) if not_commented_funcs else 'Best Programming Team')"
   ],
   "metadata": {
    "collapsed": false
   },
   "id": "787714e35633d1"
  }
 ],
 "metadata": {
  "kernelspec": {
   "display_name": "Python 3",
   "language": "python",
   "name": "python3"
  },
  "language_info": {
   "codemirror_mode": {
    "name": "ipython",
    "version": 2
   },
   "file_extension": ".py",
   "mimetype": "text/x-python",
   "name": "python",
   "nbconvert_exporter": "python",
   "pygments_lexer": "ipython2",
   "version": "2.7.6"
  }
 },
 "nbformat": 4,
 "nbformat_minor": 5
}
