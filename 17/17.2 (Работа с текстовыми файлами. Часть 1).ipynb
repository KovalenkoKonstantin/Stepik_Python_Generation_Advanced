{
 "cells": [
  {
   "cell_type": "markdown",
   "source": [
    "Работа с файлами в Python"
   ],
   "metadata": {
    "collapsed": false
   },
   "id": "bce4f6c613eb9882"
  },
  {
   "cell_type": "raw",
   "source": [
    "Высокоуровневый язык программирования Python предоставляет своим пользователям массу полезных средств для взаимодействия с файлами. Встроенные функции и методы позволяют создавать файлы, читать из них данные, а также всячески манипулировать их содержимым."
   ],
   "metadata": {
    "collapsed": false
   },
   "id": "58dd2acc8a84955"
  },
  {
   "cell_type": "markdown",
   "source": [
    "Открытие файла"
   ],
   "metadata": {
    "collapsed": false
   },
   "id": "77b3f50bb3f35d77"
  },
  {
   "cell_type": "raw",
   "source": [
    "Для открытия файлов в Python существует функция open(). Она создает файловый объект и связывает его с файлом на диске. Общий формат применения функции open():"
   ],
   "metadata": {
    "collapsed": false
   },
   "id": "3c6eaf9e8490ba42"
  },
  {
   "cell_type": "raw",
   "source": [
    "файловая_переменная = open(имя_файла, режим_доступа)"
   ],
   "metadata": {
    "collapsed": false
   },
   "id": "9b44c28816fa8c12"
  },
  {
   "cell_type": "raw",
   "source": [
    "Здесь\n",
    "\n",
    "файловая переменная – имя переменной, которая ссылается на файловый объект;\n",
    "имя_файла – строковый литерал, задающий имя файла;\n",
    "режим_доступа – строковый литерал, задающий режим доступа (чтение, запись, и т.д.), в котором файл будет открыт."
   ],
   "metadata": {
    "collapsed": false
   },
   "id": "c072beefdebb3a56"
  },
  {
   "cell_type": "raw",
   "source": [
    "Ниже представлены строковые литералы (символы), используемые для задания режима доступа.\n",
    "\n",
    "Стр. литерал\n",
    "\n",
    "Режим\tОписание\n",
    "'r'\t\n",
    "Read (чтение)\n",
    "\n",
    "Открыть файл только для чтения. Такой файл не может быть изменен.\n",
    "'w'\tWrite (запись)\tОткрыть файл для записи. Если файл уже существует, стереть его содержимое.\n",
    "Если файл не существует, он будет создан.\n",
    "'a'\tAppend (добавление)\tОткрыть файл для записи. Данные будут добавлены в конец файла. Если файл не существует, он будет создан.\n",
    "'r+'\tRead + Write\tОткрыть файл для чтения и записи. В этом режиме происходит частичная перезапись содержимого файла.\n",
    "'x'\tCreate (создание)\tСоздать новый файл. Если файл существует, произойдет ошибка."
   ],
   "metadata": {
    "collapsed": false
   },
   "id": "c42c6fdcaa6baf5e"
  },
  {
   "cell_type": "raw",
   "source": [
    "Предположим, файл students.txt содержит данные о студентах, и мы хотим открыть его для чтения.\n",
    "\n",
    "Это можно сделать с помощью строки кода:"
   ],
   "metadata": {
    "collapsed": false
   },
   "id": "45556d5fa4a56fd5"
  },
  {
   "cell_type": "code",
   "execution_count": null,
   "outputs": [],
   "source": [
    "student_file = open('students.txt', 'r')"
   ],
   "metadata": {
    "collapsed": false
   },
   "id": "1f930289a21b1075"
  },
  {
   "cell_type": "raw",
   "source": [
    "По умолчанию режим доступа (второй аргумент функции open()) определен для чтения (литерал 'r'), поэтому файл students.txt можно открыть для чтения так:"
   ],
   "metadata": {
    "collapsed": false
   },
   "id": "ab9e580c1e864d41"
  },
  {
   "cell_type": "code",
   "execution_count": null,
   "outputs": [],
   "source": [
    "student_file = open('students.txt')   # по умолчанию режим доступа для чтения ('r')"
   ],
   "metadata": {
    "collapsed": false
   },
   "id": "59ed3a9e95ccb3de"
  },
  {
   "cell_type": "raw",
   "source": [
    "В результате исполнения этой инструкции будет открыт файл students.txt и переменная student_file будет ссылаться на файловый объект, который можно использовать для чтения данных из файла."
   ],
   "metadata": {
    "collapsed": false
   },
   "id": "ea97f2209c1fb260"
  },
  {
   "cell_type": "raw",
   "source": [
    "Обратите внимание, что в переменную student_file в примере выше не попадает содержимое файла students.txt. Фактически это ссылка на файл, ее еще называют дескриптор файла."
   ],
   "metadata": {
    "collapsed": false
   },
   "id": "9dbf25dadaab53af"
  },
  {
   "cell_type": "raw",
   "source": [
    "Предположим, надо создать файл с именем sales.txt и записать в него данные о продажах. Это можно сделать с помощью строки кода:"
   ],
   "metadata": {
    "collapsed": false
   },
   "id": "3c311ada4d5f92f2"
  },
  {
   "cell_type": "code",
   "execution_count": 2,
   "outputs": [],
   "source": [
    "sales_file = open('sales.txt', 'w')"
   ],
   "metadata": {
    "collapsed": false,
    "ExecuteTime": {
     "end_time": "2024-09-03T07:23:49.600300Z",
     "start_time": "2024-09-03T07:23:49.595787Z"
    }
   },
   "id": "b6409765e1ba2f6b"
  },
  {
   "cell_type": "raw",
   "source": [
    "После исполнения этого кода будет создан файл sales.txt и переменная sales_file будет ссылаться на файловый объект, который можно использовать для записи в него данных."
   ],
   "metadata": {
    "collapsed": false
   },
   "id": "6aff0cd4a8db8616"
  },
  {
   "cell_type": "markdown",
   "source": [
    "Указание места расположения файла"
   ],
   "metadata": {
    "collapsed": false
   },
   "id": "7ca98a33dc48ea3b"
  },
  {
   "cell_type": "raw",
   "source": [
    "Когда в функцию open() передается имя файла без указания пути, интерпретатор Python исходит из предположения, что место расположения файла то же, что у исполняемой программы. Например, программа расположена в папке C:\\Users\\Documents\\Python. Если программа выполняется и исполняет инструкцию:"
   ],
   "metadata": {
    "collapsed": false
   },
   "id": "1ad8c4ffd6a18681"
  },
  {
   "cell_type": "code",
   "execution_count": null,
   "outputs": [],
   "source": [
    "customer_file = open('customers.txt', 'r')"
   ],
   "metadata": {
    "collapsed": false
   },
   "id": "bd46a07c8a64cecc"
  },
  {
   "cell_type": "raw",
   "source": [
    "то файл customers.txt программа станет искать в папке C:\\Users\\Documents\\Python."
   ],
   "metadata": {
    "collapsed": false
   },
   "id": "9c688a0e9628c2d3"
  },
  {
   "cell_type": "raw",
   "source": [
    "Аналогично, если программа выполняется, и она исполняет инструкцию:"
   ],
   "metadata": {
    "collapsed": false
   },
   "id": "614ee0fde49d904c"
  },
  {
   "cell_type": "code",
   "execution_count": null,
   "outputs": [],
   "source": [
    "sales_file = open('sales.txt', 'w')"
   ],
   "metadata": {
    "collapsed": false
   },
   "id": "6d24606a048c7460"
  },
  {
   "cell_type": "raw",
   "source": [
    "то файл sales.txt создается в той же папке."
   ],
   "metadata": {
    "collapsed": false
   },
   "id": "d94d32261578610a"
  },
  {
   "cell_type": "raw",
   "source": [
    "Если имя файла не содержит путь, то используется относительный путь, относительно папки, где находится исполняемая программа."
   ],
   "metadata": {
    "collapsed": false
   },
   "id": "69df802959a7c031"
  },
  {
   "cell_type": "raw",
   "source": [
    "Если требуется открыть файл, расположенный в другом месте, нужно указать путь и имя файла в аргументе, передаваемом в функцию open()."
   ],
   "metadata": {
    "collapsed": false
   },
   "id": "21d3df1cc8330f01"
  },
  {
   "cell_type": "raw",
   "source": [
    "Приведенный ниже код создает файл test.txt в папке C:\\Users\\temp:"
   ],
   "metadata": {
    "collapsed": false
   },
   "id": "577e03248cc9e07f"
  },
  {
   "cell_type": "code",
   "execution_count": null,
   "outputs": [],
   "source": [
    "test_file = open('C:\\\\Users\\\\temp\\\\test.txt', 'w')"
   ],
   "metadata": {
    "collapsed": false
   },
   "id": "1977469b328d2a42"
  },
  {
   "cell_type": "raw",
   "source": [
    "Обратите внимание: символ \\ является специальным символом в Python и его нужно экранировать (\\\\), чтобы интерпретатор Python рассматривал обратную косую черту как обычный символ."
   ],
   "metadata": {
    "collapsed": false
   },
   "id": "5872e4899bcf0fae"
  },
  {
   "cell_type": "raw",
   "source": [
    "Вместо экранирования символов можно использовать сырые строки (raw strings). Для этого следует снабдить строковый литерал префиксом в виде буквы r."
   ],
   "metadata": {
    "collapsed": false
   },
   "id": "9a99fe89aed38183"
  },
  {
   "cell_type": "code",
   "execution_count": null,
   "outputs": [],
   "source": [
    "test_file = open(r'C:\\Users\\temp\\test.txt', 'w')"
   ],
   "metadata": {
    "collapsed": false
   },
   "id": "551dc75808fc12a7"
  },
  {
   "cell_type": "raw",
   "source": [
    "Приведенный выше код создает файл test.txt в папке C:\\Users\\temp. Префикс r указывает на то, что строковый литерал является сырым (неформатированным)."
   ],
   "metadata": {
    "collapsed": false
   },
   "id": "697e40ff0ecd40d7"
  },
  {
   "cell_type": "raw",
   "source": [
    "Механизм сырых строк очень удобен не только при работе с файлами."
   ],
   "metadata": {
    "collapsed": false
   },
   "id": "a6a50ac7ef7e0868"
  },
  {
   "cell_type": "code",
   "execution_count": 3,
   "outputs": [
    {
     "name": "stdout",
     "output_type": "stream",
     "text": [
      "C:\n",
      "ew\text.txt\n"
     ]
    }
   ],
   "source": [
    "path = 'C:\\new\\text.txt'\n",
    "print(path)"
   ],
   "metadata": {
    "collapsed": false,
    "ExecuteTime": {
     "end_time": "2024-09-03T07:27:56.117196500Z",
     "start_time": "2024-09-03T07:27:56.108918100Z"
    }
   },
   "id": "9569ba0fdaca1656"
  },
  {
   "cell_type": "raw",
   "source": [
    "поскольку символы \\n и \\t интерпретируются как перенос строки и табуляция."
   ],
   "metadata": {
    "collapsed": false
   },
   "id": "b891cc19ad4c6519"
  },
  {
   "cell_type": "code",
   "execution_count": 4,
   "outputs": [
    {
     "name": "stdout",
     "output_type": "stream",
     "text": [
      "C:\\new\\text.txt\n"
     ]
    }
   ],
   "source": [
    "path = r'C:\\new\\text.txt'\n",
    "print(path)"
   ],
   "metadata": {
    "collapsed": false,
    "ExecuteTime": {
     "end_time": "2024-09-03T07:28:17.554837500Z",
     "start_time": "2024-09-03T07:28:17.546348400Z"
    }
   },
   "id": "24b10f06bf97fda4"
  },
  {
   "cell_type": "raw",
   "source": [
    "Чтобы сделать работу с файлами универсальнее, в путях файлов в Windows в Python-программах рекомендуется ставить прямой слеш (/). В наших примерах мы так и будем делать:"
   ],
   "metadata": {
    "collapsed": false
   },
   "id": "488401153f464791"
  },
  {
   "cell_type": "code",
   "execution_count": null,
   "outputs": [],
   "source": [
    "file1 = open(r'C:/Users/temp/test.txt')    # используем прямой слеш / (абсолютный путь)\n",
    "file2 = open(r'temp/data.txt')             # используем прямой слеш / (относительный путь)"
   ],
   "metadata": {
    "collapsed": false
   },
   "id": "ac8780777363a46a"
  },
  {
   "cell_type": "markdown",
   "source": [
    "Кодировка"
   ],
   "metadata": {
    "collapsed": false
   },
   "id": "bb43af4ccbd74ee7"
  },
  {
   "cell_type": "raw",
   "source": [
    "Открыть файл, содержащий только латиницу и цифры, можно так:"
   ],
   "metadata": {
    "collapsed": false
   },
   "id": "2784261a8092d6f"
  },
  {
   "cell_type": "code",
   "execution_count": null,
   "outputs": [],
   "source": [
    "file = open('info.txt', 'r')"
   ],
   "metadata": {
    "collapsed": false
   },
   "id": "22114504568769bd"
  },
  {
   "cell_type": "raw",
   "source": [
    "При работе с текстом на русском языке нужно указать кодировку, для этого служит параметр encoding:"
   ],
   "metadata": {
    "collapsed": false
   },
   "id": "278c6f2e1a362ce6"
  },
  {
   "cell_type": "code",
   "execution_count": null,
   "outputs": [],
   "source": [
    "file = open('info.txt', 'r', encoding='utf-8')"
   ],
   "metadata": {
    "collapsed": false
   },
   "id": "a1a5910268c9a87f"
  },
  {
   "cell_type": "raw",
   "source": [
    "Указание кодировки при открытии файла – хороший тон. Рекомендуем придерживаться этого правила."
   ],
   "metadata": {
    "collapsed": false
   },
   "id": "98931e4534c51511"
  },
  {
   "cell_type": "raw",
   "source": [
    "Чтобы получить кодировку открытого файла, используют файловое свойство encoding."
   ],
   "metadata": {
    "collapsed": false
   },
   "id": "85b4fa6564e00f9f"
  },
  {
   "cell_type": "code",
   "execution_count": 5,
   "outputs": [
    {
     "name": "stdout",
     "output_type": "stream",
     "text": [
      "cp1251\n",
      "utf-8\n"
     ]
    }
   ],
   "source": [
    "file1 = open('students.txt', 'w')\n",
    "file2 = open('customers.txt', 'w', encoding='utf-8')\n",
    "\n",
    "print(file1.encoding)\n",
    "print(file2.encoding)\n",
    "\n",
    "file1.close()\n",
    "file2.close()"
   ],
   "metadata": {
    "collapsed": false,
    "ExecuteTime": {
     "end_time": "2024-09-03T07:30:12.500886100Z",
     "start_time": "2024-09-03T07:30:12.488962200Z"
    }
   },
   "id": "e44cbbc25debd0a0"
  },
  {
   "cell_type": "markdown",
   "source": [
    "Закрытие файлов"
   ],
   "metadata": {
    "collapsed": false
   },
   "id": "1a7ebcb221f61b16"
  },
  {
   "cell_type": "raw",
   "source": [
    "После окончания работы с файлом его необходимо закрыть. Для этого есть несколько причин:\n",
    "\n",
    "если файл изменялся, это позволит корректно его сохранить;\n",
    "если открытый файл потребуется другим программам, ваша программа может его блокировать;\n",
    "не стоит держать в памяти лишние, уже не нужные данные;\n",
    "удалить открытый кем-то файл проблематично."
   ],
   "metadata": {
    "collapsed": false
   },
   "id": "2c3fb9dd1bf44ce3"
  },
  {
   "cell_type": "raw",
   "source": [
    "Для закрытия файла используется файловый метод close():"
   ],
   "metadata": {
    "collapsed": false
   },
   "id": "d85520ac38fe03b"
  },
  {
   "cell_type": "code",
   "execution_count": null,
   "outputs": [],
   "source": [
    "file = open('info.txt', 'r')    # открываем файл с именем info.txt для чтения\n",
    "\n",
    "                                # работаем с содержимым файла info.txt\n",
    "\n",
    "file.close()                    # закрываем файл после окончания работы"
   ],
   "metadata": {
    "collapsed": false
   },
   "id": "46e54b0b3e70dc3d"
  },
  {
   "cell_type": "raw",
   "source": [
    "Чтобы проверить открыт файл или закрыт можно использовать файловое свойство (атрибут) closed."
   ],
   "metadata": {
    "collapsed": false
   },
   "id": "5199e914ba65d2fa"
  },
  {
   "cell_type": "code",
   "execution_count": 6,
   "outputs": [
    {
     "name": "stdout",
     "output_type": "stream",
     "text": [
      "True\n",
      "False\n"
     ]
    }
   ],
   "source": [
    "file1 = open('students.txt', 'w')\n",
    "file2 = open('customers.txt', 'w')\n",
    "\n",
    "file1.close()\n",
    "\n",
    "print(file1.closed)\n",
    "print(file2.closed)\n",
    "\n",
    "file2.close()   "
   ],
   "metadata": {
    "collapsed": false,
    "ExecuteTime": {
     "end_time": "2024-09-03T07:32:13.771208800Z",
     "start_time": "2024-09-03T07:32:13.729994200Z"
    }
   },
   "id": "9239642ee2908ac0"
  },
  {
   "cell_type": "raw",
   "source": [
    "Обратите внимание на то, что при вызове метода мы используем скобки: close(), а при вызове свойства (атрибута) скобок нет closed. Методы совершают действия, а свойства возвращают информацию об объекте (подробнее об этом узнаете в курсе по ООП 😉)."
   ],
   "metadata": {
    "collapsed": false
   },
   "id": "b49eb339bdc9ea8"
  },
  {
   "cell_type": "markdown",
   "source": [
    "Чтение содержимого файла"
   ],
   "metadata": {
    "collapsed": false
   },
   "id": "25532225e7186ed0"
  },
  {
   "cell_type": "raw",
   "source": [
    "Как уже сказано, при открытии файла с помощью функции open() в файловую переменную попадает не содержимое файла, а ссылка на файл (дескриптор файла)."
   ],
   "metadata": {
    "collapsed": false
   },
   "id": "ed5a39dbbf05f5b"
  },
  {
   "cell_type": "code",
   "execution_count": 9,
   "outputs": [
    {
     "name": "stdout",
     "output_type": "stream",
     "text": [
      "<_io.TextIOWrapper name='info.txt' mode='w' encoding='utf-8'>\n"
     ]
    }
   ],
   "source": [
    "file = open('info.txt', 'w', encoding='utf-8')    # открываем файл для записи\n",
    "\n",
    "print(file)\n",
    "file.close()"
   ],
   "metadata": {
    "collapsed": false,
    "ExecuteTime": {
     "end_time": "2024-09-03T07:34:30.880182Z",
     "start_time": "2024-09-03T07:34:30.875291Z"
    }
   },
   "id": "ebccfc87bdc2e611"
  },
  {
   "cell_type": "raw",
   "source": [
    "Для чтения содержимого открытого для чтения файла используются три файловых метода:\n",
    "\n",
    "read() – читает все содержимое файла;\n",
    "readline() – читает одну строку из файла;\n",
    "readlines() – читает все содержимое файла и возвращает список строк."
   ],
   "metadata": {
    "collapsed": false
   },
   "id": "c86fa46251aba21a"
  },
  {
   "cell_type": "code",
   "execution_count": 10,
   "outputs": [
    {
     "data": {
      "text/plain": "<_io.TextIOWrapper name='languages.txt' mode='w' encoding='utf-8'>"
     },
     "execution_count": 10,
     "metadata": {},
     "output_type": "execute_result"
    }
   ],
   "source": [
    "open('languages.txt', 'w', encoding='utf-8')"
   ],
   "metadata": {
    "collapsed": false,
    "ExecuteTime": {
     "end_time": "2024-09-03T07:35:42.291955100Z",
     "start_time": "2024-09-03T07:35:42.284560400Z"
    }
   },
   "id": "788d7575e5bf84cd"
  },
  {
   "cell_type": "markdown",
   "source": [
    "Метод read()"
   ],
   "metadata": {
    "collapsed": false
   },
   "id": "309d7c276720ed01"
  },
  {
   "cell_type": "raw",
   "source": [
    "Файловый метод read() считывает все содержимое из файла и возвращает строку, которая может содержать символы перехода на новую строку '\\n'."
   ],
   "metadata": {
    "collapsed": false
   },
   "id": "836e7726eb4839d4"
  },
  {
   "cell_type": "code",
   "execution_count": 11,
   "outputs": [],
   "source": [
    "file = open('languages.txt', 'r', encoding='utf-8')\n",
    "\n",
    "content = file.read()\n",
    "\n",
    "file.close()"
   ],
   "metadata": {
    "collapsed": false,
    "ExecuteTime": {
     "end_time": "2024-09-03T07:36:37.092029200Z",
     "start_time": "2024-09-03T07:36:37.081468700Z"
    }
   },
   "id": "17fc02ca0e39a2ca"
  },
  {
   "cell_type": "raw",
   "source": [
    "считывает содержимое файла languages.txt в переменную content. В переменной content будет содержаться строка 'Python\\nJava\\nJavascript\\nC#\\nC\\nC++\\nPHP\\nR\\nObjective-C'"
   ],
   "metadata": {
    "collapsed": false
   },
   "id": "3e891e0dd390f636"
  },
  {
   "cell_type": "code",
   "execution_count": 12,
   "outputs": [
    {
     "name": "stdout",
     "output_type": "stream",
     "text": [
      "Python\n",
      "Java\n",
      "Javascript\n",
      "C#\n",
      "C\n",
      "C++\n",
      "PHP\n",
      "R\n",
      "Objective-C\n"
     ]
    }
   ],
   "source": [
    "print(content)"
   ],
   "metadata": {
    "collapsed": false,
    "ExecuteTime": {
     "end_time": "2024-09-03T07:36:59.392902900Z",
     "start_time": "2024-09-03T07:36:59.389389600Z"
    }
   },
   "id": "29299ff615d434c7"
  },
  {
   "cell_type": "raw",
   "source": [
    "Таким образом, метод read() считывает все содержимое файла, включая переносы строк:"
   ],
   "metadata": {
    "collapsed": false
   },
   "id": "2337a09c01fc9d5e"
  },
  {
   "cell_type": "raw",
   "source": [
    "Если методу read() передать целочисленный параметр, то будет считано не более заданного количества символов. Например, считывать файл посимвольно можно при помощи метода read(1)."
   ],
   "metadata": {
    "collapsed": false
   },
   "id": "72c56655e6ab92f2"
  },
  {
   "cell_type": "markdown",
   "source": [
    "Метод readline()"
   ],
   "metadata": {
    "collapsed": false
   },
   "id": "8cbf314a127e14e1"
  },
  {
   "cell_type": "raw",
   "source": [
    "Файловый метод readline() считывает одну строку из файла (до символа конца строки '\\n'), при этом возвращается считанная строка вместе с символом '\\n'. Если считать строку не удалось – достигнут конец файла и больше строк в нем нет, возвращается пустая строка."
   ],
   "metadata": {
    "collapsed": false
   },
   "id": "a90882325677fc4c"
  },
  {
   "cell_type": "code",
   "execution_count": 46,
   "outputs": [
    {
     "name": "stdout",
     "output_type": "stream",
     "text": [
      "Python\n"
     ]
    }
   ],
   "source": [
    "file = open('languages.txt', 'r', encoding='utf-8')\n",
    "\n",
    "language = file.readline()\n",
    "print(language)\n",
    "\n",
    "file.close()"
   ],
   "metadata": {
    "collapsed": false,
    "ExecuteTime": {
     "end_time": "2024-09-03T08:07:01.707567600Z",
     "start_time": "2024-09-03T08:07:01.700124600Z"
    }
   },
   "id": "c38b997d9578c7f3"
  },
  {
   "cell_type": "raw",
   "source": [
    "считывает содержимое первой строки файла languages.txt в переменную language. В переменной language будет содержаться строка 'Python\\n'."
   ],
   "metadata": {
    "collapsed": false
   },
   "id": "e8e1eee5b18c65ec"
  },
  {
   "cell_type": "code",
   "execution_count": 14,
   "outputs": [
    {
     "name": "stdout",
     "output_type": "stream",
     "text": [
      "Python\n"
     ]
    }
   ],
   "source": [
    "print(language)"
   ],
   "metadata": {
    "collapsed": false,
    "ExecuteTime": {
     "end_time": "2024-09-03T07:38:28.871994900Z",
     "start_time": "2024-09-03T07:38:28.868492700Z"
    }
   },
   "id": "16f55d11897658eb"
  },
  {
   "cell_type": "raw",
   "source": [
    "Для удаления символа '\\n' из конца считанной строки удобно использовать строковый метод rstrip()."
   ],
   "metadata": {
    "collapsed": false
   },
   "id": "472d40c1e090e575"
  },
  {
   "cell_type": "code",
   "execution_count": 16,
   "outputs": [
    {
     "name": "stdout",
     "output_type": "stream",
     "text": [
      "Python\n"
     ]
    }
   ],
   "source": [
    "line = 'Python\\n'\n",
    "line = line.rstrip()\n",
    "print(line)"
   ],
   "metadata": {
    "collapsed": false,
    "ExecuteTime": {
     "end_time": "2024-09-03T07:39:00.967643400Z",
     "start_time": "2024-09-03T07:39:00.964145200Z"
    }
   },
   "id": "f5b77f2e87e73339"
  },
  {
   "cell_type": "raw",
   "source": [
    "удаляет символ \\n из содержимого строки line, в результате чего в переменной line содержится строка 'Python'."
   ],
   "metadata": {
    "collapsed": false
   },
   "id": "c5f4b897d14a6e0f"
  },
  {
   "cell_type": "raw",
   "source": [
    "Прочитать содержимое всего файла построчно можно двумя способами."
   ],
   "metadata": {
    "collapsed": false
   },
   "id": "db78e903b6120a06"
  },
  {
   "cell_type": "raw",
   "source": [
    "С помощью цикла while:"
   ],
   "metadata": {
    "collapsed": false
   },
   "id": "c8750a9d6eb862e4"
  },
  {
   "cell_type": "code",
   "execution_count": 17,
   "outputs": [
    {
     "name": "stdout",
     "output_type": "stream",
     "text": [
      "Python\n",
      "Java\n",
      "Javascript\n",
      "C#\n",
      "C\n",
      "C++\n",
      "PHP\n",
      "R\n",
      "Objective-C\n"
     ]
    }
   ],
   "source": [
    "file = open('languages.txt', 'r', encoding='utf-8')\n",
    "\n",
    "line = file.readline()         # считываем первую строку\n",
    "\n",
    "while line != '':              # пока не конец файла\n",
    "    print(line.strip())        # обрабатываем считанную строку\n",
    "    line = file.readline()     # читаем новую строку\n",
    "\n",
    "file.close()"
   ],
   "metadata": {
    "collapsed": false,
    "ExecuteTime": {
     "end_time": "2024-09-03T07:39:58.778591500Z",
     "start_time": "2024-09-03T07:39:58.752169900Z"
    }
   },
   "id": "19ff0440ebdd1908"
  },
  {
   "cell_type": "raw",
   "source": [
    "С помощью цикла for (предпочтительный вариант):"
   ],
   "metadata": {
    "collapsed": false
   },
   "id": "c54dd655f6f48883"
  },
  {
   "cell_type": "code",
   "execution_count": 18,
   "outputs": [
    {
     "name": "stdout",
     "output_type": "stream",
     "text": [
      "Python\n",
      "Java\n",
      "Javascript\n",
      "C#\n",
      "C\n",
      "C++\n",
      "PHP\n",
      "R\n",
      "Objective-C\n"
     ]
    }
   ],
   "source": [
    "file = open('languages.txt', 'r', encoding='utf-8')\n",
    "\n",
    "for line in file:\n",
    "    print(line.strip())\n",
    "    \n",
    "file.close()"
   ],
   "metadata": {
    "collapsed": false,
    "ExecuteTime": {
     "end_time": "2024-09-03T07:40:17.633067300Z",
     "start_time": "2024-09-03T07:40:17.599647700Z"
    }
   },
   "id": "71276742f4526f0c"
  },
  {
   "cell_type": "raw",
   "source": [
    "Метод readline() довольно удобен, когда мы хотим управлять процессом чтения из файла, особенно если файл очень большой и его полное считывание может привести к нехватке памяти."
   ],
   "metadata": {
    "collapsed": false
   },
   "id": "5ee7f3cf0cfd5f73"
  },
  {
   "cell_type": "markdown",
   "source": [
    "Метод readlines()"
   ],
   "metadata": {
    "collapsed": false
   },
   "id": "b70e3772f8fe09e1"
  },
  {
   "cell_type": "raw",
   "source": [
    "Файловый метод readlines() считывает все строки из файла и возвращает список из всех считанных строк (одна строка — один элемент списка). При этом, каждая строка в списке заканчивается символом переноса строки  '\\n'😅."
   ],
   "metadata": {
    "collapsed": false
   },
   "id": "44ccdeb483661551"
  },
  {
   "cell_type": "code",
   "execution_count": 24,
   "outputs": [
    {
     "name": "stdout",
     "output_type": "stream",
     "text": [
      "['Python\\n', 'Java\\n', 'Javascript\\n', 'C#\\n', 'C\\n', 'C++\\n', 'PHP\\n', 'R\\n', 'Objective-C']\n"
     ]
    }
   ],
   "source": [
    "file = open('languages.txt', 'r', encoding='utf-8')\n",
    "\n",
    "languages = file.readlines()\n",
    "\n",
    "print(languages)\n",
    "\n",
    "file.close()"
   ],
   "metadata": {
    "collapsed": false,
    "ExecuteTime": {
     "end_time": "2024-09-03T07:42:46.892602300Z",
     "start_time": "2024-09-03T07:42:46.888612700Z"
    }
   },
   "id": "5a77788b92da12fd"
  },
  {
   "cell_type": "raw",
   "source": [
    "считывает содержимое файла languages.txt в переменную languages. В переменной languages будет содержаться список:"
   ],
   "metadata": {
    "collapsed": false
   },
   "id": "da77a2e3f43ad92"
  },
  {
   "cell_type": "raw",
   "source": [
    "['Python\\n', 'Java\\n', 'Javascript\\n', 'C#\\n', 'C\\n', 'C++\\n', 'PHP\\n', 'R\\n', 'Objective-C']"
   ],
   "metadata": {
    "collapsed": false
   },
   "id": "bd1b19fa833a2fa3"
  },
  {
   "cell_type": "raw",
   "source": [
    "Чтобы удалить символ '\\n' можно использовать списочное выражение:"
   ],
   "metadata": {
    "collapsed": false
   },
   "id": "7dbf1f3f46c1373b"
  },
  {
   "cell_type": "code",
   "execution_count": 28,
   "outputs": [
    {
     "name": "stdout",
     "output_type": "stream",
     "text": [
      "['Python', 'Java', 'Javascript', 'C#', 'C', 'C++', 'PHP', 'R', 'Objective-C']\n"
     ]
    }
   ],
   "source": [
    "file = open('languages.txt', 'r', encoding='utf-8')\n",
    "languages = [line.strip() for line in file.readlines()]\n",
    "print(languages)\n",
    "file.close()"
   ],
   "metadata": {
    "collapsed": false,
    "ExecuteTime": {
     "end_time": "2024-09-03T07:45:44.664668600Z",
     "start_time": "2024-09-03T07:45:44.660597900Z"
    }
   },
   "id": "bf4d386d77cffa0f"
  },
  {
   "cell_type": "raw",
   "source": [
    "либо функцию map()"
   ],
   "metadata": {
    "collapsed": false
   },
   "id": "8c38cc50d3997096"
  },
  {
   "cell_type": "code",
   "execution_count": 29,
   "outputs": [
    {
     "name": "stdout",
     "output_type": "stream",
     "text": [
      "['Python', 'Java', 'Javascript', 'C#', 'C', 'C++', 'PHP', 'R', 'Objective-C']\n"
     ]
    }
   ],
   "source": [
    "file = open('languages.txt', 'r', encoding='utf-8')\n",
    "languages = list(map(str.strip, file.readlines()))\n",
    "print(languages)\n",
    "file.close()"
   ],
   "metadata": {
    "collapsed": false,
    "ExecuteTime": {
     "end_time": "2024-09-03T07:46:21.521756400Z",
     "start_time": "2024-09-03T07:46:21.517082400Z"
    }
   },
   "id": "a747652fb5b9675a"
  },
  {
   "cell_type": "raw",
   "source": [
    "либо анонимную функцию:"
   ],
   "metadata": {
    "collapsed": false
   },
   "id": "5d5b929f5ade17d7"
  },
  {
   "cell_type": "code",
   "execution_count": 31,
   "outputs": [
    {
     "name": "stdout",
     "output_type": "stream",
     "text": [
      "Python Java Javascript C# C C++ PHP R Objective-C\n"
     ]
    }
   ],
   "source": [
    "file = open('languages.txt', 'r', encoding='utf-8')\n",
    "languages = list(map(lambda line: line.strip(), file.readlines()))\n",
    "print(*languages)\n",
    "file.close()"
   ],
   "metadata": {
    "collapsed": false,
    "ExecuteTime": {
     "end_time": "2024-09-03T07:47:38.002087800Z",
     "start_time": "2024-09-03T07:47:37.996386100Z"
    }
   },
   "id": "c99ec0b3ea80a645"
  },
  {
   "cell_type": "raw",
   "source": [
    "Если передать в функцию list() ссылку на файловый объект list(file) , получим тот же результат, что при вызове метода file.readlines()"
   ],
   "metadata": {
    "collapsed": false
   },
   "id": "de159eccdb396081"
  },
  {
   "cell_type": "markdown",
   "source": [
    "Примечания"
   ],
   "metadata": {
    "collapsed": false
   },
   "id": "5712d99c263fa7e4"
  },
  {
   "cell_type": "raw",
   "source": [
    "Примечание 1. Язык Python позволяет работать не только с текстовыми, но и с бинарными файлами. Ниже представлены строковые литералы, которые можно использовать для задания режима обработки файла.\n",
    "\n",
    "    Символ   \tРежим\tОписание\n",
    "'t'\tТекстовый режим (значение по умолчанию)\tРабота с текстовым файлом\n",
    "'b'\tБинарный режим\tРабота с бинарными файлами (картинки, звук и т.д.)"
   ],
   "metadata": {
    "collapsed": false
   },
   "id": "3b38ce4efa581b87"
  },
  {
   "cell_type": "raw",
   "source": [
    "Режим обработки файла указывается после режима доступа к файлу.\n",
    "\n",
    "Приведенный ниже код открывает файл file.dat в режиме чтения как бинарный файл."
   ],
   "metadata": {
    "collapsed": false
   },
   "id": "57d6e3dd0390a1f2"
  },
  {
   "cell_type": "code",
   "execution_count": null,
   "outputs": [],
   "source": [
    "file = open('file.dat', 'rb')"
   ],
   "metadata": {
    "collapsed": false
   },
   "id": "f7c97e995a351650"
  },
  {
   "cell_type": "raw",
   "source": [
    "По умолчанию функция open() использует литерал 'rt', то есть файл открывается для чтения в текстовом  режиме."
   ],
   "metadata": {
    "collapsed": false
   },
   "id": "5c03f181edeff9b5"
  },
  {
   "cell_type": "raw",
   "source": [
    "Таким образом, открыть текстовый файл для чтения можно так open('info.txt'), или так open('info.txt', 'r'), или так open('info.txt', 'rt')."
   ],
   "metadata": {
    "collapsed": false
   },
   "id": "738fb6a85a9ba718"
  },
  {
   "cell_type": "raw",
   "source": [
    "Примечание 2. Так как Python — язык с автоматическим управлением памятью, все файлы закрываются автоматически после успешного завершения программы или когда удаляется последняя ссылка на файловый объект. Но важно все равно закрывать файл, как только он перестает быть нужным. Это помогает избегать конфликтов совместного доступа и риска получить испорченный файл, если программа завершится аварийно."
   ],
   "metadata": {
    "collapsed": false
   },
   "id": "d0051f35dc91a189"
  },
  {
   "cell_type": "raw",
   "source": [
    " Файл должен быть закрыт сразу после того, как все нужное из него прочитано или в него записано."
   ],
   "metadata": {
    "collapsed": false
   },
   "id": "d4c6d2ab4a9bc2a6"
  },
  {
   "cell_type": "raw",
   "source": [
    "Примечание 3. Еще раз обратите внимание на то, что в путях до файла используются прямые слеши /. Можно использовать и обратные, но тогда их придется экранировать либо применять модификатор сырой строки r. Кроме того, в unix-подобных операционных системах принято использовать именно прямой слеш."
   ],
   "metadata": {
    "collapsed": false
   },
   "id": "6b2710d1eade60b7"
  },
  {
   "cell_type": "raw",
   "source": [
    "Примечание 4. Существуют специальные символы:\n",
    "\n",
    "\\n – перемещает позицию печати на одну строку вниз;\n",
    "\\r – перемещает позицию печати в крайнее левое положение строки."
   ],
   "metadata": {
    "collapsed": false
   },
   "id": "57791c0a2f8330a4"
  },
  {
   "cell_type": "code",
   "execution_count": 32,
   "outputs": [
    {
     "name": "stdout",
     "output_type": "stream",
     "text": [
      "aaaaaa\n",
      "bb\n"
     ]
    }
   ],
   "source": [
    "print('aaaaaa\\nbb')"
   ],
   "metadata": {
    "collapsed": false,
    "ExecuteTime": {
     "end_time": "2024-09-03T07:53:24.122503Z",
     "start_time": "2024-09-03T07:53:24.095401Z"
    }
   },
   "id": "816e3ac8732ba6be"
  },
  {
   "cell_type": "code",
   "execution_count": 33,
   "outputs": [
    {
     "name": "stdout",
     "output_type": "stream",
     "text": [
      "bbaaaa\n"
     ]
    }
   ],
   "source": [
    "print('aaaaaa\\rbb')"
   ],
   "metadata": {
    "collapsed": false,
    "ExecuteTime": {
     "end_time": "2024-09-03T07:53:32.828272200Z",
     "start_time": "2024-09-03T07:53:32.793818Z"
    }
   },
   "id": "2975243f748c83a5"
  },
  {
   "cell_type": "code",
   "execution_count": 34,
   "outputs": [
    {
     "name": "stdout",
     "output_type": "stream",
     "text": [
      "10\n",
      "13\n"
     ]
    }
   ],
   "source": [
    "print(ord('\\n'))\n",
    "print(ord('\\r'))"
   ],
   "metadata": {
    "collapsed": false,
    "ExecuteTime": {
     "end_time": "2024-09-03T07:53:46.137514400Z",
     "start_time": "2024-09-03T07:53:46.104986900Z"
    }
   },
   "id": "cadea6fcffcc8c67"
  },
  {
   "cell_type": "raw",
   "source": [
    "Примечание 5. После того как файл (file) открыт, можно получить различную относящуюся к нему информацию. Три полезных атрибута (свойства):\n",
    "\n",
    "Атрибут (свойство)\tОписание\n",
    "file.closed\tвозвращает истину (True), если файл закрыт, иначе возвращает ложь (False)\n",
    "file.mode\tвозвращает режим доступа, с помощью которого был открыт файл\n",
    "file.name\tвозвращает имя файла"
   ],
   "metadata": {
    "collapsed": false
   },
   "id": "e67cb190553c0bf9"
  },
  {
   "cell_type": "code",
   "execution_count": 37,
   "outputs": [
    {
     "data": {
      "text/plain": "True"
     },
     "execution_count": 37,
     "metadata": {},
     "output_type": "execute_result"
    }
   ],
   "source": [
    "file1.closed"
   ],
   "metadata": {
    "collapsed": false,
    "ExecuteTime": {
     "end_time": "2024-09-03T07:56:08.002806100Z",
     "start_time": "2024-09-03T07:56:07.980263500Z"
    }
   },
   "id": "2eba469da4207333"
  },
  {
   "cell_type": "code",
   "execution_count": 39,
   "outputs": [
    {
     "data": {
      "text/plain": "'students.txt'"
     },
     "execution_count": 39,
     "metadata": {},
     "output_type": "execute_result"
    }
   ],
   "source": [
    "file1.name"
   ],
   "metadata": {
    "collapsed": false,
    "ExecuteTime": {
     "end_time": "2024-09-03T07:56:29.467886900Z",
     "start_time": "2024-09-03T07:56:29.441082Z"
    }
   },
   "id": "e722079150d5e90"
  },
  {
   "cell_type": "code",
   "execution_count": 40,
   "outputs": [
    {
     "data": {
      "text/plain": "'w'"
     },
     "execution_count": 40,
     "metadata": {},
     "output_type": "execute_result"
    }
   ],
   "source": [
    "file1.mode"
   ],
   "metadata": {
    "collapsed": false,
    "ExecuteTime": {
     "end_time": "2024-09-03T07:56:37.700879900Z",
     "start_time": "2024-09-03T07:56:37.663950Z"
    }
   },
   "id": "e52d8e2613712ae"
  },
  {
   "cell_type": "code",
   "execution_count": 41,
   "outputs": [
    {
     "name": "stdout",
     "output_type": "stream",
     "text": [
      "Help on function open in module io:\n",
      "\n",
      "open(file, mode='r', buffering=-1, encoding=None, errors=None, newline=None, closefd=True, opener=None)\n",
      "    Open file and return a stream.  Raise OSError upon failure.\n",
      "    \n",
      "    file is either a text or byte string giving the name (and the path\n",
      "    if the file isn't in the current working directory) of the file to\n",
      "    be opened or an integer file descriptor of the file to be\n",
      "    wrapped. (If a file descriptor is given, it is closed when the\n",
      "    returned I/O object is closed, unless closefd is set to False.)\n",
      "    \n",
      "    mode is an optional string that specifies the mode in which the file\n",
      "    is opened. It defaults to 'r' which means open for reading in text\n",
      "    mode.  Other common values are 'w' for writing (truncating the file if\n",
      "    it already exists), 'x' for creating and writing to a new file, and\n",
      "    'a' for appending (which on some Unix systems, means that all writes\n",
      "    append to the end of the file regardless of the current seek position).\n",
      "    In text mode, if encoding is not specified the encoding used is platform\n",
      "    dependent: locale.getencoding() is called to get the current locale encoding.\n",
      "    (For reading and writing raw bytes use binary mode and leave encoding\n",
      "    unspecified.) The available modes are:\n",
      "    \n",
      "    ========= ===============================================================\n",
      "    Character Meaning\n",
      "    --------- ---------------------------------------------------------------\n",
      "    'r'       open for reading (default)\n",
      "    'w'       open for writing, truncating the file first\n",
      "    'x'       create a new file and open it for writing\n",
      "    'a'       open for writing, appending to the end of the file if it exists\n",
      "    'b'       binary mode\n",
      "    't'       text mode (default)\n",
      "    '+'       open a disk file for updating (reading and writing)\n",
      "    ========= ===============================================================\n",
      "    \n",
      "    The default mode is 'rt' (open for reading text). For binary random\n",
      "    access, the mode 'w+b' opens and truncates the file to 0 bytes, while\n",
      "    'r+b' opens the file without truncation. The 'x' mode implies 'w' and\n",
      "    raises an `FileExistsError` if the file already exists.\n",
      "    \n",
      "    Python distinguishes between files opened in binary and text modes,\n",
      "    even when the underlying operating system doesn't. Files opened in\n",
      "    binary mode (appending 'b' to the mode argument) return contents as\n",
      "    bytes objects without any decoding. In text mode (the default, or when\n",
      "    't' is appended to the mode argument), the contents of the file are\n",
      "    returned as strings, the bytes having been first decoded using a\n",
      "    platform-dependent encoding or using the specified encoding if given.\n",
      "    \n",
      "    buffering is an optional integer used to set the buffering policy.\n",
      "    Pass 0 to switch buffering off (only allowed in binary mode), 1 to select\n",
      "    line buffering (only usable in text mode), and an integer > 1 to indicate\n",
      "    the size of a fixed-size chunk buffer.  When no buffering argument is\n",
      "    given, the default buffering policy works as follows:\n",
      "    \n",
      "    * Binary files are buffered in fixed-size chunks; the size of the buffer\n",
      "      is chosen using a heuristic trying to determine the underlying device's\n",
      "      \"block size\" and falling back on `io.DEFAULT_BUFFER_SIZE`.\n",
      "      On many systems, the buffer will typically be 4096 or 8192 bytes long.\n",
      "    \n",
      "    * \"Interactive\" text files (files for which isatty() returns True)\n",
      "      use line buffering.  Other text files use the policy described above\n",
      "      for binary files.\n",
      "    \n",
      "    encoding is the name of the encoding used to decode or encode the\n",
      "    file. This should only be used in text mode. The default encoding is\n",
      "    platform dependent, but any encoding supported by Python can be\n",
      "    passed.  See the codecs module for the list of supported encodings.\n",
      "    \n",
      "    errors is an optional string that specifies how encoding errors are to\n",
      "    be handled---this argument should not be used in binary mode. Pass\n",
      "    'strict' to raise a ValueError exception if there is an encoding error\n",
      "    (the default of None has the same effect), or pass 'ignore' to ignore\n",
      "    errors. (Note that ignoring encoding errors can lead to data loss.)\n",
      "    See the documentation for codecs.register or run 'help(codecs.Codec)'\n",
      "    for a list of the permitted encoding error strings.\n",
      "    \n",
      "    newline controls how universal newlines works (it only applies to text\n",
      "    mode). It can be None, '', '\\n', '\\r', and '\\r\\n'.  It works as\n",
      "    follows:\n",
      "    \n",
      "    * On input, if newline is None, universal newlines mode is\n",
      "      enabled. Lines in the input can end in '\\n', '\\r', or '\\r\\n', and\n",
      "      these are translated into '\\n' before being returned to the\n",
      "      caller. If it is '', universal newline mode is enabled, but line\n",
      "      endings are returned to the caller untranslated. If it has any of\n",
      "      the other legal values, input lines are only terminated by the given\n",
      "      string, and the line ending is returned to the caller untranslated.\n",
      "    \n",
      "    * On output, if newline is None, any '\\n' characters written are\n",
      "      translated to the system default line separator, os.linesep. If\n",
      "      newline is '' or '\\n', no translation takes place. If newline is any\n",
      "      of the other legal values, any '\\n' characters written are translated\n",
      "      to the given string.\n",
      "    \n",
      "    If closefd is False, the underlying file descriptor will be kept open\n",
      "    when the file is closed. This does not work when a file name is given\n",
      "    and must be True in that case.\n",
      "    \n",
      "    A custom opener can be used by passing a callable as *opener*. The\n",
      "    underlying file descriptor for the file object is then obtained by\n",
      "    calling *opener* with (*file*, *flags*). *opener* must return an open\n",
      "    file descriptor (passing os.open as *opener* results in functionality\n",
      "    similar to passing None).\n",
      "    \n",
      "    open() returns a file object whose type depends on the mode, and\n",
      "    through which the standard file operations such as reading and writing\n",
      "    are performed. When open() is used to open a file in a text mode ('w',\n",
      "    'r', 'wt', 'rt', etc.), it returns a TextIOWrapper. When used to open\n",
      "    a file in a binary mode, the returned class varies: in read binary\n",
      "    mode, it returns a BufferedReader; in write binary and append binary\n",
      "    modes, it returns a BufferedWriter, and in read/write mode, it returns\n",
      "    a BufferedRandom.\n",
      "    \n",
      "    It is also possible to use a string or bytearray as a file for both\n",
      "    reading and writing. For strings StringIO can be used like a file\n",
      "    opened in a text mode, and for bytes a BytesIO can be used like a file\n",
      "    opened in a binary mode.\n"
     ]
    }
   ],
   "source": [
    "help(open)"
   ],
   "metadata": {
    "collapsed": false,
    "ExecuteTime": {
     "end_time": "2024-09-03T07:58:41.066479300Z",
     "start_time": "2024-09-03T07:58:41.059689500Z"
    }
   },
   "id": "6fc09087c2d55ced"
  },
  {
   "cell_type": "code",
   "execution_count": 42,
   "outputs": [
    {
     "name": "stdout",
     "output_type": "stream",
     "text": [
      "Help on built-in function print in module builtins:\n",
      "\n",
      "print(*args, sep=' ', end='\\n', file=None, flush=False)\n",
      "    Prints the values to a stream, or to sys.stdout by default.\n",
      "    \n",
      "    sep\n",
      "      string inserted between values, default a space.\n",
      "    end\n",
      "      string appended after the last value, default a newline.\n",
      "    file\n",
      "      a file-like object (stream); defaults to the current sys.stdout.\n",
      "    flush\n",
      "      whether to forcibly flush the stream.\n"
     ]
    }
   ],
   "source": [
    "help(print)"
   ],
   "metadata": {
    "collapsed": false,
    "ExecuteTime": {
     "end_time": "2024-09-03T07:59:20.567575200Z",
     "start_time": "2024-09-03T07:59:20.561568300Z"
    }
   },
   "id": "dd7a2068841407f0"
  },
  {
   "cell_type": "code",
   "execution_count": 43,
   "outputs": [
    {
     "name": "stdout",
     "output_type": "stream",
     "text": [
      "Help on class map in module builtins:\n",
      "\n",
      "class map(object)\n",
      " |  map(func, *iterables) --> map object\n",
      " |  \n",
      " |  Make an iterator that computes the function using arguments from\n",
      " |  each of the iterables.  Stops when the shortest iterable is exhausted.\n",
      " |  \n",
      " |  Methods defined here:\n",
      " |  \n",
      " |  __getattribute__(self, name, /)\n",
      " |      Return getattr(self, name).\n",
      " |  \n",
      " |  __iter__(self, /)\n",
      " |      Implement iter(self).\n",
      " |  \n",
      " |  __next__(self, /)\n",
      " |      Implement next(self).\n",
      " |  \n",
      " |  __reduce__(...)\n",
      " |      Return state information for pickling.\n",
      " |  \n",
      " |  ----------------------------------------------------------------------\n",
      " |  Static methods defined here:\n",
      " |  \n",
      " |  __new__(*args, **kwargs) from builtins.type\n",
      " |      Create and return a new object.  See help(type) for accurate signature.\n"
     ]
    }
   ],
   "source": [
    "help(map)"
   ],
   "metadata": {
    "collapsed": false,
    "ExecuteTime": {
     "end_time": "2024-09-03T08:00:20.916553600Z",
     "start_time": "2024-09-03T08:00:20.882640600Z"
    }
   },
   "id": "cd8089ff4d92e273"
  },
  {
   "cell_type": "raw",
   "source": [
    "На вход программе подается строка с именем текстового файла. Напишите программу, которая выводит на экран его содержимое.\n",
    "\n",
    "Формат входных данных\n",
    "На вход программе подается строка текста с именем существующего текстового файла.\n",
    "\n",
    "Формат выходных данных\n",
    "Программа должна вывести содержимое указанного файла.\n",
    "\n",
    "Примечание 1. Считайте, что исполняемая программа и указанный файл находятся в одной папке.\n",
    "\n",
    "Примечание 2. Не забудьте закрыть файл 🙂."
   ],
   "metadata": {
    "collapsed": false
   },
   "id": "8a65edc2a3995609"
  },
  {
   "cell_type": "code",
   "execution_count": 56,
   "outputs": [
    {
     "name": "stdout",
     "output_type": "stream",
     "text": [
      "Python\n",
      "Java\n",
      "Javascript\n",
      "C#\n",
      "C\n",
      "C++\n",
      "PHP\n",
      "R\n",
      "Objective-C\n"
     ]
    }
   ],
   "source": [
    "s = 'languages.txt'\n",
    "# s = input()\n",
    "\n",
    "file = open(s, 'r', encoding='utf-8')\n",
    "file = open(input(), 'r', encoding='utf-8')\n",
    "languages = list(map(lambda line: line.strip(), file.readlines()))\n",
    "print(*list(languages), sep='\\n')\n",
    "\n",
    "file.close()"
   ],
   "metadata": {
    "collapsed": false,
    "ExecuteTime": {
     "end_time": "2024-09-03T08:15:58.450986100Z",
     "start_time": "2024-09-03T08:15:58.443583200Z"
    }
   },
   "id": "d9b17a40f7475a78"
  },
  {
   "cell_type": "code",
   "execution_count": 57,
   "outputs": [
    {
     "name": "stdout",
     "output_type": "stream",
     "text": [
      "Python\n",
      "Java\n",
      "Javascript\n",
      "C#\n",
      "C\n",
      "C++\n",
      "PHP\n",
      "R\n",
      "Objective-C\n"
     ]
    }
   ],
   "source": [
    "file = open(s)\n",
    "print(file.read())\n",
    "file.close()"
   ],
   "metadata": {
    "collapsed": false,
    "ExecuteTime": {
     "end_time": "2024-09-03T08:17:22.206400700Z",
     "start_time": "2024-09-03T08:17:22.145815400Z"
    }
   },
   "id": "75416f4cbdb6d9fb"
  },
  {
   "cell_type": "raw",
   "source": [
    "На вход программе подается строка с именем текстового файла. Напишите программу, которая выводит на экран его предпоследнюю строку.\n",
    "\n",
    "Формат входных данных\n",
    "На вход программе подается строка текста с именем существующего текстового файла.\n",
    "\n",
    "Формат выходных данных\n",
    "Программа должна вывести предпоследнюю строку указанного файла.\n",
    "\n",
    "Примечание 1. Считайте, что исполняемая программа и указанный файл находятся в одной папке.\n",
    "\n",
    "Примечание 2. Гарантируется, что файл содержит хотя бы две строки.\n",
    "\n",
    "Примечание 3. Не забудьте закрыть файл 🙂."
   ],
   "metadata": {
    "collapsed": false
   },
   "id": "96d4af5cee4fd823"
  },
  {
   "cell_type": "code",
   "execution_count": 72,
   "outputs": [
    {
     "name": "stdout",
     "output_type": "stream",
     "text": [
      "R\n"
     ]
    }
   ],
   "source": [
    "# file = open(input())\n",
    "file = open(s)\n",
    "l = list(map(lambda line: line.strip(), file.readlines()))\n",
    "# print(l)\n",
    "print(l[-2])\n",
    "file.close()"
   ],
   "metadata": {
    "collapsed": false,
    "ExecuteTime": {
     "end_time": "2024-09-03T08:49:07.699098600Z",
     "start_time": "2024-09-03T08:49:07.693434100Z"
    }
   },
   "id": "c24fa6fb97c8e6d9"
  },
  {
   "cell_type": "code",
   "execution_count": null,
   "outputs": [],
   "source": [
    "file = open(input())\n",
    "print(file.readlines()[-2])\n",
    "file.close()"
   ],
   "metadata": {
    "collapsed": false
   },
   "id": "fbdbcd8a61551977"
  },
  {
   "cell_type": "raw",
   "source": [
    "Вам доступен текстовый файл lines.txt из нескольких строк. Напишите программу, которая выводит на экран случайную строку из этого файла.\n",
    "\n",
    "Формат входных данных\n",
    "На вход программе ничего не подается.\n",
    "\n",
    "Формат выходных данных\n",
    "Программа должна вывести случайную строку указанного файла.\n",
    "\n",
    "Примечание 1. Считайте, что исполняемая программа и указанный файл находятся в одной папке.\n",
    "\n",
    "Примечание 2. Гарантируется, что файл содержит хотя бы одну строку.\n",
    "\n",
    "Примечание 3. Не забудьте закрыть файл 🙂."
   ],
   "metadata": {
    "collapsed": false
   },
   "id": "fc3e55ffb7aa2910"
  },
  {
   "cell_type": "code",
   "execution_count": 95,
   "outputs": [
    {
     "name": "stdout",
     "output_type": "stream",
     "text": [
      "Иногда среднее тире называют коротким тире\n"
     ]
    }
   ],
   "source": [
    "from random import randrange\n",
    "\n",
    "file = open('lines.txt', 'r', encoding='utf-8')\n",
    "content = list(map(lambda line: line.strip(), file.readlines()))\n",
    "x = len(content)\n",
    "# print(content)\n",
    "print(content[randrange(x)])\n",
    "file.close()"
   ],
   "metadata": {
    "collapsed": false,
    "ExecuteTime": {
     "end_time": "2024-09-03T08:59:58.883848400Z",
     "start_time": "2024-09-03T08:59:58.878993300Z"
    }
   },
   "id": "77697957accc7198"
  },
  {
   "cell_type": "raw",
   "source": [
    "Вам доступен текстовый файл numbers.txt из двух строк, на каждой из них записано целое число. Напишите программу, выводящую на экран сумму этих чисел.\n",
    "\n",
    "Формат входных данных\n",
    "На вход программе ничего не подается.\n",
    "\n",
    "Формат выходных данных\n",
    "Программа должна вывести сумму чисел из указанного файла.\n",
    "\n",
    "Примечание 1. Считайте, что исполняемая программа и указанный файл находятся в одной папке.\n",
    "\n",
    "Примечание 2. Не забудьте закрыть файл 🙂."
   ],
   "metadata": {
    "collapsed": false
   },
   "id": "958199397e1746eb"
  },
  {
   "cell_type": "code",
   "execution_count": 98,
   "outputs": [
    {
     "name": "stdout",
     "output_type": "stream",
     "text": [
      "491000626\n"
     ]
    }
   ],
   "source": [
    "file = open('numbers.txt')\n",
    "\n",
    "content = list(map(lambda line: int(line.strip()), file.readlines()))\n",
    "\n",
    "print(sum(content))\n",
    "file.close()"
   ],
   "metadata": {
    "collapsed": false,
    "ExecuteTime": {
     "end_time": "2024-09-03T09:06:01.286041400Z",
     "start_time": "2024-09-03T09:06:01.279178300Z"
    }
   },
   "id": "b4d9417be6df7bd7"
  },
  {
   "cell_type": "raw",
   "source": [
    "Вам доступен текстовый файл nums.txt. В файле записано два целых числа, они могут быть разделены символами пробела и конца строки. Напишите программу, выводящую на экран сумму этих чисел.\n",
    "\n",
    "Формат входных данных\n",
    "На вход программе ничего не подается.\n",
    "\n",
    "Формат выходных данных\n",
    "Программа должна вывести сумму чисел из указанного файла.\n",
    "\n",
    "Примечание 1. Считайте, что исполняемая программа и указанный файл находятся в одной папке.\n",
    "\n",
    "Примечание 2. Не забудьте закрыть файл 🙂."
   ],
   "metadata": {
    "collapsed": false
   },
   "id": "cb94a9eda57239c1"
  },
  {
   "cell_type": "code",
   "execution_count": 107,
   "outputs": [
    {
     "name": "stdout",
     "output_type": "stream",
     "text": [
      "453491626\n"
     ]
    }
   ],
   "source": [
    "file = open('nums.txt')\n",
    "\n",
    "content = list(map(lambda line: line.strip(), file.readlines()))\n",
    "numeric_content = [int(x) for x in content if x]\n",
    "print(sum(numeric_content))\n",
    "file.close()"
   ],
   "metadata": {
    "collapsed": false,
    "ExecuteTime": {
     "end_time": "2024-09-03T10:12:53.774493700Z",
     "start_time": "2024-09-03T10:12:53.767323200Z"
    }
   },
   "id": "edd74c7b61f33dae"
  },
  {
   "cell_type": "code",
   "execution_count": 108,
   "outputs": [
    {
     "name": "stdout",
     "output_type": "stream",
     "text": [
      "453491626\n"
     ]
    }
   ],
   "source": [
    "file = open('nums.txt')\n",
    "\n",
    "print(sum(map(int, file.read().split())))\n",
    "\n",
    "file.close()"
   ],
   "metadata": {
    "collapsed": false,
    "ExecuteTime": {
     "end_time": "2024-09-03T10:13:49.368917700Z",
     "start_time": "2024-09-03T10:13:49.361875300Z"
    }
   },
   "id": "ed23c5d7649415cb"
  },
  {
   "cell_type": "raw",
   "source": [
    "Вам доступен текстовый файл prices.txt с информацией о заказе из интернет магазина. В нем каждая строка с помощью символа табуляции (\\t) разделена на три колонки:\n",
    "\n",
    "наименование товара;\n",
    "количество товара (целое число);\n",
    "цена (в рублях) товара за 1 шт (целое число).\n",
    "Напишите программу, выводящую на экран общую стоимость заказа.\n",
    "\n",
    "Формат входных данных\n",
    "На вход программе ничего не подается.\n",
    "\n",
    "Формат выходных данных\n",
    "Программа должна вывести общую стоимость заказа.\n",
    "\n",
    "Примечание 1. Считайте, что исполняемая программа и указанный файл находятся в одной папке.\n",
    "\n",
    "Примечание 2. Не забудьте закрыть файл 🙂."
   ],
   "metadata": {
    "collapsed": false
   },
   "id": "47b234dac8277b18"
  },
  {
   "cell_type": "code",
   "execution_count": 125,
   "outputs": [
    {
     "name": "stdout",
     "output_type": "stream",
     "text": [
      "1286800\n"
     ]
    }
   ],
   "source": [
    "file = open('prices.txt', encoding='utf-8')\n",
    "\n",
    "content = list(map(lambda line: line.strip().split('\\t'), file.readlines()))\n",
    "# sm = 0\n",
    "# for i in content:\n",
    "#     sm += int(i[1]) * int(i[2])\n",
    "    \n",
    "print(sum([int(i[1]) * int(i[2]) for i in content]))\n",
    "\n",
    "# print(sm)\n",
    "file.close()"
   ],
   "metadata": {
    "collapsed": false,
    "ExecuteTime": {
     "end_time": "2024-09-03T10:22:19.953341200Z",
     "start_time": "2024-09-03T10:22:19.945702900Z"
    }
   },
   "id": "c5d67955cef335ab"
  },
  {
   "cell_type": "code",
   "execution_count": 120,
   "outputs": [
    {
     "name": "stdout",
     "output_type": "stream",
     "text": [
      "1286800\n"
     ]
    }
   ],
   "source": [
    "file = open('prices.txt')\n",
    "lines = map(str.split, file)\n",
    "print(sum(map(lambda line: int(line[1]) * int(line[2]), lines)))\n",
    "file.close()"
   ],
   "metadata": {
    "collapsed": false,
    "ExecuteTime": {
     "end_time": "2024-09-03T10:20:30.833733900Z",
     "start_time": "2024-09-03T10:20:30.826541500Z"
    }
   },
   "id": "169605af362b318b"
  },
  {
   "cell_type": "code",
   "execution_count": null,
   "outputs": [],
   "source": [],
   "metadata": {
    "collapsed": false
   },
   "id": "940d8bfcebea9c1"
  }
 ],
 "metadata": {
  "kernelspec": {
   "display_name": "Python 3",
   "language": "python",
   "name": "python3"
  },
  "language_info": {
   "codemirror_mode": {
    "name": "ipython",
    "version": 2
   },
   "file_extension": ".py",
   "mimetype": "text/x-python",
   "name": "python",
   "nbconvert_exporter": "python",
   "pygments_lexer": "ipython2",
   "version": "2.7.6"
  }
 },
 "nbformat": 4,
 "nbformat_minor": 5
}
