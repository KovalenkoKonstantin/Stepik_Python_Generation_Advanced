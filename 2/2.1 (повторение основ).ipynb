{
 "cells": [
  {
   "cell_type": "raw",
   "source": [
    "На вход программе подаются два целых числа a и b. Напишите программу, которая выводит:\n",
    "\n",
    "сумму чисел a и b;\n",
    "разность чисел a и b;\n",
    "произведение чисел a и b;\n",
    "частное чисел a и b;\n",
    "целую часть от деления числа a на b;\n",
    "остаток от деления числа a на b;\n",
    "корень квадратный из суммы их 10-х степеней: корень квадратный из 𝑎 в степени 10 + 𝑏 в степени 10\n",
    "Формат входных данных\n",
    "На вход программе подаются два целых числа a и 𝑏(𝑏≠0), каждое на отдельной строке.\n",
    "\n",
    "Формат выходных данных\n",
    "Программа должна вывести результаты математических операций в соответствии с условием задачи."
   ],
   "metadata": {
    "collapsed": false,
    "pycharm": {
     "name": "#%% raw\n"
    }
   }
  },
  {
   "cell_type": "code",
   "execution_count": 3,
   "outputs": [
    {
     "name": "stdout",
     "output_type": "stream",
     "text": [
      "1\n",
      "2\n"
     ]
    }
   ],
   "source": [
    "a = int(input())\n",
    "b = int(input())\n",
    "\n",
    "print(a)\n",
    "print(b)"
   ],
   "metadata": {
    "collapsed": false,
    "pycharm": {
     "name": "#%%\n"
    }
   }
  }
 ],
 "metadata": {
  "kernelspec": {
   "display_name": "Python 3",
   "language": "python",
   "name": "python3"
  },
  "language_info": {
   "codemirror_mode": {
    "name": "ipython",
    "version": 2
   },
   "file_extension": ".py",
   "mimetype": "text/x-python",
   "name": "python",
   "nbconvert_exporter": "python",
   "pygments_lexer": "ipython2",
   "version": "2.7.6"
  }
 },
 "nbformat": 4,
 "nbformat_minor": 0
}