{
 "cells": [
  {
   "cell_type": "raw",
   "source": [
    "Дан набор точек на координатной плоскости. Необходимо подсчитать и вывести количество точек, лежащих в каждой координатной четверти."
   ],
   "metadata": {
    "collapsed": false
   },
   "id": "d98cbd9698fd4b28"
  },
  {
   "cell_type": "raw",
   "source": [
    "Формат входных данных\n",
    "В первой строке записано количество точек. Каждая следующая строка состоит из двух целых чисел — координат точки (сначала абсцисса – x, затем ордината – y), разделенных символом пробела.\n",
    "\n",
    "Формат выходных данных\n",
    "Программа должна вывести количество точек, лежащих в каждой координатной четверти, как в примерах.\n",
    "\n",
    "Примечание. Учтите, что точки, лежащие на осях координат, не принято относить к какой-либо координатной четверти."
   ],
   "metadata": {
    "collapsed": false
   },
   "id": "710882b03a7fbc35"
  },
  {
   "cell_type": "code",
   "execution_count": null,
   "outputs": [],
   "source": [
    "n = int(input())\n",
    "\n",
    "one = 0\n",
    "two = 0\n",
    "thr = 0\n",
    "four = 0\n",
    "\n",
    "for _ in range(n):\n",
    "    s = input().split()\n",
    "\n",
    "    if int(s[0]) > 0 and int(s[1]) > 0:\n",
    "        one += 1\n",
    "    elif int(s[0]) > 0 and int(s[1]) < 0:\n",
    "        four += 1\n",
    "    elif int(s[0]) < 0 and int(s[1]) < 0:\n",
    "        thr += 1\n",
    "    elif int(s[0]) < 0 and int(s[1]) > 0:\n",
    "        two += 1\n",
    "\n",
    "print(f'Первая четверть: {one}',\n",
    "      f'Вторая четверть: {two}',\n",
    "      f'Третья четверть: {thr}',\n",
    "      f'Четвертая четверть: {four}', sep='\\n')"
   ],
   "metadata": {
    "collapsed": false
   },
   "id": "753b019c30ee5e8e"
  },
  {
   "cell_type": "code",
   "execution_count": null,
   "outputs": [],
   "source": [
    "c = 4 * [0] + [int(input())]\n",
    "for _ in range(c[4]):\n",
    "    x, y = map(int, input().split())\n",
    "    c[x < 0 if y > 0 else 2 + (x > 0)] += not 0 in [x, y]\n",
    "[print(f\"{['Первая', 'Вторая', 'Третья', 'Четвертая'][i]} четверть: {c[i]}\") for i in range(4)]"
   ],
   "metadata": {
    "collapsed": false
   },
   "id": "c0a8f0654c50caf1"
  },
  {
   "cell_type": "code",
   "execution_count": null,
   "outputs": [],
   "source": [
    "xy = [[0, 0], [0, 0]]\n",
    "for i in range(int(input())):\n",
    "    x, y = map(int, input().split())\n",
    "    if x != 0 and y != 0:\n",
    "        xy[x > 0][y > 0] += 1\n",
    "print(f'Первая четверть: {xy[1][1]}')\n",
    "print(f'Вторая четверть: {xy[0][1]}')\n",
    "print(f'Третья четверть: {xy[0][0]}')\n",
    "print(f'Четвертая четверть: {xy[1][0]}')"
   ],
   "metadata": {
    "collapsed": false
   },
   "id": "dc2ddc155c7388bc"
  },
  {
   "cell_type": "raw",
   "source": [
    "На вход программе подается строка текста из натуральных чисел. Из неё формируется список чисел. Напишите программу подсчета количества чисел, которые больше предшествующего им в этом списке числа, то есть, стоят вслед за меньшим числом. \n",
    "\n",
    "Формат входных данных\n",
    "На вход программе подается строка текста из разделенных пробелами натуральных чисел.\n",
    "\n",
    "Формат выходных данных\n",
    "Программа должна вывести одно число – количество элементов списка, больших предыдущего."
   ],
   "metadata": {
    "collapsed": false
   },
   "id": "68c426925d9539b5"
  },
  {
   "cell_type": "code",
   "execution_count": null,
   "outputs": [],
   "source": [
    "s = input().split()\n",
    "cnt = 0\n",
    "for i, chr in enumerate(s):\n",
    "    if i == len(s) - 1:\n",
    "        break\n",
    "    if int(s[i + 1]) > int(s[i]):\n",
    "        cnt += 1\n",
    "\n",
    "print(cnt)"
   ],
   "metadata": {
    "collapsed": false
   },
   "id": "d5b9fafcd043a8d9"
  },
  {
   "cell_type": "raw",
   "source": [
    "На вход программе подается строка текста из натуральных чисел. Из элементов строки формируется список чисел. Напишите программу, которая меняет местами соседние элементы списка (a[0] c a[1], a[2] c a[3] и т.д.). Если в списке нечетное количество элементов, то последний остается на своем месте.\n",
    "\n",
    "Формат входных данных\n",
    "На вход программе подается строка текста, содержащая натуральные числа, разделенные пробелами.\n",
    "\n",
    "Формат выходных данных\n",
    "Программа должна вывести измененный список, разделяя его элементы одним пробелом."
   ],
   "metadata": {
    "collapsed": false
   },
   "id": "c0475a5dd74c4e09"
  },
  {
   "cell_type": "code",
   "execution_count": null,
   "outputs": [],
   "source": [
    "s = input().split()\n",
    "\n",
    "l = []\n",
    "for i in range(0, len(s) + 1, 2):\n",
    "    if i + 1 >= len(s):\n",
    "        break\n",
    "    l.append(s[i + 1])\n",
    "    l.append(s[i])\n",
    "\n",
    "arg = len(s) % 2\n",
    "if arg:\n",
    "    print(arg)\n",
    "    l.append(s[-arg])\n",
    "\n",
    "print(*l, sep=' ')"
   ],
   "metadata": {
    "collapsed": false
   },
   "id": "d0314ec7be3b5f3"
  },
  {
   "cell_type": "code",
   "execution_count": null,
   "outputs": [],
   "source": [
    "numbers = input().split()\n",
    "\n",
    "for i in range(0, len(numbers) - 1, 2):\n",
    "    numbers[i], numbers[i + 1] = numbers[i + 1], numbers[i]\n",
    "\n",
    "print(*numbers)"
   ],
   "metadata": {
    "collapsed": false
   },
   "id": "99b7244714fc2edb"
  },
  {
   "cell_type": "code",
   "execution_count": null,
   "outputs": [],
   "source": [
    "s = list(map(int, input().split()))\n",
    "s[:-1:2], s[1::2] = s[1::2], s[:-1:2]\n",
    "print(*s)"
   ],
   "metadata": {
    "collapsed": false
   },
   "id": "8fc5f313531506d0"
  },
  {
   "cell_type": "raw",
   "source": [
    "На вход программе подается строка текста из натуральных чисел. Из элементов строки формируется список чисел. Напишите программу циклического сдвига элементов списка направо, когда последний элемент становится первым, а остальные сдвигаются на одну позицию вперед, в сторону увеличения индексов.\n",
    "\n",
    "Формат входных данных\n",
    "На вход программе подается строка текста из разделенных пробелами натуральных чисел.\n",
    "\n",
    "Формат выходных данных\n",
    "Программа должна вывести элементы измененного списка с циклическим сдвигом, разделяя его элементы одним пробелом."
   ],
   "metadata": {
    "collapsed": false
   },
   "id": "d275df75922bb54e"
  },
  {
   "cell_type": "code",
   "execution_count": null,
   "outputs": [],
   "source": [
    "def swap(string):\n",
    "    l1 = []\n",
    "    l = string.split()\n",
    "    l1.append(l[-1])\n",
    "    l1.extend(l[:-1])\n",
    "    return print(*l1, sep=' ')\n",
    "\n",
    "\n",
    "swap(input())"
   ],
   "metadata": {
    "collapsed": false
   },
   "id": "88307e7a4fe8675"
  },
  {
   "cell_type": "code",
   "execution_count": null,
   "outputs": [],
   "source": [
    "seq = input().split()\n",
    "new_seq = [seq[-1]] + seq[:-1]\n",
    "\n",
    "print(*new_seq)"
   ],
   "metadata": {
    "collapsed": false
   },
   "id": "3a145a96a819c13f"
  },
  {
   "cell_type": "raw",
   "source": [
    "На вход программе подается строка текста, содержащая натуральные числа, расположенные по неубыванию. Из строки формируется список чисел. Напишите программу для подсчета количества разных элементов в списке.\n",
    "\n",
    "Формат входных данных\n",
    "На вход программе подается строка текста, содержащая натуральные числа, разделенные символом пробела, расположенные по неубыванию.\n",
    "\n",
    "Формат выходных данных\n",
    "Программа должна вывести одно число – количество различных элементов списка."
   ],
   "metadata": {
    "collapsed": false
   },
   "id": "3a12101860aa7ae0"
  },
  {
   "cell_type": "code",
   "execution_count": null,
   "outputs": [],
   "source": [
    "s = input().split()\n",
    "cnt = 1\n",
    "for i in range(0, len(s) - 1):\n",
    "    if int(s[i]) != int(s[i + 1]):\n",
    "        cnt += 1\n",
    "print(cnt)"
   ],
   "metadata": {
    "collapsed": false
   },
   "id": "dd0858cc59bd717f"
  },
  {
   "cell_type": "code",
   "execution_count": null,
   "outputs": [],
   "source": [
    "# скажи что-то из будущего\n",
    "print(len(set(input().split())))"
   ],
   "metadata": {
    "collapsed": false
   },
   "id": "13c7f0c9198d6e62"
  },
  {
   "cell_type": "raw",
   "source": [
    "Напишите программу для определения, является ли число произведением двух чисел из данного набора. Программа должна выводить результат в виде ответа «ДА» или «НЕТ».\n",
    "\n",
    "Формат входных данных\n",
    "В первой строке подаётся натуральное число n(0<n<1000) – количество чисел в наборе. В последующих 𝑛 строках вводятся целые числа, составляющие набор (могут повторяться). Затем следует целое число, которое является или не является произведением двух каких-то чисел из набора.\n",
    "\n",
    "Формат выходных данных\n",
    "Программа должна вывести «ДА» или «НЕТ» в соответствии с условием задачи.\n",
    "\n",
    "Примечание 1. Само на себя число из набора умножиться не может. Другими словами, два множителя должны иметь разные индексы в наборе.\n",
    "\n",
    "Примечание 2. Для решения задачи используйте вложенные циклы."
   ],
   "metadata": {
    "collapsed": false
   },
   "id": "fe2d3acf03d24462"
  },
  {
   "cell_type": "code",
   "execution_count": null,
   "outputs": [],
   "source": [
    "n = int(input())\n",
    "l = []\n",
    "l1 = []\n",
    "\n",
    "for _ in range(n):\n",
    "    l.append(int(input()))\n",
    "    \n",
    "print(l)\n",
    "    \n",
    "check = int(input())\n",
    "\n",
    "for i in range(len(l)):\n",
    "    for j in range(len(l)):        \n",
    "        if i != j:\n",
    "            l1.append(l[i]*l[j])\n",
    "            \n",
    "print('ДА' if check in l1 else 'НЕТ')   "
   ],
   "metadata": {
    "collapsed": false
   },
   "id": "3b387e69c34a68a7"
  },
  {
   "cell_type": "raw",
   "source": [
    "Тимур и Руслан пытаются разделить фронт работы по курсу \"Python для профессионалов\". Для этого они решили сыграть в камень, ножницы и бумагу. Помогите ребятам бросить честный жребий и определить, кто будет делать очередной модуль нового курса.\n",
    "\n",
    "Формат входных данных\n",
    "На вход программе подаются две строки текста, содержащие слова \"камень\", \"ножницы\" или \"бумага\". На первой строке записан выбор Тимура, на второй – выбор Руслана.\n",
    "\n",
    "Формат выходных данных\n",
    "Программа должна вывести результат жеребьёвки, то есть кто победит: Тимур, Руслан или же они сыграют вничью.\n",
    "\n",
    "Примечание. Правила игры стандартные: камень побеждает ножницы, но проигрывает бумаге, а ножницы побеждают бумагу."
   ],
   "metadata": {
    "collapsed": false
   },
   "id": "d261b5d045411a16"
  },
  {
   "cell_type": "code",
   "execution_count": 15,
   "outputs": [
    {
     "name": "stdout",
     "output_type": "stream",
     "text": [
      "камень\n",
      "камень\n",
      "ничья\n"
     ]
    }
   ],
   "source": [
    "# import random\n",
    "l = ['камень', 'ножницы', 'бумага']\n",
    "# tim = random.choice(['камень', 'ножницы', 'бумага'])\n",
    "# rus = random.choice(['камень', 'ножницы', 'бумага'])\n",
    "tim = input()\n",
    "rus = input()\n",
    "\n",
    "# print(tim)\n",
    "# print(rus)\n",
    "\n",
    "print('ничья' if tim == rus else ('Руслан' if (rus == l[2] and tim == l[0]) or (rus == l[1] and tim == l[2]) or (rus == l[0] and tim == l[1]) else 'Тимур'))"
   ],
   "metadata": {
    "collapsed": false,
    "ExecuteTime": {
     "end_time": "2024-07-02T13:25:34.654509800Z",
     "start_time": "2024-07-02T13:25:34.650517300Z"
    }
   },
   "id": "7ce6567e07d159e7"
  }
 ],
 "metadata": {
  "kernelspec": {
   "display_name": "Python 3",
   "language": "python",
   "name": "python3"
  },
  "language_info": {
   "codemirror_mode": {
    "name": "ipython",
    "version": 2
   },
   "file_extension": ".py",
   "mimetype": "text/x-python",
   "name": "python",
   "nbconvert_exporter": "python",
   "pygments_lexer": "ipython2",
   "version": "2.7.6"
  }
 },
 "nbformat": 4,
 "nbformat_minor": 5
}
