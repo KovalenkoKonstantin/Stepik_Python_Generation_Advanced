{
 "cells": [
  {
   "cell_type": "raw",
   "source": [
    "Дан набор точек на координатной плоскости. Необходимо подсчитать и вывести количество точек, лежащих в каждой координатной четверти."
   ],
   "metadata": {
    "collapsed": false
   },
   "id": "d98cbd9698fd4b28"
  },
  {
   "cell_type": "raw",
   "source": [
    "Формат входных данных\n",
    "В первой строке записано количество точек. Каждая следующая строка состоит из двух целых чисел — координат точки (сначала абсцисса – x, затем ордината – y), разделенных символом пробела.\n",
    "\n",
    "Формат выходных данных\n",
    "Программа должна вывести количество точек, лежащих в каждой координатной четверти, как в примерах.\n",
    "\n",
    "Примечание. Учтите, что точки, лежащие на осях координат, не принято относить к какой-либо координатной четверти."
   ],
   "metadata": {
    "collapsed": false
   },
   "id": "710882b03a7fbc35"
  },
  {
   "cell_type": "code",
   "execution_count": null,
   "outputs": [],
   "source": [
    "n = int(input())\n",
    "\n",
    "one = 0\n",
    "two = 0\n",
    "thr = 0\n",
    "four = 0\n",
    "\n",
    "for _ in range(n):\n",
    "    s = input().split()\n",
    "\n",
    "    if int(s[0]) > 0 and int(s[1]) > 0:\n",
    "        one += 1\n",
    "    elif int(s[0]) > 0 and int(s[1]) < 0:\n",
    "        four += 1\n",
    "    elif int(s[0]) < 0 and int(s[1]) < 0:\n",
    "        thr += 1\n",
    "    elif int(s[0]) < 0 and int(s[1]) > 0:\n",
    "        two += 1\n",
    "\n",
    "print(f'Первая четверть: {one}',\n",
    "      f'Вторая четверть: {two}',\n",
    "      f'Третья четверть: {thr}',\n",
    "      f'Четвертая четверть: {four}', sep='\\n')"
   ],
   "metadata": {
    "collapsed": false
   },
   "id": "753b019c30ee5e8e"
  },
  {
   "cell_type": "code",
   "execution_count": null,
   "outputs": [],
   "source": [
    "c = 4 * [0] + [int(input())]\n",
    "for _ in range(c[4]):\n",
    "    x, y = map(int, input().split())\n",
    "    c[x < 0 if y > 0 else 2 + (x > 0)] += not 0 in [x, y]\n",
    "[print(f\"{['Первая', 'Вторая', 'Третья', 'Четвертая'][i]} четверть: {c[i]}\") for i in range(4)]"
   ],
   "metadata": {
    "collapsed": false
   },
   "id": "c0a8f0654c50caf1"
  },
  {
   "cell_type": "code",
   "execution_count": null,
   "outputs": [],
   "source": [
    "xy = [[0, 0], [0, 0]]\n",
    "for i in range(int(input())):\n",
    "    x, y = map(int, input().split())\n",
    "    if x != 0 and y != 0:\n",
    "        xy[x > 0][y > 0] += 1\n",
    "print(f'Первая четверть: {xy[1][1]}')\n",
    "print(f'Вторая четверть: {xy[0][1]}')\n",
    "print(f'Третья четверть: {xy[0][0]}')\n",
    "print(f'Четвертая четверть: {xy[1][0]}')"
   ],
   "metadata": {
    "collapsed": false
   },
   "id": "dc2ddc155c7388bc"
  },
  {
   "cell_type": "raw",
   "source": [
    "На вход программе подается строка текста из натуральных чисел. Из неё формируется список чисел. Напишите программу подсчета количества чисел, которые больше предшествующего им в этом списке числа, то есть, стоят вслед за меньшим числом. \n",
    "\n",
    "Формат входных данных\n",
    "На вход программе подается строка текста из разделенных пробелами натуральных чисел.\n",
    "\n",
    "Формат выходных данных\n",
    "Программа должна вывести одно число – количество элементов списка, больших предыдущего."
   ],
   "metadata": {
    "collapsed": false
   },
   "id": "68c426925d9539b5"
  },
  {
   "cell_type": "code",
   "execution_count": null,
   "outputs": [],
   "source": [
    "s = input().split()\n",
    "cnt = 0\n",
    "for i, chr in enumerate(s):\n",
    "    if i == len(s) - 1:\n",
    "        break\n",
    "    if int(s[i + 1]) > int(s[i]):\n",
    "        cnt += 1\n",
    "        \n",
    "print(cnt)"
   ],
   "metadata": {
    "collapsed": false
   },
   "id": "d5b9fafcd043a8d9"
  }
 ],
 "metadata": {
  "kernelspec": {
   "display_name": "Python 3",
   "language": "python",
   "name": "python3"
  },
  "language_info": {
   "codemirror_mode": {
    "name": "ipython",
    "version": 2
   },
   "file_extension": ".py",
   "mimetype": "text/x-python",
   "name": "python",
   "nbconvert_exporter": "python",
   "pygments_lexer": "ipython2",
   "version": "2.7.6"
  }
 },
 "nbformat": 4,
 "nbformat_minor": 5
}
